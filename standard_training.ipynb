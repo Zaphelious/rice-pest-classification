{
 "cells": [
  {
   "metadata": {
    "ExecuteTime": {
     "end_time": "2025-08-09T05:57:16.510324Z",
     "start_time": "2025-08-09T05:57:15.085216Z"
    }
   },
   "cell_type": "code",
   "source": [
    "import torch\n",
    "\n",
    "print(torch.version.cuda)\n",
    "print(torch.cuda.get_device_name(0))"
   ],
   "id": "cb5a725a97da07f1",
   "outputs": [
    {
     "name": "stdout",
     "output_type": "stream",
     "text": [
      "12.8\n",
      "NVIDIA GeForce RTX 4060 Laptop GPU\n"
     ]
    }
   ],
   "execution_count": 1
  },
  {
   "metadata": {
    "ExecuteTime": {
     "end_time": "2025-08-09T05:57:27.457040Z",
     "start_time": "2025-08-09T05:57:27.435975Z"
    }
   },
   "cell_type": "code",
   "source": [
    "import torch\n",
    "\n",
    "# Check and report VRAM usage\n",
    "# torch.cuda.memory_allocated() gives the current tensor memory usage in bytes.\n",
    "allocated_bytes = torch.cuda.memory_allocated('cuda')\n",
    "allocated_mb = allocated_bytes / (1024 * 1024)\n",
    "\n",
    "reserved_bytes = torch.cuda.memory_reserved('cuda')\n",
    "reserved_mb = reserved_bytes / (1024 * 1024)\n",
    "\n",
    "print(\"\\n--- VRAM USAGE REPORT ---\")\n",
    "print(f\"Memory Allocated: {allocated_mb:.2f} MB\")\n",
    "print(f\"Memory Reserved:  {reserved_mb:.2f} MB\")\n",
    "print(\"-------------------------\\n\")\n",
    "#"
   ],
   "id": "23d50c3f254a094",
   "outputs": [
    {
     "name": "stdout",
     "output_type": "stream",
     "text": [
      "\n",
      "--- VRAM USAGE REPORT ---\n",
      "Memory Allocated: 0.00 MB\n",
      "Memory Reserved:  0.00 MB\n",
      "-------------------------\n",
      "\n"
     ]
    }
   ],
   "execution_count": 2
  },
  {
   "metadata": {
    "collapsed": true,
    "ExecuteTime": {
     "end_time": "2025-08-09T05:57:31.646990Z",
     "start_time": "2025-08-09T05:57:31.122973Z"
    }
   },
   "cell_type": "code",
   "source": [
    "import albumentations as A\n",
    "from albumentations.pytorch import ToTensorV2\n",
    "\n",
    "training_pipeline = A.Compose([\n",
    "    A.Resize(height=224, width=224),\n",
    "    A.SquareSymmetry(p=0.5),\n",
    "    A.RandomCrop(height=180, width=180,  p=1.0),\n",
    "    A.Resize(height=224, width=224),\n",
    "    A.RandomRain(slant_range=(-15,15), drop_length=15, drop_width=1, rain_type=\"default\", blur_value=7 ,p=0.3),\n",
    "    A.RandomBrightnessContrast(brightness_limit=(-0.3, 0.3), contrast_limit=(-0.2, 0.2), p=0.3),\n",
    "    A.Rotate(limit=45, p=0.4),\n",
    "    A.GaussNoise(std_range=(0.1, 0.2), per_channel=True  ,p=0.3),\n",
    "    A.ColorJitter(brightness=(0.8, 1.1), contrast=(0.8, 1.1), saturation=(0.8, 1.1), hue=(-0.5, 0.5)),\n",
    "    A.OneOf([\n",
    "        A.CoarseDropout(num_holes_range=(1, 8), hole_height_range=(0.1, 0.25),\n",
    "                        hole_width_range=(0.1, 0.25), fill=0, p=0.3),\n",
    "        A.GridDropout(ratio=0.5, random_offset=True,  p=0.3)\n",
    "    ]),\n",
    "    A.Normalize(mean=(0.485, 0.456, 0.406),std=(0.229, 0.224, 0.225)),\n",
    "    ToTensorV2()\n",
    "])\n",
    "\n",
    "validation_pipeline = A.Compose([\n",
    "    A.Resize(height=224, width=224),\n",
    "    A.Normalize(mean=(0.485, 0.456, 0.406), std=(0.229, 0.224, 0.225)),\n",
    "    ToTensorV2()\n",
    "])"
   ],
   "id": "initial_id",
   "outputs": [],
   "execution_count": 3
  },
  {
   "metadata": {
    "ExecuteTime": {
     "end_time": "2025-08-09T05:57:34.836922Z",
     "start_time": "2025-08-09T05:57:33.038596Z"
    }
   },
   "cell_type": "code",
   "source": [
    "import cv2\n",
    "from torchvision import datasets\n",
    "\n",
    "class CustomDataset(datasets.ImageFolder):\n",
    "\n",
    "    def __getitem__(self, index):\n",
    "\n",
    "        path, target = self.samples[index]\n",
    "\n",
    "        image = cv2.imread(path)\n",
    "        image = cv2.cvtColor(image, cv2.COLOR_BGR2RGB)\n",
    "\n",
    "        if self.transform:\n",
    "            augmented = self.transform(image=image)\n",
    "            image = augmented['image']\n",
    "\n",
    "        return image, target\n",
    "\n",
    "    def __len__(self):\n",
    "        return len(self.samples)"
   ],
   "id": "6daf511998047715",
   "outputs": [],
   "execution_count": 4
  },
  {
   "metadata": {
    "ExecuteTime": {
     "end_time": "2025-08-09T05:57:35.967479Z",
     "start_time": "2025-08-09T05:57:35.960668Z"
    }
   },
   "cell_type": "code",
   "source": [
    "import torchvision.models as models\n",
    "import torch.nn as nn\n",
    "\n",
    "class PestClassifierMobileNetV2(nn.Module):\n",
    "\n",
    "    def __init__(self, num_classes):\n",
    "        super(PestClassifierMobileNetV2, self).__init__()\n",
    "\n",
    "        # get model\n",
    "        self.base_model = models.mobilenet_v2(weights='MobileNet_V2_Weights.IMAGENET1K_V2')\n",
    "\n",
    "        # Froze feature extraction layer to retain weights.\n",
    "        for params in self.base_model.parameters():\n",
    "            params.requires_grad = False\n",
    "\n",
    "        # get number of features\n",
    "        num_filters = self.base_model.classifier[1].in_features\n",
    "\n",
    "        # Hyperparameter tuning: new layer for 6 rice pests.\n",
    "        self.base_model.classifier[1] = nn.Linear(num_filters, num_classes)\n",
    "\n",
    "    # Forward propagation\n",
    "    def forward(self, x):\n",
    "\n",
    "       features = self.base_model.features(x)\n",
    "\n",
    "       features = F.adaptive_avg_pool2d(features, output_size=(1, 1)).reshape(features.shape[0], -1)\n",
    "\n",
    "       features = self.base_model.classifier(features)\n",
    "\n",
    "       return features\n",
    "\n",
    "    def unfreeze_last_block(self):\n",
    "\n",
    "        print(\"\\nUnfreezing last block of feature extraction.\")\n",
    "\n",
    "        for param in self.base_model.features[-1].parameters():\n",
    "            param.requires_grad = True\n",
    "\n"
   ],
   "id": "8172f748d43e758a",
   "outputs": [],
   "execution_count": 5
  },
  {
   "metadata": {
    "ExecuteTime": {
     "end_time": "2025-08-09T05:58:58.916015Z",
     "start_time": "2025-08-09T05:58:58.906918Z"
    }
   },
   "cell_type": "code",
   "source": [
    "import torch\n",
    "from tqdm import tqdm\n",
    "\n",
    "def train_and_test(model, optimizer, criterion, train_dataloader, test_dataloader, num_epoch, device):\n",
    "    train_losses = []\n",
    "    test_losses = []\n",
    "    accuracies = []\n",
    "    best_accuracy = 0.0\n",
    "\n",
    "    for epoch in range(num_epoch):\n",
    "        # --- TRAINING PHASE ---\n",
    "        model.train()\n",
    "        running_train_loss = 0.0\n",
    "        train_pbar = tqdm(train_dataloader, desc=f\"Train epoch: {epoch+1}\")\n",
    "        for data, labels in train_pbar:\n",
    "            data, labels = data.to(device), labels.to(device)\n",
    "            optimizer.zero_grad()\n",
    "            output = model(data)\n",
    "            loss = criterion(output, labels)\n",
    "            loss.backward()\n",
    "            optimizer.step()\n",
    "            running_train_loss += loss.item()\n",
    "        training_loss = running_train_loss / len(train_dataloader)\n",
    "        train_losses.append(training_loss)\n",
    "\n",
    "        # --- TESTING PHASE ---\n",
    "        model.eval()\n",
    "        running_test_loss = 0.0\n",
    "        correct_predictions = 0\n",
    "        total_samples = 0\n",
    "\n",
    "        with torch.no_grad():\n",
    "            for inputs, labels in tqdm(test_dataloader, desc=f\"Test epoch: {epoch+1}\"):\n",
    "                inputs, labels = inputs.to(device), labels.to(device)\n",
    "\n",
    "                output_loss = model(inputs)\n",
    "                loss = criterion(output_loss, labels)\n",
    "                running_test_loss += loss.item()\n",
    "                _, predicted = torch.max(output_loss.data, 1)\n",
    "                total_samples += labels.size(0)\n",
    "                correct_predictions += (predicted == labels).sum().item()\n",
    "\n",
    "        testing_loss = running_test_loss / len(test_dataloader)\n",
    "        test_losses.append(testing_loss)\n",
    "        accuracy = 100 * correct_predictions / total_samples\n",
    "        accuracies.append(accuracy)\n",
    "\n",
    "        epoch_summary = f'Epoch {epoch+1}/{num_epoch} | Train Loss: {training_loss:.4f} | Test Loss: {testing_loss:.4f} | Accuracy: {accuracy:.2f}%'\n",
    "\n",
    "        if device.type == 'cuda':\n",
    "            allocated_gb = torch.cuda.memory_allocated() / (1024 ** 3)\n",
    "            reserved_gb = torch.cuda.memory_reserved() / (1024 ** 3)\n",
    "            epoch_summary += f' | GPU Memory (Alloc/Reserved): {allocated_gb:.2f}/{reserved_gb:.3f} GB'\n",
    "\n",
    "        tqdm.write(epoch_summary)\n",
    "\n",
    "        if accuracy > best_accuracy:\n",
    "            best_accuracy = accuracy\n",
    "            torch.save(model.state_dict(), 'models/SMobileNetV3_rice_pest_classificationV2pth')\n",
    "\n",
    "    tqdm.write('Training done!')\n",
    "\n",
    "    return {'train_loss': train_losses, 'test_loss': test_losses, 'accuracy': accuracies}, best_accuracy"
   ],
   "id": "fca4e6f7abec2fbd",
   "outputs": [],
   "execution_count": 12
  },
  {
   "metadata": {
    "ExecuteTime": {
     "end_time": "2025-08-09T05:57:43.543034Z",
     "start_time": "2025-08-09T05:57:43.534967Z"
    }
   },
   "cell_type": "code",
   "source": [
    "import seaborn as sns\n",
    "import matplotlib.pyplot as plt\n",
    "import pandas as pd\n",
    "import numpy as np\n",
    "\n",
    "def plot_training_result(*results):\n",
    "\n",
    "    full_train_loss = []\n",
    "    full_test_loss = []\n",
    "\n",
    "    for res in results:\n",
    "        full_train_loss.extend(res.get('train_loss', []))\n",
    "        full_test_loss.extend(res.get('test_loss', []))\n",
    "\n",
    "    total_epochs = len(full_train_loss)\n",
    "    if total_epochs == 0:\n",
    "        print(\"No data to plot.\")\n",
    "        return\n",
    "\n",
    "    epochs = range(1, total_epochs + 1)\n",
    "\n",
    "    data = {\n",
    "        'Epoch': epochs,\n",
    "        'Training Loss': full_train_loss,\n",
    "        'Testing Loss': full_test_loss,\n",
    "    }\n",
    "\n",
    "    df = pd.DataFrame(data)\n",
    "\n",
    "    df_long = df.melt(id_vars=['Epoch'], var_name='Loss Type', value_name='Loss')\n",
    "\n",
    "    plt.figure(figsize=(10, 6))\n",
    "    sns.lineplot(data=df_long, x='Epoch', y='Loss', hue='Loss Type', marker='o')\n",
    "\n",
    "    plt.title('Training and Testing Loss Comparison')\n",
    "    plt.xlabel('Epoch')\n",
    "    plt.ylabel('Loss')\n",
    "    plt.legend()\n",
    "    plt.grid(True)\n",
    "    plt.show()\n",
    "\n",
    "\n",
    "def plot_accuracy(*results):\n",
    "\n",
    "    full_accuracy = []\n",
    "\n",
    "    for result in results:\n",
    "        accuracy = result.get('accuracy', [])\n",
    "        full_accuracy.extend(accuracy)\n",
    "\n",
    "    total_epochs = len(full_accuracy)\n",
    "    if total_epochs == 0:\n",
    "        print(\"No accuracy data to plot.\")\n",
    "        return\n",
    "\n",
    "    epochs = range(1, total_epochs + 1)\n",
    "\n",
    "    plt.figure(figsize=(10, 6))\n",
    "    plt.plot(epochs, full_accuracy, label='Accuracy', marker='o', color='g')\n",
    "\n",
    "    plt.title('Accuracy Evaluation')\n",
    "    plt.xlabel('Epoch')\n",
    "    plt.ylabel('Accuracy (%)')\n",
    "    plt.legend()\n",
    "    plt.grid(True)\n",
    "    plt.show()\n",
    "\n",
    "\n",
    "def save_historical_data(*histories):\n",
    "\n",
    "    full_train_loss = []\n",
    "    full_test_loss = []\n",
    "    full_accuracy = []\n",
    "\n",
    "    for history in histories:\n",
    "\n",
    "        full_train_loss.extend(history.get('train_loss', []))\n",
    "        full_test_loss.extend(history.get('test_loss', []))\n",
    "        full_accuracy.extend(history.get('accuracy', []))\n",
    "\n",
    "    total_epochs = len(full_train_loss)\n",
    "\n",
    "    data_dict = {\n",
    "        'epoch': total_epochs,\n",
    "        'train_loss': full_train_loss,\n",
    "        'test_loss': full_test_loss,\n",
    "        'accuracy': full_accuracy,\n",
    "    }\n",
    "\n",
    "    history_df = pd.DataFrame(data_dict)\n",
    "    history_df.to_csv('training_history_standard.csv', index=False)\n",
    "\n",
    "    print(\"Historical data saved successfully!\")\n",
    "\n",
    "# def save_single_data(data):\n",
    "\n",
    "# sample_test_accuracies = np.linspace(0.60, 0.95, 20) - np.random.rand(20) * 0.08\n",
    "# plot_accuracy(accuracy=sample_test_accuracies)\n"
   ],
   "id": "74773810c269080d",
   "outputs": [],
   "execution_count": 7
  },
  {
   "metadata": {
    "ExecuteTime": {
     "end_time": "2025-08-09T05:57:48.094004Z",
     "start_time": "2025-08-09T05:57:47.849606Z"
    }
   },
   "cell_type": "code",
   "source": [
    "# --- Example of how to call the new dynamic functions ---\n",
    "\n",
    "# You would have these history dictionaries from your training stages\n",
    "history1 = {'train_loss': [4.5, 3.6], 'test_loss': [4.4, 3.5], 'accuracy': [60.1, 65.2]}\n",
    "history2 = {'train_loss': [3.5, 3.4], 'test_loss': [3.5, 3.4], 'accuracy': [68.3, 70.1]}\n",
    "history3 = {'train_loss': [2.7, 2.6], 'test_loss': [2.1, 2.4], 'accuracy': [74.3, 78.1]}\n",
    "\n",
    "# You can now call the functions with any number of histories\n",
    "plot_training_result(history1, history2, history2)\n",
    "plot_accuracy(history1, history2, history2)"
   ],
   "id": "47126bf01b04d37b",
   "outputs": [
    {
     "data": {
      "text/plain": [
       "<Figure size 1000x600 with 1 Axes>"
      ],
      "image/png": "[encoded data removed]"
     },
     "metadata": {},
     "output_type": "display_data"
    },
    {
     "data": {
      "text/plain": [
       "<Figure size 1000x600 with 1 Axes>"
      ],
      "image/png": "[encoded data removed]"
     },
     "metadata": {},
     "output_type": "display_data"
    }
   ],
   "execution_count": 8
  },
  {
   "metadata": {
    "ExecuteTime": {
     "end_time": "2025-08-09T05:22:33.350460Z",
     "start_time": "2025-08-09T05:22:33.347160Z"
    }
   },
   "cell_type": "code",
   "source": [
    "num = [1,2,3,4,5,6]\n",
    "\n",
    "print(num[:-1])\n",
    "\n",
    "for i, num_len in enumerate(num[:-1]):\n",
    "    print(num_len)"
   ],
   "id": "b9ec4c36505f189e",
   "outputs": [
    {
     "name": "stdout",
     "output_type": "stream",
     "text": [
      "[1, 2, 3, 4, 5]\n",
      "1\n",
      "2\n",
      "3\n",
      "4\n",
      "5\n"
     ]
    }
   ],
   "execution_count": 67
  },
  {
   "metadata": {
    "ExecuteTime": {
     "end_time": "2025-08-09T05:57:57.212350Z",
     "start_time": "2025-08-09T05:57:57.171034Z"
    }
   },
   "cell_type": "code",
   "source": [
    "from torch.utils.data import DataLoader\n",
    "\n",
    "train_set = CustomDataset(root='datasets/train', transform=training_pipeline)\n",
    "train_loader = DataLoader(train_set, batch_size=128, shuffle=True)\n",
    "test_set = CustomDataset(root='datasets/test', transform=validation_pipeline)\n",
    "test_loader = DataLoader(test_set, batch_size=64, shuffle=True)\n",
    "\n",
    "classes = train_set.classes"
   ],
   "id": "4fd20dd312f838ff",
   "outputs": [],
   "execution_count": 9
  },
  {
   "metadata": {
    "ExecuteTime": {
     "end_time": "2025-08-09T07:21:51.449611Z",
     "start_time": "2025-08-09T05:59:31.541988Z"
    }
   },
   "cell_type": "code",
   "source": [
    "import torch.optim as optim\n",
    "\n",
    "hardware = torch.device('cuda' if   torch.cuda.is_available() else 'cpu')\n",
    "classes = 6\n",
    "learning_rate = 1e-4\n",
    "weight_decay = 1e-2\n",
    "num_epochs = 128\n",
    "criterion = nn.CrossEntropyLoss()\n",
    "\n",
    "model = PestClassifierMobileNetV2(num_classes=classes).to(hardware)\n",
    "\n",
    "\n",
    "# Phase 1\n",
    "optimizer = optim.AdamW(filter(lambda p: p.requires_grad, model.parameters()), lr=learning_rate, weight_decay=weight_decay)\n",
    "\n",
    "result_1, accuracies = train_and_test(model=model, optimizer=optimizer, criterion=criterion,train_dataloader=train_loader, test_dataloader=test_loader, num_epoch=64, device=hardware)\n",
    "\n",
    "# Phase 2\n",
    "optimizer_2 = optim.AdamW(filter(lambda p: p.requires_grad, model.parameters()), lr=learning_rate, weight_decay=weight_decay)\n",
    "\n",
    "model.unfreeze_last_block()\n",
    "print(\"\\nPhase 2 Training\\n\")\n",
    "\n",
    "result_2, accuracies_2 = train_and_test(model=model, optimizer=optimizer, criterion=criterion,train_dataloader=train_loader, test_dataloader=test_loader, num_epoch=64, device=hardware)\n",
    "\n",
    "\n",
    "plot_training_result(result_1,result_2)\n",
    "plot_accuracy(result_1,result_2)\n",
    "save_historical_data(result_1,result_2)"
   ],
   "id": "42228f67409bda4c",
   "outputs": [
    {
     "name": "stderr",
     "output_type": "stream",
     "text": [
      "Train epoch: 1: 100%|██████████| 59/59 [00:29<00:00,  1.98it/s]\n",
      "Test epoch: 1: 100%|██████████| 34/34 [00:06<00:00,  5.59it/s]\n"
     ]
    },
    {
     "name": "stdout",
     "output_type": "stream",
     "text": [
      "Epoch 1/64 | Train Loss: 1.6953 | Test Loss: 1.5965 | Accuracy: 35.04% | GPU Memory (Alloc/Reserved): 0.14/1.830 GB\n"
     ]
    },
    {
     "name": "stderr",
     "output_type": "stream",
     "text": [
      "Train epoch: 2: 100%|██████████| 59/59 [00:26<00:00,  2.19it/s]\n",
      "Test epoch: 2: 100%|██████████| 34/34 [00:04<00:00,  7.05it/s]\n"
     ]
    },
    {
     "name": "stdout",
     "output_type": "stream",
     "text": [
      "Epoch 2/64 | Train Loss: 1.6067 | Test Loss: 1.5186 | Accuracy: 46.58% | GPU Memory (Alloc/Reserved): 0.14/1.830 GB\n"
     ]
    },
    {
     "name": "stderr",
     "output_type": "stream",
     "text": [
      "Train epoch: 3: 100%|██████████| 59/59 [00:26<00:00,  2.23it/s]\n",
      "Test epoch: 3: 100%|██████████| 34/34 [00:04<00:00,  7.11it/s]\n"
     ]
    },
    {
     "name": "stdout",
     "output_type": "stream",
     "text": [
      "Epoch 3/64 | Train Loss: 1.5679 | Test Loss: 1.4636 | Accuracy: 52.02% | GPU Memory (Alloc/Reserved): 0.14/1.830 GB\n"
     ]
    },
    {
     "name": "stderr",
     "output_type": "stream",
     "text": [
      "Train epoch: 4: 100%|██████████| 59/59 [00:26<00:00,  2.19it/s]\n",
      "Test epoch: 4: 100%|██████████| 34/34 [00:04<00:00,  6.87it/s]\n"
     ]
    },
    {
     "name": "stdout",
     "output_type": "stream",
     "text": [
      "Epoch 4/64 | Train Loss: 1.5369 | Test Loss: 1.4082 | Accuracy: 56.05% | GPU Memory (Alloc/Reserved): 0.14/1.830 GB\n"
     ]
    },
    {
     "name": "stderr",
     "output_type": "stream",
     "text": [
      "Train epoch: 5: 100%|██████████| 59/59 [00:26<00:00,  2.20it/s]\n",
      "Test epoch: 5: 100%|██████████| 34/34 [00:04<00:00,  7.05it/s]\n"
     ]
    },
    {
     "name": "stdout",
     "output_type": "stream",
     "text": [
      "Epoch 5/64 | Train Loss: 1.5124 | Test Loss: 1.3640 | Accuracy: 58.26% | GPU Memory (Alloc/Reserved): 0.14/1.830 GB\n"
     ]
    },
    {
     "name": "stderr",
     "output_type": "stream",
     "text": [
      "Train epoch: 6: 100%|██████████| 59/59 [00:26<00:00,  2.21it/s]\n",
      "Test epoch: 6: 100%|██████████| 34/34 [00:04<00:00,  7.08it/s]\n"
     ]
    },
    {
     "name": "stdout",
     "output_type": "stream",
     "text": [
      "Epoch 6/64 | Train Loss: 1.4849 | Test Loss: 1.3257 | Accuracy: 60.88% | GPU Memory (Alloc/Reserved): 0.14/1.830 GB\n"
     ]
    },
    {
     "name": "stderr",
     "output_type": "stream",
     "text": [
      "Train epoch: 7: 100%|██████████| 59/59 [00:26<00:00,  2.20it/s]\n",
      "Test epoch: 7: 100%|██████████| 34/34 [00:04<00:00,  7.03it/s]\n"
     ]
    },
    {
     "name": "stdout",
     "output_type": "stream",
     "text": [
      "Epoch 7/64 | Train Loss: 1.4722 | Test Loss: 1.2890 | Accuracy: 62.29% | GPU Memory (Alloc/Reserved): 0.14/1.830 GB\n"
     ]
    },
    {
     "name": "stderr",
     "output_type": "stream",
     "text": [
      "Train epoch: 8: 100%|██████████| 59/59 [00:26<00:00,  2.20it/s]\n",
      "Test epoch: 8: 100%|██████████| 34/34 [00:04<00:00,  7.10it/s]\n"
     ]
    },
    {
     "name": "stdout",
     "output_type": "stream",
     "text": [
      "Epoch 8/64 | Train Loss: 1.4489 | Test Loss: 1.2591 | Accuracy: 63.13% | GPU Memory (Alloc/Reserved): 0.14/1.830 GB\n"
     ]
    },
    {
     "name": "stderr",
     "output_type": "stream",
     "text": [
      "Train epoch: 9: 100%|██████████| 59/59 [00:26<00:00,  2.21it/s]\n",
      "Test epoch: 9: 100%|██████████| 34/34 [00:04<00:00,  7.10it/s]\n"
     ]
    },
    {
     "name": "stdout",
     "output_type": "stream",
     "text": [
      "Epoch 9/64 | Train Loss: 1.4317 | Test Loss: 1.2304 | Accuracy: 64.26% | GPU Memory (Alloc/Reserved): 0.14/1.830 GB\n"
     ]
    },
    {
     "name": "stderr",
     "output_type": "stream",
     "text": [
      "Train epoch: 10: 100%|██████████| 59/59 [00:26<00:00,  2.22it/s]\n",
      "Test epoch: 10: 100%|██████████| 34/34 [00:04<00:00,  7.11it/s]\n"
     ]
    },
    {
     "name": "stdout",
     "output_type": "stream",
     "text": [
      "Epoch 10/64 | Train Loss: 1.4271 | Test Loss: 1.2097 | Accuracy: 65.20% | GPU Memory (Alloc/Reserved): 0.14/1.830 GB\n"
     ]
    },
    {
     "name": "stderr",
     "output_type": "stream",
     "text": [
      "Train epoch: 11: 100%|██████████| 59/59 [00:26<00:00,  2.19it/s]\n",
      "Test epoch: 11: 100%|██████████| 34/34 [00:04<00:00,  6.99it/s]\n"
     ]
    },
    {
     "name": "stdout",
     "output_type": "stream",
     "text": [
      "Epoch 11/64 | Train Loss: 1.4039 | Test Loss: 1.1769 | Accuracy: 65.24% | GPU Memory (Alloc/Reserved): 0.14/1.830 GB\n"
     ]
    },
    {
     "name": "stderr",
     "output_type": "stream",
     "text": [
      "Train epoch: 12: 100%|██████████| 59/59 [00:26<00:00,  2.19it/s]\n",
      "Test epoch: 12: 100%|██████████| 34/34 [00:04<00:00,  7.08it/s]\n"
     ]
    },
    {
     "name": "stdout",
     "output_type": "stream",
     "text": [
      "Epoch 12/64 | Train Loss: 1.3928 | Test Loss: 1.1590 | Accuracy: 66.46% | GPU Memory (Alloc/Reserved): 0.14/1.830 GB\n"
     ]
    },
    {
     "name": "stderr",
     "output_type": "stream",
     "text": [
      "Train epoch: 13: 100%|██████████| 59/59 [00:26<00:00,  2.21it/s]\n",
      "Test epoch: 13: 100%|██████████| 34/34 [00:04<00:00,  7.00it/s]\n"
     ]
    },
    {
     "name": "stdout",
     "output_type": "stream",
     "text": [
      "Epoch 13/64 | Train Loss: 1.3834 | Test Loss: 1.1309 | Accuracy: 66.98% | GPU Memory (Alloc/Reserved): 0.14/1.830 GB\n"
     ]
    },
    {
     "name": "stderr",
     "output_type": "stream",
     "text": [
      "Train epoch: 14: 100%|██████████| 59/59 [00:26<00:00,  2.19it/s]\n",
      "Test epoch: 14: 100%|██████████| 34/34 [00:04<00:00,  7.13it/s]\n"
     ]
    },
    {
     "name": "stdout",
     "output_type": "stream",
     "text": [
      "Epoch 14/64 | Train Loss: 1.3629 | Test Loss: 1.1164 | Accuracy: 67.35% | GPU Memory (Alloc/Reserved): 0.14/1.830 GB\n"
     ]
    },
    {
     "name": "stderr",
     "output_type": "stream",
     "text": [
      "Train epoch: 15: 100%|██████████| 59/59 [00:27<00:00,  2.18it/s]\n",
      "Test epoch: 15: 100%|██████████| 34/34 [00:04<00:00,  7.05it/s]\n"
     ]
    },
    {
     "name": "stdout",
     "output_type": "stream",
     "text": [
      "Epoch 15/64 | Train Loss: 1.3668 | Test Loss: 1.1071 | Accuracy: 68.20% | GPU Memory (Alloc/Reserved): 0.14/1.830 GB\n"
     ]
    },
    {
     "name": "stderr",
     "output_type": "stream",
     "text": [
      "Train epoch: 16: 100%|██████████| 59/59 [00:26<00:00,  2.21it/s]\n",
      "Test epoch: 16: 100%|██████████| 34/34 [00:04<00:00,  7.07it/s]\n"
     ]
    },
    {
     "name": "stdout",
     "output_type": "stream",
     "text": [
      "Epoch 16/64 | Train Loss: 1.3551 | Test Loss: 1.0810 | Accuracy: 68.43% | GPU Memory (Alloc/Reserved): 0.14/1.830 GB\n"
     ]
    },
    {
     "name": "stderr",
     "output_type": "stream",
     "text": [
      "Train epoch: 17: 100%|██████████| 59/59 [00:26<00:00,  2.21it/s]\n",
      "Test epoch: 17: 100%|██████████| 34/34 [00:04<00:00,  7.11it/s]\n"
     ]
    },
    {
     "name": "stdout",
     "output_type": "stream",
     "text": [
      "Epoch 17/64 | Train Loss: 1.3486 | Test Loss: 1.0698 | Accuracy: 69.18% | GPU Memory (Alloc/Reserved): 0.14/1.830 GB\n"
     ]
    },
    {
     "name": "stderr",
     "output_type": "stream",
     "text": [
      "Train epoch: 18: 100%|██████████| 59/59 [00:27<00:00,  2.18it/s]\n",
      "Test epoch: 18: 100%|██████████| 34/34 [00:04<00:00,  7.05it/s]\n"
     ]
    },
    {
     "name": "stdout",
     "output_type": "stream",
     "text": [
      "Epoch 18/64 | Train Loss: 1.3431 | Test Loss: 1.0573 | Accuracy: 69.23% | GPU Memory (Alloc/Reserved): 0.14/1.830 GB\n"
     ]
    },
    {
     "name": "stderr",
     "output_type": "stream",
     "text": [
      "Train epoch: 19: 100%|██████████| 59/59 [00:26<00:00,  2.19it/s]\n",
      "Test epoch: 19: 100%|██████████| 34/34 [00:04<00:00,  7.08it/s]\n"
     ]
    },
    {
     "name": "stdout",
     "output_type": "stream",
     "text": [
      "Epoch 19/64 | Train Loss: 1.3395 | Test Loss: 1.0437 | Accuracy: 70.08% | GPU Memory (Alloc/Reserved): 0.14/1.830 GB\n"
     ]
    },
    {
     "name": "stderr",
     "output_type": "stream",
     "text": [
      "Train epoch: 20: 100%|██████████| 59/59 [00:26<00:00,  2.21it/s]\n",
      "Test epoch: 20: 100%|██████████| 34/34 [00:04<00:00,  7.15it/s]\n"
     ]
    },
    {
     "name": "stdout",
     "output_type": "stream",
     "text": [
      "Epoch 20/64 | Train Loss: 1.3281 | Test Loss: 1.0352 | Accuracy: 70.03% | GPU Memory (Alloc/Reserved): 0.14/1.830 GB\n"
     ]
    },
    {
     "name": "stderr",
     "output_type": "stream",
     "text": [
      "Train epoch: 21: 100%|██████████| 59/59 [00:26<00:00,  2.20it/s]\n",
      "Test epoch: 21: 100%|██████████| 34/34 [00:04<00:00,  7.09it/s]\n"
     ]
    },
    {
     "name": "stdout",
     "output_type": "stream",
     "text": [
      "Epoch 21/64 | Train Loss: 1.3210 | Test Loss: 1.0184 | Accuracy: 70.73% | GPU Memory (Alloc/Reserved): 0.14/1.830 GB\n"
     ]
    },
    {
     "name": "stderr",
     "output_type": "stream",
     "text": [
      "Train epoch: 22: 100%|██████████| 59/59 [00:27<00:00,  2.15it/s]\n",
      "Test epoch: 22: 100%|██████████| 34/34 [00:04<00:00,  7.02it/s]\n"
     ]
    },
    {
     "name": "stdout",
     "output_type": "stream",
     "text": [
      "Epoch 22/64 | Train Loss: 1.3076 | Test Loss: 1.0040 | Accuracy: 71.11% | GPU Memory (Alloc/Reserved): 0.14/1.830 GB\n"
     ]
    },
    {
     "name": "stderr",
     "output_type": "stream",
     "text": [
      "Train epoch: 23: 100%|██████████| 59/59 [00:27<00:00,  2.17it/s]\n",
      "Test epoch: 23: 100%|██████████| 34/34 [00:04<00:00,  7.05it/s]\n"
     ]
    },
    {
     "name": "stdout",
     "output_type": "stream",
     "text": [
      "Epoch 23/64 | Train Loss: 1.3094 | Test Loss: 1.0056 | Accuracy: 71.06% | GPU Memory (Alloc/Reserved): 0.14/1.830 GB\n"
     ]
    },
    {
     "name": "stderr",
     "output_type": "stream",
     "text": [
      "Train epoch: 24: 100%|██████████| 59/59 [00:26<00:00,  2.19it/s]\n",
      "Test epoch: 24: 100%|██████████| 34/34 [00:04<00:00,  7.09it/s]\n"
     ]
    },
    {
     "name": "stdout",
     "output_type": "stream",
     "text": [
      "Epoch 24/64 | Train Loss: 1.3060 | Test Loss: 0.9819 | Accuracy: 71.72% | GPU Memory (Alloc/Reserved): 0.14/1.830 GB\n"
     ]
    },
    {
     "name": "stderr",
     "output_type": "stream",
     "text": [
      "Train epoch: 25: 100%|██████████| 59/59 [00:33<00:00,  1.77it/s]\n",
      "Test epoch: 25: 100%|██████████| 34/34 [00:04<00:00,  7.02it/s]\n"
     ]
    },
    {
     "name": "stdout",
     "output_type": "stream",
     "text": [
      "Epoch 25/64 | Train Loss: 1.3025 | Test Loss: 0.9702 | Accuracy: 72.33% | GPU Memory (Alloc/Reserved): 0.14/1.830 GB\n"
     ]
    },
    {
     "name": "stderr",
     "output_type": "stream",
     "text": [
      "Train epoch: 26: 100%|██████████| 59/59 [00:26<00:00,  2.19it/s]\n",
      "Test epoch: 26: 100%|██████████| 34/34 [00:04<00:00,  7.05it/s]\n"
     ]
    },
    {
     "name": "stdout",
     "output_type": "stream",
     "text": [
      "Epoch 26/64 | Train Loss: 1.2990 | Test Loss: 0.9686 | Accuracy: 72.42% | GPU Memory (Alloc/Reserved): 0.14/1.830 GB\n"
     ]
    },
    {
     "name": "stderr",
     "output_type": "stream",
     "text": [
      "Train epoch: 27: 100%|██████████| 59/59 [00:26<00:00,  2.20it/s]\n",
      "Test epoch: 27: 100%|██████████| 34/34 [00:04<00:00,  7.08it/s]\n"
     ]
    },
    {
     "name": "stdout",
     "output_type": "stream",
     "text": [
      "Epoch 27/64 | Train Loss: 1.2917 | Test Loss: 0.9592 | Accuracy: 72.70% | GPU Memory (Alloc/Reserved): 0.14/1.830 GB\n"
     ]
    },
    {
     "name": "stderr",
     "output_type": "stream",
     "text": [
      "Train epoch: 28: 100%|██████████| 59/59 [00:26<00:00,  2.20it/s]\n",
      "Test epoch: 28: 100%|██████████| 34/34 [00:04<00:00,  7.10it/s]\n"
     ]
    },
    {
     "name": "stdout",
     "output_type": "stream",
     "text": [
      "Epoch 28/64 | Train Loss: 1.2866 | Test Loss: 0.9470 | Accuracy: 73.31% | GPU Memory (Alloc/Reserved): 0.14/1.830 GB\n"
     ]
    },
    {
     "name": "stderr",
     "output_type": "stream",
     "text": [
      "Train epoch: 29: 100%|██████████| 59/59 [00:27<00:00,  2.12it/s]\n",
      "Test epoch: 29: 100%|██████████| 34/34 [00:04<00:00,  7.02it/s]\n"
     ]
    },
    {
     "name": "stdout",
     "output_type": "stream",
     "text": [
      "Epoch 29/64 | Train Loss: 1.2882 | Test Loss: 0.9373 | Accuracy: 72.98% | GPU Memory (Alloc/Reserved): 0.14/1.830 GB\n"
     ]
    },
    {
     "name": "stderr",
     "output_type": "stream",
     "text": [
      "Train epoch: 30: 100%|██████████| 59/59 [00:26<00:00,  2.20it/s]\n",
      "Test epoch: 30: 100%|██████████| 34/34 [00:04<00:00,  7.12it/s]\n"
     ]
    },
    {
     "name": "stdout",
     "output_type": "stream",
     "text": [
      "Epoch 30/64 | Train Loss: 1.2732 | Test Loss: 0.9214 | Accuracy: 73.59% | GPU Memory (Alloc/Reserved): 0.14/1.830 GB\n"
     ]
    },
    {
     "name": "stderr",
     "output_type": "stream",
     "text": [
      "Train epoch: 31: 100%|██████████| 59/59 [00:26<00:00,  2.21it/s]\n",
      "Test epoch: 31: 100%|██████████| 34/34 [00:04<00:00,  7.11it/s]\n"
     ]
    },
    {
     "name": "stdout",
     "output_type": "stream",
     "text": [
      "Epoch 31/64 | Train Loss: 1.2650 | Test Loss: 0.9258 | Accuracy: 73.83% | GPU Memory (Alloc/Reserved): 0.14/1.830 GB\n"
     ]
    },
    {
     "name": "stderr",
     "output_type": "stream",
     "text": [
      "Train epoch: 32: 100%|██████████| 59/59 [00:26<00:00,  2.20it/s]\n",
      "Test epoch: 32: 100%|██████████| 34/34 [00:04<00:00,  7.08it/s]\n"
     ]
    },
    {
     "name": "stdout",
     "output_type": "stream",
     "text": [
      "Epoch 32/64 | Train Loss: 1.2577 | Test Loss: 0.9173 | Accuracy: 74.39% | GPU Memory (Alloc/Reserved): 0.14/1.830 GB\n"
     ]
    },
    {
     "name": "stderr",
     "output_type": "stream",
     "text": [
      "Train epoch: 33: 100%|██████████| 59/59 [00:27<00:00,  2.18it/s]\n",
      "Test epoch: 33: 100%|██████████| 34/34 [00:04<00:00,  7.09it/s]\n"
     ]
    },
    {
     "name": "stdout",
     "output_type": "stream",
     "text": [
      "Epoch 33/64 | Train Loss: 1.2682 | Test Loss: 0.9039 | Accuracy: 74.39% | GPU Memory (Alloc/Reserved): 0.14/1.830 GB\n"
     ]
    },
    {
     "name": "stderr",
     "output_type": "stream",
     "text": [
      "Train epoch: 34: 100%|██████████| 59/59 [00:26<00:00,  2.20it/s]\n",
      "Test epoch: 34: 100%|██████████| 34/34 [00:04<00:00,  7.08it/s]\n"
     ]
    },
    {
     "name": "stdout",
     "output_type": "stream",
     "text": [
      "Epoch 34/64 | Train Loss: 1.2627 | Test Loss: 0.9132 | Accuracy: 74.34% | GPU Memory (Alloc/Reserved): 0.14/1.830 GB\n"
     ]
    },
    {
     "name": "stderr",
     "output_type": "stream",
     "text": [
      "Train epoch: 35: 100%|██████████| 59/59 [00:26<00:00,  2.20it/s]\n",
      "Test epoch: 35: 100%|██████████| 34/34 [00:04<00:00,  7.11it/s]\n"
     ]
    },
    {
     "name": "stdout",
     "output_type": "stream",
     "text": [
      "Epoch 35/64 | Train Loss: 1.2565 | Test Loss: 0.8937 | Accuracy: 74.67% | GPU Memory (Alloc/Reserved): 0.14/1.830 GB\n"
     ]
    },
    {
     "name": "stderr",
     "output_type": "stream",
     "text": [
      "Train epoch: 36: 100%|██████████| 59/59 [00:26<00:00,  2.21it/s]\n",
      "Test epoch: 36: 100%|██████████| 34/34 [00:04<00:00,  7.04it/s]\n"
     ]
    },
    {
     "name": "stdout",
     "output_type": "stream",
     "text": [
      "Epoch 36/64 | Train Loss: 1.2572 | Test Loss: 0.8824 | Accuracy: 74.86% | GPU Memory (Alloc/Reserved): 0.14/1.830 GB\n"
     ]
    },
    {
     "name": "stderr",
     "output_type": "stream",
     "text": [
      "Train epoch: 37: 100%|██████████| 59/59 [00:26<00:00,  2.22it/s]\n",
      "Test epoch: 37: 100%|██████████| 34/34 [00:04<00:00,  7.01it/s]\n"
     ]
    },
    {
     "name": "stdout",
     "output_type": "stream",
     "text": [
      "Epoch 37/64 | Train Loss: 1.2467 | Test Loss: 0.8892 | Accuracy: 74.25% | GPU Memory (Alloc/Reserved): 0.14/1.830 GB\n"
     ]
    },
    {
     "name": "stderr",
     "output_type": "stream",
     "text": [
      "Train epoch: 38: 100%|██████████| 59/59 [00:26<00:00,  2.21it/s]\n",
      "Test epoch: 38: 100%|██████████| 34/34 [00:04<00:00,  7.01it/s]\n"
     ]
    },
    {
     "name": "stdout",
     "output_type": "stream",
     "text": [
      "Epoch 38/64 | Train Loss: 1.2416 | Test Loss: 0.8677 | Accuracy: 75.33% | GPU Memory (Alloc/Reserved): 0.14/1.830 GB\n"
     ]
    },
    {
     "name": "stderr",
     "output_type": "stream",
     "text": [
      "Train epoch: 39: 100%|██████████| 59/59 [00:26<00:00,  2.22it/s]\n",
      "Test epoch: 39: 100%|██████████| 34/34 [00:04<00:00,  7.08it/s]\n"
     ]
    },
    {
     "name": "stdout",
     "output_type": "stream",
     "text": [
      "Epoch 39/64 | Train Loss: 1.2427 | Test Loss: 0.8655 | Accuracy: 75.19% | GPU Memory (Alloc/Reserved): 0.14/1.830 GB\n"
     ]
    },
    {
     "name": "stderr",
     "output_type": "stream",
     "text": [
      "Train epoch: 40: 100%|██████████| 59/59 [00:26<00:00,  2.21it/s]\n",
      "Test epoch: 40: 100%|██████████| 34/34 [00:04<00:00,  7.15it/s]\n"
     ]
    },
    {
     "name": "stdout",
     "output_type": "stream",
     "text": [
      "Epoch 40/64 | Train Loss: 1.2470 | Test Loss: 0.8610 | Accuracy: 75.75% | GPU Memory (Alloc/Reserved): 0.14/1.830 GB\n"
     ]
    },
    {
     "name": "stderr",
     "output_type": "stream",
     "text": [
      "Train epoch: 41: 100%|██████████| 59/59 [00:26<00:00,  2.20it/s]\n",
      "Test epoch: 41: 100%|██████████| 34/34 [00:04<00:00,  7.16it/s]\n"
     ]
    },
    {
     "name": "stdout",
     "output_type": "stream",
     "text": [
      "Epoch 41/64 | Train Loss: 1.2379 | Test Loss: 0.8631 | Accuracy: 75.14% | GPU Memory (Alloc/Reserved): 0.14/1.830 GB\n"
     ]
    },
    {
     "name": "stderr",
     "output_type": "stream",
     "text": [
      "Train epoch: 42: 100%|██████████| 59/59 [00:26<00:00,  2.19it/s]\n",
      "Test epoch: 42: 100%|██████████| 34/34 [00:04<00:00,  7.08it/s]\n"
     ]
    },
    {
     "name": "stdout",
     "output_type": "stream",
     "text": [
      "Epoch 42/64 | Train Loss: 1.2375 | Test Loss: 0.8555 | Accuracy: 75.70% | GPU Memory (Alloc/Reserved): 0.14/1.830 GB\n"
     ]
    },
    {
     "name": "stderr",
     "output_type": "stream",
     "text": [
      "Train epoch: 43: 100%|██████████| 59/59 [00:26<00:00,  2.19it/s]\n",
      "Test epoch: 43: 100%|██████████| 34/34 [00:04<00:00,  7.07it/s]\n"
     ]
    },
    {
     "name": "stdout",
     "output_type": "stream",
     "text": [
      "Epoch 43/64 | Train Loss: 1.2458 | Test Loss: 0.8499 | Accuracy: 75.70% | GPU Memory (Alloc/Reserved): 0.14/1.830 GB\n"
     ]
    },
    {
     "name": "stderr",
     "output_type": "stream",
     "text": [
      "Train epoch: 44: 100%|██████████| 59/59 [00:26<00:00,  2.19it/s]\n",
      "Test epoch: 44: 100%|██████████| 34/34 [00:04<00:00,  6.98it/s]\n"
     ]
    },
    {
     "name": "stdout",
     "output_type": "stream",
     "text": [
      "Epoch 44/64 | Train Loss: 1.2303 | Test Loss: 0.8443 | Accuracy: 76.31% | GPU Memory (Alloc/Reserved): 0.14/1.830 GB\n"
     ]
    },
    {
     "name": "stderr",
     "output_type": "stream",
     "text": [
      "Train epoch: 45: 100%|██████████| 59/59 [00:26<00:00,  2.20it/s]\n",
      "Test epoch: 45: 100%|██████████| 34/34 [00:04<00:00,  7.01it/s]\n"
     ]
    },
    {
     "name": "stdout",
     "output_type": "stream",
     "text": [
      "Epoch 45/64 | Train Loss: 1.2318 | Test Loss: 0.8427 | Accuracy: 76.08% | GPU Memory (Alloc/Reserved): 0.14/1.830 GB\n"
     ]
    },
    {
     "name": "stderr",
     "output_type": "stream",
     "text": [
      "Train epoch: 46: 100%|██████████| 59/59 [00:27<00:00,  2.18it/s]\n",
      "Test epoch: 46: 100%|██████████| 34/34 [00:04<00:00,  7.07it/s]\n"
     ]
    },
    {
     "name": "stdout",
     "output_type": "stream",
     "text": [
      "Epoch 46/64 | Train Loss: 1.2361 | Test Loss: 0.8383 | Accuracy: 76.31% | GPU Memory (Alloc/Reserved): 0.14/1.830 GB\n"
     ]
    },
    {
     "name": "stderr",
     "output_type": "stream",
     "text": [
      "Train epoch: 47: 100%|██████████| 59/59 [00:26<00:00,  2.19it/s]\n",
      "Test epoch: 47: 100%|██████████| 34/34 [00:04<00:00,  7.04it/s]\n"
     ]
    },
    {
     "name": "stdout",
     "output_type": "stream",
     "text": [
      "Epoch 47/64 | Train Loss: 1.2384 | Test Loss: 0.8306 | Accuracy: 76.45% | GPU Memory (Alloc/Reserved): 0.14/1.830 GB\n"
     ]
    },
    {
     "name": "stderr",
     "output_type": "stream",
     "text": [
      "Train epoch: 48: 100%|██████████| 59/59 [00:26<00:00,  2.20it/s]\n",
      "Test epoch: 48: 100%|██████████| 34/34 [00:04<00:00,  7.10it/s]\n"
     ]
    },
    {
     "name": "stdout",
     "output_type": "stream",
     "text": [
      "Epoch 48/64 | Train Loss: 1.2161 | Test Loss: 0.8296 | Accuracy: 76.78% | GPU Memory (Alloc/Reserved): 0.14/1.830 GB\n"
     ]
    },
    {
     "name": "stderr",
     "output_type": "stream",
     "text": [
      "Train epoch: 49: 100%|██████████| 59/59 [00:31<00:00,  1.89it/s]\n",
      "Test epoch: 49: 100%|██████████| 34/34 [00:06<00:00,  5.49it/s]\n"
     ]
    },
    {
     "name": "stdout",
     "output_type": "stream",
     "text": [
      "Epoch 49/64 | Train Loss: 1.2153 | Test Loss: 0.8222 | Accuracy: 76.69% | GPU Memory (Alloc/Reserved): 0.14/1.830 GB\n"
     ]
    },
    {
     "name": "stderr",
     "output_type": "stream",
     "text": [
      "Train epoch: 50: 100%|██████████| 59/59 [00:28<00:00,  2.05it/s]\n",
      "Test epoch: 50: 100%|██████████| 34/34 [00:04<00:00,  7.09it/s]\n"
     ]
    },
    {
     "name": "stdout",
     "output_type": "stream",
     "text": [
      "Epoch 50/64 | Train Loss: 1.2222 | Test Loss: 0.8257 | Accuracy: 76.78% | GPU Memory (Alloc/Reserved): 0.14/1.830 GB\n"
     ]
    },
    {
     "name": "stderr",
     "output_type": "stream",
     "text": [
      "Train epoch: 51: 100%|██████████| 59/59 [00:26<00:00,  2.19it/s]\n",
      "Test epoch: 51: 100%|██████████| 34/34 [00:04<00:00,  7.06it/s]\n"
     ]
    },
    {
     "name": "stdout",
     "output_type": "stream",
     "text": [
      "Epoch 51/64 | Train Loss: 1.2255 | Test Loss: 0.8173 | Accuracy: 77.02% | GPU Memory (Alloc/Reserved): 0.14/1.830 GB\n"
     ]
    },
    {
     "name": "stderr",
     "output_type": "stream",
     "text": [
      "Train epoch: 52: 100%|██████████| 59/59 [00:26<00:00,  2.19it/s]\n",
      "Test epoch: 52: 100%|██████████| 34/34 [00:04<00:00,  7.02it/s]\n"
     ]
    },
    {
     "name": "stdout",
     "output_type": "stream",
     "text": [
      "Epoch 52/64 | Train Loss: 1.2173 | Test Loss: 0.8158 | Accuracy: 77.39% | GPU Memory (Alloc/Reserved): 0.14/1.830 GB\n"
     ]
    },
    {
     "name": "stderr",
     "output_type": "stream",
     "text": [
      "Train epoch: 53: 100%|██████████| 59/59 [00:27<00:00,  2.17it/s]\n",
      "Test epoch: 53: 100%|██████████| 34/34 [00:04<00:00,  6.94it/s]\n"
     ]
    },
    {
     "name": "stdout",
     "output_type": "stream",
     "text": [
      "Epoch 53/64 | Train Loss: 1.2221 | Test Loss: 0.8134 | Accuracy: 77.35% | GPU Memory (Alloc/Reserved): 0.14/1.830 GB\n"
     ]
    },
    {
     "name": "stderr",
     "output_type": "stream",
     "text": [
      "Train epoch: 54: 100%|██████████| 59/59 [00:26<00:00,  2.19it/s]\n",
      "Test epoch: 54: 100%|██████████| 34/34 [00:04<00:00,  7.14it/s]\n"
     ]
    },
    {
     "name": "stdout",
     "output_type": "stream",
     "text": [
      "Epoch 54/64 | Train Loss: 1.2093 | Test Loss: 0.8110 | Accuracy: 76.92% | GPU Memory (Alloc/Reserved): 0.14/1.830 GB\n"
     ]
    },
    {
     "name": "stderr",
     "output_type": "stream",
     "text": [
      "Train epoch: 55: 100%|██████████| 59/59 [00:26<00:00,  2.20it/s]\n",
      "Test epoch: 55: 100%|██████████| 34/34 [00:04<00:00,  7.15it/s]\n"
     ]
    },
    {
     "name": "stdout",
     "output_type": "stream",
     "text": [
      "Epoch 55/64 | Train Loss: 1.2080 | Test Loss: 0.8045 | Accuracy: 77.06% | GPU Memory (Alloc/Reserved): 0.14/1.830 GB\n"
     ]
    },
    {
     "name": "stderr",
     "output_type": "stream",
     "text": [
      "Train epoch: 56: 100%|██████████| 59/59 [00:26<00:00,  2.19it/s]\n",
      "Test epoch: 56: 100%|██████████| 34/34 [00:04<00:00,  6.98it/s]\n"
     ]
    },
    {
     "name": "stdout",
     "output_type": "stream",
     "text": [
      "Epoch 56/64 | Train Loss: 1.2168 | Test Loss: 0.8064 | Accuracy: 77.06% | GPU Memory (Alloc/Reserved): 0.14/1.830 GB\n"
     ]
    },
    {
     "name": "stderr",
     "output_type": "stream",
     "text": [
      "Train epoch: 57: 100%|██████████| 59/59 [00:26<00:00,  2.21it/s]\n",
      "Test epoch: 57: 100%|██████████| 34/34 [00:04<00:00,  7.04it/s]\n"
     ]
    },
    {
     "name": "stdout",
     "output_type": "stream",
     "text": [
      "Epoch 57/64 | Train Loss: 1.2125 | Test Loss: 0.7902 | Accuracy: 77.58% | GPU Memory (Alloc/Reserved): 0.14/1.830 GB\n"
     ]
    },
    {
     "name": "stderr",
     "output_type": "stream",
     "text": [
      "Train epoch: 58: 100%|██████████| 59/59 [00:26<00:00,  2.21it/s]\n",
      "Test epoch: 58: 100%|██████████| 34/34 [00:04<00:00,  7.07it/s]\n"
     ]
    },
    {
     "name": "stdout",
     "output_type": "stream",
     "text": [
      "Epoch 58/64 | Train Loss: 1.2113 | Test Loss: 0.7873 | Accuracy: 77.58% | GPU Memory (Alloc/Reserved): 0.14/1.830 GB\n"
     ]
    },
    {
     "name": "stderr",
     "output_type": "stream",
     "text": [
      "Train epoch: 59: 100%|██████████| 59/59 [00:26<00:00,  2.22it/s]\n",
      "Test epoch: 59: 100%|██████████| 34/34 [00:04<00:00,  7.03it/s]\n"
     ]
    },
    {
     "name": "stdout",
     "output_type": "stream",
     "text": [
      "Epoch 59/64 | Train Loss: 1.2051 | Test Loss: 0.7963 | Accuracy: 77.02% | GPU Memory (Alloc/Reserved): 0.14/1.830 GB\n"
     ]
    },
    {
     "name": "stderr",
     "output_type": "stream",
     "text": [
      "Train epoch: 60: 100%|██████████| 59/59 [00:26<00:00,  2.22it/s]\n",
      "Test epoch: 60: 100%|██████████| 34/34 [00:04<00:00,  7.10it/s]\n"
     ]
    },
    {
     "name": "stdout",
     "output_type": "stream",
     "text": [
      "Epoch 60/64 | Train Loss: 1.1996 | Test Loss: 0.7811 | Accuracy: 77.49% | GPU Memory (Alloc/Reserved): 0.14/1.830 GB\n"
     ]
    },
    {
     "name": "stderr",
     "output_type": "stream",
     "text": [
      "Train epoch: 61: 100%|██████████| 59/59 [00:27<00:00,  2.18it/s]\n",
      "Test epoch: 61: 100%|██████████| 34/34 [00:04<00:00,  7.05it/s]\n"
     ]
    },
    {
     "name": "stdout",
     "output_type": "stream",
     "text": [
      "Epoch 61/64 | Train Loss: 1.2034 | Test Loss: 0.7824 | Accuracy: 78.05% | GPU Memory (Alloc/Reserved): 0.14/1.830 GB\n"
     ]
    },
    {
     "name": "stderr",
     "output_type": "stream",
     "text": [
      "Train epoch: 62: 100%|██████████| 59/59 [00:26<00:00,  2.21it/s]\n",
      "Test epoch: 62: 100%|██████████| 34/34 [00:04<00:00,  7.06it/s]\n"
     ]
    },
    {
     "name": "stdout",
     "output_type": "stream",
     "text": [
      "Epoch 62/64 | Train Loss: 1.1966 | Test Loss: 0.7822 | Accuracy: 77.86% | GPU Memory (Alloc/Reserved): 0.14/1.830 GB\n"
     ]
    },
    {
     "name": "stderr",
     "output_type": "stream",
     "text": [
      "Train epoch: 63: 100%|██████████| 59/59 [00:26<00:00,  2.21it/s]\n",
      "Test epoch: 63: 100%|██████████| 34/34 [00:04<00:00,  7.07it/s]\n"
     ]
    },
    {
     "name": "stdout",
     "output_type": "stream",
     "text": [
      "Epoch 63/64 | Train Loss: 1.1967 | Test Loss: 0.7895 | Accuracy: 77.63% | GPU Memory (Alloc/Reserved): 0.14/1.830 GB\n"
     ]
    },
    {
     "name": "stderr",
     "output_type": "stream",
     "text": [
      "Train epoch: 64: 100%|██████████| 59/59 [00:26<00:00,  2.20it/s]\n",
      "Test epoch: 64: 100%|██████████| 34/34 [00:04<00:00,  7.11it/s]\n"
     ]
    },
    {
     "name": "stdout",
     "output_type": "stream",
     "text": [
      "Epoch 64/64 | Train Loss: 1.2012 | Test Loss: 0.7697 | Accuracy: 78.24% | GPU Memory (Alloc/Reserved): 0.14/1.830 GB\n",
      "Training done!\n",
      "\n",
      "Unfreezing last block of feature extraction.\n",
      "\n",
      "Phase 2 Training\n",
      "\n"
     ]
    },
    {
     "name": "stderr",
     "output_type": "stream",
     "text": [
      "Train epoch: 1: 100%|██████████| 59/59 [00:27<00:00,  2.18it/s]\n",
      "Test epoch: 1: 100%|██████████| 34/34 [00:04<00:00,  7.08it/s]\n"
     ]
    },
    {
     "name": "stdout",
     "output_type": "stream",
     "text": [
      "Epoch 1/64 | Train Loss: 1.2108 | Test Loss: 0.7760 | Accuracy: 77.53% | GPU Memory (Alloc/Reserved): 0.14/1.830 GB\n"
     ]
    },
    {
     "name": "stderr",
     "output_type": "stream",
     "text": [
      "Train epoch: 2: 100%|██████████| 59/59 [00:27<00:00,  2.18it/s]\n",
      "Test epoch: 2: 100%|██████████| 34/34 [00:04<00:00,  7.13it/s]\n"
     ]
    },
    {
     "name": "stdout",
     "output_type": "stream",
     "text": [
      "Epoch 2/64 | Train Loss: 1.2011 | Test Loss: 0.7792 | Accuracy: 78.00% | GPU Memory (Alloc/Reserved): 0.14/1.830 GB\n"
     ]
    },
    {
     "name": "stderr",
     "output_type": "stream",
     "text": [
      "Train epoch: 3: 100%|██████████| 59/59 [00:26<00:00,  2.20it/s]\n",
      "Test epoch: 3: 100%|██████████| 34/34 [00:04<00:00,  7.07it/s]\n"
     ]
    },
    {
     "name": "stdout",
     "output_type": "stream",
     "text": [
      "Epoch 3/64 | Train Loss: 1.1820 | Test Loss: 0.7660 | Accuracy: 78.38% | GPU Memory (Alloc/Reserved): 0.14/1.830 GB\n"
     ]
    },
    {
     "name": "stderr",
     "output_type": "stream",
     "text": [
      "Train epoch: 4: 100%|██████████| 59/59 [00:27<00:00,  2.13it/s]\n",
      "Test epoch: 4: 100%|██████████| 34/34 [00:04<00:00,  6.98it/s]\n"
     ]
    },
    {
     "name": "stdout",
     "output_type": "stream",
     "text": [
      "Epoch 4/64 | Train Loss: 1.1914 | Test Loss: 0.7622 | Accuracy: 78.10% | GPU Memory (Alloc/Reserved): 0.14/1.830 GB\n"
     ]
    },
    {
     "name": "stderr",
     "output_type": "stream",
     "text": [
      "Train epoch: 5: 100%|██████████| 59/59 [00:27<00:00,  2.15it/s]\n",
      "Test epoch: 5: 100%|██████████| 34/34 [00:04<00:00,  6.93it/s]\n"
     ]
    },
    {
     "name": "stdout",
     "output_type": "stream",
     "text": [
      "Epoch 5/64 | Train Loss: 1.1834 | Test Loss: 0.7755 | Accuracy: 78.00% | GPU Memory (Alloc/Reserved): 0.14/1.830 GB\n"
     ]
    },
    {
     "name": "stderr",
     "output_type": "stream",
     "text": [
      "Train epoch: 6: 100%|██████████| 59/59 [00:27<00:00,  2.16it/s]\n",
      "Test epoch: 6: 100%|██████████| 34/34 [00:04<00:00,  7.08it/s]\n"
     ]
    },
    {
     "name": "stdout",
     "output_type": "stream",
     "text": [
      "Epoch 6/64 | Train Loss: 1.1880 | Test Loss: 0.7606 | Accuracy: 78.24% | GPU Memory (Alloc/Reserved): 0.14/1.830 GB\n"
     ]
    },
    {
     "name": "stderr",
     "output_type": "stream",
     "text": [
      "Train epoch: 7: 100%|██████████| 59/59 [00:27<00:00,  2.18it/s]\n",
      "Test epoch: 7: 100%|██████████| 34/34 [00:04<00:00,  7.07it/s]\n"
     ]
    },
    {
     "name": "stdout",
     "output_type": "stream",
     "text": [
      "Epoch 7/64 | Train Loss: 1.1974 | Test Loss: 0.7732 | Accuracy: 78.05% | GPU Memory (Alloc/Reserved): 0.14/1.830 GB\n"
     ]
    },
    {
     "name": "stderr",
     "output_type": "stream",
     "text": [
      "Train epoch: 8: 100%|██████████| 59/59 [00:26<00:00,  2.19it/s]\n",
      "Test epoch: 8: 100%|██████████| 34/34 [00:04<00:00,  7.13it/s]\n"
     ]
    },
    {
     "name": "stdout",
     "output_type": "stream",
     "text": [
      "Epoch 8/64 | Train Loss: 1.2025 | Test Loss: 0.7593 | Accuracy: 78.24% | GPU Memory (Alloc/Reserved): 0.14/1.830 GB\n"
     ]
    },
    {
     "name": "stderr",
     "output_type": "stream",
     "text": [
      "Train epoch: 9: 100%|██████████| 59/59 [00:27<00:00,  2.17it/s]\n",
      "Test epoch: 9: 100%|██████████| 34/34 [00:04<00:00,  6.92it/s]\n"
     ]
    },
    {
     "name": "stdout",
     "output_type": "stream",
     "text": [
      "Epoch 9/64 | Train Loss: 1.2036 | Test Loss: 0.7570 | Accuracy: 78.14% | GPU Memory (Alloc/Reserved): 0.14/1.830 GB\n"
     ]
    },
    {
     "name": "stderr",
     "output_type": "stream",
     "text": [
      "Train epoch: 10: 100%|██████████| 59/59 [00:27<00:00,  2.15it/s]\n",
      "Test epoch: 10: 100%|██████████| 34/34 [00:04<00:00,  6.95it/s]\n"
     ]
    },
    {
     "name": "stdout",
     "output_type": "stream",
     "text": [
      "Epoch 10/64 | Train Loss: 1.1882 | Test Loss: 0.7589 | Accuracy: 78.10% | GPU Memory (Alloc/Reserved): 0.14/1.830 GB\n"
     ]
    },
    {
     "name": "stderr",
     "output_type": "stream",
     "text": [
      "Train epoch: 11: 100%|██████████| 59/59 [00:27<00:00,  2.16it/s]\n",
      "Test epoch: 11: 100%|██████████| 34/34 [00:04<00:00,  6.86it/s]\n"
     ]
    },
    {
     "name": "stdout",
     "output_type": "stream",
     "text": [
      "Epoch 11/64 | Train Loss: 1.1814 | Test Loss: 0.7492 | Accuracy: 78.52% | GPU Memory (Alloc/Reserved): 0.14/1.830 GB\n"
     ]
    },
    {
     "name": "stderr",
     "output_type": "stream",
     "text": [
      "Train epoch: 12: 100%|██████████| 59/59 [00:27<00:00,  2.16it/s]\n",
      "Test epoch: 12: 100%|██████████| 34/34 [00:04<00:00,  6.97it/s]\n"
     ]
    },
    {
     "name": "stdout",
     "output_type": "stream",
     "text": [
      "Epoch 12/64 | Train Loss: 1.1762 | Test Loss: 0.7519 | Accuracy: 78.33% | GPU Memory (Alloc/Reserved): 0.14/1.830 GB\n"
     ]
    },
    {
     "name": "stderr",
     "output_type": "stream",
     "text": [
      "Train epoch: 13: 100%|██████████| 59/59 [00:27<00:00,  2.18it/s]\n",
      "Test epoch: 13: 100%|██████████| 34/34 [00:04<00:00,  7.06it/s]\n"
     ]
    },
    {
     "name": "stdout",
     "output_type": "stream",
     "text": [
      "Epoch 13/64 | Train Loss: 1.1832 | Test Loss: 0.7520 | Accuracy: 78.66% | GPU Memory (Alloc/Reserved): 0.14/1.830 GB\n"
     ]
    },
    {
     "name": "stderr",
     "output_type": "stream",
     "text": [
      "Train epoch: 14: 100%|██████████| 59/59 [00:39<00:00,  1.48it/s]\n",
      "Test epoch: 14: 100%|██████████| 34/34 [00:11<00:00,  2.88it/s]\n"
     ]
    },
    {
     "name": "stdout",
     "output_type": "stream",
     "text": [
      "Epoch 14/64 | Train Loss: 1.1946 | Test Loss: 0.7438 | Accuracy: 78.56% | GPU Memory (Alloc/Reserved): 0.14/1.830 GB\n"
     ]
    },
    {
     "name": "stderr",
     "output_type": "stream",
     "text": [
      "Train epoch: 15: 100%|██████████| 59/59 [01:08<00:00,  1.16s/it]\n",
      "Test epoch: 15: 100%|██████████| 34/34 [00:11<00:00,  2.90it/s]\n"
     ]
    },
    {
     "name": "stdout",
     "output_type": "stream",
     "text": [
      "Epoch 15/64 | Train Loss: 1.1885 | Test Loss: 0.7379 | Accuracy: 78.52% | GPU Memory (Alloc/Reserved): 0.14/1.830 GB\n"
     ]
    },
    {
     "name": "stderr",
     "output_type": "stream",
     "text": [
      "Train epoch: 16: 100%|██████████| 59/59 [01:16<00:00,  1.30s/it]\n",
      "Test epoch: 16: 100%|██████████| 34/34 [00:18<00:00,  1.89it/s]\n"
     ]
    },
    {
     "name": "stdout",
     "output_type": "stream",
     "text": [
      "Epoch 16/64 | Train Loss: 1.1837 | Test Loss: 0.7409 | Accuracy: 78.47% | GPU Memory (Alloc/Reserved): 0.14/1.830 GB\n"
     ]
    },
    {
     "name": "stderr",
     "output_type": "stream",
     "text": [
      "Train epoch: 17: 100%|██████████| 59/59 [01:23<00:00,  1.42s/it]\n",
      "Test epoch: 17: 100%|██████████| 34/34 [00:13<00:00,  2.61it/s]\n"
     ]
    },
    {
     "name": "stdout",
     "output_type": "stream",
     "text": [
      "Epoch 17/64 | Train Loss: 1.1811 | Test Loss: 0.7402 | Accuracy: 78.56% | GPU Memory (Alloc/Reserved): 0.14/1.830 GB\n"
     ]
    },
    {
     "name": "stderr",
     "output_type": "stream",
     "text": [
      "Train epoch: 18: 100%|██████████| 59/59 [01:13<00:00,  1.24s/it]\n",
      "Test epoch: 18: 100%|██████████| 34/34 [00:13<00:00,  2.61it/s]\n"
     ]
    },
    {
     "name": "stdout",
     "output_type": "stream",
     "text": [
      "Epoch 18/64 | Train Loss: 1.1765 | Test Loss: 0.7385 | Accuracy: 78.56% | GPU Memory (Alloc/Reserved): 0.14/1.830 GB\n"
     ]
    },
    {
     "name": "stderr",
     "output_type": "stream",
     "text": [
      "Train epoch: 19: 100%|██████████| 59/59 [01:05<00:00,  1.11s/it]\n",
      "Test epoch: 19: 100%|██████████| 34/34 [00:08<00:00,  4.10it/s]\n"
     ]
    },
    {
     "name": "stdout",
     "output_type": "stream",
     "text": [
      "Epoch 19/64 | Train Loss: 1.1915 | Test Loss: 0.7324 | Accuracy: 79.13% | GPU Memory (Alloc/Reserved): 0.14/1.830 GB\n"
     ]
    },
    {
     "name": "stderr",
     "output_type": "stream",
     "text": [
      "Train epoch: 20: 100%|██████████| 59/59 [00:31<00:00,  1.89it/s]\n",
      "Test epoch: 20: 100%|██████████| 34/34 [00:05<00:00,  6.54it/s]\n"
     ]
    },
    {
     "name": "stdout",
     "output_type": "stream",
     "text": [
      "Epoch 20/64 | Train Loss: 1.1865 | Test Loss: 0.7423 | Accuracy: 78.52% | GPU Memory (Alloc/Reserved): 0.14/1.830 GB\n"
     ]
    },
    {
     "name": "stderr",
     "output_type": "stream",
     "text": [
      "Train epoch: 21: 100%|██████████| 59/59 [00:31<00:00,  1.85it/s]\n",
      "Test epoch: 21: 100%|██████████| 34/34 [00:07<00:00,  4.77it/s]\n"
     ]
    },
    {
     "name": "stdout",
     "output_type": "stream",
     "text": [
      "Epoch 21/64 | Train Loss: 1.1786 | Test Loss: 0.7347 | Accuracy: 79.17% | GPU Memory (Alloc/Reserved): 0.14/1.830 GB\n"
     ]
    },
    {
     "name": "stderr",
     "output_type": "stream",
     "text": [
      "Train epoch: 22: 100%|██████████| 59/59 [00:38<00:00,  1.52it/s]\n",
      "Test epoch: 22: 100%|██████████| 34/34 [00:08<00:00,  3.80it/s]\n"
     ]
    },
    {
     "name": "stdout",
     "output_type": "stream",
     "text": [
      "Epoch 22/64 | Train Loss: 1.1771 | Test Loss: 0.7333 | Accuracy: 78.85% | GPU Memory (Alloc/Reserved): 0.14/1.830 GB\n"
     ]
    },
    {
     "name": "stderr",
     "output_type": "stream",
     "text": [
      "Train epoch: 23: 100%|██████████| 59/59 [00:37<00:00,  1.58it/s]\n",
      "Test epoch: 23: 100%|██████████| 34/34 [00:06<00:00,  5.36it/s]\n"
     ]
    },
    {
     "name": "stdout",
     "output_type": "stream",
     "text": [
      "Epoch 23/64 | Train Loss: 1.1762 | Test Loss: 0.7196 | Accuracy: 79.27% | GPU Memory (Alloc/Reserved): 0.14/1.830 GB\n"
     ]
    },
    {
     "name": "stderr",
     "output_type": "stream",
     "text": [
      "Train epoch: 24: 100%|██████████| 59/59 [00:34<00:00,  1.71it/s]\n",
      "Test epoch: 24: 100%|██████████| 34/34 [00:05<00:00,  5.80it/s]\n"
     ]
    },
    {
     "name": "stdout",
     "output_type": "stream",
     "text": [
      "Epoch 24/64 | Train Loss: 1.1832 | Test Loss: 0.7317 | Accuracy: 79.08% | GPU Memory (Alloc/Reserved): 0.14/1.830 GB\n"
     ]
    },
    {
     "name": "stderr",
     "output_type": "stream",
     "text": [
      "Train epoch: 25: 100%|██████████| 59/59 [00:32<00:00,  1.79it/s]\n",
      "Test epoch: 25: 100%|██████████| 34/34 [00:05<00:00,  6.13it/s]\n"
     ]
    },
    {
     "name": "stdout",
     "output_type": "stream",
     "text": [
      "Epoch 25/64 | Train Loss: 1.1732 | Test Loss: 0.7206 | Accuracy: 79.32% | GPU Memory (Alloc/Reserved): 0.14/1.830 GB\n"
     ]
    },
    {
     "name": "stderr",
     "output_type": "stream",
     "text": [
      "Train epoch: 26: 100%|██████████| 59/59 [00:30<00:00,  1.91it/s]\n",
      "Test epoch: 26: 100%|██████████| 34/34 [00:05<00:00,  6.07it/s]\n"
     ]
    },
    {
     "name": "stdout",
     "output_type": "stream",
     "text": [
      "Epoch 26/64 | Train Loss: 1.1775 | Test Loss: 0.7197 | Accuracy: 79.27% | GPU Memory (Alloc/Reserved): 0.14/1.830 GB\n"
     ]
    },
    {
     "name": "stderr",
     "output_type": "stream",
     "text": [
      "Train epoch: 27: 100%|██████████| 59/59 [00:31<00:00,  1.86it/s]\n",
      "Test epoch: 27: 100%|██████████| 34/34 [00:05<00:00,  6.27it/s]\n"
     ]
    },
    {
     "name": "stdout",
     "output_type": "stream",
     "text": [
      "Epoch 27/64 | Train Loss: 1.1682 | Test Loss: 0.7265 | Accuracy: 79.08% | GPU Memory (Alloc/Reserved): 0.14/1.830 GB\n"
     ]
    },
    {
     "name": "stderr",
     "output_type": "stream",
     "text": [
      "Train epoch: 28: 100%|██████████| 59/59 [00:34<00:00,  1.73it/s]\n",
      "Test epoch: 28: 100%|██████████| 34/34 [00:05<00:00,  6.21it/s]\n"
     ]
    },
    {
     "name": "stdout",
     "output_type": "stream",
     "text": [
      "Epoch 28/64 | Train Loss: 1.1787 | Test Loss: 0.7291 | Accuracy: 79.08% | GPU Memory (Alloc/Reserved): 0.14/1.830 GB\n"
     ]
    },
    {
     "name": "stderr",
     "output_type": "stream",
     "text": [
      "Train epoch: 29: 100%|██████████| 59/59 [00:33<00:00,  1.76it/s]\n",
      "Test epoch: 29: 100%|██████████| 34/34 [00:05<00:00,  5.68it/s]\n"
     ]
    },
    {
     "name": "stdout",
     "output_type": "stream",
     "text": [
      "Epoch 29/64 | Train Loss: 1.1871 | Test Loss: 0.7301 | Accuracy: 79.27% | GPU Memory (Alloc/Reserved): 0.14/1.830 GB\n"
     ]
    },
    {
     "name": "stderr",
     "output_type": "stream",
     "text": [
      "Train epoch: 30: 100%|██████████| 59/59 [00:34<00:00,  1.73it/s]\n",
      "Test epoch: 30: 100%|██████████| 34/34 [00:06<00:00,  5.24it/s]\n"
     ]
    },
    {
     "name": "stdout",
     "output_type": "stream",
     "text": [
      "Epoch 30/64 | Train Loss: 1.1761 | Test Loss: 0.7277 | Accuracy: 79.41% | GPU Memory (Alloc/Reserved): 0.14/1.830 GB\n"
     ]
    },
    {
     "name": "stderr",
     "output_type": "stream",
     "text": [
      "Train epoch: 31: 100%|██████████| 59/59 [00:34<00:00,  1.70it/s]\n",
      "Test epoch: 31: 100%|██████████| 34/34 [00:05<00:00,  6.19it/s]\n"
     ]
    },
    {
     "name": "stdout",
     "output_type": "stream",
     "text": [
      "Epoch 31/64 | Train Loss: 1.1785 | Test Loss: 0.7209 | Accuracy: 79.08% | GPU Memory (Alloc/Reserved): 0.14/1.830 GB\n"
     ]
    },
    {
     "name": "stderr",
     "output_type": "stream",
     "text": [
      "Train epoch: 32: 100%|██████████| 59/59 [00:31<00:00,  1.89it/s]\n",
      "Test epoch: 32: 100%|██████████| 34/34 [00:05<00:00,  6.15it/s]\n"
     ]
    },
    {
     "name": "stdout",
     "output_type": "stream",
     "text": [
      "Epoch 32/64 | Train Loss: 1.1770 | Test Loss: 0.7219 | Accuracy: 79.32% | GPU Memory (Alloc/Reserved): 0.14/1.830 GB\n"
     ]
    },
    {
     "name": "stderr",
     "output_type": "stream",
     "text": [
      "Train epoch: 33: 100%|██████████| 59/59 [00:31<00:00,  1.90it/s]\n",
      "Test epoch: 33: 100%|██████████| 34/34 [00:05<00:00,  5.92it/s]\n"
     ]
    },
    {
     "name": "stdout",
     "output_type": "stream",
     "text": [
      "Epoch 33/64 | Train Loss: 1.1680 | Test Loss: 0.7129 | Accuracy: 79.41% | GPU Memory (Alloc/Reserved): 0.14/1.830 GB\n"
     ]
    },
    {
     "name": "stderr",
     "output_type": "stream",
     "text": [
      "Train epoch: 34: 100%|██████████| 59/59 [00:34<00:00,  1.72it/s]\n",
      "Test epoch: 34: 100%|██████████| 34/34 [00:05<00:00,  5.75it/s]\n"
     ]
    },
    {
     "name": "stdout",
     "output_type": "stream",
     "text": [
      "Epoch 34/64 | Train Loss: 1.1730 | Test Loss: 0.7199 | Accuracy: 79.36% | GPU Memory (Alloc/Reserved): 0.14/1.830 GB\n"
     ]
    },
    {
     "name": "stderr",
     "output_type": "stream",
     "text": [
      "Train epoch: 35: 100%|██████████| 59/59 [00:32<00:00,  1.81it/s]\n",
      "Test epoch: 35: 100%|██████████| 34/34 [00:05<00:00,  6.39it/s]\n"
     ]
    },
    {
     "name": "stdout",
     "output_type": "stream",
     "text": [
      "Epoch 35/64 | Train Loss: 1.1749 | Test Loss: 0.7156 | Accuracy: 79.64% | GPU Memory (Alloc/Reserved): 0.14/1.830 GB\n"
     ]
    },
    {
     "name": "stderr",
     "output_type": "stream",
     "text": [
      "Train epoch: 36: 100%|██████████| 59/59 [00:35<00:00,  1.65it/s]\n",
      "Test epoch: 36: 100%|██████████| 34/34 [00:06<00:00,  5.50it/s]\n"
     ]
    },
    {
     "name": "stdout",
     "output_type": "stream",
     "text": [
      "Epoch 36/64 | Train Loss: 1.1733 | Test Loss: 0.7137 | Accuracy: 79.46% | GPU Memory (Alloc/Reserved): 0.14/1.830 GB\n"
     ]
    },
    {
     "name": "stderr",
     "output_type": "stream",
     "text": [
      "Train epoch: 37: 100%|██████████| 59/59 [00:30<00:00,  1.91it/s]\n",
      "Test epoch: 37: 100%|██████████| 34/34 [00:05<00:00,  6.14it/s]\n"
     ]
    },
    {
     "name": "stdout",
     "output_type": "stream",
     "text": [
      "Epoch 37/64 | Train Loss: 1.1698 | Test Loss: 0.7047 | Accuracy: 79.69% | GPU Memory (Alloc/Reserved): 0.14/1.830 GB\n"
     ]
    },
    {
     "name": "stderr",
     "output_type": "stream",
     "text": [
      "Train epoch: 38: 100%|██████████| 59/59 [00:30<00:00,  1.94it/s]\n",
      "Test epoch: 38: 100%|██████████| 34/34 [00:05<00:00,  6.60it/s]\n"
     ]
    },
    {
     "name": "stdout",
     "output_type": "stream",
     "text": [
      "Epoch 38/64 | Train Loss: 1.1722 | Test Loss: 0.7103 | Accuracy: 78.94% | GPU Memory (Alloc/Reserved): 0.14/1.830 GB\n"
     ]
    },
    {
     "name": "stderr",
     "output_type": "stream",
     "text": [
      "Train epoch: 39: 100%|██████████| 59/59 [00:31<00:00,  1.89it/s]\n",
      "Test epoch: 39: 100%|██████████| 34/34 [00:05<00:00,  6.45it/s]\n"
     ]
    },
    {
     "name": "stdout",
     "output_type": "stream",
     "text": [
      "Epoch 39/64 | Train Loss: 1.1668 | Test Loss: 0.7114 | Accuracy: 80.16% | GPU Memory (Alloc/Reserved): 0.14/1.830 GB\n"
     ]
    },
    {
     "name": "stderr",
     "output_type": "stream",
     "text": [
      "Train epoch: 40: 100%|██████████| 59/59 [00:33<00:00,  1.75it/s]\n",
      "Test epoch: 40: 100%|██████████| 34/34 [00:05<00:00,  6.55it/s]\n"
     ]
    },
    {
     "name": "stdout",
     "output_type": "stream",
     "text": [
      "Epoch 40/64 | Train Loss: 1.1600 | Test Loss: 0.7104 | Accuracy: 79.46% | GPU Memory (Alloc/Reserved): 0.14/1.830 GB\n"
     ]
    },
    {
     "name": "stderr",
     "output_type": "stream",
     "text": [
      "Train epoch: 41: 100%|██████████| 59/59 [00:42<00:00,  1.39it/s]\n",
      "Test epoch: 41: 100%|██████████| 34/34 [00:07<00:00,  4.33it/s]\n"
     ]
    },
    {
     "name": "stdout",
     "output_type": "stream",
     "text": [
      "Epoch 41/64 | Train Loss: 1.1696 | Test Loss: 0.7130 | Accuracy: 79.22% | GPU Memory (Alloc/Reserved): 0.14/1.830 GB\n"
     ]
    },
    {
     "name": "stderr",
     "output_type": "stream",
     "text": [
      "Train epoch: 42: 100%|██████████| 59/59 [00:41<00:00,  1.41it/s]\n",
      "Test epoch: 42: 100%|██████████| 34/34 [00:07<00:00,  4.28it/s]\n"
     ]
    },
    {
     "name": "stdout",
     "output_type": "stream",
     "text": [
      "Epoch 42/64 | Train Loss: 1.1568 | Test Loss: 0.7048 | Accuracy: 79.50% | GPU Memory (Alloc/Reserved): 0.14/1.830 GB\n"
     ]
    },
    {
     "name": "stderr",
     "output_type": "stream",
     "text": [
      "Train epoch: 43: 100%|██████████| 59/59 [00:44<00:00,  1.31it/s]\n",
      "Test epoch: 43: 100%|██████████| 34/34 [00:10<00:00,  3.26it/s]\n"
     ]
    },
    {
     "name": "stdout",
     "output_type": "stream",
     "text": [
      "Epoch 43/64 | Train Loss: 1.1617 | Test Loss: 0.7102 | Accuracy: 79.69% | GPU Memory (Alloc/Reserved): 0.14/1.830 GB\n"
     ]
    },
    {
     "name": "stderr",
     "output_type": "stream",
     "text": [
      "Train epoch: 44: 100%|██████████| 59/59 [00:51<00:00,  1.15it/s]\n",
      "Test epoch: 44: 100%|██████████| 34/34 [00:12<00:00,  2.75it/s]\n"
     ]
    },
    {
     "name": "stdout",
     "output_type": "stream",
     "text": [
      "Epoch 44/64 | Train Loss: 1.1709 | Test Loss: 0.7086 | Accuracy: 79.92% | GPU Memory (Alloc/Reserved): 0.14/1.830 GB\n"
     ]
    },
    {
     "name": "stderr",
     "output_type": "stream",
     "text": [
      "Train epoch: 45: 100%|██████████| 59/59 [01:04<00:00,  1.10s/it]\n",
      "Test epoch: 45: 100%|██████████| 34/34 [00:12<00:00,  2.66it/s]\n"
     ]
    },
    {
     "name": "stdout",
     "output_type": "stream",
     "text": [
      "Epoch 45/64 | Train Loss: 1.1611 | Test Loss: 0.7057 | Accuracy: 80.02% | GPU Memory (Alloc/Reserved): 0.14/1.830 GB\n"
     ]
    },
    {
     "name": "stderr",
     "output_type": "stream",
     "text": [
      "Train epoch: 46: 100%|██████████| 59/59 [01:30<00:00,  1.53s/it]\n",
      "Test epoch: 46: 100%|██████████| 34/34 [00:46<00:00,  1.37s/it]\n"
     ]
    },
    {
     "name": "stdout",
     "output_type": "stream",
     "text": [
      "Epoch 46/64 | Train Loss: 1.1656 | Test Loss: 0.7051 | Accuracy: 79.74% | GPU Memory (Alloc/Reserved): 0.14/1.830 GB\n"
     ]
    },
    {
     "name": "stderr",
     "output_type": "stream",
     "text": [
      "Train epoch: 47: 100%|██████████| 59/59 [01:16<00:00,  1.30s/it]\n",
      "Test epoch: 47: 100%|██████████| 34/34 [00:11<00:00,  2.87it/s]\n"
     ]
    },
    {
     "name": "stdout",
     "output_type": "stream",
     "text": [
      "Epoch 47/64 | Train Loss: 1.1671 | Test Loss: 0.7049 | Accuracy: 79.60% | GPU Memory (Alloc/Reserved): 0.14/1.830 GB\n"
     ]
    },
    {
     "name": "stderr",
     "output_type": "stream",
     "text": [
      "Train epoch: 48: 100%|██████████| 59/59 [00:44<00:00,  1.32it/s]\n",
      "Test epoch: 48: 100%|██████████| 34/34 [00:04<00:00,  7.03it/s]\n"
     ]
    },
    {
     "name": "stdout",
     "output_type": "stream",
     "text": [
      "Epoch 48/64 | Train Loss: 1.1698 | Test Loss: 0.7006 | Accuracy: 79.55% | GPU Memory (Alloc/Reserved): 0.14/1.830 GB\n"
     ]
    },
    {
     "name": "stderr",
     "output_type": "stream",
     "text": [
      "Train epoch: 49: 100%|██████████| 59/59 [00:27<00:00,  2.16it/s]\n",
      "Test epoch: 49: 100%|██████████| 34/34 [00:04<00:00,  6.84it/s]\n"
     ]
    },
    {
     "name": "stdout",
     "output_type": "stream",
     "text": [
      "Epoch 49/64 | Train Loss: 1.1524 | Test Loss: 0.7018 | Accuracy: 79.69% | GPU Memory (Alloc/Reserved): 0.14/1.830 GB\n"
     ]
    },
    {
     "name": "stderr",
     "output_type": "stream",
     "text": [
      "Train epoch: 50: 100%|██████████| 59/59 [00:27<00:00,  2.17it/s]\n",
      "Test epoch: 50: 100%|██████████| 34/34 [00:04<00:00,  7.07it/s]\n"
     ]
    },
    {
     "name": "stdout",
     "output_type": "stream",
     "text": [
      "Epoch 50/64 | Train Loss: 1.1645 | Test Loss: 0.6879 | Accuracy: 79.97% | GPU Memory (Alloc/Reserved): 0.14/1.830 GB\n"
     ]
    },
    {
     "name": "stderr",
     "output_type": "stream",
     "text": [
      "Train epoch: 51: 100%|██████████| 59/59 [00:26<00:00,  2.19it/s]\n",
      "Test epoch: 51: 100%|██████████| 34/34 [00:04<00:00,  7.13it/s]\n"
     ]
    },
    {
     "name": "stdout",
     "output_type": "stream",
     "text": [
      "Epoch 51/64 | Train Loss: 1.1695 | Test Loss: 0.6979 | Accuracy: 79.97% | GPU Memory (Alloc/Reserved): 0.14/1.830 GB\n"
     ]
    },
    {
     "name": "stderr",
     "output_type": "stream",
     "text": [
      "Train epoch: 52: 100%|██████████| 59/59 [00:44<00:00,  1.33it/s]\n",
      "Test epoch: 52: 100%|██████████| 34/34 [00:11<00:00,  2.88it/s]\n"
     ]
    },
    {
     "name": "stdout",
     "output_type": "stream",
     "text": [
      "Epoch 52/64 | Train Loss: 1.1765 | Test Loss: 0.6885 | Accuracy: 80.25% | GPU Memory (Alloc/Reserved): 0.14/1.830 GB\n"
     ]
    },
    {
     "name": "stderr",
     "output_type": "stream",
     "text": [
      "Train epoch: 53: 100%|██████████| 59/59 [00:47<00:00,  1.24it/s]\n",
      "Test epoch: 53: 100%|██████████| 34/34 [00:04<00:00,  7.04it/s]\n"
     ]
    },
    {
     "name": "stdout",
     "output_type": "stream",
     "text": [
      "Epoch 53/64 | Train Loss: 1.1602 | Test Loss: 0.6945 | Accuracy: 79.83% | GPU Memory (Alloc/Reserved): 0.14/1.830 GB\n"
     ]
    },
    {
     "name": "stderr",
     "output_type": "stream",
     "text": [
      "Train epoch: 54: 100%|██████████| 59/59 [00:26<00:00,  2.20it/s]\n",
      "Test epoch: 54: 100%|██████████| 34/34 [00:04<00:00,  7.03it/s]\n"
     ]
    },
    {
     "name": "stdout",
     "output_type": "stream",
     "text": [
      "Epoch 54/64 | Train Loss: 1.1516 | Test Loss: 0.6902 | Accuracy: 80.02% | GPU Memory (Alloc/Reserved): 0.14/1.830 GB\n"
     ]
    },
    {
     "name": "stderr",
     "output_type": "stream",
     "text": [
      "Train epoch: 55: 100%|██████████| 59/59 [00:27<00:00,  2.18it/s]\n",
      "Test epoch: 55: 100%|██████████| 34/34 [00:04<00:00,  6.84it/s]\n"
     ]
    },
    {
     "name": "stdout",
     "output_type": "stream",
     "text": [
      "Epoch 55/64 | Train Loss: 1.1514 | Test Loss: 0.6829 | Accuracy: 80.30% | GPU Memory (Alloc/Reserved): 0.14/1.830 GB\n"
     ]
    },
    {
     "name": "stderr",
     "output_type": "stream",
     "text": [
      "Train epoch: 56: 100%|██████████| 59/59 [00:28<00:00,  2.09it/s]\n",
      "Test epoch: 56: 100%|██████████| 34/34 [00:04<00:00,  7.05it/s]\n"
     ]
    },
    {
     "name": "stdout",
     "output_type": "stream",
     "text": [
      "Epoch 56/64 | Train Loss: 1.1476 | Test Loss: 0.6857 | Accuracy: 79.92% | GPU Memory (Alloc/Reserved): 0.14/1.830 GB\n"
     ]
    },
    {
     "name": "stderr",
     "output_type": "stream",
     "text": [
      "Train epoch: 57: 100%|██████████| 59/59 [00:27<00:00,  2.17it/s]\n",
      "Test epoch: 57: 100%|██████████| 34/34 [00:04<00:00,  7.13it/s]\n"
     ]
    },
    {
     "name": "stdout",
     "output_type": "stream",
     "text": [
      "Epoch 57/64 | Train Loss: 1.1730 | Test Loss: 0.6837 | Accuracy: 79.60% | GPU Memory (Alloc/Reserved): 0.14/1.830 GB\n"
     ]
    },
    {
     "name": "stderr",
     "output_type": "stream",
     "text": [
      "Train epoch: 58: 100%|██████████| 59/59 [00:28<00:00,  2.05it/s]\n",
      "Test epoch: 58: 100%|██████████| 34/34 [00:13<00:00,  2.45it/s]\n"
     ]
    },
    {
     "name": "stdout",
     "output_type": "stream",
     "text": [
      "Epoch 58/64 | Train Loss: 1.1534 | Test Loss: 0.6907 | Accuracy: 79.92% | GPU Memory (Alloc/Reserved): 0.14/1.830 GB\n"
     ]
    },
    {
     "name": "stderr",
     "output_type": "stream",
     "text": [
      "Train epoch: 59: 100%|██████████| 59/59 [00:50<00:00,  1.16it/s]\n",
      "Test epoch: 59: 100%|██████████| 34/34 [00:11<00:00,  3.05it/s]\n"
     ]
    },
    {
     "name": "stdout",
     "output_type": "stream",
     "text": [
      "Epoch 59/64 | Train Loss: 1.1685 | Test Loss: 0.6823 | Accuracy: 79.88% | GPU Memory (Alloc/Reserved): 0.14/1.830 GB\n"
     ]
    },
    {
     "name": "stderr",
     "output_type": "stream",
     "text": [
      "Train epoch: 60: 100%|██████████| 59/59 [00:27<00:00,  2.12it/s]\n",
      "Test epoch: 60: 100%|██████████| 34/34 [00:04<00:00,  7.12it/s]\n"
     ]
    },
    {
     "name": "stdout",
     "output_type": "stream",
     "text": [
      "Epoch 60/64 | Train Loss: 1.1663 | Test Loss: 0.6877 | Accuracy: 79.92% | GPU Memory (Alloc/Reserved): 0.14/1.830 GB\n"
     ]
    },
    {
     "name": "stderr",
     "output_type": "stream",
     "text": [
      "Train epoch: 61: 100%|██████████| 59/59 [00:28<00:00,  2.08it/s]\n",
      "Test epoch: 61: 100%|██████████| 34/34 [00:04<00:00,  7.13it/s]\n"
     ]
    },
    {
     "name": "stdout",
     "output_type": "stream",
     "text": [
      "Epoch 61/64 | Train Loss: 1.1586 | Test Loss: 0.6903 | Accuracy: 80.07% | GPU Memory (Alloc/Reserved): 0.14/1.830 GB\n"
     ]
    },
    {
     "name": "stderr",
     "output_type": "stream",
     "text": [
      "Train epoch: 62: 100%|██████████| 59/59 [00:26<00:00,  2.19it/s]\n",
      "Test epoch: 62: 100%|██████████| 34/34 [00:04<00:00,  7.19it/s]\n"
     ]
    },
    {
     "name": "stdout",
     "output_type": "stream",
     "text": [
      "Epoch 62/64 | Train Loss: 1.1531 | Test Loss: 0.6806 | Accuracy: 80.07% | GPU Memory (Alloc/Reserved): 0.14/1.830 GB\n"
     ]
    },
    {
     "name": "stderr",
     "output_type": "stream",
     "text": [
      "Train epoch: 63: 100%|██████████| 59/59 [00:26<00:00,  2.21it/s]\n",
      "Test epoch: 63: 100%|██████████| 34/34 [00:04<00:00,  7.18it/s]\n"
     ]
    },
    {
     "name": "stdout",
     "output_type": "stream",
     "text": [
      "Epoch 63/64 | Train Loss: 1.1645 | Test Loss: 0.6948 | Accuracy: 80.02% | GPU Memory (Alloc/Reserved): 0.14/1.830 GB\n"
     ]
    },
    {
     "name": "stderr",
     "output_type": "stream",
     "text": [
      "Train epoch: 64: 100%|██████████| 59/59 [00:26<00:00,  2.22it/s]\n",
      "Test epoch: 64: 100%|██████████| 34/34 [00:04<00:00,  7.00it/s]\n"
     ]
    },
    {
     "name": "stdout",
     "output_type": "stream",
     "text": [
      "Epoch 64/64 | Train Loss: 1.1584 | Test Loss: 0.6827 | Accuracy: 80.11% | GPU Memory (Alloc/Reserved): 0.14/1.830 GB\n",
      "Training done!\n"
     ]
    },
    {
     "data": {
      "text/plain": [
       "<Figure size 1000x600 with 1 Axes>"
      ],
      "image/png": "[encoded data removed]"
     },
     "metadata": {},
     "output_type": "display_data"
    },
    {
     "data": {
      "text/plain": [
       "<Figure size 1000x600 with 1 Axes>"
      ],
      "image/png": "[encoded data removed]"
     },
     "metadata": {},
     "output_type": "display_data"
    },
    {
     "name": "stdout",
     "output_type": "stream",
     "text": [
      "Historical data saved successfully!\n"
     ]
    }
   ],
   "execution_count": 13
  },
  {
   "metadata": {
    "ExecuteTime": {
     "end_time": "2025-08-09T05:58:01.664149Z",
     "start_time": "2025-08-09T05:58:01.659150Z"
    }
   },
   "cell_type": "code",
   "source": [
    "from PIL import Image\n",
    "import torch.nn.functional as F\n",
    "\n",
    "def predict_single_image(model, image_path, classes, transform, device):\n",
    "\n",
    "    model.to(device)\n",
    "\n",
    "    model.eval()\n",
    "\n",
    "    image = Image.open(image_path).convert('RGB')\n",
    "\n",
    "    image_np = np.array(image)\n",
    "\n",
    "    augmented = transform(image=image_np)\n",
    "\n",
    "    image_tensor = augmented['image'].unsqueeze(0).to(device)\n",
    "\n",
    "    with torch.no_grad():\n",
    "\n",
    "        result = model(image_tensor)\n",
    "\n",
    "        probability = F.softmax(result, dim=1)\n",
    "\n",
    "        confidence, predicted = torch.max(probability, 1)\n",
    "\n",
    "        predicted_class = classes[predicted.item()]\n",
    "        confidence_score = confidence.item()\n",
    "\n",
    "    return predicted_class, confidence_score\n"
   ],
   "id": "340b828c2f1ea908",
   "outputs": [],
   "execution_count": 10
  },
  {
   "metadata": {
    "ExecuteTime": {
     "end_time": "2025-08-09T07:35:28.466311Z",
     "start_time": "2025-08-09T07:35:28.112855Z"
    }
   },
   "cell_type": "code",
   "source": [
    "import torchvision.models as models\n",
    "\n",
    "classes_names = train_set.classes\n",
    "hardware = torch.device('cuda' if   torch.cuda.is_available() else 'cpu')\n",
    "model_inference = PestClassifierMobileNetV2(num_classes=len(classes_names))\n",
    "model_inference.load_state_dict(torch.load('models/SMobileNetV3_rice_pest_classificationV2pth', map_location=hardware))\n",
    "image_path = 'datasets/val/brown-planthopper/7 (965).jpg'\n",
    "\n",
    "pest, confidence_score = predict_single_image(model=model_inference, image_path=image_path, classes=classes_names, transform=validation_pipeline, device=hardware)\n",
    "\n",
    "print(f\"The predicted pest is: {pest}\")\n",
    "print(f\"Confidence: {confidence_score * 100:.2f}%\")"
   ],
   "id": "affbac0d0a0851c8",
   "outputs": [
    {
     "name": "stdout",
     "output_type": "stream",
     "text": [
      "The predicted pest is: brown-planthopper\n",
      "Confidence: 81.80%\n"
     ]
    }
   ],
   "execution_count": 16
  }
 ],
 "metadata": {
  "kernelspec": {
   "display_name": "Python 3",
   "language": "python",
   "name": "python3"
  },
  "language_info": {
   "codemirror_mode": {
    "name": "ipython",
    "version": 2
   },
   "file_extension": ".py",
   "mimetype": "text/x-python",
   "name": "python",
   "nbconvert_exporter": "python",
   "pygments_lexer": "ipython2",
   "version": "2.7.6"
  }
 },
 "nbformat": 4,
 "nbformat_minor": 5
}
