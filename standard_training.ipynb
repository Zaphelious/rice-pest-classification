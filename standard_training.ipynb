{
 "cells": [
  {
   "metadata": {
    "ExecuteTime": {
     "end_time": "2025-08-10T12:07:09.573442Z",
     "start_time": "2025-08-10T12:07:09.473934Z"
    }
   },
   "cell_type": "code",
   "source": [
    "import torch\n",
    "\n",
    "print(torch.version.cuda)\n",
    "print(torch.cuda.get_device_name(0))"
   ],
   "id": "cb5a725a97da07f1",
   "outputs": [
    {
     "name": "stdout",
     "output_type": "stream",
     "text": [
      "12.8\n",
      "NVIDIA GeForce RTX 4060 Laptop GPU\n"
     ]
    }
   ],
   "execution_count": 2
  },
  {
   "metadata": {
    "ExecuteTime": {
     "end_time": "2025-08-10T15:36:13.762584Z",
     "start_time": "2025-08-10T15:36:13.754258Z"
    }
   },
   "cell_type": "code",
   "source": [
    "import torch\n",
    "\n",
    "# Check and report VRAM usage\n",
    "# torch.cuda.memory_allocated() gives the current tensor memory usage in bytes.\n",
    "allocated_bytes = torch.cuda.memory_allocated('cuda')\n",
    "allocated_mb = allocated_bytes / (1024 * 1024)\n",
    "\n",
    "reserved_bytes = torch.cuda.memory_reserved('cuda')\n",
    "reserved_mb = reserved_bytes / (1024 * 1024)\n",
    "\n",
    "print(\"\\n--- VRAM USAGE REPORT ---\")\n",
    "print(f\"Memory Allocated: {allocated_mb:.2f} MB\")\n",
    "print(f\"Memory Reserved:  {reserved_mb:.2f} MB\")\n",
    "print(\"-------------------------\\n\")\n",
    "#"
   ],
   "id": "23d50c3f254a094",
   "outputs": [
    {
     "name": "stdout",
     "output_type": "stream",
     "text": [
      "\n",
      "--- VRAM USAGE REPORT ---\n",
      "Memory Allocated: 38.50 MB\n",
      "Memory Reserved:  1874.00 MB\n",
      "-------------------------\n",
      "\n"
     ]
    }
   ],
   "execution_count": 66
  },
  {
   "metadata": {
    "collapsed": true,
    "ExecuteTime": {
     "end_time": "2025-08-10T13:03:14.340207Z",
     "start_time": "2025-08-10T13:03:14.293300Z"
    }
   },
   "cell_type": "code",
   "source": [
    "import albumentations as A\n",
    "from albumentations.pytorch import ToTensorV2\n",
    "\n",
    "training_pipeline = A.Compose([\n",
    "    A.Resize(height=224, width=224),\n",
    "    A.SquareSymmetry(p=0.5),\n",
    "    A.RandomCrop(height=180, width=180,  p=0.8),\n",
    "    A.Resize(height=224, width=224),\n",
    "    A.RandomRain(slant_range=(-15,15), drop_length=15, drop_width=1, rain_type=\"default\", blur_value=7 ,p=0.4),\n",
    "    A.RandomBrightnessContrast(brightness_limit=(-0.3, 0.3), contrast_limit=(-0.2, 0.2), p=0.3),\n",
    "    A.Rotate(limit=45, p=0.4),\n",
    "    A.GaussNoise(std_range=(0.1, 0.2), per_channel=True  ,p=0.3),\n",
    "    A.ColorJitter(brightness=(0.8, 1.1), contrast=(0.8, 1.1), saturation=(0.8, 1.1), hue=(-0.5, 0.5)),\n",
    "    A.CoarseDropout(num_holes_range=(1, 5), hole_height_range=(0.1, 0.25),\n",
    "                        hole_width_range=(0.1, 0.25), fill=0, p=0.2),\n",
    "    A.Normalize(mean=(0.485, 0.456, 0.406),std=(0.229, 0.224, 0.225)),\n",
    "    ToTensorV2()\n",
    "])\n",
    "\n",
    "validation_pipeline = A.Compose([\n",
    "    A.Resize(height=224, width=224),\n",
    "    A.Normalize(mean=(0.485, 0.456, 0.406), std=(0.229, 0.224, 0.225)),\n",
    "    ToTensorV2()\n",
    "])\n",
    "\n",
    "experiment_pipeline = A.Compose([\n",
    "    A.Resize(height=224, width=224),\n",
    "    A.HorizontalFlip(p=0.6),\n",
    "    A.VerticalFlip(p=0.6),\n",
    "    A.Rotate(limit=(-45,45), p=0.7),\n",
    "    A.Normalize(mean=(0.485, 0.456, 0.406), std=(0.229, 0.224, 0.225)),\n",
    "    ToTensorV2()\n",
    "])"
   ],
   "id": "initial_id",
   "outputs": [],
   "execution_count": 25
  },
  {
   "metadata": {
    "ExecuteTime": {
     "end_time": "2025-08-10T13:03:15.607873Z",
     "start_time": "2025-08-10T13:03:15.602728Z"
    }
   },
   "cell_type": "code",
   "source": [
    "import cv2\n",
    "from torchvision import datasets\n",
    "\n",
    "class CustomDataset(datasets.ImageFolder):\n",
    "\n",
    "    def __getitem__(self, index):\n",
    "\n",
    "        path, target = self.samples[index]\n",
    "\n",
    "        image = cv2.imread(path)\n",
    "        image = cv2.cvtColor(image, cv2.COLOR_BGR2RGB)\n",
    "\n",
    "        if self.transform:\n",
    "            augmented = self.transform(image=image)\n",
    "            image = augmented['image']\n",
    "\n",
    "        return image, target\n",
    "\n",
    "    def __len__(self):\n",
    "        return len(self.samples)"
   ],
   "id": "6daf511998047715",
   "outputs": [],
   "execution_count": 26
  },
  {
   "metadata": {
    "ExecuteTime": {
     "end_time": "2025-08-10T15:30:33.719944Z",
     "start_time": "2025-08-10T15:30:33.711854Z"
    }
   },
   "cell_type": "code",
   "source": [
    "import torchvision.models as models\n",
    "import torch.nn as nn\n",
    "\n",
    "class PestClassifierMobileNetV2(nn.Module):\n",
    "\n",
    "    def __init__(self, num_classes):\n",
    "        super(PestClassifierMobileNetV2, self).__init__()\n",
    "\n",
    "        # get model\n",
    "        self.base_model = models.mobilenet_v2(weights='MobileNet_V2_Weights.IMAGENET1K_V2')\n",
    "\n",
    "        # Froze feature extraction layer to retain weights.\n",
    "        # for params in self.base_model.parameters():\n",
    "        #     params.requires_grad = False\n",
    "\n",
    "        # get number of features\n",
    "        num_filters = self.base_model.classifier[1].in_features\n",
    "\n",
    "        # Hyperparameter tuning: new layer for 6 rice pests.\n",
    "        self.base_model.classifier[1] = nn.Linear(num_filters, num_classes)\n",
    "\n",
    "    # Forward propagation\n",
    "    def forward(self, x):\n",
    "\n",
    "       features = self.base_model.features(x)\n",
    "\n",
    "       features = F.adaptive_avg_pool2d(features, output_size=(1, 1)).reshape(features.shape[0], -1)\n",
    "\n",
    "       features = self.base_model.classifier(features)\n",
    "\n",
    "       return features\n",
    "\n",
    "    def unfreeze_last_block(self):\n",
    "\n",
    "        print(\"\\nUnfreezing last block of feature extraction.\")\n",
    "\n",
    "        for param in self.base_model.features[-1].parameters():\n",
    "            param.requires_grad = True\n",
    "\n",
    "    def unfreeze_final_invert_residual(self):\n",
    "\n",
    "        print('\\nUnfreezing final inverse residual feature extraction.')\n",
    "\n",
    "        for param in self.base_model.features[-2].parameters():\n",
    "            param.requires_grad = True\n",
    "\n",
    "    def unfreeze_second_last_invert_residual(self):\n",
    "        print('\\nUnfreezing second last inverse residual feature extraction.')\n",
    "\n",
    "        for param in self.base_model.features[-3].parameters():\n",
    "            param.requires_grad = True\n",
    "\n",
    "    def unfreeze_third_last_invert_residual(self):\n",
    "        print('\\nUnfreezing third last inverse residual feature extraction.')\n",
    "\n",
    "        for param in self.base_model.features[-4].parameters():\n",
    "            param.requires_grad = True\n",
    "\n",
    "    def freeze_last_block(self):\n",
    "        print(\"\\nFreezing last block of feature extraction.\")\n",
    "        for param in self.base_model.features[-1].parameters():\n",
    "            param.requires_grad = False\n"
   ],
   "id": "8172f748d43e758a",
   "outputs": [],
   "execution_count": 65
  },
  {
   "metadata": {
    "ExecuteTime": {
     "end_time": "2025-08-10T13:04:03.488994Z",
     "start_time": "2025-08-10T13:04:03.478678Z"
    }
   },
   "cell_type": "code",
   "source": [
    "import torch\n",
    "from tqdm import tqdm\n",
    "\n",
    "def train_and_test(model, optimizer, criterion, train_dataloader, test_dataloader, num_epoch, device):\n",
    "    train_losses = []\n",
    "    test_losses = []\n",
    "    accuracies = []\n",
    "    best_accuracy = 0.0\n",
    "\n",
    "    for epoch in range(num_epoch):\n",
    "        # --- TRAINING PHASE ---\n",
    "        model.train()\n",
    "        running_train_loss = 0.0\n",
    "        train_pbar = tqdm(train_dataloader, desc=f\"Train epoch: {epoch+1}\")\n",
    "        for data, labels in train_pbar:\n",
    "            data, labels = data.to(device), labels.to(device)\n",
    "            optimizer.zero_grad()\n",
    "            output = model(data)\n",
    "            loss = criterion(output, labels)\n",
    "            loss.backward()\n",
    "            optimizer.step()\n",
    "            running_train_loss += loss.item()\n",
    "        training_loss = running_train_loss / len(train_dataloader)\n",
    "        train_losses.append(training_loss)\n",
    "\n",
    "        # --- TESTING PHASE ---\n",
    "        model.eval()\n",
    "        running_test_loss = 0.0\n",
    "        correct_predictions = 0\n",
    "        total_samples = 0\n",
    "\n",
    "        with torch.no_grad():\n",
    "            for inputs, labels in tqdm(test_dataloader, desc=f\"Test epoch: {epoch+1}\"):\n",
    "                inputs, labels = inputs.to(device), labels.to(device)\n",
    "\n",
    "                output_loss = model(inputs)\n",
    "                loss = criterion(output_loss, labels)\n",
    "                running_test_loss += loss.item()\n",
    "                _, predicted = torch.max(output_loss.data, 1)\n",
    "                total_samples += labels.size(0)\n",
    "                correct_predictions += (predicted == labels).sum().item()\n",
    "\n",
    "        testing_loss = running_test_loss / len(test_dataloader)\n",
    "        test_losses.append(testing_loss)\n",
    "        accuracy = 100 * correct_predictions / total_samples\n",
    "        accuracies.append(accuracy)\n",
    "\n",
    "        epoch_summary = f'Epoch {epoch+1}/{num_epoch} | Train Loss: {training_loss:.4f} | Test Loss: {testing_loss:.4f} | Accuracy: {accuracy:.2f}%'\n",
    "\n",
    "        if device.type == 'cuda':\n",
    "            allocated_gb = torch.cuda.memory_allocated() / (1024 ** 3)\n",
    "            reserved_gb = torch.cuda.memory_reserved() / (1024 ** 3)\n",
    "            epoch_summary += f' | GPU Memory (Alloc/Reserved): {allocated_gb:.2f}/{reserved_gb:.3f} GB'\n",
    "\n",
    "        tqdm.write(epoch_summary)\n",
    "\n",
    "        if accuracy > best_accuracy:\n",
    "            best_accuracy = accuracy\n",
    "            torch.save(model.state_dict(), 'models/SMobileNetV2_rice_pest_classificationV8.pt')\n",
    "\n",
    "        # scheduler.step(testing_loss)\n",
    "\n",
    "    tqdm.write('Phase done!')\n",
    "\n",
    "    return {'train_loss': train_losses, 'test_loss': test_losses, 'accuracy': accuracies}, best_accuracy"
   ],
   "id": "fca4e6f7abec2fbd",
   "outputs": [],
   "execution_count": 29
  },
  {
   "metadata": {
    "ExecuteTime": {
     "end_time": "2025-08-10T13:04:27.964497Z",
     "start_time": "2025-08-10T13:04:27.953423Z"
    }
   },
   "cell_type": "code",
   "source": [
    "import seaborn as sns\n",
    "import matplotlib.pyplot as plt\n",
    "import pandas as pd\n",
    "import numpy as np\n",
    "\n",
    "def plot_training_result(*results):\n",
    "\n",
    "    full_train_loss = []\n",
    "    full_test_loss = []\n",
    "\n",
    "    for res in results:\n",
    "        full_train_loss.extend(res.get('train_loss', []))\n",
    "        full_test_loss.extend(res.get('test_loss', []))\n",
    "\n",
    "    total_epochs = len(full_train_loss)\n",
    "    if total_epochs == 0:\n",
    "        print(\"No data to plot.\")\n",
    "        return\n",
    "\n",
    "    epochs = range(1, total_epochs + 1)\n",
    "\n",
    "    data = {\n",
    "        'Epoch': epochs,\n",
    "        'Training Loss': full_train_loss,\n",
    "        'Testing Loss': full_test_loss,\n",
    "    }\n",
    "\n",
    "    df = pd.DataFrame(data)\n",
    "\n",
    "    df_long = df.melt(id_vars=['Epoch'], var_name='Loss Type', value_name='Loss')\n",
    "\n",
    "    plt.figure(figsize=(10, 6))\n",
    "    sns.lineplot(data=df_long, x='Epoch', y='Loss', hue='Loss Type', marker='o')\n",
    "\n",
    "    plt.title('Training and Testing Loss Comparison')\n",
    "    plt.xlabel('Epoch')\n",
    "    plt.ylabel('Loss')\n",
    "    plt.legend()\n",
    "    plt.grid(True)\n",
    "    plt.show()\n",
    "\n",
    "def plot_accuracy(*results):\n",
    "\n",
    "    full_accuracy = []\n",
    "\n",
    "    for result in results:\n",
    "        accuracy = result.get('accuracy', [])\n",
    "        full_accuracy.extend(accuracy)\n",
    "\n",
    "    total_epochs = len(full_accuracy)\n",
    "    if total_epochs == 0:\n",
    "        print(\"No accuracy data to plot.\")\n",
    "        return\n",
    "\n",
    "    epochs = range(1, total_epochs + 1)\n",
    "\n",
    "    plt.figure(figsize=(10, 6))\n",
    "    plt.plot(epochs, full_accuracy, label='Accuracy', marker='o', color='g')\n",
    "\n",
    "    plt.title('Accuracy Evaluation')\n",
    "    plt.xlabel('Epoch')\n",
    "    plt.ylabel('Accuracy (%)')\n",
    "    plt.legend()\n",
    "    plt.grid(True)\n",
    "    plt.show()\n",
    "\n",
    "\n",
    "def save_historical_data(*histories):\n",
    "\n",
    "    full_train_loss = []\n",
    "    full_test_loss = []\n",
    "    full_accuracy = []\n",
    "\n",
    "    for history in histories:\n",
    "\n",
    "        full_train_loss.extend(history.get('train_loss', []))\n",
    "        full_test_loss.extend(history.get('test_loss', []))\n",
    "        full_accuracy.extend(history.get('accuracy', []))\n",
    "\n",
    "    total_epochs = len(full_train_loss)\n",
    "\n",
    "    data_dict = {\n",
    "        'epoch': total_epochs,\n",
    "        'train_loss': full_train_loss,\n",
    "        'test_loss': full_test_loss,\n",
    "        'accuracy': full_accuracy,\n",
    "    }\n",
    "\n",
    "    history_df = pd.DataFrame(data_dict)\n",
    "    history_df.to_csv('training_history_standardV8.csv', index=False)\n",
    "\n",
    "    print(\"Historical data saved successfully!\")\n",
    "\n",
    "# def save_single_data(data):\n",
    "\n",
    "# sample_test_accuracies = np.linspace(0.60, 0.95, 20) - np.random.rand(20) * 0.08\n",
    "# plot_accuracy(accuracy=sample_test_accuracies)\n"
   ],
   "id": "74773810c269080d",
   "outputs": [],
   "execution_count": 30
  },
  {
   "metadata": {
    "ExecuteTime": {
     "end_time": "2025-08-10T13:04:37.068336Z",
     "start_time": "2025-08-10T13:04:36.805727Z"
    }
   },
   "cell_type": "code",
   "source": [
    "from torch.utils.data import DataLoader\n",
    "\n",
    "train_set = CustomDataset(root='datasets/train', transform=training_pipeline)\n",
    "train_loader = DataLoader(train_set, batch_size=128, shuffle=True)\n",
    "test_set = CustomDataset(root='datasets/test', transform=validation_pipeline)\n",
    "test_loader = DataLoader(test_set, batch_size=64, shuffle=True)\n",
    "\n",
    "classes = train_set.classes"
   ],
   "id": "4fd20dd312f838ff",
   "outputs": [],
   "execution_count": 31
  },
  {
   "metadata": {
    "ExecuteTime": {
     "end_time": "2025-08-10T13:51:33.854021Z",
     "start_time": "2025-08-10T13:06:09.173039Z"
    }
   },
   "cell_type": "code",
   "source": [
    "import torch.optim as optim\n",
    "import torch.optim.lr_scheduler as lr_scheduler\n",
    "\n",
    "hardware = torch.device('cuda' if   torch.cuda.is_available() else 'cpu')\n",
    "classes = 6\n",
    "learning_rate = 1e-3\n",
    "weight_decay = 1e-2\n",
    "num_epochs = 64\n",
    "criterion = nn.CrossEntropyLoss()\n",
    "\n",
    "model = PestClassifierMobileNetV2(num_classes=classes).to(hardware)\n",
    "# model.load_state_dict(torch.load('models/PestClassifierMobileNetV2.pth'))\n",
    "\n",
    "optimizer = optim.Adam(filter(lambda p: p.requires_grad, model.parameters()), lr=learning_rate)\n",
    "\n",
    "# # Phase 1\n",
    "\n",
    "result_1, accuracies = train_and_test(model=model, optimizer=optimizer, criterion=criterion,train_dataloader=train_loader, test_dataloader=test_loader, num_epoch=num_epochs, device=hardware)\n",
    "\n",
    "plot_training_result(result_1)\n",
    "plot_accuracy(result_1)\n",
    "save_historical_data(result_1)"
   ],
   "id": "42228f67409bda4c",
   "outputs": [
    {
     "name": "stderr",
     "output_type": "stream",
     "text": [
      "Train epoch: 1: 100%|██████████| 59/59 [00:39<00:00,  1.48it/s]\n",
      "Test epoch: 1: 100%|██████████| 34/34 [00:07<00:00,  4.84it/s]\n"
     ]
    },
    {
     "name": "stdout",
     "output_type": "stream",
     "text": [
      "Epoch 1/64 | Train Loss: 1.4580 | Test Loss: 0.9939 | Accuracy: 67.87% | GPU Memory (Alloc/Reserved): 0.06/1.824 GB\n"
     ]
    },
    {
     "name": "stderr",
     "output_type": "stream",
     "text": [
      "Train epoch: 2: 100%|██████████| 59/59 [00:24<00:00,  2.42it/s]\n",
      "Test epoch: 2: 100%|██████████| 34/34 [00:04<00:00,  7.06it/s]\n"
     ]
    },
    {
     "name": "stdout",
     "output_type": "stream",
     "text": [
      "Epoch 2/64 | Train Loss: 1.2335 | Test Loss: 0.8350 | Accuracy: 72.51% | GPU Memory (Alloc/Reserved): 0.06/1.824 GB\n"
     ]
    },
    {
     "name": "stderr",
     "output_type": "stream",
     "text": [
      "Train epoch: 3: 100%|██████████| 59/59 [00:27<00:00,  2.13it/s]\n",
      "Test epoch: 3: 100%|██████████| 34/34 [00:05<00:00,  6.42it/s]\n"
     ]
    },
    {
     "name": "stdout",
     "output_type": "stream",
     "text": [
      "Epoch 3/64 | Train Loss: 1.1866 | Test Loss: 0.7732 | Accuracy: 74.20% | GPU Memory (Alloc/Reserved): 0.06/1.824 GB\n"
     ]
    },
    {
     "name": "stderr",
     "output_type": "stream",
     "text": [
      "Train epoch: 4: 100%|██████████| 59/59 [00:26<00:00,  2.20it/s]\n",
      "Test epoch: 4: 100%|██████████| 34/34 [00:05<00:00,  6.74it/s]\n"
     ]
    },
    {
     "name": "stdout",
     "output_type": "stream",
     "text": [
      "Epoch 4/64 | Train Loss: 1.1485 | Test Loss: 0.7087 | Accuracy: 76.55% | GPU Memory (Alloc/Reserved): 0.06/1.824 GB\n"
     ]
    },
    {
     "name": "stderr",
     "output_type": "stream",
     "text": [
      "Train epoch: 5: 100%|██████████| 59/59 [00:25<00:00,  2.33it/s]\n",
      "Test epoch: 5: 100%|██████████| 34/34 [00:05<00:00,  6.35it/s]\n"
     ]
    },
    {
     "name": "stdout",
     "output_type": "stream",
     "text": [
      "Epoch 5/64 | Train Loss: 1.1158 | Test Loss: 0.7094 | Accuracy: 75.89% | GPU Memory (Alloc/Reserved): 0.06/1.824 GB\n"
     ]
    },
    {
     "name": "stderr",
     "output_type": "stream",
     "text": [
      "Train epoch: 6: 100%|██████████| 59/59 [00:24<00:00,  2.41it/s]\n",
      "Test epoch: 6: 100%|██████████| 34/34 [00:04<00:00,  7.15it/s]\n"
     ]
    },
    {
     "name": "stdout",
     "output_type": "stream",
     "text": [
      "Epoch 6/64 | Train Loss: 1.1188 | Test Loss: 0.6854 | Accuracy: 76.17% | GPU Memory (Alloc/Reserved): 0.06/1.824 GB\n"
     ]
    },
    {
     "name": "stderr",
     "output_type": "stream",
     "text": [
      "Train epoch: 7: 100%|██████████| 59/59 [00:24<00:00,  2.40it/s]\n",
      "Test epoch: 7: 100%|██████████| 34/34 [00:04<00:00,  7.22it/s]\n"
     ]
    },
    {
     "name": "stdout",
     "output_type": "stream",
     "text": [
      "Epoch 7/64 | Train Loss: 1.0962 | Test Loss: 0.6533 | Accuracy: 77.86% | GPU Memory (Alloc/Reserved): 0.06/1.824 GB\n"
     ]
    },
    {
     "name": "stderr",
     "output_type": "stream",
     "text": [
      "Train epoch: 8: 100%|██████████| 59/59 [00:24<00:00,  2.42it/s]\n",
      "Test epoch: 8: 100%|██████████| 34/34 [00:04<00:00,  7.22it/s]\n"
     ]
    },
    {
     "name": "stdout",
     "output_type": "stream",
     "text": [
      "Epoch 8/64 | Train Loss: 1.0971 | Test Loss: 0.6438 | Accuracy: 79.27% | GPU Memory (Alloc/Reserved): 0.06/1.824 GB\n"
     ]
    },
    {
     "name": "stderr",
     "output_type": "stream",
     "text": [
      "Train epoch: 9: 100%|██████████| 59/59 [00:24<00:00,  2.41it/s]\n",
      "Test epoch: 9: 100%|██████████| 34/34 [00:04<00:00,  7.13it/s]\n"
     ]
    },
    {
     "name": "stdout",
     "output_type": "stream",
     "text": [
      "Epoch 9/64 | Train Loss: 1.0871 | Test Loss: 0.6256 | Accuracy: 78.89% | GPU Memory (Alloc/Reserved): 0.06/1.824 GB\n"
     ]
    },
    {
     "name": "stderr",
     "output_type": "stream",
     "text": [
      "Train epoch: 10: 100%|██████████| 59/59 [00:25<00:00,  2.30it/s]\n",
      "Test epoch: 10: 100%|██████████| 34/34 [00:04<00:00,  7.12it/s]\n"
     ]
    },
    {
     "name": "stdout",
     "output_type": "stream",
     "text": [
      "Epoch 10/64 | Train Loss: 1.0908 | Test Loss: 0.6125 | Accuracy: 80.35% | GPU Memory (Alloc/Reserved): 0.06/1.824 GB\n"
     ]
    },
    {
     "name": "stderr",
     "output_type": "stream",
     "text": [
      "Train epoch: 11: 100%|██████████| 59/59 [00:24<00:00,  2.44it/s]\n",
      "Test epoch: 11: 100%|██████████| 34/34 [00:04<00:00,  7.19it/s]\n"
     ]
    },
    {
     "name": "stdout",
     "output_type": "stream",
     "text": [
      "Epoch 11/64 | Train Loss: 1.0944 | Test Loss: 0.6068 | Accuracy: 80.49% | GPU Memory (Alloc/Reserved): 0.06/1.824 GB\n"
     ]
    },
    {
     "name": "stderr",
     "output_type": "stream",
     "text": [
      "Train epoch: 12: 100%|██████████| 59/59 [00:24<00:00,  2.45it/s]\n",
      "Test epoch: 12: 100%|██████████| 34/34 [00:04<00:00,  7.21it/s]\n"
     ]
    },
    {
     "name": "stdout",
     "output_type": "stream",
     "text": [
      "Epoch 12/64 | Train Loss: 1.0603 | Test Loss: 0.5963 | Accuracy: 81.33% | GPU Memory (Alloc/Reserved): 0.06/1.824 GB\n"
     ]
    },
    {
     "name": "stderr",
     "output_type": "stream",
     "text": [
      "Train epoch: 13: 100%|██████████| 59/59 [00:24<00:00,  2.43it/s]\n",
      "Test epoch: 13: 100%|██████████| 34/34 [00:04<00:00,  7.12it/s]\n"
     ]
    },
    {
     "name": "stdout",
     "output_type": "stream",
     "text": [
      "Epoch 13/64 | Train Loss: 1.0758 | Test Loss: 0.6264 | Accuracy: 80.07% | GPU Memory (Alloc/Reserved): 0.06/1.824 GB\n"
     ]
    },
    {
     "name": "stderr",
     "output_type": "stream",
     "text": [
      "Train epoch: 14: 100%|██████████| 59/59 [00:24<00:00,  2.45it/s]\n",
      "Test epoch: 14: 100%|██████████| 34/34 [00:04<00:00,  7.25it/s]\n"
     ]
    },
    {
     "name": "stdout",
     "output_type": "stream",
     "text": [
      "Epoch 14/64 | Train Loss: 1.0567 | Test Loss: 0.5817 | Accuracy: 81.47% | GPU Memory (Alloc/Reserved): 0.06/1.824 GB\n"
     ]
    },
    {
     "name": "stderr",
     "output_type": "stream",
     "text": [
      "Train epoch: 15: 100%|██████████| 59/59 [00:24<00:00,  2.44it/s]\n",
      "Test epoch: 15: 100%|██████████| 34/34 [00:04<00:00,  7.20it/s]\n"
     ]
    },
    {
     "name": "stdout",
     "output_type": "stream",
     "text": [
      "Epoch 15/64 | Train Loss: 1.0694 | Test Loss: 0.5887 | Accuracy: 81.10% | GPU Memory (Alloc/Reserved): 0.06/1.824 GB\n"
     ]
    },
    {
     "name": "stderr",
     "output_type": "stream",
     "text": [
      "Train epoch: 16: 100%|██████████| 59/59 [00:24<00:00,  2.45it/s]\n",
      "Test epoch: 16: 100%|██████████| 34/34 [00:04<00:00,  7.22it/s]\n"
     ]
    },
    {
     "name": "stdout",
     "output_type": "stream",
     "text": [
      "Epoch 16/64 | Train Loss: 1.0586 | Test Loss: 0.5873 | Accuracy: 80.91% | GPU Memory (Alloc/Reserved): 0.06/1.824 GB\n"
     ]
    },
    {
     "name": "stderr",
     "output_type": "stream",
     "text": [
      "Train epoch: 17: 100%|██████████| 59/59 [00:24<00:00,  2.44it/s]\n",
      "Test epoch: 17: 100%|██████████| 34/34 [00:04<00:00,  7.22it/s]\n"
     ]
    },
    {
     "name": "stdout",
     "output_type": "stream",
     "text": [
      "Epoch 17/64 | Train Loss: 1.0572 | Test Loss: 0.6340 | Accuracy: 77.58% | GPU Memory (Alloc/Reserved): 0.06/1.824 GB\n"
     ]
    },
    {
     "name": "stderr",
     "output_type": "stream",
     "text": [
      "Train epoch: 18: 100%|██████████| 59/59 [00:24<00:00,  2.44it/s]\n",
      "Test epoch: 18: 100%|██████████| 34/34 [00:04<00:00,  7.21it/s]\n"
     ]
    },
    {
     "name": "stdout",
     "output_type": "stream",
     "text": [
      "Epoch 18/64 | Train Loss: 1.0707 | Test Loss: 0.5808 | Accuracy: 81.14% | GPU Memory (Alloc/Reserved): 0.06/1.824 GB\n"
     ]
    },
    {
     "name": "stderr",
     "output_type": "stream",
     "text": [
      "Train epoch: 19: 100%|██████████| 59/59 [00:24<00:00,  2.39it/s]\n",
      "Test epoch: 19: 100%|██████████| 34/34 [00:04<00:00,  7.09it/s]\n"
     ]
    },
    {
     "name": "stdout",
     "output_type": "stream",
     "text": [
      "Epoch 19/64 | Train Loss: 1.0736 | Test Loss: 0.5783 | Accuracy: 80.86% | GPU Memory (Alloc/Reserved): 0.06/1.824 GB\n"
     ]
    },
    {
     "name": "stderr",
     "output_type": "stream",
     "text": [
      "Train epoch: 20: 100%|██████████| 59/59 [00:24<00:00,  2.39it/s]\n",
      "Test epoch: 20: 100%|██████████| 34/34 [00:04<00:00,  7.10it/s]\n"
     ]
    },
    {
     "name": "stdout",
     "output_type": "stream",
     "text": [
      "Epoch 20/64 | Train Loss: 1.0585 | Test Loss: 0.6096 | Accuracy: 78.42% | GPU Memory (Alloc/Reserved): 0.06/1.824 GB\n"
     ]
    },
    {
     "name": "stderr",
     "output_type": "stream",
     "text": [
      "Train epoch: 21: 100%|██████████| 59/59 [00:24<00:00,  2.36it/s]\n",
      "Test epoch: 21: 100%|██████████| 34/34 [00:04<00:00,  6.90it/s]\n"
     ]
    },
    {
     "name": "stdout",
     "output_type": "stream",
     "text": [
      "Epoch 21/64 | Train Loss: 1.0776 | Test Loss: 0.6014 | Accuracy: 79.22% | GPU Memory (Alloc/Reserved): 0.06/1.824 GB\n"
     ]
    },
    {
     "name": "stderr",
     "output_type": "stream",
     "text": [
      "Train epoch: 22: 100%|██████████| 59/59 [00:24<00:00,  2.38it/s]\n",
      "Test epoch: 22: 100%|██████████| 34/34 [00:04<00:00,  6.81it/s]\n"
     ]
    },
    {
     "name": "stdout",
     "output_type": "stream",
     "text": [
      "Epoch 22/64 | Train Loss: 1.0748 | Test Loss: 0.5709 | Accuracy: 81.43% | GPU Memory (Alloc/Reserved): 0.06/1.824 GB\n"
     ]
    },
    {
     "name": "stderr",
     "output_type": "stream",
     "text": [
      "Train epoch: 23: 100%|██████████| 59/59 [00:25<00:00,  2.33it/s]\n",
      "Test epoch: 23: 100%|██████████| 34/34 [00:04<00:00,  6.96it/s]\n"
     ]
    },
    {
     "name": "stdout",
     "output_type": "stream",
     "text": [
      "Epoch 23/64 | Train Loss: 1.0485 | Test Loss: 0.5720 | Accuracy: 81.33% | GPU Memory (Alloc/Reserved): 0.06/1.824 GB\n"
     ]
    },
    {
     "name": "stderr",
     "output_type": "stream",
     "text": [
      "Train epoch: 24: 100%|██████████| 59/59 [00:49<00:00,  1.18it/s]\n",
      "Test epoch: 24: 100%|██████████| 34/34 [00:06<00:00,  5.23it/s]\n"
     ]
    },
    {
     "name": "stdout",
     "output_type": "stream",
     "text": [
      "Epoch 24/64 | Train Loss: 1.0510 | Test Loss: 0.5512 | Accuracy: 81.71% | GPU Memory (Alloc/Reserved): 0.06/1.824 GB\n"
     ]
    },
    {
     "name": "stderr",
     "output_type": "stream",
     "text": [
      "Train epoch: 25: 100%|██████████| 59/59 [00:42<00:00,  1.38it/s]\n",
      "Test epoch: 25: 100%|██████████| 34/34 [00:05<00:00,  5.72it/s]\n"
     ]
    },
    {
     "name": "stdout",
     "output_type": "stream",
     "text": [
      "Epoch 25/64 | Train Loss: 1.0672 | Test Loss: 0.5650 | Accuracy: 81.10% | GPU Memory (Alloc/Reserved): 0.06/1.824 GB\n"
     ]
    },
    {
     "name": "stderr",
     "output_type": "stream",
     "text": [
      "Train epoch: 26: 100%|██████████| 59/59 [00:27<00:00,  2.15it/s]\n",
      "Test epoch: 26: 100%|██████████| 34/34 [00:05<00:00,  6.56it/s]\n"
     ]
    },
    {
     "name": "stdout",
     "output_type": "stream",
     "text": [
      "Epoch 26/64 | Train Loss: 1.0532 | Test Loss: 0.5697 | Accuracy: 80.86% | GPU Memory (Alloc/Reserved): 0.06/1.824 GB\n"
     ]
    },
    {
     "name": "stderr",
     "output_type": "stream",
     "text": [
      "Train epoch: 27: 100%|██████████| 59/59 [01:04<00:00,  1.10s/it]\n",
      "Test epoch: 27: 100%|██████████| 34/34 [00:12<00:00,  2.64it/s]\n"
     ]
    },
    {
     "name": "stdout",
     "output_type": "stream",
     "text": [
      "Epoch 27/64 | Train Loss: 1.0620 | Test Loss: 0.5712 | Accuracy: 80.49% | GPU Memory (Alloc/Reserved): 0.06/1.824 GB\n"
     ]
    },
    {
     "name": "stderr",
     "output_type": "stream",
     "text": [
      "Train epoch: 28: 100%|██████████| 59/59 [01:01<00:00,  1.05s/it]\n",
      "Test epoch: 28: 100%|██████████| 34/34 [00:11<00:00,  2.92it/s]\n"
     ]
    },
    {
     "name": "stdout",
     "output_type": "stream",
     "text": [
      "Epoch 28/64 | Train Loss: 1.0539 | Test Loss: 0.5763 | Accuracy: 80.35% | GPU Memory (Alloc/Reserved): 0.06/1.824 GB\n"
     ]
    },
    {
     "name": "stderr",
     "output_type": "stream",
     "text": [
      "Train epoch: 29: 100%|██████████| 59/59 [01:04<00:00,  1.09s/it]\n",
      "Test epoch: 29: 100%|██████████| 34/34 [00:12<00:00,  2.62it/s]\n"
     ]
    },
    {
     "name": "stdout",
     "output_type": "stream",
     "text": [
      "Epoch 29/64 | Train Loss: 1.0381 | Test Loss: 0.5597 | Accuracy: 82.08% | GPU Memory (Alloc/Reserved): 0.06/1.824 GB\n"
     ]
    },
    {
     "name": "stderr",
     "output_type": "stream",
     "text": [
      "Train epoch: 30: 100%|██████████| 59/59 [01:04<00:00,  1.10s/it]\n",
      "Test epoch: 30: 100%|██████████| 34/34 [00:12<00:00,  2.81it/s]\n"
     ]
    },
    {
     "name": "stdout",
     "output_type": "stream",
     "text": [
      "Epoch 30/64 | Train Loss: 1.0468 | Test Loss: 0.5478 | Accuracy: 82.27% | GPU Memory (Alloc/Reserved): 0.06/1.824 GB\n"
     ]
    },
    {
     "name": "stderr",
     "output_type": "stream",
     "text": [
      "Train epoch: 31: 100%|██████████| 59/59 [00:59<00:00,  1.00s/it]\n",
      "Test epoch: 31: 100%|██████████| 34/34 [00:11<00:00,  3.03it/s]\n"
     ]
    },
    {
     "name": "stdout",
     "output_type": "stream",
     "text": [
      "Epoch 31/64 | Train Loss: 1.0622 | Test Loss: 0.5777 | Accuracy: 80.39% | GPU Memory (Alloc/Reserved): 0.06/1.824 GB\n"
     ]
    },
    {
     "name": "stderr",
     "output_type": "stream",
     "text": [
      "Train epoch: 32: 100%|██████████| 59/59 [01:07<00:00,  1.14s/it]\n",
      "Test epoch: 32: 100%|██████████| 34/34 [00:12<00:00,  2.82it/s]\n"
     ]
    },
    {
     "name": "stdout",
     "output_type": "stream",
     "text": [
      "Epoch 32/64 | Train Loss: 1.0458 | Test Loss: 0.5460 | Accuracy: 82.88% | GPU Memory (Alloc/Reserved): 0.06/1.824 GB\n"
     ]
    },
    {
     "name": "stderr",
     "output_type": "stream",
     "text": [
      "Train epoch: 33: 100%|██████████| 59/59 [01:04<00:00,  1.09s/it]\n",
      "Test epoch: 33: 100%|██████████| 34/34 [00:11<00:00,  2.98it/s]\n"
     ]
    },
    {
     "name": "stdout",
     "output_type": "stream",
     "text": [
      "Epoch 33/64 | Train Loss: 1.0444 | Test Loss: 0.5527 | Accuracy: 82.36% | GPU Memory (Alloc/Reserved): 0.06/1.824 GB\n"
     ]
    },
    {
     "name": "stderr",
     "output_type": "stream",
     "text": [
      "Train epoch: 34: 100%|██████████| 59/59 [01:03<00:00,  1.07s/it]\n",
      "Test epoch: 34: 100%|██████████| 34/34 [00:11<00:00,  3.07it/s]\n"
     ]
    },
    {
     "name": "stdout",
     "output_type": "stream",
     "text": [
      "Epoch 34/64 | Train Loss: 1.0396 | Test Loss: 0.5405 | Accuracy: 82.93% | GPU Memory (Alloc/Reserved): 0.06/1.824 GB\n"
     ]
    },
    {
     "name": "stderr",
     "output_type": "stream",
     "text": [
      "Train epoch: 35: 100%|██████████| 59/59 [01:05<00:00,  1.12s/it]\n",
      "Test epoch: 35: 100%|██████████| 34/34 [00:10<00:00,  3.10it/s]\n"
     ]
    },
    {
     "name": "stdout",
     "output_type": "stream",
     "text": [
      "Epoch 35/64 | Train Loss: 1.0660 | Test Loss: 0.5535 | Accuracy: 81.75% | GPU Memory (Alloc/Reserved): 0.06/1.824 GB\n"
     ]
    },
    {
     "name": "stderr",
     "output_type": "stream",
     "text": [
      "Train epoch: 36: 100%|██████████| 59/59 [01:04<00:00,  1.10s/it]\n",
      "Test epoch: 36: 100%|██████████| 34/34 [00:12<00:00,  2.80it/s]\n"
     ]
    },
    {
     "name": "stdout",
     "output_type": "stream",
     "text": [
      "Epoch 36/64 | Train Loss: 1.0344 | Test Loss: 0.5548 | Accuracy: 81.10% | GPU Memory (Alloc/Reserved): 0.06/1.824 GB\n"
     ]
    },
    {
     "name": "stderr",
     "output_type": "stream",
     "text": [
      "Train epoch: 37: 100%|██████████| 59/59 [01:03<00:00,  1.08s/it]\n",
      "Test epoch: 37: 100%|██████████| 34/34 [00:11<00:00,  3.05it/s]\n"
     ]
    },
    {
     "name": "stdout",
     "output_type": "stream",
     "text": [
      "Epoch 37/64 | Train Loss: 1.0378 | Test Loss: 0.5577 | Accuracy: 81.33% | GPU Memory (Alloc/Reserved): 0.06/1.824 GB\n"
     ]
    },
    {
     "name": "stderr",
     "output_type": "stream",
     "text": [
      "Train epoch: 38: 100%|██████████| 59/59 [01:06<00:00,  1.13s/it]\n",
      "Test epoch: 38: 100%|██████████| 34/34 [00:12<00:00,  2.80it/s]\n"
     ]
    },
    {
     "name": "stdout",
     "output_type": "stream",
     "text": [
      "Epoch 38/64 | Train Loss: 1.0614 | Test Loss: 0.5464 | Accuracy: 82.83% | GPU Memory (Alloc/Reserved): 0.06/1.824 GB\n"
     ]
    },
    {
     "name": "stderr",
     "output_type": "stream",
     "text": [
      "Train epoch: 39: 100%|██████████| 59/59 [01:13<00:00,  1.24s/it]\n",
      "Test epoch: 39: 100%|██████████| 34/34 [00:13<00:00,  2.47it/s]\n"
     ]
    },
    {
     "name": "stdout",
     "output_type": "stream",
     "text": [
      "Epoch 39/64 | Train Loss: 1.0403 | Test Loss: 0.5486 | Accuracy: 82.18% | GPU Memory (Alloc/Reserved): 0.06/1.824 GB\n"
     ]
    },
    {
     "name": "stderr",
     "output_type": "stream",
     "text": [
      "Train epoch: 40: 100%|██████████| 59/59 [01:08<00:00,  1.16s/it]\n",
      "Test epoch: 40: 100%|██████████| 34/34 [00:10<00:00,  3.12it/s]\n"
     ]
    },
    {
     "name": "stdout",
     "output_type": "stream",
     "text": [
      "Epoch 40/64 | Train Loss: 1.0500 | Test Loss: 0.5642 | Accuracy: 80.53% | GPU Memory (Alloc/Reserved): 0.06/1.824 GB\n"
     ]
    },
    {
     "name": "stderr",
     "output_type": "stream",
     "text": [
      "Train epoch: 41: 100%|██████████| 59/59 [01:10<00:00,  1.20s/it]\n",
      "Test epoch: 41: 100%|██████████| 34/34 [00:11<00:00,  2.90it/s]\n"
     ]
    },
    {
     "name": "stdout",
     "output_type": "stream",
     "text": [
      "Epoch 41/64 | Train Loss: 1.0578 | Test Loss: 0.5388 | Accuracy: 83.11% | GPU Memory (Alloc/Reserved): 0.06/1.824 GB\n"
     ]
    },
    {
     "name": "stderr",
     "output_type": "stream",
     "text": [
      "Train epoch: 42: 100%|██████████| 59/59 [01:04<00:00,  1.09s/it]\n",
      "Test epoch: 42: 100%|██████████| 34/34 [00:05<00:00,  6.80it/s]\n"
     ]
    },
    {
     "name": "stdout",
     "output_type": "stream",
     "text": [
      "Epoch 42/64 | Train Loss: 1.0381 | Test Loss: 0.5430 | Accuracy: 82.27% | GPU Memory (Alloc/Reserved): 0.06/1.824 GB\n"
     ]
    },
    {
     "name": "stderr",
     "output_type": "stream",
     "text": [
      "Train epoch: 43: 100%|██████████| 59/59 [00:26<00:00,  2.26it/s]\n",
      "Test epoch: 43: 100%|██████████| 34/34 [00:05<00:00,  6.70it/s]\n"
     ]
    },
    {
     "name": "stdout",
     "output_type": "stream",
     "text": [
      "Epoch 43/64 | Train Loss: 1.0508 | Test Loss: 0.5846 | Accuracy: 79.74% | GPU Memory (Alloc/Reserved): 0.06/1.824 GB\n"
     ]
    },
    {
     "name": "stderr",
     "output_type": "stream",
     "text": [
      "Train epoch: 44: 100%|██████████| 59/59 [00:25<00:00,  2.34it/s]\n",
      "Test epoch: 44: 100%|██████████| 34/34 [00:04<00:00,  7.11it/s]\n"
     ]
    },
    {
     "name": "stdout",
     "output_type": "stream",
     "text": [
      "Epoch 44/64 | Train Loss: 1.0520 | Test Loss: 0.5466 | Accuracy: 81.29% | GPU Memory (Alloc/Reserved): 0.06/1.824 GB\n"
     ]
    },
    {
     "name": "stderr",
     "output_type": "stream",
     "text": [
      "Train epoch: 45: 100%|██████████| 59/59 [00:25<00:00,  2.28it/s]\n",
      "Test epoch: 45: 100%|██████████| 34/34 [00:05<00:00,  6.61it/s]\n"
     ]
    },
    {
     "name": "stdout",
     "output_type": "stream",
     "text": [
      "Epoch 45/64 | Train Loss: 1.0409 | Test Loss: 0.5532 | Accuracy: 81.94% | GPU Memory (Alloc/Reserved): 0.06/1.824 GB\n"
     ]
    },
    {
     "name": "stderr",
     "output_type": "stream",
     "text": [
      "Train epoch: 46: 100%|██████████| 59/59 [00:25<00:00,  2.34it/s]\n",
      "Test epoch: 46: 100%|██████████| 34/34 [00:04<00:00,  7.17it/s]\n"
     ]
    },
    {
     "name": "stdout",
     "output_type": "stream",
     "text": [
      "Epoch 46/64 | Train Loss: 1.0541 | Test Loss: 0.5449 | Accuracy: 81.89% | GPU Memory (Alloc/Reserved): 0.06/1.824 GB\n"
     ]
    },
    {
     "name": "stderr",
     "output_type": "stream",
     "text": [
      "Train epoch: 47: 100%|██████████| 59/59 [00:24<00:00,  2.42it/s]\n",
      "Test epoch: 47: 100%|██████████| 34/34 [00:04<00:00,  7.15it/s]\n"
     ]
    },
    {
     "name": "stdout",
     "output_type": "stream",
     "text": [
      "Epoch 47/64 | Train Loss: 1.0332 | Test Loss: 0.5442 | Accuracy: 81.43% | GPU Memory (Alloc/Reserved): 0.06/1.824 GB\n"
     ]
    },
    {
     "name": "stderr",
     "output_type": "stream",
     "text": [
      "Train epoch: 48: 100%|██████████| 59/59 [00:24<00:00,  2.43it/s]\n",
      "Test epoch: 48: 100%|██████████| 34/34 [00:04<00:00,  7.08it/s]\n"
     ]
    },
    {
     "name": "stdout",
     "output_type": "stream",
     "text": [
      "Epoch 48/64 | Train Loss: 1.0414 | Test Loss: 0.5312 | Accuracy: 82.69% | GPU Memory (Alloc/Reserved): 0.06/1.824 GB\n"
     ]
    },
    {
     "name": "stderr",
     "output_type": "stream",
     "text": [
      "Train epoch: 49: 100%|██████████| 59/59 [00:24<00:00,  2.37it/s]\n",
      "Test epoch: 49: 100%|██████████| 34/34 [00:04<00:00,  7.13it/s]\n"
     ]
    },
    {
     "name": "stdout",
     "output_type": "stream",
     "text": [
      "Epoch 49/64 | Train Loss: 1.0683 | Test Loss: 0.5469 | Accuracy: 82.08% | GPU Memory (Alloc/Reserved): 0.06/1.824 GB\n"
     ]
    },
    {
     "name": "stderr",
     "output_type": "stream",
     "text": [
      "Train epoch: 50: 100%|██████████| 59/59 [00:24<00:00,  2.40it/s]\n",
      "Test epoch: 50: 100%|██████████| 34/34 [00:04<00:00,  6.92it/s]\n"
     ]
    },
    {
     "name": "stdout",
     "output_type": "stream",
     "text": [
      "Epoch 50/64 | Train Loss: 1.0439 | Test Loss: 0.5497 | Accuracy: 82.04% | GPU Memory (Alloc/Reserved): 0.06/1.824 GB\n"
     ]
    },
    {
     "name": "stderr",
     "output_type": "stream",
     "text": [
      "Train epoch: 51: 100%|██████████| 59/59 [00:25<00:00,  2.32it/s]\n",
      "Test epoch: 51: 100%|██████████| 34/34 [00:04<00:00,  7.09it/s]\n"
     ]
    },
    {
     "name": "stdout",
     "output_type": "stream",
     "text": [
      "Epoch 51/64 | Train Loss: 1.0393 | Test Loss: 0.5616 | Accuracy: 81.38% | GPU Memory (Alloc/Reserved): 0.06/1.824 GB\n"
     ]
    },
    {
     "name": "stderr",
     "output_type": "stream",
     "text": [
      "Train epoch: 52: 100%|██████████| 59/59 [00:24<00:00,  2.42it/s]\n",
      "Test epoch: 52: 100%|██████████| 34/34 [00:04<00:00,  7.11it/s]\n"
     ]
    },
    {
     "name": "stdout",
     "output_type": "stream",
     "text": [
      "Epoch 52/64 | Train Loss: 1.0480 | Test Loss: 0.5531 | Accuracy: 81.80% | GPU Memory (Alloc/Reserved): 0.06/1.824 GB\n"
     ]
    },
    {
     "name": "stderr",
     "output_type": "stream",
     "text": [
      "Train epoch: 53: 100%|██████████| 59/59 [00:24<00:00,  2.43it/s]\n",
      "Test epoch: 53: 100%|██████████| 34/34 [00:04<00:00,  7.18it/s]\n"
     ]
    },
    {
     "name": "stdout",
     "output_type": "stream",
     "text": [
      "Epoch 53/64 | Train Loss: 1.0549 | Test Loss: 0.5331 | Accuracy: 82.55% | GPU Memory (Alloc/Reserved): 0.06/1.824 GB\n"
     ]
    },
    {
     "name": "stderr",
     "output_type": "stream",
     "text": [
      "Train epoch: 54: 100%|██████████| 59/59 [00:24<00:00,  2.42it/s]\n",
      "Test epoch: 54: 100%|██████████| 34/34 [00:04<00:00,  7.13it/s]\n"
     ]
    },
    {
     "name": "stdout",
     "output_type": "stream",
     "text": [
      "Epoch 54/64 | Train Loss: 1.0360 | Test Loss: 0.5687 | Accuracy: 80.21% | GPU Memory (Alloc/Reserved): 0.06/1.824 GB\n"
     ]
    },
    {
     "name": "stderr",
     "output_type": "stream",
     "text": [
      "Train epoch: 55: 100%|██████████| 59/59 [00:24<00:00,  2.42it/s]\n",
      "Test epoch: 55: 100%|██████████| 34/34 [00:04<00:00,  7.21it/s]\n"
     ]
    },
    {
     "name": "stdout",
     "output_type": "stream",
     "text": [
      "Epoch 55/64 | Train Loss: 1.0571 | Test Loss: 0.5517 | Accuracy: 81.85% | GPU Memory (Alloc/Reserved): 0.06/1.824 GB\n"
     ]
    },
    {
     "name": "stderr",
     "output_type": "stream",
     "text": [
      "Train epoch: 56: 100%|██████████| 59/59 [00:24<00:00,  2.40it/s]\n",
      "Test epoch: 56: 100%|██████████| 34/34 [00:04<00:00,  7.20it/s]\n"
     ]
    },
    {
     "name": "stdout",
     "output_type": "stream",
     "text": [
      "Epoch 56/64 | Train Loss: 1.0561 | Test Loss: 0.5625 | Accuracy: 81.10% | GPU Memory (Alloc/Reserved): 0.06/1.824 GB\n"
     ]
    },
    {
     "name": "stderr",
     "output_type": "stream",
     "text": [
      "Train epoch: 57: 100%|██████████| 59/59 [00:24<00:00,  2.44it/s]\n",
      "Test epoch: 57: 100%|██████████| 34/34 [00:04<00:00,  7.17it/s]\n"
     ]
    },
    {
     "name": "stdout",
     "output_type": "stream",
     "text": [
      "Epoch 57/64 | Train Loss: 1.0524 | Test Loss: 0.5267 | Accuracy: 82.36% | GPU Memory (Alloc/Reserved): 0.06/1.824 GB\n"
     ]
    },
    {
     "name": "stderr",
     "output_type": "stream",
     "text": [
      "Train epoch: 58: 100%|██████████| 59/59 [00:24<00:00,  2.43it/s]\n",
      "Test epoch: 58: 100%|██████████| 34/34 [00:04<00:00,  7.21it/s]\n"
     ]
    },
    {
     "name": "stdout",
     "output_type": "stream",
     "text": [
      "Epoch 58/64 | Train Loss: 1.0386 | Test Loss: 0.5297 | Accuracy: 82.32% | GPU Memory (Alloc/Reserved): 0.06/1.824 GB\n"
     ]
    },
    {
     "name": "stderr",
     "output_type": "stream",
     "text": [
      "Train epoch: 59: 100%|██████████| 59/59 [00:24<00:00,  2.44it/s]\n",
      "Test epoch: 59: 100%|██████████| 34/34 [00:04<00:00,  7.12it/s]\n"
     ]
    },
    {
     "name": "stdout",
     "output_type": "stream",
     "text": [
      "Epoch 59/64 | Train Loss: 1.0287 | Test Loss: 0.5277 | Accuracy: 83.21% | GPU Memory (Alloc/Reserved): 0.06/1.824 GB\n"
     ]
    },
    {
     "name": "stderr",
     "output_type": "stream",
     "text": [
      "Train epoch: 60: 100%|██████████| 59/59 [00:24<00:00,  2.42it/s]\n",
      "Test epoch: 60: 100%|██████████| 34/34 [00:05<00:00,  6.57it/s]\n"
     ]
    },
    {
     "name": "stdout",
     "output_type": "stream",
     "text": [
      "Epoch 60/64 | Train Loss: 1.0499 | Test Loss: 0.5269 | Accuracy: 82.74% | GPU Memory (Alloc/Reserved): 0.06/1.824 GB\n"
     ]
    },
    {
     "name": "stderr",
     "output_type": "stream",
     "text": [
      "Train epoch: 61: 100%|██████████| 59/59 [00:26<00:00,  2.20it/s]\n",
      "Test epoch: 61: 100%|██████████| 34/34 [00:05<00:00,  6.26it/s]\n"
     ]
    },
    {
     "name": "stdout",
     "output_type": "stream",
     "text": [
      "Epoch 61/64 | Train Loss: 1.0351 | Test Loss: 0.5254 | Accuracy: 83.77% | GPU Memory (Alloc/Reserved): 0.06/1.824 GB\n"
     ]
    },
    {
     "name": "stderr",
     "output_type": "stream",
     "text": [
      "Train epoch: 62: 100%|██████████| 59/59 [00:26<00:00,  2.22it/s]\n",
      "Test epoch: 62: 100%|██████████| 34/34 [00:04<00:00,  7.03it/s]\n"
     ]
    },
    {
     "name": "stdout",
     "output_type": "stream",
     "text": [
      "Epoch 62/64 | Train Loss: 1.0441 | Test Loss: 0.5426 | Accuracy: 82.79% | GPU Memory (Alloc/Reserved): 0.06/1.824 GB\n"
     ]
    },
    {
     "name": "stderr",
     "output_type": "stream",
     "text": [
      "Train epoch: 63: 100%|██████████| 59/59 [00:25<00:00,  2.33it/s]\n",
      "Test epoch: 63: 100%|██████████| 34/34 [00:04<00:00,  7.02it/s]\n"
     ]
    },
    {
     "name": "stdout",
     "output_type": "stream",
     "text": [
      "Epoch 63/64 | Train Loss: 1.0445 | Test Loss: 0.5397 | Accuracy: 82.18% | GPU Memory (Alloc/Reserved): 0.06/1.824 GB\n"
     ]
    },
    {
     "name": "stderr",
     "output_type": "stream",
     "text": [
      "Train epoch: 64: 100%|██████████| 59/59 [00:25<00:00,  2.36it/s]\n",
      "Test epoch: 64: 100%|██████████| 34/34 [00:04<00:00,  7.05it/s]\n"
     ]
    },
    {
     "name": "stdout",
     "output_type": "stream",
     "text": [
      "Epoch 64/64 | Train Loss: 1.0642 | Test Loss: 0.5290 | Accuracy: 82.88% | GPU Memory (Alloc/Reserved): 0.06/1.824 GB\n",
      "Phase done!\n"
     ]
    },
    {
     "data": {
      "text/plain": [
       "<Figure size 1000x600 with 1 Axes>"
      ],
      "image/png": "[encoded data removed]"
     },
     "metadata": {},
     "output_type": "display_data"
    },
    {
     "data": {
      "text/plain": [
       "<Figure size 1000x600 with 1 Axes>"
      ],
      "image/png": "[encoded data removed]"
     },
     "metadata": {},
     "output_type": "display_data"
    },
    {
     "name": "stdout",
     "output_type": "stream",
     "text": [
      "Historical data saved successfully!\n"
     ]
    }
   ],
   "execution_count": 33
  },
  {
   "metadata": {
    "ExecuteTime": {
     "end_time": "2025-08-10T15:12:44.862894Z",
     "start_time": "2025-08-10T14:13:35.164911Z"
    }
   },
   "cell_type": "code",
   "source": [
    "import torch.optim as optim\n",
    "from torch.optim.lr_scheduler import ReduceLROnPlateau\n",
    "\n",
    "hardware = torch.device('cuda' if  torch.cuda.is_available() else 'cpu')\n",
    "classes = 6\n",
    "learning_rate = 1e-3\n",
    "weight_decay = 1e-2\n",
    "num_epochs = 32\n",
    "criterion = nn.CrossEntropyLoss()\n",
    "\n",
    "model = PestClassifierMobileNetV2(num_classes=classes).to(hardware)\n",
    "model.load_state_dict(torch.load('models/SMobileNetV2_rice_pest_classificationV8.pt'))\n",
    "model.unfreeze_last_block()\n",
    "\n",
    "optimizer = optim.AdamW(filter(lambda p: p.requires_grad, model.parameters()), lr=learning_rate, weight_decay=weight_decay)\n",
    "\n",
    "# scheduler = ReduceLROnPlateau(optimizer=optimizer, mode='min', factor=0.1, patience=4)\n",
    "\n",
    "result_2, accuracies_2 = train_and_test(model=model, optimizer=optimizer, criterion=criterion,train_dataloader=train_loader, test_dataloader=test_loader, num_epoch=64, device=hardware)\n",
    "\n",
    "# model.unfreeze_last_block()\n",
    "# print('Phase 2 training')\n",
    "#\n",
    "# result_2, accuracies_2 = train_and_test(model=model, optimizer=optimizer, scheduler=scheduler, criterion=criterion,train_dataloader=train_loader, test_dataloader=test_loader, num_epoch=64, device=hardware)\n",
    "#\n",
    "# model.unfreeze_final_invert_residual()\n",
    "# print('Phase 3 training')\n",
    "#\n",
    "# result_3, accuracies_3 = train_and_test(model=model, optimizer=optimizer, scheduler=scheduler, criterion=criterion,train_dataloader=train_loader, test_dataloader=test_loader, num_epoch=86, device=hardware)\n",
    "\n",
    "plot_training_result(result_2)\n",
    "plot_accuracy(result_2)\n",
    "save_historical_data(result_2)"
   ],
   "id": "168c5f1b7fae689c",
   "outputs": [
    {
     "name": "stdout",
     "output_type": "stream",
     "text": [
      "\n",
      "Unfreezing last block of feature extraction.\n"
     ]
    },
    {
     "name": "stderr",
     "output_type": "stream",
     "text": [
      "Train epoch: 1: 100%|██████████| 59/59 [00:38<00:00,  1.53it/s]\n",
      "Test epoch: 1: 100%|██████████| 34/34 [00:07<00:00,  4.82it/s]\n"
     ]
    },
    {
     "name": "stdout",
     "output_type": "stream",
     "text": [
      "Epoch 1/64 | Train Loss: 1.1672 | Test Loss: 0.5826 | Accuracy: 80.96% | GPU Memory (Alloc/Reserved): 0.07/1.828 GB\n"
     ]
    },
    {
     "name": "stderr",
     "output_type": "stream",
     "text": [
      "Train epoch: 2: 100%|██████████| 59/59 [00:26<00:00,  2.19it/s]\n",
      "Test epoch: 2: 100%|██████████| 34/34 [00:05<00:00,  6.45it/s]\n"
     ]
    },
    {
     "name": "stdout",
     "output_type": "stream",
     "text": [
      "Epoch 2/64 | Train Loss: 1.0218 | Test Loss: 0.4679 | Accuracy: 84.47% | GPU Memory (Alloc/Reserved): 0.07/1.828 GB\n"
     ]
    },
    {
     "name": "stderr",
     "output_type": "stream",
     "text": [
      "Train epoch: 3: 100%|██████████| 59/59 [00:26<00:00,  2.19it/s]\n",
      "Test epoch: 3: 100%|██████████| 34/34 [00:05<00:00,  6.75it/s]\n"
     ]
    },
    {
     "name": "stdout",
     "output_type": "stream",
     "text": [
      "Epoch 3/64 | Train Loss: 0.9769 | Test Loss: 0.4131 | Accuracy: 85.83% | GPU Memory (Alloc/Reserved): 0.07/1.828 GB\n"
     ]
    },
    {
     "name": "stderr",
     "output_type": "stream",
     "text": [
      "Train epoch: 4: 100%|██████████| 59/59 [00:34<00:00,  1.72it/s]\n",
      "Test epoch: 4: 100%|██████████| 34/34 [00:06<00:00,  5.47it/s]\n"
     ]
    },
    {
     "name": "stdout",
     "output_type": "stream",
     "text": [
      "Epoch 4/64 | Train Loss: 0.9197 | Test Loss: 0.4028 | Accuracy: 86.73% | GPU Memory (Alloc/Reserved): 0.07/1.828 GB\n"
     ]
    },
    {
     "name": "stderr",
     "output_type": "stream",
     "text": [
      "Train epoch: 5: 100%|██████████| 59/59 [00:27<00:00,  2.13it/s]\n",
      "Test epoch: 5: 100%|██████████| 34/34 [00:04<00:00,  6.86it/s]\n"
     ]
    },
    {
     "name": "stdout",
     "output_type": "stream",
     "text": [
      "Epoch 5/64 | Train Loss: 0.9030 | Test Loss: 0.4000 | Accuracy: 86.07% | GPU Memory (Alloc/Reserved): 0.07/1.828 GB\n"
     ]
    },
    {
     "name": "stderr",
     "output_type": "stream",
     "text": [
      "Train epoch: 6: 100%|██████████| 59/59 [00:26<00:00,  2.23it/s]\n",
      "Test epoch: 6: 100%|██████████| 34/34 [00:05<00:00,  6.26it/s]\n"
     ]
    },
    {
     "name": "stdout",
     "output_type": "stream",
     "text": [
      "Epoch 6/64 | Train Loss: 0.8789 | Test Loss: 0.3831 | Accuracy: 87.29% | GPU Memory (Alloc/Reserved): 0.07/1.828 GB\n"
     ]
    },
    {
     "name": "stderr",
     "output_type": "stream",
     "text": [
      "Train epoch: 7: 100%|██████████| 59/59 [00:26<00:00,  2.19it/s]\n",
      "Test epoch: 7: 100%|██████████| 34/34 [00:08<00:00,  3.89it/s]\n"
     ]
    },
    {
     "name": "stdout",
     "output_type": "stream",
     "text": [
      "Epoch 7/64 | Train Loss: 0.8517 | Test Loss: 0.3908 | Accuracy: 86.59% | GPU Memory (Alloc/Reserved): 0.07/1.828 GB\n"
     ]
    },
    {
     "name": "stderr",
     "output_type": "stream",
     "text": [
      "Train epoch: 8: 100%|██████████| 59/59 [01:12<00:00,  1.23s/it]\n",
      "Test epoch: 8: 100%|██████████| 34/34 [00:13<00:00,  2.58it/s]\n"
     ]
    },
    {
     "name": "stdout",
     "output_type": "stream",
     "text": [
      "Epoch 8/64 | Train Loss: 0.8194 | Test Loss: 0.4396 | Accuracy: 84.99% | GPU Memory (Alloc/Reserved): 0.07/1.828 GB\n"
     ]
    },
    {
     "name": "stderr",
     "output_type": "stream",
     "text": [
      "Train epoch: 9: 100%|██████████| 59/59 [01:13<00:00,  1.25s/it]\n",
      "Test epoch: 9: 100%|██████████| 34/34 [00:12<00:00,  2.67it/s]\n"
     ]
    },
    {
     "name": "stdout",
     "output_type": "stream",
     "text": [
      "Epoch 9/64 | Train Loss: 0.8369 | Test Loss: 0.3886 | Accuracy: 86.40% | GPU Memory (Alloc/Reserved): 0.07/1.828 GB\n"
     ]
    },
    {
     "name": "stderr",
     "output_type": "stream",
     "text": [
      "Train epoch: 10: 100%|██████████| 59/59 [01:11<00:00,  1.22s/it]\n",
      "Test epoch: 10: 100%|██████████| 34/34 [00:12<00:00,  2.73it/s]\n"
     ]
    },
    {
     "name": "stdout",
     "output_type": "stream",
     "text": [
      "Epoch 10/64 | Train Loss: 0.8258 | Test Loss: 0.3873 | Accuracy: 86.30% | GPU Memory (Alloc/Reserved): 0.07/1.828 GB\n"
     ]
    },
    {
     "name": "stderr",
     "output_type": "stream",
     "text": [
      "Train epoch: 11: 100%|██████████| 59/59 [01:18<00:00,  1.32s/it]\n",
      "Test epoch: 11: 100%|██████████| 34/34 [00:13<00:00,  2.49it/s]\n"
     ]
    },
    {
     "name": "stdout",
     "output_type": "stream",
     "text": [
      "Epoch 11/64 | Train Loss: 0.8026 | Test Loss: 0.3288 | Accuracy: 89.21% | GPU Memory (Alloc/Reserved): 0.07/1.828 GB\n"
     ]
    },
    {
     "name": "stderr",
     "output_type": "stream",
     "text": [
      "Train epoch: 12: 100%|██████████| 59/59 [01:09<00:00,  1.18s/it]\n",
      "Test epoch: 12: 100%|██████████| 34/34 [00:11<00:00,  3.00it/s]\n"
     ]
    },
    {
     "name": "stdout",
     "output_type": "stream",
     "text": [
      "Epoch 12/64 | Train Loss: 0.7858 | Test Loss: 0.3404 | Accuracy: 89.07% | GPU Memory (Alloc/Reserved): 0.07/1.828 GB\n"
     ]
    },
    {
     "name": "stderr",
     "output_type": "stream",
     "text": [
      "Train epoch: 13: 100%|██████████| 59/59 [01:03<00:00,  1.08s/it]\n",
      "Test epoch: 13: 100%|██████████| 34/34 [00:10<00:00,  3.15it/s]\n"
     ]
    },
    {
     "name": "stdout",
     "output_type": "stream",
     "text": [
      "Epoch 13/64 | Train Loss: 0.7922 | Test Loss: 0.3142 | Accuracy: 89.96% | GPU Memory (Alloc/Reserved): 0.07/1.828 GB\n"
     ]
    },
    {
     "name": "stderr",
     "output_type": "stream",
     "text": [
      "Train epoch: 14: 100%|██████████| 59/59 [01:16<00:00,  1.30s/it]\n",
      "Test epoch: 14: 100%|██████████| 34/34 [00:14<00:00,  2.37it/s]\n"
     ]
    },
    {
     "name": "stdout",
     "output_type": "stream",
     "text": [
      "Epoch 14/64 | Train Loss: 0.7847 | Test Loss: 0.3082 | Accuracy: 90.06% | GPU Memory (Alloc/Reserved): 0.07/1.828 GB\n"
     ]
    },
    {
     "name": "stderr",
     "output_type": "stream",
     "text": [
      "Train epoch: 15: 100%|██████████| 59/59 [01:08<00:00,  1.16s/it]\n",
      "Test epoch: 15: 100%|██████████| 34/34 [00:11<00:00,  3.03it/s]\n"
     ]
    },
    {
     "name": "stdout",
     "output_type": "stream",
     "text": [
      "Epoch 15/64 | Train Loss: 0.7620 | Test Loss: 0.3249 | Accuracy: 88.98% | GPU Memory (Alloc/Reserved): 0.07/1.828 GB\n"
     ]
    },
    {
     "name": "stderr",
     "output_type": "stream",
     "text": [
      "Train epoch: 16: 100%|██████████| 59/59 [01:10<00:00,  1.20s/it]\n",
      "Test epoch: 16: 100%|██████████| 34/34 [00:12<00:00,  2.67it/s]\n"
     ]
    },
    {
     "name": "stdout",
     "output_type": "stream",
     "text": [
      "Epoch 16/64 | Train Loss: 0.8038 | Test Loss: 0.2920 | Accuracy: 90.67% | GPU Memory (Alloc/Reserved): 0.07/1.828 GB\n"
     ]
    },
    {
     "name": "stderr",
     "output_type": "stream",
     "text": [
      "Train epoch: 17: 100%|██████████| 59/59 [01:17<00:00,  1.31s/it]\n",
      "Test epoch: 17: 100%|██████████| 34/34 [00:11<00:00,  2.88it/s]\n"
     ]
    },
    {
     "name": "stdout",
     "output_type": "stream",
     "text": [
      "Epoch 17/64 | Train Loss: 0.7515 | Test Loss: 0.2948 | Accuracy: 90.53% | GPU Memory (Alloc/Reserved): 0.07/1.828 GB\n"
     ]
    },
    {
     "name": "stderr",
     "output_type": "stream",
     "text": [
      "Train epoch: 18: 100%|██████████| 59/59 [01:07<00:00,  1.15s/it]\n",
      "Test epoch: 18: 100%|██████████| 34/34 [00:12<00:00,  2.74it/s]\n"
     ]
    },
    {
     "name": "stdout",
     "output_type": "stream",
     "text": [
      "Epoch 18/64 | Train Loss: 0.7475 | Test Loss: 0.3068 | Accuracy: 90.71% | GPU Memory (Alloc/Reserved): 0.07/1.828 GB\n"
     ]
    },
    {
     "name": "stderr",
     "output_type": "stream",
     "text": [
      "Train epoch: 19: 100%|██████████| 59/59 [00:51<00:00,  1.14it/s]\n",
      "Test epoch: 19: 100%|██████████| 34/34 [00:05<00:00,  6.67it/s]\n"
     ]
    },
    {
     "name": "stdout",
     "output_type": "stream",
     "text": [
      "Epoch 19/64 | Train Loss: 0.7302 | Test Loss: 0.3015 | Accuracy: 89.49% | GPU Memory (Alloc/Reserved): 0.07/1.828 GB\n"
     ]
    },
    {
     "name": "stderr",
     "output_type": "stream",
     "text": [
      "Train epoch: 20: 100%|██████████| 59/59 [00:27<00:00,  2.18it/s]\n",
      "Test epoch: 20: 100%|██████████| 34/34 [00:05<00:00,  6.51it/s]\n"
     ]
    },
    {
     "name": "stdout",
     "output_type": "stream",
     "text": [
      "Epoch 20/64 | Train Loss: 0.7280 | Test Loss: 0.2940 | Accuracy: 89.92% | GPU Memory (Alloc/Reserved): 0.07/1.828 GB\n"
     ]
    },
    {
     "name": "stderr",
     "output_type": "stream",
     "text": [
      "Train epoch: 21: 100%|██████████| 59/59 [00:27<00:00,  2.16it/s]\n",
      "Test epoch: 21: 100%|██████████| 34/34 [00:05<00:00,  6.72it/s]\n"
     ]
    },
    {
     "name": "stdout",
     "output_type": "stream",
     "text": [
      "Epoch 21/64 | Train Loss: 0.7307 | Test Loss: 0.2827 | Accuracy: 91.28% | GPU Memory (Alloc/Reserved): 0.07/1.828 GB\n"
     ]
    },
    {
     "name": "stderr",
     "output_type": "stream",
     "text": [
      "Train epoch: 22: 100%|██████████| 59/59 [00:27<00:00,  2.17it/s]\n",
      "Test epoch: 22: 100%|██████████| 34/34 [00:05<00:00,  6.19it/s]\n"
     ]
    },
    {
     "name": "stdout",
     "output_type": "stream",
     "text": [
      "Epoch 22/64 | Train Loss: 0.7300 | Test Loss: 0.2847 | Accuracy: 90.90% | GPU Memory (Alloc/Reserved): 0.07/1.828 GB\n"
     ]
    },
    {
     "name": "stderr",
     "output_type": "stream",
     "text": [
      "Train epoch: 23: 100%|██████████| 59/59 [00:31<00:00,  1.90it/s]\n",
      "Test epoch: 23: 100%|██████████| 34/34 [00:06<00:00,  5.12it/s]\n"
     ]
    },
    {
     "name": "stdout",
     "output_type": "stream",
     "text": [
      "Epoch 23/64 | Train Loss: 0.7198 | Test Loss: 0.2750 | Accuracy: 90.99% | GPU Memory (Alloc/Reserved): 0.07/1.828 GB\n"
     ]
    },
    {
     "name": "stderr",
     "output_type": "stream",
     "text": [
      "Train epoch: 24: 100%|██████████| 59/59 [00:32<00:00,  1.82it/s]\n",
      "Test epoch: 24: 100%|██████████| 34/34 [00:06<00:00,  5.38it/s]\n"
     ]
    },
    {
     "name": "stdout",
     "output_type": "stream",
     "text": [
      "Epoch 24/64 | Train Loss: 0.7090 | Test Loss: 0.2891 | Accuracy: 91.18% | GPU Memory (Alloc/Reserved): 0.07/1.828 GB\n"
     ]
    },
    {
     "name": "stderr",
     "output_type": "stream",
     "text": [
      "Train epoch: 25: 100%|██████████| 59/59 [00:33<00:00,  1.77it/s]\n",
      "Test epoch: 25: 100%|██████████| 34/34 [00:06<00:00,  5.35it/s]\n"
     ]
    },
    {
     "name": "stdout",
     "output_type": "stream",
     "text": [
      "Epoch 25/64 | Train Loss: 0.7024 | Test Loss: 0.2862 | Accuracy: 90.95% | GPU Memory (Alloc/Reserved): 0.07/1.828 GB\n"
     ]
    },
    {
     "name": "stderr",
     "output_type": "stream",
     "text": [
      "Train epoch: 26: 100%|██████████| 59/59 [00:33<00:00,  1.78it/s]\n",
      "Test epoch: 26: 100%|██████████| 34/34 [00:06<00:00,  5.26it/s]\n"
     ]
    },
    {
     "name": "stdout",
     "output_type": "stream",
     "text": [
      "Epoch 26/64 | Train Loss: 0.7179 | Test Loss: 0.2681 | Accuracy: 91.42% | GPU Memory (Alloc/Reserved): 0.07/1.828 GB\n"
     ]
    },
    {
     "name": "stderr",
     "output_type": "stream",
     "text": [
      "Train epoch: 27: 100%|██████████| 59/59 [00:30<00:00,  1.92it/s]\n",
      "Test epoch: 27: 100%|██████████| 34/34 [00:05<00:00,  6.32it/s]\n"
     ]
    },
    {
     "name": "stdout",
     "output_type": "stream",
     "text": [
      "Epoch 27/64 | Train Loss: 0.6954 | Test Loss: 0.2778 | Accuracy: 90.90% | GPU Memory (Alloc/Reserved): 0.07/1.828 GB\n"
     ]
    },
    {
     "name": "stderr",
     "output_type": "stream",
     "text": [
      "Train epoch: 28: 100%|██████████| 59/59 [00:28<00:00,  2.10it/s]\n",
      "Test epoch: 28: 100%|██████████| 34/34 [00:05<00:00,  5.91it/s]\n"
     ]
    },
    {
     "name": "stdout",
     "output_type": "stream",
     "text": [
      "Epoch 28/64 | Train Loss: 0.6938 | Test Loss: 0.2713 | Accuracy: 91.93% | GPU Memory (Alloc/Reserved): 0.07/1.828 GB\n"
     ]
    },
    {
     "name": "stderr",
     "output_type": "stream",
     "text": [
      "Train epoch: 29: 100%|██████████| 59/59 [00:27<00:00,  2.16it/s]\n",
      "Test epoch: 29: 100%|██████████| 34/34 [00:05<00:00,  6.80it/s]\n"
     ]
    },
    {
     "name": "stdout",
     "output_type": "stream",
     "text": [
      "Epoch 29/64 | Train Loss: 0.6760 | Test Loss: 0.2863 | Accuracy: 90.62% | GPU Memory (Alloc/Reserved): 0.07/1.828 GB\n"
     ]
    },
    {
     "name": "stderr",
     "output_type": "stream",
     "text": [
      "Train epoch: 30: 100%|██████████| 59/59 [00:30<00:00,  1.92it/s]\n",
      "Test epoch: 30: 100%|██████████| 34/34 [00:04<00:00,  6.82it/s]\n"
     ]
    },
    {
     "name": "stdout",
     "output_type": "stream",
     "text": [
      "Epoch 30/64 | Train Loss: 0.6937 | Test Loss: 0.3132 | Accuracy: 90.06% | GPU Memory (Alloc/Reserved): 0.07/1.828 GB\n"
     ]
    },
    {
     "name": "stderr",
     "output_type": "stream",
     "text": [
      "Train epoch: 31: 100%|██████████| 59/59 [00:28<00:00,  2.06it/s]\n",
      "Test epoch: 31: 100%|██████████| 34/34 [00:05<00:00,  6.76it/s]\n"
     ]
    },
    {
     "name": "stdout",
     "output_type": "stream",
     "text": [
      "Epoch 31/64 | Train Loss: 0.6852 | Test Loss: 0.2792 | Accuracy: 91.79% | GPU Memory (Alloc/Reserved): 0.07/1.828 GB\n"
     ]
    },
    {
     "name": "stderr",
     "output_type": "stream",
     "text": [
      "Train epoch: 32: 100%|██████████| 59/59 [00:27<00:00,  2.15it/s]\n",
      "Test epoch: 32: 100%|██████████| 34/34 [00:05<00:00,  6.40it/s]\n"
     ]
    },
    {
     "name": "stdout",
     "output_type": "stream",
     "text": [
      "Epoch 32/64 | Train Loss: 0.6906 | Test Loss: 0.2878 | Accuracy: 91.04% | GPU Memory (Alloc/Reserved): 0.07/1.828 GB\n"
     ]
    },
    {
     "name": "stderr",
     "output_type": "stream",
     "text": [
      "Train epoch: 33: 100%|██████████| 59/59 [00:26<00:00,  2.24it/s]\n",
      "Test epoch: 33: 100%|██████████| 34/34 [00:04<00:00,  6.86it/s]\n"
     ]
    },
    {
     "name": "stdout",
     "output_type": "stream",
     "text": [
      "Epoch 33/64 | Train Loss: 0.6893 | Test Loss: 0.2617 | Accuracy: 92.31% | GPU Memory (Alloc/Reserved): 0.07/1.828 GB\n"
     ]
    },
    {
     "name": "stderr",
     "output_type": "stream",
     "text": [
      "Train epoch: 34: 100%|██████████| 59/59 [00:25<00:00,  2.31it/s]\n",
      "Test epoch: 34: 100%|██████████| 34/34 [00:05<00:00,  6.63it/s]\n"
     ]
    },
    {
     "name": "stdout",
     "output_type": "stream",
     "text": [
      "Epoch 34/64 | Train Loss: 0.6692 | Test Loss: 0.2700 | Accuracy: 91.65% | GPU Memory (Alloc/Reserved): 0.07/1.828 GB\n"
     ]
    },
    {
     "name": "stderr",
     "output_type": "stream",
     "text": [
      "Train epoch: 35: 100%|██████████| 59/59 [00:33<00:00,  1.78it/s]\n",
      "Test epoch: 35: 100%|██████████| 34/34 [00:07<00:00,  4.25it/s]\n"
     ]
    },
    {
     "name": "stdout",
     "output_type": "stream",
     "text": [
      "Epoch 35/64 | Train Loss: 0.6974 | Test Loss: 0.2574 | Accuracy: 91.93% | GPU Memory (Alloc/Reserved): 0.07/1.828 GB\n"
     ]
    },
    {
     "name": "stderr",
     "output_type": "stream",
     "text": [
      "Train epoch: 36: 100%|██████████| 59/59 [00:39<00:00,  1.50it/s]\n",
      "Test epoch: 36: 100%|██████████| 34/34 [00:07<00:00,  4.55it/s]\n"
     ]
    },
    {
     "name": "stdout",
     "output_type": "stream",
     "text": [
      "Epoch 36/64 | Train Loss: 0.6771 | Test Loss: 0.2606 | Accuracy: 91.84% | GPU Memory (Alloc/Reserved): 0.07/1.828 GB\n"
     ]
    },
    {
     "name": "stderr",
     "output_type": "stream",
     "text": [
      "Train epoch: 37: 100%|██████████| 59/59 [00:31<00:00,  1.88it/s]\n",
      "Test epoch: 37: 100%|██████████| 34/34 [00:05<00:00,  6.78it/s]\n"
     ]
    },
    {
     "name": "stdout",
     "output_type": "stream",
     "text": [
      "Epoch 37/64 | Train Loss: 0.6550 | Test Loss: 0.2725 | Accuracy: 91.84% | GPU Memory (Alloc/Reserved): 0.07/1.828 GB\n"
     ]
    },
    {
     "name": "stderr",
     "output_type": "stream",
     "text": [
      "Train epoch: 38: 100%|██████████| 59/59 [00:26<00:00,  2.22it/s]\n",
      "Test epoch: 38: 100%|██████████| 34/34 [00:05<00:00,  6.52it/s]\n"
     ]
    },
    {
     "name": "stdout",
     "output_type": "stream",
     "text": [
      "Epoch 38/64 | Train Loss: 0.6700 | Test Loss: 0.2534 | Accuracy: 91.93% | GPU Memory (Alloc/Reserved): 0.07/1.828 GB\n"
     ]
    },
    {
     "name": "stderr",
     "output_type": "stream",
     "text": [
      "Train epoch: 39: 100%|██████████| 59/59 [00:52<00:00,  1.13it/s]\n",
      "Test epoch: 39: 100%|██████████| 34/34 [00:11<00:00,  2.97it/s]\n"
     ]
    },
    {
     "name": "stdout",
     "output_type": "stream",
     "text": [
      "Epoch 39/64 | Train Loss: 0.6701 | Test Loss: 0.2416 | Accuracy: 92.40% | GPU Memory (Alloc/Reserved): 0.07/1.828 GB\n"
     ]
    },
    {
     "name": "stderr",
     "output_type": "stream",
     "text": [
      "Train epoch: 40: 100%|██████████| 59/59 [01:07<00:00,  1.14s/it]\n",
      "Test epoch: 40: 100%|██████████| 34/34 [00:12<00:00,  2.83it/s]\n"
     ]
    },
    {
     "name": "stdout",
     "output_type": "stream",
     "text": [
      "Epoch 40/64 | Train Loss: 0.6598 | Test Loss: 0.2617 | Accuracy: 92.26% | GPU Memory (Alloc/Reserved): 0.07/1.828 GB\n"
     ]
    },
    {
     "name": "stderr",
     "output_type": "stream",
     "text": [
      "Train epoch: 41: 100%|██████████| 59/59 [01:03<00:00,  1.07s/it]\n",
      "Test epoch: 41: 100%|██████████| 34/34 [00:10<00:00,  3.36it/s]\n"
     ]
    },
    {
     "name": "stdout",
     "output_type": "stream",
     "text": [
      "Epoch 41/64 | Train Loss: 0.6706 | Test Loss: 0.2389 | Accuracy: 92.96% | GPU Memory (Alloc/Reserved): 0.07/1.828 GB\n"
     ]
    },
    {
     "name": "stderr",
     "output_type": "stream",
     "text": [
      "Train epoch: 42: 100%|██████████| 59/59 [00:58<00:00,  1.01it/s]\n",
      "Test epoch: 42: 100%|██████████| 34/34 [00:10<00:00,  3.33it/s]\n"
     ]
    },
    {
     "name": "stdout",
     "output_type": "stream",
     "text": [
      "Epoch 42/64 | Train Loss: 0.6749 | Test Loss: 0.2383 | Accuracy: 92.59% | GPU Memory (Alloc/Reserved): 0.07/1.828 GB\n"
     ]
    },
    {
     "name": "stderr",
     "output_type": "stream",
     "text": [
      "Train epoch: 43: 100%|██████████| 59/59 [01:07<00:00,  1.14s/it]\n",
      "Test epoch: 43: 100%|██████████| 34/34 [00:11<00:00,  3.07it/s]\n"
     ]
    },
    {
     "name": "stdout",
     "output_type": "stream",
     "text": [
      "Epoch 43/64 | Train Loss: 0.6503 | Test Loss: 0.2503 | Accuracy: 92.50% | GPU Memory (Alloc/Reserved): 0.07/1.828 GB\n"
     ]
    },
    {
     "name": "stderr",
     "output_type": "stream",
     "text": [
      "Train epoch: 44: 100%|██████████| 59/59 [01:03<00:00,  1.08s/it]\n",
      "Test epoch: 44: 100%|██████████| 34/34 [00:10<00:00,  3.26it/s]\n"
     ]
    },
    {
     "name": "stdout",
     "output_type": "stream",
     "text": [
      "Epoch 44/64 | Train Loss: 0.6492 | Test Loss: 0.2618 | Accuracy: 91.89% | GPU Memory (Alloc/Reserved): 0.07/1.828 GB\n"
     ]
    },
    {
     "name": "stderr",
     "output_type": "stream",
     "text": [
      "Train epoch: 45: 100%|██████████| 59/59 [00:58<00:00,  1.01it/s]\n",
      "Test epoch: 45: 100%|██████████| 34/34 [00:10<00:00,  3.15it/s]\n"
     ]
    },
    {
     "name": "stdout",
     "output_type": "stream",
     "text": [
      "Epoch 45/64 | Train Loss: 0.6560 | Test Loss: 0.2498 | Accuracy: 92.82% | GPU Memory (Alloc/Reserved): 0.07/1.828 GB\n"
     ]
    },
    {
     "name": "stderr",
     "output_type": "stream",
     "text": [
      "Train epoch: 46: 100%|██████████| 59/59 [01:07<00:00,  1.14s/it]\n",
      "Test epoch: 46: 100%|██████████| 34/34 [00:16<00:00,  2.02it/s]\n"
     ]
    },
    {
     "name": "stdout",
     "output_type": "stream",
     "text": [
      "Epoch 46/64 | Train Loss: 0.6619 | Test Loss: 0.2590 | Accuracy: 92.50% | GPU Memory (Alloc/Reserved): 0.07/1.828 GB\n"
     ]
    },
    {
     "name": "stderr",
     "output_type": "stream",
     "text": [
      "Train epoch: 47: 100%|██████████| 59/59 [01:11<00:00,  1.21s/it]\n",
      "Test epoch: 47: 100%|██████████| 34/34 [00:12<00:00,  2.77it/s]\n"
     ]
    },
    {
     "name": "stdout",
     "output_type": "stream",
     "text": [
      "Epoch 47/64 | Train Loss: 0.6364 | Test Loss: 0.2509 | Accuracy: 92.31% | GPU Memory (Alloc/Reserved): 0.07/1.828 GB\n"
     ]
    },
    {
     "name": "stderr",
     "output_type": "stream",
     "text": [
      "Train epoch: 48: 100%|██████████| 59/59 [00:46<00:00,  1.26it/s]\n",
      "Test epoch: 48: 100%|██████████| 34/34 [00:05<00:00,  6.59it/s]\n"
     ]
    },
    {
     "name": "stdout",
     "output_type": "stream",
     "text": [
      "Epoch 48/64 | Train Loss: 0.6368 | Test Loss: 0.2352 | Accuracy: 93.01% | GPU Memory (Alloc/Reserved): 0.07/1.828 GB\n"
     ]
    },
    {
     "name": "stderr",
     "output_type": "stream",
     "text": [
      "Train epoch: 49: 100%|██████████| 59/59 [00:27<00:00,  2.16it/s]\n",
      "Test epoch: 49: 100%|██████████| 34/34 [00:05<00:00,  6.27it/s]\n"
     ]
    },
    {
     "name": "stdout",
     "output_type": "stream",
     "text": [
      "Epoch 49/64 | Train Loss: 0.6455 | Test Loss: 0.2561 | Accuracy: 92.12% | GPU Memory (Alloc/Reserved): 0.07/1.828 GB\n"
     ]
    },
    {
     "name": "stderr",
     "output_type": "stream",
     "text": [
      "Train epoch: 50: 100%|██████████| 59/59 [00:26<00:00,  2.19it/s]\n",
      "Test epoch: 50: 100%|██████████| 34/34 [00:05<00:00,  6.60it/s]\n"
     ]
    },
    {
     "name": "stdout",
     "output_type": "stream",
     "text": [
      "Epoch 50/64 | Train Loss: 0.6498 | Test Loss: 0.2373 | Accuracy: 92.64% | GPU Memory (Alloc/Reserved): 0.07/1.828 GB\n"
     ]
    },
    {
     "name": "stderr",
     "output_type": "stream",
     "text": [
      "Train epoch: 51: 100%|██████████| 59/59 [00:26<00:00,  2.22it/s]\n",
      "Test epoch: 51: 100%|██████████| 34/34 [00:05<00:00,  6.71it/s]\n"
     ]
    },
    {
     "name": "stdout",
     "output_type": "stream",
     "text": [
      "Epoch 51/64 | Train Loss: 0.6346 | Test Loss: 0.2435 | Accuracy: 92.73% | GPU Memory (Alloc/Reserved): 0.07/1.828 GB\n"
     ]
    },
    {
     "name": "stderr",
     "output_type": "stream",
     "text": [
      "Train epoch: 52: 100%|██████████| 59/59 [00:37<00:00,  1.57it/s]\n",
      "Test epoch: 52: 100%|██████████| 34/34 [00:11<00:00,  2.97it/s]\n"
     ]
    },
    {
     "name": "stdout",
     "output_type": "stream",
     "text": [
      "Epoch 52/64 | Train Loss: 0.6481 | Test Loss: 0.2629 | Accuracy: 92.54% | GPU Memory (Alloc/Reserved): 0.07/1.828 GB\n"
     ]
    },
    {
     "name": "stderr",
     "output_type": "stream",
     "text": [
      "Train epoch: 53: 100%|██████████| 59/59 [01:03<00:00,  1.07s/it]\n",
      "Test epoch: 53: 100%|██████████| 34/34 [00:09<00:00,  3.42it/s]\n"
     ]
    },
    {
     "name": "stdout",
     "output_type": "stream",
     "text": [
      "Epoch 53/64 | Train Loss: 0.6213 | Test Loss: 0.2642 | Accuracy: 91.84% | GPU Memory (Alloc/Reserved): 0.07/1.828 GB\n"
     ]
    },
    {
     "name": "stderr",
     "output_type": "stream",
     "text": [
      "Train epoch: 54: 100%|██████████| 59/59 [00:56<00:00,  1.04it/s]\n",
      "Test epoch: 54: 100%|██████████| 34/34 [00:11<00:00,  3.01it/s]\n"
     ]
    },
    {
     "name": "stdout",
     "output_type": "stream",
     "text": [
      "Epoch 54/64 | Train Loss: 0.6243 | Test Loss: 0.2481 | Accuracy: 92.68% | GPU Memory (Alloc/Reserved): 0.07/1.828 GB\n"
     ]
    },
    {
     "name": "stderr",
     "output_type": "stream",
     "text": [
      "Train epoch: 55: 100%|██████████| 59/59 [01:07<00:00,  1.15s/it]\n",
      "Test epoch: 55: 100%|██████████| 34/34 [00:11<00:00,  2.95it/s]\n"
     ]
    },
    {
     "name": "stdout",
     "output_type": "stream",
     "text": [
      "Epoch 55/64 | Train Loss: 0.6350 | Test Loss: 0.2737 | Accuracy: 91.37% | GPU Memory (Alloc/Reserved): 0.07/1.828 GB\n"
     ]
    },
    {
     "name": "stderr",
     "output_type": "stream",
     "text": [
      "Train epoch: 56: 100%|██████████| 59/59 [01:04<00:00,  1.10s/it]\n",
      "Test epoch: 56: 100%|██████████| 34/34 [00:10<00:00,  3.26it/s]\n"
     ]
    },
    {
     "name": "stdout",
     "output_type": "stream",
     "text": [
      "Epoch 56/64 | Train Loss: 0.6354 | Test Loss: 0.2561 | Accuracy: 92.21% | GPU Memory (Alloc/Reserved): 0.07/1.828 GB\n"
     ]
    },
    {
     "name": "stderr",
     "output_type": "stream",
     "text": [
      "Train epoch: 57: 100%|██████████| 59/59 [00:58<00:00,  1.00it/s]\n",
      "Test epoch: 57: 100%|██████████| 34/34 [00:11<00:00,  2.97it/s]\n"
     ]
    },
    {
     "name": "stdout",
     "output_type": "stream",
     "text": [
      "Epoch 57/64 | Train Loss: 0.6250 | Test Loss: 0.2454 | Accuracy: 92.92% | GPU Memory (Alloc/Reserved): 0.07/1.828 GB\n"
     ]
    },
    {
     "name": "stderr",
     "output_type": "stream",
     "text": [
      "Train epoch: 58: 100%|██████████| 59/59 [00:46<00:00,  1.27it/s]\n",
      "Test epoch: 58: 100%|██████████| 34/34 [00:05<00:00,  6.73it/s]\n"
     ]
    },
    {
     "name": "stdout",
     "output_type": "stream",
     "text": [
      "Epoch 58/64 | Train Loss: 0.6213 | Test Loss: 0.2403 | Accuracy: 92.50% | GPU Memory (Alloc/Reserved): 0.07/1.828 GB\n"
     ]
    },
    {
     "name": "stderr",
     "output_type": "stream",
     "text": [
      "Train epoch: 59: 100%|██████████| 59/59 [00:26<00:00,  2.24it/s]\n",
      "Test epoch: 59: 100%|██████████| 34/34 [00:05<00:00,  6.54it/s]\n"
     ]
    },
    {
     "name": "stdout",
     "output_type": "stream",
     "text": [
      "Epoch 59/64 | Train Loss: 0.5985 | Test Loss: 0.2454 | Accuracy: 92.64% | GPU Memory (Alloc/Reserved): 0.07/1.828 GB\n"
     ]
    },
    {
     "name": "stderr",
     "output_type": "stream",
     "text": [
      "Train epoch: 60: 100%|██████████| 59/59 [00:26<00:00,  2.19it/s]\n",
      "Test epoch: 60: 100%|██████████| 34/34 [00:05<00:00,  6.59it/s]\n"
     ]
    },
    {
     "name": "stdout",
     "output_type": "stream",
     "text": [
      "Epoch 60/64 | Train Loss: 0.6140 | Test Loss: 0.2408 | Accuracy: 92.78% | GPU Memory (Alloc/Reserved): 0.07/1.828 GB\n"
     ]
    },
    {
     "name": "stderr",
     "output_type": "stream",
     "text": [
      "Train epoch: 61: 100%|██████████| 59/59 [00:40<00:00,  1.47it/s]\n",
      "Test epoch: 61: 100%|██████████| 34/34 [00:10<00:00,  3.39it/s]\n"
     ]
    },
    {
     "name": "stdout",
     "output_type": "stream",
     "text": [
      "Epoch 61/64 | Train Loss: 0.6290 | Test Loss: 0.2327 | Accuracy: 93.06% | GPU Memory (Alloc/Reserved): 0.07/1.828 GB\n"
     ]
    },
    {
     "name": "stderr",
     "output_type": "stream",
     "text": [
      "Train epoch: 62: 100%|██████████| 59/59 [01:04<00:00,  1.09s/it]\n",
      "Test epoch: 62: 100%|██████████| 34/34 [00:11<00:00,  3.02it/s]\n"
     ]
    },
    {
     "name": "stdout",
     "output_type": "stream",
     "text": [
      "Epoch 62/64 | Train Loss: 0.6147 | Test Loss: 0.2580 | Accuracy: 92.59% | GPU Memory (Alloc/Reserved): 0.07/1.828 GB\n"
     ]
    },
    {
     "name": "stderr",
     "output_type": "stream",
     "text": [
      "Train epoch: 63: 100%|██████████| 59/59 [01:07<00:00,  1.15s/it]\n",
      "Test epoch: 63: 100%|██████████| 34/34 [00:11<00:00,  3.03it/s]\n"
     ]
    },
    {
     "name": "stdout",
     "output_type": "stream",
     "text": [
      "Epoch 63/64 | Train Loss: 0.6070 | Test Loss: 0.2281 | Accuracy: 93.43% | GPU Memory (Alloc/Reserved): 0.07/1.828 GB\n"
     ]
    },
    {
     "name": "stderr",
     "output_type": "stream",
     "text": [
      "Train epoch: 64: 100%|██████████| 59/59 [01:05<00:00,  1.11s/it]\n",
      "Test epoch: 64: 100%|██████████| 34/34 [00:10<00:00,  3.11it/s]\n"
     ]
    },
    {
     "name": "stdout",
     "output_type": "stream",
     "text": [
      "Epoch 64/64 | Train Loss: 0.6057 | Test Loss: 0.2383 | Accuracy: 92.78% | GPU Memory (Alloc/Reserved): 0.07/1.828 GB\n",
      "Phase done!\n"
     ]
    },
    {
     "data": {
      "text/plain": [
       "<Figure size 1000x600 with 1 Axes>"
      ],
      "image/png": "[encoded data removed]"
     },
     "metadata": {},
     "output_type": "display_data"
    },
    {
     "data": {
      "text/plain": [
       "<Figure size 1000x600 with 1 Axes>"
      ],
      "image/png": "[encoded data removed]"
     },
     "metadata": {},
     "output_type": "display_data"
    },
    {
     "name": "stdout",
     "output_type": "stream",
     "text": [
      "Historical data saved successfully!\n"
     ]
    }
   ],
   "execution_count": 34
  },
  {
   "metadata": {
    "ExecuteTime": {
     "end_time": "2025-08-10T13:00:34.660392Z",
     "start_time": "2025-08-10T13:00:34.593077Z"
    }
   },
   "cell_type": "code",
   "source": [
    "mobilenet_v3_large = models.mobilenet_v3_large(weights='MobileNet_V3_Large_Weights.IMAGENET1K_V2')\n",
    "print(mobilenet_v3_large.classifier)"
   ],
   "id": "1467cef09840c64b",
   "outputs": [
    {
     "name": "stdout",
     "output_type": "stream",
     "text": [
      "Sequential(\n",
      "  (0): Linear(in_features=960, out_features=1280, bias=True)\n",
      "  (1): Hardswish()\n",
      "  (2): Dropout(p=0.2, inplace=True)\n",
      "  (3): Linear(in_features=1280, out_features=1000, bias=True)\n",
      ")\n"
     ]
    }
   ],
   "execution_count": 23
  },
  {
   "metadata": {
    "ExecuteTime": {
     "end_time": "2025-08-10T12:57:22.074068Z",
     "start_time": "2025-08-10T12:57:22.019136Z"
    }
   },
   "cell_type": "code",
   "source": [
    "mobilenet_v2 = models.mobilenet_v2(weights='MobileNet_V2_Weights.IMAGENET1K_V2')\n",
    "print(mobilenet_v2.classifier)"
   ],
   "id": "f0d4ce6fa4b92ee4",
   "outputs": [
    {
     "name": "stdout",
     "output_type": "stream",
     "text": [
      "Sequential(\n",
      "  (0): Dropout(p=0.2, inplace=False)\n",
      "  (1): Linear(in_features=1280, out_features=1000, bias=True)\n",
      ")\n"
     ]
    }
   ],
   "execution_count": 19
  },
  {
   "metadata": {
    "ExecuteTime": {
     "end_time": "2025-08-10T13:05:43.939690Z",
     "start_time": "2025-08-10T13:05:43.933332Z"
    }
   },
   "cell_type": "code",
   "source": [
    "from PIL import Image\n",
    "import torch.nn.functional as F\n",
    "\n",
    "def predict_single_image(model, image_path, classes, transform, device):\n",
    "\n",
    "    model.to(device)\n",
    "\n",
    "    model.eval()\n",
    "\n",
    "    image = Image.open(image_path).convert('RGB')\n",
    "\n",
    "    image_np = np.array(image)\n",
    "\n",
    "    augmented = transform(image=image_np)\n",
    "\n",
    "    image_tensor = augmented['image'].unsqueeze(0).to(device)\n",
    "\n",
    "    with torch.no_grad():\n",
    "\n",
    "        result = model(image_tensor)\n",
    "\n",
    "        probability = F.softmax(result, dim=1)\n",
    "\n",
    "        confidence, predicted = torch.max(probability, 1)\n",
    "\n",
    "        predicted_class = classes[predicted.item()]\n",
    "        confidence_score = confidence.item()\n",
    "\n",
    "    return predicted_class, confidence_score\n"
   ],
   "id": "340b828c2f1ea908",
   "outputs": [],
   "execution_count": 32
  },
  {
   "metadata": {
    "ExecuteTime": {
     "end_time": "2025-08-10T15:26:59.785574Z",
     "start_time": "2025-08-10T15:26:59.326720Z"
    }
   },
   "cell_type": "code",
   "source": [
    "import torchvision.models as models\n",
    "\n",
    "classes_names = train_set.classes\n",
    "hardware = torch.device('cuda' if   torch.cuda.is_available() else 'cpu')\n",
    "model_inference = PestClassifierMobileNetV2(num_classes=len(classes_names))\n",
    "model_inference.load_state_dict(torch.load('models/SMobileNetV2_rice_pest_classificationV8.pt', map_location=hardware))\n",
    "image_path = 'unrelated_data/grasshoper.jpg'\n",
    "\n",
    "pest, confidence_score = predict_single_image(model=model_inference, image_path=image_path, classes=classes_names, transform=validation_pipeline, device=hardware)\n",
    "\n",
    "print(f\"The predicted pest is: {pest}\")\n",
    "print(f\"Confidence: {confidence_score * 100:.2f}%\")"
   ],
   "id": "affbac0d0a0851c8",
   "outputs": [
    {
     "name": "stdout",
     "output_type": "stream",
     "text": [
      "The predicted pest is: brown-planthopper\n",
      "Confidence: 77.59%\n"
     ]
    }
   ],
   "execution_count": 63
  }
 ],
 "metadata": {
  "kernelspec": {
   "display_name": "Python 3",
   "language": "python",
   "name": "python3"
  },
  "language_info": {
   "codemirror_mode": {
    "name": "ipython",
    "version": 2
   },
   "file_extension": ".py",
   "mimetype": "text/x-python",
   "name": "python",
   "nbconvert_exporter": "python",
   "pygments_lexer": "ipython2",
   "version": "2.7.6"
  }
 },
 "nbformat": 4,
 "nbformat_minor": 5
}
