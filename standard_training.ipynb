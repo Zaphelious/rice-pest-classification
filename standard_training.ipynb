{
 "cells": [
  {
   "metadata": {
    "ExecuteTime": {
     "end_time": "2025-08-18T04:03:35.154963Z",
     "start_time": "2025-08-18T04:03:33.292646Z"
    }
   },
   "cell_type": "code",
   "source": [
    "import torch\n",
    "\n",
    "print(torch.version.cuda)\n",
    "print(torch.cuda.get_device_name(0))"
   ],
   "id": "cb5a725a97da07f1",
   "outputs": [
    {
     "name": "stdout",
     "output_type": "stream",
     "text": [
      "12.8\n",
      "NVIDIA GeForce RTX 4060 Laptop GPU\n"
     ]
    }
   ],
   "execution_count": 1
  },
  {
   "metadata": {
    "ExecuteTime": {
     "end_time": "2025-08-18T04:03:35.864998Z",
     "start_time": "2025-08-18T04:03:35.857981Z"
    }
   },
   "cell_type": "code",
   "source": [
    "allocated_bytes = torch.cuda.memory_allocated('cuda')\n",
    "allocated_mb = allocated_bytes / (1024 * 1024)\n",
    "\n",
    "reserved_bytes = torch.cuda.memory_reserved('cuda')\n",
    "reserved_mb = reserved_bytes / (1024 * 1024)\n",
    "\n",
    "print(\"\\n--- VRAM USAGE REPORT ---\")\n",
    "print(f\"Memory Allocated: {allocated_mb:.2f} MB\")\n",
    "print(f\"Memory Reserved:  {reserved_mb:.2f} MB\")\n",
    "print(\"-------------------------\\n\")"
   ],
   "id": "23d50c3f254a094",
   "outputs": [
    {
     "name": "stdout",
     "output_type": "stream",
     "text": [
      "\n",
      "--- VRAM USAGE REPORT ---\n",
      "Memory Allocated: 0.00 MB\n",
      "Memory Reserved:  0.00 MB\n",
      "-------------------------\n",
      "\n"
     ]
    }
   ],
   "execution_count": 2
  },
  {
   "metadata": {
    "collapsed": true,
    "ExecuteTime": {
     "end_time": "2025-08-18T04:03:37.375778Z",
     "start_time": "2025-08-18T04:03:36.831733Z"
    }
   },
   "cell_type": "code",
   "source": [
    "`import albumentations as A\n",
    "from albumentations.pytorch import ToTensorV2\n",
    "\n",
    "training_pipeline = A.Compose([\n",
    "\n",
    "    A.Resize(height=224, width=224),\n",
    "    A.RandomCrop(height=180, width=180, p=1.0),\n",
    "    A.Resize(height=224, width=224),\n",
    "    A.HorizontalFlip(p=0.5),\n",
    "    A.VerticalFlip(p=0.5),\n",
    "    A.Rotate(limit=45, p=0.4),\n",
    "\n",
    "    A.RandomBrightnessContrast(brightness_limit=(-0.3, 0.3), contrast_limit=(-0.2, 0.2), p=0.4),\n",
    "    A.ColorJitter(brightness=0.2, contrast=0.2, saturation=0.2, hue=0.2, p=0.4),\n",
    "\n",
    "    A.OneOf([\n",
    "        A.GaussNoise(std_range=(0.1, 0.2), per_channel=True, p=0.4),\n",
    "        A.RandomRain(slant_range=(-15, 15), drop_length=15, drop_width=1, rain_type=\"default\", blur_value=7, p=0.4),\n",
    "        A.CoarseDropout(num_holes_range=(1, 3), hole_height_range=(0.1, 0.25), hole_width_range=(0.1, 0.25), fill=0, p=0.4)\n",
    "    ], p=0.5),\n",
    "\n",
    "    A.Normalize(mean=(0.485, 0.456, 0.406), std=(0.229, 0.224, 0.225)),\n",
    "    ToTensorV2()\n",
    "])\n",
    "\n",
    "validation_pipeline = A.Compose([\n",
    "    A.Resize(height=224, width=224),\n",
    "    A.Normalize(mean=(0.485, 0.456, 0.406), std=(0.229, 0.224, 0.225)),\n",
    "    ToTensorV2()\n",
    "])\n",
    "\n",
    "basic_pipeline = A.Compose([\n",
    "    A.Resize(height=224, width=224),\n",
    "    A.HorizontalFlip(p=0.6),\n",
    "    A.VerticalFlip(p=0.6),\n",
    "    A.Rotate(limit=(-45,45), p=0.7),\n",
    "    A.Normalize(mean=(0.485, 0.456, 0.406), std=(0.229, 0.224, 0.225)),\n",
    "    ToTensorV2()\n",
    "])"
   ],
   "id": "initial_id",
   "outputs": [],
   "execution_count": 3
  },
  {
   "metadata": {
    "ExecuteTime": {
     "end_time": "2025-08-18T04:03:41.859223Z",
     "start_time": "2025-08-18T04:03:40.252285Z"
    }
   },
   "cell_type": "code",
   "source": [
    "import cv2\n",
    "from torchvision import datasets\n",
    "\n",
    "class CustomDataset(datasets.ImageFolder):\n",
    "\n",
    "    def __getitem__(self, index):\n",
    "\n",
    "        path, target = self.samples[index]\n",
    "\n",
    "        image = cv2.imread(path)\n",
    "        image = cv2.cvtColor(image, cv2.COLOR_BGR2RGB)\n",
    "\n",
    "        if self.transform:\n",
    "            augmented = self.transform(image=image)\n",
    "            image = augmented['image']\n",
    "\n",
    "        return image, target\n",
    "\n",
    "    def __len__(self):\n",
    "        return len(self.samples)"
   ],
   "id": "6daf511998047715",
   "outputs": [],
   "execution_count": 4
  },
  {
   "metadata": {
    "ExecuteTime": {
     "end_time": "2025-08-18T04:03:48.968550Z",
     "start_time": "2025-08-18T04:03:48.963143Z"
    }
   },
   "cell_type": "code",
   "source": [
    "import torchvision.models as models\n",
    "import torch.nn as nn\n",
    "\n",
    "class PestClassifierMobileNetV2(nn.Module):\n",
    "\n",
    "    def __init__(self, num_classes):\n",
    "        super(PestClassifierMobileNetV2, self).__init__()\n",
    "\n",
    "        # get model\n",
    "        self.base_model = models.mobilenet_v2(weights='MobileNet_V2_Weights.IMAGENET1K_V2')\n",
    "\n",
    "        # Froze feature extraction layer to retain weights.\n",
    "        for params in self.base_model.parameters():\n",
    "            params.requires_grad = False\n",
    "\n",
    "        # get number of features\n",
    "        num_filters = self.base_model.classifier[1].in_features\n",
    "\n",
    "        # Hyperparameter tuning: new layer for 6 rice pests.\n",
    "        self.base_model.classifier = nn.Sequential(\n",
    "            nn.Dropout(p=0.5, inplace=True),\n",
    "            nn.Linear(num_filters, num_classes),\n",
    "        )\n",
    "\n",
    "    # Forward propagation\n",
    "    def forward(self, x):\n",
    "\n",
    "       features = self.base_model.features(x)\n",
    "\n",
    "       features = F.adaptive_avg_pool2d(features, output_size=(1, 1)).reshape(features.shape[0], -1)\n",
    "\n",
    "       features = self.base_model.classifier(features)\n",
    "\n",
    "       return features\n",
    "\n",
    "    def unfreeze_feature_layer(self, layer):\n",
    "\n",
    "        if not (1 <= layer <= len(self.base_model.features)):\n",
    "            print(f\"Error: Invalid layer index {layer}.\")\n",
    "            return\n",
    "\n",
    "        # Corrected print statement\n",
    "        print(f\"\\nUnfreezing feature layer at index: -{layer}\")\n",
    "\n",
    "        for param in self.base_model.features[-layer].parameters():\n",
    "            param.requires_grad = True\n"
   ],
   "id": "8172f748d43e758a",
   "outputs": [],
   "execution_count": 9
  },
  {
   "metadata": {
    "ExecuteTime": {
     "end_time": "2025-08-18T04:03:46.426975Z",
     "start_time": "2025-08-18T04:03:46.420977Z"
    }
   },
   "cell_type": "code",
   "source": [
    "class PestClassifierEfficientNetV2M(nn.Module):\n",
    "\n",
    "    def __init__(self, num_classes):\n",
    "        super(PestClassifierEfficientNetV2M, self).__init__()\n",
    "\n",
    "        self.base_model = models.efficientnet_v2_m(weights='EfficientNet_V2_M_Weights.IMAGENET1K_V1')\n",
    "\n",
    "        for params in self.base_model.parameters():\n",
    "            params.requires_grad = False\n",
    "\n",
    "        features = self.base_model.classifier[1].in_features\n",
    "\n",
    "        self.base_model.classifier = nn.Sequential(\n",
    "            nn.Dropout(p=0.5, inplace=True),\n",
    "            nn.Linear(features, num_classes),\n",
    "        )\n",
    "\n",
    "    def forward(self, x):\n",
    "\n",
    "        features = self.base_model.features(x)\n",
    "\n",
    "        features = F.adaptive_avg_pool2d(features, output_size=(1, 1)).reshape(features.shape[0], -1)\n",
    "\n",
    "        features = self.base_model.classifier(features)\n",
    "\n",
    "        return features\n",
    "\n",
    "    def unfreeze_feature_layer(self, layer):\n",
    "\n",
    "        if not (1 <= layer <= len(self.base_model.features)):\n",
    "            print(f\"Error: Invalid layer index {layer}.\")\n",
    "            return\n",
    "\n",
    "        print(f\"\\nUnfreezing feature layer at index: -{layer}\")\n",
    "\n",
    "        for params in self.base_model.features[-layer].parameters():\n",
    "            params.requires_grad = True\n"
   ],
   "id": "2d2d688f4e97b8e2",
   "outputs": [],
   "execution_count": 8
  },
  {
   "metadata": {
    "ExecuteTime": {
     "end_time": "2025-08-18T04:03:54.600830Z",
     "start_time": "2025-08-18T04:03:54.593449Z"
    }
   },
   "cell_type": "code",
   "source": [
    "import torch\n",
    "from tqdm import tqdm\n",
    "\n",
    "def train_and_test(model, optimizer, criterion, train_dataloader, test_dataloader, num_epoch, device, best_accuracy=0.0):\n",
    "\n",
    "    train_losses = []\n",
    "    test_losses = []\n",
    "    accuracies = []\n",
    "\n",
    "    for epoch in range(num_epoch):\n",
    "\n",
    "        # --- TRAINING PHASE ---\n",
    "        model.train()\n",
    "        running_train_loss = 0.0\n",
    "\n",
    "        for data, labels in tqdm(train_dataloader, desc=f\"Train epoch: {epoch+1}\"):\n",
    "            data, labels = data.to(device), labels.to(device)\n",
    "            optimizer.zero_grad()\n",
    "            output = model(data)\n",
    "            loss = criterion(output, labels)\n",
    "            loss.backward()\n",
    "            optimizer.step()\n",
    "            running_train_loss += loss.item()\n",
    "\n",
    "        training_loss = running_train_loss / len(train_dataloader)\n",
    "        train_losses.append(training_loss)\n",
    "\n",
    "        # --- TESTING PHASE ---\n",
    "        model.eval()\n",
    "        running_test_loss = 0.0\n",
    "        correct_predictions = 0\n",
    "        total_samples = 0\n",
    "\n",
    "        with torch.no_grad():\n",
    "\n",
    "            for data, labels in tqdm(test_dataloader, desc=f\"Test epoch: {epoch+1}\"):\n",
    "                data, labels = data.to(device), labels.to(device)\n",
    "\n",
    "                output = model(data)\n",
    "                loss = criterion(output, labels)\n",
    "                running_test_loss += loss.item()\n",
    "                _, predicted = torch.max(output, 1)\n",
    "                correct_predictions += (predicted == labels).sum().item()\n",
    "                total_samples += labels.size(0)\n",
    "\n",
    "        testing_loss = running_test_loss / len(test_dataloader)\n",
    "        test_losses.append(testing_loss)\n",
    "        accuracy = 100 * correct_predictions / total_samples\n",
    "        accuracies.append(accuracy)\n",
    "\n",
    "        epoch_summary = f'Epoch {epoch+1}/{num_epoch} | Train Loss: {training_loss:.4f} | Test Loss: {testing_loss:.4f} | Accuracy: {accuracy:.2f}%'\n",
    "\n",
    "        if device.type == 'cuda':\n",
    "            allocated_gb = torch.cuda.memory_allocated() / (1024 ** 3)\n",
    "            reserved_gb = torch.cuda.memory_reserved() / (1024 ** 3)\n",
    "            epoch_summary += f' | GPU Memory (Alloc/Reserved): {allocated_gb:.3f}/{reserved_gb:.3f} GB'\n",
    "\n",
    "        tqdm.write(epoch_summary)\n",
    "\n",
    "        if accuracy > best_accuracy:\n",
    "            best_accuracy = accuracy\n",
    "            torch.save(model.state_dict(), 'models/EfficientNetV2/EfficientNetV2-m_rice_pest_classificationV2.pt')\n",
    "\n",
    "        # scheduler.step(testing_loss)\n",
    "\n",
    "    tqdm.write('Phase done!')\n",
    "\n",
    "    return {'train_loss': train_losses, 'test_loss': test_losses, 'accuracy': accuracies}, best_accuracy"
   ],
   "id": "fca4e6f7abec2fbd",
   "outputs": [],
   "execution_count": 11
  },
  {
   "metadata": {},
   "cell_type": "markdown",
   "source": "<h2>  Saving and plott</h2>",
   "id": "9b5134a74e091e48"
  },
  {
   "metadata": {
    "ExecuteTime": {
     "end_time": "2025-08-18T04:04:06.522869Z",
     "start_time": "2025-08-18T04:04:06.513639Z"
    }
   },
   "cell_type": "code",
   "source": [
    "import seaborn as sns\n",
    "import matplotlib.pyplot as plt\n",
    "import pandas as pd\n",
    "import os\n",
    "\n",
    "def plot_training_result(*results):\n",
    "\n",
    "    full_training_loss = []\n",
    "    full_test_loss = []\n",
    "\n",
    "    for result in results:\n",
    "        train_loss = result.get('train_loss', [])\n",
    "        full_training_loss.extend(train_loss)\n",
    "        full_test_loss.extend(result.get('test_loss', []))\n",
    "\n",
    "    total_epochs = len(full_training_loss)\n",
    "\n",
    "    if total_epochs == 0:\n",
    "        print(\"No data to plot.\")\n",
    "        return\n",
    "\n",
    "    epochs = range(1, total_epochs + 1)\n",
    "\n",
    "    data = {\n",
    "        'Epoch': epochs,\n",
    "        'Training Loss': full_training_loss,\n",
    "        'Testing Loss': full_test_loss,\n",
    "    }\n",
    "\n",
    "    df = pd.DataFrame(data)\n",
    "\n",
    "    df_long = df.melt(id_vars=['Epoch'], var_name='Loss Type', value_name='Loss')\n",
    "\n",
    "    plt.figure(figsize=(10, 6))\n",
    "    sns.lineplot(data=df_long, x='Epoch', y='Loss', hue='Loss Type', marker='o')\n",
    "\n",
    "    plt.title('Training and Testing Loss Comparison')\n",
    "    plt.xlabel('Epoch')\n",
    "    plt.ylabel('Loss')\n",
    "    plt.legend()\n",
    "    plt.grid(True)\n",
    "    plt.show()\n",
    "\n",
    "def plot_accuracy(*results):\n",
    "\n",
    "    full_accuracy = []\n",
    "\n",
    "    for res in results:\n",
    "        accuracy = res.get('accuracy', [])\n",
    "        full_accuracy.extend(accuracy)\n",
    "\n",
    "    total_epochs = len(full_accuracy)\n",
    "\n",
    "    if total_epochs == 0:\n",
    "        print(\"No accuracy data to plot.\")\n",
    "        return\n",
    "\n",
    "    epochs = range(1, total_epochs + 1)\n",
    "\n",
    "    plt.figure(figsize=(10, 6))\n",
    "\n",
    "    plt.plot(epochs, full_accuracy, label='Accuracy', marker='o', color='g')\n",
    "\n",
    "    plt.title('Accuracy Evaluation')\n",
    "    plt.xlabel('Epoch')\n",
    "    plt.ylabel('Accuracy (%)')\n",
    "    plt.legend()\n",
    "    plt.grid(True)\n",
    "    plt.show()\n",
    "\n",
    "def accuracy_per_session(session_accuracies):\n",
    "\n",
    "    total_sessions = len(session_accuracies)\n",
    "    if total_sessions == 0: return\n",
    "    plt.figure(figsize=(10, 6))\n",
    "    plt.plot(range(1, total_sessions + 1), session_accuracies, label='Best Session Accuracy', marker='o', color='r')\n",
    "    plt.title('Best Accuracy per Training Session')\n",
    "    plt.xlabel('Training Session')\n",
    "    plt.ylabel('Best Accuracy (%)')\n",
    "    plt.legend()\n",
    "    plt.grid(True)\n",
    "    plt.show()\n",
    "\n",
    "def save_historical_data(history, filename='training_results/EfficientNetV2/SEfficientNetV2-m_rice_pest_classificationV1.csv'):\n",
    "\n",
    "    train_loss = history.get('train_loss', [])\n",
    "    test_loss = history.get('test_loss', [])\n",
    "    accuracy = history.get('accuracy', [])\n",
    "\n",
    "    data_dict = pd.DataFrame({\n",
    "        'train_loss': train_loss,\n",
    "        'test_loss': test_loss,\n",
    "        'accuracy': accuracy,\n",
    "    })\n",
    "\n",
    "    if os.path.exists(filename):\n",
    "        print(\"historical data exists! Appending new data.\")\n",
    "\n",
    "        old_data = pd.read_csv(filename)\n",
    "        combined_data = pd.concat([old_data, data_dict], ignore_index=True)\n",
    "\n",
    "    else:\n",
    "        print(\"Creating new historical data...\")\n",
    "        combined_data = data_dict\n",
    "\n",
    "    combined_data['epoch'] = range(1, len(combined_data) + 1)\n",
    "\n",
    "    combined_data = combined_data[['epoch', 'train_loss', 'test_loss', 'accuracy']]\n",
    "\n",
    "    combined_data.to_csv(filename, index=False)\n",
    "\n",
    "    print(\"Historical data saved successfully!\")\n"
   ],
   "id": "74773810c269080d",
   "outputs": [],
   "execution_count": 14
  },
  {
   "metadata": {
    "ExecuteTime": {
     "end_time": "2025-08-18T04:04:07.822790Z",
     "start_time": "2025-08-18T04:04:07.755564Z"
    }
   },
   "cell_type": "code",
   "source": [
    "from torch.utils.data import DataLoader\n",
    "\n",
    "train_set = CustomDataset(root='datasets/train', transform=training_pipeline)\n",
    "train_loader = DataLoader(train_set, batch_size=128, shuffle=True)\n",
    "test_set = CustomDataset(root='datasets/test', transform=validation_pipeline)\n",
    "test_loader = DataLoader(test_set, batch_size=64, shuffle=True)\n",
    "val_set = CustomDataset(root='datasets/val', transform=validation_pipeline)\n",
    "val_loader = DataLoader(val_set, batch_size=32, shuffle=True)\n",
    "\n",
    "classes = train_set.classes"
   ],
   "id": "4fd20dd312f838ff",
   "outputs": [],
   "execution_count": 15
  },
  {
   "metadata": {
    "ExecuteTime": {
     "end_time": "2025-08-18T04:04:09.864738Z",
     "start_time": "2025-08-18T04:04:09.859740Z"
    }
   },
   "cell_type": "code",
   "source": [
    "def incremental_training(model, sessions, criterion, train_dataloader, test_dataloader, device):\n",
    "\n",
    "    full_history = []\n",
    "    session_best_accuracies = []\n",
    "    best_overall_accuracy = 0.0\n",
    "\n",
    "    for i, session in enumerate(sessions):\n",
    "        print(f\"\\n--- Starting Training Session {i+1}/{len(sessions)} ---\")\n",
    "\n",
    "        epochs = session['epochs']\n",
    "        lr = session['lr']\n",
    "        layer_to_unfreeze = session.get('unfreeze_layer', 0)\n",
    "\n",
    "        if layer_to_unfreeze > 0:\n",
    "            model.unfreeze_feature_layer(layer_to_unfreeze)\n",
    "\n",
    "        optimizer = optim.AdamW(filter(lambda p: p.requires_grad, model.parameters()), lr=lr, weight_decay=1e-2)\n",
    "\n",
    "        session_history, best_overall_accuracy = train_and_test(\n",
    "            model, optimizer, criterion, train_dataloader, test_dataloader, epochs, device, best_accuracy=best_overall_accuracy\n",
    "        )\n",
    "\n",
    "        full_history.append(session_history)\n",
    "\n",
    "        save_historical_data(session_history)\n",
    "\n",
    "        if session_history['accuracy']:\n",
    "            best_in_session = max(session_history['accuracy'])\n",
    "            session_best_accuracies.append(best_in_session)\n",
    "\n",
    "    return full_history, session_best_accuracies"
   ],
   "id": "1467cef09840c64b",
   "outputs": [],
   "execution_count": 16
  },
  {
   "metadata": {
    "ExecuteTime": {
     "end_time": "2025-08-18T05:45:37.242711Z",
     "start_time": "2025-08-18T04:15:41.115735Z"
    }
   },
   "cell_type": "code",
   "source": [
    "import torch.optim as optim\n",
    "\n",
    "hardware = torch.device('cuda' if  torch.cuda.is_available() else 'cpu')\n",
    "classes = 6\n",
    "learning_rate = 1e-3\n",
    "weight_decay = 1e-2\n",
    "criterion = nn.CrossEntropyLoss()\n",
    "\n",
    "model = PestClassifierEfficientNetV2M(num_classes=classes).to(hardware)\n",
    "\n",
    "training_sessions = [\n",
    "    {'epochs': 15, 'lr': 1e-4, 'unfreeze_layer': 0},\n",
    "    {'epochs': 25, 'lr': 1e-4, 'unfreeze_layer': 1},\n",
    "    {'epochs': 35, 'lr': 1e-4, 'unfreeze_layer': 2}\n",
    "]\n",
    "\n",
    "result, accuracies = incremental_training(model=model, sessions=training_sessions, criterion=criterion, train_dataloader=train_loader, test_dataloader=test_loader, device=hardware)\n",
    "\n",
    "plot_training_result(*result)\n",
    "plot_accuracy(*result)"
   ],
   "id": "fd1ee3a6a8b445e1",
   "outputs": [
    {
     "name": "stdout",
     "output_type": "stream",
     "text": [
      "\n",
      "--- Starting Training Session 1/3 ---\n"
     ]
    },
    {
     "name": "stderr",
     "output_type": "stream",
     "text": [
      "Train epoch: 1: 100%|██████████| 59/59 [00:45<00:00,  1.30it/s]\n",
      "Test epoch: 1: 100%|██████████| 34/34 [00:09<00:00,  3.48it/s]\n"
     ]
    },
    {
     "name": "stdout",
     "output_type": "stream",
     "text": [
      "Epoch 1/15 | Train Loss: 1.7028 | Test Loss: 1.5671 | Accuracy: 46.20% | GPU Memory (Alloc/Reserved): 0.532/1.793 GB\n"
     ]
    },
    {
     "name": "stderr",
     "output_type": "stream",
     "text": [
      "Train epoch: 2: 100%|██████████| 59/59 [00:41<00:00,  1.42it/s]\n",
      "Test epoch: 2: 100%|██████████| 34/34 [00:09<00:00,  3.48it/s]\n"
     ]
    },
    {
     "name": "stdout",
     "output_type": "stream",
     "text": [
      "Epoch 2/15 | Train Loss: 1.5667 | Test Loss: 1.4308 | Accuracy: 55.02% | GPU Memory (Alloc/Reserved): 0.532/1.793 GB\n"
     ]
    },
    {
     "name": "stderr",
     "output_type": "stream",
     "text": [
      "Train epoch: 3: 100%|██████████| 59/59 [00:41<00:00,  1.42it/s]\n",
      "Test epoch: 3: 100%|██████████| 34/34 [00:09<00:00,  3.47it/s]\n"
     ]
    },
    {
     "name": "stdout",
     "output_type": "stream",
     "text": [
      "Epoch 3/15 | Train Loss: 1.4771 | Test Loss: 1.3289 | Accuracy: 59.24% | GPU Memory (Alloc/Reserved): 0.532/1.793 GB\n"
     ]
    },
    {
     "name": "stderr",
     "output_type": "stream",
     "text": [
      "Train epoch: 4: 100%|██████████| 59/59 [00:41<00:00,  1.41it/s]\n",
      "Test epoch: 4: 100%|██████████| 34/34 [00:09<00:00,  3.45it/s]\n"
     ]
    },
    {
     "name": "stdout",
     "output_type": "stream",
     "text": [
      "Epoch 4/15 | Train Loss: 1.4104 | Test Loss: 1.2478 | Accuracy: 62.29% | GPU Memory (Alloc/Reserved): 0.532/1.793 GB\n"
     ]
    },
    {
     "name": "stderr",
     "output_type": "stream",
     "text": [
      "Train epoch: 5: 100%|██████████| 59/59 [00:41<00:00,  1.41it/s]\n",
      "Test epoch: 5: 100%|██████████| 34/34 [00:09<00:00,  3.46it/s]\n"
     ]
    },
    {
     "name": "stdout",
     "output_type": "stream",
     "text": [
      "Epoch 5/15 | Train Loss: 1.3539 | Test Loss: 1.1873 | Accuracy: 63.04% | GPU Memory (Alloc/Reserved): 0.532/1.793 GB\n"
     ]
    },
    {
     "name": "stderr",
     "output_type": "stream",
     "text": [
      "Train epoch: 6: 100%|██████████| 59/59 [00:41<00:00,  1.42it/s]\n",
      "Test epoch: 6: 100%|██████████| 34/34 [00:09<00:00,  3.47it/s]\n"
     ]
    },
    {
     "name": "stdout",
     "output_type": "stream",
     "text": [
      "Epoch 6/15 | Train Loss: 1.3118 | Test Loss: 1.1333 | Accuracy: 64.63% | GPU Memory (Alloc/Reserved): 0.532/1.793 GB\n"
     ]
    },
    {
     "name": "stderr",
     "output_type": "stream",
     "text": [
      "Train epoch: 7: 100%|██████████| 59/59 [00:42<00:00,  1.39it/s]\n",
      "Test epoch: 7: 100%|██████████| 34/34 [00:10<00:00,  3.38it/s]\n"
     ]
    },
    {
     "name": "stdout",
     "output_type": "stream",
     "text": [
      "Epoch 7/15 | Train Loss: 1.2756 | Test Loss: 1.0940 | Accuracy: 65.43% | GPU Memory (Alloc/Reserved): 0.532/1.793 GB\n"
     ]
    },
    {
     "name": "stderr",
     "output_type": "stream",
     "text": [
      "Train epoch: 8: 100%|██████████| 59/59 [00:42<00:00,  1.39it/s]\n",
      "Test epoch: 8: 100%|██████████| 34/34 [00:10<00:00,  3.39it/s]\n"
     ]
    },
    {
     "name": "stdout",
     "output_type": "stream",
     "text": [
      "Epoch 8/15 | Train Loss: 1.2350 | Test Loss: 1.0517 | Accuracy: 66.51% | GPU Memory (Alloc/Reserved): 0.532/1.793 GB\n"
     ]
    },
    {
     "name": "stderr",
     "output_type": "stream",
     "text": [
      "Train epoch: 9: 100%|██████████| 59/59 [00:42<00:00,  1.38it/s]\n",
      "Test epoch: 9: 100%|██████████| 34/34 [00:09<00:00,  3.41it/s]\n"
     ]
    },
    {
     "name": "stdout",
     "output_type": "stream",
     "text": [
      "Epoch 9/15 | Train Loss: 1.2071 | Test Loss: 1.0199 | Accuracy: 67.45% | GPU Memory (Alloc/Reserved): 0.532/1.793 GB\n"
     ]
    },
    {
     "name": "stderr",
     "output_type": "stream",
     "text": [
      "Train epoch: 10: 100%|██████████| 59/59 [00:42<00:00,  1.40it/s]\n",
      "Test epoch: 10: 100%|██████████| 34/34 [00:09<00:00,  3.42it/s]\n"
     ]
    },
    {
     "name": "stdout",
     "output_type": "stream",
     "text": [
      "Epoch 10/15 | Train Loss: 1.1725 | Test Loss: 0.9834 | Accuracy: 68.57% | GPU Memory (Alloc/Reserved): 0.532/1.793 GB\n"
     ]
    },
    {
     "name": "stderr",
     "output_type": "stream",
     "text": [
      "Train epoch: 11: 100%|██████████| 59/59 [00:42<00:00,  1.40it/s]\n",
      "Test epoch: 11: 100%|██████████| 34/34 [00:09<00:00,  3.46it/s]\n"
     ]
    },
    {
     "name": "stdout",
     "output_type": "stream",
     "text": [
      "Epoch 11/15 | Train Loss: 1.1485 | Test Loss: 0.9626 | Accuracy: 69.09% | GPU Memory (Alloc/Reserved): 0.532/1.793 GB\n"
     ]
    },
    {
     "name": "stderr",
     "output_type": "stream",
     "text": [
      "Train epoch: 12: 100%|██████████| 59/59 [00:41<00:00,  1.41it/s]\n",
      "Test epoch: 12: 100%|██████████| 34/34 [00:09<00:00,  3.46it/s]\n"
     ]
    },
    {
     "name": "stdout",
     "output_type": "stream",
     "text": [
      "Epoch 12/15 | Train Loss: 1.1456 | Test Loss: 0.9359 | Accuracy: 69.84% | GPU Memory (Alloc/Reserved): 0.532/1.793 GB\n"
     ]
    },
    {
     "name": "stderr",
     "output_type": "stream",
     "text": [
      "Train epoch: 13: 100%|██████████| 59/59 [00:41<00:00,  1.41it/s]\n",
      "Test epoch: 13: 100%|██████████| 34/34 [00:09<00:00,  3.42it/s]\n"
     ]
    },
    {
     "name": "stdout",
     "output_type": "stream",
     "text": [
      "Epoch 13/15 | Train Loss: 1.1218 | Test Loss: 0.9160 | Accuracy: 70.26% | GPU Memory (Alloc/Reserved): 0.532/1.793 GB\n"
     ]
    },
    {
     "name": "stderr",
     "output_type": "stream",
     "text": [
      "Train epoch: 14: 100%|██████████| 59/59 [00:42<00:00,  1.40it/s]\n",
      "Test epoch: 14: 100%|██████████| 34/34 [00:09<00:00,  3.44it/s]\n"
     ]
    },
    {
     "name": "stdout",
     "output_type": "stream",
     "text": [
      "Epoch 14/15 | Train Loss: 1.0958 | Test Loss: 0.8961 | Accuracy: 71.15% | GPU Memory (Alloc/Reserved): 0.532/1.793 GB\n"
     ]
    },
    {
     "name": "stderr",
     "output_type": "stream",
     "text": [
      "Train epoch: 15: 100%|██████████| 59/59 [00:42<00:00,  1.40it/s]\n",
      "Test epoch: 15: 100%|██████████| 34/34 [00:09<00:00,  3.44it/s]\n"
     ]
    },
    {
     "name": "stdout",
     "output_type": "stream",
     "text": [
      "Epoch 15/15 | Train Loss: 1.0819 | Test Loss: 0.8786 | Accuracy: 71.29% | GPU Memory (Alloc/Reserved): 0.532/1.793 GB\n",
      "Phase done!\n",
      "Creating new historical data...\n",
      "Historical data saved successfully!\n",
      "\n",
      "--- Starting Training Session 2/3 ---\n",
      "\n",
      "Unfreezing feature layer at index: -1\n"
     ]
    },
    {
     "name": "stderr",
     "output_type": "stream",
     "text": [
      "Train epoch: 1: 100%|██████████| 59/59 [00:41<00:00,  1.40it/s]\n",
      "Test epoch: 1: 100%|██████████| 34/34 [00:09<00:00,  3.45it/s]\n"
     ]
    },
    {
     "name": "stdout",
     "output_type": "stream",
     "text": [
      "Epoch 1/25 | Train Loss: 1.0152 | Test Loss: 0.7497 | Accuracy: 74.67% | GPU Memory (Alloc/Reserved): 0.539/1.795 GB\n"
     ]
    },
    {
     "name": "stderr",
     "output_type": "stream",
     "text": [
      "Train epoch: 2: 100%|██████████| 59/59 [00:42<00:00,  1.40it/s]\n",
      "Test epoch: 2: 100%|██████████| 34/34 [00:09<00:00,  3.43it/s]\n"
     ]
    },
    {
     "name": "stdout",
     "output_type": "stream",
     "text": [
      "Epoch 2/25 | Train Loss: 0.9230 | Test Loss: 0.6786 | Accuracy: 76.41% | GPU Memory (Alloc/Reserved): 0.539/1.795 GB\n"
     ]
    },
    {
     "name": "stderr",
     "output_type": "stream",
     "text": [
      "Train epoch: 3: 100%|██████████| 59/59 [01:07<00:00,  1.14s/it]\n",
      "Test epoch: 3: 100%|██████████| 34/34 [00:16<00:00,  2.11it/s]\n"
     ]
    },
    {
     "name": "stdout",
     "output_type": "stream",
     "text": [
      "Epoch 3/25 | Train Loss: 0.8699 | Test Loss: 0.6410 | Accuracy: 78.10% | GPU Memory (Alloc/Reserved): 0.539/1.795 GB\n"
     ]
    },
    {
     "name": "stderr",
     "output_type": "stream",
     "text": [
      "Train epoch: 4: 100%|██████████| 59/59 [01:17<00:00,  1.31s/it]\n",
      "Test epoch: 4: 100%|██████████| 34/34 [00:16<00:00,  2.11it/s]\n"
     ]
    },
    {
     "name": "stdout",
     "output_type": "stream",
     "text": [
      "Epoch 4/25 | Train Loss: 0.8286 | Test Loss: 0.5950 | Accuracy: 79.32% | GPU Memory (Alloc/Reserved): 0.539/1.795 GB\n"
     ]
    },
    {
     "name": "stderr",
     "output_type": "stream",
     "text": [
      "Train epoch: 5: 100%|██████████| 59/59 [01:20<00:00,  1.37s/it]\n",
      "Test epoch: 5: 100%|██████████| 34/34 [00:15<00:00,  2.17it/s]\n"
     ]
    },
    {
     "name": "stdout",
     "output_type": "stream",
     "text": [
      "Epoch 5/25 | Train Loss: 0.7974 | Test Loss: 0.5689 | Accuracy: 79.78% | GPU Memory (Alloc/Reserved): 0.539/1.795 GB\n"
     ]
    },
    {
     "name": "stderr",
     "output_type": "stream",
     "text": [
      "Train epoch: 6: 100%|██████████| 59/59 [01:17<00:00,  1.31s/it]\n",
      "Test epoch: 6: 100%|██████████| 34/34 [00:14<00:00,  2.32it/s]\n"
     ]
    },
    {
     "name": "stdout",
     "output_type": "stream",
     "text": [
      "Epoch 6/25 | Train Loss: 0.7681 | Test Loss: 0.5387 | Accuracy: 81.00% | GPU Memory (Alloc/Reserved): 0.539/1.795 GB\n"
     ]
    },
    {
     "name": "stderr",
     "output_type": "stream",
     "text": [
      "Train epoch: 7: 100%|██████████| 59/59 [01:22<00:00,  1.41s/it]\n",
      "Test epoch: 7: 100%|██████████| 34/34 [00:15<00:00,  2.18it/s]\n"
     ]
    },
    {
     "name": "stdout",
     "output_type": "stream",
     "text": [
      "Epoch 7/25 | Train Loss: 0.7522 | Test Loss: 0.5249 | Accuracy: 81.99% | GPU Memory (Alloc/Reserved): 0.539/1.795 GB\n"
     ]
    },
    {
     "name": "stderr",
     "output_type": "stream",
     "text": [
      "Train epoch: 8: 100%|██████████| 59/59 [01:19<00:00,  1.35s/it]\n",
      "Test epoch: 8: 100%|██████████| 34/34 [00:14<00:00,  2.32it/s]\n"
     ]
    },
    {
     "name": "stdout",
     "output_type": "stream",
     "text": [
      "Epoch 8/25 | Train Loss: 0.7380 | Test Loss: 0.5141 | Accuracy: 82.18% | GPU Memory (Alloc/Reserved): 0.539/1.795 GB\n"
     ]
    },
    {
     "name": "stderr",
     "output_type": "stream",
     "text": [
      "Train epoch: 9: 100%|██████████| 59/59 [01:06<00:00,  1.13s/it]\n",
      "Test epoch: 9: 100%|██████████| 34/34 [00:09<00:00,  3.44it/s]\n"
     ]
    },
    {
     "name": "stdout",
     "output_type": "stream",
     "text": [
      "Epoch 9/25 | Train Loss: 0.7181 | Test Loss: 0.4968 | Accuracy: 82.74% | GPU Memory (Alloc/Reserved): 0.539/1.795 GB\n"
     ]
    },
    {
     "name": "stderr",
     "output_type": "stream",
     "text": [
      "Train epoch: 10: 100%|██████████| 59/59 [00:42<00:00,  1.40it/s]\n",
      "Test epoch: 10: 100%|██████████| 34/34 [00:09<00:00,  3.44it/s]\n"
     ]
    },
    {
     "name": "stdout",
     "output_type": "stream",
     "text": [
      "Epoch 10/25 | Train Loss: 0.6935 | Test Loss: 0.4835 | Accuracy: 83.68% | GPU Memory (Alloc/Reserved): 0.539/1.795 GB\n"
     ]
    },
    {
     "name": "stderr",
     "output_type": "stream",
     "text": [
      "Train epoch: 11: 100%|██████████| 59/59 [00:42<00:00,  1.40it/s]\n",
      "Test epoch: 11: 100%|██████████| 34/34 [00:09<00:00,  3.45it/s]\n"
     ]
    },
    {
     "name": "stdout",
     "output_type": "stream",
     "text": [
      "Epoch 11/25 | Train Loss: 0.7028 | Test Loss: 0.4770 | Accuracy: 83.77% | GPU Memory (Alloc/Reserved): 0.539/1.795 GB\n"
     ]
    },
    {
     "name": "stderr",
     "output_type": "stream",
     "text": [
      "Train epoch: 12: 100%|██████████| 59/59 [00:42<00:00,  1.40it/s]\n",
      "Test epoch: 12: 100%|██████████| 34/34 [00:09<00:00,  3.45it/s]\n"
     ]
    },
    {
     "name": "stdout",
     "output_type": "stream",
     "text": [
      "Epoch 12/25 | Train Loss: 0.6931 | Test Loss: 0.4790 | Accuracy: 83.72% | GPU Memory (Alloc/Reserved): 0.539/1.795 GB\n"
     ]
    },
    {
     "name": "stderr",
     "output_type": "stream",
     "text": [
      "Train epoch: 13: 100%|██████████| 59/59 [00:42<00:00,  1.40it/s]\n",
      "Test epoch: 13: 100%|██████████| 34/34 [00:09<00:00,  3.45it/s]\n"
     ]
    },
    {
     "name": "stdout",
     "output_type": "stream",
     "text": [
      "Epoch 13/25 | Train Loss: 0.6697 | Test Loss: 0.4543 | Accuracy: 84.52% | GPU Memory (Alloc/Reserved): 0.539/1.795 GB\n"
     ]
    },
    {
     "name": "stderr",
     "output_type": "stream",
     "text": [
      "Train epoch: 14: 100%|██████████| 59/59 [00:42<00:00,  1.40it/s]\n",
      "Test epoch: 14: 100%|██████████| 34/34 [00:09<00:00,  3.45it/s]\n"
     ]
    },
    {
     "name": "stdout",
     "output_type": "stream",
     "text": [
      "Epoch 14/25 | Train Loss: 0.6740 | Test Loss: 0.4583 | Accuracy: 83.86% | GPU Memory (Alloc/Reserved): 0.539/1.795 GB\n"
     ]
    },
    {
     "name": "stderr",
     "output_type": "stream",
     "text": [
      "Train epoch: 15: 100%|██████████| 59/59 [00:41<00:00,  1.41it/s]\n",
      "Test epoch: 15: 100%|██████████| 34/34 [00:09<00:00,  3.45it/s]\n"
     ]
    },
    {
     "name": "stdout",
     "output_type": "stream",
     "text": [
      "Epoch 15/25 | Train Loss: 0.6507 | Test Loss: 0.4578 | Accuracy: 84.33% | GPU Memory (Alloc/Reserved): 0.539/1.795 GB\n"
     ]
    },
    {
     "name": "stderr",
     "output_type": "stream",
     "text": [
      "Train epoch: 16: 100%|██████████| 59/59 [00:42<00:00,  1.40it/s]\n",
      "Test epoch: 16: 100%|██████████| 34/34 [00:09<00:00,  3.44it/s]\n"
     ]
    },
    {
     "name": "stdout",
     "output_type": "stream",
     "text": [
      "Epoch 16/25 | Train Loss: 0.6432 | Test Loss: 0.4425 | Accuracy: 84.66% | GPU Memory (Alloc/Reserved): 0.539/1.795 GB\n"
     ]
    },
    {
     "name": "stderr",
     "output_type": "stream",
     "text": [
      "Train epoch: 17: 100%|██████████| 59/59 [01:01<00:00,  1.04s/it]\n",
      "Test epoch: 17: 100%|██████████| 34/34 [00:17<00:00,  1.92it/s]\n"
     ]
    },
    {
     "name": "stdout",
     "output_type": "stream",
     "text": [
      "Epoch 17/25 | Train Loss: 0.6571 | Test Loss: 0.4400 | Accuracy: 84.94% | GPU Memory (Alloc/Reserved): 0.539/1.795 GB\n"
     ]
    },
    {
     "name": "stderr",
     "output_type": "stream",
     "text": [
      "Train epoch: 18: 100%|██████████| 59/59 [00:48<00:00,  1.21it/s]\n",
      "Test epoch: 18: 100%|██████████| 34/34 [00:10<00:00,  3.40it/s]\n"
     ]
    },
    {
     "name": "stdout",
     "output_type": "stream",
     "text": [
      "Epoch 18/25 | Train Loss: 0.6469 | Test Loss: 0.4336 | Accuracy: 84.90% | GPU Memory (Alloc/Reserved): 0.539/1.795 GB\n"
     ]
    },
    {
     "name": "stderr",
     "output_type": "stream",
     "text": [
      "Train epoch: 19: 100%|██████████| 59/59 [00:42<00:00,  1.39it/s]\n",
      "Test epoch: 19: 100%|██████████| 34/34 [00:10<00:00,  3.39it/s]\n"
     ]
    },
    {
     "name": "stdout",
     "output_type": "stream",
     "text": [
      "Epoch 19/25 | Train Loss: 0.6249 | Test Loss: 0.4307 | Accuracy: 85.18% | GPU Memory (Alloc/Reserved): 0.539/1.795 GB\n"
     ]
    },
    {
     "name": "stderr",
     "output_type": "stream",
     "text": [
      "Train epoch: 20: 100%|██████████| 59/59 [01:44<00:00,  1.77s/it]\n",
      "Test epoch: 20: 100%|██████████| 34/34 [00:17<00:00,  1.92it/s]\n"
     ]
    },
    {
     "name": "stdout",
     "output_type": "stream",
     "text": [
      "Epoch 20/25 | Train Loss: 0.6246 | Test Loss: 0.4136 | Accuracy: 85.51% | GPU Memory (Alloc/Reserved): 0.539/1.795 GB\n"
     ]
    },
    {
     "name": "stderr",
     "output_type": "stream",
     "text": [
      "Train epoch: 21: 100%|██████████| 59/59 [01:03<00:00,  1.08s/it]\n",
      "Test epoch: 21: 100%|██████████| 34/34 [00:09<00:00,  3.43it/s]\n"
     ]
    },
    {
     "name": "stdout",
     "output_type": "stream",
     "text": [
      "Epoch 21/25 | Train Loss: 0.6372 | Test Loss: 0.4199 | Accuracy: 85.55% | GPU Memory (Alloc/Reserved): 0.539/1.795 GB\n"
     ]
    },
    {
     "name": "stderr",
     "output_type": "stream",
     "text": [
      "Train epoch: 22: 100%|██████████| 59/59 [00:57<00:00,  1.02it/s]\n",
      "Test epoch: 22: 100%|██████████| 34/34 [00:15<00:00,  2.13it/s]\n"
     ]
    },
    {
     "name": "stdout",
     "output_type": "stream",
     "text": [
      "Epoch 22/25 | Train Loss: 0.6091 | Test Loss: 0.4203 | Accuracy: 85.69% | GPU Memory (Alloc/Reserved): 0.539/1.795 GB\n"
     ]
    },
    {
     "name": "stderr",
     "output_type": "stream",
     "text": [
      "Train epoch: 23: 100%|██████████| 59/59 [01:20<00:00,  1.36s/it]\n",
      "Test epoch: 23: 100%|██████████| 34/34 [00:14<00:00,  2.30it/s]\n"
     ]
    },
    {
     "name": "stdout",
     "output_type": "stream",
     "text": [
      "Epoch 23/25 | Train Loss: 0.6206 | Test Loss: 0.4112 | Accuracy: 86.12% | GPU Memory (Alloc/Reserved): 0.539/1.795 GB\n"
     ]
    },
    {
     "name": "stderr",
     "output_type": "stream",
     "text": [
      "Train epoch: 24: 100%|██████████| 59/59 [01:22<00:00,  1.40s/it]\n",
      "Test epoch: 24: 100%|██████████| 34/34 [00:15<00:00,  2.24it/s]\n"
     ]
    },
    {
     "name": "stdout",
     "output_type": "stream",
     "text": [
      "Epoch 24/25 | Train Loss: 0.6030 | Test Loss: 0.3946 | Accuracy: 86.63% | GPU Memory (Alloc/Reserved): 0.539/1.795 GB\n"
     ]
    },
    {
     "name": "stderr",
     "output_type": "stream",
     "text": [
      "Train epoch: 25: 100%|██████████| 59/59 [01:21<00:00,  1.38s/it]\n",
      "Test epoch: 25: 100%|██████████| 34/34 [00:14<00:00,  2.27it/s]\n"
     ]
    },
    {
     "name": "stdout",
     "output_type": "stream",
     "text": [
      "Epoch 25/25 | Train Loss: 0.6057 | Test Loss: 0.4030 | Accuracy: 86.44% | GPU Memory (Alloc/Reserved): 0.539/1.795 GB\n",
      "Phase done!\n",
      "historical data exists! Appending new data.\n",
      "Historical data saved successfully!\n",
      "\n",
      "--- Starting Training Session 3/3 ---\n",
      "\n",
      "Unfreezing feature layer at index: -2\n"
     ]
    },
    {
     "name": "stderr",
     "output_type": "stream",
     "text": [
      "Train epoch: 1: 100%|██████████| 59/59 [01:27<00:00,  1.49s/it]\n",
      "Test epoch: 1: 100%|██████████| 34/34 [00:15<00:00,  2.16it/s]\n"
     ]
    },
    {
     "name": "stdout",
     "output_type": "stream",
     "text": [
      "Epoch 1/35 | Train Loss: 0.5361 | Test Loss: 0.3151 | Accuracy: 89.87% | GPU Memory (Alloc/Reserved): 0.742/3.957 GB\n"
     ]
    },
    {
     "name": "stderr",
     "output_type": "stream",
     "text": [
      "Train epoch: 2: 100%|██████████| 59/59 [01:27<00:00,  1.48s/it]\n",
      "Test epoch: 2: 100%|██████████| 34/34 [00:14<00:00,  2.27it/s]\n"
     ]
    },
    {
     "name": "stdout",
     "output_type": "stream",
     "text": [
      "Epoch 2/35 | Train Loss: 0.3922 | Test Loss: 0.2487 | Accuracy: 92.50% | GPU Memory (Alloc/Reserved): 0.742/3.957 GB\n"
     ]
    },
    {
     "name": "stderr",
     "output_type": "stream",
     "text": [
      "Train epoch: 3: 100%|██████████| 59/59 [01:25<00:00,  1.45s/it]\n",
      "Test epoch: 3: 100%|██████████| 34/34 [00:15<00:00,  2.18it/s]\n"
     ]
    },
    {
     "name": "stdout",
     "output_type": "stream",
     "text": [
      "Epoch 3/35 | Train Loss: 0.3309 | Test Loss: 0.2546 | Accuracy: 91.89% | GPU Memory (Alloc/Reserved): 0.742/3.957 GB\n"
     ]
    },
    {
     "name": "stderr",
     "output_type": "stream",
     "text": [
      "Train epoch: 4: 100%|██████████| 59/59 [01:30<00:00,  1.53s/it]\n",
      "Test epoch: 4: 100%|██████████| 34/34 [00:14<00:00,  2.27it/s]\n"
     ]
    },
    {
     "name": "stdout",
     "output_type": "stream",
     "text": [
      "Epoch 4/35 | Train Loss: 0.2857 | Test Loss: 0.2056 | Accuracy: 93.48% | GPU Memory (Alloc/Reserved): 0.742/3.957 GB\n"
     ]
    },
    {
     "name": "stderr",
     "output_type": "stream",
     "text": [
      "Train epoch: 5: 100%|██████████| 59/59 [01:28<00:00,  1.50s/it]\n",
      "Test epoch: 5: 100%|██████████| 34/34 [00:14<00:00,  2.40it/s]\n"
     ]
    },
    {
     "name": "stdout",
     "output_type": "stream",
     "text": [
      "Epoch 5/35 | Train Loss: 0.2751 | Test Loss: 0.1795 | Accuracy: 93.90% | GPU Memory (Alloc/Reserved): 0.742/3.957 GB\n"
     ]
    },
    {
     "name": "stderr",
     "output_type": "stream",
     "text": [
      "Train epoch: 6: 100%|██████████| 59/59 [01:29<00:00,  1.52s/it]\n",
      "Test epoch: 6: 100%|██████████| 34/34 [00:14<00:00,  2.33it/s]\n"
     ]
    },
    {
     "name": "stdout",
     "output_type": "stream",
     "text": [
      "Epoch 6/35 | Train Loss: 0.2440 | Test Loss: 0.1896 | Accuracy: 94.14% | GPU Memory (Alloc/Reserved): 0.742/3.957 GB\n"
     ]
    },
    {
     "name": "stderr",
     "output_type": "stream",
     "text": [
      "Train epoch: 7: 100%|██████████| 59/59 [01:30<00:00,  1.53s/it]\n",
      "Test epoch: 7: 100%|██████████| 34/34 [00:14<00:00,  2.33it/s]\n"
     ]
    },
    {
     "name": "stdout",
     "output_type": "stream",
     "text": [
      "Epoch 7/35 | Train Loss: 0.2186 | Test Loss: 0.1678 | Accuracy: 94.61% | GPU Memory (Alloc/Reserved): 0.742/3.957 GB\n"
     ]
    },
    {
     "name": "stderr",
     "output_type": "stream",
     "text": [
      "Train epoch: 8: 100%|██████████| 59/59 [01:29<00:00,  1.52s/it]\n",
      "Test epoch: 8: 100%|██████████| 34/34 [00:15<00:00,  2.15it/s]\n"
     ]
    },
    {
     "name": "stdout",
     "output_type": "stream",
     "text": [
      "Epoch 8/35 | Train Loss: 0.2101 | Test Loss: 0.1706 | Accuracy: 94.56% | GPU Memory (Alloc/Reserved): 0.742/3.957 GB\n"
     ]
    },
    {
     "name": "stderr",
     "output_type": "stream",
     "text": [
      "Train epoch: 9: 100%|██████████| 59/59 [01:28<00:00,  1.50s/it]\n",
      "Test epoch: 9: 100%|██████████| 34/34 [00:15<00:00,  2.25it/s]\n"
     ]
    },
    {
     "name": "stdout",
     "output_type": "stream",
     "text": [
      "Epoch 9/35 | Train Loss: 0.2020 | Test Loss: 0.1584 | Accuracy: 95.12% | GPU Memory (Alloc/Reserved): 0.742/3.957 GB\n"
     ]
    },
    {
     "name": "stderr",
     "output_type": "stream",
     "text": [
      "Train epoch: 10: 100%|██████████| 59/59 [01:27<00:00,  1.48s/it]\n",
      "Test epoch: 10: 100%|██████████| 34/34 [00:15<00:00,  2.15it/s]\n"
     ]
    },
    {
     "name": "stdout",
     "output_type": "stream",
     "text": [
      "Epoch 10/35 | Train Loss: 0.1828 | Test Loss: 0.1617 | Accuracy: 95.26% | GPU Memory (Alloc/Reserved): 0.742/3.959 GB\n"
     ]
    },
    {
     "name": "stderr",
     "output_type": "stream",
     "text": [
      "Train epoch: 11: 100%|██████████| 59/59 [01:30<00:00,  1.53s/it]\n",
      "Test epoch: 11: 100%|██████████| 34/34 [00:15<00:00,  2.17it/s]\n"
     ]
    },
    {
     "name": "stdout",
     "output_type": "stream",
     "text": [
      "Epoch 11/35 | Train Loss: 0.1693 | Test Loss: 0.1752 | Accuracy: 94.75% | GPU Memory (Alloc/Reserved): 0.742/3.959 GB\n"
     ]
    },
    {
     "name": "stderr",
     "output_type": "stream",
     "text": [
      "Train epoch: 12: 100%|██████████| 59/59 [01:27<00:00,  1.48s/it]\n",
      "Test epoch: 12: 100%|██████████| 34/34 [00:14<00:00,  2.36it/s]\n"
     ]
    },
    {
     "name": "stdout",
     "output_type": "stream",
     "text": [
      "Epoch 12/35 | Train Loss: 0.1648 | Test Loss: 0.1877 | Accuracy: 94.56% | GPU Memory (Alloc/Reserved): 0.742/3.959 GB\n"
     ]
    },
    {
     "name": "stderr",
     "output_type": "stream",
     "text": [
      "Train epoch: 13: 100%|██████████| 59/59 [01:29<00:00,  1.51s/it]\n",
      "Test epoch: 13: 100%|██████████| 34/34 [00:14<00:00,  2.31it/s]\n"
     ]
    },
    {
     "name": "stdout",
     "output_type": "stream",
     "text": [
      "Epoch 13/35 | Train Loss: 0.1723 | Test Loss: 0.1750 | Accuracy: 95.40% | GPU Memory (Alloc/Reserved): 0.742/3.959 GB\n"
     ]
    },
    {
     "name": "stderr",
     "output_type": "stream",
     "text": [
      "Train epoch: 14: 100%|██████████| 59/59 [01:28<00:00,  1.50s/it]\n",
      "Test epoch: 14: 100%|██████████| 34/34 [00:11<00:00,  3.05it/s]\n"
     ]
    },
    {
     "name": "stdout",
     "output_type": "stream",
     "text": [
      "Epoch 14/35 | Train Loss: 0.1556 | Test Loss: 0.1864 | Accuracy: 95.22% | GPU Memory (Alloc/Reserved): 0.742/3.959 GB\n"
     ]
    },
    {
     "name": "stderr",
     "output_type": "stream",
     "text": [
      "Train epoch: 15: 100%|██████████| 59/59 [01:28<00:00,  1.50s/it]\n",
      "Test epoch: 15: 100%|██████████| 34/34 [00:12<00:00,  2.77it/s]\n"
     ]
    },
    {
     "name": "stdout",
     "output_type": "stream",
     "text": [
      "Epoch 15/35 | Train Loss: 0.1459 | Test Loss: 0.1859 | Accuracy: 95.64% | GPU Memory (Alloc/Reserved): 0.742/3.959 GB\n"
     ]
    },
    {
     "name": "stderr",
     "output_type": "stream",
     "text": [
      "Train epoch: 16: 100%|██████████| 59/59 [01:00<00:00,  1.02s/it]\n",
      "Test epoch: 16: 100%|██████████| 34/34 [00:09<00:00,  3.57it/s]\n"
     ]
    },
    {
     "name": "stdout",
     "output_type": "stream",
     "text": [
      "Epoch 16/35 | Train Loss: 0.1483 | Test Loss: 0.1881 | Accuracy: 95.03% | GPU Memory (Alloc/Reserved): 0.742/3.959 GB\n"
     ]
    },
    {
     "name": "stderr",
     "output_type": "stream",
     "text": [
      "Train epoch: 17: 100%|██████████| 59/59 [00:47<00:00,  1.23it/s]\n",
      "Test epoch: 17: 100%|██████████| 34/34 [00:09<00:00,  3.53it/s]\n"
     ]
    },
    {
     "name": "stdout",
     "output_type": "stream",
     "text": [
      "Epoch 17/35 | Train Loss: 0.1308 | Test Loss: 0.1968 | Accuracy: 95.17% | GPU Memory (Alloc/Reserved): 0.742/3.959 GB\n"
     ]
    },
    {
     "name": "stderr",
     "output_type": "stream",
     "text": [
      "Train epoch: 18: 100%|██████████| 59/59 [00:47<00:00,  1.24it/s]\n",
      "Test epoch: 18: 100%|██████████| 34/34 [00:09<00:00,  3.57it/s]\n"
     ]
    },
    {
     "name": "stdout",
     "output_type": "stream",
     "text": [
      "Epoch 18/35 | Train Loss: 0.1369 | Test Loss: 0.1915 | Accuracy: 95.36% | GPU Memory (Alloc/Reserved): 0.742/3.959 GB\n"
     ]
    },
    {
     "name": "stderr",
     "output_type": "stream",
     "text": [
      "Train epoch: 19: 100%|██████████| 59/59 [00:47<00:00,  1.24it/s]\n",
      "Test epoch: 19: 100%|██████████| 34/34 [00:09<00:00,  3.54it/s]\n"
     ]
    },
    {
     "name": "stdout",
     "output_type": "stream",
     "text": [
      "Epoch 19/35 | Train Loss: 0.1314 | Test Loss: 0.2114 | Accuracy: 95.12% | GPU Memory (Alloc/Reserved): 0.742/3.959 GB\n"
     ]
    },
    {
     "name": "stderr",
     "output_type": "stream",
     "text": [
      "Train epoch: 20: 100%|██████████| 59/59 [00:47<00:00,  1.24it/s]\n",
      "Test epoch: 20: 100%|██████████| 34/34 [00:09<00:00,  3.59it/s]\n"
     ]
    },
    {
     "name": "stdout",
     "output_type": "stream",
     "text": [
      "Epoch 20/35 | Train Loss: 0.1243 | Test Loss: 0.2006 | Accuracy: 95.54% | GPU Memory (Alloc/Reserved): 0.742/3.959 GB\n"
     ]
    },
    {
     "name": "stderr",
     "output_type": "stream",
     "text": [
      "Train epoch: 21: 100%|██████████| 59/59 [00:47<00:00,  1.24it/s]\n",
      "Test epoch: 21: 100%|██████████| 34/34 [00:09<00:00,  3.58it/s]\n"
     ]
    },
    {
     "name": "stdout",
     "output_type": "stream",
     "text": [
      "Epoch 21/35 | Train Loss: 0.1156 | Test Loss: 0.2069 | Accuracy: 94.93% | GPU Memory (Alloc/Reserved): 0.742/3.959 GB\n"
     ]
    },
    {
     "name": "stderr",
     "output_type": "stream",
     "text": [
      "Train epoch: 22: 100%|██████████| 59/59 [00:47<00:00,  1.24it/s]\n",
      "Test epoch: 22: 100%|██████████| 34/34 [00:09<00:00,  3.53it/s]\n"
     ]
    },
    {
     "name": "stdout",
     "output_type": "stream",
     "text": [
      "Epoch 22/35 | Train Loss: 0.1142 | Test Loss: 0.1903 | Accuracy: 95.40% | GPU Memory (Alloc/Reserved): 0.742/3.959 GB\n"
     ]
    },
    {
     "name": "stderr",
     "output_type": "stream",
     "text": [
      "Train epoch: 23: 100%|██████████| 59/59 [00:47<00:00,  1.24it/s]\n",
      "Test epoch: 23: 100%|██████████| 34/34 [00:09<00:00,  3.59it/s]\n"
     ]
    },
    {
     "name": "stdout",
     "output_type": "stream",
     "text": [
      "Epoch 23/35 | Train Loss: 0.1192 | Test Loss: 0.2033 | Accuracy: 95.03% | GPU Memory (Alloc/Reserved): 0.742/3.959 GB\n"
     ]
    },
    {
     "name": "stderr",
     "output_type": "stream",
     "text": [
      "Train epoch: 24: 100%|██████████| 59/59 [00:48<00:00,  1.23it/s]\n",
      "Test epoch: 24: 100%|██████████| 34/34 [00:09<00:00,  3.51it/s]\n"
     ]
    },
    {
     "name": "stdout",
     "output_type": "stream",
     "text": [
      "Epoch 24/35 | Train Loss: 0.1069 | Test Loss: 0.1870 | Accuracy: 95.92% | GPU Memory (Alloc/Reserved): 0.742/3.959 GB\n"
     ]
    },
    {
     "name": "stderr",
     "output_type": "stream",
     "text": [
      "Train epoch: 25: 100%|██████████| 59/59 [00:47<00:00,  1.23it/s]\n",
      "Test epoch: 25: 100%|██████████| 34/34 [00:09<00:00,  3.60it/s]\n"
     ]
    },
    {
     "name": "stdout",
     "output_type": "stream",
     "text": [
      "Epoch 25/35 | Train Loss: 0.1167 | Test Loss: 0.2049 | Accuracy: 95.12% | GPU Memory (Alloc/Reserved): 0.742/3.959 GB\n"
     ]
    },
    {
     "name": "stderr",
     "output_type": "stream",
     "text": [
      "Train epoch: 26: 100%|██████████| 59/59 [00:47<00:00,  1.24it/s]\n",
      "Test epoch: 26: 100%|██████████| 34/34 [00:09<00:00,  3.59it/s]\n"
     ]
    },
    {
     "name": "stdout",
     "output_type": "stream",
     "text": [
      "Epoch 26/35 | Train Loss: 0.1057 | Test Loss: 0.2247 | Accuracy: 95.26% | GPU Memory (Alloc/Reserved): 0.742/3.959 GB\n"
     ]
    },
    {
     "name": "stderr",
     "output_type": "stream",
     "text": [
      "Train epoch: 27: 100%|██████████| 59/59 [00:47<00:00,  1.23it/s]\n",
      "Test epoch: 27: 100%|██████████| 34/34 [00:09<00:00,  3.48it/s]\n"
     ]
    },
    {
     "name": "stdout",
     "output_type": "stream",
     "text": [
      "Epoch 27/35 | Train Loss: 0.1011 | Test Loss: 0.1913 | Accuracy: 95.12% | GPU Memory (Alloc/Reserved): 0.742/3.959 GB\n"
     ]
    },
    {
     "name": "stderr",
     "output_type": "stream",
     "text": [
      "Train epoch: 28: 100%|██████████| 59/59 [00:50<00:00,  1.18it/s]\n",
      "Test epoch: 28: 100%|██████████| 34/34 [00:09<00:00,  3.59it/s]\n"
     ]
    },
    {
     "name": "stdout",
     "output_type": "stream",
     "text": [
      "Epoch 28/35 | Train Loss: 0.0943 | Test Loss: 0.2063 | Accuracy: 95.59% | GPU Memory (Alloc/Reserved): 0.742/3.959 GB\n"
     ]
    },
    {
     "name": "stderr",
     "output_type": "stream",
     "text": [
      "Train epoch: 29: 100%|██████████| 59/59 [00:47<00:00,  1.24it/s]\n",
      "Test epoch: 29: 100%|██████████| 34/34 [00:09<00:00,  3.59it/s]\n"
     ]
    },
    {
     "name": "stdout",
     "output_type": "stream",
     "text": [
      "Epoch 29/35 | Train Loss: 0.0951 | Test Loss: 0.2227 | Accuracy: 95.26% | GPU Memory (Alloc/Reserved): 0.742/3.959 GB\n"
     ]
    },
    {
     "name": "stderr",
     "output_type": "stream",
     "text": [
      "Train epoch: 30: 100%|██████████| 59/59 [00:47<00:00,  1.25it/s]\n",
      "Test epoch: 30: 100%|██████████| 34/34 [00:09<00:00,  3.57it/s]\n"
     ]
    },
    {
     "name": "stdout",
     "output_type": "stream",
     "text": [
      "Epoch 30/35 | Train Loss: 0.0916 | Test Loss: 0.2015 | Accuracy: 95.40% | GPU Memory (Alloc/Reserved): 0.742/3.959 GB\n"
     ]
    },
    {
     "name": "stderr",
     "output_type": "stream",
     "text": [
      "Train epoch: 31: 100%|██████████| 59/59 [00:49<00:00,  1.19it/s]\n",
      "Test epoch: 31: 100%|██████████| 34/34 [00:15<00:00,  2.17it/s]\n"
     ]
    },
    {
     "name": "stdout",
     "output_type": "stream",
     "text": [
      "Epoch 31/35 | Train Loss: 0.0863 | Test Loss: 0.2272 | Accuracy: 95.22% | GPU Memory (Alloc/Reserved): 0.742/3.959 GB\n"
     ]
    },
    {
     "name": "stderr",
     "output_type": "stream",
     "text": [
      "Train epoch: 32: 100%|██████████| 59/59 [01:07<00:00,  1.14s/it]\n",
      "Test epoch: 32: 100%|██████████| 34/34 [00:09<00:00,  3.58it/s]\n"
     ]
    },
    {
     "name": "stdout",
     "output_type": "stream",
     "text": [
      "Epoch 32/35 | Train Loss: 0.0882 | Test Loss: 0.2200 | Accuracy: 95.36% | GPU Memory (Alloc/Reserved): 0.742/3.959 GB\n"
     ]
    },
    {
     "name": "stderr",
     "output_type": "stream",
     "text": [
      "Train epoch: 33: 100%|██████████| 59/59 [00:48<00:00,  1.21it/s]\n",
      "Test epoch: 33: 100%|██████████| 34/34 [00:09<00:00,  3.56it/s]\n"
     ]
    },
    {
     "name": "stdout",
     "output_type": "stream",
     "text": [
      "Epoch 33/35 | Train Loss: 0.0859 | Test Loss: 0.2191 | Accuracy: 95.64% | GPU Memory (Alloc/Reserved): 0.742/3.959 GB\n"
     ]
    },
    {
     "name": "stderr",
     "output_type": "stream",
     "text": [
      "Train epoch: 34: 100%|██████████| 59/59 [00:48<00:00,  1.22it/s]\n",
      "Test epoch: 34: 100%|██████████| 34/34 [00:11<00:00,  2.87it/s]\n"
     ]
    },
    {
     "name": "stdout",
     "output_type": "stream",
     "text": [
      "Epoch 34/35 | Train Loss: 0.0874 | Test Loss: 0.2158 | Accuracy: 95.31% | GPU Memory (Alloc/Reserved): 0.742/3.959 GB\n"
     ]
    },
    {
     "name": "stderr",
     "output_type": "stream",
     "text": [
      "Train epoch: 35: 100%|██████████| 59/59 [00:49<00:00,  1.20it/s]\n",
      "Test epoch: 35: 100%|██████████| 34/34 [00:09<00:00,  3.43it/s]\n"
     ]
    },
    {
     "name": "stdout",
     "output_type": "stream",
     "text": [
      "Epoch 35/35 | Train Loss: 0.0814 | Test Loss: 0.2496 | Accuracy: 95.50% | GPU Memory (Alloc/Reserved): 0.742/3.959 GB\n",
      "Phase done!\n",
      "historical data exists! Appending new data.\n",
      "Historical data saved successfully!\n"
     ]
    },
    {
     "data": {
      "text/plain": [
       "<Figure size 1000x600 with 1 Axes>"
      ],
      "image/png": "[encoded data removed]"
     },
     "metadata": {},
     "output_type": "display_data"
    },
    {
     "data": {
      "text/plain": [
       "<Figure size 1000x600 with 1 Axes>"
      ],
      "image/png": "[encoded data removed]"
     },
     "metadata": {},
     "output_type": "display_data"
    }
   ],
   "execution_count": 20
  },
  {
   "metadata": {
    "ExecuteTime": {
     "end_time": "2025-08-14T07:15:34.499960Z",
     "start_time": "2025-08-14T07:15:34.496483Z"
    }
   },
   "cell_type": "code",
   "source": [
    "# mobilenet_v2 = models.mobilenet_v2(weights='MobileNet_V2_Weights.IMAGENET1K_V2')\n",
    "#\n",
    "# for num in range(len(mobilenet_v2.features) - 1, -1, -1):\n",
    "#     print(num)\n",
    "\n",
    "my_array = [1, 2, 3, 4, 5]\n",
    "\n",
    "# print(my_array[-5])\n",
    "\n",
    "for num in range(1, my_array.__len__() + 1):\n",
    "    print(num)"
   ],
   "id": "f0d4ce6fa4b92ee4",
   "outputs": [
    {
     "name": "stdout",
     "output_type": "stream",
     "text": [
      "1\n",
      "2\n",
      "3\n"
     ]
    }
   ],
   "execution_count": 261
  },
  {
   "metadata": {
    "ExecuteTime": {
     "end_time": "2025-08-18T04:15:32.080195Z",
     "start_time": "2025-08-18T04:15:32.074288Z"
    }
   },
   "cell_type": "code",
   "source": [
    "from PIL import Image\n",
    "import numpy as np\n",
    "import torch.nn.functional as F\n",
    "\n",
    "def predict_single_image(model, image_path, classes, transform, device):\n",
    "\n",
    "    model.to(device)\n",
    "\n",
    "    model.eval()\n",
    "\n",
    "    image = Image.open(image_path).convert('RGB')\n",
    "\n",
    "    image_np = np.array(image)\n",
    "\n",
    "    augmented = transform(image=image_np)\n",
    "\n",
    "    image_tensor = augmented['image'].unsqueeze(0).to(device)\n",
    "\n",
    "    with torch.no_grad():\n",
    "        result = model(image_tensor)\n",
    "\n",
    "        probabilities = F.softmax(result, dim=1)\n",
    "\n",
    "        confidence, predicted_index = torch.max(probabilities, 1)\n",
    "        predicted_class = classes[predicted_index.item()]\n",
    "        confidence_score = confidence.item()\n",
    "\n",
    "    return predicted_class, confidence_score, probabilities.squeeze().cpu().numpy()\n"
   ],
   "id": "340b828c2f1ea908",
   "outputs": [],
   "execution_count": 18
  },
  {
   "metadata": {
    "ExecuteTime": {
     "end_time": "2025-08-18T04:15:34.378372Z",
     "start_time": "2025-08-18T04:15:34.187754Z"
    }
   },
   "cell_type": "code",
   "source": [
    "from sklearn.metrics import classification_report, confusion_matrix, accuracy_score\n",
    "import numpy as np\n",
    "\n",
    "def eval_metrics(model, testLoader, classes_names, device):\n",
    "\n",
    "    model.to(device)\n",
    "    model.eval()\n",
    "\n",
    "    total_predictions = []\n",
    "    true_labels = []\n",
    "\n",
    "    with torch.no_grad():\n",
    "\n",
    "        for input, labels in tqdm(testLoader):\n",
    "            input, labels = input.to(device), labels.to(device)\n",
    "\n",
    "            output = model(input)\n",
    "            _, predicted = torch.max(output, 1)\n",
    "\n",
    "            total_predictions.extend(predicted.cpu().numpy())\n",
    "            true_labels.extend(labels.cpu().numpy())\n",
    "\n",
    "\n",
    "    y_true = np.array(true_labels)\n",
    "    y_pred = np.array(total_predictions)\n",
    "\n",
    "    print('Classification Report')\n",
    "    report = classification_report(y_true, y_pred, target_names=classes_names)\n",
    "\n",
    "    print(report)\n",
    "\n",
    "    print(f\"Accuracy: {accuracy_score(y_true, y_pred)*100:.2f}%\\n\")\n",
    "\n",
    "    print('Confusion Matrix')\n",
    "\n",
    "    matrix = confusion_matrix(y_true, y_pred)\n",
    "\n",
    "    cm_df = pd.DataFrame(matrix, index=classes_names, columns=classes_names)\n",
    "\n",
    "    plt.figure(figsize=(10, 8))\n",
    "    sns.heatmap(cm_df, annot=True, fmt='g', cmap='Blues')\n",
    "    plt.title('Confusion Matrix (standard)')\n",
    "    plt.ylabel('Actual pests')\n",
    "    plt.xlabel('Predicted pests')\n",
    "    plt.show()\n",
    "\n",
    "    return y_true, y_pred\n",
    "\n",
    "def save_evalution_result(total_predictions, true_labels):\n",
    "\n",
    "    data = pd.DataFrame({\n",
    "        'True Labels': true_labels,\n",
    "        'Predicted Labels': total_predictions\n",
    "    })\n",
    "\n",
    "    data.to_csv('evalution_result.csv', index=False)\n"
   ],
   "id": "3fb753e351ad7371",
   "outputs": [],
   "execution_count": 19
  },
  {
   "metadata": {
    "ExecuteTime": {
     "end_time": "2025-08-17T07:38:15.732275Z",
     "start_time": "2025-08-17T07:38:15.441516Z"
    }
   },
   "cell_type": "code",
   "source": [
    "import torchvision.models as models\n",
    "\n",
    "classes_names = train_set.classes\n",
    "hardware = torch.device('cuda' if   torch.cuda.is_available() else 'cpu')\n",
    "model_inference = PestClassifierMobileNetV2(num_classes=len(classes_names))\n",
    "model_inference.load_state_dict(torch.load('models/MobileNetV2/v2/Basic/SMobileNetV2_rice_pest_classificationV13.pt', map_location=hardware))\n",
    "image_path = 'datasets/val/rice-black-bug/blackbug5_jpg.rf.424e09d72d12102f5c45f11cebd47d70.jpg'\n",
    "unrelated = 'unrelated_data/images.jpg'\n",
    "\n",
    "pest, confidence_score, over_all_scores = predict_single_image(model=model_inference, image_path=image_path, classes=classes_names, transform=validation_pipeline, device=hardware)\n",
    "\n",
    "print(f\"The predicted pest is: {pest}\")\n",
    "print(f\"Confidence: {confidence_score * 100:.2f}%\")\n",
    "print(f\"Overall score: {over_all_scores}\")\n",
    "#\n",
    "# true, pred = eval_metrics(model_inference, val_loader, classes_names, hardware)"
   ],
   "id": "affbac0d0a0851c8",
   "outputs": [
    {
     "name": "stdout",
     "output_type": "stream",
     "text": [
      "The predicted pest is: rice-black-bug\n",
      "Confidence: 94.00%\n",
      "Overall score: [5.5456121e-02 3.5791690e-03 9.4000769e-01 2.6055515e-05 9.0353707e-05\n",
      " 8.4059639e-04]\n"
     ]
    }
   ],
   "execution_count": 31
  }
 ],
 "metadata": {
  "kernelspec": {
   "display_name": "Python 3",
   "language": "python",
   "name": "python3"
  },
  "language_info": {
   "codemirror_mode": {
    "name": "ipython",
    "version": 2
   },
   "file_extension": ".py",
   "mimetype": "text/x-python",
   "name": "python",
   "nbconvert_exporter": "python",
   "pygments_lexer": "ipython2",
   "version": "2.7.6"
  }
 },
 "nbformat": 4,
 "nbformat_minor": 5
}
