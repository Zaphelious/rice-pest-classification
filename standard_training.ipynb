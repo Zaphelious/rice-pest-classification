{
 "cells": [
  {
   "metadata": {
    "ExecuteTime": {
     "end_time": "2025-08-08T14:02:31.051856Z",
     "start_time": "2025-08-08T14:02:31.019969Z"
    }
   },
   "cell_type": "code",
   "source": [
    "import torch\n",
    "\n",
    "print(torch.version.cuda)\n",
    "print(torch.cuda.get_device_name(0))"
   ],
   "id": "cb5a725a97da07f1",
   "outputs": [
    {
     "name": "stdout",
     "output_type": "stream",
     "text": [
      "12.8\n",
      "NVIDIA GeForce RTX 4060 Laptop GPU\n"
     ]
    }
   ],
   "execution_count": 2
  },
  {
   "metadata": {
    "ExecuteTime": {
     "end_time": "2025-08-08T14:02:28.467239Z",
     "start_time": "2025-08-08T14:02:26.884590Z"
    }
   },
   "cell_type": "code",
   "source": [
    "import torch\n",
    "\n",
    "# Check and report VRAM usage\n",
    "# torch.cuda.memory_allocated() gives the current tensor memory usage in bytes.\n",
    "allocated_bytes = torch.cuda.memory_allocated('cuda')\n",
    "allocated_mb = allocated_bytes / (1024 * 1024)\n",
    "\n",
    "reserved_bytes = torch.cuda.memory_reserved('cuda')\n",
    "reserved_mb = reserved_bytes / (1024 * 1024)\n",
    "\n",
    "print(\"\\n--- VRAM USAGE REPORT ---\")\n",
    "print(f\"Memory Allocated: {allocated_mb:.2f} MB\")\n",
    "print(f\"Memory Reserved:  {reserved_mb:.2f} MB\")\n",
    "print(\"-------------------------\\n\")\n",
    "#"
   ],
   "id": "23d50c3f254a094",
   "outputs": [
    {
     "name": "stdout",
     "output_type": "stream",
     "text": [
      "\n",
      "--- VRAM USAGE REPORT ---\n",
      "Memory Allocated: 0.00 MB\n",
      "Memory Reserved:  0.00 MB\n",
      "-------------------------\n",
      "\n"
     ]
    }
   ],
   "execution_count": 1
  },
  {
   "metadata": {
    "collapsed": true,
    "ExecuteTime": {
     "end_time": "2025-08-08T14:02:33.773570Z",
     "start_time": "2025-08-08T14:02:33.287443Z"
    }
   },
   "cell_type": "code",
   "source": [
    "import albumentations as A\n",
    "from albumentations.pytorch import ToTensorV2\n",
    "\n",
    "training_pipeline = A.Compose([\n",
    "    A.Resize(height=224, width=224),\n",
    "    A.SquareSymmetry(p=0.5),\n",
    "    A.RandomCrop(height=180, width=180,  p=1.0),\n",
    "    A.Resize(height=224, width=224),\n",
    "    A.RandomRain(slant_range=(-15,15), drop_length=15, drop_width=1, rain_type=\"default\", blur_value=7 ,p=0.3),\n",
    "    A.RandomBrightnessContrast(brightness_limit=(-0.3, 0.3), contrast_limit=(-0.2, 0.2), p=0.3),\n",
    "    A.Rotate(limit=45, p=0.4),\n",
    "    A.GaussNoise(std_range=(0.1, 0.2), per_channel=True  ,p=0.5),\n",
    "    A.ColorJitter(brightness=(0.8, 1.1), contrast=(0.8, 1.1), saturation=(0.8, 1.1), hue=(-0.5, 0.5)),\n",
    "    A.OneOf([\n",
    "        A.CoarseDropout(num_holes_range=(1, 8), hole_height_range=(0.1, 0.25),\n",
    "                        hole_width_range=(0.1, 0.25), fill=0, p=0.5),\n",
    "        A.GridDropout(ratio=0.5, random_offset=True,  p=0.5)\n",
    "    ]),\n",
    "    A.Normalize(mean=(0.485, 0.456, 0.406),std=(0.229, 0.224, 0.225)),\n",
    "    ToTensorV2()\n",
    "])\n",
    "\n",
    "validation_pipeline = A.Compose([\n",
    "    A.Resize(height=224, width=224),\n",
    "    A.Normalize(mean=(0.485, 0.456, 0.406), std=(0.229, 0.224, 0.225)),\n",
    "    ToTensorV2()\n",
    "])"
   ],
   "id": "initial_id",
   "outputs": [],
   "execution_count": 3
  },
  {
   "metadata": {
    "ExecuteTime": {
     "end_time": "2025-08-08T14:02:37.088819Z",
     "start_time": "2025-08-08T14:02:35.581243Z"
    }
   },
   "cell_type": "code",
   "source": [
    "import cv2\n",
    "from torchvision import datasets\n",
    "\n",
    "class CustomDataset(datasets.ImageFolder):\n",
    "\n",
    "    def __getitem__(self, index):\n",
    "\n",
    "        path, target = self.samples[index]\n",
    "\n",
    "        image = cv2.imread(path)\n",
    "        image = cv2.cvtColor(image, cv2.COLOR_BGR2RGB)\n",
    "\n",
    "        if self.transform:\n",
    "            augmented = self.transform(image=image)\n",
    "            image = augmented['image']\n",
    "\n",
    "        return image, target\n",
    "\n",
    "    def __len__(self):\n",
    "        return len(self.samples)"
   ],
   "id": "6daf511998047715",
   "outputs": [],
   "execution_count": 4
  },
  {
   "metadata": {
    "ExecuteTime": {
     "end_time": "2025-08-08T14:02:39.173332Z",
     "start_time": "2025-08-08T14:02:39.168373Z"
    }
   },
   "cell_type": "code",
   "source": [
    "import torchvision.models as models\n",
    "import torch.nn as nn\n",
    "\n",
    "class PestClassifierMobileNetV2(nn.Module):\n",
    "\n",
    "    def __init__(self, num_classes):\n",
    "        super(PestClassifierMobileNetV2, self).__init__()\n",
    "\n",
    "        # get model\n",
    "        self.base_model = models.mobilenet_v2(weights='MobileNet_V2_Weights.IMAGENET1K_V2')\n",
    "\n",
    "        # Froze feature extraction layer to retain weights.\n",
    "        for params in self.base_model.parameters():\n",
    "            params.requires_grad = False\n",
    "\n",
    "        # get number of features\n",
    "        num_filters = self.base_model.classifier[1].in_features\n",
    "\n",
    "        # Hyperparameter tuning: new layer for 6 rice pests.\n",
    "        self.base_model.classifier[1] = nn.Linear(num_filters, num_classes)\n",
    "\n",
    "    # Forward propagation\n",
    "    def forward(self, x):\n",
    "\n",
    "       features = self.base_model.features(x)\n",
    "\n",
    "       features = F.adaptive_avg_pool2d(features, output_size=(1, 1)).reshape(features.shape[0], -1)\n",
    "\n",
    "       features = self.base_model.classifier(features)\n",
    "\n",
    "       return features\n",
    "\n",
    "    def unfreeze_last_block(self):\n",
    "\n",
    "        print(\"\\nUnfreezing last block of feature extraction.\")\n",
    "\n",
    "        for param in self.base_model.features[-1].parameters():\n",
    "            param.requires_grad = True\n",
    "\n"
   ],
   "id": "8172f748d43e758a",
   "outputs": [],
   "execution_count": 5
  },
  {
   "metadata": {
    "ExecuteTime": {
     "end_time": "2025-08-08T14:02:42.082605Z",
     "start_time": "2025-08-08T14:02:42.075642Z"
    }
   },
   "cell_type": "code",
   "source": [
    "import torch\n",
    "from tqdm import tqdm\n",
    "\n",
    "def train_and_test(model, optimizer, criterion, train_dataloader, test_dataloader, num_epoch, device):\n",
    "    train_losses = []\n",
    "    test_losses = []\n",
    "    accuracies = []\n",
    "    best_accuracy = 0.0\n",
    "\n",
    "    for epoch in range(num_epoch):\n",
    "        # --- TRAINING PHASE ---\n",
    "        model.train()\n",
    "        running_train_loss = 0.0\n",
    "        train_pbar = tqdm(train_dataloader, desc=f\"Train epoch: {epoch+1}\")\n",
    "        for data, labels in train_pbar:\n",
    "            data, labels = data.to(device), labels.to(device)\n",
    "            optimizer.zero_grad()\n",
    "            output = model(data)\n",
    "            loss = criterion(output, labels)\n",
    "            loss.backward()\n",
    "            optimizer.step()\n",
    "            running_train_loss += loss.item()\n",
    "        training_loss = running_train_loss / len(train_dataloader)\n",
    "        train_losses.append(training_loss)\n",
    "\n",
    "        # --- TESTING PHASE ---\n",
    "        model.eval()\n",
    "        running_test_loss = 0.0\n",
    "        correct_predictions = 0\n",
    "        total_samples = 0\n",
    "\n",
    "        with torch.no_grad():\n",
    "            for inputs, labels in tqdm(test_dataloader, desc=f\"Test epoch: {epoch+1}\"):\n",
    "                inputs, labels = inputs.to(device), labels.to(device)\n",
    "\n",
    "                output_loss = model(inputs)\n",
    "                loss = criterion(output_loss, labels)\n",
    "                running_test_loss += loss.item()\n",
    "                _, predicted = torch.max(output_loss.data, 1)\n",
    "                total_samples += labels.size(0)\n",
    "                correct_predictions += (predicted == labels).sum().item()\n",
    "\n",
    "        testing_loss = running_test_loss / len(test_dataloader)\n",
    "        test_losses.append(testing_loss)\n",
    "        accuracy = 100 * correct_predictions / total_samples\n",
    "        accuracies.append(accuracy)\n",
    "\n",
    "        epoch_summary = f'Epoch {epoch+1}/{num_epoch} | Train Loss: {training_loss:.4f} | Test Loss: {testing_loss:.4f} | Accuracy: {accuracy:.2f}%'\n",
    "\n",
    "        if device.type == 'cuda':\n",
    "            allocated_gb = torch.cuda.memory_allocated() / (1024 ** 3)\n",
    "            reserved_gb = torch.cuda.memory_reserved() / (1024 ** 3)\n",
    "            epoch_summary += f' | GPU Memory (Alloc/Reserved): {allocated_gb:.2f}/{reserved_gb:.3f} GB'\n",
    "\n",
    "        tqdm.write(epoch_summary)\n",
    "\n",
    "        if accuracy > best_accuracy:\n",
    "            best_accuracy = accuracy\n",
    "            torch.save(model.state_dict(), 'models/SMobileNetV2_rice_pest_classificationV2pth')\n",
    "\n",
    "    tqdm.write('Training done!')\n",
    "\n",
    "    return {'train_loss': train_losses, 'test_loss': test_losses, 'accuracy': accuracies}, best_accuracy"
   ],
   "id": "fca4e6f7abec2fbd",
   "outputs": [],
   "execution_count": 6
  },
  {
   "metadata": {
    "ExecuteTime": {
     "end_time": "2025-08-08T14:02:47.246205Z",
     "start_time": "2025-08-08T14:02:47.237378Z"
    }
   },
   "cell_type": "code",
   "source": [
    "import seaborn as sns\n",
    "import matplotlib.pyplot as plt\n",
    "import pandas as pd\n",
    "import numpy as np\n",
    "\n",
    "def plot_training_result(result):\n",
    "\n",
    "    if len(result['train_loss']) != len(result['test_loss']):\n",
    "        print(\"Error: train_losses and test_losses must have the same length.\")\n",
    "        return\n",
    "\n",
    "    epochs = range(1, len(result['train_loss']) + 1)\n",
    "\n",
    "    data = {\n",
    "        'Epoch': epochs,\n",
    "        'Training Loss': result['train_loss'],\n",
    "        'Testing Loss': result['test_loss'],\n",
    "    }\n",
    "\n",
    "    df = pd.DataFrame(data)\n",
    "\n",
    "    df_long = df.melt(id_vars=['Epoch'], var_name='Loss Type', value_name='Loss')\n",
    "\n",
    "    plt.figure(figsize=(10, 6))\n",
    "    sns.lineplot(data=df_long, x='Epoch', y='Loss', hue='Loss Type', marker='o')\n",
    "\n",
    "    plt.title('Training and Testing Loss Comparison')\n",
    "    plt.xlabel('Epoch')\n",
    "    plt.ylabel('Loss')\n",
    "    plt.legend()\n",
    "    plt.grid(True)\n",
    "    plt.show()\n",
    "\n",
    "def plot_accuracy(result):\n",
    "    x = np.array(range(1, len(result['accuracy']) + 1))\n",
    "    y = np.array(result['accuracy'])\n",
    "\n",
    "    plt.figure(figsize=(10, 6))\n",
    "    plt.plot(x, y, label='Accuracy')\n",
    "    plt.title('Accuracy Evaluation')\n",
    "    plt.xlabel('Epoch')\n",
    "    plt.ylabel('Accuracy')\n",
    "    plt.legend()\n",
    "    plt.grid(True)\n",
    "    plt.show()\n",
    "\n",
    "def save_historical_data(*histories):\n",
    "\n",
    "    full_train_loss = []\n",
    "    full_test_loss = []\n",
    "    full_accuracy = []\n",
    "\n",
    "    for history in histories:\n",
    "\n",
    "        full_train_loss.extend(history.get('train_loss', []))\n",
    "        # Handle both 'test_loss' and 'val_loss' as possible keys\n",
    "        full_test_loss.extend(history.get('test_loss', []))\n",
    "        full_accuracy.extend(history.get('accuracy', []))\n",
    "\n",
    "    total_epochs = len(full_train_loss)\n",
    "\n",
    "    data_dict = {\n",
    "        'epoch': total_epochs,\n",
    "        'train_loss': full_train_loss,\n",
    "        'test_loss': full_test_loss,\n",
    "        'accuracy': full_accuracy,\n",
    "    }\n",
    "\n",
    "    history_df = pd.DataFrame(data_dict)\n",
    "    history_df.to_csv('training_history_standard.csv', index=False)\n",
    "\n",
    "    print(\"Historical data saved successfully!\")\n",
    "\n",
    "# def save_single_data(data):\n",
    "\n",
    "# sample_test_accuracies = np.linspace(0.60, 0.95, 20) - np.random.rand(20) * 0.08\n",
    "# plot_accuracy(accuracy=sample_test_accuracies)\n"
   ],
   "id": "74773810c269080d",
   "outputs": [],
   "execution_count": 7
  },
  {
   "metadata": {
    "ExecuteTime": {
     "end_time": "2025-08-08T14:02:50.284346Z",
     "start_time": "2025-08-08T14:02:50.206374Z"
    }
   },
   "cell_type": "code",
   "source": [
    "from torch.utils.data import DataLoader\n",
    "\n",
    "train_set = CustomDataset(root='datasets/train', transform=training_pipeline)\n",
    "train_loader = DataLoader(train_set, batch_size=128, shuffle=True)\n",
    "test_set = CustomDataset(root='datasets/test', transform=validation_pipeline)\n",
    "test_loader = DataLoader(test_set, batch_size=64, shuffle=True)\n",
    "\n",
    "classes = train_set.classes"
   ],
   "id": "4fd20dd312f838ff",
   "outputs": [],
   "execution_count": 8
  },
  {
   "metadata": {
    "ExecuteTime": {
     "end_time": "2025-08-08T15:43:56.370069Z",
     "start_time": "2025-08-08T14:03:01.507680Z"
    }
   },
   "cell_type": "code",
   "source": [
    "import torch.optim as optim\n",
    "\n",
    "hardware = torch.device('cuda' if   torch.cuda.is_available() else 'cpu')\n",
    "classes = 6\n",
    "learning_rate = 1e-4\n",
    "weight_decay = 1e-2\n",
    "num_epochs = 128\n",
    "\n",
    "model = PestClassifierMobileNetV2(num_classes=classes).to(hardware)\n",
    "\n",
    "optimizer = optim.AdamW(filter(lambda p: p.requires_grad, model.parameters()), lr=learning_rate, weight_decay=weight_decay)\n",
    "criterion = nn.CrossEntropyLoss()\n",
    "\n",
    "result, accuracies = train_and_test(model=model, optimizer=optimizer, criterion=criterion,train_dataloader=train_loader, test_dataloader=test_loader, num_epoch=num_epochs, device=hardware)\n",
    "\n",
    "plot_training_result(result=result)\n",
    "plot_accuracy(result)\n",
    "save_historical_data(result)"
   ],
   "id": "42228f67409bda4c",
   "outputs": [
    {
     "name": "stderr",
     "output_type": "stream",
     "text": [
      "Train epoch: 1: 100%|██████████| 59/59 [00:47<00:00,  1.23it/s]\n",
      "Test epoch: 1: 100%|██████████| 34/34 [00:06<00:00,  5.51it/s]\n"
     ]
    },
    {
     "name": "stdout",
     "output_type": "stream",
     "text": [
      "Epoch 1/128 | Train Loss: 1.7278 | Test Loss: 1.6205 | Accuracy: 34.66% | GPU Memory (Alloc/Reserved): 0.06/1.824 GB\n"
     ]
    },
    {
     "name": "stderr",
     "output_type": "stream",
     "text": [
      "Train epoch: 2: 100%|██████████| 59/59 [00:26<00:00,  2.22it/s]\n",
      "Test epoch: 2: 100%|██████████| 34/34 [00:04<00:00,  7.07it/s]\n"
     ]
    },
    {
     "name": "stdout",
     "output_type": "stream",
     "text": [
      "Epoch 2/128 | Train Loss: 1.6197 | Test Loss: 1.5367 | Accuracy: 44.09% | GPU Memory (Alloc/Reserved): 0.06/1.824 GB\n"
     ]
    },
    {
     "name": "stderr",
     "output_type": "stream",
     "text": [
      "Train epoch: 3: 100%|██████████| 59/59 [00:39<00:00,  1.51it/s]\n",
      "Test epoch: 3: 100%|██████████| 34/34 [00:04<00:00,  7.06it/s]\n"
     ]
    },
    {
     "name": "stdout",
     "output_type": "stream",
     "text": [
      "Epoch 3/128 | Train Loss: 1.5761 | Test Loss: 1.4745 | Accuracy: 52.39% | GPU Memory (Alloc/Reserved): 0.06/1.824 GB\n"
     ]
    },
    {
     "name": "stderr",
     "output_type": "stream",
     "text": [
      "Train epoch: 4: 100%|██████████| 59/59 [00:27<00:00,  2.18it/s]\n",
      "Test epoch: 4: 100%|██████████| 34/34 [00:04<00:00,  7.10it/s]\n"
     ]
    },
    {
     "name": "stdout",
     "output_type": "stream",
     "text": [
      "Epoch 4/128 | Train Loss: 1.5428 | Test Loss: 1.4203 | Accuracy: 56.05% | GPU Memory (Alloc/Reserved): 0.06/1.824 GB\n"
     ]
    },
    {
     "name": "stderr",
     "output_type": "stream",
     "text": [
      "Train epoch: 5: 100%|██████████| 59/59 [00:26<00:00,  2.22it/s]\n",
      "Test epoch: 5: 100%|██████████| 34/34 [00:04<00:00,  7.13it/s]\n"
     ]
    },
    {
     "name": "stdout",
     "output_type": "stream",
     "text": [
      "Epoch 5/128 | Train Loss: 1.5151 | Test Loss: 1.3793 | Accuracy: 58.86% | GPU Memory (Alloc/Reserved): 0.06/1.824 GB\n"
     ]
    },
    {
     "name": "stderr",
     "output_type": "stream",
     "text": [
      "Train epoch: 6: 100%|██████████| 59/59 [00:26<00:00,  2.23it/s]\n",
      "Test epoch: 6: 100%|██████████| 34/34 [00:04<00:00,  7.16it/s]\n"
     ]
    },
    {
     "name": "stdout",
     "output_type": "stream",
     "text": [
      "Epoch 6/128 | Train Loss: 1.4891 | Test Loss: 1.3404 | Accuracy: 61.35% | GPU Memory (Alloc/Reserved): 0.06/1.824 GB\n"
     ]
    },
    {
     "name": "stderr",
     "output_type": "stream",
     "text": [
      "Train epoch: 7: 100%|██████████| 59/59 [00:26<00:00,  2.22it/s]\n",
      "Test epoch: 7: 100%|██████████| 34/34 [00:04<00:00,  7.06it/s]\n"
     ]
    },
    {
     "name": "stdout",
     "output_type": "stream",
     "text": [
      "Epoch 7/128 | Train Loss: 1.4713 | Test Loss: 1.3068 | Accuracy: 62.90% | GPU Memory (Alloc/Reserved): 0.06/1.824 GB\n"
     ]
    },
    {
     "name": "stderr",
     "output_type": "stream",
     "text": [
      "Train epoch: 8: 100%|██████████| 59/59 [00:38<00:00,  1.52it/s]\n",
      "Test epoch: 8: 100%|██████████| 34/34 [00:12<00:00,  2.77it/s]\n"
     ]
    },
    {
     "name": "stdout",
     "output_type": "stream",
     "text": [
      "Epoch 8/128 | Train Loss: 1.4547 | Test Loss: 1.2688 | Accuracy: 64.02% | GPU Memory (Alloc/Reserved): 0.06/1.824 GB\n"
     ]
    },
    {
     "name": "stderr",
     "output_type": "stream",
     "text": [
      "Train epoch: 9: 100%|██████████| 59/59 [01:10<00:00,  1.19s/it]\n",
      "Test epoch: 9: 100%|██████████| 34/34 [00:07<00:00,  4.75it/s]\n"
     ]
    },
    {
     "name": "stdout",
     "output_type": "stream",
     "text": [
      "Epoch 9/128 | Train Loss: 1.4436 | Test Loss: 1.2421 | Accuracy: 64.82% | GPU Memory (Alloc/Reserved): 0.06/1.824 GB\n"
     ]
    },
    {
     "name": "stderr",
     "output_type": "stream",
     "text": [
      "Train epoch: 10: 100%|██████████| 59/59 [00:52<00:00,  1.13it/s]\n",
      "Test epoch: 10: 100%|██████████| 34/34 [00:10<00:00,  3.32it/s]\n"
     ]
    },
    {
     "name": "stdout",
     "output_type": "stream",
     "text": [
      "Epoch 10/128 | Train Loss: 1.4219 | Test Loss: 1.2181 | Accuracy: 65.24% | GPU Memory (Alloc/Reserved): 0.06/1.824 GB\n"
     ]
    },
    {
     "name": "stderr",
     "output_type": "stream",
     "text": [
      "Train epoch: 11: 100%|██████████| 59/59 [01:05<00:00,  1.11s/it]\n",
      "Test epoch: 11: 100%|██████████| 34/34 [00:11<00:00,  3.01it/s]\n"
     ]
    },
    {
     "name": "stdout",
     "output_type": "stream",
     "text": [
      "Epoch 11/128 | Train Loss: 1.4118 | Test Loss: 1.1949 | Accuracy: 66.04% | GPU Memory (Alloc/Reserved): 0.06/1.824 GB\n"
     ]
    },
    {
     "name": "stderr",
     "output_type": "stream",
     "text": [
      "Train epoch: 12: 100%|██████████| 59/59 [00:42<00:00,  1.38it/s]\n",
      "Test epoch: 12: 100%|██████████| 34/34 [00:04<00:00,  7.18it/s]\n"
     ]
    },
    {
     "name": "stdout",
     "output_type": "stream",
     "text": [
      "Epoch 12/128 | Train Loss: 1.3904 | Test Loss: 1.1703 | Accuracy: 66.93% | GPU Memory (Alloc/Reserved): 0.06/1.824 GB\n"
     ]
    },
    {
     "name": "stderr",
     "output_type": "stream",
     "text": [
      "Train epoch: 13: 100%|██████████| 59/59 [00:26<00:00,  2.24it/s]\n",
      "Test epoch: 13: 100%|██████████| 34/34 [00:04<00:00,  7.22it/s]\n"
     ]
    },
    {
     "name": "stdout",
     "output_type": "stream",
     "text": [
      "Epoch 13/128 | Train Loss: 1.3814 | Test Loss: 1.1462 | Accuracy: 67.03% | GPU Memory (Alloc/Reserved): 0.06/1.824 GB\n"
     ]
    },
    {
     "name": "stderr",
     "output_type": "stream",
     "text": [
      "Train epoch: 14: 100%|██████████| 59/59 [00:26<00:00,  2.23it/s]\n",
      "Test epoch: 14: 100%|██████████| 34/34 [00:04<00:00,  7.21it/s]\n"
     ]
    },
    {
     "name": "stdout",
     "output_type": "stream",
     "text": [
      "Epoch 14/128 | Train Loss: 1.3760 | Test Loss: 1.1314 | Accuracy: 67.82% | GPU Memory (Alloc/Reserved): 0.06/1.824 GB\n"
     ]
    },
    {
     "name": "stderr",
     "output_type": "stream",
     "text": [
      "Train epoch: 15: 100%|██████████| 59/59 [00:27<00:00,  2.11it/s]\n",
      "Test epoch: 15: 100%|██████████| 34/34 [00:04<00:00,  7.00it/s]\n"
     ]
    },
    {
     "name": "stdout",
     "output_type": "stream",
     "text": [
      "Epoch 15/128 | Train Loss: 1.3750 | Test Loss: 1.1138 | Accuracy: 68.06% | GPU Memory (Alloc/Reserved): 0.06/1.824 GB\n"
     ]
    },
    {
     "name": "stderr",
     "output_type": "stream",
     "text": [
      "Train epoch: 16: 100%|██████████| 59/59 [00:26<00:00,  2.19it/s]\n",
      "Test epoch: 16: 100%|██████████| 34/34 [00:04<00:00,  7.15it/s]\n"
     ]
    },
    {
     "name": "stdout",
     "output_type": "stream",
     "text": [
      "Epoch 16/128 | Train Loss: 1.3578 | Test Loss: 1.0954 | Accuracy: 68.67% | GPU Memory (Alloc/Reserved): 0.06/1.824 GB\n"
     ]
    },
    {
     "name": "stderr",
     "output_type": "stream",
     "text": [
      "Train epoch: 17: 100%|██████████| 59/59 [00:26<00:00,  2.21it/s]\n",
      "Test epoch: 17: 100%|██████████| 34/34 [00:04<00:00,  7.07it/s]\n"
     ]
    },
    {
     "name": "stdout",
     "output_type": "stream",
     "text": [
      "Epoch 17/128 | Train Loss: 1.3564 | Test Loss: 1.0818 | Accuracy: 69.37% | GPU Memory (Alloc/Reserved): 0.06/1.824 GB\n"
     ]
    },
    {
     "name": "stderr",
     "output_type": "stream",
     "text": [
      "Train epoch: 18: 100%|██████████| 59/59 [00:26<00:00,  2.21it/s]\n",
      "Test epoch: 18: 100%|██████████| 34/34 [00:04<00:00,  7.17it/s]\n"
     ]
    },
    {
     "name": "stdout",
     "output_type": "stream",
     "text": [
      "Epoch 18/128 | Train Loss: 1.3490 | Test Loss: 1.0695 | Accuracy: 69.70% | GPU Memory (Alloc/Reserved): 0.06/1.824 GB\n"
     ]
    },
    {
     "name": "stderr",
     "output_type": "stream",
     "text": [
      "Train epoch: 19: 100%|██████████| 59/59 [00:26<00:00,  2.25it/s]\n",
      "Test epoch: 19: 100%|██████████| 34/34 [00:04<00:00,  7.14it/s]\n"
     ]
    },
    {
     "name": "stdout",
     "output_type": "stream",
     "text": [
      "Epoch 19/128 | Train Loss: 1.3379 | Test Loss: 1.0588 | Accuracy: 70.08% | GPU Memory (Alloc/Reserved): 0.06/1.824 GB\n"
     ]
    },
    {
     "name": "stderr",
     "output_type": "stream",
     "text": [
      "Train epoch: 20: 100%|██████████| 59/59 [00:26<00:00,  2.24it/s]\n",
      "Test epoch: 20: 100%|██████████| 34/34 [00:04<00:00,  7.23it/s]\n"
     ]
    },
    {
     "name": "stdout",
     "output_type": "stream",
     "text": [
      "Epoch 20/128 | Train Loss: 1.3324 | Test Loss: 1.0396 | Accuracy: 70.26% | GPU Memory (Alloc/Reserved): 0.06/1.824 GB\n"
     ]
    },
    {
     "name": "stderr",
     "output_type": "stream",
     "text": [
      "Train epoch: 21: 100%|██████████| 59/59 [00:26<00:00,  2.24it/s]\n",
      "Test epoch: 21: 100%|██████████| 34/34 [00:04<00:00,  7.31it/s]\n"
     ]
    },
    {
     "name": "stdout",
     "output_type": "stream",
     "text": [
      "Epoch 21/128 | Train Loss: 1.3218 | Test Loss: 1.0294 | Accuracy: 70.83% | GPU Memory (Alloc/Reserved): 0.06/1.824 GB\n"
     ]
    },
    {
     "name": "stderr",
     "output_type": "stream",
     "text": [
      "Train epoch: 22: 100%|██████████| 59/59 [00:26<00:00,  2.24it/s]\n",
      "Test epoch: 22: 100%|██████████| 34/34 [00:04<00:00,  7.41it/s]\n"
     ]
    },
    {
     "name": "stdout",
     "output_type": "stream",
     "text": [
      "Epoch 22/128 | Train Loss: 1.3154 | Test Loss: 1.0201 | Accuracy: 70.87% | GPU Memory (Alloc/Reserved): 0.06/1.824 GB\n"
     ]
    },
    {
     "name": "stderr",
     "output_type": "stream",
     "text": [
      "Train epoch: 23: 100%|██████████| 59/59 [00:26<00:00,  2.24it/s]\n",
      "Test epoch: 23: 100%|██████████| 34/34 [00:04<00:00,  7.38it/s]\n"
     ]
    },
    {
     "name": "stdout",
     "output_type": "stream",
     "text": [
      "Epoch 23/128 | Train Loss: 1.3122 | Test Loss: 1.0027 | Accuracy: 71.58% | GPU Memory (Alloc/Reserved): 0.06/1.824 GB\n"
     ]
    },
    {
     "name": "stderr",
     "output_type": "stream",
     "text": [
      "Train epoch: 24: 100%|██████████| 59/59 [00:44<00:00,  1.32it/s]\n",
      "Test epoch: 24: 100%|██████████| 34/34 [00:10<00:00,  3.33it/s]\n"
     ]
    },
    {
     "name": "stdout",
     "output_type": "stream",
     "text": [
      "Epoch 24/128 | Train Loss: 1.3082 | Test Loss: 0.9941 | Accuracy: 71.67% | GPU Memory (Alloc/Reserved): 0.06/1.824 GB\n"
     ]
    },
    {
     "name": "stderr",
     "output_type": "stream",
     "text": [
      "Train epoch: 25: 100%|██████████| 59/59 [01:07<00:00,  1.15s/it]\n",
      "Test epoch: 25: 100%|██████████| 34/34 [00:11<00:00,  2.90it/s]\n"
     ]
    },
    {
     "name": "stdout",
     "output_type": "stream",
     "text": [
      "Epoch 25/128 | Train Loss: 1.3085 | Test Loss: 0.9831 | Accuracy: 71.48% | GPU Memory (Alloc/Reserved): 0.06/1.824 GB\n"
     ]
    },
    {
     "name": "stderr",
     "output_type": "stream",
     "text": [
      "Train epoch: 26: 100%|██████████| 59/59 [01:05<00:00,  1.12s/it]\n",
      "Test epoch: 26: 100%|██████████| 34/34 [00:06<00:00,  5.21it/s]\n"
     ]
    },
    {
     "name": "stdout",
     "output_type": "stream",
     "text": [
      "Epoch 26/128 | Train Loss: 1.2938 | Test Loss: 0.9798 | Accuracy: 71.95% | GPU Memory (Alloc/Reserved): 0.06/1.824 GB\n"
     ]
    },
    {
     "name": "stderr",
     "output_type": "stream",
     "text": [
      "Train epoch: 27: 100%|██████████| 59/59 [00:26<00:00,  2.21it/s]\n",
      "Test epoch: 27: 100%|██████████| 34/34 [00:04<00:00,  7.36it/s]\n"
     ]
    },
    {
     "name": "stdout",
     "output_type": "stream",
     "text": [
      "Epoch 27/128 | Train Loss: 1.2941 | Test Loss: 0.9612 | Accuracy: 72.42% | GPU Memory (Alloc/Reserved): 0.06/1.824 GB\n"
     ]
    },
    {
     "name": "stderr",
     "output_type": "stream",
     "text": [
      "Train epoch: 28: 100%|██████████| 59/59 [00:26<00:00,  2.25it/s]\n",
      "Test epoch: 28: 100%|██████████| 34/34 [00:04<00:00,  7.44it/s]\n"
     ]
    },
    {
     "name": "stdout",
     "output_type": "stream",
     "text": [
      "Epoch 28/128 | Train Loss: 1.2825 | Test Loss: 0.9552 | Accuracy: 72.51% | GPU Memory (Alloc/Reserved): 0.06/1.824 GB\n"
     ]
    },
    {
     "name": "stderr",
     "output_type": "stream",
     "text": [
      "Train epoch: 29: 100%|██████████| 59/59 [00:26<00:00,  2.25it/s]\n",
      "Test epoch: 29: 100%|██████████| 34/34 [00:04<00:00,  7.50it/s]\n"
     ]
    },
    {
     "name": "stdout",
     "output_type": "stream",
     "text": [
      "Epoch 29/128 | Train Loss: 1.2860 | Test Loss: 0.9420 | Accuracy: 72.70% | GPU Memory (Alloc/Reserved): 0.06/1.824 GB\n"
     ]
    },
    {
     "name": "stderr",
     "output_type": "stream",
     "text": [
      "Train epoch: 30: 100%|██████████| 59/59 [00:26<00:00,  2.23it/s]\n",
      "Test epoch: 30: 100%|██████████| 34/34 [00:04<00:00,  7.30it/s]\n"
     ]
    },
    {
     "name": "stdout",
     "output_type": "stream",
     "text": [
      "Epoch 30/128 | Train Loss: 1.2810 | Test Loss: 0.9366 | Accuracy: 72.23% | GPU Memory (Alloc/Reserved): 0.06/1.824 GB\n"
     ]
    },
    {
     "name": "stderr",
     "output_type": "stream",
     "text": [
      "Train epoch: 31: 100%|██████████| 59/59 [00:30<00:00,  1.91it/s]\n",
      "Test epoch: 31: 100%|██████████| 34/34 [00:04<00:00,  6.98it/s]\n"
     ]
    },
    {
     "name": "stdout",
     "output_type": "stream",
     "text": [
      "Epoch 31/128 | Train Loss: 1.2799 | Test Loss: 0.9317 | Accuracy: 72.70% | GPU Memory (Alloc/Reserved): 0.06/1.824 GB\n"
     ]
    },
    {
     "name": "stderr",
     "output_type": "stream",
     "text": [
      "Train epoch: 32: 100%|██████████| 59/59 [00:47<00:00,  1.24it/s]\n",
      "Test epoch: 32: 100%|██████████| 34/34 [00:10<00:00,  3.15it/s]\n"
     ]
    },
    {
     "name": "stdout",
     "output_type": "stream",
     "text": [
      "Epoch 32/128 | Train Loss: 1.2673 | Test Loss: 0.9263 | Accuracy: 73.45% | GPU Memory (Alloc/Reserved): 0.06/1.824 GB\n"
     ]
    },
    {
     "name": "stderr",
     "output_type": "stream",
     "text": [
      "Train epoch: 33: 100%|██████████| 59/59 [01:09<00:00,  1.18s/it]\n",
      "Test epoch: 33: 100%|██████████| 34/34 [00:09<00:00,  3.41it/s]\n"
     ]
    },
    {
     "name": "stdout",
     "output_type": "stream",
     "text": [
      "Epoch 33/128 | Train Loss: 1.2647 | Test Loss: 0.9144 | Accuracy: 73.59% | GPU Memory (Alloc/Reserved): 0.06/1.824 GB\n"
     ]
    },
    {
     "name": "stderr",
     "output_type": "stream",
     "text": [
      "Train epoch: 34: 100%|██████████| 59/59 [01:18<00:00,  1.33s/it]\n",
      "Test epoch: 34: 100%|██████████| 34/34 [00:11<00:00,  3.03it/s]\n"
     ]
    },
    {
     "name": "stdout",
     "output_type": "stream",
     "text": [
      "Epoch 34/128 | Train Loss: 1.2626 | Test Loss: 0.9039 | Accuracy: 73.69% | GPU Memory (Alloc/Reserved): 0.06/1.824 GB\n"
     ]
    },
    {
     "name": "stderr",
     "output_type": "stream",
     "text": [
      "Train epoch: 35: 100%|██████████| 59/59 [01:13<00:00,  1.25s/it]\n",
      "Test epoch: 35: 100%|██████████| 34/34 [00:10<00:00,  3.17it/s]\n"
     ]
    },
    {
     "name": "stdout",
     "output_type": "stream",
     "text": [
      "Epoch 35/128 | Train Loss: 1.2612 | Test Loss: 0.9022 | Accuracy: 74.72% | GPU Memory (Alloc/Reserved): 0.06/1.824 GB\n"
     ]
    },
    {
     "name": "stderr",
     "output_type": "stream",
     "text": [
      "Train epoch: 36: 100%|██████████| 59/59 [01:05<00:00,  1.12s/it]\n",
      "Test epoch: 36: 100%|██████████| 34/34 [00:10<00:00,  3.23it/s]\n"
     ]
    },
    {
     "name": "stdout",
     "output_type": "stream",
     "text": [
      "Epoch 36/128 | Train Loss: 1.2587 | Test Loss: 0.9004 | Accuracy: 74.53% | GPU Memory (Alloc/Reserved): 0.06/1.824 GB\n"
     ]
    },
    {
     "name": "stderr",
     "output_type": "stream",
     "text": [
      "Train epoch: 37: 100%|██████████| 59/59 [01:17<00:00,  1.31s/it]\n",
      "Test epoch: 37: 100%|██████████| 34/34 [00:11<00:00,  3.00it/s]\n"
     ]
    },
    {
     "name": "stdout",
     "output_type": "stream",
     "text": [
      "Epoch 37/128 | Train Loss: 1.2559 | Test Loss: 0.8832 | Accuracy: 74.39% | GPU Memory (Alloc/Reserved): 0.06/1.824 GB\n"
     ]
    },
    {
     "name": "stderr",
     "output_type": "stream",
     "text": [
      "Train epoch: 38: 100%|██████████| 59/59 [01:14<00:00,  1.26s/it]\n",
      "Test epoch: 38: 100%|██████████| 34/34 [00:10<00:00,  3.17it/s]\n"
     ]
    },
    {
     "name": "stdout",
     "output_type": "stream",
     "text": [
      "Epoch 38/128 | Train Loss: 1.2415 | Test Loss: 0.8834 | Accuracy: 74.72% | GPU Memory (Alloc/Reserved): 0.06/1.824 GB\n"
     ]
    },
    {
     "name": "stderr",
     "output_type": "stream",
     "text": [
      "Train epoch: 39: 100%|██████████| 59/59 [00:30<00:00,  1.91it/s]\n",
      "Test epoch: 39: 100%|██████████| 34/34 [00:04<00:00,  7.09it/s]\n"
     ]
    },
    {
     "name": "stdout",
     "output_type": "stream",
     "text": [
      "Epoch 39/128 | Train Loss: 1.2600 | Test Loss: 0.8860 | Accuracy: 75.23% | GPU Memory (Alloc/Reserved): 0.06/1.824 GB\n"
     ]
    },
    {
     "name": "stderr",
     "output_type": "stream",
     "text": [
      "Train epoch: 40: 100%|██████████| 59/59 [00:28<00:00,  2.04it/s]\n",
      "Test epoch: 40: 100%|██████████| 34/34 [00:04<00:00,  7.04it/s]\n"
     ]
    },
    {
     "name": "stdout",
     "output_type": "stream",
     "text": [
      "Epoch 40/128 | Train Loss: 1.2475 | Test Loss: 0.8697 | Accuracy: 74.58% | GPU Memory (Alloc/Reserved): 0.06/1.824 GB\n"
     ]
    },
    {
     "name": "stderr",
     "output_type": "stream",
     "text": [
      "Train epoch: 41: 100%|██████████| 59/59 [00:28<00:00,  2.08it/s]\n",
      "Test epoch: 41: 100%|██████████| 34/34 [00:04<00:00,  7.01it/s]\n"
     ]
    },
    {
     "name": "stdout",
     "output_type": "stream",
     "text": [
      "Epoch 41/128 | Train Loss: 1.2348 | Test Loss: 0.8714 | Accuracy: 75.33% | GPU Memory (Alloc/Reserved): 0.06/1.824 GB\n"
     ]
    },
    {
     "name": "stderr",
     "output_type": "stream",
     "text": [
      "Train epoch: 42: 100%|██████████| 59/59 [00:28<00:00,  2.06it/s]\n",
      "Test epoch: 42: 100%|██████████| 34/34 [00:04<00:00,  7.01it/s]\n"
     ]
    },
    {
     "name": "stdout",
     "output_type": "stream",
     "text": [
      "Epoch 42/128 | Train Loss: 1.2326 | Test Loss: 0.8604 | Accuracy: 75.75% | GPU Memory (Alloc/Reserved): 0.06/1.824 GB\n"
     ]
    },
    {
     "name": "stderr",
     "output_type": "stream",
     "text": [
      "Train epoch: 43: 100%|██████████| 59/59 [00:31<00:00,  1.90it/s]\n",
      "Test epoch: 43: 100%|██████████| 34/34 [00:11<00:00,  2.95it/s]\n"
     ]
    },
    {
     "name": "stdout",
     "output_type": "stream",
     "text": [
      "Epoch 43/128 | Train Loss: 1.2472 | Test Loss: 0.8651 | Accuracy: 74.53% | GPU Memory (Alloc/Reserved): 0.06/1.824 GB\n"
     ]
    },
    {
     "name": "stderr",
     "output_type": "stream",
     "text": [
      "Train epoch: 44: 100%|██████████| 59/59 [01:05<00:00,  1.11s/it]\n",
      "Test epoch: 44: 100%|██████████| 34/34 [00:09<00:00,  3.47it/s]\n"
     ]
    },
    {
     "name": "stdout",
     "output_type": "stream",
     "text": [
      "Epoch 44/128 | Train Loss: 1.2270 | Test Loss: 0.8542 | Accuracy: 75.38% | GPU Memory (Alloc/Reserved): 0.06/1.824 GB\n"
     ]
    },
    {
     "name": "stderr",
     "output_type": "stream",
     "text": [
      "Train epoch: 45: 100%|██████████| 59/59 [01:04<00:00,  1.09s/it]\n",
      "Test epoch: 45: 100%|██████████| 34/34 [00:10<00:00,  3.38it/s]\n"
     ]
    },
    {
     "name": "stdout",
     "output_type": "stream",
     "text": [
      "Epoch 45/128 | Train Loss: 1.2445 | Test Loss: 0.8499 | Accuracy: 76.03% | GPU Memory (Alloc/Reserved): 0.06/1.824 GB\n"
     ]
    },
    {
     "name": "stderr",
     "output_type": "stream",
     "text": [
      "Train epoch: 46: 100%|██████████| 59/59 [00:33<00:00,  1.79it/s]\n",
      "Test epoch: 46: 100%|██████████| 34/34 [00:05<00:00,  6.39it/s]\n"
     ]
    },
    {
     "name": "stdout",
     "output_type": "stream",
     "text": [
      "Epoch 46/128 | Train Loss: 1.2279 | Test Loss: 0.8487 | Accuracy: 76.31% | GPU Memory (Alloc/Reserved): 0.06/1.824 GB\n"
     ]
    },
    {
     "name": "stderr",
     "output_type": "stream",
     "text": [
      "Train epoch: 47: 100%|██████████| 59/59 [00:29<00:00,  2.00it/s]\n",
      "Test epoch: 47: 100%|██████████| 34/34 [00:04<00:00,  7.11it/s]\n"
     ]
    },
    {
     "name": "stdout",
     "output_type": "stream",
     "text": [
      "Epoch 47/128 | Train Loss: 1.2239 | Test Loss: 0.8427 | Accuracy: 75.89% | GPU Memory (Alloc/Reserved): 0.06/1.824 GB\n"
     ]
    },
    {
     "name": "stderr",
     "output_type": "stream",
     "text": [
      "Train epoch: 48: 100%|██████████| 59/59 [00:32<00:00,  1.80it/s]\n",
      "Test epoch: 48: 100%|██████████| 34/34 [00:05<00:00,  6.61it/s]\n"
     ]
    },
    {
     "name": "stdout",
     "output_type": "stream",
     "text": [
      "Epoch 48/128 | Train Loss: 1.2332 | Test Loss: 0.8451 | Accuracy: 76.31% | GPU Memory (Alloc/Reserved): 0.06/1.824 GB\n"
     ]
    },
    {
     "name": "stderr",
     "output_type": "stream",
     "text": [
      "Train epoch: 49: 100%|██████████| 59/59 [00:32<00:00,  1.79it/s]\n",
      "Test epoch: 49: 100%|██████████| 34/34 [00:05<00:00,  6.32it/s]\n"
     ]
    },
    {
     "name": "stdout",
     "output_type": "stream",
     "text": [
      "Epoch 49/128 | Train Loss: 1.2202 | Test Loss: 0.8296 | Accuracy: 76.17% | GPU Memory (Alloc/Reserved): 0.06/1.824 GB\n"
     ]
    },
    {
     "name": "stderr",
     "output_type": "stream",
     "text": [
      "Train epoch: 50: 100%|██████████| 59/59 [00:29<00:00,  2.03it/s]\n",
      "Test epoch: 50: 100%|██████████| 34/34 [00:05<00:00,  6.08it/s]\n"
     ]
    },
    {
     "name": "stdout",
     "output_type": "stream",
     "text": [
      "Epoch 50/128 | Train Loss: 1.2290 | Test Loss: 0.8307 | Accuracy: 76.22% | GPU Memory (Alloc/Reserved): 0.06/1.824 GB\n"
     ]
    },
    {
     "name": "stderr",
     "output_type": "stream",
     "text": [
      "Train epoch: 51: 100%|██████████| 59/59 [00:33<00:00,  1.75it/s]\n",
      "Test epoch: 51: 100%|██████████| 34/34 [00:06<00:00,  5.19it/s]\n"
     ]
    },
    {
     "name": "stdout",
     "output_type": "stream",
     "text": [
      "Epoch 51/128 | Train Loss: 1.2148 | Test Loss: 0.8224 | Accuracy: 77.06% | GPU Memory (Alloc/Reserved): 0.06/1.824 GB\n"
     ]
    },
    {
     "name": "stderr",
     "output_type": "stream",
     "text": [
      "Train epoch: 52: 100%|██████████| 59/59 [00:54<00:00,  1.09it/s]\n",
      "Test epoch: 52: 100%|██████████| 34/34 [00:11<00:00,  2.91it/s]\n"
     ]
    },
    {
     "name": "stdout",
     "output_type": "stream",
     "text": [
      "Epoch 52/128 | Train Loss: 1.2193 | Test Loss: 0.8268 | Accuracy: 75.98% | GPU Memory (Alloc/Reserved): 0.06/1.824 GB\n"
     ]
    },
    {
     "name": "stderr",
     "output_type": "stream",
     "text": [
      "Train epoch: 53: 100%|██████████| 59/59 [01:19<00:00,  1.34s/it]\n",
      "Test epoch: 53: 100%|██████████| 34/34 [00:10<00:00,  3.17it/s]\n"
     ]
    },
    {
     "name": "stdout",
     "output_type": "stream",
     "text": [
      "Epoch 53/128 | Train Loss: 1.2217 | Test Loss: 0.8234 | Accuracy: 76.88% | GPU Memory (Alloc/Reserved): 0.06/1.824 GB\n"
     ]
    },
    {
     "name": "stderr",
     "output_type": "stream",
     "text": [
      "Train epoch: 54: 100%|██████████| 59/59 [01:05<00:00,  1.11s/it]\n",
      "Test epoch: 54: 100%|██████████| 34/34 [00:09<00:00,  3.43it/s]\n"
     ]
    },
    {
     "name": "stdout",
     "output_type": "stream",
     "text": [
      "Epoch 54/128 | Train Loss: 1.2106 | Test Loss: 0.8182 | Accuracy: 76.88% | GPU Memory (Alloc/Reserved): 0.06/1.824 GB\n"
     ]
    },
    {
     "name": "stderr",
     "output_type": "stream",
     "text": [
      "Train epoch: 55: 100%|██████████| 59/59 [01:18<00:00,  1.32s/it]\n",
      "Test epoch: 55: 100%|██████████| 34/34 [00:11<00:00,  3.07it/s]\n"
     ]
    },
    {
     "name": "stdout",
     "output_type": "stream",
     "text": [
      "Epoch 55/128 | Train Loss: 1.2192 | Test Loss: 0.8164 | Accuracy: 76.74% | GPU Memory (Alloc/Reserved): 0.06/1.824 GB\n"
     ]
    },
    {
     "name": "stderr",
     "output_type": "stream",
     "text": [
      "Train epoch: 56: 100%|██████████| 59/59 [01:12<00:00,  1.23s/it]\n",
      "Test epoch: 56: 100%|██████████| 34/34 [00:09<00:00,  3.41it/s]\n"
     ]
    },
    {
     "name": "stdout",
     "output_type": "stream",
     "text": [
      "Epoch 56/128 | Train Loss: 1.2076 | Test Loss: 0.7989 | Accuracy: 77.30% | GPU Memory (Alloc/Reserved): 0.06/1.824 GB\n"
     ]
    },
    {
     "name": "stderr",
     "output_type": "stream",
     "text": [
      "Train epoch: 57: 100%|██████████| 59/59 [01:01<00:00,  1.05s/it]\n",
      "Test epoch: 57: 100%|██████████| 34/34 [00:09<00:00,  3.52it/s]\n"
     ]
    },
    {
     "name": "stdout",
     "output_type": "stream",
     "text": [
      "Epoch 57/128 | Train Loss: 1.2076 | Test Loss: 0.7985 | Accuracy: 77.20% | GPU Memory (Alloc/Reserved): 0.06/1.824 GB\n"
     ]
    },
    {
     "name": "stderr",
     "output_type": "stream",
     "text": [
      "Train epoch: 58: 100%|██████████| 59/59 [01:07<00:00,  1.14s/it]\n",
      "Test epoch: 58: 100%|██████████| 34/34 [00:10<00:00,  3.28it/s]\n"
     ]
    },
    {
     "name": "stdout",
     "output_type": "stream",
     "text": [
      "Epoch 58/128 | Train Loss: 1.2059 | Test Loss: 0.8050 | Accuracy: 77.06% | GPU Memory (Alloc/Reserved): 0.06/1.824 GB\n"
     ]
    },
    {
     "name": "stderr",
     "output_type": "stream",
     "text": [
      "Train epoch: 59: 100%|██████████| 59/59 [01:16<00:00,  1.30s/it]\n",
      "Test epoch: 59: 100%|██████████| 34/34 [00:09<00:00,  3.43it/s]\n"
     ]
    },
    {
     "name": "stdout",
     "output_type": "stream",
     "text": [
      "Epoch 59/128 | Train Loss: 1.1967 | Test Loss: 0.7977 | Accuracy: 76.78% | GPU Memory (Alloc/Reserved): 0.06/1.824 GB\n"
     ]
    },
    {
     "name": "stderr",
     "output_type": "stream",
     "text": [
      "Train epoch: 60: 100%|██████████| 59/59 [01:05<00:00,  1.10s/it]\n",
      "Test epoch: 60: 100%|██████████| 34/34 [00:09<00:00,  3.43it/s]\n"
     ]
    },
    {
     "name": "stdout",
     "output_type": "stream",
     "text": [
      "Epoch 60/128 | Train Loss: 1.1981 | Test Loss: 0.7915 | Accuracy: 76.97% | GPU Memory (Alloc/Reserved): 0.06/1.824 GB\n"
     ]
    },
    {
     "name": "stderr",
     "output_type": "stream",
     "text": [
      "Train epoch: 61: 100%|██████████| 59/59 [01:13<00:00,  1.25s/it]\n",
      "Test epoch: 61: 100%|██████████| 34/34 [00:11<00:00,  2.99it/s]\n"
     ]
    },
    {
     "name": "stdout",
     "output_type": "stream",
     "text": [
      "Epoch 61/128 | Train Loss: 1.2011 | Test Loss: 0.7895 | Accuracy: 77.11% | GPU Memory (Alloc/Reserved): 0.06/1.824 GB\n"
     ]
    },
    {
     "name": "stderr",
     "output_type": "stream",
     "text": [
      "Train epoch: 62: 100%|██████████| 59/59 [01:11<00:00,  1.21s/it]\n",
      "Test epoch: 62: 100%|██████████| 34/34 [00:09<00:00,  3.42it/s]\n"
     ]
    },
    {
     "name": "stdout",
     "output_type": "stream",
     "text": [
      "Epoch 62/128 | Train Loss: 1.2093 | Test Loss: 0.7875 | Accuracy: 77.81% | GPU Memory (Alloc/Reserved): 0.06/1.824 GB\n"
     ]
    },
    {
     "name": "stderr",
     "output_type": "stream",
     "text": [
      "Train epoch: 63: 100%|██████████| 59/59 [01:02<00:00,  1.05s/it]\n",
      "Test epoch: 63: 100%|██████████| 34/34 [00:10<00:00,  3.33it/s]\n"
     ]
    },
    {
     "name": "stdout",
     "output_type": "stream",
     "text": [
      "Epoch 63/128 | Train Loss: 1.2059 | Test Loss: 0.7956 | Accuracy: 77.39% | GPU Memory (Alloc/Reserved): 0.06/1.824 GB\n"
     ]
    },
    {
     "name": "stderr",
     "output_type": "stream",
     "text": [
      "Train epoch: 64: 100%|██████████| 59/59 [01:13<00:00,  1.24s/it]\n",
      "Test epoch: 64: 100%|██████████| 34/34 [00:11<00:00,  2.84it/s]\n"
     ]
    },
    {
     "name": "stdout",
     "output_type": "stream",
     "text": [
      "Epoch 64/128 | Train Loss: 1.1836 | Test Loss: 0.7734 | Accuracy: 77.81% | GPU Memory (Alloc/Reserved): 0.06/1.824 GB\n"
     ]
    },
    {
     "name": "stderr",
     "output_type": "stream",
     "text": [
      "Train epoch: 65: 100%|██████████| 59/59 [00:58<00:00,  1.00it/s]\n",
      "Test epoch: 65: 100%|██████████| 34/34 [00:05<00:00,  6.58it/s]\n"
     ]
    },
    {
     "name": "stdout",
     "output_type": "stream",
     "text": [
      "Epoch 65/128 | Train Loss: 1.1942 | Test Loss: 0.7773 | Accuracy: 77.49% | GPU Memory (Alloc/Reserved): 0.06/1.824 GB\n"
     ]
    },
    {
     "name": "stderr",
     "output_type": "stream",
     "text": [
      "Train epoch: 66: 100%|██████████| 59/59 [00:30<00:00,  1.96it/s]\n",
      "Test epoch: 66: 100%|██████████| 34/34 [00:05<00:00,  6.07it/s]\n"
     ]
    },
    {
     "name": "stdout",
     "output_type": "stream",
     "text": [
      "Epoch 66/128 | Train Loss: 1.1871 | Test Loss: 0.7705 | Accuracy: 77.95% | GPU Memory (Alloc/Reserved): 0.06/1.824 GB\n"
     ]
    },
    {
     "name": "stderr",
     "output_type": "stream",
     "text": [
      "Train epoch: 67: 100%|██████████| 59/59 [00:29<00:00,  2.02it/s]\n",
      "Test epoch: 67: 100%|██████████| 34/34 [00:04<00:00,  7.02it/s]\n"
     ]
    },
    {
     "name": "stdout",
     "output_type": "stream",
     "text": [
      "Epoch 67/128 | Train Loss: 1.1881 | Test Loss: 0.7751 | Accuracy: 77.39% | GPU Memory (Alloc/Reserved): 0.06/1.824 GB\n"
     ]
    },
    {
     "name": "stderr",
     "output_type": "stream",
     "text": [
      "Train epoch: 68: 100%|██████████| 59/59 [00:28<00:00,  2.09it/s]\n",
      "Test epoch: 68: 100%|██████████| 34/34 [00:04<00:00,  7.05it/s]\n"
     ]
    },
    {
     "name": "stdout",
     "output_type": "stream",
     "text": [
      "Epoch 68/128 | Train Loss: 1.1956 | Test Loss: 0.7751 | Accuracy: 77.63% | GPU Memory (Alloc/Reserved): 0.06/1.824 GB\n"
     ]
    },
    {
     "name": "stderr",
     "output_type": "stream",
     "text": [
      "Train epoch: 69: 100%|██████████| 59/59 [00:28<00:00,  2.07it/s]\n",
      "Test epoch: 69: 100%|██████████| 34/34 [00:04<00:00,  7.07it/s]\n"
     ]
    },
    {
     "name": "stdout",
     "output_type": "stream",
     "text": [
      "Epoch 69/128 | Train Loss: 1.1984 | Test Loss: 0.7749 | Accuracy: 77.53% | GPU Memory (Alloc/Reserved): 0.06/1.824 GB\n"
     ]
    },
    {
     "name": "stderr",
     "output_type": "stream",
     "text": [
      "Train epoch: 70: 100%|██████████| 59/59 [00:29<00:00,  2.02it/s]\n",
      "Test epoch: 70: 100%|██████████| 34/34 [00:04<00:00,  6.97it/s]\n"
     ]
    },
    {
     "name": "stdout",
     "output_type": "stream",
     "text": [
      "Epoch 70/128 | Train Loss: 1.1866 | Test Loss: 0.7725 | Accuracy: 77.63% | GPU Memory (Alloc/Reserved): 0.06/1.824 GB\n"
     ]
    },
    {
     "name": "stderr",
     "output_type": "stream",
     "text": [
      "Train epoch: 71: 100%|██████████| 59/59 [00:29<00:00,  2.01it/s]\n",
      "Test epoch: 71: 100%|██████████| 34/34 [00:05<00:00,  6.60it/s]\n"
     ]
    },
    {
     "name": "stdout",
     "output_type": "stream",
     "text": [
      "Epoch 71/128 | Train Loss: 1.2020 | Test Loss: 0.7626 | Accuracy: 77.58% | GPU Memory (Alloc/Reserved): 0.06/1.824 GB\n"
     ]
    },
    {
     "name": "stderr",
     "output_type": "stream",
     "text": [
      "Train epoch: 72: 100%|██████████| 59/59 [00:32<00:00,  1.81it/s]\n",
      "Test epoch: 72: 100%|██████████| 34/34 [00:04<00:00,  6.83it/s]\n"
     ]
    },
    {
     "name": "stdout",
     "output_type": "stream",
     "text": [
      "Epoch 72/128 | Train Loss: 1.1945 | Test Loss: 0.7648 | Accuracy: 77.86% | GPU Memory (Alloc/Reserved): 0.06/1.824 GB\n"
     ]
    },
    {
     "name": "stderr",
     "output_type": "stream",
     "text": [
      "Train epoch: 73: 100%|██████████| 59/59 [00:30<00:00,  1.95it/s]\n",
      "Test epoch: 73: 100%|██████████| 34/34 [00:04<00:00,  6.85it/s]\n"
     ]
    },
    {
     "name": "stdout",
     "output_type": "stream",
     "text": [
      "Epoch 73/128 | Train Loss: 1.1958 | Test Loss: 0.7698 | Accuracy: 77.77% | GPU Memory (Alloc/Reserved): 0.06/1.824 GB\n"
     ]
    },
    {
     "name": "stderr",
     "output_type": "stream",
     "text": [
      "Train epoch: 74: 100%|██████████| 59/59 [00:30<00:00,  1.95it/s]\n",
      "Test epoch: 74: 100%|██████████| 34/34 [00:05<00:00,  6.62it/s]\n"
     ]
    },
    {
     "name": "stdout",
     "output_type": "stream",
     "text": [
      "Epoch 74/128 | Train Loss: 1.1948 | Test Loss: 0.7590 | Accuracy: 78.14% | GPU Memory (Alloc/Reserved): 0.06/1.824 GB\n"
     ]
    },
    {
     "name": "stderr",
     "output_type": "stream",
     "text": [
      "Train epoch: 75: 100%|██████████| 59/59 [00:31<00:00,  1.87it/s]\n",
      "Test epoch: 75: 100%|██████████| 34/34 [00:04<00:00,  7.01it/s]\n"
     ]
    },
    {
     "name": "stdout",
     "output_type": "stream",
     "text": [
      "Epoch 75/128 | Train Loss: 1.1849 | Test Loss: 0.7574 | Accuracy: 78.33% | GPU Memory (Alloc/Reserved): 0.06/1.824 GB\n"
     ]
    },
    {
     "name": "stderr",
     "output_type": "stream",
     "text": [
      "Train epoch: 76: 100%|██████████| 59/59 [00:30<00:00,  1.91it/s]\n",
      "Test epoch: 76: 100%|██████████| 34/34 [00:04<00:00,  7.09it/s]\n"
     ]
    },
    {
     "name": "stdout",
     "output_type": "stream",
     "text": [
      "Epoch 76/128 | Train Loss: 1.1852 | Test Loss: 0.7507 | Accuracy: 78.42% | GPU Memory (Alloc/Reserved): 0.06/1.824 GB\n"
     ]
    },
    {
     "name": "stderr",
     "output_type": "stream",
     "text": [
      "Train epoch: 77: 100%|██████████| 59/59 [00:28<00:00,  2.07it/s]\n",
      "Test epoch: 77: 100%|██████████| 34/34 [00:04<00:00,  6.94it/s]\n"
     ]
    },
    {
     "name": "stdout",
     "output_type": "stream",
     "text": [
      "Epoch 77/128 | Train Loss: 1.1687 | Test Loss: 0.7483 | Accuracy: 78.05% | GPU Memory (Alloc/Reserved): 0.06/1.824 GB\n"
     ]
    },
    {
     "name": "stderr",
     "output_type": "stream",
     "text": [
      "Train epoch: 78: 100%|██████████| 59/59 [00:32<00:00,  1.81it/s]\n",
      "Test epoch: 78: 100%|██████████| 34/34 [00:04<00:00,  6.89it/s]\n"
     ]
    },
    {
     "name": "stdout",
     "output_type": "stream",
     "text": [
      "Epoch 78/128 | Train Loss: 1.1931 | Test Loss: 0.7620 | Accuracy: 78.10% | GPU Memory (Alloc/Reserved): 0.06/1.824 GB\n"
     ]
    },
    {
     "name": "stderr",
     "output_type": "stream",
     "text": [
      "Train epoch: 79: 100%|██████████| 59/59 [00:31<00:00,  1.88it/s]\n",
      "Test epoch: 79: 100%|██████████| 34/34 [00:05<00:00,  6.65it/s]\n"
     ]
    },
    {
     "name": "stdout",
     "output_type": "stream",
     "text": [
      "Epoch 79/128 | Train Loss: 1.1863 | Test Loss: 0.7435 | Accuracy: 78.28% | GPU Memory (Alloc/Reserved): 0.06/1.824 GB\n"
     ]
    },
    {
     "name": "stderr",
     "output_type": "stream",
     "text": [
      "Train epoch: 80: 100%|██████████| 59/59 [00:31<00:00,  1.87it/s]\n",
      "Test epoch: 80: 100%|██████████| 34/34 [00:04<00:00,  6.81it/s]\n"
     ]
    },
    {
     "name": "stdout",
     "output_type": "stream",
     "text": [
      "Epoch 80/128 | Train Loss: 1.1947 | Test Loss: 0.7591 | Accuracy: 77.86% | GPU Memory (Alloc/Reserved): 0.06/1.824 GB\n"
     ]
    },
    {
     "name": "stderr",
     "output_type": "stream",
     "text": [
      "Train epoch: 81: 100%|██████████| 59/59 [00:28<00:00,  2.04it/s]\n",
      "Test epoch: 81: 100%|██████████| 34/34 [00:05<00:00,  6.54it/s]\n"
     ]
    },
    {
     "name": "stdout",
     "output_type": "stream",
     "text": [
      "Epoch 81/128 | Train Loss: 1.1796 | Test Loss: 0.7371 | Accuracy: 78.66% | GPU Memory (Alloc/Reserved): 0.06/1.824 GB\n"
     ]
    },
    {
     "name": "stderr",
     "output_type": "stream",
     "text": [
      "Train epoch: 82: 100%|██████████| 59/59 [00:31<00:00,  1.89it/s]\n",
      "Test epoch: 82: 100%|██████████| 34/34 [00:05<00:00,  6.66it/s]\n"
     ]
    },
    {
     "name": "stdout",
     "output_type": "stream",
     "text": [
      "Epoch 82/128 | Train Loss: 1.1882 | Test Loss: 0.7475 | Accuracy: 78.33% | GPU Memory (Alloc/Reserved): 0.06/1.824 GB\n"
     ]
    },
    {
     "name": "stderr",
     "output_type": "stream",
     "text": [
      "Train epoch: 83: 100%|██████████| 59/59 [00:30<00:00,  1.91it/s]\n",
      "Test epoch: 83: 100%|██████████| 34/34 [00:05<00:00,  6.47it/s]\n"
     ]
    },
    {
     "name": "stdout",
     "output_type": "stream",
     "text": [
      "Epoch 83/128 | Train Loss: 1.1936 | Test Loss: 0.7460 | Accuracy: 78.19% | GPU Memory (Alloc/Reserved): 0.06/1.824 GB\n"
     ]
    },
    {
     "name": "stderr",
     "output_type": "stream",
     "text": [
      "Train epoch: 84: 100%|██████████| 59/59 [00:30<00:00,  1.93it/s]\n",
      "Test epoch: 84: 100%|██████████| 34/34 [00:05<00:00,  6.62it/s]\n"
     ]
    },
    {
     "name": "stdout",
     "output_type": "stream",
     "text": [
      "Epoch 84/128 | Train Loss: 1.1718 | Test Loss: 0.7348 | Accuracy: 78.66% | GPU Memory (Alloc/Reserved): 0.06/1.824 GB\n"
     ]
    },
    {
     "name": "stderr",
     "output_type": "stream",
     "text": [
      "Train epoch: 85: 100%|██████████| 59/59 [00:29<00:00,  1.97it/s]\n",
      "Test epoch: 85: 100%|██████████| 34/34 [00:05<00:00,  6.65it/s]\n"
     ]
    },
    {
     "name": "stdout",
     "output_type": "stream",
     "text": [
      "Epoch 85/128 | Train Loss: 1.1874 | Test Loss: 0.7416 | Accuracy: 78.10% | GPU Memory (Alloc/Reserved): 0.06/1.824 GB\n"
     ]
    },
    {
     "name": "stderr",
     "output_type": "stream",
     "text": [
      "Train epoch: 86: 100%|██████████| 59/59 [00:35<00:00,  1.69it/s]\n",
      "Test epoch: 86: 100%|██████████| 34/34 [00:07<00:00,  4.81it/s]\n"
     ]
    },
    {
     "name": "stdout",
     "output_type": "stream",
     "text": [
      "Epoch 86/128 | Train Loss: 1.1814 | Test Loss: 0.7367 | Accuracy: 78.47% | GPU Memory (Alloc/Reserved): 0.06/1.824 GB\n"
     ]
    },
    {
     "name": "stderr",
     "output_type": "stream",
     "text": [
      "Train epoch: 87: 100%|██████████| 59/59 [00:33<00:00,  1.78it/s]\n",
      "Test epoch: 87: 100%|██████████| 34/34 [00:04<00:00,  7.04it/s]\n"
     ]
    },
    {
     "name": "stdout",
     "output_type": "stream",
     "text": [
      "Epoch 87/128 | Train Loss: 1.1866 | Test Loss: 0.7389 | Accuracy: 78.75% | GPU Memory (Alloc/Reserved): 0.06/1.824 GB\n"
     ]
    },
    {
     "name": "stderr",
     "output_type": "stream",
     "text": [
      "Train epoch: 88: 100%|██████████| 59/59 [00:28<00:00,  2.06it/s]\n",
      "Test epoch: 88: 100%|██████████| 34/34 [00:04<00:00,  7.01it/s]\n"
     ]
    },
    {
     "name": "stdout",
     "output_type": "stream",
     "text": [
      "Epoch 88/128 | Train Loss: 1.1906 | Test Loss: 0.7332 | Accuracy: 78.42% | GPU Memory (Alloc/Reserved): 0.06/1.824 GB\n"
     ]
    },
    {
     "name": "stderr",
     "output_type": "stream",
     "text": [
      "Train epoch: 89: 100%|██████████| 59/59 [00:29<00:00,  2.00it/s]\n",
      "Test epoch: 89: 100%|██████████| 34/34 [00:04<00:00,  6.96it/s]\n"
     ]
    },
    {
     "name": "stdout",
     "output_type": "stream",
     "text": [
      "Epoch 89/128 | Train Loss: 1.1726 | Test Loss: 0.7315 | Accuracy: 79.08% | GPU Memory (Alloc/Reserved): 0.06/1.824 GB\n"
     ]
    },
    {
     "name": "stderr",
     "output_type": "stream",
     "text": [
      "Train epoch: 90: 100%|██████████| 59/59 [00:28<00:00,  2.08it/s]\n",
      "Test epoch: 90: 100%|██████████| 34/34 [00:04<00:00,  7.06it/s]\n"
     ]
    },
    {
     "name": "stdout",
     "output_type": "stream",
     "text": [
      "Epoch 90/128 | Train Loss: 1.1641 | Test Loss: 0.7264 | Accuracy: 78.61% | GPU Memory (Alloc/Reserved): 0.06/1.824 GB\n"
     ]
    },
    {
     "name": "stderr",
     "output_type": "stream",
     "text": [
      "Train epoch: 91: 100%|██████████| 59/59 [00:28<00:00,  2.08it/s]\n",
      "Test epoch: 91: 100%|██████████| 34/34 [00:04<00:00,  7.09it/s]\n"
     ]
    },
    {
     "name": "stdout",
     "output_type": "stream",
     "text": [
      "Epoch 91/128 | Train Loss: 1.1824 | Test Loss: 0.7337 | Accuracy: 78.80% | GPU Memory (Alloc/Reserved): 0.06/1.824 GB\n"
     ]
    },
    {
     "name": "stderr",
     "output_type": "stream",
     "text": [
      "Train epoch: 92: 100%|██████████| 59/59 [00:29<00:00,  2.02it/s]\n",
      "Test epoch: 92: 100%|██████████| 34/34 [00:05<00:00,  6.56it/s]\n"
     ]
    },
    {
     "name": "stdout",
     "output_type": "stream",
     "text": [
      "Epoch 92/128 | Train Loss: 1.1761 | Test Loss: 0.7232 | Accuracy: 79.08% | GPU Memory (Alloc/Reserved): 0.06/1.824 GB\n"
     ]
    },
    {
     "name": "stderr",
     "output_type": "stream",
     "text": [
      "Train epoch: 93: 100%|██████████| 59/59 [00:31<00:00,  1.87it/s]\n",
      "Test epoch: 93: 100%|██████████| 34/34 [00:04<00:00,  7.02it/s]\n"
     ]
    },
    {
     "name": "stdout",
     "output_type": "stream",
     "text": [
      "Epoch 93/128 | Train Loss: 1.1796 | Test Loss: 0.7286 | Accuracy: 79.03% | GPU Memory (Alloc/Reserved): 0.06/1.824 GB\n"
     ]
    },
    {
     "name": "stderr",
     "output_type": "stream",
     "text": [
      "Train epoch: 94: 100%|██████████| 59/59 [00:28<00:00,  2.04it/s]\n",
      "Test epoch: 94: 100%|██████████| 34/34 [00:04<00:00,  7.01it/s]\n"
     ]
    },
    {
     "name": "stdout",
     "output_type": "stream",
     "text": [
      "Epoch 94/128 | Train Loss: 1.1731 | Test Loss: 0.7240 | Accuracy: 79.08% | GPU Memory (Alloc/Reserved): 0.06/1.824 GB\n"
     ]
    },
    {
     "name": "stderr",
     "output_type": "stream",
     "text": [
      "Train epoch: 95: 100%|██████████| 59/59 [00:28<00:00,  2.05it/s]\n",
      "Test epoch: 95: 100%|██████████| 34/34 [00:04<00:00,  6.93it/s]\n"
     ]
    },
    {
     "name": "stdout",
     "output_type": "stream",
     "text": [
      "Epoch 95/128 | Train Loss: 1.1743 | Test Loss: 0.7291 | Accuracy: 78.94% | GPU Memory (Alloc/Reserved): 0.06/1.824 GB\n"
     ]
    },
    {
     "name": "stderr",
     "output_type": "stream",
     "text": [
      "Train epoch: 96: 100%|██████████| 59/59 [00:29<00:00,  1.99it/s]\n",
      "Test epoch: 96: 100%|██████████| 34/34 [00:06<00:00,  5.32it/s]\n"
     ]
    },
    {
     "name": "stdout",
     "output_type": "stream",
     "text": [
      "Epoch 96/128 | Train Loss: 1.1659 | Test Loss: 0.7190 | Accuracy: 79.13% | GPU Memory (Alloc/Reserved): 0.06/1.824 GB\n"
     ]
    },
    {
     "name": "stderr",
     "output_type": "stream",
     "text": [
      "Train epoch: 97: 100%|██████████| 59/59 [00:53<00:00,  1.10it/s]\n",
      "Test epoch: 97: 100%|██████████| 34/34 [00:07<00:00,  4.37it/s]\n"
     ]
    },
    {
     "name": "stdout",
     "output_type": "stream",
     "text": [
      "Epoch 97/128 | Train Loss: 1.1741 | Test Loss: 0.7188 | Accuracy: 79.32% | GPU Memory (Alloc/Reserved): 0.06/1.824 GB\n"
     ]
    },
    {
     "name": "stderr",
     "output_type": "stream",
     "text": [
      "Train epoch: 98: 100%|██████████| 59/59 [00:33<00:00,  1.74it/s]\n",
      "Test epoch: 98: 100%|██████████| 34/34 [00:05<00:00,  5.88it/s]\n"
     ]
    },
    {
     "name": "stdout",
     "output_type": "stream",
     "text": [
      "Epoch 98/128 | Train Loss: 1.1687 | Test Loss: 0.7185 | Accuracy: 79.92% | GPU Memory (Alloc/Reserved): 0.06/1.824 GB\n"
     ]
    },
    {
     "name": "stderr",
     "output_type": "stream",
     "text": [
      "Train epoch: 99: 100%|██████████| 59/59 [00:29<00:00,  2.00it/s]\n",
      "Test epoch: 99: 100%|██████████| 34/34 [00:05<00:00,  6.25it/s]\n"
     ]
    },
    {
     "name": "stdout",
     "output_type": "stream",
     "text": [
      "Epoch 99/128 | Train Loss: 1.1594 | Test Loss: 0.7140 | Accuracy: 79.36% | GPU Memory (Alloc/Reserved): 0.06/1.824 GB\n"
     ]
    },
    {
     "name": "stderr",
     "output_type": "stream",
     "text": [
      "Train epoch: 100: 100%|██████████| 59/59 [00:31<00:00,  1.86it/s]\n",
      "Test epoch: 100: 100%|██████████| 34/34 [00:05<00:00,  6.51it/s]\n"
     ]
    },
    {
     "name": "stdout",
     "output_type": "stream",
     "text": [
      "Epoch 100/128 | Train Loss: 1.1564 | Test Loss: 0.7209 | Accuracy: 79.22% | GPU Memory (Alloc/Reserved): 0.06/1.824 GB\n"
     ]
    },
    {
     "name": "stderr",
     "output_type": "stream",
     "text": [
      "Train epoch: 101: 100%|██████████| 59/59 [00:29<00:00,  1.99it/s]\n",
      "Test epoch: 101: 100%|██████████| 34/34 [00:04<00:00,  7.03it/s]\n"
     ]
    },
    {
     "name": "stdout",
     "output_type": "stream",
     "text": [
      "Epoch 101/128 | Train Loss: 1.1715 | Test Loss: 0.7161 | Accuracy: 79.13% | GPU Memory (Alloc/Reserved): 0.06/1.824 GB\n"
     ]
    },
    {
     "name": "stderr",
     "output_type": "stream",
     "text": [
      "Train epoch: 102: 100%|██████████| 59/59 [00:31<00:00,  1.87it/s]\n",
      "Test epoch: 102: 100%|██████████| 34/34 [00:04<00:00,  6.98it/s]\n"
     ]
    },
    {
     "name": "stdout",
     "output_type": "stream",
     "text": [
      "Epoch 102/128 | Train Loss: 1.1647 | Test Loss: 0.7103 | Accuracy: 79.36% | GPU Memory (Alloc/Reserved): 0.06/1.824 GB\n"
     ]
    },
    {
     "name": "stderr",
     "output_type": "stream",
     "text": [
      "Train epoch: 103: 100%|██████████| 59/59 [00:28<00:00,  2.06it/s]\n",
      "Test epoch: 103: 100%|██████████| 34/34 [00:04<00:00,  7.13it/s]\n"
     ]
    },
    {
     "name": "stdout",
     "output_type": "stream",
     "text": [
      "Epoch 103/128 | Train Loss: 1.1598 | Test Loss: 0.7044 | Accuracy: 79.60% | GPU Memory (Alloc/Reserved): 0.06/1.824 GB\n"
     ]
    },
    {
     "name": "stderr",
     "output_type": "stream",
     "text": [
      "Train epoch: 104: 100%|██████████| 59/59 [00:28<00:00,  2.10it/s]\n",
      "Test epoch: 104: 100%|██████████| 34/34 [00:04<00:00,  6.93it/s]\n"
     ]
    },
    {
     "name": "stdout",
     "output_type": "stream",
     "text": [
      "Epoch 104/128 | Train Loss: 1.1696 | Test Loss: 0.7073 | Accuracy: 79.55% | GPU Memory (Alloc/Reserved): 0.06/1.824 GB\n"
     ]
    },
    {
     "name": "stderr",
     "output_type": "stream",
     "text": [
      "Train epoch: 105: 100%|██████████| 59/59 [00:28<00:00,  2.07it/s]\n",
      "Test epoch: 105: 100%|██████████| 34/34 [00:04<00:00,  7.12it/s]\n"
     ]
    },
    {
     "name": "stdout",
     "output_type": "stream",
     "text": [
      "Epoch 105/128 | Train Loss: 1.1754 | Test Loss: 0.7075 | Accuracy: 79.78% | GPU Memory (Alloc/Reserved): 0.06/1.824 GB\n"
     ]
    },
    {
     "name": "stderr",
     "output_type": "stream",
     "text": [
      "Train epoch: 106: 100%|██████████| 59/59 [00:28<00:00,  2.04it/s]\n",
      "Test epoch: 106: 100%|██████████| 34/34 [00:05<00:00,  6.62it/s]\n"
     ]
    },
    {
     "name": "stdout",
     "output_type": "stream",
     "text": [
      "Epoch 106/128 | Train Loss: 1.1657 | Test Loss: 0.7045 | Accuracy: 79.32% | GPU Memory (Alloc/Reserved): 0.06/1.824 GB\n"
     ]
    },
    {
     "name": "stderr",
     "output_type": "stream",
     "text": [
      "Train epoch: 107: 100%|██████████| 59/59 [00:30<00:00,  1.94it/s]\n",
      "Test epoch: 107: 100%|██████████| 34/34 [00:05<00:00,  6.08it/s]\n"
     ]
    },
    {
     "name": "stdout",
     "output_type": "stream",
     "text": [
      "Epoch 107/128 | Train Loss: 1.1560 | Test Loss: 0.7068 | Accuracy: 78.94% | GPU Memory (Alloc/Reserved): 0.06/1.824 GB\n"
     ]
    },
    {
     "name": "stderr",
     "output_type": "stream",
     "text": [
      "Train epoch: 108: 100%|██████████| 59/59 [00:32<00:00,  1.81it/s]\n",
      "Test epoch: 108: 100%|██████████| 34/34 [00:05<00:00,  6.51it/s]\n"
     ]
    },
    {
     "name": "stdout",
     "output_type": "stream",
     "text": [
      "Epoch 108/128 | Train Loss: 1.1736 | Test Loss: 0.7126 | Accuracy: 79.55% | GPU Memory (Alloc/Reserved): 0.06/1.824 GB\n"
     ]
    },
    {
     "name": "stderr",
     "output_type": "stream",
     "text": [
      "Train epoch: 109: 100%|██████████| 59/59 [00:31<00:00,  1.87it/s]\n",
      "Test epoch: 109: 100%|██████████| 34/34 [00:05<00:00,  6.30it/s]\n"
     ]
    },
    {
     "name": "stdout",
     "output_type": "stream",
     "text": [
      "Epoch 109/128 | Train Loss: 1.1682 | Test Loss: 0.7017 | Accuracy: 79.60% | GPU Memory (Alloc/Reserved): 0.06/1.824 GB\n"
     ]
    },
    {
     "name": "stderr",
     "output_type": "stream",
     "text": [
      "Train epoch: 110: 100%|██████████| 59/59 [00:32<00:00,  1.81it/s]\n",
      "Test epoch: 110: 100%|██████████| 34/34 [00:05<00:00,  6.22it/s]\n"
     ]
    },
    {
     "name": "stdout",
     "output_type": "stream",
     "text": [
      "Epoch 110/128 | Train Loss: 1.1668 | Test Loss: 0.7090 | Accuracy: 79.55% | GPU Memory (Alloc/Reserved): 0.06/1.824 GB\n"
     ]
    },
    {
     "name": "stderr",
     "output_type": "stream",
     "text": [
      "Train epoch: 111: 100%|██████████| 59/59 [00:30<00:00,  1.94it/s]\n",
      "Test epoch: 111: 100%|██████████| 34/34 [00:04<00:00,  6.94it/s]\n"
     ]
    },
    {
     "name": "stdout",
     "output_type": "stream",
     "text": [
      "Epoch 111/128 | Train Loss: 1.1640 | Test Loss: 0.6974 | Accuracy: 79.69% | GPU Memory (Alloc/Reserved): 0.06/1.824 GB\n"
     ]
    },
    {
     "name": "stderr",
     "output_type": "stream",
     "text": [
      "Train epoch: 112: 100%|██████████| 59/59 [00:32<00:00,  1.80it/s]\n",
      "Test epoch: 112: 100%|██████████| 34/34 [00:05<00:00,  5.95it/s]\n"
     ]
    },
    {
     "name": "stdout",
     "output_type": "stream",
     "text": [
      "Epoch 112/128 | Train Loss: 1.1610 | Test Loss: 0.7072 | Accuracy: 79.36% | GPU Memory (Alloc/Reserved): 0.06/1.824 GB\n"
     ]
    },
    {
     "name": "stderr",
     "output_type": "stream",
     "text": [
      "Train epoch: 113: 100%|██████████| 59/59 [00:31<00:00,  1.87it/s]\n",
      "Test epoch: 113: 100%|██████████| 34/34 [00:05<00:00,  6.01it/s]\n"
     ]
    },
    {
     "name": "stdout",
     "output_type": "stream",
     "text": [
      "Epoch 113/128 | Train Loss: 1.1757 | Test Loss: 0.7037 | Accuracy: 79.78% | GPU Memory (Alloc/Reserved): 0.06/1.824 GB\n"
     ]
    },
    {
     "name": "stderr",
     "output_type": "stream",
     "text": [
      "Train epoch: 114: 100%|██████████| 59/59 [00:30<00:00,  1.95it/s]\n",
      "Test epoch: 114: 100%|██████████| 34/34 [00:04<00:00,  6.86it/s]\n"
     ]
    },
    {
     "name": "stdout",
     "output_type": "stream",
     "text": [
      "Epoch 114/128 | Train Loss: 1.1659 | Test Loss: 0.6974 | Accuracy: 79.69% | GPU Memory (Alloc/Reserved): 0.06/1.824 GB\n"
     ]
    },
    {
     "name": "stderr",
     "output_type": "stream",
     "text": [
      "Train epoch: 115: 100%|██████████| 59/59 [00:30<00:00,  1.96it/s]\n",
      "Test epoch: 115: 100%|██████████| 34/34 [00:05<00:00,  6.79it/s]\n"
     ]
    },
    {
     "name": "stdout",
     "output_type": "stream",
     "text": [
      "Epoch 115/128 | Train Loss: 1.1665 | Test Loss: 0.6945 | Accuracy: 79.69% | GPU Memory (Alloc/Reserved): 0.06/1.824 GB\n"
     ]
    },
    {
     "name": "stderr",
     "output_type": "stream",
     "text": [
      "Train epoch: 116: 100%|██████████| 59/59 [00:30<00:00,  1.93it/s]\n",
      "Test epoch: 116: 100%|██████████| 34/34 [00:05<00:00,  6.68it/s]\n"
     ]
    },
    {
     "name": "stdout",
     "output_type": "stream",
     "text": [
      "Epoch 116/128 | Train Loss: 1.1604 | Test Loss: 0.6940 | Accuracy: 79.69% | GPU Memory (Alloc/Reserved): 0.06/1.824 GB\n"
     ]
    },
    {
     "name": "stderr",
     "output_type": "stream",
     "text": [
      "Train epoch: 117: 100%|██████████| 59/59 [00:29<00:00,  2.02it/s]\n",
      "Test epoch: 117: 100%|██████████| 34/34 [00:04<00:00,  7.05it/s]\n"
     ]
    },
    {
     "name": "stdout",
     "output_type": "stream",
     "text": [
      "Epoch 117/128 | Train Loss: 1.1687 | Test Loss: 0.6942 | Accuracy: 79.92% | GPU Memory (Alloc/Reserved): 0.06/1.824 GB\n"
     ]
    },
    {
     "name": "stderr",
     "output_type": "stream",
     "text": [
      "Train epoch: 118: 100%|██████████| 59/59 [00:29<00:00,  1.97it/s]\n",
      "Test epoch: 118: 100%|██████████| 34/34 [00:04<00:00,  7.02it/s]\n"
     ]
    },
    {
     "name": "stdout",
     "output_type": "stream",
     "text": [
      "Epoch 118/128 | Train Loss: 1.1552 | Test Loss: 0.6898 | Accuracy: 79.69% | GPU Memory (Alloc/Reserved): 0.06/1.824 GB\n"
     ]
    },
    {
     "name": "stderr",
     "output_type": "stream",
     "text": [
      "Train epoch: 119: 100%|██████████| 59/59 [00:28<00:00,  2.05it/s]\n",
      "Test epoch: 119: 100%|██████████| 34/34 [00:04<00:00,  7.03it/s]\n"
     ]
    },
    {
     "name": "stdout",
     "output_type": "stream",
     "text": [
      "Epoch 119/128 | Train Loss: 1.1607 | Test Loss: 0.6900 | Accuracy: 79.78% | GPU Memory (Alloc/Reserved): 0.06/1.824 GB\n"
     ]
    },
    {
     "name": "stderr",
     "output_type": "stream",
     "text": [
      "Train epoch: 120: 100%|██████████| 59/59 [00:31<00:00,  1.89it/s]\n",
      "Test epoch: 120: 100%|██████████| 34/34 [00:05<00:00,  6.46it/s]\n"
     ]
    },
    {
     "name": "stdout",
     "output_type": "stream",
     "text": [
      "Epoch 120/128 | Train Loss: 1.1562 | Test Loss: 0.6882 | Accuracy: 79.83% | GPU Memory (Alloc/Reserved): 0.06/1.824 GB\n"
     ]
    },
    {
     "name": "stderr",
     "output_type": "stream",
     "text": [
      "Train epoch: 121: 100%|██████████| 59/59 [00:46<00:00,  1.26it/s]\n",
      "Test epoch: 121: 100%|██████████| 34/34 [00:10<00:00,  3.25it/s]\n"
     ]
    },
    {
     "name": "stdout",
     "output_type": "stream",
     "text": [
      "Epoch 121/128 | Train Loss: 1.1697 | Test Loss: 0.6971 | Accuracy: 79.78% | GPU Memory (Alloc/Reserved): 0.06/1.824 GB\n"
     ]
    },
    {
     "name": "stderr",
     "output_type": "stream",
     "text": [
      "Train epoch: 122: 100%|██████████| 59/59 [01:20<00:00,  1.37s/it]\n",
      "Test epoch: 122: 100%|██████████| 34/34 [00:11<00:00,  3.02it/s]\n"
     ]
    },
    {
     "name": "stdout",
     "output_type": "stream",
     "text": [
      "Epoch 122/128 | Train Loss: 1.1507 | Test Loss: 0.6862 | Accuracy: 80.11% | GPU Memory (Alloc/Reserved): 0.06/1.824 GB\n"
     ]
    },
    {
     "name": "stderr",
     "output_type": "stream",
     "text": [
      "Train epoch: 123: 100%|██████████| 59/59 [01:11<00:00,  1.21s/it]\n",
      "Test epoch: 123: 100%|██████████| 34/34 [00:10<00:00,  3.32it/s]\n"
     ]
    },
    {
     "name": "stdout",
     "output_type": "stream",
     "text": [
      "Epoch 123/128 | Train Loss: 1.1590 | Test Loss: 0.6945 | Accuracy: 79.83% | GPU Memory (Alloc/Reserved): 0.06/1.824 GB\n"
     ]
    },
    {
     "name": "stderr",
     "output_type": "stream",
     "text": [
      "Train epoch: 124: 100%|██████████| 59/59 [01:03<00:00,  1.08s/it]\n",
      "Test epoch: 124: 100%|██████████| 34/34 [00:11<00:00,  3.01it/s]\n"
     ]
    },
    {
     "name": "stdout",
     "output_type": "stream",
     "text": [
      "Epoch 124/128 | Train Loss: 1.1687 | Test Loss: 0.6857 | Accuracy: 79.22% | GPU Memory (Alloc/Reserved): 0.06/1.824 GB\n"
     ]
    },
    {
     "name": "stderr",
     "output_type": "stream",
     "text": [
      "Train epoch: 125: 100%|██████████| 59/59 [01:14<00:00,  1.26s/it]\n",
      "Test epoch: 125: 100%|██████████| 34/34 [00:11<00:00,  2.95it/s]\n"
     ]
    },
    {
     "name": "stdout",
     "output_type": "stream",
     "text": [
      "Epoch 125/128 | Train Loss: 1.1605 | Test Loss: 0.6902 | Accuracy: 79.69% | GPU Memory (Alloc/Reserved): 0.06/1.824 GB\n"
     ]
    },
    {
     "name": "stderr",
     "output_type": "stream",
     "text": [
      "Train epoch: 126: 100%|██████████| 59/59 [01:12<00:00,  1.23s/it]\n",
      "Test epoch: 126: 100%|██████████| 34/34 [00:10<00:00,  3.38it/s]\n"
     ]
    },
    {
     "name": "stdout",
     "output_type": "stream",
     "text": [
      "Epoch 126/128 | Train Loss: 1.1759 | Test Loss: 0.6909 | Accuracy: 80.07% | GPU Memory (Alloc/Reserved): 0.06/1.824 GB\n"
     ]
    },
    {
     "name": "stderr",
     "output_type": "stream",
     "text": [
      "Train epoch: 127: 100%|██████████| 59/59 [01:03<00:00,  1.08s/it]\n",
      "Test epoch: 127: 100%|██████████| 34/34 [00:05<00:00,  6.48it/s]\n"
     ]
    },
    {
     "name": "stdout",
     "output_type": "stream",
     "text": [
      "Epoch 127/128 | Train Loss: 1.1579 | Test Loss: 0.6796 | Accuracy: 79.74% | GPU Memory (Alloc/Reserved): 0.06/1.824 GB\n"
     ]
    },
    {
     "name": "stderr",
     "output_type": "stream",
     "text": [
      "Train epoch: 128: 100%|██████████| 59/59 [00:28<00:00,  2.07it/s]\n",
      "Test epoch: 128: 100%|██████████| 34/34 [00:04<00:00,  6.97it/s]\n"
     ]
    },
    {
     "name": "stdout",
     "output_type": "stream",
     "text": [
      "Epoch 128/128 | Train Loss: 1.1593 | Test Loss: 0.6864 | Accuracy: 79.55% | GPU Memory (Alloc/Reserved): 0.06/1.824 GB\n",
      "Training done!\n"
     ]
    },
    {
     "data": {
      "text/plain": [
       "<Figure size 1000x600 with 1 Axes>"
      ],
      "image/png": "[encoded data removed]"
     },
     "metadata": {},
     "output_type": "display_data"
    },
    {
     "data": {
      "text/plain": [
       "<Figure size 1000x600 with 1 Axes>"
      ],
      "image/png": "[encoded data removed]"
     },
     "metadata": {},
     "output_type": "display_data"
    },
    {
     "name": "stdout",
     "output_type": "stream",
     "text": [
      "Historical data saved successfully!\n"
     ]
    }
   ],
   "execution_count": 10
  },
  {
   "metadata": {
    "ExecuteTime": {
     "end_time": "2025-08-08T14:02:53.567681Z",
     "start_time": "2025-08-08T14:02:53.561920Z"
    }
   },
   "cell_type": "code",
   "source": [
    "from PIL import Image\n",
    "import torch.nn.functional as F\n",
    "\n",
    "def predict_single_image(model, image_path, classes, transform, device):\n",
    "\n",
    "    model.to(device)\n",
    "\n",
    "    model.eval()\n",
    "\n",
    "    image = Image.open(image_path).convert('RGB')\n",
    "\n",
    "    image_np = np.array(image)\n",
    "\n",
    "    augmented = transform(image=image_np)\n",
    "\n",
    "    image_tensor = augmented['image'].unsqueeze(0).to(device)\n",
    "\n",
    "    with torch.no_grad():\n",
    "\n",
    "        result = model(image_tensor, labels=None)\n",
    "\n",
    "        probability = F.softmax(result, dim=1)\n",
    "\n",
    "        confidence, predicted = torch.max(probability, 1)\n",
    "\n",
    "        predicted_class = classes[predicted.item()]\n",
    "        confidence_score = confidence.item()\n",
    "\n",
    "    return predicted_class, confidence_score\n"
   ],
   "id": "340b828c2f1ea908",
   "outputs": [],
   "execution_count": 9
  },
  {
   "metadata": {
    "ExecuteTime": {
     "end_time": "2025-08-08T06:46:50.349051Z",
     "start_time": "2025-08-08T06:46:50.342195Z"
    }
   },
   "cell_type": "code",
   "source": [
    "import torchvision.models as models\n",
    "\n",
    "classes_names = train_set.classes\n",
    "\n",
    "model_inference = PestClassifierMobileNetV2(num_classes=len(classes_names))\n",
    "model_inference.load_state_dict(torch.load('models/SMobileNetV2_rice_pest_classification.pth', map_location=hardware))\n",
    "image_path = 'datasets/test/rice-black-bug/blackbug10_jpg.rf.e8e587b5a440ddcf4f88f88de14c4618.jpg'\n",
    "\n",
    "pest, confidence_score = predict_single_image(model=model_inference, image_path=image_path, classes=classes_names, transform=validation_pipeline, device=hardware)\n",
    "\n",
    "print(f\"The predicted pest is: {pest}\")\n",
    "print(f\"Confidence: {confidence_score * 100:.2f}%\")"
   ],
   "id": "affbac0d0a0851c8",
   "outputs": [
    {
     "name": "stdout",
     "output_type": "stream",
     "text": [
      "120\n"
     ]
    }
   ],
   "execution_count": 8
  }
 ],
 "metadata": {
  "kernelspec": {
   "display_name": "Python 3",
   "language": "python",
   "name": "python3"
  },
  "language_info": {
   "codemirror_mode": {
    "name": "ipython",
    "version": 2
   },
   "file_extension": ".py",
   "mimetype": "text/x-python",
   "name": "python",
   "nbconvert_exporter": "python",
   "pygments_lexer": "ipython2",
   "version": "2.7.6"
  }
 },
 "nbformat": 4,
 "nbformat_minor": 5
}
