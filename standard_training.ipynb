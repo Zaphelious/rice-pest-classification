{
 "cells": [
  {
   "metadata": {
    "ExecuteTime": {
     "end_time": "2025-08-22T11:37:30.174138Z",
     "start_time": "2025-08-22T11:37:28.699288Z"
    }
   },
   "cell_type": "code",
   "source": [
    "import torch\n",
    "\n",
    "print(torch.version.cuda)\n",
    "print(torch.cuda.get_device_name(0))"
   ],
   "id": "cb5a725a97da07f1",
   "outputs": [
    {
     "name": "stdout",
     "output_type": "stream",
     "text": [
      "12.8\n",
      "NVIDIA GeForce RTX 4060 Laptop GPU\n"
     ]
    }
   ],
   "execution_count": 1
  },
  {
   "metadata": {
    "ExecuteTime": {
     "end_time": "2025-08-22T11:37:30.640403Z",
     "start_time": "2025-08-22T11:37:30.634211Z"
    }
   },
   "cell_type": "code",
   "source": [
    "allocated_bytes = torch.cuda.memory_allocated('cuda')\n",
    "allocated_mb = allocated_bytes / (1024 * 1024)\n",
    "\n",
    "reserved_bytes = torch.cuda.memory_reserved('cuda')\n",
    "reserved_mb = reserved_bytes / (1024 * 1024)\n",
    "\n",
    "print(\"\\n--- VRAM USAGE REPORT ---\")\n",
    "print(f\"Memory Allocated: {allocated_mb:.2f} MB\")\n",
    "print(f\"Memory Reserved:  {reserved_mb:.2f} MB\")\n",
    "print(\"-------------------------\\n\")"
   ],
   "id": "23d50c3f254a094",
   "outputs": [
    {
     "name": "stdout",
     "output_type": "stream",
     "text": [
      "\n",
      "--- VRAM USAGE REPORT ---\n",
      "Memory Allocated: 0.00 MB\n",
      "Memory Reserved:  0.00 MB\n",
      "-------------------------\n",
      "\n"
     ]
    }
   ],
   "execution_count": 2
  },
  {
   "metadata": {
    "collapsed": true,
    "ExecuteTime": {
     "end_time": "2025-08-22T11:37:32.339066Z",
     "start_time": "2025-08-22T11:37:31.874542Z"
    }
   },
   "cell_type": "code",
   "source": [
    "import albumentations as A\n",
    "from albumentations.pytorch import ToTensorV2\n",
    "\n",
    "training_pipeline = A.Compose([\n",
    "\n",
    "    A.Resize(height=224, width=224),\n",
    "    A.RandomCrop(height=180, width=180, p=1.0),\n",
    "    A.Resize(height=224, width=224),\n",
    "    A.HorizontalFlip(p=0.5),\n",
    "    A.VerticalFlip(p=0.5),\n",
    "    A.Rotate(limit=45, p=0.4),\n",
    "\n",
    "    A.RandomBrightnessContrast(brightness_limit=(-0.3, 0.3), contrast_limit=(-0.2, 0.2), p=0.4),\n",
    "    A.ColorJitter(brightness=0.2, contrast=0.2, saturation=0.2, hue=0.2, p=0.4),\n",
    "\n",
    "    A.OneOf([\n",
    "        A.GaussNoise(std_range=(0.1, 0.2), per_channel=True, p=0.4),\n",
    "        A.RandomRain(slant_range=(-15, 15), drop_length=15, drop_width=1, rain_type=\"default\", blur_value=7, p=0.4),\n",
    "        A.CoarseDropout(num_holes_range=(1, 3), hole_height_range=(0.1, 0.25), hole_width_range=(0.1, 0.25), fill=0, p=0.4)\n",
    "    ], p=0.5),\n",
    "\n",
    "    A.Normalize(mean=(0.485, 0.456, 0.406), std=(0.229, 0.224, 0.225)),\n",
    "    ToTensorV2()\n",
    "])\n",
    "\n",
    "validation_pipeline = A.Compose([\n",
    "    A.Resize(height=224, width=224),\n",
    "    A.Normalize(mean=(0.485, 0.456, 0.406), std=(0.229, 0.224, 0.225)),\n",
    "    ToTensorV2()\n",
    "])\n",
    "\n",
    "basic_pipeline = A.Compose([\n",
    "    A.Resize(height=224, width=224),\n",
    "    A.HorizontalFlip(p=0.6),\n",
    "    A.VerticalFlip(p=0.6),\n",
    "    A.Rotate(limit=(-45,45), p=0.7),\n",
    "    A.Normalize(mean=(0.485, 0.456, 0.406), std=(0.229, 0.224, 0.225)),\n",
    "    ToTensorV2()\n",
    "])"
   ],
   "id": "initial_id",
   "outputs": [],
   "execution_count": 3
  },
  {
   "metadata": {
    "ExecuteTime": {
     "end_time": "2025-08-22T11:37:34.399829Z",
     "start_time": "2025-08-22T11:37:33.356129Z"
    }
   },
   "cell_type": "code",
   "source": [
    "import cv2\n",
    "from torchvision import datasets\n",
    "\n",
    "class CustomDataset(datasets.ImageFolder):\n",
    "\n",
    "    def __getitem__(self, index):\n",
    "\n",
    "        path, target = self.samples[index]\n",
    "\n",
    "        image = cv2.imread(path)\n",
    "        image = cv2.cvtColor(image, cv2.COLOR_BGR2RGB)\n",
    "\n",
    "        if self.transform:\n",
    "            augmented = self.transform(image=image)\n",
    "            image = augmented['image']\n",
    "\n",
    "        return image, target\n",
    "\n",
    "    def __len__(self):\n",
    "        return len(self.samples)"
   ],
   "id": "6daf511998047715",
   "outputs": [],
   "execution_count": 4
  },
  {
   "metadata": {
    "ExecuteTime": {
     "end_time": "2025-08-22T11:37:36.104378Z",
     "start_time": "2025-08-22T11:37:36.095528Z"
    }
   },
   "cell_type": "code",
   "source": [
    "import torchvision.models as models\n",
    "import torch.nn as nn\n",
    "\n",
    "class PestClassifierMobileNetV2(nn.Module):\n",
    "\n",
    "    def __init__(self, num_classes):\n",
    "        super(PestClassifierMobileNetV2, self).__init__()\n",
    "\n",
    "        # get model\n",
    "        self.base_model = models.mobilenet_v2(weights='MobileNet_V2_Weights.IMAGENET1K_V2')\n",
    "\n",
    "        # Froze feature extraction layer to retain weights.\n",
    "        for params in self.base_model.parameters():\n",
    "            params.requires_grad = False\n",
    "\n",
    "        # get number of features\n",
    "        num_filters = self.base_model.classifier[1].in_features\n",
    "\n",
    "        # Hyperparameter tuning: new layer for 6 rice pests.\n",
    "        self.base_model.classifier = nn.Sequential(\n",
    "            nn.Dropout(p=0.4, inplace=True),\n",
    "            nn.Linear(num_filters, num_classes),\n",
    "        )\n",
    "\n",
    "    # Forward propagation\n",
    "    def forward(self, x):\n",
    "\n",
    "       features = self.base_model.features(x)\n",
    "\n",
    "       features = F.adaptive_avg_pool2d(features, output_size=(1, 1)).reshape(features.shape[0], -1)\n",
    "\n",
    "       features = self.base_model.classifier(features)\n",
    "\n",
    "       return features\n",
    "\n",
    "    def unfreeze_layer(self, layer):\n",
    "\n",
    "        if not (1 <= layer <= len(self.base_model.features)):\n",
    "            print(f\"Error: Invalid layer index {layer}.\")\n",
    "            return\n",
    "\n",
    "        # Corrected print statement\n",
    "        print(f\"\\nUnfreezing feature layer at index: -{layer}\")\n",
    "\n",
    "        for param in self.base_model.features[-layer].parameters():\n",
    "            param.requires_grad = True\n"
   ],
   "id": "8172f748d43e758a",
   "outputs": [],
   "execution_count": 5
  },
  {
   "metadata": {
    "ExecuteTime": {
     "end_time": "2025-08-22T11:37:37.921596Z",
     "start_time": "2025-08-22T11:37:37.916151Z"
    }
   },
   "cell_type": "code",
   "source": [
    "class PestClassifierEfficientNetV2M(nn.Module):\n",
    "\n",
    "    def __init__(self, num_classes):\n",
    "        super(PestClassifierEfficientNetV2M, self).__init__()\n",
    "\n",
    "        self.base_model = models.efficientnet_v2_m(weights='EfficientNet_V2_M_Weights.IMAGENET1K_V1')\n",
    "\n",
    "        for params in self.base_model.parameters():\n",
    "            params.requires_grad = False\n",
    "\n",
    "        features = self.base_model.classifier[1].in_features\n",
    "\n",
    "        self.base_model.classifier = nn.Sequential(\n",
    "            nn.Dropout(p=0.5, inplace=True),\n",
    "            nn.Linear(features, num_classes),\n",
    "        )\n",
    "\n",
    "    def forward(self, x):\n",
    "\n",
    "        features = self.base_model.features(x)\n",
    "\n",
    "        features = F.adaptive_avg_pool2d(features, output_size=(1, 1)).reshape(features.shape[0], -1)\n",
    "\n",
    "        features = self.base_model.classifier(features)\n",
    "\n",
    "        return features\n",
    "\n",
    "    def unfreeze_layer(self, layer):\n",
    "\n",
    "        if not (1 <= layer <= len(self.base_model.features)):\n",
    "            print(f\"Error: Invalid layer index {layer}.\")\n",
    "            return\n",
    "\n",
    "        print(f\"\\nUnfreezing feature layer at index: -{layer}\")\n",
    "\n",
    "        for params in self.base_model.features[-layer].parameters():\n",
    "            params.requires_grad = True\n"
   ],
   "id": "2d2d688f4e97b8e2",
   "outputs": [],
   "execution_count": 7
  },
  {
   "metadata": {
    "ExecuteTime": {
     "end_time": "2025-08-22T11:37:39.811978Z",
     "start_time": "2025-08-22T11:37:39.803606Z"
    }
   },
   "cell_type": "code",
   "source": [
    "import torch\n",
    "from tqdm import tqdm\n",
    "\n",
    "def train_and_validate(model, optimizer, criterion, train_dataloader, validation_dataloader, num_epoch, device, scheduler, patience=3, min_delta=0.001):\n",
    "\n",
    "    train_losses = []\n",
    "    validation_losses = []\n",
    "    accuracies = []\n",
    "    patience_counter = 0\n",
    "    best_validation_loss=float('inf')\n",
    "    best_session_accuracy = float('inf')\n",
    "    stop_early=False\n",
    "    fully_stop = False\n",
    "\n",
    "    for epoch in range(num_epoch):\n",
    "        model.train()\n",
    "        running_train_loss = 0.0\n",
    "        train_pbar = tqdm(train_dataloader, desc=f\"Train epoch: {epoch+1}\")\n",
    "        for data, labels in train_pbar:\n",
    "            data, labels = data.to(device), labels.to(device)\n",
    "            optimizer.zero_grad()\n",
    "            output = model(data)\n",
    "            loss = criterion(output, labels)\n",
    "            loss.backward()\n",
    "            optimizer.step()\n",
    "            running_train_loss += loss.item()\n",
    "        training_loss = running_train_loss / len(train_dataloader)\n",
    "        train_losses.append(training_loss)\n",
    "\n",
    "        model.eval()\n",
    "        running_eval_loss = 0.0\n",
    "        correct_predictions = 0\n",
    "        total_samples = 0\n",
    "\n",
    "        with torch.no_grad():\n",
    "            for inputs, labels in tqdm(validation_dataloader, desc=f\"Validate Epoch {epoch+1}\"):\n",
    "                inputs, labels = inputs.to(device), labels.to(device)\n",
    "\n",
    "                logits = model(inputs)\n",
    "                loss = criterion(logits, labels)\n",
    "                running_eval_loss += loss.item()\n",
    "                _, predicted = torch.max(logits.data, 1)\n",
    "                total_samples += labels.size(0)\n",
    "                correct_predictions += (predicted == labels).sum().item()\n",
    "\n",
    "        validation_loss = running_eval_loss / len(validation_dataloader)\n",
    "        validation_losses.append(validation_loss)\n",
    "        accuracy = 100 * correct_predictions / total_samples\n",
    "        accuracies.append(accuracy)\n",
    "\n",
    "        scheduler.step(validation_loss)\n",
    "\n",
    "        current_lr = optimizer.param_groups[0]['lr']\n",
    "        epoch_summary = f'Epoch {epoch+1}/{num_epoch} |lr: {current_lr}| Train Loss: {training_loss:.4f} | Evaluate Loss: {validation_loss:.4f} | Accuracy: {accuracy:.2f}%'\n",
    "\n",
    "        if device.type == 'cuda':\n",
    "            allocated_gb = torch.cuda.memory_allocated() / (1024 ** 3)\n",
    "            reserved_gb = torch.cuda.memory_reserved() / (1024 ** 3)\n",
    "            epoch_summary += f' | GPU Memory (Alloc/Reserved): {allocated_gb:.2f}/{reserved_gb:.2f} GB'\n",
    "\n",
    "        tqdm.write(epoch_summary)\n",
    "\n",
    "        if validation_loss < best_validation_loss - min_delta:\n",
    "\n",
    "            patience_counter = 0\n",
    "            best_validation_loss = validation_loss\n",
    "            torch.save(model.state_dict(), 'models/EfficientNetV2/SEfficientNetV2-m_rice_pest_classificationV13.pt')\n",
    "        else:\n",
    "            patience_counter += 1\n",
    "            tqdm.write(f'No improvement for {patience_counter}/{patience} epochs')\n",
    "\n",
    "        if  validation_loss >= training_loss:\n",
    "            tqdm.write(f'Training stopped! Validation loss: {validation_loss:.4f} | Training loss: {training_loss:.4f}')\n",
    "            fully_stop = True\n",
    "            break\n",
    "\n",
    "        if patience_counter >= patience:\n",
    "            tqdm.write(f'Early stopping triggered after {patience_counter} epochs')\n",
    "            stop_early = True\n",
    "            break\n",
    "\n",
    "    tqdm.write('Session complete')\n",
    "\n",
    "    return {'train_loss': train_losses, 'validation_loss': validation_losses, 'accuracy': accuracies}, best_session_accuracy, stop_early, fully_stop"
   ],
   "id": "fca4e6f7abec2fbd",
   "outputs": [],
   "execution_count": 8
  },
  {
   "metadata": {},
   "cell_type": "markdown",
   "source": "<h2>  Saving and plott</h2>",
   "id": "9b5134a74e091e48"
  },
  {
   "metadata": {
    "ExecuteTime": {
     "end_time": "2025-08-22T13:28:36.576184Z",
     "start_time": "2025-08-22T13:28:36.497110Z"
    }
   },
   "cell_type": "code",
   "source": [
    "import seaborn as sns\n",
    "import matplotlib.pyplot as plt\n",
    "import pandas as pd\n",
    "import os\n",
    "\n",
    "def plot_training_result(*results):\n",
    "\n",
    "    full_training_loss = []\n",
    "    full_validation_loss = []\n",
    "\n",
    "    for result in results:\n",
    "        train_loss = result.get('train_loss', [])\n",
    "        full_training_loss.extend(train_loss)\n",
    "        full_validation_loss.extend(result.get('validation_loss', []))\n",
    "\n",
    "    total_epochs = len(full_training_loss)\n",
    "\n",
    "    if total_epochs == 0:\n",
    "        print(\"No data to plot.\")\n",
    "        return\n",
    "\n",
    "    epochs = range(1, total_epochs + 1)\n",
    "\n",
    "    data = {\n",
    "        'Epoch': epochs,\n",
    "        'Training Loss': full_training_loss,\n",
    "        'Validation Loss': full_validation_loss,\n",
    "    }\n",
    "\n",
    "    df = pd.DataFrame(data)\n",
    "\n",
    "    df_long = df.melt(id_vars=['Epoch'], var_name='Loss Type', value_name='Loss')\n",
    "\n",
    "    plt.figure(figsize=(10, 6))\n",
    "    sns.lineplot(data=df_long, x='Epoch', y='Loss', hue='Loss Type', marker='o')\n",
    "\n",
    "    plt.title('Training and Validation Loss Comparison')\n",
    "    plt.xlabel('Epoch')\n",
    "    plt.ylabel('Loss')\n",
    "    plt.legend()\n",
    "    plt.grid(True)\n",
    "    plt.show()\n",
    "\n",
    "def plot_historical_results(file_name):\n",
    "\n",
    "    data = pd.read_csv(file_name)\n",
    "\n",
    "    df = pd.DataFrame(data)\n",
    "\n",
    "    fig, axes = plt.subplots(2, 1, figsize=(10, 12))\n",
    "\n",
    "    fig.suptitle('Training and Validation Loss Comparison', fontsize=16)\n",
    "\n",
    "    historical_losses = df.melt(id_vars=['epoch'],value_vars=['train_loss', 'validation_loss'], var_name='Loss Type', value_name='Loss')\n",
    "\n",
    "    sns.lineplot(data=historical_losses, hue='Loss Type', markers='o' ,x='epoch' , y='Loss', ax=axes[0])\n",
    "\n",
    "    axes[0].set_title('Training and Validation Loss Comparison')\n",
    "    axes[0].set_xlabel('Epoch')\n",
    "    axes[0].set_ylabel('Loss')\n",
    "    axes[0].grid(True)\n",
    "    axes[0].legend()\n",
    "\n",
    "    sns.lineplot(data=df, x='epoch', y='accuracy', color='g', markers='o', ax=axes[1])\n",
    "    axes[1].set_title('Accuracy')\n",
    "    axes[1].set_xlabel('Epoch')\n",
    "    axes[1].set_ylabel('Accuracy')\n",
    "    axes[1].grid(True)\n",
    "\n",
    "    plt.tight_layout(rect=(0, 0.03, 1, 0.95))\n",
    "\n",
    "    plt.show()\n",
    "\n",
    "def plot_accuracy(*results):\n",
    "\n",
    "    full_accuracy = []\n",
    "\n",
    "    for res in results:\n",
    "        accuracy = res.get('accuracy', [])\n",
    "        full_accuracy.extend(accuracy)\n",
    "\n",
    "    total_epochs = len(full_accuracy)\n",
    "\n",
    "    if total_epochs == 0:\n",
    "        print(\"No accuracy data to plot.\")\n",
    "        return\n",
    "\n",
    "    epochs = range(1, total_epochs + 1)\n",
    "\n",
    "    plt.figure(figsize=(10, 6))\n",
    "\n",
    "    plt.plot(epochs, full_accuracy, label='Accuracy', marker='o', color='g')\n",
    "\n",
    "    plt.title('Accuracy Evaluation')\n",
    "    plt.xlabel('Epoch')\n",
    "    plt.ylabel('Accuracy (%)')\n",
    "    plt.legend()\n",
    "    plt.grid(True)\n",
    "    plt.show()\n",
    "\n",
    "def save_historical_data(history, filename='training_results\\EfficientNetV2\\SEfficientNetV2-m_rice_pest_classificationV13.csv'):\n",
    "\n",
    "    training_loss = history.get('train_loss', [])\n",
    "    test_loss = history.get('validation_loss', [])\n",
    "    accuracy = history.get('accuracy', [])\n",
    "\n",
    "    data_dict = pd.DataFrame({\n",
    "        'train_loss': training_loss,\n",
    "        'validation_loss': test_loss,\n",
    "        'accuracy': accuracy,\n",
    "    })\n",
    "\n",
    "    if os.path.exists(filename):\n",
    "        print(\"historical data exists! Appending new data.\")\n",
    "        old_data = pd.read_csv(filename)\n",
    "        combined_data = pd.concat([old_data, data_dict], ignore_index=True)\n",
    "\n",
    "    else:\n",
    "        print(\"Creating new historical data...\")\n",
    "        combined_data = data_dict\n",
    "\n",
    "    combined_data['epoch'] = range(1, len(combined_data) + 1)\n",
    "\n",
    "    combined_data = combined_data[['epoch', 'train_loss', 'validation_loss', 'accuracy']]\n",
    "\n",
    "    combined_data.to_csv(filename, index=False)\n",
    "\n",
    "    print(\"Historical data saved successfully!\")\n",
    "\n"
   ],
   "id": "74773810c269080d",
   "outputs": [],
   "execution_count": 19
  },
  {
   "metadata": {
    "ExecuteTime": {
     "end_time": "2025-08-22T11:37:44.450757Z",
     "start_time": "2025-08-22T11:37:44.116198Z"
    }
   },
   "cell_type": "code",
   "source": [
    "from torch.utils.data import DataLoader\n",
    "\n",
    "train_set = CustomDataset(root='datasets/train', transform=training_pipeline)\n",
    "train_loader = DataLoader(train_set, batch_size=128, shuffle=True)\n",
    "validation_set = CustomDataset(root='datasets/test', transform=validation_pipeline)\n",
    "validation_loader = DataLoader(validation_set, batch_size=64, shuffle=True)\n",
    "test_set = CustomDataset(root='datasets/val', transform=validation_pipeline)\n",
    "test_loader = DataLoader(test_set, batch_size=32, shuffle=True)\n",
    "\n",
    "classes = train_set.classes"
   ],
   "id": "4fd20dd312f838ff",
   "outputs": [],
   "execution_count": 11
  },
  {
   "metadata": {
    "ExecuteTime": {
     "end_time": "2025-08-22T11:37:46.834431Z",
     "start_time": "2025-08-22T11:37:46.827431Z"
    }
   },
   "cell_type": "code",
   "source": [
    "from torch.optim import lr_scheduler\n",
    "\n",
    "def incremental_training(model, sessions, criterion, train_dataloader, validation_dataloader, device):\n",
    "\n",
    "    full_history = []\n",
    "    best_overall_accuracy = 0.0\n",
    "\n",
    "    for i, session in enumerate(sessions):\n",
    "        print(f\"\\n--- Starting Training Session {i+1}/{len(sessions)} ---\")\n",
    "\n",
    "        epochs = session['epochs']\n",
    "        lr = session['lr']\n",
    "        layer_to_unfreeze = session.get('unfreeze_layer', 0)\n",
    "\n",
    "        if layer_to_unfreeze > 0:\n",
    "            model.unfreeze_layer(layer_to_unfreeze)\n",
    "\n",
    "        optimizer = optim.AdamW(filter(lambda p: p.requires_grad, model.parameters()), lr=lr, weight_decay=1e-2)\n",
    "        scheduler = lr_scheduler.ReduceLROnPlateau(optimizer=optimizer, factor=0.5, mode='min', patience=2, min_lr=1e-7)\n",
    "\n",
    "        session_history, session_best_accuracy, stop_early, full_stop = train_and_validate(\n",
    "            model, optimizer, criterion, train_dataloader, validation_dataloader,\n",
    "            epochs, device, scheduler\n",
    "        )\n",
    "\n",
    "        full_history.append(session_history)\n",
    "        save_historical_data(session_history)\n",
    "\n",
    "        if session_best_accuracy > best_overall_accuracy:\n",
    "            best_overall_accuracy = session_best_accuracy\n",
    "\n",
    "        if full_stop:\n",
    "            print(\"Full stop triggered! possible overfitting in further sessions.\")\n",
    "            break\n",
    "\n",
    "        if stop_early:\n",
    "            print(\"Early stopping triggered. Moving to next session or finishing training.\")\n",
    "\n",
    "    print(f\"\\n--- Incremental training finished. Best overall accuracy: {best_overall_accuracy:.2f}% ---\")\n",
    "    return full_history\n"
   ],
   "id": "1467cef09840c64b",
   "outputs": [],
   "execution_count": 13
  },
  {
   "metadata": {
    "ExecuteTime": {
     "end_time": "2025-08-22T13:25:58.302435Z",
     "start_time": "2025-08-22T11:39:08.283028Z"
    }
   },
   "cell_type": "code",
   "source": [
    "import torch.optim as optim\n",
    "\n",
    "hardware = torch.device('cuda' if  torch.cuda.is_available() else 'cpu')\n",
    "classes = 6\n",
    "learning_rate = 1e-3\n",
    "weight_decay = 1e-2\n",
    "criterion = nn.CrossEntropyLoss()\n",
    "\n",
    "model = PestClassifierEfficientNetV2M(num_classes=classes).to(hardware)\n",
    "\n",
    "training_sessions = [\n",
    "\n",
    "    {'epochs': 20, 'lr': 5e-4, 'unfreeze_layer': 0},\n",
    "\n",
    "    {'epochs': 30, 'lr': 1e-4, 'unfreeze_layer': 1},\n",
    "\n",
    "    {'epochs': 40, 'lr': 5e-5, 'unfreeze_layer': 2},\n",
    "\n",
    "    {'epochs': 50, 'lr': 1e-5, 'unfreeze_layer': 3},\n",
    "\n",
    "]\n",
    "\n",
    "result, accuracies = incremental_training(model=model, sessions=training_sessions, criterion=criterion, train_dataloader=train_loader, validation_dataloader=validation_loader, device=hardware)\n",
    "\n",
    "plot_training_result(*result)\n",
    "plot_accuracy(*result)"
   ],
   "id": "fd1ee3a6a8b445e1",
   "outputs": [
    {
     "name": "stdout",
     "output_type": "stream",
     "text": [
      "\n",
      "--- Starting Training Session 1/4 ---\n"
     ]
    },
    {
     "name": "stderr",
     "output_type": "stream",
     "text": [
      "Train epoch: 1: 100%|██████████| 59/59 [00:56<00:00,  1.05it/s]\n",
      "Validate Epoch 1: 100%|██████████| 34/34 [00:11<00:00,  3.03it/s]\n"
     ]
    },
    {
     "name": "stdout",
     "output_type": "stream",
     "text": [
      "Epoch 1/20 |lr: 0.0005| Train Loss: 1.5051 | Evaluate Loss: 1.1779 | Accuracy: 64.12% | GPU Memory (Alloc/Reserved): 0.45/1.75 GB\n"
     ]
    },
    {
     "name": "stderr",
     "output_type": "stream",
     "text": [
      "Train epoch: 2: 100%|██████████| 59/59 [00:43<00:00,  1.36it/s]\n",
      "Validate Epoch 2: 100%|██████████| 34/34 [00:10<00:00,  3.34it/s]\n"
     ]
    },
    {
     "name": "stdout",
     "output_type": "stream",
     "text": [
      "Epoch 2/20 |lr: 0.0005| Train Loss: 1.2325 | Evaluate Loss: 0.9796 | Accuracy: 69.37% | GPU Memory (Alloc/Reserved): 0.45/1.75 GB\n"
     ]
    },
    {
     "name": "stderr",
     "output_type": "stream",
     "text": [
      "Train epoch: 3: 100%|██████████| 59/59 [00:43<00:00,  1.35it/s]\n",
      "Validate Epoch 3: 100%|██████████| 34/34 [00:10<00:00,  3.37it/s]\n"
     ]
    },
    {
     "name": "stdout",
     "output_type": "stream",
     "text": [
      "Epoch 3/20 |lr: 0.0005| Train Loss: 1.1271 | Evaluate Loss: 0.8786 | Accuracy: 71.90% | GPU Memory (Alloc/Reserved): 0.45/1.75 GB\n"
     ]
    },
    {
     "name": "stderr",
     "output_type": "stream",
     "text": [
      "Train epoch: 4: 100%|██████████| 59/59 [00:43<00:00,  1.35it/s]\n",
      "Validate Epoch 4: 100%|██████████| 34/34 [00:10<00:00,  3.34it/s]\n"
     ]
    },
    {
     "name": "stdout",
     "output_type": "stream",
     "text": [
      "Epoch 4/20 |lr: 0.0005| Train Loss: 1.0471 | Evaluate Loss: 0.8158 | Accuracy: 73.36% | GPU Memory (Alloc/Reserved): 0.45/1.75 GB\n"
     ]
    },
    {
     "name": "stderr",
     "output_type": "stream",
     "text": [
      "Train epoch: 5: 100%|██████████| 59/59 [00:43<00:00,  1.35it/s]\n",
      "Validate Epoch 5: 100%|██████████| 34/34 [00:10<00:00,  3.31it/s]\n"
     ]
    },
    {
     "name": "stdout",
     "output_type": "stream",
     "text": [
      "Epoch 5/20 |lr: 0.0005| Train Loss: 1.0061 | Evaluate Loss: 0.7668 | Accuracy: 75.23% | GPU Memory (Alloc/Reserved): 0.45/1.75 GB\n"
     ]
    },
    {
     "name": "stderr",
     "output_type": "stream",
     "text": [
      "Train epoch: 6: 100%|██████████| 59/59 [00:44<00:00,  1.33it/s]\n",
      "Validate Epoch 6: 100%|██████████| 34/34 [00:10<00:00,  3.33it/s]\n"
     ]
    },
    {
     "name": "stdout",
     "output_type": "stream",
     "text": [
      "Epoch 6/20 |lr: 0.0005| Train Loss: 0.9746 | Evaluate Loss: 0.7409 | Accuracy: 74.62% | GPU Memory (Alloc/Reserved): 0.45/1.75 GB\n"
     ]
    },
    {
     "name": "stderr",
     "output_type": "stream",
     "text": [
      "Train epoch: 7: 100%|██████████| 59/59 [00:43<00:00,  1.34it/s]\n",
      "Validate Epoch 7: 100%|██████████| 34/34 [00:10<00:00,  3.30it/s]\n"
     ]
    },
    {
     "name": "stdout",
     "output_type": "stream",
     "text": [
      "Epoch 7/20 |lr: 0.0005| Train Loss: 0.9524 | Evaluate Loss: 0.7157 | Accuracy: 75.66% | GPU Memory (Alloc/Reserved): 0.45/1.75 GB\n"
     ]
    },
    {
     "name": "stderr",
     "output_type": "stream",
     "text": [
      "Train epoch: 8: 100%|██████████| 59/59 [00:44<00:00,  1.34it/s]\n",
      "Validate Epoch 8: 100%|██████████| 34/34 [00:10<00:00,  3.31it/s]\n"
     ]
    },
    {
     "name": "stdout",
     "output_type": "stream",
     "text": [
      "Epoch 8/20 |lr: 0.0005| Train Loss: 0.9367 | Evaluate Loss: 0.6903 | Accuracy: 76.55% | GPU Memory (Alloc/Reserved): 0.45/1.75 GB\n"
     ]
    },
    {
     "name": "stderr",
     "output_type": "stream",
     "text": [
      "Train epoch: 9: 100%|██████████| 59/59 [00:44<00:00,  1.33it/s]\n",
      "Validate Epoch 9: 100%|██████████| 34/34 [00:10<00:00,  3.31it/s]\n"
     ]
    },
    {
     "name": "stdout",
     "output_type": "stream",
     "text": [
      "Epoch 9/20 |lr: 0.0005| Train Loss: 0.9280 | Evaluate Loss: 0.6833 | Accuracy: 76.41% | GPU Memory (Alloc/Reserved): 0.45/1.75 GB\n"
     ]
    },
    {
     "name": "stderr",
     "output_type": "stream",
     "text": [
      "Train epoch: 10: 100%|██████████| 59/59 [00:44<00:00,  1.34it/s]\n",
      "Validate Epoch 10: 100%|██████████| 34/34 [00:10<00:00,  3.32it/s]\n"
     ]
    },
    {
     "name": "stdout",
     "output_type": "stream",
     "text": [
      "Epoch 10/20 |lr: 0.0005| Train Loss: 0.9239 | Evaluate Loss: 0.6665 | Accuracy: 76.69% | GPU Memory (Alloc/Reserved): 0.45/1.75 GB\n"
     ]
    },
    {
     "name": "stderr",
     "output_type": "stream",
     "text": [
      "Train epoch: 11: 100%|██████████| 59/59 [00:44<00:00,  1.33it/s]\n",
      "Validate Epoch 11: 100%|██████████| 34/34 [00:10<00:00,  3.32it/s]\n"
     ]
    },
    {
     "name": "stdout",
     "output_type": "stream",
     "text": [
      "Epoch 11/20 |lr: 0.0005| Train Loss: 0.9157 | Evaluate Loss: 0.6567 | Accuracy: 77.16% | GPU Memory (Alloc/Reserved): 0.45/1.75 GB\n"
     ]
    },
    {
     "name": "stderr",
     "output_type": "stream",
     "text": [
      "Train epoch: 12: 100%|██████████| 59/59 [00:44<00:00,  1.33it/s]\n",
      "Validate Epoch 12: 100%|██████████| 34/34 [00:10<00:00,  3.30it/s]\n"
     ]
    },
    {
     "name": "stdout",
     "output_type": "stream",
     "text": [
      "Epoch 12/20 |lr: 0.0005| Train Loss: 0.8950 | Evaluate Loss: 0.6419 | Accuracy: 77.49% | GPU Memory (Alloc/Reserved): 0.45/1.75 GB\n"
     ]
    },
    {
     "name": "stderr",
     "output_type": "stream",
     "text": [
      "Train epoch: 13: 100%|██████████| 59/59 [00:44<00:00,  1.33it/s]\n",
      "Validate Epoch 13: 100%|██████████| 34/34 [00:10<00:00,  3.30it/s]\n"
     ]
    },
    {
     "name": "stdout",
     "output_type": "stream",
     "text": [
      "Epoch 13/20 |lr: 0.0005| Train Loss: 0.8982 | Evaluate Loss: 0.6478 | Accuracy: 77.16% | GPU Memory (Alloc/Reserved): 0.45/1.75 GB\n",
      "No improvement for 1/3 epochs\n"
     ]
    },
    {
     "name": "stderr",
     "output_type": "stream",
     "text": [
      "Train epoch: 14: 100%|██████████| 59/59 [00:44<00:00,  1.34it/s]\n",
      "Validate Epoch 14: 100%|██████████| 34/34 [00:10<00:00,  3.28it/s]\n"
     ]
    },
    {
     "name": "stdout",
     "output_type": "stream",
     "text": [
      "Epoch 14/20 |lr: 0.0005| Train Loss: 0.8945 | Evaluate Loss: 0.6380 | Accuracy: 77.91% | GPU Memory (Alloc/Reserved): 0.45/1.75 GB\n"
     ]
    },
    {
     "name": "stderr",
     "output_type": "stream",
     "text": [
      "Train epoch: 15: 100%|██████████| 59/59 [00:43<00:00,  1.35it/s]\n",
      "Validate Epoch 15: 100%|██████████| 34/34 [00:10<00:00,  3.32it/s]\n"
     ]
    },
    {
     "name": "stdout",
     "output_type": "stream",
     "text": [
      "Epoch 15/20 |lr: 0.0005| Train Loss: 0.8697 | Evaluate Loss: 0.6196 | Accuracy: 78.71% | GPU Memory (Alloc/Reserved): 0.45/1.75 GB\n"
     ]
    },
    {
     "name": "stderr",
     "output_type": "stream",
     "text": [
      "Train epoch: 16: 100%|██████████| 59/59 [00:44<00:00,  1.33it/s]\n",
      "Validate Epoch 16: 100%|██████████| 34/34 [00:10<00:00,  3.30it/s]\n"
     ]
    },
    {
     "name": "stdout",
     "output_type": "stream",
     "text": [
      "Epoch 16/20 |lr: 0.0005| Train Loss: 0.8838 | Evaluate Loss: 0.6150 | Accuracy: 78.52% | GPU Memory (Alloc/Reserved): 0.45/1.75 GB\n"
     ]
    },
    {
     "name": "stderr",
     "output_type": "stream",
     "text": [
      "Train epoch: 17: 100%|██████████| 59/59 [00:44<00:00,  1.34it/s]\n",
      "Validate Epoch 17: 100%|██████████| 34/34 [00:10<00:00,  3.29it/s]\n"
     ]
    },
    {
     "name": "stdout",
     "output_type": "stream",
     "text": [
      "Epoch 17/20 |lr: 0.0005| Train Loss: 0.8783 | Evaluate Loss: 0.6084 | Accuracy: 78.85% | GPU Memory (Alloc/Reserved): 0.45/1.75 GB\n"
     ]
    },
    {
     "name": "stderr",
     "output_type": "stream",
     "text": [
      "Train epoch: 18: 100%|██████████| 59/59 [00:44<00:00,  1.33it/s]\n",
      "Validate Epoch 18: 100%|██████████| 34/34 [00:10<00:00,  3.30it/s]\n"
     ]
    },
    {
     "name": "stdout",
     "output_type": "stream",
     "text": [
      "Epoch 18/20 |lr: 0.0005| Train Loss: 0.8717 | Evaluate Loss: 0.6074 | Accuracy: 78.85% | GPU Memory (Alloc/Reserved): 0.45/1.75 GB\n"
     ]
    },
    {
     "name": "stderr",
     "output_type": "stream",
     "text": [
      "Train epoch: 19: 100%|██████████| 59/59 [00:44<00:00,  1.33it/s]\n",
      "Validate Epoch 19: 100%|██████████| 34/34 [00:10<00:00,  3.33it/s]\n"
     ]
    },
    {
     "name": "stdout",
     "output_type": "stream",
     "text": [
      "Epoch 19/20 |lr: 0.0005| Train Loss: 0.8753 | Evaluate Loss: 0.5974 | Accuracy: 78.89% | GPU Memory (Alloc/Reserved): 0.45/1.75 GB\n"
     ]
    },
    {
     "name": "stderr",
     "output_type": "stream",
     "text": [
      "Train epoch: 20: 100%|██████████| 59/59 [00:43<00:00,  1.34it/s]\n",
      "Validate Epoch 20: 100%|██████████| 34/34 [00:10<00:00,  3.31it/s]\n"
     ]
    },
    {
     "name": "stdout",
     "output_type": "stream",
     "text": [
      "Epoch 20/20 |lr: 0.0005| Train Loss: 0.8664 | Evaluate Loss: 0.6014 | Accuracy: 79.27% | GPU Memory (Alloc/Reserved): 0.45/1.75 GB\n",
      "No improvement for 1/3 epochs\n",
      "Session complete\n",
      "Creating new historical data...\n",
      "Historical data saved successfully!\n",
      "\n",
      "--- Starting Training Session 2/4 ---\n",
      "\n",
      "Unfreezing feature layer at index: -1\n"
     ]
    },
    {
     "name": "stderr",
     "output_type": "stream",
     "text": [
      "Train epoch: 1: 100%|██████████| 59/59 [00:44<00:00,  1.33it/s]\n",
      "Validate Epoch 1: 100%|██████████| 34/34 [00:10<00:00,  3.35it/s]\n"
     ]
    },
    {
     "name": "stdout",
     "output_type": "stream",
     "text": [
      "Epoch 1/30 |lr: 0.0001| Train Loss: 0.8425 | Evaluate Loss: 0.5578 | Accuracy: 80.11% | GPU Memory (Alloc/Reserved): 0.46/1.75 GB\n"
     ]
    },
    {
     "name": "stderr",
     "output_type": "stream",
     "text": [
      "Train epoch: 2: 100%|██████████| 59/59 [00:44<00:00,  1.33it/s]\n",
      "Validate Epoch 2: 100%|██████████| 34/34 [00:10<00:00,  3.30it/s]\n"
     ]
    },
    {
     "name": "stdout",
     "output_type": "stream",
     "text": [
      "Epoch 2/30 |lr: 0.0001| Train Loss: 0.8168 | Evaluate Loss: 0.5559 | Accuracy: 80.16% | GPU Memory (Alloc/Reserved): 0.46/1.75 GB\n"
     ]
    },
    {
     "name": "stderr",
     "output_type": "stream",
     "text": [
      "Train epoch: 3: 100%|██████████| 59/59 [00:44<00:00,  1.34it/s]\n",
      "Validate Epoch 3: 100%|██████████| 34/34 [00:10<00:00,  3.32it/s]\n"
     ]
    },
    {
     "name": "stdout",
     "output_type": "stream",
     "text": [
      "Epoch 3/30 |lr: 0.0001| Train Loss: 0.7802 | Evaluate Loss: 0.5267 | Accuracy: 81.19% | GPU Memory (Alloc/Reserved): 0.46/1.75 GB\n"
     ]
    },
    {
     "name": "stderr",
     "output_type": "stream",
     "text": [
      "Train epoch: 4: 100%|██████████| 59/59 [00:44<00:00,  1.33it/s]\n",
      "Validate Epoch 4: 100%|██████████| 34/34 [00:10<00:00,  3.35it/s]\n"
     ]
    },
    {
     "name": "stdout",
     "output_type": "stream",
     "text": [
      "Epoch 4/30 |lr: 0.0001| Train Loss: 0.7727 | Evaluate Loss: 0.4984 | Accuracy: 82.18% | GPU Memory (Alloc/Reserved): 0.46/1.75 GB\n"
     ]
    },
    {
     "name": "stderr",
     "output_type": "stream",
     "text": [
      "Train epoch: 5: 100%|██████████| 59/59 [00:44<00:00,  1.34it/s]\n",
      "Validate Epoch 5: 100%|██████████| 34/34 [00:10<00:00,  3.34it/s]\n"
     ]
    },
    {
     "name": "stdout",
     "output_type": "stream",
     "text": [
      "Epoch 5/30 |lr: 0.0001| Train Loss: 0.7466 | Evaluate Loss: 0.4918 | Accuracy: 82.69% | GPU Memory (Alloc/Reserved): 0.46/1.75 GB\n"
     ]
    },
    {
     "name": "stderr",
     "output_type": "stream",
     "text": [
      "Train epoch: 6: 100%|██████████| 59/59 [00:45<00:00,  1.30it/s]\n",
      "Validate Epoch 6: 100%|██████████| 34/34 [00:12<00:00,  2.72it/s]\n"
     ]
    },
    {
     "name": "stdout",
     "output_type": "stream",
     "text": [
      "Epoch 6/30 |lr: 0.0001| Train Loss: 0.7203 | Evaluate Loss: 0.4864 | Accuracy: 82.83% | GPU Memory (Alloc/Reserved): 0.46/1.75 GB\n"
     ]
    },
    {
     "name": "stderr",
     "output_type": "stream",
     "text": [
      "Train epoch: 7: 100%|██████████| 59/59 [00:54<00:00,  1.09it/s]\n",
      "Validate Epoch 7: 100%|██████████| 34/34 [00:10<00:00,  3.29it/s]\n"
     ]
    },
    {
     "name": "stdout",
     "output_type": "stream",
     "text": [
      "Epoch 7/30 |lr: 0.0001| Train Loss: 0.7260 | Evaluate Loss: 0.4803 | Accuracy: 83.07% | GPU Memory (Alloc/Reserved): 0.46/1.75 GB\n"
     ]
    },
    {
     "name": "stderr",
     "output_type": "stream",
     "text": [
      "Train epoch: 8: 100%|██████████| 59/59 [00:43<00:00,  1.37it/s]\n",
      "Validate Epoch 8: 100%|██████████| 34/34 [00:09<00:00,  3.40it/s]\n"
     ]
    },
    {
     "name": "stdout",
     "output_type": "stream",
     "text": [
      "Epoch 8/30 |lr: 0.0001| Train Loss: 0.7160 | Evaluate Loss: 0.4558 | Accuracy: 84.15% | GPU Memory (Alloc/Reserved): 0.46/1.75 GB\n"
     ]
    },
    {
     "name": "stderr",
     "output_type": "stream",
     "text": [
      "Train epoch: 9: 100%|██████████| 59/59 [00:43<00:00,  1.36it/s]\n",
      "Validate Epoch 9: 100%|██████████| 34/34 [00:10<00:00,  3.39it/s]\n"
     ]
    },
    {
     "name": "stdout",
     "output_type": "stream",
     "text": [
      "Epoch 9/30 |lr: 0.0001| Train Loss: 0.7129 | Evaluate Loss: 0.4540 | Accuracy: 84.01% | GPU Memory (Alloc/Reserved): 0.46/1.75 GB\n"
     ]
    },
    {
     "name": "stderr",
     "output_type": "stream",
     "text": [
      "Train epoch: 10: 100%|██████████| 59/59 [00:43<00:00,  1.36it/s]\n",
      "Validate Epoch 10: 100%|██████████| 34/34 [00:10<00:00,  3.40it/s]\n"
     ]
    },
    {
     "name": "stdout",
     "output_type": "stream",
     "text": [
      "Epoch 10/30 |lr: 0.0001| Train Loss: 0.6978 | Evaluate Loss: 0.4436 | Accuracy: 84.10% | GPU Memory (Alloc/Reserved): 0.46/1.75 GB\n"
     ]
    },
    {
     "name": "stderr",
     "output_type": "stream",
     "text": [
      "Train epoch: 11: 100%|██████████| 59/59 [00:43<00:00,  1.37it/s]\n",
      "Validate Epoch 11: 100%|██████████| 34/34 [00:10<00:00,  3.39it/s]\n"
     ]
    },
    {
     "name": "stdout",
     "output_type": "stream",
     "text": [
      "Epoch 11/30 |lr: 0.0001| Train Loss: 0.6811 | Evaluate Loss: 0.4430 | Accuracy: 84.43% | GPU Memory (Alloc/Reserved): 0.46/1.75 GB\n",
      "No improvement for 1/3 epochs\n"
     ]
    },
    {
     "name": "stderr",
     "output_type": "stream",
     "text": [
      "Train epoch: 12: 100%|██████████| 59/59 [00:43<00:00,  1.34it/s]\n",
      "Validate Epoch 12: 100%|██████████| 34/34 [00:10<00:00,  3.32it/s]\n"
     ]
    },
    {
     "name": "stdout",
     "output_type": "stream",
     "text": [
      "Epoch 12/30 |lr: 0.0001| Train Loss: 0.6810 | Evaluate Loss: 0.4388 | Accuracy: 84.85% | GPU Memory (Alloc/Reserved): 0.46/1.75 GB\n"
     ]
    },
    {
     "name": "stderr",
     "output_type": "stream",
     "text": [
      "Train epoch: 13: 100%|██████████| 59/59 [00:44<00:00,  1.34it/s]\n",
      "Validate Epoch 13: 100%|██████████| 34/34 [00:10<00:00,  3.36it/s]\n"
     ]
    },
    {
     "name": "stdout",
     "output_type": "stream",
     "text": [
      "Epoch 13/30 |lr: 0.0001| Train Loss: 0.6710 | Evaluate Loss: 0.4370 | Accuracy: 84.62% | GPU Memory (Alloc/Reserved): 0.46/1.75 GB\n"
     ]
    },
    {
     "name": "stderr",
     "output_type": "stream",
     "text": [
      "Train epoch: 14: 100%|██████████| 59/59 [00:44<00:00,  1.34it/s]\n",
      "Validate Epoch 14: 100%|██████████| 34/34 [00:10<00:00,  3.32it/s]\n"
     ]
    },
    {
     "name": "stdout",
     "output_type": "stream",
     "text": [
      "Epoch 14/30 |lr: 0.0001| Train Loss: 0.6491 | Evaluate Loss: 0.4240 | Accuracy: 85.18% | GPU Memory (Alloc/Reserved): 0.46/1.75 GB\n"
     ]
    },
    {
     "name": "stderr",
     "output_type": "stream",
     "text": [
      "Train epoch: 15: 100%|██████████| 59/59 [00:44<00:00,  1.33it/s]\n",
      "Validate Epoch 15: 100%|██████████| 34/34 [00:10<00:00,  3.32it/s]\n"
     ]
    },
    {
     "name": "stdout",
     "output_type": "stream",
     "text": [
      "Epoch 15/30 |lr: 0.0001| Train Loss: 0.6690 | Evaluate Loss: 0.4262 | Accuracy: 85.18% | GPU Memory (Alloc/Reserved): 0.46/1.75 GB\n",
      "No improvement for 1/3 epochs\n"
     ]
    },
    {
     "name": "stderr",
     "output_type": "stream",
     "text": [
      "Train epoch: 16: 100%|██████████| 59/59 [00:44<00:00,  1.34it/s]\n",
      "Validate Epoch 16: 100%|██████████| 34/34 [00:10<00:00,  3.33it/s]\n"
     ]
    },
    {
     "name": "stdout",
     "output_type": "stream",
     "text": [
      "Epoch 16/30 |lr: 0.0001| Train Loss: 0.6645 | Evaluate Loss: 0.4220 | Accuracy: 85.37% | GPU Memory (Alloc/Reserved): 0.46/1.75 GB\n"
     ]
    },
    {
     "name": "stderr",
     "output_type": "stream",
     "text": [
      "Train epoch: 17: 100%|██████████| 59/59 [00:43<00:00,  1.34it/s]\n",
      "Validate Epoch 17: 100%|██████████| 34/34 [00:10<00:00,  3.35it/s]\n"
     ]
    },
    {
     "name": "stdout",
     "output_type": "stream",
     "text": [
      "Epoch 17/30 |lr: 0.0001| Train Loss: 0.6484 | Evaluate Loss: 0.4175 | Accuracy: 85.83% | GPU Memory (Alloc/Reserved): 0.46/1.75 GB\n"
     ]
    },
    {
     "name": "stderr",
     "output_type": "stream",
     "text": [
      "Train epoch: 18: 100%|██████████| 59/59 [00:44<00:00,  1.33it/s]\n",
      "Validate Epoch 18: 100%|██████████| 34/34 [00:10<00:00,  3.37it/s]\n"
     ]
    },
    {
     "name": "stdout",
     "output_type": "stream",
     "text": [
      "Epoch 18/30 |lr: 0.0001| Train Loss: 0.6617 | Evaluate Loss: 0.4090 | Accuracy: 86.02% | GPU Memory (Alloc/Reserved): 0.46/1.75 GB\n"
     ]
    },
    {
     "name": "stderr",
     "output_type": "stream",
     "text": [
      "Train epoch: 19: 100%|██████████| 59/59 [00:44<00:00,  1.33it/s]\n",
      "Validate Epoch 19: 100%|██████████| 34/34 [00:10<00:00,  3.32it/s]\n"
     ]
    },
    {
     "name": "stdout",
     "output_type": "stream",
     "text": [
      "Epoch 19/30 |lr: 0.0001| Train Loss: 0.6253 | Evaluate Loss: 0.4049 | Accuracy: 86.07% | GPU Memory (Alloc/Reserved): 0.46/1.75 GB\n"
     ]
    },
    {
     "name": "stderr",
     "output_type": "stream",
     "text": [
      "Train epoch: 20: 100%|██████████| 59/59 [00:43<00:00,  1.34it/s]\n",
      "Validate Epoch 20: 100%|██████████| 34/34 [00:09<00:00,  3.41it/s]\n"
     ]
    },
    {
     "name": "stdout",
     "output_type": "stream",
     "text": [
      "Epoch 20/30 |lr: 0.0001| Train Loss: 0.6187 | Evaluate Loss: 0.4018 | Accuracy: 86.49% | GPU Memory (Alloc/Reserved): 0.46/1.75 GB\n"
     ]
    },
    {
     "name": "stderr",
     "output_type": "stream",
     "text": [
      "Train epoch: 21: 100%|██████████| 59/59 [00:43<00:00,  1.37it/s]\n",
      "Validate Epoch 21: 100%|██████████| 34/34 [00:10<00:00,  3.39it/s]\n"
     ]
    },
    {
     "name": "stdout",
     "output_type": "stream",
     "text": [
      "Epoch 21/30 |lr: 0.0001| Train Loss: 0.6232 | Evaluate Loss: 0.3979 | Accuracy: 86.68% | GPU Memory (Alloc/Reserved): 0.46/1.75 GB\n"
     ]
    },
    {
     "name": "stderr",
     "output_type": "stream",
     "text": [
      "Train epoch: 22: 100%|██████████| 59/59 [00:43<00:00,  1.36it/s]\n",
      "Validate Epoch 22: 100%|██████████| 34/34 [00:10<00:00,  3.40it/s]\n"
     ]
    },
    {
     "name": "stdout",
     "output_type": "stream",
     "text": [
      "Epoch 22/30 |lr: 0.0001| Train Loss: 0.6174 | Evaluate Loss: 0.3885 | Accuracy: 86.87% | GPU Memory (Alloc/Reserved): 0.46/1.75 GB\n"
     ]
    },
    {
     "name": "stderr",
     "output_type": "stream",
     "text": [
      "Train epoch: 23: 100%|██████████| 59/59 [00:43<00:00,  1.36it/s]\n",
      "Validate Epoch 23: 100%|██████████| 34/34 [00:10<00:00,  3.37it/s]\n"
     ]
    },
    {
     "name": "stdout",
     "output_type": "stream",
     "text": [
      "Epoch 23/30 |lr: 0.0001| Train Loss: 0.6155 | Evaluate Loss: 0.3946 | Accuracy: 86.77% | GPU Memory (Alloc/Reserved): 0.46/1.75 GB\n",
      "No improvement for 1/3 epochs\n"
     ]
    },
    {
     "name": "stderr",
     "output_type": "stream",
     "text": [
      "Train epoch: 24: 100%|██████████| 59/59 [00:43<00:00,  1.35it/s]\n",
      "Validate Epoch 24: 100%|██████████| 34/34 [00:09<00:00,  3.41it/s]\n"
     ]
    },
    {
     "name": "stdout",
     "output_type": "stream",
     "text": [
      "Epoch 24/30 |lr: 0.0001| Train Loss: 0.6216 | Evaluate Loss: 0.3859 | Accuracy: 87.20% | GPU Memory (Alloc/Reserved): 0.46/1.75 GB\n"
     ]
    },
    {
     "name": "stderr",
     "output_type": "stream",
     "text": [
      "Train epoch: 25: 100%|██████████| 59/59 [00:44<00:00,  1.34it/s]\n",
      "Validate Epoch 25: 100%|██████████| 34/34 [00:10<00:00,  3.36it/s]\n"
     ]
    },
    {
     "name": "stdout",
     "output_type": "stream",
     "text": [
      "Epoch 25/30 |lr: 0.0001| Train Loss: 0.6033 | Evaluate Loss: 0.3840 | Accuracy: 87.57% | GPU Memory (Alloc/Reserved): 0.46/1.75 GB\n"
     ]
    },
    {
     "name": "stderr",
     "output_type": "stream",
     "text": [
      "Train epoch: 26: 100%|██████████| 59/59 [00:43<00:00,  1.34it/s]\n",
      "Validate Epoch 26: 100%|██████████| 34/34 [00:10<00:00,  3.33it/s]\n"
     ]
    },
    {
     "name": "stdout",
     "output_type": "stream",
     "text": [
      "Epoch 26/30 |lr: 0.0001| Train Loss: 0.6058 | Evaluate Loss: 0.3774 | Accuracy: 87.48% | GPU Memory (Alloc/Reserved): 0.46/1.75 GB\n"
     ]
    },
    {
     "name": "stderr",
     "output_type": "stream",
     "text": [
      "Train epoch: 27: 100%|██████████| 59/59 [00:43<00:00,  1.34it/s]\n",
      "Validate Epoch 27: 100%|██████████| 34/34 [00:10<00:00,  3.35it/s]\n"
     ]
    },
    {
     "name": "stdout",
     "output_type": "stream",
     "text": [
      "Epoch 27/30 |lr: 0.0001| Train Loss: 0.6116 | Evaluate Loss: 0.3744 | Accuracy: 87.62% | GPU Memory (Alloc/Reserved): 0.46/1.75 GB\n"
     ]
    },
    {
     "name": "stderr",
     "output_type": "stream",
     "text": [
      "Train epoch: 28: 100%|██████████| 59/59 [00:44<00:00,  1.34it/s]\n",
      "Validate Epoch 28: 100%|██████████| 34/34 [00:10<00:00,  3.33it/s]\n"
     ]
    },
    {
     "name": "stdout",
     "output_type": "stream",
     "text": [
      "Epoch 28/30 |lr: 0.0001| Train Loss: 0.5921 | Evaluate Loss: 0.3764 | Accuracy: 87.38% | GPU Memory (Alloc/Reserved): 0.46/1.75 GB\n",
      "No improvement for 1/3 epochs\n"
     ]
    },
    {
     "name": "stderr",
     "output_type": "stream",
     "text": [
      "Train epoch: 29: 100%|██████████| 59/59 [00:44<00:00,  1.33it/s]\n",
      "Validate Epoch 29: 100%|██████████| 34/34 [00:10<00:00,  3.39it/s]\n"
     ]
    },
    {
     "name": "stdout",
     "output_type": "stream",
     "text": [
      "Epoch 29/30 |lr: 0.0001| Train Loss: 0.6016 | Evaluate Loss: 0.3652 | Accuracy: 87.57% | GPU Memory (Alloc/Reserved): 0.46/1.75 GB\n"
     ]
    },
    {
     "name": "stderr",
     "output_type": "stream",
     "text": [
      "Train epoch: 30: 100%|██████████| 59/59 [00:43<00:00,  1.36it/s]\n",
      "Validate Epoch 30: 100%|██████████| 34/34 [00:10<00:00,  3.40it/s]\n"
     ]
    },
    {
     "name": "stdout",
     "output_type": "stream",
     "text": [
      "Epoch 30/30 |lr: 0.0001| Train Loss: 0.5948 | Evaluate Loss: 0.3736 | Accuracy: 87.38% | GPU Memory (Alloc/Reserved): 0.46/1.75 GB\n",
      "No improvement for 1/3 epochs\n",
      "Session complete\n",
      "historical data exists! Appending new data.\n",
      "Historical data saved successfully!\n",
      "\n",
      "--- Starting Training Session 3/4 ---\n",
      "\n",
      "Unfreezing feature layer at index: -2\n"
     ]
    },
    {
     "name": "stderr",
     "output_type": "stream",
     "text": [
      "Train epoch: 1: 100%|██████████| 59/59 [00:56<00:00,  1.04it/s]\n",
      "Validate Epoch 1: 100%|██████████| 34/34 [00:10<00:00,  3.29it/s]\n"
     ]
    },
    {
     "name": "stdout",
     "output_type": "stream",
     "text": [
      "Epoch 1/40 |lr: 5e-05| Train Loss: 0.5316 | Evaluate Loss: 0.3003 | Accuracy: 90.10% | GPU Memory (Alloc/Reserved): 0.66/3.87 GB\n"
     ]
    },
    {
     "name": "stderr",
     "output_type": "stream",
     "text": [
      "Train epoch: 2: 100%|██████████| 59/59 [01:10<00:00,  1.19s/it]\n",
      "Validate Epoch 2: 100%|██████████| 34/34 [00:15<00:00,  2.25it/s]\n"
     ]
    },
    {
     "name": "stdout",
     "output_type": "stream",
     "text": [
      "Epoch 2/40 |lr: 5e-05| Train Loss: 0.4290 | Evaluate Loss: 0.2569 | Accuracy: 91.14% | GPU Memory (Alloc/Reserved): 0.66/3.87 GB\n"
     ]
    },
    {
     "name": "stderr",
     "output_type": "stream",
     "text": [
      "Train epoch: 3: 100%|██████████| 59/59 [01:22<00:00,  1.40s/it]\n",
      "Validate Epoch 3: 100%|██████████| 34/34 [00:13<00:00,  2.44it/s]\n"
     ]
    },
    {
     "name": "stdout",
     "output_type": "stream",
     "text": [
      "Epoch 3/40 |lr: 5e-05| Train Loss: 0.3809 | Evaluate Loss: 0.2640 | Accuracy: 92.03% | GPU Memory (Alloc/Reserved): 0.66/3.87 GB\n",
      "No improvement for 1/3 epochs\n"
     ]
    },
    {
     "name": "stderr",
     "output_type": "stream",
     "text": [
      "Train epoch: 4: 100%|██████████| 59/59 [01:15<00:00,  1.29s/it]\n",
      "Validate Epoch 4: 100%|██████████| 34/34 [00:10<00:00,  3.38it/s]\n"
     ]
    },
    {
     "name": "stdout",
     "output_type": "stream",
     "text": [
      "Epoch 4/40 |lr: 5e-05| Train Loss: 0.3559 | Evaluate Loss: 0.2166 | Accuracy: 92.45% | GPU Memory (Alloc/Reserved): 0.66/3.87 GB\n"
     ]
    },
    {
     "name": "stderr",
     "output_type": "stream",
     "text": [
      "Train epoch: 5: 100%|██████████| 59/59 [00:51<00:00,  1.14it/s]\n",
      "Validate Epoch 5: 100%|██████████| 34/34 [00:10<00:00,  3.20it/s]\n"
     ]
    },
    {
     "name": "stdout",
     "output_type": "stream",
     "text": [
      "Epoch 5/40 |lr: 5e-05| Train Loss: 0.3235 | Evaluate Loss: 0.2048 | Accuracy: 93.53% | GPU Memory (Alloc/Reserved): 0.66/3.87 GB\n"
     ]
    },
    {
     "name": "stderr",
     "output_type": "stream",
     "text": [
      "Train epoch: 6: 100%|██████████| 59/59 [00:51<00:00,  1.15it/s]\n",
      "Validate Epoch 6: 100%|██████████| 34/34 [00:10<00:00,  3.40it/s]\n"
     ]
    },
    {
     "name": "stdout",
     "output_type": "stream",
     "text": [
      "Epoch 6/40 |lr: 5e-05| Train Loss: 0.2953 | Evaluate Loss: 0.1997 | Accuracy: 93.53% | GPU Memory (Alloc/Reserved): 0.66/3.87 GB\n"
     ]
    },
    {
     "name": "stderr",
     "output_type": "stream",
     "text": [
      "Train epoch: 7: 100%|██████████| 59/59 [00:51<00:00,  1.15it/s]\n",
      "Validate Epoch 7: 100%|██████████| 34/34 [00:09<00:00,  3.44it/s]\n"
     ]
    },
    {
     "name": "stdout",
     "output_type": "stream",
     "text": [
      "Epoch 7/40 |lr: 5e-05| Train Loss: 0.2718 | Evaluate Loss: 0.2068 | Accuracy: 93.48% | GPU Memory (Alloc/Reserved): 0.66/3.87 GB\n",
      "No improvement for 1/3 epochs\n"
     ]
    },
    {
     "name": "stderr",
     "output_type": "stream",
     "text": [
      "Train epoch: 8: 100%|██████████| 59/59 [00:51<00:00,  1.14it/s]\n",
      "Validate Epoch 8: 100%|██████████| 34/34 [00:10<00:00,  3.36it/s]\n"
     ]
    },
    {
     "name": "stdout",
     "output_type": "stream",
     "text": [
      "Epoch 8/40 |lr: 5e-05| Train Loss: 0.2600 | Evaluate Loss: 0.1789 | Accuracy: 94.23% | GPU Memory (Alloc/Reserved): 0.66/3.87 GB\n"
     ]
    },
    {
     "name": "stderr",
     "output_type": "stream",
     "text": [
      "Train epoch: 9: 100%|██████████| 59/59 [00:50<00:00,  1.16it/s]\n",
      "Validate Epoch 9: 100%|██████████| 34/34 [00:10<00:00,  3.38it/s]\n"
     ]
    },
    {
     "name": "stdout",
     "output_type": "stream",
     "text": [
      "Epoch 9/40 |lr: 5e-05| Train Loss: 0.2432 | Evaluate Loss: 0.1824 | Accuracy: 94.51% | GPU Memory (Alloc/Reserved): 0.66/3.87 GB\n",
      "No improvement for 1/3 epochs\n"
     ]
    },
    {
     "name": "stderr",
     "output_type": "stream",
     "text": [
      "Train epoch: 10: 100%|██████████| 59/59 [00:50<00:00,  1.17it/s]\n",
      "Validate Epoch 10: 100%|██████████| 34/34 [00:10<00:00,  3.18it/s]\n"
     ]
    },
    {
     "name": "stdout",
     "output_type": "stream",
     "text": [
      "Epoch 10/40 |lr: 5e-05| Train Loss: 0.2344 | Evaluate Loss: 0.1921 | Accuracy: 94.28% | GPU Memory (Alloc/Reserved): 0.66/3.87 GB\n",
      "No improvement for 2/3 epochs\n"
     ]
    },
    {
     "name": "stderr",
     "output_type": "stream",
     "text": [
      "Train epoch: 11: 100%|██████████| 59/59 [00:56<00:00,  1.04it/s]\n",
      "Validate Epoch 11: 100%|██████████| 34/34 [00:11<00:00,  3.02it/s]\n"
     ]
    },
    {
     "name": "stdout",
     "output_type": "stream",
     "text": [
      "Epoch 11/40 |lr: 5e-05| Train Loss: 0.2277 | Evaluate Loss: 0.1758 | Accuracy: 94.84% | GPU Memory (Alloc/Reserved): 0.66/3.87 GB\n"
     ]
    },
    {
     "name": "stderr",
     "output_type": "stream",
     "text": [
      "Train epoch: 12: 100%|██████████| 59/59 [00:55<00:00,  1.07it/s]\n",
      "Validate Epoch 12: 100%|██████████| 34/34 [00:10<00:00,  3.24it/s]\n"
     ]
    },
    {
     "name": "stdout",
     "output_type": "stream",
     "text": [
      "Epoch 12/40 |lr: 5e-05| Train Loss: 0.2178 | Evaluate Loss: 0.1742 | Accuracy: 94.84% | GPU Memory (Alloc/Reserved): 0.66/3.87 GB\n"
     ]
    },
    {
     "name": "stderr",
     "output_type": "stream",
     "text": [
      "Train epoch: 13: 100%|██████████| 59/59 [00:51<00:00,  1.15it/s]\n",
      "Validate Epoch 13: 100%|██████████| 34/34 [00:10<00:00,  3.31it/s]\n"
     ]
    },
    {
     "name": "stdout",
     "output_type": "stream",
     "text": [
      "Epoch 13/40 |lr: 5e-05| Train Loss: 0.2023 | Evaluate Loss: 0.1658 | Accuracy: 95.17% | GPU Memory (Alloc/Reserved): 0.66/3.87 GB\n"
     ]
    },
    {
     "name": "stderr",
     "output_type": "stream",
     "text": [
      "Train epoch: 14: 100%|██████████| 59/59 [00:51<00:00,  1.14it/s]\n",
      "Validate Epoch 14: 100%|██████████| 34/34 [00:10<00:00,  3.34it/s]\n"
     ]
    },
    {
     "name": "stdout",
     "output_type": "stream",
     "text": [
      "Epoch 14/40 |lr: 5e-05| Train Loss: 0.1969 | Evaluate Loss: 0.1743 | Accuracy: 94.79% | GPU Memory (Alloc/Reserved): 0.66/3.87 GB\n",
      "No improvement for 1/3 epochs\n"
     ]
    },
    {
     "name": "stderr",
     "output_type": "stream",
     "text": [
      "Train epoch: 15: 100%|██████████| 59/59 [00:51<00:00,  1.15it/s]\n",
      "Validate Epoch 15: 100%|██████████| 34/34 [00:10<00:00,  3.32it/s]\n"
     ]
    },
    {
     "name": "stdout",
     "output_type": "stream",
     "text": [
      "Epoch 15/40 |lr: 5e-05| Train Loss: 0.1832 | Evaluate Loss: 0.1767 | Accuracy: 94.79% | GPU Memory (Alloc/Reserved): 0.66/3.87 GB\n",
      "No improvement for 2/3 epochs\n"
     ]
    },
    {
     "name": "stderr",
     "output_type": "stream",
     "text": [
      "Train epoch: 16: 100%|██████████| 59/59 [00:52<00:00,  1.12it/s]\n",
      "Validate Epoch 16: 100%|██████████| 34/34 [00:10<00:00,  3.32it/s]\n"
     ]
    },
    {
     "name": "stdout",
     "output_type": "stream",
     "text": [
      "Epoch 16/40 |lr: 2.5e-05| Train Loss: 0.1894 | Evaluate Loss: 0.1778 | Accuracy: 95.17% | GPU Memory (Alloc/Reserved): 0.66/3.87 GB\n",
      "No improvement for 3/3 epochs\n",
      "Early stopping triggered after 3 epochs\n",
      "Session complete\n",
      "historical data exists! Appending new data.\n",
      "Historical data saved successfully!\n",
      "Early stopping triggered. Moving to next session or finishing training.\n",
      "\n",
      "--- Starting Training Session 4/4 ---\n",
      "\n",
      "Unfreezing feature layer at index: -3\n"
     ]
    },
    {
     "name": "stderr",
     "output_type": "stream",
     "text": [
      "Train epoch: 1: 100%|██████████| 59/59 [07:24<00:00,  7.54s/it]\n",
      "Validate Epoch 1: 100%|██████████| 34/34 [00:11<00:00,  2.92it/s]\n"
     ]
    },
    {
     "name": "stdout",
     "output_type": "stream",
     "text": [
      "Epoch 1/50 |lr: 1e-05| Train Loss: 0.1751 | Evaluate Loss: 0.1767 | Accuracy: 95.12% | GPU Memory (Alloc/Reserved): 0.96/10.44 GB\n",
      "Training stopped! Validation loss: 0.1767 | Training loss: 0.1751\n"
     ]
    },
    {
     "name": "stderr",
     "output_type": "stream",
     "text": [
      "Train epoch: 2: 100%|██████████| 59/59 [07:28<00:00,  7.59s/it]\n",
      "Validate Epoch 2: 100%|██████████| 34/34 [00:12<00:00,  2.71it/s]\n"
     ]
    },
    {
     "name": "stdout",
     "output_type": "stream",
     "text": [
      "Epoch 2/50 |lr: 1e-05| Train Loss: 0.1515 | Evaluate Loss: 0.1706 | Accuracy: 95.26% | GPU Memory (Alloc/Reserved): 0.96/10.44 GB\n",
      "Training stopped! Validation loss: 0.1706 | Training loss: 0.1515\n"
     ]
    },
    {
     "name": "stderr",
     "output_type": "stream",
     "text": [
      "Train epoch: 3: 100%|██████████| 59/59 [08:17<00:00,  8.43s/it]\n",
      "Validate Epoch 3: 100%|██████████| 34/34 [00:16<00:00,  2.04it/s]\n"
     ]
    },
    {
     "name": "stdout",
     "output_type": "stream",
     "text": [
      "Epoch 3/50 |lr: 1e-05| Train Loss: 0.1518 | Evaluate Loss: 0.1793 | Accuracy: 95.17% | GPU Memory (Alloc/Reserved): 0.95/10.44 GB\n",
      "No improvement for 1/3 epochs\n",
      "Training stopped! Validation loss: 0.1793 | Training loss: 0.1518\n"
     ]
    },
    {
     "name": "stderr",
     "output_type": "stream",
     "text": [
      "Train epoch: 4: 100%|██████████| 59/59 [09:29<00:00,  9.65s/it]\n",
      "Validate Epoch 4: 100%|██████████| 34/34 [00:21<00:00,  1.57it/s]\n"
     ]
    },
    {
     "name": "stdout",
     "output_type": "stream",
     "text": [
      "Epoch 4/50 |lr: 1e-05| Train Loss: 0.1516 | Evaluate Loss: 0.1715 | Accuracy: 95.40% | GPU Memory (Alloc/Reserved): 0.95/10.44 GB\n",
      "No improvement for 2/3 epochs\n",
      "Training stopped! Validation loss: 0.1715 | Training loss: 0.1516\n"
     ]
    },
    {
     "name": "stderr",
     "output_type": "stream",
     "text": [
      "Train epoch: 5: 100%|██████████| 59/59 [08:46<00:00,  8.92s/it]\n",
      "Validate Epoch 5: 100%|██████████| 34/34 [00:17<00:00,  1.95it/s]\n"
     ]
    },
    {
     "name": "stdout",
     "output_type": "stream",
     "text": [
      "Epoch 5/50 |lr: 5e-06| Train Loss: 0.1356 | Evaluate Loss: 0.1746 | Accuracy: 95.17% | GPU Memory (Alloc/Reserved): 0.95/10.44 GB\n",
      "No improvement for 3/3 epochs\n",
      "Training stopped! Validation loss: 0.1746 | Training loss: 0.1356\n",
      "Early stopping triggered after 3 epochs\n",
      "Session complete\n",
      "historical data exists! Appending new data.\n",
      "Historical data saved successfully!\n",
      "Full stop triggered! possible overfitting in further sessions.\n",
      "\n",
      "--- Incremental training finished. Best overall accuracy: inf% ---\n"
     ]
    },
    {
     "ename": "ValueError",
     "evalue": "too many values to unpack (expected 2)",
     "output_type": "error",
     "traceback": [
      "\u001B[31m---------------------------------------------------------------------------\u001B[39m",
      "\u001B[31mValueError\u001B[39m                                Traceback (most recent call last)",
      "\u001B[36mCell\u001B[39m\u001B[36m \u001B[39m\u001B[32mIn[18]\u001B[39m\u001B[32m, line 23\u001B[39m\n\u001B[32m      9\u001B[39m model = PestClassifierEfficientNetV2M(num_classes=classes).to(hardware)\n\u001B[32m     11\u001B[39m training_sessions = [\n\u001B[32m     12\u001B[39m \n\u001B[32m     13\u001B[39m     {\u001B[33m'\u001B[39m\u001B[33mepochs\u001B[39m\u001B[33m'\u001B[39m: \u001B[32m20\u001B[39m, \u001B[33m'\u001B[39m\u001B[33mlr\u001B[39m\u001B[33m'\u001B[39m: \u001B[32m5e-4\u001B[39m, \u001B[33m'\u001B[39m\u001B[33munfreeze_layer\u001B[39m\u001B[33m'\u001B[39m: \u001B[32m0\u001B[39m},\n\u001B[32m   (...)\u001B[39m\u001B[32m     20\u001B[39m \n\u001B[32m     21\u001B[39m ]\n\u001B[32m---> \u001B[39m\u001B[32m23\u001B[39m result, accuracies = incremental_training(model=model, sessions=training_sessions, criterion=criterion, train_dataloader=train_loader, validation_dataloader=validation_loader, device=hardware)\n\u001B[32m     25\u001B[39m plot_training_result(*result)\n\u001B[32m     26\u001B[39m plot_accuracy(*result)\n",
      "\u001B[31mValueError\u001B[39m: too many values to unpack (expected 2)"
     ]
    }
   ],
   "execution_count": 18
  },
  {
   "metadata": {
    "ExecuteTime": {
     "end_time": "2025-08-22T13:29:13.989625Z",
     "start_time": "2025-08-22T13:29:13.059797Z"
    }
   },
   "cell_type": "code",
   "source": "plot_historical_results('training_results\\EfficientNetV2\\SEfficientNetV2-m_rice_pest_classificationV13.csv')",
   "id": "cbe84fc81ca83737",
   "outputs": [
    {
     "data": {
      "text/plain": [
       "<Figure size 1000x1200 with 2 Axes>"
      ],
      "image/png": "[encoded data removed]"
     },
     "metadata": {},
     "output_type": "display_data"
    }
   ],
   "execution_count": 20
  },
  {
   "metadata": {},
   "cell_type": "code",
   "source": [
    "import torch.optim as optim\n",
    "\n",
    "hardware = torch.device('cuda' if  torch.cuda.is_available() else 'cpu')\n",
    "classes = 6\n",
    "criterion = nn.CrossEntropyLoss()\n",
    "\n",
    "model = PestClassifierMobileNetV2(num_classes=classes).to(hardware)\n",
    "\n",
    "training_sessions = [\n",
    "\n",
    "    {'epochs': 15, 'lr': 5e-4, 'unfreeze_layer': 0},\n",
    "\n",
    "    {'epochs': 25, 'lr': 1e-4, 'unfreeze_layer': 1},\n",
    "\n",
    "    {'epochs': 35, 'lr': 5e-5, 'unfreeze_layer': 2},\n",
    "\n",
    "    {'epochs': 45, 'lr': 1e-5, 'unfreeze_layer': 3},\n",
    "\n",
    "    {'epochs': 55, 'lr': 5e-6, 'unfreeze_layer': 4},\n",
    "\n",
    "    {'epochs': 65, 'lr': 1e-6, 'unfreeze_layer': 5},\n",
    "\n",
    "    {'epochs': 75, 'lr': 5e-7, 'unfreeze_layer': 6}\n",
    "\n",
    "]\n",
    "\n",
    "result, accuracies = incremental_training(model=model, sessions=training_sessions, criterion=criterion, train_dataloader=train_loader, validation_dataloader=validation_loader, device=hardware)\n",
    "\n",
    "plot_training_result(*result)\n",
    "plot_accuracy(*result)"
   ],
   "id": "36f273afec54bdf9",
   "outputs": [],
   "execution_count": null
  },
  {
   "metadata": {},
   "cell_type": "code",
   "source": [
    "# mobilenet_v2 = models.mobilenet_v2(weights='MobileNet_V2_Weights.IMAGENET1K_V2')\n",
    "#\n",
    "# for num in range(len(mobilenet_v2.features) - 1, -1, -1):\n",
    "#     print(num)\n",
    "\n",
    "my_array = [1, 2, 3, 4, 5]\n",
    "\n",
    "# print(my_array[-5])\n",
    "\n",
    "for num in range(1, my_array.__len__() + 1):\n",
    "    print(num)"
   ],
   "id": "f0d4ce6fa4b92ee4",
   "outputs": [],
   "execution_count": null
  },
  {
   "metadata": {
    "ExecuteTime": {
     "end_time": "2025-08-22T11:37:57.911231Z",
     "start_time": "2025-08-22T11:37:57.905323Z"
    }
   },
   "cell_type": "code",
   "source": [
    "from PIL import Image\n",
    "import numpy as np\n",
    "import torch.nn.functional as F\n",
    "\n",
    "def predict_single_image(model, image_path, classes, transform, device):\n",
    "\n",
    "    model.to(device)\n",
    "\n",
    "    model.eval()\n",
    "\n",
    "    image = Image.open(image_path).convert('RGB')\n",
    "\n",
    "    image_np = np.array(image)\n",
    "\n",
    "    augmented = transform(image=image_np)\n",
    "\n",
    "    image_tensor = augmented['image'].unsqueeze(0).to(device)\n",
    "\n",
    "    with torch.no_grad():\n",
    "        result = model(image_tensor)\n",
    "\n",
    "        probabilities = F.softmax(result, dim=1)\n",
    "\n",
    "        confidence, predicted_index = torch.max(probabilities, 1)\n",
    "        predicted_class = classes[predicted_index.item()]\n",
    "        confidence_score = confidence.item()\n",
    "\n",
    "    return predicted_class, confidence_score, probabilities.squeeze().cpu().numpy()\n"
   ],
   "id": "340b828c2f1ea908",
   "outputs": [],
   "execution_count": 14
  },
  {
   "metadata": {
    "ExecuteTime": {
     "end_time": "2025-08-22T11:37:59.397764Z",
     "start_time": "2025-08-22T11:37:59.171254Z"
    }
   },
   "cell_type": "code",
   "source": [
    "from sklearn.metrics import classification_report, confusion_matrix, accuracy_score\n",
    "import numpy as np\n",
    "\n",
    "def eval_metrics(model, testLoader, classes_names, device):\n",
    "\n",
    "    model.to(device)\n",
    "    model.eval()\n",
    "\n",
    "    total_predictions = []\n",
    "    true_labels = []\n",
    "\n",
    "    with torch.no_grad():\n",
    "\n",
    "        for input, labels in tqdm(testLoader):\n",
    "            input, labels = input.to(device), labels.to(device)\n",
    "\n",
    "            output = model(input)\n",
    "            _, predicted = torch.max(output, 1)\n",
    "\n",
    "            total_predictions.extend(predicted.cpu().numpy())\n",
    "            true_labels.extend(labels.cpu().numpy())\n",
    "\n",
    "\n",
    "    y_true = np.array(true_labels)\n",
    "    y_pred = np.array(total_predictions)\n",
    "\n",
    "    print('Classification Report')\n",
    "    report = classification_report(y_true, y_pred, target_names=classes_names)\n",
    "\n",
    "    print(report)\n",
    "\n",
    "    print(f\"Accuracy: {accuracy_score(y_true, y_pred)*100:.2f}%\\n\")\n",
    "\n",
    "    print('Confusion Matrix')\n",
    "\n",
    "    matrix = confusion_matrix(y_true, y_pred)\n",
    "\n",
    "    cm_df = pd.DataFrame(matrix, index=classes_names, columns=classes_names)\n",
    "\n",
    "    plt.figure(figsize=(10, 8))\n",
    "    sns.heatmap(cm_df, annot=True, fmt='g', cmap='Blues')\n",
    "    plt.title('Confusion Matrix (standard)')\n",
    "    plt.ylabel('Actual pests')\n",
    "    plt.xlabel('Predicted pests')\n",
    "    plt.show()\n",
    "\n",
    "    return y_true, y_pred\n",
    "\n",
    "def save_evalution_result(total_predictions, true_labels):\n",
    "\n",
    "    data = pd.DataFrame({\n",
    "        'True Labels': true_labels,\n",
    "        'Predicted Labels': total_predictions\n",
    "    })\n",
    "\n",
    "    data.to_csv('evalution_result.csv', index=False)\n"
   ],
   "id": "3fb753e351ad7371",
   "outputs": [],
   "execution_count": 15
  },
  {
   "metadata": {},
   "cell_type": "code",
   "source": [
    "import torchvision.models as models\n",
    "\n",
    "classes_names = train_set.classes\n",
    "hardware = torch.device('cuda' if   torch.cuda.is_available() else 'cpu')\n",
    "model_inference = PestClassifierMobileNetV2(num_classes=len(classes_names))\n",
    "model_inference.load_state_dict(torch.load(\n",
    "    'models/MobileNetV2/v2/Basic/SMobileNetV2_rice_pest_classificationV14.pt', map_location=hardware))\n",
    "\n",
    "image_path = 'datasets/val/brown-planthopper/7 (758).jpg'\n",
    "unrelated = 'unrelated_data/eagle.jpg'\n",
    "\n",
    "pest, confidence_score, over_all_scores = predict_single_image(model=model_inference, image_path=image_path, classes=classes_names, transform=validation_pipeline, device=hardware)\n",
    "\n",
    "print(f\"The predicted pest is: {pest}\")\n",
    "print(f\"Confidence: {confidence_score * 100:.2f}%\")\n",
    "print(f\"Overall score: {over_all_scores}\")\n",
    "#\n",
    "# true, pred = eval_metrics(model_inference, test_loader, classes_names, hardware)"
   ],
   "id": "affbac0d0a0851c8",
   "outputs": [],
   "execution_count": null
  },
  {
   "metadata": {
    "ExecuteTime": {
     "end_time": "2025-08-22T11:38:45.916325Z",
     "start_time": "2025-08-22T11:38:38.737868Z"
    }
   },
   "cell_type": "code",
   "source": [
    "import torchvision.models as models\n",
    "\n",
    "classes_names = train_set.classes\n",
    "hardware = torch.device('cuda' if   torch.cuda.is_available() else 'cpu')\n",
    "model_inference = PestClassifierEfficientNetV2M(num_classes=len(classes_names))\n",
    "model_inference.load_state_dict(torch.load('models/EfficientNetV2/SEfficientNetV2-m_rice_pest_classificationV12.pt', map_location=hardware))\n",
    "image_path = 'datasets/val/brown-planthopper/7 (758).jpg'\n",
    "unrelated = 'unrelated_data/imagesz.jpg'\n",
    "\n",
    "pest, confidence_score, over_all_scores = predict_single_image(model=model_inference, image_path=unrelated, classes=classes_names, transform=validation_pipeline, device=hardware)\n",
    "\n",
    "print(f\"The predicted pest is: {pest}\")\n",
    "print(f\"Confidence: {confidence_score * 100:.2f}%\")\n",
    "print(f\"Overall score: {over_all_scores}\")\n",
    "\n",
    "true, pred = eval_metrics(model_inference, test_loader, classes_names, hardware)"
   ],
   "id": "71eb9ff1094cad55",
   "outputs": [
    {
     "name": "stdout",
     "output_type": "stream",
     "text": [
      "The predicted pest is: green-leafhopper\n",
      "Confidence: 96.54%\n",
      "Overall score: [2.8930137e-02 9.6535772e-01 2.4244012e-04 1.4524395e-03 3.8111259e-03\n",
      " 2.0627611e-04]\n"
     ]
    },
    {
     "name": "stderr",
     "output_type": "stream",
     "text": [
      "100%|██████████| 34/34 [00:05<00:00,  5.93it/s]\n"
     ]
    },
    {
     "name": "stdout",
     "output_type": "stream",
     "text": [
      "Classification Report\n",
      "                   precision    recall  f1-score   support\n",
      "\n",
      "brown-planthopper       0.95      0.92      0.94       246\n",
      " green-leafhopper       0.93      0.93      0.93       215\n",
      "   rice-black-bug       0.94      1.00      0.97        16\n",
      " rice-leaf-folder       0.96      0.99      0.97       275\n",
      "       stem-borer       0.98      0.97      0.98       197\n",
      "     whorl-maggot       0.96      0.97      0.96       125\n",
      "\n",
      "         accuracy                           0.96      1074\n",
      "        macro avg       0.95      0.96      0.96      1074\n",
      "     weighted avg       0.96      0.96      0.96      1074\n",
      "\n",
      "Accuracy: 95.53%\n",
      "\n",
      "Confusion Matrix\n"
     ]
    },
    {
     "data": {
      "text/plain": [
       "<Figure size 1000x800 with 2 Axes>"
      ],
      "image/png": "[encoded data removed]"
     },
     "metadata": {},
     "output_type": "display_data"
    }
   ],
   "execution_count": 17
  }
 ],
 "metadata": {
  "kernelspec": {
   "display_name": "Python 3",
   "language": "python",
   "name": "python3"
  },
  "language_info": {
   "codemirror_mode": {
    "name": "ipython",
    "version": 2
   },
   "file_extension": ".py",
   "mimetype": "text/x-python",
   "name": "python",
   "nbconvert_exporter": "python",
   "pygments_lexer": "ipython2",
   "version": "2.7.6"
  }
 },
 "nbformat": 4,
 "nbformat_minor": 5
}
