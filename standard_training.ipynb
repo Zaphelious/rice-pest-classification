{
 "cells": [
  {
   "metadata": {
    "ExecuteTime": {
     "end_time": "2025-08-14T03:58:41.795694Z",
     "start_time": "2025-08-14T03:58:41.792864Z"
    }
   },
   "cell_type": "code",
   "source": [
    "import torch\n",
    "\n",
    "print(torch.version.cuda)\n",
    "print(torch.cuda.get_device_name(0))"
   ],
   "id": "cb5a725a97da07f1",
   "outputs": [
    {
     "name": "stdout",
     "output_type": "stream",
     "text": [
      "12.8\n",
      "NVIDIA GeForce RTX 4060 Laptop GPU\n"
     ]
    }
   ],
   "execution_count": 17
  },
  {
   "metadata": {
    "ExecuteTime": {
     "end_time": "2025-08-14T14:34:04.510321Z",
     "start_time": "2025-08-14T14:34:04.465813Z"
    }
   },
   "cell_type": "code",
   "source": [
    "allocated_bytes = torch.cuda.memory_allocated('cuda')\n",
    "allocated_mb = allocated_bytes / (1024 * 1024)\n",
    "\n",
    "reserved_bytes = torch.cuda.memory_reserved('cuda')\n",
    "reserved_mb = reserved_bytes / (1024 * 1024)\n",
    "\n",
    "print(\"\\n--- VRAM USAGE REPORT ---\")\n",
    "print(f\"Memory Allocated: {allocated_mb:.2f} MB\")\n",
    "print(f\"Memory Reserved:  {reserved_mb:.2f} MB\")\n",
    "print(\"-------------------------\\n\")\n",
    "#"
   ],
   "id": "23d50c3f254a094",
   "outputs": [
    {
     "name": "stdout",
     "output_type": "stream",
     "text": [
      "\n",
      "--- VRAM USAGE REPORT ---\n",
      "Memory Allocated: 0.00 MB\n",
      "Memory Reserved:  0.00 MB\n",
      "-------------------------\n",
      "\n"
     ]
    }
   ],
   "execution_count": 267
  },
  {
   "metadata": {
    "collapsed": true,
    "ExecuteTime": {
     "end_time": "2025-08-14T14:35:20.397989Z",
     "start_time": "2025-08-14T14:35:20.284013Z"
    }
   },
   "cell_type": "code",
   "source": [
    "import albumentations as A\n",
    "from albumentations.pytorch import ToTensorV2\n",
    "\n",
    "training_pipeline = A.Compose([\n",
    "\n",
    "    A.Resize(height=224, width=224),\n",
    "    A.RandomCrop(height=180, width=180, p=1.0),\n",
    "    A.Resize(height=224, width=224),\n",
    "    A.HorizontalFlip(p=0.5),\n",
    "    A.VerticalFlip(p=0.5),\n",
    "    A.Rotate(limit=45, p=0.4),\n",
    "\n",
    "    A.RandomBrightnessContrast(brightness_limit=(-0.3, 0.3), contrast_limit=(-0.2, 0.2), p=0.3),\n",
    "    A.ColorJitter(brightness=0.2, contrast=0.2, saturation=0.2, hue=0.2, p=0.3),\n",
    "\n",
    "    A.OneOf([\n",
    "        A.GaussNoise(std_range=(0.1, 0.2), per_channel=True, p=0.3),\n",
    "        A.RandomRain(slant_range=(-15, 15), drop_length=15, drop_width=1, rain_type=\"default\", blur_value=7, p=0.3),\n",
    "        A.CoarseDropout(num_holes_range=(1, 3), hole_height_range=(0.1, 0.25), hole_width_range=(0.1, 0.25), fill=0, p=0.3)\n",
    "    ], p=0.5),\n",
    "\n",
    "    A.Normalize(mean=(0.485, 0.456, 0.406), std=(0.229, 0.224, 0.225)),\n",
    "    ToTensorV2()\n",
    "])\n",
    "\n",
    "validation_pipeline = A.Compose([\n",
    "    A.Resize(height=224, width=224),\n",
    "    A.Normalize(mean=(0.485, 0.456, 0.406), std=(0.229, 0.224, 0.225)),\n",
    "    ToTensorV2()\n",
    "])\n",
    "\n",
    "basic_pipeline = A.Compose([\n",
    "    A.Resize(height=224, width=224),\n",
    "    A.HorizontalFlip(p=0.6),\n",
    "    A.VerticalFlip(p=0.6),\n",
    "    A.Rotate(limit=(-45,45), p=0.7),\n",
    "    A.Normalize(mean=(0.485, 0.456, 0.406), std=(0.229, 0.224, 0.225)),\n",
    "    ToTensorV2()\n",
    "])"
   ],
   "id": "initial_id",
   "outputs": [],
   "execution_count": 268
  },
  {
   "metadata": {
    "ExecuteTime": {
     "end_time": "2025-08-14T14:35:23.280085Z",
     "start_time": "2025-08-14T14:35:23.267090Z"
    }
   },
   "cell_type": "code",
   "source": [
    "import cv2\n",
    "from torchvision import datasets\n",
    "\n",
    "class CustomDataset(datasets.ImageFolder):\n",
    "\n",
    "    def __getitem__(self, index):\n",
    "\n",
    "        path, target = self.samples[index]\n",
    "\n",
    "        image = cv2.imread(path)\n",
    "        image = cv2.cvtColor(image, cv2.COLOR_BGR2RGB)\n",
    "\n",
    "        if self.transform:\n",
    "            augmented = self.transform(image=image)\n",
    "            image = augmented['image']\n",
    "\n",
    "        return image, target\n",
    "\n",
    "    def __len__(self):\n",
    "        return len(self.samples)"
   ],
   "id": "6daf511998047715",
   "outputs": [],
   "execution_count": 269
  },
  {
   "metadata": {
    "ExecuteTime": {
     "end_time": "2025-08-14T14:35:27.619513Z",
     "start_time": "2025-08-14T14:35:27.610629Z"
    }
   },
   "cell_type": "code",
   "source": [
    "import torchvision.models as models\n",
    "import torch.nn as nn\n",
    "\n",
    "class PestClassifierMobileNetV2(nn.Module):\n",
    "\n",
    "    def __init__(self, num_classes):\n",
    "        super(PestClassifierMobileNetV2, self).__init__()\n",
    "\n",
    "        # get model\n",
    "        self.base_model = models.mobilenet_v2(weights='MobileNet_V2_Weights.IMAGENET1K_V2')\n",
    "\n",
    "        # Froze feature extraction layer to retain weights.\n",
    "        for params in self.base_model.parameters():\n",
    "            params.requires_grad = False\n",
    "\n",
    "        # get number of features\n",
    "        num_filters = self.base_model.classifier[1].in_features\n",
    "\n",
    "        # Hyperparameter tuning: new layer for 6 rice pests.\n",
    "        self.base_model.classifier[1] = nn.Linear(num_filters, num_classes)\n",
    "\n",
    "    # Forward propagation\n",
    "    def forward(self, x):\n",
    "\n",
    "       features = self.base_model.features(x)\n",
    "\n",
    "       features = F.adaptive_avg_pool2d(features, output_size=(1, 1)).reshape(features.shape[0], -1)\n",
    "\n",
    "       features = self.base_model.classifier(features)\n",
    "\n",
    "       return features\n",
    "\n",
    "    def unfreeze_feature_layer(self, layer):\n",
    "\n",
    "        if not (1 <= layer <= len(self.base_model.features)):\n",
    "            print(f\"Error: Invalid layer index {layer}.\")\n",
    "            return\n",
    "\n",
    "        # Corrected print statement\n",
    "        print(f\"\\nUnfreezing feature layer at index: -{layer}\")\n",
    "\n",
    "        for param in self.base_model.features[-layer].parameters():\n",
    "            param.requires_grad = True\n"
   ],
   "id": "8172f748d43e758a",
   "outputs": [],
   "execution_count": 270
  },
  {
   "metadata": {
    "ExecuteTime": {
     "end_time": "2025-08-14T14:35:30.250542Z",
     "start_time": "2025-08-14T14:35:30.239340Z"
    }
   },
   "cell_type": "code",
   "source": [
    "import torch\n",
    "from tqdm import tqdm\n",
    "\n",
    "def train_and_test(model, optimizer, criterion, train_dataloader, test_dataloader, num_epoch, device, best_accuracy=0.0):\n",
    "    train_losses = []\n",
    "    test_losses = []\n",
    "    accuracies = []\n",
    "\n",
    "    for epoch in range(num_epoch):\n",
    "        # --- TRAINING PHASE ---\n",
    "        model.train()\n",
    "        running_train_loss = 0.0\n",
    "        train_pbar = tqdm(train_dataloader, desc=f\"Train epoch: {epoch+1}\")\n",
    "        for data, labels in train_pbar:\n",
    "            data, labels = data.to(device), labels.to(device)\n",
    "            optimizer.zero_grad()\n",
    "            output = model(data)\n",
    "            loss = criterion(output, labels)\n",
    "            loss.backward()\n",
    "            optimizer.step()\n",
    "            running_train_loss += loss.item()\n",
    "        training_loss = running_train_loss / len(train_dataloader)\n",
    "        train_losses.append(training_loss)\n",
    "\n",
    "        # --- TESTING PHASE ---\n",
    "        model.eval()\n",
    "        running_test_loss = 0.0\n",
    "        correct_predictions = 0\n",
    "        total_samples = 0\n",
    "\n",
    "        with torch.no_grad():\n",
    "            for inputs, labels in tqdm(test_dataloader, desc=f\"Test epoch: {epoch+1}\"):\n",
    "                inputs, labels = inputs.to(device), labels.to(device)\n",
    "\n",
    "                output_loss = model(inputs)\n",
    "                loss = criterion(output_loss, labels)\n",
    "                running_test_loss += loss.item()\n",
    "                _, predicted = torch.max(output_loss.data, 1)\n",
    "                total_samples += labels.size(0)\n",
    "                correct_predictions += (predicted == labels).sum().item()\n",
    "\n",
    "        testing_loss = running_test_loss / len(test_dataloader)\n",
    "        test_losses.append(testing_loss)\n",
    "        accuracy = 100 * correct_predictions / total_samples\n",
    "        accuracies.append(accuracy)\n",
    "\n",
    "        epoch_summary = f'Epoch {epoch+1}/{num_epoch} | Train Loss: {training_loss:.4f} | Test Loss: {testing_loss:.4f} | Accuracy: {accuracy:.2f}%'\n",
    "\n",
    "        if device.type == 'cuda':\n",
    "            allocated_gb = torch.cuda.memory_allocated() / (1024 ** 3)\n",
    "            reserved_gb = torch.cuda.memory_reserved() / (1024 ** 3)\n",
    "            epoch_summary += f' | GPU Memory (Alloc/Reserved): {allocated_gb:.2f}/{reserved_gb:.3f} GB'\n",
    "\n",
    "        tqdm.write(epoch_summary)\n",
    "\n",
    "        if accuracy > best_accuracy:\n",
    "            best_accuracy = accuracy\n",
    "            torch.save(model.state_dict(), 'models/v2/Basic/SMobileNetV2_rice_pest_classificationV10.pt')\n",
    "\n",
    "        # scheduler.step(testing_loss)\n",
    "\n",
    "    tqdm.write('Phase done!')\n",
    "\n",
    "    return {'train_loss': train_losses, 'test_loss': test_losses, 'accuracy': accuracies}, best_accuracy"
   ],
   "id": "fca4e6f7abec2fbd",
   "outputs": [],
   "execution_count": 271
  },
  {
   "metadata": {
    "ExecuteTime": {
     "end_time": "2025-08-14T14:36:14.748503Z",
     "start_time": "2025-08-14T14:36:14.721998Z"
    }
   },
   "cell_type": "code",
   "source": [
    "import seaborn as sns\n",
    "import matplotlib.pyplot as plt\n",
    "import pandas as pd\n",
    "import numpy as np\n",
    "import os\n",
    "\n",
    "def plot_training_result(*results):\n",
    "\n",
    "    full_train_loss = []\n",
    "    full_test_loss = []\n",
    "\n",
    "    for res in results:\n",
    "        full_train_loss.extend(res.get('train_loss', []))\n",
    "        full_test_loss.extend(res.get('test_loss', []))\n",
    "\n",
    "    total_epochs = len(full_train_loss)\n",
    "    if total_epochs == 0:\n",
    "        print(\"No data to plot.\")\n",
    "        return\n",
    "\n",
    "    epochs = range(1, total_epochs + 1)\n",
    "\n",
    "    data = {\n",
    "        'Epoch': epochs,\n",
    "        'Training Loss': full_train_loss,\n",
    "        'Testing Loss': full_test_loss,\n",
    "    }\n",
    "\n",
    "    df = pd.DataFrame(data)\n",
    "\n",
    "    df_long = df.melt(id_vars=['Epoch'], var_name='Loss Type', value_name='Loss')\n",
    "\n",
    "    plt.figure(figsize=(10, 6))\n",
    "    sns.lineplot(data=df_long, x='Epoch', y='Loss', hue='Loss Type', marker='o')\n",
    "\n",
    "    plt.title('Training and Testing Loss Comparison')\n",
    "    plt.xlabel('Epoch')\n",
    "    plt.ylabel('Loss')\n",
    "    plt.legend()\n",
    "    plt.grid(True)\n",
    "    plt.show()\n",
    "\n",
    "def plot_accuracy(*results):\n",
    "\n",
    "    full_accuracy = []\n",
    "\n",
    "    for result in results:\n",
    "        accuracy = result.get('accuracy', [])\n",
    "        full_accuracy.extend(accuracy)\n",
    "\n",
    "    total_epochs = len(full_accuracy)\n",
    "    if total_epochs == 0:\n",
    "        print(\"No accuracy data to plot.\")\n",
    "        return\n",
    "\n",
    "    epochs = range(1, total_epochs + 1)\n",
    "\n",
    "    plt.figure(figsize=(10, 6))\n",
    "    plt.plot(epochs, full_accuracy, label='Accuracy', marker='o', color='g')\n",
    "\n",
    "    plt.title('Accuracy Evaluation')\n",
    "    plt.xlabel('Epoch')\n",
    "    plt.ylabel('Accuracy (%)')\n",
    "    plt.legend()\n",
    "    plt.grid(True)\n",
    "    plt.show()\n",
    "\n",
    "\n",
    "def save_historical_data(*histories, filename='training_results/v2/SMobileNetV2_rice_pest_classificationV10.csv'):\n",
    "\n",
    "    full_train_loss = []\n",
    "    full_test_loss = []\n",
    "    full_accuracy = []\n",
    "\n",
    "    for history in histories:\n",
    "\n",
    "        full_train_loss.extend(history.get('train_loss', []))\n",
    "        full_test_loss.extend(history.get('test_loss', []))\n",
    "        full_accuracy.extend(history.get('accuracy', []))\n",
    "\n",
    "    data_dict = pd.DataFrame({\n",
    "        'train_loss': full_train_loss,\n",
    "        'test_loss': full_test_loss,\n",
    "        'accuracy': full_accuracy,\n",
    "    })\n",
    "\n",
    "    if os.path.exists(filename):\n",
    "        print(\"historical data exists! Appending new data.\")\n",
    "\n",
    "        old_data = pd.read_csv(filename)\n",
    "        combined_data = pd.concat([old_data, data_dict], ignore_index=True)\n",
    "\n",
    "    else:\n",
    "        print(\"Creating new historical data...\")\n",
    "        combined_data = data_dict\n",
    "\n",
    "    combined_data['epoch'] = range(1, len(combined_data) + 1)\n",
    "\n",
    "    combined_data = combined_data[['epoch', 'train_loss', 'test_loss', 'accuracy']]\n",
    "\n",
    "    combined_data.to_csv(filename, index=False)\n",
    "\n",
    "    print(\"Historical data saved successfully!\")\n"
   ],
   "id": "74773810c269080d",
   "outputs": [],
   "execution_count": 272
  },
  {
   "metadata": {
    "ExecuteTime": {
     "end_time": "2025-08-14T03:58:51.566309Z",
     "start_time": "2025-08-14T03:58:51.529997Z"
    }
   },
   "cell_type": "code",
   "source": [
    "from torch.utils.data import DataLoader\n",
    "\n",
    "train_set = CustomDataset(root='datasets/train', transform=training_pipeline)\n",
    "train_loader = DataLoader(train_set, batch_size=128, shuffle=True)\n",
    "test_set = CustomDataset(root='datasets/test', transform=validation_pipeline)\n",
    "test_loader = DataLoader(test_set, batch_size=64, shuffle=True)\n",
    "val_set = CustomDataset(root='datasets/val', transform=validation_pipeline)\n",
    "val_loader = DataLoader(val_set, batch_size=32, shuffle=True)\n",
    "\n",
    "classes = train_set.classes"
   ],
   "id": "4fd20dd312f838ff",
   "outputs": [],
   "execution_count": 18
  },
  {
   "metadata": {
    "ExecuteTime": {
     "end_time": "2025-08-14T03:00:48.218422Z",
     "start_time": "2025-08-14T02:13:25.724176Z"
    }
   },
   "cell_type": "code",
   "source": [
    "import torch.optim as optim\n",
    "\n",
    "hardware = torch.device('cuda' if   torch.cuda.is_available() else 'cpu')\n",
    "classes = 6\n",
    "learning_rate = 1e-3\n",
    "weight_decay = 1e-2\n",
    "num_epochs = 64\n",
    "criterion = nn.CrossEntropyLoss()\n",
    "\n",
    "model = PestClassifierMobileNetV2(num_classes=classes).to(hardware)\n",
    "model.load_state_dict(torch.load('models/v2/Basic/SMobileNetV2_rice_pest_classificationV10.pt', map_location=hardware))\n",
    "\n",
    "optimizer = optim.AdamW(filter(lambda p: p.requires_grad, model.parameters()), lr=learning_rate, weight_decay=weight_decay)\n",
    "\n",
    "# result_1, accuracies1 = train_and_test(model=model, optimizer=optimizer, criterion=criterion,train_dataloader=train_loader, test_dataloader=test_loader, num_epoch=15, device=hardware)\n",
    "\n",
    "optimizer_2 = optim.AdamW(model.parameters(), lr=1e-4, weight_decay=weight_decay)\n",
    "\n",
    "# result_2, accuracies2 = train_and_test(model=model, optimizer=optimizer_2, criterion=criterion,train_dataloader=train_loader, test_dataloader=test_loader, num_epoch=30, device=hardware)\n",
    "\n",
    "model.unfreeze_last_block()\n",
    "model.unfreeze_before_last_block()\n",
    "\n",
    "result_3, accuracies3 = train_and_test(model=model, optimizer=optimizer_2, criterion=criterion,train_dataloader=train_loader, test_dataloader=test_loader, num_epoch=45, device=hardware)\n",
    "\n",
    "model.unfreeze_third_last_inverse_residual()\n",
    "\n",
    "result_4, accuracies4 = train_and_test(model=model, optimizer=optimizer_2, criterion=criterion,train_dataloader=train_loader, test_dataloader=test_loader, num_epoch=60, device=hardware)\n",
    "\n",
    "plot_training_result(result_3, result_4)\n",
    "plot_accuracy(result_3, result_4)\n",
    "save_historical_data(result_3, result_4)"
   ],
   "id": "42228f67409bda4c",
   "outputs": [
    {
     "name": "stdout",
     "output_type": "stream",
     "text": [
      "\n",
      "Unfreezing the last convolutional block for fine-tuning...\n",
      "\n",
      "Unfreezing the before last convolutional block for fine-tuning...\n"
     ]
    },
    {
     "name": "stderr",
     "output_type": "stream",
     "text": [
      "Train epoch: 1: 100%|██████████| 59/59 [00:36<00:00,  1.61it/s]\n",
      "Test epoch: 1: 100%|██████████| 34/34 [00:06<00:00,  5.17it/s]\n"
     ]
    },
    {
     "name": "stdout",
     "output_type": "stream",
     "text": [
      "Epoch 1/45 | Train Loss: 0.4297 | Test Loss: 0.2834 | Accuracy: 91.89% | GPU Memory (Alloc/Reserved): 0.27/1.842 GB\n"
     ]
    },
    {
     "name": "stderr",
     "output_type": "stream",
     "text": [
      "Train epoch: 2: 100%|██████████| 59/59 [00:22<00:00,  2.67it/s]\n",
      "Test epoch: 2: 100%|██████████| 34/34 [00:04<00:00,  7.45it/s]\n"
     ]
    },
    {
     "name": "stdout",
     "output_type": "stream",
     "text": [
      "Epoch 2/45 | Train Loss: 0.4179 | Test Loss: 0.2622 | Accuracy: 92.40% | GPU Memory (Alloc/Reserved): 0.27/1.842 GB\n"
     ]
    },
    {
     "name": "stderr",
     "output_type": "stream",
     "text": [
      "Train epoch: 3: 100%|██████████| 59/59 [00:21<00:00,  2.69it/s]\n",
      "Test epoch: 3: 100%|██████████| 34/34 [00:04<00:00,  7.46it/s]\n"
     ]
    },
    {
     "name": "stdout",
     "output_type": "stream",
     "text": [
      "Epoch 3/45 | Train Loss: 0.4102 | Test Loss: 0.2558 | Accuracy: 92.35% | GPU Memory (Alloc/Reserved): 0.27/1.842 GB\n"
     ]
    },
    {
     "name": "stderr",
     "output_type": "stream",
     "text": [
      "Train epoch: 4: 100%|██████████| 59/59 [00:21<00:00,  2.70it/s]\n",
      "Test epoch: 4: 100%|██████████| 34/34 [00:04<00:00,  7.50it/s]\n"
     ]
    },
    {
     "name": "stdout",
     "output_type": "stream",
     "text": [
      "Epoch 4/45 | Train Loss: 0.3964 | Test Loss: 0.2442 | Accuracy: 92.59% | GPU Memory (Alloc/Reserved): 0.27/1.842 GB\n"
     ]
    },
    {
     "name": "stderr",
     "output_type": "stream",
     "text": [
      "Train epoch: 5: 100%|██████████| 59/59 [00:21<00:00,  2.71it/s]\n",
      "Test epoch: 5: 100%|██████████| 34/34 [00:04<00:00,  7.47it/s]\n"
     ]
    },
    {
     "name": "stdout",
     "output_type": "stream",
     "text": [
      "Epoch 5/45 | Train Loss: 0.3842 | Test Loss: 0.2447 | Accuracy: 92.73% | GPU Memory (Alloc/Reserved): 0.27/1.842 GB\n"
     ]
    },
    {
     "name": "stderr",
     "output_type": "stream",
     "text": [
      "Train epoch: 6: 100%|██████████| 59/59 [00:21<00:00,  2.72it/s]\n",
      "Test epoch: 6: 100%|██████████| 34/34 [00:04<00:00,  7.58it/s]\n"
     ]
    },
    {
     "name": "stdout",
     "output_type": "stream",
     "text": [
      "Epoch 6/45 | Train Loss: 0.3627 | Test Loss: 0.2353 | Accuracy: 92.78% | GPU Memory (Alloc/Reserved): 0.27/1.842 GB\n"
     ]
    },
    {
     "name": "stderr",
     "output_type": "stream",
     "text": [
      "Train epoch: 7: 100%|██████████| 59/59 [00:21<00:00,  2.71it/s]\n",
      "Test epoch: 7: 100%|██████████| 34/34 [00:04<00:00,  7.45it/s]\n"
     ]
    },
    {
     "name": "stdout",
     "output_type": "stream",
     "text": [
      "Epoch 7/45 | Train Loss: 0.3681 | Test Loss: 0.2389 | Accuracy: 93.25% | GPU Memory (Alloc/Reserved): 0.27/1.842 GB\n"
     ]
    },
    {
     "name": "stderr",
     "output_type": "stream",
     "text": [
      "Train epoch: 8: 100%|██████████| 59/59 [00:21<00:00,  2.71it/s]\n",
      "Test epoch: 8: 100%|██████████| 34/34 [00:04<00:00,  7.54it/s]\n"
     ]
    },
    {
     "name": "stdout",
     "output_type": "stream",
     "text": [
      "Epoch 8/45 | Train Loss: 0.3513 | Test Loss: 0.2304 | Accuracy: 93.15% | GPU Memory (Alloc/Reserved): 0.27/1.842 GB\n"
     ]
    },
    {
     "name": "stderr",
     "output_type": "stream",
     "text": [
      "Train epoch: 9: 100%|██████████| 59/59 [00:21<00:00,  2.71it/s]\n",
      "Test epoch: 9: 100%|██████████| 34/34 [00:04<00:00,  7.47it/s]\n"
     ]
    },
    {
     "name": "stdout",
     "output_type": "stream",
     "text": [
      "Epoch 9/45 | Train Loss: 0.3319 | Test Loss: 0.2284 | Accuracy: 92.96% | GPU Memory (Alloc/Reserved): 0.27/1.842 GB\n"
     ]
    },
    {
     "name": "stderr",
     "output_type": "stream",
     "text": [
      "Train epoch: 10: 100%|██████████| 59/59 [00:21<00:00,  2.71it/s]\n",
      "Test epoch: 10: 100%|██████████| 34/34 [00:04<00:00,  7.43it/s]\n"
     ]
    },
    {
     "name": "stdout",
     "output_type": "stream",
     "text": [
      "Epoch 10/45 | Train Loss: 0.3405 | Test Loss: 0.2280 | Accuracy: 93.25% | GPU Memory (Alloc/Reserved): 0.27/1.842 GB\n"
     ]
    },
    {
     "name": "stderr",
     "output_type": "stream",
     "text": [
      "Train epoch: 11: 100%|██████████| 59/59 [00:21<00:00,  2.71it/s]\n",
      "Test epoch: 11: 100%|██████████| 34/34 [00:04<00:00,  7.50it/s]\n"
     ]
    },
    {
     "name": "stdout",
     "output_type": "stream",
     "text": [
      "Epoch 11/45 | Train Loss: 0.3230 | Test Loss: 0.2205 | Accuracy: 93.57% | GPU Memory (Alloc/Reserved): 0.27/1.842 GB\n"
     ]
    },
    {
     "name": "stderr",
     "output_type": "stream",
     "text": [
      "Train epoch: 12: 100%|██████████| 59/59 [00:22<00:00,  2.67it/s]\n",
      "Test epoch: 12: 100%|██████████| 34/34 [00:04<00:00,  7.24it/s]\n"
     ]
    },
    {
     "name": "stdout",
     "output_type": "stream",
     "text": [
      "Epoch 12/45 | Train Loss: 0.3310 | Test Loss: 0.2180 | Accuracy: 93.57% | GPU Memory (Alloc/Reserved): 0.27/1.842 GB\n"
     ]
    },
    {
     "name": "stderr",
     "output_type": "stream",
     "text": [
      "Train epoch: 13: 100%|██████████| 59/59 [00:22<00:00,  2.59it/s]\n",
      "Test epoch: 13: 100%|██████████| 34/34 [00:04<00:00,  7.27it/s]\n"
     ]
    },
    {
     "name": "stdout",
     "output_type": "stream",
     "text": [
      "Epoch 13/45 | Train Loss: 0.3141 | Test Loss: 0.2171 | Accuracy: 93.43% | GPU Memory (Alloc/Reserved): 0.27/1.842 GB\n"
     ]
    },
    {
     "name": "stderr",
     "output_type": "stream",
     "text": [
      "Train epoch: 14: 100%|██████████| 59/59 [00:22<00:00,  2.62it/s]\n",
      "Test epoch: 14: 100%|██████████| 34/34 [00:04<00:00,  7.38it/s]\n"
     ]
    },
    {
     "name": "stdout",
     "output_type": "stream",
     "text": [
      "Epoch 14/45 | Train Loss: 0.3106 | Test Loss: 0.2185 | Accuracy: 93.29% | GPU Memory (Alloc/Reserved): 0.27/1.842 GB\n"
     ]
    },
    {
     "name": "stderr",
     "output_type": "stream",
     "text": [
      "Train epoch: 15: 100%|██████████| 59/59 [00:22<00:00,  2.66it/s]\n",
      "Test epoch: 15: 100%|██████████| 34/34 [00:04<00:00,  7.36it/s]\n"
     ]
    },
    {
     "name": "stdout",
     "output_type": "stream",
     "text": [
      "Epoch 15/45 | Train Loss: 0.3135 | Test Loss: 0.2124 | Accuracy: 93.90% | GPU Memory (Alloc/Reserved): 0.27/1.842 GB\n"
     ]
    },
    {
     "name": "stderr",
     "output_type": "stream",
     "text": [
      "Train epoch: 16: 100%|██████████| 59/59 [00:22<00:00,  2.62it/s]\n",
      "Test epoch: 16: 100%|██████████| 34/34 [00:04<00:00,  7.22it/s]\n"
     ]
    },
    {
     "name": "stdout",
     "output_type": "stream",
     "text": [
      "Epoch 16/45 | Train Loss: 0.3053 | Test Loss: 0.2056 | Accuracy: 93.90% | GPU Memory (Alloc/Reserved): 0.27/1.842 GB\n"
     ]
    },
    {
     "name": "stderr",
     "output_type": "stream",
     "text": [
      "Train epoch: 17: 100%|██████████| 59/59 [00:23<00:00,  2.55it/s]\n",
      "Test epoch: 17: 100%|██████████| 34/34 [00:04<00:00,  7.13it/s]\n"
     ]
    },
    {
     "name": "stdout",
     "output_type": "stream",
     "text": [
      "Epoch 17/45 | Train Loss: 0.3099 | Test Loss: 0.2034 | Accuracy: 94.18% | GPU Memory (Alloc/Reserved): 0.27/1.842 GB\n"
     ]
    },
    {
     "name": "stderr",
     "output_type": "stream",
     "text": [
      "Train epoch: 18: 100%|██████████| 59/59 [00:22<00:00,  2.57it/s]\n",
      "Test epoch: 18: 100%|██████████| 34/34 [00:04<00:00,  7.07it/s]\n"
     ]
    },
    {
     "name": "stdout",
     "output_type": "stream",
     "text": [
      "Epoch 18/45 | Train Loss: 0.2901 | Test Loss: 0.2192 | Accuracy: 93.86% | GPU Memory (Alloc/Reserved): 0.27/1.842 GB\n"
     ]
    },
    {
     "name": "stderr",
     "output_type": "stream",
     "text": [
      "Train epoch: 19: 100%|██████████| 59/59 [00:22<00:00,  2.59it/s]\n",
      "Test epoch: 19: 100%|██████████| 34/34 [00:04<00:00,  7.09it/s]\n"
     ]
    },
    {
     "name": "stdout",
     "output_type": "stream",
     "text": [
      "Epoch 19/45 | Train Loss: 0.2903 | Test Loss: 0.2091 | Accuracy: 94.23% | GPU Memory (Alloc/Reserved): 0.27/1.842 GB\n"
     ]
    },
    {
     "name": "stderr",
     "output_type": "stream",
     "text": [
      "Train epoch: 20: 100%|██████████| 59/59 [00:22<00:00,  2.57it/s]\n",
      "Test epoch: 20: 100%|██████████| 34/34 [00:04<00:00,  7.01it/s]\n"
     ]
    },
    {
     "name": "stdout",
     "output_type": "stream",
     "text": [
      "Epoch 20/45 | Train Loss: 0.2944 | Test Loss: 0.2019 | Accuracy: 94.00% | GPU Memory (Alloc/Reserved): 0.27/1.842 GB\n"
     ]
    },
    {
     "name": "stderr",
     "output_type": "stream",
     "text": [
      "Train epoch: 21: 100%|██████████| 59/59 [00:22<00:00,  2.58it/s]\n",
      "Test epoch: 21: 100%|██████████| 34/34 [00:04<00:00,  7.19it/s]\n"
     ]
    },
    {
     "name": "stdout",
     "output_type": "stream",
     "text": [
      "Epoch 21/45 | Train Loss: 0.2695 | Test Loss: 0.1975 | Accuracy: 94.14% | GPU Memory (Alloc/Reserved): 0.27/1.842 GB\n"
     ]
    },
    {
     "name": "stderr",
     "output_type": "stream",
     "text": [
      "Train epoch: 22: 100%|██████████| 59/59 [00:22<00:00,  2.61it/s]\n",
      "Test epoch: 22: 100%|██████████| 34/34 [00:04<00:00,  7.28it/s]\n"
     ]
    },
    {
     "name": "stdout",
     "output_type": "stream",
     "text": [
      "Epoch 22/45 | Train Loss: 0.2825 | Test Loss: 0.2016 | Accuracy: 94.04% | GPU Memory (Alloc/Reserved): 0.27/1.842 GB\n"
     ]
    },
    {
     "name": "stderr",
     "output_type": "stream",
     "text": [
      "Train epoch: 23: 100%|██████████| 59/59 [00:22<00:00,  2.63it/s]\n",
      "Test epoch: 23: 100%|██████████| 34/34 [00:04<00:00,  7.17it/s]\n"
     ]
    },
    {
     "name": "stdout",
     "output_type": "stream",
     "text": [
      "Epoch 23/45 | Train Loss: 0.2834 | Test Loss: 0.2076 | Accuracy: 93.95% | GPU Memory (Alloc/Reserved): 0.27/1.842 GB\n"
     ]
    },
    {
     "name": "stderr",
     "output_type": "stream",
     "text": [
      "Train epoch: 24: 100%|██████████| 59/59 [00:23<00:00,  2.47it/s]\n",
      "Test epoch: 24: 100%|██████████| 34/34 [00:04<00:00,  7.31it/s]\n"
     ]
    },
    {
     "name": "stdout",
     "output_type": "stream",
     "text": [
      "Epoch 24/45 | Train Loss: 0.2722 | Test Loss: 0.1942 | Accuracy: 94.04% | GPU Memory (Alloc/Reserved): 0.27/1.842 GB\n"
     ]
    },
    {
     "name": "stderr",
     "output_type": "stream",
     "text": [
      "Train epoch: 25: 100%|██████████| 59/59 [00:22<00:00,  2.63it/s]\n",
      "Test epoch: 25: 100%|██████████| 34/34 [00:04<00:00,  7.24it/s]\n"
     ]
    },
    {
     "name": "stdout",
     "output_type": "stream",
     "text": [
      "Epoch 25/45 | Train Loss: 0.2810 | Test Loss: 0.1942 | Accuracy: 94.28% | GPU Memory (Alloc/Reserved): 0.27/1.842 GB\n"
     ]
    },
    {
     "name": "stderr",
     "output_type": "stream",
     "text": [
      "Train epoch: 26: 100%|██████████| 59/59 [00:22<00:00,  2.64it/s]\n",
      "Test epoch: 26: 100%|██████████| 34/34 [00:04<00:00,  7.29it/s]\n"
     ]
    },
    {
     "name": "stdout",
     "output_type": "stream",
     "text": [
      "Epoch 26/45 | Train Loss: 0.2606 | Test Loss: 0.1956 | Accuracy: 94.00% | GPU Memory (Alloc/Reserved): 0.27/1.842 GB\n"
     ]
    },
    {
     "name": "stderr",
     "output_type": "stream",
     "text": [
      "Train epoch: 27: 100%|██████████| 59/59 [00:22<00:00,  2.64it/s]\n",
      "Test epoch: 27: 100%|██████████| 34/34 [00:04<00:00,  7.29it/s]\n"
     ]
    },
    {
     "name": "stdout",
     "output_type": "stream",
     "text": [
      "Epoch 27/45 | Train Loss: 0.2618 | Test Loss: 0.1958 | Accuracy: 94.09% | GPU Memory (Alloc/Reserved): 0.27/1.842 GB\n"
     ]
    },
    {
     "name": "stderr",
     "output_type": "stream",
     "text": [
      "Train epoch: 28: 100%|██████████| 59/59 [00:22<00:00,  2.66it/s]\n",
      "Test epoch: 28: 100%|██████████| 34/34 [00:04<00:00,  7.62it/s]\n"
     ]
    },
    {
     "name": "stdout",
     "output_type": "stream",
     "text": [
      "Epoch 28/45 | Train Loss: 0.2578 | Test Loss: 0.1989 | Accuracy: 94.14% | GPU Memory (Alloc/Reserved): 0.27/1.842 GB\n"
     ]
    },
    {
     "name": "stderr",
     "output_type": "stream",
     "text": [
      "Train epoch: 29: 100%|██████████| 59/59 [00:22<00:00,  2.68it/s]\n",
      "Test epoch: 29: 100%|██████████| 34/34 [00:04<00:00,  7.50it/s]\n"
     ]
    },
    {
     "name": "stdout",
     "output_type": "stream",
     "text": [
      "Epoch 29/45 | Train Loss: 0.2632 | Test Loss: 0.1989 | Accuracy: 94.18% | GPU Memory (Alloc/Reserved): 0.27/1.842 GB\n"
     ]
    },
    {
     "name": "stderr",
     "output_type": "stream",
     "text": [
      "Train epoch: 30: 100%|██████████| 59/59 [00:22<00:00,  2.68it/s]\n",
      "Test epoch: 30: 100%|██████████| 34/34 [00:04<00:00,  7.67it/s]\n"
     ]
    },
    {
     "name": "stdout",
     "output_type": "stream",
     "text": [
      "Epoch 30/45 | Train Loss: 0.2639 | Test Loss: 0.1888 | Accuracy: 94.18% | GPU Memory (Alloc/Reserved): 0.27/1.842 GB\n"
     ]
    },
    {
     "name": "stderr",
     "output_type": "stream",
     "text": [
      "Train epoch: 31: 100%|██████████| 59/59 [00:22<00:00,  2.68it/s]\n",
      "Test epoch: 31: 100%|██████████| 34/34 [00:04<00:00,  7.76it/s]\n"
     ]
    },
    {
     "name": "stdout",
     "output_type": "stream",
     "text": [
      "Epoch 31/45 | Train Loss: 0.2478 | Test Loss: 0.1909 | Accuracy: 94.23% | GPU Memory (Alloc/Reserved): 0.27/1.842 GB\n"
     ]
    },
    {
     "name": "stderr",
     "output_type": "stream",
     "text": [
      "Train epoch: 32: 100%|██████████| 59/59 [00:21<00:00,  2.71it/s]\n",
      "Test epoch: 32: 100%|██████████| 34/34 [00:04<00:00,  7.77it/s]\n"
     ]
    },
    {
     "name": "stdout",
     "output_type": "stream",
     "text": [
      "Epoch 32/45 | Train Loss: 0.2434 | Test Loss: 0.1942 | Accuracy: 94.23% | GPU Memory (Alloc/Reserved): 0.27/1.842 GB\n"
     ]
    },
    {
     "name": "stderr",
     "output_type": "stream",
     "text": [
      "Train epoch: 33: 100%|██████████| 59/59 [00:21<00:00,  2.68it/s]\n",
      "Test epoch: 33: 100%|██████████| 34/34 [00:04<00:00,  7.78it/s]\n"
     ]
    },
    {
     "name": "stdout",
     "output_type": "stream",
     "text": [
      "Epoch 33/45 | Train Loss: 0.2627 | Test Loss: 0.1942 | Accuracy: 94.28% | GPU Memory (Alloc/Reserved): 0.27/1.842 GB\n"
     ]
    },
    {
     "name": "stderr",
     "output_type": "stream",
     "text": [
      "Train epoch: 34: 100%|██████████| 59/59 [00:21<00:00,  2.70it/s]\n",
      "Test epoch: 34: 100%|██████████| 34/34 [00:04<00:00,  7.75it/s]\n"
     ]
    },
    {
     "name": "stdout",
     "output_type": "stream",
     "text": [
      "Epoch 34/45 | Train Loss: 0.2420 | Test Loss: 0.1931 | Accuracy: 94.42% | GPU Memory (Alloc/Reserved): 0.27/1.842 GB\n"
     ]
    },
    {
     "name": "stderr",
     "output_type": "stream",
     "text": [
      "Train epoch: 35: 100%|██████████| 59/59 [00:21<00:00,  2.70it/s]\n",
      "Test epoch: 35: 100%|██████████| 34/34 [00:04<00:00,  7.77it/s]\n"
     ]
    },
    {
     "name": "stdout",
     "output_type": "stream",
     "text": [
      "Epoch 35/45 | Train Loss: 0.2414 | Test Loss: 0.1914 | Accuracy: 94.51% | GPU Memory (Alloc/Reserved): 0.27/1.842 GB\n"
     ]
    },
    {
     "name": "stderr",
     "output_type": "stream",
     "text": [
      "Train epoch: 36: 100%|██████████| 59/59 [00:21<00:00,  2.70it/s]\n",
      "Test epoch: 36: 100%|██████████| 34/34 [00:04<00:00,  7.76it/s]\n"
     ]
    },
    {
     "name": "stdout",
     "output_type": "stream",
     "text": [
      "Epoch 36/45 | Train Loss: 0.2445 | Test Loss: 0.1975 | Accuracy: 94.56% | GPU Memory (Alloc/Reserved): 0.27/1.842 GB\n"
     ]
    },
    {
     "name": "stderr",
     "output_type": "stream",
     "text": [
      "Train epoch: 37: 100%|██████████| 59/59 [00:21<00:00,  2.68it/s]\n",
      "Test epoch: 37: 100%|██████████| 34/34 [00:04<00:00,  7.59it/s]\n"
     ]
    },
    {
     "name": "stdout",
     "output_type": "stream",
     "text": [
      "Epoch 37/45 | Train Loss: 0.2364 | Test Loss: 0.1911 | Accuracy: 94.51% | GPU Memory (Alloc/Reserved): 0.27/1.842 GB\n"
     ]
    },
    {
     "name": "stderr",
     "output_type": "stream",
     "text": [
      "Train epoch: 38: 100%|██████████| 59/59 [00:22<00:00,  2.64it/s]\n",
      "Test epoch: 38: 100%|██████████| 34/34 [00:04<00:00,  7.53it/s]\n"
     ]
    },
    {
     "name": "stdout",
     "output_type": "stream",
     "text": [
      "Epoch 38/45 | Train Loss: 0.2343 | Test Loss: 0.1892 | Accuracy: 94.37% | GPU Memory (Alloc/Reserved): 0.27/1.842 GB\n"
     ]
    },
    {
     "name": "stderr",
     "output_type": "stream",
     "text": [
      "Train epoch: 39: 100%|██████████| 59/59 [00:22<00:00,  2.68it/s]\n",
      "Test epoch: 39: 100%|██████████| 34/34 [00:04<00:00,  7.51it/s]\n"
     ]
    },
    {
     "name": "stdout",
     "output_type": "stream",
     "text": [
      "Epoch 39/45 | Train Loss: 0.2278 | Test Loss: 0.1925 | Accuracy: 94.51% | GPU Memory (Alloc/Reserved): 0.27/1.842 GB\n"
     ]
    },
    {
     "name": "stderr",
     "output_type": "stream",
     "text": [
      "Train epoch: 40: 100%|██████████| 59/59 [00:22<00:00,  2.65it/s]\n",
      "Test epoch: 40: 100%|██████████| 34/34 [00:04<00:00,  7.56it/s]\n"
     ]
    },
    {
     "name": "stdout",
     "output_type": "stream",
     "text": [
      "Epoch 40/45 | Train Loss: 0.2294 | Test Loss: 0.1861 | Accuracy: 94.70% | GPU Memory (Alloc/Reserved): 0.27/1.842 GB\n"
     ]
    },
    {
     "name": "stderr",
     "output_type": "stream",
     "text": [
      "Train epoch: 41: 100%|██████████| 59/59 [00:22<00:00,  2.68it/s]\n",
      "Test epoch: 41: 100%|██████████| 34/34 [00:04<00:00,  7.59it/s]\n"
     ]
    },
    {
     "name": "stdout",
     "output_type": "stream",
     "text": [
      "Epoch 41/45 | Train Loss: 0.2257 | Test Loss: 0.1827 | Accuracy: 94.65% | GPU Memory (Alloc/Reserved): 0.27/1.842 GB\n"
     ]
    },
    {
     "name": "stderr",
     "output_type": "stream",
     "text": [
      "Train epoch: 42: 100%|██████████| 59/59 [00:22<00:00,  2.64it/s]\n",
      "Test epoch: 42: 100%|██████████| 34/34 [00:04<00:00,  7.67it/s]\n"
     ]
    },
    {
     "name": "stdout",
     "output_type": "stream",
     "text": [
      "Epoch 42/45 | Train Loss: 0.2327 | Test Loss: 0.1883 | Accuracy: 94.61% | GPU Memory (Alloc/Reserved): 0.27/1.842 GB\n"
     ]
    },
    {
     "name": "stderr",
     "output_type": "stream",
     "text": [
      "Train epoch: 43: 100%|██████████| 59/59 [00:22<00:00,  2.64it/s]\n",
      "Test epoch: 43: 100%|██████████| 34/34 [00:04<00:00,  7.46it/s]\n"
     ]
    },
    {
     "name": "stdout",
     "output_type": "stream",
     "text": [
      "Epoch 43/45 | Train Loss: 0.2236 | Test Loss: 0.1943 | Accuracy: 94.42% | GPU Memory (Alloc/Reserved): 0.27/1.842 GB\n"
     ]
    },
    {
     "name": "stderr",
     "output_type": "stream",
     "text": [
      "Train epoch: 44: 100%|██████████| 59/59 [00:22<00:00,  2.63it/s]\n",
      "Test epoch: 44: 100%|██████████| 34/34 [00:04<00:00,  7.46it/s]\n"
     ]
    },
    {
     "name": "stdout",
     "output_type": "stream",
     "text": [
      "Epoch 44/45 | Train Loss: 0.2238 | Test Loss: 0.1898 | Accuracy: 94.42% | GPU Memory (Alloc/Reserved): 0.27/1.842 GB\n"
     ]
    },
    {
     "name": "stderr",
     "output_type": "stream",
     "text": [
      "Train epoch: 45: 100%|██████████| 59/59 [00:22<00:00,  2.63it/s]\n",
      "Test epoch: 45: 100%|██████████| 34/34 [00:04<00:00,  7.69it/s]\n"
     ]
    },
    {
     "name": "stdout",
     "output_type": "stream",
     "text": [
      "Epoch 45/45 | Train Loss: 0.2161 | Test Loss: 0.1880 | Accuracy: 94.42% | GPU Memory (Alloc/Reserved): 0.27/1.842 GB\n",
      "Phase done!\n",
      "\n",
      "Unfreezing the third last convolutional block for fine-tuning...\n"
     ]
    },
    {
     "name": "stderr",
     "output_type": "stream",
     "text": [
      "Train epoch: 1: 100%|██████████| 59/59 [00:23<00:00,  2.50it/s]\n",
      "Test epoch: 1: 100%|██████████| 34/34 [00:04<00:00,  7.73it/s]\n"
     ]
    },
    {
     "name": "stdout",
     "output_type": "stream",
     "text": [
      "Epoch 1/60 | Train Loss: 0.2221 | Test Loss: 0.1978 | Accuracy: 94.51% | GPU Memory (Alloc/Reserved): 0.28/1.844 GB\n"
     ]
    },
    {
     "name": "stderr",
     "output_type": "stream",
     "text": [
      "Train epoch: 2: 100%|██████████| 59/59 [00:22<00:00,  2.61it/s]\n",
      "Test epoch: 2: 100%|██████████| 34/34 [00:04<00:00,  7.79it/s]\n"
     ]
    },
    {
     "name": "stdout",
     "output_type": "stream",
     "text": [
      "Epoch 2/60 | Train Loss: 0.2186 | Test Loss: 0.1852 | Accuracy: 94.70% | GPU Memory (Alloc/Reserved): 0.28/1.844 GB\n"
     ]
    },
    {
     "name": "stderr",
     "output_type": "stream",
     "text": [
      "Train epoch: 3: 100%|██████████| 59/59 [00:21<00:00,  2.69it/s]\n",
      "Test epoch: 3: 100%|██████████| 34/34 [00:04<00:00,  7.84it/s]\n"
     ]
    },
    {
     "name": "stdout",
     "output_type": "stream",
     "text": [
      "Epoch 3/60 | Train Loss: 0.2237 | Test Loss: 0.1981 | Accuracy: 94.61% | GPU Memory (Alloc/Reserved): 0.28/1.844 GB\n"
     ]
    },
    {
     "name": "stderr",
     "output_type": "stream",
     "text": [
      "Train epoch: 4: 100%|██████████| 59/59 [00:21<00:00,  2.71it/s]\n",
      "Test epoch: 4: 100%|██████████| 34/34 [00:04<00:00,  7.88it/s]\n"
     ]
    },
    {
     "name": "stdout",
     "output_type": "stream",
     "text": [
      "Epoch 4/60 | Train Loss: 0.1976 | Test Loss: 0.1895 | Accuracy: 94.56% | GPU Memory (Alloc/Reserved): 0.28/1.844 GB\n"
     ]
    },
    {
     "name": "stderr",
     "output_type": "stream",
     "text": [
      "Train epoch: 5: 100%|██████████| 59/59 [00:21<00:00,  2.71it/s]\n",
      "Test epoch: 5: 100%|██████████| 34/34 [00:04<00:00,  7.87it/s]\n"
     ]
    },
    {
     "name": "stdout",
     "output_type": "stream",
     "text": [
      "Epoch 5/60 | Train Loss: 0.2098 | Test Loss: 0.1902 | Accuracy: 94.79% | GPU Memory (Alloc/Reserved): 0.28/1.844 GB\n"
     ]
    },
    {
     "name": "stderr",
     "output_type": "stream",
     "text": [
      "Train epoch: 6: 100%|██████████| 59/59 [00:21<00:00,  2.70it/s]\n",
      "Test epoch: 6: 100%|██████████| 34/34 [00:04<00:00,  7.82it/s]\n"
     ]
    },
    {
     "name": "stdout",
     "output_type": "stream",
     "text": [
      "Epoch 6/60 | Train Loss: 0.2090 | Test Loss: 0.1951 | Accuracy: 94.70% | GPU Memory (Alloc/Reserved): 0.28/1.844 GB\n"
     ]
    },
    {
     "name": "stderr",
     "output_type": "stream",
     "text": [
      "Train epoch: 7: 100%|██████████| 59/59 [00:21<00:00,  2.69it/s]\n",
      "Test epoch: 7: 100%|██████████| 34/34 [00:04<00:00,  7.92it/s]\n"
     ]
    },
    {
     "name": "stdout",
     "output_type": "stream",
     "text": [
      "Epoch 7/60 | Train Loss: 0.1911 | Test Loss: 0.1850 | Accuracy: 94.70% | GPU Memory (Alloc/Reserved): 0.28/1.844 GB\n"
     ]
    },
    {
     "name": "stderr",
     "output_type": "stream",
     "text": [
      "Train epoch: 8: 100%|██████████| 59/59 [00:21<00:00,  2.70it/s]\n",
      "Test epoch: 8: 100%|██████████| 34/34 [00:04<00:00,  7.86it/s]\n"
     ]
    },
    {
     "name": "stdout",
     "output_type": "stream",
     "text": [
      "Epoch 8/60 | Train Loss: 0.1961 | Test Loss: 0.1952 | Accuracy: 94.89% | GPU Memory (Alloc/Reserved): 0.28/1.844 GB\n"
     ]
    },
    {
     "name": "stderr",
     "output_type": "stream",
     "text": [
      "Train epoch: 9: 100%|██████████| 59/59 [00:21<00:00,  2.69it/s]\n",
      "Test epoch: 9: 100%|██████████| 34/34 [00:04<00:00,  7.90it/s]\n"
     ]
    },
    {
     "name": "stdout",
     "output_type": "stream",
     "text": [
      "Epoch 9/60 | Train Loss: 0.2000 | Test Loss: 0.1879 | Accuracy: 94.51% | GPU Memory (Alloc/Reserved): 0.28/1.844 GB\n"
     ]
    },
    {
     "name": "stderr",
     "output_type": "stream",
     "text": [
      "Train epoch: 10: 100%|██████████| 59/59 [00:22<00:00,  2.67it/s]\n",
      "Test epoch: 10: 100%|██████████| 34/34 [00:04<00:00,  7.60it/s]\n"
     ]
    },
    {
     "name": "stdout",
     "output_type": "stream",
     "text": [
      "Epoch 10/60 | Train Loss: 0.1942 | Test Loss: 0.1892 | Accuracy: 94.47% | GPU Memory (Alloc/Reserved): 0.28/1.844 GB\n"
     ]
    },
    {
     "name": "stderr",
     "output_type": "stream",
     "text": [
      "Train epoch: 11: 100%|██████████| 59/59 [00:22<00:00,  2.63it/s]\n",
      "Test epoch: 11: 100%|██████████| 34/34 [00:04<00:00,  7.62it/s]\n"
     ]
    },
    {
     "name": "stdout",
     "output_type": "stream",
     "text": [
      "Epoch 11/60 | Train Loss: 0.1962 | Test Loss: 0.1884 | Accuracy: 94.79% | GPU Memory (Alloc/Reserved): 0.28/1.844 GB\n"
     ]
    },
    {
     "name": "stderr",
     "output_type": "stream",
     "text": [
      "Train epoch: 12: 100%|██████████| 59/59 [00:21<00:00,  2.68it/s]\n",
      "Test epoch: 12: 100%|██████████| 34/34 [00:04<00:00,  7.73it/s]\n"
     ]
    },
    {
     "name": "stdout",
     "output_type": "stream",
     "text": [
      "Epoch 12/60 | Train Loss: 0.1918 | Test Loss: 0.1837 | Accuracy: 94.89% | GPU Memory (Alloc/Reserved): 0.28/1.844 GB\n"
     ]
    },
    {
     "name": "stderr",
     "output_type": "stream",
     "text": [
      "Train epoch: 13: 100%|██████████| 59/59 [00:22<00:00,  2.67it/s]\n",
      "Test epoch: 13: 100%|██████████| 34/34 [00:04<00:00,  7.76it/s]\n"
     ]
    },
    {
     "name": "stdout",
     "output_type": "stream",
     "text": [
      "Epoch 13/60 | Train Loss: 0.1854 | Test Loss: 0.1857 | Accuracy: 94.98% | GPU Memory (Alloc/Reserved): 0.28/1.844 GB\n"
     ]
    },
    {
     "name": "stderr",
     "output_type": "stream",
     "text": [
      "Train epoch: 14: 100%|██████████| 59/59 [00:22<00:00,  2.66it/s]\n",
      "Test epoch: 14: 100%|██████████| 34/34 [00:04<00:00,  7.77it/s]\n"
     ]
    },
    {
     "name": "stdout",
     "output_type": "stream",
     "text": [
      "Epoch 14/60 | Train Loss: 0.1839 | Test Loss: 0.1849 | Accuracy: 95.03% | GPU Memory (Alloc/Reserved): 0.28/1.844 GB\n"
     ]
    },
    {
     "name": "stderr",
     "output_type": "stream",
     "text": [
      "Train epoch: 15: 100%|██████████| 59/59 [00:22<00:00,  2.64it/s]\n",
      "Test epoch: 15: 100%|██████████| 34/34 [00:04<00:00,  7.84it/s]\n"
     ]
    },
    {
     "name": "stdout",
     "output_type": "stream",
     "text": [
      "Epoch 15/60 | Train Loss: 0.1746 | Test Loss: 0.1931 | Accuracy: 95.03% | GPU Memory (Alloc/Reserved): 0.28/1.844 GB\n"
     ]
    },
    {
     "name": "stderr",
     "output_type": "stream",
     "text": [
      "Train epoch: 16: 100%|██████████| 59/59 [00:22<00:00,  2.66it/s]\n",
      "Test epoch: 16: 100%|██████████| 34/34 [00:04<00:00,  7.84it/s]\n"
     ]
    },
    {
     "name": "stdout",
     "output_type": "stream",
     "text": [
      "Epoch 16/60 | Train Loss: 0.1941 | Test Loss: 0.1854 | Accuracy: 95.03% | GPU Memory (Alloc/Reserved): 0.28/1.844 GB\n"
     ]
    },
    {
     "name": "stderr",
     "output_type": "stream",
     "text": [
      "Train epoch: 17: 100%|██████████| 59/59 [00:22<00:00,  2.67it/s]\n",
      "Test epoch: 17: 100%|██████████| 34/34 [00:04<00:00,  7.86it/s]\n"
     ]
    },
    {
     "name": "stdout",
     "output_type": "stream",
     "text": [
      "Epoch 17/60 | Train Loss: 0.1819 | Test Loss: 0.1905 | Accuracy: 95.03% | GPU Memory (Alloc/Reserved): 0.28/1.844 GB\n"
     ]
    },
    {
     "name": "stderr",
     "output_type": "stream",
     "text": [
      "Train epoch: 18: 100%|██████████| 59/59 [00:22<00:00,  2.67it/s]\n",
      "Test epoch: 18: 100%|██████████| 34/34 [00:04<00:00,  7.77it/s]\n"
     ]
    },
    {
     "name": "stdout",
     "output_type": "stream",
     "text": [
      "Epoch 18/60 | Train Loss: 0.1762 | Test Loss: 0.1821 | Accuracy: 95.12% | GPU Memory (Alloc/Reserved): 0.28/1.844 GB\n"
     ]
    },
    {
     "name": "stderr",
     "output_type": "stream",
     "text": [
      "Train epoch: 19: 100%|██████████| 59/59 [00:21<00:00,  2.68it/s]\n",
      "Test epoch: 19: 100%|██████████| 34/34 [00:04<00:00,  7.68it/s]\n"
     ]
    },
    {
     "name": "stdout",
     "output_type": "stream",
     "text": [
      "Epoch 19/60 | Train Loss: 0.1721 | Test Loss: 0.1882 | Accuracy: 94.51% | GPU Memory (Alloc/Reserved): 0.28/1.844 GB\n"
     ]
    },
    {
     "name": "stderr",
     "output_type": "stream",
     "text": [
      "Train epoch: 20: 100%|██████████| 59/59 [00:22<00:00,  2.65it/s]\n",
      "Test epoch: 20: 100%|██████████| 34/34 [00:04<00:00,  7.73it/s]\n"
     ]
    },
    {
     "name": "stdout",
     "output_type": "stream",
     "text": [
      "Epoch 20/60 | Train Loss: 0.1790 | Test Loss: 0.1957 | Accuracy: 94.79% | GPU Memory (Alloc/Reserved): 0.28/1.844 GB\n"
     ]
    },
    {
     "name": "stderr",
     "output_type": "stream",
     "text": [
      "Train epoch: 21: 100%|██████████| 59/59 [00:22<00:00,  2.66it/s]\n",
      "Test epoch: 21: 100%|██████████| 34/34 [00:04<00:00,  7.81it/s]\n"
     ]
    },
    {
     "name": "stdout",
     "output_type": "stream",
     "text": [
      "Epoch 21/60 | Train Loss: 0.1675 | Test Loss: 0.1965 | Accuracy: 94.84% | GPU Memory (Alloc/Reserved): 0.28/1.844 GB\n"
     ]
    },
    {
     "name": "stderr",
     "output_type": "stream",
     "text": [
      "Train epoch: 22: 100%|██████████| 59/59 [00:22<00:00,  2.66it/s]\n",
      "Test epoch: 22: 100%|██████████| 34/34 [00:04<00:00,  7.83it/s]\n"
     ]
    },
    {
     "name": "stdout",
     "output_type": "stream",
     "text": [
      "Epoch 22/60 | Train Loss: 0.1734 | Test Loss: 0.1862 | Accuracy: 95.03% | GPU Memory (Alloc/Reserved): 0.28/1.844 GB\n"
     ]
    },
    {
     "name": "stderr",
     "output_type": "stream",
     "text": [
      "Train epoch: 23: 100%|██████████| 59/59 [00:22<00:00,  2.67it/s]\n",
      "Test epoch: 23: 100%|██████████| 34/34 [00:04<00:00,  7.78it/s]\n"
     ]
    },
    {
     "name": "stdout",
     "output_type": "stream",
     "text": [
      "Epoch 23/60 | Train Loss: 0.1734 | Test Loss: 0.2129 | Accuracy: 95.03% | GPU Memory (Alloc/Reserved): 0.28/1.844 GB\n"
     ]
    },
    {
     "name": "stderr",
     "output_type": "stream",
     "text": [
      "Train epoch: 24: 100%|██████████| 59/59 [00:22<00:00,  2.61it/s]\n",
      "Test epoch: 24: 100%|██████████| 34/34 [00:04<00:00,  7.65it/s]\n"
     ]
    },
    {
     "name": "stdout",
     "output_type": "stream",
     "text": [
      "Epoch 24/60 | Train Loss: 0.1651 | Test Loss: 0.1853 | Accuracy: 94.84% | GPU Memory (Alloc/Reserved): 0.28/1.844 GB\n"
     ]
    },
    {
     "name": "stderr",
     "output_type": "stream",
     "text": [
      "Train epoch: 25: 100%|██████████| 59/59 [00:22<00:00,  2.63it/s]\n",
      "Test epoch: 25: 100%|██████████| 34/34 [00:04<00:00,  7.74it/s]\n"
     ]
    },
    {
     "name": "stdout",
     "output_type": "stream",
     "text": [
      "Epoch 25/60 | Train Loss: 0.1686 | Test Loss: 0.1910 | Accuracy: 94.84% | GPU Memory (Alloc/Reserved): 0.28/1.844 GB\n"
     ]
    },
    {
     "name": "stderr",
     "output_type": "stream",
     "text": [
      "Train epoch: 26: 100%|██████████| 59/59 [00:22<00:00,  2.65it/s]\n",
      "Test epoch: 26: 100%|██████████| 34/34 [00:04<00:00,  7.45it/s]\n"
     ]
    },
    {
     "name": "stdout",
     "output_type": "stream",
     "text": [
      "Epoch 26/60 | Train Loss: 0.1644 | Test Loss: 0.1923 | Accuracy: 95.03% | GPU Memory (Alloc/Reserved): 0.28/1.844 GB\n"
     ]
    },
    {
     "name": "stderr",
     "output_type": "stream",
     "text": [
      "Train epoch: 27: 100%|██████████| 59/59 [00:22<00:00,  2.60it/s]\n",
      "Test epoch: 27: 100%|██████████| 34/34 [00:04<00:00,  7.50it/s]\n"
     ]
    },
    {
     "name": "stdout",
     "output_type": "stream",
     "text": [
      "Epoch 27/60 | Train Loss: 0.1588 | Test Loss: 0.1931 | Accuracy: 94.93% | GPU Memory (Alloc/Reserved): 0.28/1.844 GB\n"
     ]
    },
    {
     "name": "stderr",
     "output_type": "stream",
     "text": [
      "Train epoch: 28: 100%|██████████| 59/59 [00:22<00:00,  2.59it/s]\n",
      "Test epoch: 28: 100%|██████████| 34/34 [00:04<00:00,  7.61it/s]\n"
     ]
    },
    {
     "name": "stdout",
     "output_type": "stream",
     "text": [
      "Epoch 28/60 | Train Loss: 0.1567 | Test Loss: 0.1886 | Accuracy: 95.08% | GPU Memory (Alloc/Reserved): 0.28/1.844 GB\n"
     ]
    },
    {
     "name": "stderr",
     "output_type": "stream",
     "text": [
      "Train epoch: 29: 100%|██████████| 59/59 [00:22<00:00,  2.57it/s]\n",
      "Test epoch: 29: 100%|██████████| 34/34 [00:04<00:00,  7.58it/s]\n"
     ]
    },
    {
     "name": "stdout",
     "output_type": "stream",
     "text": [
      "Epoch 29/60 | Train Loss: 0.1645 | Test Loss: 0.1858 | Accuracy: 95.12% | GPU Memory (Alloc/Reserved): 0.28/1.844 GB\n"
     ]
    },
    {
     "name": "stderr",
     "output_type": "stream",
     "text": [
      "Train epoch: 30: 100%|██████████| 59/59 [00:22<00:00,  2.64it/s]\n",
      "Test epoch: 30: 100%|██████████| 34/34 [00:04<00:00,  7.52it/s]\n"
     ]
    },
    {
     "name": "stdout",
     "output_type": "stream",
     "text": [
      "Epoch 30/60 | Train Loss: 0.1550 | Test Loss: 0.1962 | Accuracy: 94.89% | GPU Memory (Alloc/Reserved): 0.28/1.844 GB\n"
     ]
    },
    {
     "name": "stderr",
     "output_type": "stream",
     "text": [
      "Train epoch: 31: 100%|██████████| 59/59 [00:22<00:00,  2.61it/s]\n",
      "Test epoch: 31: 100%|██████████| 34/34 [00:04<00:00,  7.51it/s]\n"
     ]
    },
    {
     "name": "stdout",
     "output_type": "stream",
     "text": [
      "Epoch 31/60 | Train Loss: 0.1608 | Test Loss: 0.1913 | Accuracy: 94.93% | GPU Memory (Alloc/Reserved): 0.28/1.844 GB\n"
     ]
    },
    {
     "name": "stderr",
     "output_type": "stream",
     "text": [
      "Train epoch: 32: 100%|██████████| 59/59 [00:22<00:00,  2.62it/s]\n",
      "Test epoch: 32: 100%|██████████| 34/34 [00:04<00:00,  7.49it/s]\n"
     ]
    },
    {
     "name": "stdout",
     "output_type": "stream",
     "text": [
      "Epoch 32/60 | Train Loss: 0.1549 | Test Loss: 0.1937 | Accuracy: 95.17% | GPU Memory (Alloc/Reserved): 0.28/1.844 GB\n"
     ]
    },
    {
     "name": "stderr",
     "output_type": "stream",
     "text": [
      "Train epoch: 33: 100%|██████████| 59/59 [00:22<00:00,  2.60it/s]\n",
      "Test epoch: 33: 100%|██████████| 34/34 [00:04<00:00,  7.44it/s]\n"
     ]
    },
    {
     "name": "stdout",
     "output_type": "stream",
     "text": [
      "Epoch 33/60 | Train Loss: 0.1648 | Test Loss: 0.1971 | Accuracy: 94.93% | GPU Memory (Alloc/Reserved): 0.28/1.844 GB\n"
     ]
    },
    {
     "name": "stderr",
     "output_type": "stream",
     "text": [
      "Train epoch: 34: 100%|██████████| 59/59 [00:22<00:00,  2.63it/s]\n",
      "Test epoch: 34: 100%|██████████| 34/34 [00:04<00:00,  7.68it/s]\n"
     ]
    },
    {
     "name": "stdout",
     "output_type": "stream",
     "text": [
      "Epoch 34/60 | Train Loss: 0.1494 | Test Loss: 0.1981 | Accuracy: 95.17% | GPU Memory (Alloc/Reserved): 0.28/1.844 GB\n"
     ]
    },
    {
     "name": "stderr",
     "output_type": "stream",
     "text": [
      "Train epoch: 35: 100%|██████████| 59/59 [00:22<00:00,  2.60it/s]\n",
      "Test epoch: 35: 100%|██████████| 34/34 [00:04<00:00,  7.44it/s]\n"
     ]
    },
    {
     "name": "stdout",
     "output_type": "stream",
     "text": [
      "Epoch 35/60 | Train Loss: 0.1570 | Test Loss: 0.1915 | Accuracy: 95.03% | GPU Memory (Alloc/Reserved): 0.28/1.844 GB\n"
     ]
    },
    {
     "name": "stderr",
     "output_type": "stream",
     "text": [
      "Train epoch: 36: 100%|██████████| 59/59 [00:22<00:00,  2.62it/s]\n",
      "Test epoch: 36: 100%|██████████| 34/34 [00:04<00:00,  7.45it/s]\n"
     ]
    },
    {
     "name": "stdout",
     "output_type": "stream",
     "text": [
      "Epoch 36/60 | Train Loss: 0.1559 | Test Loss: 0.1972 | Accuracy: 95.08% | GPU Memory (Alloc/Reserved): 0.28/1.844 GB\n"
     ]
    },
    {
     "name": "stderr",
     "output_type": "stream",
     "text": [
      "Train epoch: 37: 100%|██████████| 59/59 [00:22<00:00,  2.61it/s]\n",
      "Test epoch: 37: 100%|██████████| 34/34 [00:04<00:00,  7.59it/s]\n"
     ]
    },
    {
     "name": "stdout",
     "output_type": "stream",
     "text": [
      "Epoch 37/60 | Train Loss: 0.1342 | Test Loss: 0.1891 | Accuracy: 95.03% | GPU Memory (Alloc/Reserved): 0.28/1.844 GB\n"
     ]
    },
    {
     "name": "stderr",
     "output_type": "stream",
     "text": [
      "Train epoch: 38: 100%|██████████| 59/59 [00:22<00:00,  2.59it/s]\n",
      "Test epoch: 38: 100%|██████████| 34/34 [00:04<00:00,  7.59it/s]\n"
     ]
    },
    {
     "name": "stdout",
     "output_type": "stream",
     "text": [
      "Epoch 38/60 | Train Loss: 0.1466 | Test Loss: 0.1929 | Accuracy: 94.98% | GPU Memory (Alloc/Reserved): 0.28/1.844 GB\n"
     ]
    },
    {
     "name": "stderr",
     "output_type": "stream",
     "text": [
      "Train epoch: 39: 100%|██████████| 59/59 [00:22<00:00,  2.63it/s]\n",
      "Test epoch: 39: 100%|██████████| 34/34 [00:04<00:00,  7.47it/s]\n"
     ]
    },
    {
     "name": "stdout",
     "output_type": "stream",
     "text": [
      "Epoch 39/60 | Train Loss: 0.1485 | Test Loss: 0.1927 | Accuracy: 95.08% | GPU Memory (Alloc/Reserved): 0.28/1.844 GB\n"
     ]
    },
    {
     "name": "stderr",
     "output_type": "stream",
     "text": [
      "Train epoch: 40: 100%|██████████| 59/59 [00:22<00:00,  2.63it/s]\n",
      "Test epoch: 40: 100%|██████████| 34/34 [00:04<00:00,  7.52it/s]\n"
     ]
    },
    {
     "name": "stdout",
     "output_type": "stream",
     "text": [
      "Epoch 40/60 | Train Loss: 0.1528 | Test Loss: 0.1952 | Accuracy: 94.98% | GPU Memory (Alloc/Reserved): 0.28/1.844 GB\n"
     ]
    },
    {
     "name": "stderr",
     "output_type": "stream",
     "text": [
      "Train epoch: 41: 100%|██████████| 59/59 [00:22<00:00,  2.64it/s]\n",
      "Test epoch: 41: 100%|██████████| 34/34 [00:04<00:00,  7.54it/s]\n"
     ]
    },
    {
     "name": "stdout",
     "output_type": "stream",
     "text": [
      "Epoch 41/60 | Train Loss: 0.1497 | Test Loss: 0.1873 | Accuracy: 94.89% | GPU Memory (Alloc/Reserved): 0.28/1.844 GB\n"
     ]
    },
    {
     "name": "stderr",
     "output_type": "stream",
     "text": [
      "Train epoch: 42: 100%|██████████| 59/59 [00:22<00:00,  2.61it/s]\n",
      "Test epoch: 42: 100%|██████████| 34/34 [00:04<00:00,  7.63it/s]\n"
     ]
    },
    {
     "name": "stdout",
     "output_type": "stream",
     "text": [
      "Epoch 42/60 | Train Loss: 0.1425 | Test Loss: 0.1982 | Accuracy: 95.17% | GPU Memory (Alloc/Reserved): 0.28/1.844 GB\n"
     ]
    },
    {
     "name": "stderr",
     "output_type": "stream",
     "text": [
      "Train epoch: 43: 100%|██████████| 59/59 [00:22<00:00,  2.63it/s]\n",
      "Test epoch: 43: 100%|██████████| 34/34 [00:04<00:00,  7.49it/s]\n"
     ]
    },
    {
     "name": "stdout",
     "output_type": "stream",
     "text": [
      "Epoch 43/60 | Train Loss: 0.1363 | Test Loss: 0.1826 | Accuracy: 95.26% | GPU Memory (Alloc/Reserved): 0.28/1.844 GB\n"
     ]
    },
    {
     "name": "stderr",
     "output_type": "stream",
     "text": [
      "Train epoch: 44: 100%|██████████| 59/59 [00:22<00:00,  2.62it/s]\n",
      "Test epoch: 44: 100%|██████████| 34/34 [00:04<00:00,  7.51it/s]\n"
     ]
    },
    {
     "name": "stdout",
     "output_type": "stream",
     "text": [
      "Epoch 44/60 | Train Loss: 0.1533 | Test Loss: 0.2032 | Accuracy: 94.89% | GPU Memory (Alloc/Reserved): 0.28/1.844 GB\n"
     ]
    },
    {
     "name": "stderr",
     "output_type": "stream",
     "text": [
      "Train epoch: 45: 100%|██████████| 59/59 [00:22<00:00,  2.62it/s]\n",
      "Test epoch: 45: 100%|██████████| 34/34 [00:04<00:00,  7.66it/s]\n"
     ]
    },
    {
     "name": "stdout",
     "output_type": "stream",
     "text": [
      "Epoch 45/60 | Train Loss: 0.1327 | Test Loss: 0.1898 | Accuracy: 94.84% | GPU Memory (Alloc/Reserved): 0.28/1.844 GB\n"
     ]
    },
    {
     "name": "stderr",
     "output_type": "stream",
     "text": [
      "Train epoch: 46: 100%|██████████| 59/59 [00:22<00:00,  2.61it/s]\n",
      "Test epoch: 46: 100%|██████████| 34/34 [00:04<00:00,  7.55it/s]\n"
     ]
    },
    {
     "name": "stdout",
     "output_type": "stream",
     "text": [
      "Epoch 46/60 | Train Loss: 0.1428 | Test Loss: 0.2066 | Accuracy: 95.22% | GPU Memory (Alloc/Reserved): 0.28/1.844 GB\n"
     ]
    },
    {
     "name": "stderr",
     "output_type": "stream",
     "text": [
      "Train epoch: 47: 100%|██████████| 59/59 [00:22<00:00,  2.57it/s]\n",
      "Test epoch: 47: 100%|██████████| 34/34 [00:04<00:00,  7.33it/s]\n"
     ]
    },
    {
     "name": "stdout",
     "output_type": "stream",
     "text": [
      "Epoch 47/60 | Train Loss: 0.1478 | Test Loss: 0.2022 | Accuracy: 95.26% | GPU Memory (Alloc/Reserved): 0.28/1.844 GB\n"
     ]
    },
    {
     "name": "stderr",
     "output_type": "stream",
     "text": [
      "Train epoch: 48: 100%|██████████| 59/59 [00:22<00:00,  2.61it/s]\n",
      "Test epoch: 48: 100%|██████████| 34/34 [00:04<00:00,  7.47it/s]\n"
     ]
    },
    {
     "name": "stdout",
     "output_type": "stream",
     "text": [
      "Epoch 48/60 | Train Loss: 0.1390 | Test Loss: 0.1888 | Accuracy: 95.17% | GPU Memory (Alloc/Reserved): 0.28/1.844 GB\n"
     ]
    },
    {
     "name": "stderr",
     "output_type": "stream",
     "text": [
      "Train epoch: 49: 100%|██████████| 59/59 [00:22<00:00,  2.62it/s]\n",
      "Test epoch: 49: 100%|██████████| 34/34 [00:04<00:00,  7.66it/s]\n"
     ]
    },
    {
     "name": "stdout",
     "output_type": "stream",
     "text": [
      "Epoch 49/60 | Train Loss: 0.1301 | Test Loss: 0.1993 | Accuracy: 95.36% | GPU Memory (Alloc/Reserved): 0.28/1.844 GB\n"
     ]
    },
    {
     "name": "stderr",
     "output_type": "stream",
     "text": [
      "Train epoch: 50: 100%|██████████| 59/59 [00:22<00:00,  2.64it/s]\n",
      "Test epoch: 50: 100%|██████████| 34/34 [00:04<00:00,  7.64it/s]\n"
     ]
    },
    {
     "name": "stdout",
     "output_type": "stream",
     "text": [
      "Epoch 50/60 | Train Loss: 0.1331 | Test Loss: 0.2070 | Accuracy: 95.12% | GPU Memory (Alloc/Reserved): 0.28/1.844 GB\n"
     ]
    },
    {
     "name": "stderr",
     "output_type": "stream",
     "text": [
      "Train epoch: 51: 100%|██████████| 59/59 [00:22<00:00,  2.63it/s]\n",
      "Test epoch: 51: 100%|██████████| 34/34 [00:04<00:00,  7.64it/s]\n"
     ]
    },
    {
     "name": "stdout",
     "output_type": "stream",
     "text": [
      "Epoch 51/60 | Train Loss: 0.1303 | Test Loss: 0.2261 | Accuracy: 94.98% | GPU Memory (Alloc/Reserved): 0.28/1.844 GB\n"
     ]
    },
    {
     "name": "stderr",
     "output_type": "stream",
     "text": [
      "Train epoch: 52: 100%|██████████| 59/59 [00:22<00:00,  2.59it/s]\n",
      "Test epoch: 52: 100%|██████████| 34/34 [00:04<00:00,  7.54it/s]\n"
     ]
    },
    {
     "name": "stdout",
     "output_type": "stream",
     "text": [
      "Epoch 52/60 | Train Loss: 0.1330 | Test Loss: 0.2031 | Accuracy: 94.84% | GPU Memory (Alloc/Reserved): 0.28/1.844 GB\n"
     ]
    },
    {
     "name": "stderr",
     "output_type": "stream",
     "text": [
      "Train epoch: 53: 100%|██████████| 59/59 [00:22<00:00,  2.59it/s]\n",
      "Test epoch: 53: 100%|██████████| 34/34 [00:04<00:00,  7.61it/s]\n"
     ]
    },
    {
     "name": "stdout",
     "output_type": "stream",
     "text": [
      "Epoch 53/60 | Train Loss: 0.1379 | Test Loss: 0.2153 | Accuracy: 95.17% | GPU Memory (Alloc/Reserved): 0.28/1.844 GB\n"
     ]
    },
    {
     "name": "stderr",
     "output_type": "stream",
     "text": [
      "Train epoch: 54: 100%|██████████| 59/59 [00:22<00:00,  2.62it/s]\n",
      "Test epoch: 54: 100%|██████████| 34/34 [00:04<00:00,  7.58it/s]\n"
     ]
    },
    {
     "name": "stdout",
     "output_type": "stream",
     "text": [
      "Epoch 54/60 | Train Loss: 0.1326 | Test Loss: 0.1981 | Accuracy: 95.03% | GPU Memory (Alloc/Reserved): 0.28/1.844 GB\n"
     ]
    },
    {
     "name": "stderr",
     "output_type": "stream",
     "text": [
      "Train epoch: 55: 100%|██████████| 59/59 [00:22<00:00,  2.62it/s]\n",
      "Test epoch: 55: 100%|██████████| 34/34 [00:04<00:00,  7.52it/s]\n"
     ]
    },
    {
     "name": "stdout",
     "output_type": "stream",
     "text": [
      "Epoch 55/60 | Train Loss: 0.1343 | Test Loss: 0.2008 | Accuracy: 95.08% | GPU Memory (Alloc/Reserved): 0.28/1.844 GB\n"
     ]
    },
    {
     "name": "stderr",
     "output_type": "stream",
     "text": [
      "Train epoch: 56: 100%|██████████| 59/59 [00:24<00:00,  2.40it/s]\n",
      "Test epoch: 56: 100%|██████████| 34/34 [00:04<00:00,  7.23it/s]\n"
     ]
    },
    {
     "name": "stdout",
     "output_type": "stream",
     "text": [
      "Epoch 56/60 | Train Loss: 0.1363 | Test Loss: 0.1952 | Accuracy: 95.26% | GPU Memory (Alloc/Reserved): 0.28/1.844 GB\n"
     ]
    },
    {
     "name": "stderr",
     "output_type": "stream",
     "text": [
      "Train epoch: 57: 100%|██████████| 59/59 [00:23<00:00,  2.56it/s]\n",
      "Test epoch: 57: 100%|██████████| 34/34 [00:04<00:00,  7.56it/s]\n"
     ]
    },
    {
     "name": "stdout",
     "output_type": "stream",
     "text": [
      "Epoch 57/60 | Train Loss: 0.1333 | Test Loss: 0.1940 | Accuracy: 95.26% | GPU Memory (Alloc/Reserved): 0.28/1.844 GB\n"
     ]
    },
    {
     "name": "stderr",
     "output_type": "stream",
     "text": [
      "Train epoch: 58: 100%|██████████| 59/59 [00:22<00:00,  2.61it/s]\n",
      "Test epoch: 58: 100%|██████████| 34/34 [00:04<00:00,  7.76it/s]\n"
     ]
    },
    {
     "name": "stdout",
     "output_type": "stream",
     "text": [
      "Epoch 58/60 | Train Loss: 0.1324 | Test Loss: 0.1982 | Accuracy: 95.31% | GPU Memory (Alloc/Reserved): 0.28/1.844 GB\n"
     ]
    },
    {
     "name": "stderr",
     "output_type": "stream",
     "text": [
      "Train epoch: 59: 100%|██████████| 59/59 [00:22<00:00,  2.65it/s]\n",
      "Test epoch: 59: 100%|██████████| 34/34 [00:04<00:00,  7.22it/s]\n"
     ]
    },
    {
     "name": "stdout",
     "output_type": "stream",
     "text": [
      "Epoch 59/60 | Train Loss: 0.1269 | Test Loss: 0.2024 | Accuracy: 95.40% | GPU Memory (Alloc/Reserved): 0.28/1.844 GB\n"
     ]
    },
    {
     "name": "stderr",
     "output_type": "stream",
     "text": [
      "Train epoch: 60: 100%|██████████| 59/59 [00:22<00:00,  2.59it/s]\n",
      "Test epoch: 60: 100%|██████████| 34/34 [00:04<00:00,  7.76it/s]\n"
     ]
    },
    {
     "name": "stdout",
     "output_type": "stream",
     "text": [
      "Epoch 60/60 | Train Loss: 0.1353 | Test Loss: 0.2058 | Accuracy: 95.03% | GPU Memory (Alloc/Reserved): 0.28/1.844 GB\n",
      "Phase done!\n"
     ]
    },
    {
     "data": {
      "text/plain": [
       "<Figure size 1000x600 with 1 Axes>"
      ],
      "image/png": "[encoded data removed]"
     },
     "metadata": {},
     "output_type": "display_data"
    },
    {
     "data": {
      "text/plain": [
       "<Figure size 1000x600 with 1 Axes>"
      ],
      "image/png": "[encoded data removed]"
     },
     "metadata": {},
     "output_type": "display_data"
    },
    {
     "name": "stdout",
     "output_type": "stream",
     "text": [
      "Creating new historical data...\n",
      "Historical data saved successfully!\n"
     ]
    }
   ],
   "execution_count": 15
  },
  {
   "metadata": {
    "ExecuteTime": {
     "end_time": "2025-08-14T15:46:18.032080Z",
     "start_time": "2025-08-14T15:46:18.018990Z"
    }
   },
   "cell_type": "code",
   "source": [
    "def incremental_training(model, sessions, criterion, train_dataloader, test_dataloader, device):\n",
    "\n",
    "    full_history = []\n",
    "    session_best_accuracies = []\n",
    "    best_overall_accuracy = 0.0\n",
    "\n",
    "    for i, session in enumerate(sessions):\n",
    "        print(f\"\\n--- Starting Training Session {i+1}/{len(sessions)} ---\")\n",
    "\n",
    "        epochs = session['epochs']\n",
    "        lr = session['lr']\n",
    "        layer_to_unfreeze = session.get('unfreeze_layer', 0)\n",
    "\n",
    "        if layer_to_unfreeze > 0:\n",
    "            model.unfreeze_feature_layer(layer_to_unfreeze)\n",
    "\n",
    "        optimizer = optim.AdamW(filter(lambda p: p.requires_grad, model.parameters()), lr=lr, weight_decay=1e-2)\n",
    "\n",
    "        session_history, best_overall_accuracy = train_and_test(\n",
    "            model, optimizer, criterion, train_dataloader, test_dataloader, epochs, device, best_accuracy=best_overall_accuracy\n",
    "        )\n",
    "\n",
    "        full_history.append(session_history)\n",
    "\n",
    "        if session_history['accuracy']:\n",
    "            best_in_session = max(session_history['accuracy'])\n",
    "            session_best_accuracies.append(best_in_session)\n",
    "\n",
    "    return full_history, session_best_accuracies"
   ],
   "id": "1467cef09840c64b",
   "outputs": [],
   "execution_count": 273
  },
  {
   "metadata": {},
   "cell_type": "code",
   "outputs": [],
   "execution_count": null,
   "source": [
    "import torch.optim as optim\n",
    "\n",
    "hardware = torch.device('cuda' if  torch.cuda.is_available() else 'cpu')\n",
    "classes = 6\n",
    "learning_rate = 1e-3\n",
    "weight_decay = 1e-2\n",
    "num_epochs = 32\n",
    "criterion = nn.CrossEntropyLoss()\n",
    "\n",
    "model = PestClassifierMobileNetV2(num_classes=classes).to(hardware)\n",
    "model.load_state_dict(torch.load('models/v2/Basic/SMobileNetV2_rice_pest_classificationV8.pt'))\n",
    "model.unfreeze_last_block()\n",
    "\n",
    "training_sessions = [\n",
    "    {'epochs': 15, 'lr': 1e-3, 'unfreeze_layer': 0},\n",
    "    {'epochs': 30, 'lr': 1e-4, 'unfreeze_layer': 1},\n",
    "    {'epochs': 45, 'lr': 1e-4, 'unfreeze_layer': 2}\n",
    "]\n",
    "\n",
    "result, accuracies = incremental_training(model=model, sessions=training_sessions, criterion=criterion, train_dataloader=train_loader, test_dataloader=test_loader, device=hardware)\n",
    "\n",
    "plot_training_result(result)\n",
    "plot_accuracy(result)\n",
    "save_historical_data(result)"
   ],
   "id": "fd1ee3a6a8b445e1"
  },
  {
   "metadata": {
    "ExecuteTime": {
     "end_time": "2025-08-14T07:15:34.499960Z",
     "start_time": "2025-08-14T07:15:34.496483Z"
    }
   },
   "cell_type": "code",
   "source": [
    "# mobilenet_v2 = models.mobilenet_v2(weights='MobileNet_V2_Weights.IMAGENET1K_V2')\n",
    "#\n",
    "# for num in range(len(mobilenet_v2.features) - 1, -1, -1):\n",
    "#     print(num)\n",
    "\n",
    "my_array = [1, 2, 3, 4, 5]\n",
    "\n",
    "# print(my_array[-5])\n",
    "\n",
    "for num in range(1, my_array.__len__() + 1):\n",
    "    print(num)"
   ],
   "id": "f0d4ce6fa4b92ee4",
   "outputs": [
    {
     "name": "stdout",
     "output_type": "stream",
     "text": [
      "1\n",
      "2\n",
      "3\n"
     ]
    }
   ],
   "execution_count": 261
  },
  {
   "metadata": {
    "ExecuteTime": {
     "end_time": "2025-08-14T06:24:19.688649Z",
     "start_time": "2025-08-14T06:24:19.672123Z"
    }
   },
   "cell_type": "code",
   "source": [
    "from PIL import Image\n",
    "import torch.nn.functional as F\n",
    "\n",
    "def predict_single_image(model, image_path, classes, transform, device):\n",
    "\n",
    "    model.to(device)\n",
    "\n",
    "    model.eval()\n",
    "\n",
    "    image = Image.open(image_path).convert('RGB')\n",
    "\n",
    "    image_np = np.array(image)\n",
    "\n",
    "    augmented = transform(image=image_np)\n",
    "\n",
    "    image_tensor = augmented['image'].unsqueeze(0).to(device)\n",
    "\n",
    "    with torch.no_grad():\n",
    "\n",
    "        result = model(image_tensor)\n",
    "\n",
    "        probability = F.softmax(result, dim=1)\n",
    "\n",
    "        confidence, predicted = torch.max(probability, 1)\n",
    "\n",
    "        predicted_class = classes[predicted.item()]\n",
    "        confidence_score = confidence.item()\n",
    "\n",
    "    return predicted_class, confidence_score, probability.squeeze().cpu().numpy()\n"
   ],
   "id": "340b828c2f1ea908",
   "outputs": [],
   "execution_count": 75
  },
  {
   "metadata": {
    "ExecuteTime": {
     "end_time": "2025-08-14T03:55:32.291720Z",
     "start_time": "2025-08-14T03:55:32.284687Z"
    }
   },
   "cell_type": "code",
   "source": [
    "from sklearn.metrics import classification_report, confusion_matrix, accuracy_score\n",
    "\n",
    "def eval_metrics(model, testLoader, classes_names, device):\n",
    "\n",
    "    model.to(device)\n",
    "    model.eval()\n",
    "\n",
    "    total_predictions = []\n",
    "    true_labels = []\n",
    "\n",
    "    with torch.no_grad():\n",
    "\n",
    "        for input, labels in tqdm(testLoader):\n",
    "            input, labels = input.to(device), labels.to(device)\n",
    "\n",
    "            output = model(input)\n",
    "            _, predicted = torch.max(output, 1)\n",
    "\n",
    "            total_predictions.extend(predicted.cpu().numpy())\n",
    "            true_labels.extend(labels.cpu().numpy())\n",
    "\n",
    "\n",
    "    y_true = np.array(true_labels)\n",
    "    y_pred = np.array(total_predictions)\n",
    "\n",
    "    print('Classification Report')\n",
    "    report = classification_report(y_true, y_pred, target_names=classes_names)\n",
    "\n",
    "    print(report)\n",
    "\n",
    "    print(f\"\\nAccuracy: {accuracy_score(y_true, y_pred)*100:.2f}%\\n\")\n",
    "\n",
    "    print('Confusion Matrix')\n",
    "\n",
    "    matrix = confusion_matrix(y_true, y_pred)\n",
    "\n",
    "    cm_df = pd.DataFrame(matrix, index=classes_names, columns=classes_names)\n",
    "\n",
    "    plt.figure(figsize=(10, 8))\n",
    "    sns.heatmap(cm_df, annot=True, fmt='g', cmap='Blues')\n",
    "    plt.title('Confusion Matrix')\n",
    "    plt.ylabel('Actual pests')\n",
    "    plt.xlabel('Predicted pests')\n",
    "    plt.show()\n",
    "\n",
    "    return y_true, y_pred\n",
    "\n",
    "def save_evalution_result(total_predictions, true_labels):\n",
    "\n",
    "    data = pd.DataFrame({\n",
    "        'True Labels': true_labels,\n",
    "        'Predicted Labels': total_predictions\n",
    "    })\n",
    "\n",
    "    data.to_csv('evalution_result.csv', index=False)\n"
   ],
   "id": "3fb753e351ad7371",
   "outputs": [],
   "execution_count": 25
  },
  {
   "metadata": {
    "ExecuteTime": {
     "end_time": "2025-08-14T03:55:38.063075Z",
     "start_time": "2025-08-14T03:55:37.597275Z"
    }
   },
   "cell_type": "code",
   "source": [
    "import torchvision.models as models\n",
    "\n",
    "classes_names = train_set.classes\n",
    "hardware = torch.device('cuda' if   torch.cuda.is_available() else 'cpu')\n",
    "model_inference = PestClassifierMobileNetV2(num_classes=len(classes_names))\n",
    "model_inference.load_state_dict(torch.load('models/v2/Basic/SMobileNetV2_rice_pest_classificationV10.pt', map_location=hardware))\n",
    "image_path = 'unrelated_data/522195740_1082374587297150_2426477586868291111_n.jpg'\n",
    "\n",
    "pest, confidence_score = predict_single_image(model=model_inference, image_path=image_path, classes=classes_names, transform=validation_pipeline, device=hardware)\n",
    "\n",
    "print(f\"The predicted pest is: {pest}\")\n",
    "print(f\"Confidence: {confidence_score * 100:.2f}%\")\n",
    "\n",
    "true, pred = eval_metrics(model_inference, val_loader, classes_names, hardware)"
   ],
   "id": "affbac0d0a0851c8",
   "outputs": [
    {
     "ename": "ValueError",
     "evalue": "too many values to unpack (expected 2)",
     "output_type": "error",
     "traceback": [
      "\u001B[31m---------------------------------------------------------------------------\u001B[39m",
      "\u001B[31mValueError\u001B[39m                                Traceback (most recent call last)",
      "\u001B[36mCell\u001B[39m\u001B[36m \u001B[39m\u001B[32mIn[26]\u001B[39m\u001B[32m, line 9\u001B[39m\n\u001B[32m      6\u001B[39m model_inference.load_state_dict(torch.load(\u001B[33m'\u001B[39m\u001B[33mmodels/v2/Basic/SMobileNetV2_rice_pest_classificationV10.pt\u001B[39m\u001B[33m'\u001B[39m, map_location=hardware))\n\u001B[32m      7\u001B[39m image_path = \u001B[33m'\u001B[39m\u001B[33munrelated_data/522195740_1082374587297150_2426477586868291111_n.jpg\u001B[39m\u001B[33m'\u001B[39m\n\u001B[32m----> \u001B[39m\u001B[32m9\u001B[39m pest, confidence_score = predict_single_image(model=model_inference, image_path=image_path, classes=classes_names, transform=validation_pipeline, device=hardware)\n\u001B[32m     11\u001B[39m \u001B[38;5;28mprint\u001B[39m(\u001B[33mf\u001B[39m\u001B[33m\"\u001B[39m\u001B[33mThe predicted pest is: \u001B[39m\u001B[38;5;132;01m{\u001B[39;00mpest\u001B[38;5;132;01m}\u001B[39;00m\u001B[33m\"\u001B[39m)\n\u001B[32m     12\u001B[39m \u001B[38;5;28mprint\u001B[39m(\u001B[33mf\u001B[39m\u001B[33m\"\u001B[39m\u001B[33mConfidence: \u001B[39m\u001B[38;5;132;01m{\u001B[39;00mconfidence_score\u001B[38;5;250m \u001B[39m*\u001B[38;5;250m \u001B[39m\u001B[32m100\u001B[39m\u001B[38;5;132;01m:\u001B[39;00m\u001B[33m.2f\u001B[39m\u001B[38;5;132;01m}\u001B[39;00m\u001B[33m%\u001B[39m\u001B[33m\"\u001B[39m)\n",
      "\u001B[31mValueError\u001B[39m: too many values to unpack (expected 2)"
     ]
    }
   ],
   "execution_count": 26
  }
 ],
 "metadata": {
  "kernelspec": {
   "display_name": "Python 3",
   "language": "python",
   "name": "python3"
  },
  "language_info": {
   "codemirror_mode": {
    "name": "ipython",
    "version": 2
   },
   "file_extension": ".py",
   "mimetype": "text/x-python",
   "name": "python",
   "nbconvert_exporter": "python",
   "pygments_lexer": "ipython2",
   "version": "2.7.6"
  }
 },
 "nbformat": 4,
 "nbformat_minor": 5
}
