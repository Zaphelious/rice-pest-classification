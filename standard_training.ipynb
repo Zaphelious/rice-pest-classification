{
 "cells": [
  {
   "metadata": {
    "ExecuteTime": {
     "end_time": "2025-08-10T02:35:36.718418Z",
     "start_time": "2025-08-10T02:35:33.511341Z"
    }
   },
   "cell_type": "code",
   "source": [
    "import torch\n",
    "\n",
    "print(torch.version.cuda)\n",
    "print(torch.cuda.get_device_name(0))"
   ],
   "id": "cb5a725a97da07f1",
   "outputs": [
    {
     "name": "stdout",
     "output_type": "stream",
     "text": [
      "12.8\n",
      "NVIDIA GeForce RTX 4060 Laptop GPU\n"
     ]
    }
   ],
   "execution_count": 1
  },
  {
   "metadata": {
    "ExecuteTime": {
     "end_time": "2025-08-10T02:35:39.002629Z",
     "start_time": "2025-08-10T02:35:38.995142Z"
    }
   },
   "cell_type": "code",
   "source": [
    "import torch\n",
    "\n",
    "# Check and report VRAM usage\n",
    "# torch.cuda.memory_allocated() gives the current tensor memory usage in bytes.\n",
    "allocated_bytes = torch.cuda.memory_allocated('cuda')\n",
    "allocated_mb = allocated_bytes / (1024 * 1024)\n",
    "\n",
    "reserved_bytes = torch.cuda.memory_reserved('cuda')\n",
    "reserved_mb = reserved_bytes / (1024 * 1024)\n",
    "\n",
    "print(\"\\n--- VRAM USAGE REPORT ---\")\n",
    "print(f\"Memory Allocated: {allocated_mb:.2f} MB\")\n",
    "print(f\"Memory Reserved:  {reserved_mb:.2f} MB\")\n",
    "print(\"-------------------------\\n\")\n",
    "#"
   ],
   "id": "23d50c3f254a094",
   "outputs": [
    {
     "name": "stdout",
     "output_type": "stream",
     "text": [
      "\n",
      "--- VRAM USAGE REPORT ---\n",
      "Memory Allocated: 0.00 MB\n",
      "Memory Reserved:  0.00 MB\n",
      "-------------------------\n",
      "\n"
     ]
    }
   ],
   "execution_count": 2
  },
  {
   "metadata": {
    "collapsed": true,
    "ExecuteTime": {
     "end_time": "2025-08-10T02:35:44.296864Z",
     "start_time": "2025-08-10T02:35:43.626911Z"
    }
   },
   "cell_type": "code",
   "source": [
    "import albumentations as A\n",
    "from albumentations.pytorch import ToTensorV2\n",
    "\n",
    "training_pipeline = A.Compose([\n",
    "    A.Resize(height=224, width=224),\n",
    "    A.SquareSymmetry(p=0.5),\n",
    "    A.RandomCrop(height=180, width=180,  p=0.8),\n",
    "    A.Resize(height=224, width=224),\n",
    "    A.RandomRain(slant_range=(-15,15), drop_length=15, drop_width=1, rain_type=\"default\", blur_value=7 ,p=0.4),\n",
    "    A.RandomBrightnessContrast(brightness_limit=(-0.3, 0.3), contrast_limit=(-0.2, 0.2), p=0.3),\n",
    "    A.Rotate(limit=45, p=0.4),\n",
    "    A.GaussNoise(std_range=(0.1, 0.2), per_channel=True  ,p=0.3),\n",
    "    A.ColorJitter(brightness=(0.8, 1.1), contrast=(0.8, 1.1), saturation=(0.8, 1.1), hue=(-0.5, 0.5)),\n",
    "    A.OneOf([\n",
    "        A.CoarseDropout(num_holes_range=(1, 8), hole_height_range=(0.1, 0.25),\n",
    "                        hole_width_range=(0.1, 0.25), fill=0, p=0.3),\n",
    "        A.GridDropout(ratio=0.5, random_offset=True,  p=0.2)\n",
    "    ]),\n",
    "    A.Normalize(mean=(0.485, 0.456, 0.406),std=(0.229, 0.224, 0.225)),\n",
    "    ToTensorV2()\n",
    "])\n",
    "\n",
    "validation_pipeline = A.Compose([\n",
    "    A.Resize(height=224, width=224),\n",
    "    A.Normalize(mean=(0.485, 0.456, 0.406), std=(0.229, 0.224, 0.225)),\n",
    "    ToTensorV2()\n",
    "])"
   ],
   "id": "initial_id",
   "outputs": [],
   "execution_count": 3
  },
  {
   "metadata": {
    "ExecuteTime": {
     "end_time": "2025-08-10T02:35:47.990507Z",
     "start_time": "2025-08-10T02:35:45.592226Z"
    }
   },
   "cell_type": "code",
   "source": [
    "import cv2\n",
    "from torchvision import datasets\n",
    "\n",
    "class CustomDataset(datasets.ImageFolder):\n",
    "\n",
    "    def __getitem__(self, index):\n",
    "\n",
    "        path, target = self.samples[index]\n",
    "\n",
    "        image = cv2.imread(path)\n",
    "        image = cv2.cvtColor(image, cv2.COLOR_BGR2RGB)\n",
    "\n",
    "        if self.transform:\n",
    "            augmented = self.transform(image=image)\n",
    "            image = augmented['image']\n",
    "\n",
    "        return image, target\n",
    "\n",
    "    def __len__(self):\n",
    "        return len(self.samples)"
   ],
   "id": "6daf511998047715",
   "outputs": [],
   "execution_count": 4
  },
  {
   "metadata": {
    "ExecuteTime": {
     "end_time": "2025-08-10T02:35:52.050460Z",
     "start_time": "2025-08-10T02:35:52.043323Z"
    }
   },
   "cell_type": "code",
   "source": [
    "import torchvision.models as models\n",
    "import torch.nn as nn\n",
    "\n",
    "class PestClassifierMobileNetV2(nn.Module):\n",
    "\n",
    "    def __init__(self, num_classes):\n",
    "        super(PestClassifierMobileNetV2, self).__init__()\n",
    "\n",
    "        # get model\n",
    "        self.base_model = models.mobilenet_v2(weights='MobileNet_V2_Weights.IMAGENET1K_V2')\n",
    "\n",
    "        # Froze feature extraction layer to retain weights.\n",
    "        for params in self.base_model.parameters():\n",
    "            params.requires_grad = False\n",
    "\n",
    "        # get number of features\n",
    "        num_filters = self.base_model.classifier[1].in_features\n",
    "\n",
    "        # Hyperparameter tuning: new layer for 6 rice pests.\n",
    "        self.base_model.classifier[1] = nn.Linear(num_filters, num_classes)\n",
    "\n",
    "    # Forward propagation\n",
    "    def forward(self, x):\n",
    "\n",
    "       features = self.base_model.features(x)\n",
    "\n",
    "       features = F.adaptive_avg_pool2d(features, output_size=(1, 1)).reshape(features.shape[0], -1)\n",
    "\n",
    "       features = self.base_model.classifier(features)\n",
    "\n",
    "       return features\n",
    "\n",
    "    def unfreeze_last_block(self):\n",
    "\n",
    "        print(\"\\nUnfreezing last block of feature extraction.\")\n",
    "\n",
    "        for param in self.base_model.features[-1].parameters():\n",
    "            param.requires_grad = True\n",
    "\n",
    "    def unfreeze_final_invert_residual(self):\n",
    "\n",
    "        print('\\nUnfreezing final inverse residual feature extraction.')\n",
    "\n",
    "        for param in self.base_model.features[-2].parameters():\n",
    "            param.requires_grad = True\n",
    "\n",
    "    def unfreeze_second_last_invert_residual(self):\n",
    "        print('\\nUnfreezing second last inverse residual feature extraction.')\n",
    "\n",
    "        for param in self.base_model.features[-3].parameters():\n",
    "            param.requires_grad = True\n",
    "\n",
    "    def unfreeze_third_last_invert_residual(self):\n",
    "        print('\\nUnfreezing third last inverse residual feature extraction.')\n",
    "\n",
    "        for param in self.base_model.features[-4].parameters():\n",
    "            param.requires_grad = True\n",
    "\n",
    "    def freeze_last_block(self):\n",
    "        print(\"\\nFreezing last block of feature extraction.\")\n",
    "        for param in self.base_model.features[-1].parameters():\n",
    "            param.requires_grad = False\n"
   ],
   "id": "8172f748d43e758a",
   "outputs": [],
   "execution_count": 5
  },
  {
   "metadata": {
    "ExecuteTime": {
     "end_time": "2025-08-10T02:35:59.435791Z",
     "start_time": "2025-08-10T02:35:59.426673Z"
    }
   },
   "cell_type": "code",
   "source": [
    "import torch\n",
    "from tqdm import tqdm\n",
    "\n",
    "def train_and_test(model, optimizer, criterion, train_dataloader, test_dataloader, num_epoch, device):\n",
    "    train_losses = []\n",
    "    test_losses = []\n",
    "    accuracies = []\n",
    "    best_accuracy = 0.0\n",
    "\n",
    "    for epoch in range(num_epoch):\n",
    "        # --- TRAINING PHASE ---\n",
    "        model.train()\n",
    "        running_train_loss = 0.0\n",
    "        train_pbar = tqdm(train_dataloader, desc=f\"Train epoch: {epoch+1}\")\n",
    "        for data, labels in train_pbar:\n",
    "            data, labels = data.to(device), labels.to(device)\n",
    "            optimizer.zero_grad()\n",
    "            output = model(data)\n",
    "            loss = criterion(output, labels)\n",
    "            loss.backward()\n",
    "            optimizer.step()\n",
    "            running_train_loss += loss.item()\n",
    "        training_loss = running_train_loss / len(train_dataloader)\n",
    "        train_losses.append(training_loss)\n",
    "\n",
    "        # --- TESTING PHASE ---\n",
    "        model.eval()\n",
    "        running_test_loss = 0.0\n",
    "        correct_predictions = 0\n",
    "        total_samples = 0\n",
    "\n",
    "        with torch.no_grad():\n",
    "            for inputs, labels in tqdm(test_dataloader, desc=f\"Test epoch: {epoch+1}\"):\n",
    "                inputs, labels = inputs.to(device), labels.to(device)\n",
    "\n",
    "                output_loss = model(inputs)\n",
    "                loss = criterion(output_loss, labels)\n",
    "                running_test_loss += loss.item()\n",
    "                _, predicted = torch.max(output_loss.data, 1)\n",
    "                total_samples += labels.size(0)\n",
    "                correct_predictions += (predicted == labels).sum().item()\n",
    "\n",
    "        testing_loss = running_test_loss / len(test_dataloader)\n",
    "        test_losses.append(testing_loss)\n",
    "        accuracy = 100 * correct_predictions / total_samples\n",
    "        accuracies.append(accuracy)\n",
    "\n",
    "        epoch_summary = f'Epoch {epoch+1}/{num_epoch} | Train Loss: {training_loss:.4f} | Test Loss: {testing_loss:.4f} | Accuracy: {accuracy:.2f}%'\n",
    "\n",
    "        if device.type == 'cuda':\n",
    "            allocated_gb = torch.cuda.memory_allocated() / (1024 ** 3)\n",
    "            reserved_gb = torch.cuda.memory_reserved() / (1024 ** 3)\n",
    "            epoch_summary += f' | GPU Memory (Alloc/Reserved): {allocated_gb:.2f}/{reserved_gb:.3f} GB'\n",
    "\n",
    "        tqdm.write(epoch_summary)\n",
    "\n",
    "        if accuracy > best_accuracy:\n",
    "            best_accuracy = accuracy\n",
    "            torch.save(model.state_dict(), 'models/SMobileNetV2_rice_pest_classificationV6.pth')\n",
    "\n",
    "    tqdm.write('Phase done!')\n",
    "\n",
    "    return {'train_loss': train_losses, 'test_loss': test_losses, 'accuracy': accuracies}, best_accuracy"
   ],
   "id": "fca4e6f7abec2fbd",
   "outputs": [],
   "execution_count": 6
  },
  {
   "metadata": {
    "ExecuteTime": {
     "end_time": "2025-08-10T02:37:25.603797Z",
     "start_time": "2025-08-10T02:37:25.591483Z"
    }
   },
   "cell_type": "code",
   "source": [
    "import seaborn as sns\n",
    "import matplotlib.pyplot as plt\n",
    "import pandas as pd\n",
    "import numpy as np\n",
    "\n",
    "def plot_training_result(*results):\n",
    "\n",
    "    full_train_loss = []\n",
    "    full_test_loss = []\n",
    "\n",
    "    for res in results:\n",
    "        full_train_loss.extend(res.get('train_loss', []))\n",
    "        full_test_loss.extend(res.get('test_loss', []))\n",
    "\n",
    "    total_epochs = len(full_train_loss)\n",
    "    if total_epochs == 0:\n",
    "        print(\"No data to plot.\")\n",
    "        return\n",
    "\n",
    "    epochs = range(1, total_epochs + 1)\n",
    "\n",
    "    data = {\n",
    "        'Epoch': epochs,\n",
    "        'Training Loss': full_train_loss,\n",
    "        'Testing Loss': full_test_loss,\n",
    "    }\n",
    "\n",
    "    df = pd.DataFrame(data)\n",
    "\n",
    "    df_long = df.melt(id_vars=['Epoch'], var_name='Loss Type', value_name='Loss')\n",
    "\n",
    "    plt.figure(figsize=(10, 6))\n",
    "    sns.lineplot(data=df_long, x='Epoch', y='Loss', hue='Loss Type', marker='o')\n",
    "\n",
    "    plt.title('Training and Testing Loss Comparison')\n",
    "    plt.xlabel('Epoch')\n",
    "    plt.ylabel('Loss')\n",
    "    plt.legend()\n",
    "    plt.grid(True)\n",
    "    plt.show()\n",
    "\n",
    "\n",
    "def plot_accuracy(*results):\n",
    "\n",
    "    full_accuracy = []\n",
    "\n",
    "    for result in results:\n",
    "        accuracy = result.get('accuracy', [])\n",
    "        full_accuracy.extend(accuracy)\n",
    "\n",
    "    total_epochs = len(full_accuracy)\n",
    "    if total_epochs == 0:\n",
    "        print(\"No accuracy data to plot.\")\n",
    "        return\n",
    "\n",
    "    epochs = range(1, total_epochs + 1)\n",
    "\n",
    "    plt.figure(figsize=(10, 6))\n",
    "    plt.plot(epochs, full_accuracy, label='Accuracy', marker='o', color='g')\n",
    "\n",
    "    plt.title('Accuracy Evaluation')\n",
    "    plt.xlabel('Epoch')\n",
    "    plt.ylabel('Accuracy (%)')\n",
    "    plt.legend()\n",
    "    plt.grid(True)\n",
    "    plt.show()\n",
    "\n",
    "\n",
    "def save_historical_data(*histories):\n",
    "\n",
    "    full_train_loss = []\n",
    "    full_test_loss = []\n",
    "    full_accuracy = []\n",
    "\n",
    "    for history in histories:\n",
    "\n",
    "        full_train_loss.extend(history.get('train_loss', []))\n",
    "        full_test_loss.extend(history.get('test_loss', []))\n",
    "        full_accuracy.extend(history.get('accuracy', []))\n",
    "\n",
    "    total_epochs = len(full_train_loss)\n",
    "\n",
    "    data_dict = {\n",
    "        'epoch': total_epochs,\n",
    "        'train_loss': full_train_loss,\n",
    "        'test_loss': full_test_loss,\n",
    "        'accuracy': full_accuracy,\n",
    "    }\n",
    "\n",
    "    history_df = pd.DataFrame(data_dict)\n",
    "    history_df.to_csv('training_history_standardV6.csv', index=False)\n",
    "\n",
    "    print(\"Historical data saved successfully!\")\n",
    "\n",
    "# def save_single_data(data):\n",
    "\n",
    "# sample_test_accuracies = np.linspace(0.60, 0.95, 20) - np.random.rand(20) * 0.08\n",
    "# plot_accuracy(accuracy=sample_test_accuracies)\n"
   ],
   "id": "74773810c269080d",
   "outputs": [],
   "execution_count": 9
  },
  {
   "metadata": {},
   "cell_type": "code",
   "source": [
    "# --- Example of how to call the new dynamic functions ---\n",
    "\n",
    "# You would have these history dictionaries from your training stages\n",
    "history1 = {'train_loss': [4.5, 3.6], 'test_loss': [4.4, 3.5], 'accuracy': [60.1, 65.2]}\n",
    "history2 = {'train_loss': [3.5, 3.4], 'test_loss': [3.5, 3.4], 'accuracy': [68.3, 70.1]}\n",
    "history3 = {'train_loss': [2.7, 2.6], 'test_loss': [2.1, 2.4], 'accuracy': [74.3, 78.1]}\n",
    "\n",
    "# You can now call the functions with any number of histories\n",
    "plot_training_result(history1, history2, history2)\n",
    "plot_accuracy(history1, history2, history2)"
   ],
   "id": "47126bf01b04d37b",
   "outputs": [],
   "execution_count": null
  },
  {
   "metadata": {},
   "cell_type": "code",
   "source": [
    "num = [1,2,3,4,5,6]\n",
    "\n",
    "print(num[:-1])\n",
    "\n",
    "for i, num_len in enumerate(num[:-1]):\n",
    "    print(num_len)"
   ],
   "id": "b9ec4c36505f189e",
   "outputs": [],
   "execution_count": null
  },
  {
   "metadata": {
    "ExecuteTime": {
     "end_time": "2025-08-10T02:36:34.963093Z",
     "start_time": "2025-08-10T02:36:34.901663Z"
    }
   },
   "cell_type": "code",
   "source": [
    "from torch.utils.data import DataLoader\n",
    "\n",
    "train_set = CustomDataset(root='datasets/train', transform=training_pipeline)\n",
    "train_loader = DataLoader(train_set, batch_size=128, shuffle=True)\n",
    "test_set = CustomDataset(root='datasets/test', transform=validation_pipeline)\n",
    "test_loader = DataLoader(test_set, batch_size=64, shuffle=True)\n",
    "\n",
    "classes = train_set.classes"
   ],
   "id": "4fd20dd312f838ff",
   "outputs": [],
   "execution_count": 8
  },
  {
   "metadata": {
    "ExecuteTime": {
     "end_time": "2025-08-10T04:37:06.613193Z",
     "start_time": "2025-08-10T02:42:39.775292Z"
    }
   },
   "cell_type": "code",
   "source": [
    "import torch.optim as optim\n",
    "\n",
    "hardware = torch.device('cuda' if   torch.cuda.is_available() else 'cpu')\n",
    "classes = 6\n",
    "learning_rate = 1e-3\n",
    "weight_decay = 1e-2\n",
    "num_epochs = 128\n",
    "criterion = nn.CrossEntropyLoss()\n",
    "\n",
    "model = PestClassifierMobileNetV2(num_classes=classes).to(hardware)\n",
    "# model.load_state_dict(torch.load('models/PestClassifierMobileNetV2.pth'))\n",
    "\n",
    "optimizer = optim.Adam(filter(lambda p: p.requires_grad, model.parameters()), lr=learning_rate)\n",
    "\n",
    "# # Phase 1\n",
    "\n",
    "result_1, accuracies = train_and_test(model=model, optimizer=optimizer, criterion=criterion,train_dataloader=train_loader, test_dataloader=test_loader, num_epoch=num_epochs, device=hardware)\n",
    "\n",
    "# # Phase 2\n",
    "# model.unfreeze_last_block()\n",
    "# print(\"\\nPhase 2 Training\\n\")\n",
    "#\n",
    "# result_2, accuracies_2 = train_and_test(model=model, optimizer=optimizer, criterion=criterion,train_dataloader=train_loader, test_dataloader=test_loader, num_epoch=64, device=hardware)\n",
    "#\n",
    "# # Phase 3\n",
    "# model.unfreeze_final_invert_residual()\n",
    "# print(\"\\nPhase 3 Training\\n\")\n",
    "#\n",
    "# result_3, accuracies_3 = train_and_test(model=model, optimizer=optimizer, criterion=criterion, train_dataloader=train_loader, test_dataloader=test_loader, num_epoch=96, device=hardware)\n",
    "#\n",
    "# # Phase 4\n",
    "# model.unfreeze_second_last_invert_residual()\n",
    "# model.freeze_last_block()\n",
    "# print(\"\\nPhase 3 Training\\n\")\n",
    "#\n",
    "# result_4, accuracies_4 = train_and_test(model=model, optimizer=optimizer, criterion=criterion,train_dataloader=train_loader, test_dataloader=test_loader, num_epoch=128, device=hardware)\n",
    "#\n",
    "# print(\"Training Successful!\")\n",
    "# # Phase 5\n",
    "\n",
    "# result_5, accuracies_5 = train_and_test(model=model, optimizer=optimizer, criterion=criterion,train_dataloader=train_loader, test_dataloader=test_loader, num_epoch=64, device=hardware)\n",
    "\n",
    "plot_training_result(result_1)\n",
    "plot_accuracy(result_1)\n",
    "save_historical_data(result_1)"
   ],
   "id": "42228f67409bda4c",
   "outputs": [
    {
     "name": "stderr",
     "output_type": "stream",
     "text": [
      "Train epoch: 1: 100%|██████████| 59/59 [00:39<00:00,  1.51it/s]\n",
      "Test epoch: 1: 100%|██████████| 34/34 [00:08<00:00,  4.14it/s]\n"
     ]
    },
    {
     "name": "stdout",
     "output_type": "stream",
     "text": [
      "Epoch 1/128 | Train Loss: 1.4894 | Test Loss: 1.1259 | Accuracy: 68.43% | GPU Memory (Alloc/Reserved): 0.07/1.830 GB\n"
     ]
    },
    {
     "name": "stderr",
     "output_type": "stream",
     "text": [
      "Train epoch: 2: 100%|██████████| 59/59 [00:37<00:00,  1.58it/s]\n",
      "Test epoch: 2: 100%|██████████| 34/34 [00:07<00:00,  4.71it/s]\n"
     ]
    },
    {
     "name": "stdout",
     "output_type": "stream",
     "text": [
      "Epoch 2/128 | Train Loss: 1.2953 | Test Loss: 0.9464 | Accuracy: 72.98% | GPU Memory (Alloc/Reserved): 0.07/1.830 GB\n"
     ]
    },
    {
     "name": "stderr",
     "output_type": "stream",
     "text": [
      "Train epoch: 3: 100%|██████████| 59/59 [00:27<00:00,  2.13it/s]\n",
      "Test epoch: 3: 100%|██████████| 34/34 [00:04<00:00,  7.16it/s]\n"
     ]
    },
    {
     "name": "stdout",
     "output_type": "stream",
     "text": [
      "Epoch 3/128 | Train Loss: 1.2156 | Test Loss: 0.8611 | Accuracy: 73.97% | GPU Memory (Alloc/Reserved): 0.07/1.830 GB\n"
     ]
    },
    {
     "name": "stderr",
     "output_type": "stream",
     "text": [
      "Train epoch: 4: 100%|██████████| 59/59 [00:25<00:00,  2.32it/s]\n",
      "Test epoch: 4: 100%|██████████| 34/34 [00:04<00:00,  7.10it/s]\n"
     ]
    },
    {
     "name": "stdout",
     "output_type": "stream",
     "text": [
      "Epoch 4/128 | Train Loss: 1.1732 | Test Loss: 0.7939 | Accuracy: 76.88% | GPU Memory (Alloc/Reserved): 0.07/1.830 GB\n"
     ]
    },
    {
     "name": "stderr",
     "output_type": "stream",
     "text": [
      "Train epoch: 5: 100%|██████████| 59/59 [00:25<00:00,  2.36it/s]\n",
      "Test epoch: 5: 100%|██████████| 34/34 [00:04<00:00,  7.18it/s]\n"
     ]
    },
    {
     "name": "stdout",
     "output_type": "stream",
     "text": [
      "Epoch 5/128 | Train Loss: 1.1459 | Test Loss: 0.7504 | Accuracy: 78.33% | GPU Memory (Alloc/Reserved): 0.07/1.830 GB\n"
     ]
    },
    {
     "name": "stderr",
     "output_type": "stream",
     "text": [
      "Train epoch: 6: 100%|██████████| 59/59 [00:24<00:00,  2.37it/s]\n",
      "Test epoch: 6: 100%|██████████| 34/34 [00:04<00:00,  7.06it/s]\n"
     ]
    },
    {
     "name": "stdout",
     "output_type": "stream",
     "text": [
      "Epoch 6/128 | Train Loss: 1.1265 | Test Loss: 0.7261 | Accuracy: 78.33% | GPU Memory (Alloc/Reserved): 0.07/1.830 GB\n"
     ]
    },
    {
     "name": "stderr",
     "output_type": "stream",
     "text": [
      "Train epoch: 7: 100%|██████████| 59/59 [00:25<00:00,  2.34it/s]\n",
      "Test epoch: 7: 100%|██████████| 34/34 [00:04<00:00,  7.20it/s]\n"
     ]
    },
    {
     "name": "stdout",
     "output_type": "stream",
     "text": [
      "Epoch 7/128 | Train Loss: 1.1062 | Test Loss: 0.6999 | Accuracy: 79.97% | GPU Memory (Alloc/Reserved): 0.07/1.830 GB\n"
     ]
    },
    {
     "name": "stderr",
     "output_type": "stream",
     "text": [
      "Train epoch: 8: 100%|██████████| 59/59 [00:24<00:00,  2.37it/s]\n",
      "Test epoch: 8: 100%|██████████| 34/34 [00:04<00:00,  7.02it/s]\n"
     ]
    },
    {
     "name": "stdout",
     "output_type": "stream",
     "text": [
      "Epoch 8/128 | Train Loss: 1.1078 | Test Loss: 0.6818 | Accuracy: 79.88% | GPU Memory (Alloc/Reserved): 0.07/1.830 GB\n"
     ]
    },
    {
     "name": "stderr",
     "output_type": "stream",
     "text": [
      "Train epoch: 9: 100%|██████████| 59/59 [00:24<00:00,  2.36it/s]\n",
      "Test epoch: 9: 100%|██████████| 34/34 [00:04<00:00,  7.23it/s]\n"
     ]
    },
    {
     "name": "stdout",
     "output_type": "stream",
     "text": [
      "Epoch 9/128 | Train Loss: 1.0926 | Test Loss: 0.6518 | Accuracy: 80.44% | GPU Memory (Alloc/Reserved): 0.07/1.830 GB\n"
     ]
    },
    {
     "name": "stderr",
     "output_type": "stream",
     "text": [
      "Train epoch: 10: 100%|██████████| 59/59 [00:24<00:00,  2.38it/s]\n",
      "Test epoch: 10: 100%|██████████| 34/34 [00:04<00:00,  7.21it/s]\n"
     ]
    },
    {
     "name": "stdout",
     "output_type": "stream",
     "text": [
      "Epoch 10/128 | Train Loss: 1.0845 | Test Loss: 0.6397 | Accuracy: 80.68% | GPU Memory (Alloc/Reserved): 0.07/1.830 GB\n"
     ]
    },
    {
     "name": "stderr",
     "output_type": "stream",
     "text": [
      "Train epoch: 11: 100%|██████████| 59/59 [00:24<00:00,  2.38it/s]\n",
      "Test epoch: 11: 100%|██████████| 34/34 [00:04<00:00,  7.20it/s]\n"
     ]
    },
    {
     "name": "stdout",
     "output_type": "stream",
     "text": [
      "Epoch 11/128 | Train Loss: 1.0743 | Test Loss: 0.6417 | Accuracy: 80.86% | GPU Memory (Alloc/Reserved): 0.07/1.830 GB\n"
     ]
    },
    {
     "name": "stderr",
     "output_type": "stream",
     "text": [
      "Train epoch: 12: 100%|██████████| 59/59 [00:24<00:00,  2.38it/s]\n",
      "Test epoch: 12: 100%|██████████| 34/34 [00:04<00:00,  7.17it/s]\n"
     ]
    },
    {
     "name": "stdout",
     "output_type": "stream",
     "text": [
      "Epoch 12/128 | Train Loss: 1.0842 | Test Loss: 0.6168 | Accuracy: 81.19% | GPU Memory (Alloc/Reserved): 0.07/1.830 GB\n"
     ]
    },
    {
     "name": "stderr",
     "output_type": "stream",
     "text": [
      "Train epoch: 13: 100%|██████████| 59/59 [00:24<00:00,  2.38it/s]\n",
      "Test epoch: 13: 100%|██████████| 34/34 [00:04<00:00,  7.21it/s]\n"
     ]
    },
    {
     "name": "stdout",
     "output_type": "stream",
     "text": [
      "Epoch 13/128 | Train Loss: 1.0650 | Test Loss: 0.6139 | Accuracy: 81.43% | GPU Memory (Alloc/Reserved): 0.07/1.830 GB\n"
     ]
    },
    {
     "name": "stderr",
     "output_type": "stream",
     "text": [
      "Train epoch: 14: 100%|██████████| 59/59 [00:24<00:00,  2.37it/s]\n",
      "Test epoch: 14: 100%|██████████| 34/34 [00:04<00:00,  7.13it/s]\n"
     ]
    },
    {
     "name": "stdout",
     "output_type": "stream",
     "text": [
      "Epoch 14/128 | Train Loss: 1.0708 | Test Loss: 0.6070 | Accuracy: 81.52% | GPU Memory (Alloc/Reserved): 0.07/1.830 GB\n"
     ]
    },
    {
     "name": "stderr",
     "output_type": "stream",
     "text": [
      "Train epoch: 15: 100%|██████████| 59/59 [00:24<00:00,  2.36it/s]\n",
      "Test epoch: 15: 100%|██████████| 34/34 [00:04<00:00,  7.21it/s]\n"
     ]
    },
    {
     "name": "stdout",
     "output_type": "stream",
     "text": [
      "Epoch 15/128 | Train Loss: 1.0667 | Test Loss: 0.5975 | Accuracy: 81.75% | GPU Memory (Alloc/Reserved): 0.07/1.830 GB\n"
     ]
    },
    {
     "name": "stderr",
     "output_type": "stream",
     "text": [
      "Train epoch: 16: 100%|██████████| 59/59 [00:24<00:00,  2.37it/s]\n",
      "Test epoch: 16: 100%|██████████| 34/34 [00:04<00:00,  6.85it/s]\n"
     ]
    },
    {
     "name": "stdout",
     "output_type": "stream",
     "text": [
      "Epoch 16/128 | Train Loss: 1.0469 | Test Loss: 0.5964 | Accuracy: 81.61% | GPU Memory (Alloc/Reserved): 0.07/1.830 GB\n"
     ]
    },
    {
     "name": "stderr",
     "output_type": "stream",
     "text": [
      "Train epoch: 17: 100%|██████████| 59/59 [00:25<00:00,  2.30it/s]\n",
      "Test epoch: 17: 100%|██████████| 34/34 [00:04<00:00,  7.17it/s]\n"
     ]
    },
    {
     "name": "stdout",
     "output_type": "stream",
     "text": [
      "Epoch 17/128 | Train Loss: 1.0611 | Test Loss: 0.5823 | Accuracy: 82.04% | GPU Memory (Alloc/Reserved): 0.07/1.830 GB\n"
     ]
    },
    {
     "name": "stderr",
     "output_type": "stream",
     "text": [
      "Train epoch: 18: 100%|██████████| 59/59 [00:25<00:00,  2.32it/s]\n",
      "Test epoch: 18: 100%|██████████| 34/34 [00:04<00:00,  7.15it/s]\n"
     ]
    },
    {
     "name": "stdout",
     "output_type": "stream",
     "text": [
      "Epoch 18/128 | Train Loss: 1.0467 | Test Loss: 0.5878 | Accuracy: 81.29% | GPU Memory (Alloc/Reserved): 0.07/1.830 GB\n"
     ]
    },
    {
     "name": "stderr",
     "output_type": "stream",
     "text": [
      "Train epoch: 19: 100%|██████████| 59/59 [00:25<00:00,  2.28it/s]\n",
      "Test epoch: 19: 100%|██████████| 34/34 [00:04<00:00,  7.18it/s]\n"
     ]
    },
    {
     "name": "stdout",
     "output_type": "stream",
     "text": [
      "Epoch 19/128 | Train Loss: 1.0386 | Test Loss: 0.5742 | Accuracy: 81.94% | GPU Memory (Alloc/Reserved): 0.07/1.830 GB\n"
     ]
    },
    {
     "name": "stderr",
     "output_type": "stream",
     "text": [
      "Train epoch: 20: 100%|██████████| 59/59 [00:24<00:00,  2.37it/s]\n",
      "Test epoch: 20: 100%|██████████| 34/34 [00:04<00:00,  7.18it/s]\n"
     ]
    },
    {
     "name": "stdout",
     "output_type": "stream",
     "text": [
      "Epoch 20/128 | Train Loss: 1.0470 | Test Loss: 0.5657 | Accuracy: 82.60% | GPU Memory (Alloc/Reserved): 0.07/1.830 GB\n"
     ]
    },
    {
     "name": "stderr",
     "output_type": "stream",
     "text": [
      "Train epoch: 21: 100%|██████████| 59/59 [00:24<00:00,  2.38it/s]\n",
      "Test epoch: 21: 100%|██████████| 34/34 [00:04<00:00,  7.23it/s]\n"
     ]
    },
    {
     "name": "stdout",
     "output_type": "stream",
     "text": [
      "Epoch 21/128 | Train Loss: 1.0520 | Test Loss: 0.5732 | Accuracy: 82.60% | GPU Memory (Alloc/Reserved): 0.07/1.830 GB\n"
     ]
    },
    {
     "name": "stderr",
     "output_type": "stream",
     "text": [
      "Train epoch: 22: 100%|██████████| 59/59 [00:24<00:00,  2.37it/s]\n",
      "Test epoch: 22: 100%|██████████| 34/34 [00:04<00:00,  7.21it/s]\n"
     ]
    },
    {
     "name": "stdout",
     "output_type": "stream",
     "text": [
      "Epoch 22/128 | Train Loss: 1.0461 | Test Loss: 0.5747 | Accuracy: 82.32% | GPU Memory (Alloc/Reserved): 0.07/1.830 GB\n"
     ]
    },
    {
     "name": "stderr",
     "output_type": "stream",
     "text": [
      "Train epoch: 23: 100%|██████████| 59/59 [00:24<00:00,  2.37it/s]\n",
      "Test epoch: 23: 100%|██████████| 34/34 [00:04<00:00,  7.20it/s]\n"
     ]
    },
    {
     "name": "stdout",
     "output_type": "stream",
     "text": [
      "Epoch 23/128 | Train Loss: 1.0537 | Test Loss: 0.5634 | Accuracy: 82.32% | GPU Memory (Alloc/Reserved): 0.07/1.830 GB\n"
     ]
    },
    {
     "name": "stderr",
     "output_type": "stream",
     "text": [
      "Train epoch: 24: 100%|██████████| 59/59 [00:25<00:00,  2.35it/s]\n",
      "Test epoch: 24: 100%|██████████| 34/34 [00:04<00:00,  7.21it/s]\n"
     ]
    },
    {
     "name": "stdout",
     "output_type": "stream",
     "text": [
      "Epoch 24/128 | Train Loss: 1.0484 | Test Loss: 0.5586 | Accuracy: 82.69% | GPU Memory (Alloc/Reserved): 0.07/1.830 GB\n"
     ]
    },
    {
     "name": "stderr",
     "output_type": "stream",
     "text": [
      "Train epoch: 25: 100%|██████████| 59/59 [00:24<00:00,  2.38it/s]\n",
      "Test epoch: 25: 100%|██████████| 34/34 [00:04<00:00,  6.97it/s]\n"
     ]
    },
    {
     "name": "stdout",
     "output_type": "stream",
     "text": [
      "Epoch 25/128 | Train Loss: 1.0489 | Test Loss: 0.5580 | Accuracy: 82.32% | GPU Memory (Alloc/Reserved): 0.07/1.830 GB\n"
     ]
    },
    {
     "name": "stderr",
     "output_type": "stream",
     "text": [
      "Train epoch: 26: 100%|██████████| 59/59 [00:25<00:00,  2.32it/s]\n",
      "Test epoch: 26: 100%|██████████| 34/34 [00:04<00:00,  7.21it/s]\n"
     ]
    },
    {
     "name": "stdout",
     "output_type": "stream",
     "text": [
      "Epoch 26/128 | Train Loss: 1.0457 | Test Loss: 0.5614 | Accuracy: 83.02% | GPU Memory (Alloc/Reserved): 0.07/1.830 GB\n"
     ]
    },
    {
     "name": "stderr",
     "output_type": "stream",
     "text": [
      "Train epoch: 27: 100%|██████████| 59/59 [00:25<00:00,  2.35it/s]\n",
      "Test epoch: 27: 100%|██████████| 34/34 [00:07<00:00,  4.75it/s]\n"
     ]
    },
    {
     "name": "stdout",
     "output_type": "stream",
     "text": [
      "Epoch 27/128 | Train Loss: 1.0470 | Test Loss: 0.5556 | Accuracy: 82.93% | GPU Memory (Alloc/Reserved): 0.07/1.830 GB\n"
     ]
    },
    {
     "name": "stderr",
     "output_type": "stream",
     "text": [
      "Train epoch: 28: 100%|██████████| 59/59 [01:11<00:00,  1.21s/it]\n",
      "Test epoch: 28: 100%|██████████| 34/34 [00:11<00:00,  2.94it/s]\n"
     ]
    },
    {
     "name": "stdout",
     "output_type": "stream",
     "text": [
      "Epoch 28/128 | Train Loss: 1.0267 | Test Loss: 0.5538 | Accuracy: 82.88% | GPU Memory (Alloc/Reserved): 0.07/1.830 GB\n"
     ]
    },
    {
     "name": "stderr",
     "output_type": "stream",
     "text": [
      "Train epoch: 29: 100%|██████████| 59/59 [01:18<00:00,  1.33s/it]\n",
      "Test epoch: 29: 100%|██████████| 34/34 [00:11<00:00,  2.85it/s]\n"
     ]
    },
    {
     "name": "stdout",
     "output_type": "stream",
     "text": [
      "Epoch 29/128 | Train Loss: 1.0332 | Test Loss: 0.5515 | Accuracy: 82.97% | GPU Memory (Alloc/Reserved): 0.07/1.830 GB\n"
     ]
    },
    {
     "name": "stderr",
     "output_type": "stream",
     "text": [
      "Train epoch: 30: 100%|██████████| 59/59 [01:00<00:00,  1.02s/it]\n",
      "Test epoch: 30: 100%|██████████| 34/34 [00:10<00:00,  3.30it/s]\n"
     ]
    },
    {
     "name": "stdout",
     "output_type": "stream",
     "text": [
      "Epoch 30/128 | Train Loss: 1.0373 | Test Loss: 0.5570 | Accuracy: 82.74% | GPU Memory (Alloc/Reserved): 0.07/1.830 GB\n"
     ]
    },
    {
     "name": "stderr",
     "output_type": "stream",
     "text": [
      "Train epoch: 31: 100%|██████████| 59/59 [01:09<00:00,  1.18s/it]\n",
      "Test epoch: 31: 100%|██████████| 34/34 [00:12<00:00,  2.65it/s]\n"
     ]
    },
    {
     "name": "stdout",
     "output_type": "stream",
     "text": [
      "Epoch 31/128 | Train Loss: 1.0431 | Test Loss: 0.5569 | Accuracy: 83.40% | GPU Memory (Alloc/Reserved): 0.07/1.830 GB\n"
     ]
    },
    {
     "name": "stderr",
     "output_type": "stream",
     "text": [
      "Train epoch: 32: 100%|██████████| 59/59 [00:57<00:00,  1.02it/s]\n",
      "Test epoch: 32: 100%|██████████| 34/34 [00:10<00:00,  3.22it/s]\n"
     ]
    },
    {
     "name": "stdout",
     "output_type": "stream",
     "text": [
      "Epoch 32/128 | Train Loss: 1.0242 | Test Loss: 0.5472 | Accuracy: 83.86% | GPU Memory (Alloc/Reserved): 0.07/1.830 GB\n"
     ]
    },
    {
     "name": "stderr",
     "output_type": "stream",
     "text": [
      "Train epoch: 33: 100%|██████████| 59/59 [01:01<00:00,  1.04s/it]\n",
      "Test epoch: 33: 100%|██████████| 34/34 [00:10<00:00,  3.34it/s]\n"
     ]
    },
    {
     "name": "stdout",
     "output_type": "stream",
     "text": [
      "Epoch 33/128 | Train Loss: 1.0258 | Test Loss: 0.5385 | Accuracy: 83.86% | GPU Memory (Alloc/Reserved): 0.07/1.830 GB\n"
     ]
    },
    {
     "name": "stderr",
     "output_type": "stream",
     "text": [
      "Train epoch: 34: 100%|██████████| 59/59 [01:08<00:00,  1.16s/it]\n",
      "Test epoch: 34: 100%|██████████| 34/34 [00:11<00:00,  2.88it/s]\n"
     ]
    },
    {
     "name": "stdout",
     "output_type": "stream",
     "text": [
      "Epoch 34/128 | Train Loss: 1.0323 | Test Loss: 0.5367 | Accuracy: 84.05% | GPU Memory (Alloc/Reserved): 0.07/1.830 GB\n"
     ]
    },
    {
     "name": "stderr",
     "output_type": "stream",
     "text": [
      "Train epoch: 35: 100%|██████████| 59/59 [00:53<00:00,  1.09it/s]\n",
      "Test epoch: 35: 100%|██████████| 34/34 [00:04<00:00,  7.13it/s]\n"
     ]
    },
    {
     "name": "stdout",
     "output_type": "stream",
     "text": [
      "Epoch 35/128 | Train Loss: 1.0410 | Test Loss: 0.5402 | Accuracy: 83.21% | GPU Memory (Alloc/Reserved): 0.07/1.830 GB\n"
     ]
    },
    {
     "name": "stderr",
     "output_type": "stream",
     "text": [
      "Train epoch: 36: 100%|██████████| 59/59 [00:25<00:00,  2.33it/s]\n",
      "Test epoch: 36: 100%|██████████| 34/34 [00:04<00:00,  7.00it/s]\n"
     ]
    },
    {
     "name": "stdout",
     "output_type": "stream",
     "text": [
      "Epoch 36/128 | Train Loss: 1.0297 | Test Loss: 0.5423 | Accuracy: 83.30% | GPU Memory (Alloc/Reserved): 0.07/1.830 GB\n"
     ]
    },
    {
     "name": "stderr",
     "output_type": "stream",
     "text": [
      "Train epoch: 37: 100%|██████████| 59/59 [00:25<00:00,  2.34it/s]\n",
      "Test epoch: 37: 100%|██████████| 34/34 [00:04<00:00,  7.25it/s]\n"
     ]
    },
    {
     "name": "stdout",
     "output_type": "stream",
     "text": [
      "Epoch 37/128 | Train Loss: 1.0356 | Test Loss: 0.5351 | Accuracy: 83.26% | GPU Memory (Alloc/Reserved): 0.07/1.830 GB\n"
     ]
    },
    {
     "name": "stderr",
     "output_type": "stream",
     "text": [
      "Train epoch: 38: 100%|██████████| 59/59 [00:25<00:00,  2.34it/s]\n",
      "Test epoch: 38: 100%|██████████| 34/34 [00:05<00:00,  6.47it/s]\n"
     ]
    },
    {
     "name": "stdout",
     "output_type": "stream",
     "text": [
      "Epoch 38/128 | Train Loss: 1.0350 | Test Loss: 0.5311 | Accuracy: 83.72% | GPU Memory (Alloc/Reserved): 0.07/1.830 GB\n"
     ]
    },
    {
     "name": "stderr",
     "output_type": "stream",
     "text": [
      "Train epoch: 39: 100%|██████████| 59/59 [00:34<00:00,  1.72it/s]\n",
      "Test epoch: 39: 100%|██████████| 34/34 [00:07<00:00,  4.83it/s]\n"
     ]
    },
    {
     "name": "stdout",
     "output_type": "stream",
     "text": [
      "Epoch 39/128 | Train Loss: 1.0333 | Test Loss: 0.5378 | Accuracy: 83.68% | GPU Memory (Alloc/Reserved): 0.07/1.830 GB\n"
     ]
    },
    {
     "name": "stderr",
     "output_type": "stream",
     "text": [
      "Train epoch: 40: 100%|██████████| 59/59 [00:27<00:00,  2.11it/s]\n",
      "Test epoch: 40: 100%|██████████| 34/34 [00:04<00:00,  7.18it/s]\n"
     ]
    },
    {
     "name": "stdout",
     "output_type": "stream",
     "text": [
      "Epoch 40/128 | Train Loss: 1.0328 | Test Loss: 0.5382 | Accuracy: 83.21% | GPU Memory (Alloc/Reserved): 0.07/1.830 GB\n"
     ]
    },
    {
     "name": "stderr",
     "output_type": "stream",
     "text": [
      "Train epoch: 41: 100%|██████████| 59/59 [00:46<00:00,  1.26it/s]\n",
      "Test epoch: 41: 100%|██████████| 34/34 [00:10<00:00,  3.23it/s]\n"
     ]
    },
    {
     "name": "stdout",
     "output_type": "stream",
     "text": [
      "Epoch 41/128 | Train Loss: 1.0438 | Test Loss: 0.5367 | Accuracy: 83.40% | GPU Memory (Alloc/Reserved): 0.07/1.830 GB\n"
     ]
    },
    {
     "name": "stderr",
     "output_type": "stream",
     "text": [
      "Train epoch: 42: 100%|██████████| 59/59 [01:04<00:00,  1.09s/it]\n",
      "Test epoch: 42: 100%|██████████| 34/34 [00:11<00:00,  2.94it/s]\n"
     ]
    },
    {
     "name": "stdout",
     "output_type": "stream",
     "text": [
      "Epoch 42/128 | Train Loss: 1.0375 | Test Loss: 0.5312 | Accuracy: 84.05% | GPU Memory (Alloc/Reserved): 0.07/1.830 GB\n"
     ]
    },
    {
     "name": "stderr",
     "output_type": "stream",
     "text": [
      "Train epoch: 43: 100%|██████████| 59/59 [01:04<00:00,  1.09s/it]\n",
      "Test epoch: 43: 100%|██████████| 34/34 [00:09<00:00,  3.49it/s]\n"
     ]
    },
    {
     "name": "stdout",
     "output_type": "stream",
     "text": [
      "Epoch 43/128 | Train Loss: 1.0228 | Test Loss: 0.5303 | Accuracy: 84.33% | GPU Memory (Alloc/Reserved): 0.07/1.830 GB\n"
     ]
    },
    {
     "name": "stderr",
     "output_type": "stream",
     "text": [
      "Train epoch: 44: 100%|██████████| 59/59 [01:04<00:00,  1.09s/it]\n",
      "Test epoch: 44: 100%|██████████| 34/34 [00:11<00:00,  2.95it/s]\n"
     ]
    },
    {
     "name": "stdout",
     "output_type": "stream",
     "text": [
      "Epoch 44/128 | Train Loss: 1.0365 | Test Loss: 0.5239 | Accuracy: 84.24% | GPU Memory (Alloc/Reserved): 0.07/1.830 GB\n"
     ]
    },
    {
     "name": "stderr",
     "output_type": "stream",
     "text": [
      "Train epoch: 45: 100%|██████████| 59/59 [01:03<00:00,  1.08s/it]\n",
      "Test epoch: 45: 100%|██████████| 34/34 [00:10<00:00,  3.31it/s]\n"
     ]
    },
    {
     "name": "stdout",
     "output_type": "stream",
     "text": [
      "Epoch 45/128 | Train Loss: 1.0111 | Test Loss: 0.5224 | Accuracy: 83.58% | GPU Memory (Alloc/Reserved): 0.07/1.830 GB\n"
     ]
    },
    {
     "name": "stderr",
     "output_type": "stream",
     "text": [
      "Train epoch: 46: 100%|██████████| 59/59 [00:42<00:00,  1.39it/s]\n",
      "Test epoch: 46: 100%|██████████| 34/34 [00:06<00:00,  5.35it/s]\n"
     ]
    },
    {
     "name": "stdout",
     "output_type": "stream",
     "text": [
      "Epoch 46/128 | Train Loss: 1.0266 | Test Loss: 0.5163 | Accuracy: 84.10% | GPU Memory (Alloc/Reserved): 0.07/1.830 GB\n"
     ]
    },
    {
     "name": "stderr",
     "output_type": "stream",
     "text": [
      "Train epoch: 47: 100%|██████████| 59/59 [00:26<00:00,  2.27it/s]\n",
      "Test epoch: 47: 100%|██████████| 34/34 [00:04<00:00,  6.91it/s]\n"
     ]
    },
    {
     "name": "stdout",
     "output_type": "stream",
     "text": [
      "Epoch 47/128 | Train Loss: 1.0245 | Test Loss: 0.5222 | Accuracy: 84.24% | GPU Memory (Alloc/Reserved): 0.07/1.830 GB\n"
     ]
    },
    {
     "name": "stderr",
     "output_type": "stream",
     "text": [
      "Train epoch: 48: 100%|██████████| 59/59 [00:26<00:00,  2.23it/s]\n",
      "Test epoch: 48: 100%|██████████| 34/34 [00:04<00:00,  7.08it/s]\n"
     ]
    },
    {
     "name": "stdout",
     "output_type": "stream",
     "text": [
      "Epoch 48/128 | Train Loss: 1.0202 | Test Loss: 0.5198 | Accuracy: 83.91% | GPU Memory (Alloc/Reserved): 0.07/1.830 GB\n"
     ]
    },
    {
     "name": "stderr",
     "output_type": "stream",
     "text": [
      "Train epoch: 49: 100%|██████████| 59/59 [00:26<00:00,  2.21it/s]\n",
      "Test epoch: 49: 100%|██████████| 34/34 [00:04<00:00,  7.16it/s]\n"
     ]
    },
    {
     "name": "stdout",
     "output_type": "stream",
     "text": [
      "Epoch 49/128 | Train Loss: 1.0382 | Test Loss: 0.5183 | Accuracy: 83.96% | GPU Memory (Alloc/Reserved): 0.07/1.830 GB\n"
     ]
    },
    {
     "name": "stderr",
     "output_type": "stream",
     "text": [
      "Train epoch: 50: 100%|██████████| 59/59 [00:27<00:00,  2.15it/s]\n",
      "Test epoch: 50: 100%|██████████| 34/34 [00:04<00:00,  6.92it/s]\n"
     ]
    },
    {
     "name": "stdout",
     "output_type": "stream",
     "text": [
      "Epoch 50/128 | Train Loss: 1.0349 | Test Loss: 0.5330 | Accuracy: 83.82% | GPU Memory (Alloc/Reserved): 0.07/1.830 GB\n"
     ]
    },
    {
     "name": "stderr",
     "output_type": "stream",
     "text": [
      "Train epoch: 51: 100%|██████████| 59/59 [00:26<00:00,  2.25it/s]\n",
      "Test epoch: 51: 100%|██████████| 34/34 [00:04<00:00,  7.26it/s]\n"
     ]
    },
    {
     "name": "stdout",
     "output_type": "stream",
     "text": [
      "Epoch 51/128 | Train Loss: 1.0347 | Test Loss: 0.5252 | Accuracy: 83.96% | GPU Memory (Alloc/Reserved): 0.07/1.830 GB\n"
     ]
    },
    {
     "name": "stderr",
     "output_type": "stream",
     "text": [
      "Train epoch: 52: 100%|██████████| 59/59 [00:25<00:00,  2.33it/s]\n",
      "Test epoch: 52: 100%|██████████| 34/34 [00:04<00:00,  7.01it/s]\n"
     ]
    },
    {
     "name": "stdout",
     "output_type": "stream",
     "text": [
      "Epoch 52/128 | Train Loss: 1.0258 | Test Loss: 0.5194 | Accuracy: 84.10% | GPU Memory (Alloc/Reserved): 0.07/1.830 GB\n"
     ]
    },
    {
     "name": "stderr",
     "output_type": "stream",
     "text": [
      "Train epoch: 53: 100%|██████████| 59/59 [00:25<00:00,  2.31it/s]\n",
      "Test epoch: 53: 100%|██████████| 34/34 [00:04<00:00,  7.05it/s]\n"
     ]
    },
    {
     "name": "stdout",
     "output_type": "stream",
     "text": [
      "Epoch 53/128 | Train Loss: 1.0287 | Test Loss: 0.5273 | Accuracy: 84.15% | GPU Memory (Alloc/Reserved): 0.07/1.830 GB\n"
     ]
    },
    {
     "name": "stderr",
     "output_type": "stream",
     "text": [
      "Train epoch: 54: 100%|██████████| 59/59 [00:25<00:00,  2.30it/s]\n",
      "Test epoch: 54: 100%|██████████| 34/34 [00:04<00:00,  7.02it/s]\n"
     ]
    },
    {
     "name": "stdout",
     "output_type": "stream",
     "text": [
      "Epoch 54/128 | Train Loss: 1.0101 | Test Loss: 0.5216 | Accuracy: 84.19% | GPU Memory (Alloc/Reserved): 0.07/1.830 GB\n"
     ]
    },
    {
     "name": "stderr",
     "output_type": "stream",
     "text": [
      "Train epoch: 55: 100%|██████████| 59/59 [00:26<00:00,  2.20it/s]\n",
      "Test epoch: 55: 100%|██████████| 34/34 [00:05<00:00,  6.51it/s]\n"
     ]
    },
    {
     "name": "stdout",
     "output_type": "stream",
     "text": [
      "Epoch 55/128 | Train Loss: 1.0103 | Test Loss: 0.5199 | Accuracy: 83.96% | GPU Memory (Alloc/Reserved): 0.07/1.830 GB\n"
     ]
    },
    {
     "name": "stderr",
     "output_type": "stream",
     "text": [
      "Train epoch: 56: 100%|██████████| 59/59 [00:27<00:00,  2.14it/s]\n",
      "Test epoch: 56: 100%|██████████| 34/34 [00:04<00:00,  7.07it/s]\n"
     ]
    },
    {
     "name": "stdout",
     "output_type": "stream",
     "text": [
      "Epoch 56/128 | Train Loss: 1.0235 | Test Loss: 0.5153 | Accuracy: 84.05% | GPU Memory (Alloc/Reserved): 0.07/1.830 GB\n"
     ]
    },
    {
     "name": "stderr",
     "output_type": "stream",
     "text": [
      "Train epoch: 57: 100%|██████████| 59/59 [00:24<00:00,  2.36it/s]\n",
      "Test epoch: 57: 100%|██████████| 34/34 [00:05<00:00,  6.57it/s]\n"
     ]
    },
    {
     "name": "stdout",
     "output_type": "stream",
     "text": [
      "Epoch 57/128 | Train Loss: 1.0223 | Test Loss: 0.5221 | Accuracy: 84.15% | GPU Memory (Alloc/Reserved): 0.07/1.830 GB\n"
     ]
    },
    {
     "name": "stderr",
     "output_type": "stream",
     "text": [
      "Train epoch: 58: 100%|██████████| 59/59 [00:26<00:00,  2.26it/s]\n",
      "Test epoch: 58: 100%|██████████| 34/34 [00:04<00:00,  7.07it/s]\n"
     ]
    },
    {
     "name": "stdout",
     "output_type": "stream",
     "text": [
      "Epoch 58/128 | Train Loss: 1.0289 | Test Loss: 0.5243 | Accuracy: 84.15% | GPU Memory (Alloc/Reserved): 0.07/1.830 GB\n"
     ]
    },
    {
     "name": "stderr",
     "output_type": "stream",
     "text": [
      "Train epoch: 59: 100%|██████████| 59/59 [00:26<00:00,  2.20it/s]\n",
      "Test epoch: 59: 100%|██████████| 34/34 [00:05<00:00,  6.41it/s]\n"
     ]
    },
    {
     "name": "stdout",
     "output_type": "stream",
     "text": [
      "Epoch 59/128 | Train Loss: 1.0119 | Test Loss: 0.5235 | Accuracy: 84.33% | GPU Memory (Alloc/Reserved): 0.07/1.830 GB\n"
     ]
    },
    {
     "name": "stderr",
     "output_type": "stream",
     "text": [
      "Train epoch: 60: 100%|██████████| 59/59 [00:27<00:00,  2.12it/s]\n",
      "Test epoch: 60: 100%|██████████| 34/34 [00:04<00:00,  7.08it/s]\n"
     ]
    },
    {
     "name": "stdout",
     "output_type": "stream",
     "text": [
      "Epoch 60/128 | Train Loss: 1.0126 | Test Loss: 0.5285 | Accuracy: 84.10% | GPU Memory (Alloc/Reserved): 0.07/1.830 GB\n"
     ]
    },
    {
     "name": "stderr",
     "output_type": "stream",
     "text": [
      "Train epoch: 61: 100%|██████████| 59/59 [00:55<00:00,  1.05it/s]\n",
      "Test epoch: 61: 100%|██████████| 34/34 [00:11<00:00,  2.89it/s]\n"
     ]
    },
    {
     "name": "stdout",
     "output_type": "stream",
     "text": [
      "Epoch 61/128 | Train Loss: 1.0486 | Test Loss: 0.5227 | Accuracy: 84.43% | GPU Memory (Alloc/Reserved): 0.07/1.830 GB\n"
     ]
    },
    {
     "name": "stderr",
     "output_type": "stream",
     "text": [
      "Train epoch: 62: 100%|██████████| 59/59 [01:03<00:00,  1.08s/it]\n",
      "Test epoch: 62: 100%|██████████| 34/34 [00:12<00:00,  2.81it/s]\n"
     ]
    },
    {
     "name": "stdout",
     "output_type": "stream",
     "text": [
      "Epoch 62/128 | Train Loss: 1.0280 | Test Loss: 0.5179 | Accuracy: 84.10% | GPU Memory (Alloc/Reserved): 0.07/1.830 GB\n"
     ]
    },
    {
     "name": "stderr",
     "output_type": "stream",
     "text": [
      "Train epoch: 63: 100%|██████████| 59/59 [01:00<00:00,  1.02s/it]\n",
      "Test epoch: 63: 100%|██████████| 34/34 [00:12<00:00,  2.68it/s]\n"
     ]
    },
    {
     "name": "stdout",
     "output_type": "stream",
     "text": [
      "Epoch 63/128 | Train Loss: 1.0114 | Test Loss: 0.5117 | Accuracy: 84.38% | GPU Memory (Alloc/Reserved): 0.07/1.830 GB\n"
     ]
    },
    {
     "name": "stderr",
     "output_type": "stream",
     "text": [
      "Train epoch: 64: 100%|██████████| 59/59 [00:56<00:00,  1.05it/s]\n",
      "Test epoch: 64: 100%|██████████| 34/34 [00:08<00:00,  3.78it/s]\n"
     ]
    },
    {
     "name": "stdout",
     "output_type": "stream",
     "text": [
      "Epoch 64/128 | Train Loss: 1.0226 | Test Loss: 0.5194 | Accuracy: 84.43% | GPU Memory (Alloc/Reserved): 0.07/1.830 GB\n"
     ]
    },
    {
     "name": "stderr",
     "output_type": "stream",
     "text": [
      "Train epoch: 65: 100%|██████████| 59/59 [00:56<00:00,  1.04it/s]\n",
      "Test epoch: 65: 100%|██████████| 34/34 [00:11<00:00,  3.07it/s]\n"
     ]
    },
    {
     "name": "stdout",
     "output_type": "stream",
     "text": [
      "Epoch 65/128 | Train Loss: 1.0422 | Test Loss: 0.5157 | Accuracy: 84.29% | GPU Memory (Alloc/Reserved): 0.07/1.830 GB\n"
     ]
    },
    {
     "name": "stderr",
     "output_type": "stream",
     "text": [
      "Train epoch: 66: 100%|██████████| 59/59 [01:05<00:00,  1.12s/it]\n",
      "Test epoch: 66: 100%|██████████| 34/34 [00:11<00:00,  3.01it/s]\n"
     ]
    },
    {
     "name": "stdout",
     "output_type": "stream",
     "text": [
      "Epoch 66/128 | Train Loss: 1.0205 | Test Loss: 0.5173 | Accuracy: 84.47% | GPU Memory (Alloc/Reserved): 0.07/1.830 GB\n"
     ]
    },
    {
     "name": "stderr",
     "output_type": "stream",
     "text": [
      "Train epoch: 67: 100%|██████████| 59/59 [01:06<00:00,  1.13s/it]\n",
      "Test epoch: 67: 100%|██████████| 34/34 [00:10<00:00,  3.11it/s]\n"
     ]
    },
    {
     "name": "stdout",
     "output_type": "stream",
     "text": [
      "Epoch 67/128 | Train Loss: 1.0245 | Test Loss: 0.5157 | Accuracy: 84.52% | GPU Memory (Alloc/Reserved): 0.07/1.830 GB\n"
     ]
    },
    {
     "name": "stderr",
     "output_type": "stream",
     "text": [
      "Train epoch: 68: 100%|██████████| 59/59 [01:11<00:00,  1.21s/it]\n",
      "Test epoch: 68: 100%|██████████| 34/34 [00:13<00:00,  2.57it/s]\n"
     ]
    },
    {
     "name": "stdout",
     "output_type": "stream",
     "text": [
      "Epoch 68/128 | Train Loss: 1.0176 | Test Loss: 0.5104 | Accuracy: 84.33% | GPU Memory (Alloc/Reserved): 0.07/1.830 GB\n"
     ]
    },
    {
     "name": "stderr",
     "output_type": "stream",
     "text": [
      "Train epoch: 69: 100%|██████████| 59/59 [01:14<00:00,  1.27s/it]\n",
      "Test epoch: 69: 100%|██████████| 34/34 [00:16<00:00,  2.08it/s]\n"
     ]
    },
    {
     "name": "stdout",
     "output_type": "stream",
     "text": [
      "Epoch 69/128 | Train Loss: 1.0234 | Test Loss: 0.5134 | Accuracy: 84.71% | GPU Memory (Alloc/Reserved): 0.07/1.830 GB\n"
     ]
    },
    {
     "name": "stderr",
     "output_type": "stream",
     "text": [
      "Train epoch: 70: 100%|██████████| 59/59 [01:13<00:00,  1.25s/it]\n",
      "Test epoch: 70: 100%|██████████| 34/34 [00:11<00:00,  3.05it/s]\n"
     ]
    },
    {
     "name": "stdout",
     "output_type": "stream",
     "text": [
      "Epoch 70/128 | Train Loss: 1.0374 | Test Loss: 0.5051 | Accuracy: 84.62% | GPU Memory (Alloc/Reserved): 0.07/1.830 GB\n"
     ]
    },
    {
     "name": "stderr",
     "output_type": "stream",
     "text": [
      "Train epoch: 71: 100%|██████████| 59/59 [01:12<00:00,  1.22s/it]\n",
      "Test epoch: 71: 100%|██████████| 34/34 [00:18<00:00,  1.82it/s]\n"
     ]
    },
    {
     "name": "stdout",
     "output_type": "stream",
     "text": [
      "Epoch 71/128 | Train Loss: 1.0270 | Test Loss: 0.5171 | Accuracy: 83.96% | GPU Memory (Alloc/Reserved): 0.07/1.830 GB\n"
     ]
    },
    {
     "name": "stderr",
     "output_type": "stream",
     "text": [
      "Train epoch: 72: 100%|██████████| 59/59 [01:24<00:00,  1.43s/it]\n",
      "Test epoch: 72: 100%|██████████| 34/34 [00:10<00:00,  3.14it/s]\n"
     ]
    },
    {
     "name": "stdout",
     "output_type": "stream",
     "text": [
      "Epoch 72/128 | Train Loss: 1.0225 | Test Loss: 0.5160 | Accuracy: 84.47% | GPU Memory (Alloc/Reserved): 0.07/1.830 GB\n"
     ]
    },
    {
     "name": "stderr",
     "output_type": "stream",
     "text": [
      "Train epoch: 73: 100%|██████████| 59/59 [01:03<00:00,  1.08s/it]\n",
      "Test epoch: 73: 100%|██████████| 34/34 [00:04<00:00,  7.10it/s]\n"
     ]
    },
    {
     "name": "stdout",
     "output_type": "stream",
     "text": [
      "Epoch 73/128 | Train Loss: 1.0435 | Test Loss: 0.5151 | Accuracy: 84.76% | GPU Memory (Alloc/Reserved): 0.07/1.830 GB\n"
     ]
    },
    {
     "name": "stderr",
     "output_type": "stream",
     "text": [
      "Train epoch: 74: 100%|██████████| 59/59 [00:46<00:00,  1.26it/s]\n",
      "Test epoch: 74: 100%|██████████| 34/34 [00:12<00:00,  2.68it/s]\n"
     ]
    },
    {
     "name": "stdout",
     "output_type": "stream",
     "text": [
      "Epoch 74/128 | Train Loss: 1.0453 | Test Loss: 0.5185 | Accuracy: 84.10% | GPU Memory (Alloc/Reserved): 0.07/1.830 GB\n"
     ]
    },
    {
     "name": "stderr",
     "output_type": "stream",
     "text": [
      "Train epoch: 75: 100%|██████████| 59/59 [01:12<00:00,  1.23s/it]\n",
      "Test epoch: 75: 100%|██████████| 34/34 [00:12<00:00,  2.72it/s]\n"
     ]
    },
    {
     "name": "stdout",
     "output_type": "stream",
     "text": [
      "Epoch 75/128 | Train Loss: 1.0058 | Test Loss: 0.5127 | Accuracy: 84.43% | GPU Memory (Alloc/Reserved): 0.07/1.830 GB\n"
     ]
    },
    {
     "name": "stderr",
     "output_type": "stream",
     "text": [
      "Train epoch: 76: 100%|██████████| 59/59 [00:49<00:00,  1.19it/s]\n",
      "Test epoch: 76: 100%|██████████| 34/34 [00:11<00:00,  3.08it/s]\n"
     ]
    },
    {
     "name": "stdout",
     "output_type": "stream",
     "text": [
      "Epoch 76/128 | Train Loss: 1.0296 | Test Loss: 0.5071 | Accuracy: 84.19% | GPU Memory (Alloc/Reserved): 0.07/1.830 GB\n"
     ]
    },
    {
     "name": "stderr",
     "output_type": "stream",
     "text": [
      "Train epoch: 77: 100%|██████████| 59/59 [01:04<00:00,  1.10s/it]\n",
      "Test epoch: 77: 100%|██████████| 34/34 [00:12<00:00,  2.62it/s]\n"
     ]
    },
    {
     "name": "stdout",
     "output_type": "stream",
     "text": [
      "Epoch 77/128 | Train Loss: 1.0300 | Test Loss: 0.5076 | Accuracy: 84.43% | GPU Memory (Alloc/Reserved): 0.07/1.830 GB\n"
     ]
    },
    {
     "name": "stderr",
     "output_type": "stream",
     "text": [
      "Train epoch: 78: 100%|██████████| 59/59 [01:12<00:00,  1.22s/it]\n",
      "Test epoch: 78: 100%|██████████| 34/34 [00:11<00:00,  3.04it/s]\n"
     ]
    },
    {
     "name": "stdout",
     "output_type": "stream",
     "text": [
      "Epoch 78/128 | Train Loss: 1.0283 | Test Loss: 0.5087 | Accuracy: 84.47% | GPU Memory (Alloc/Reserved): 0.07/1.830 GB\n"
     ]
    },
    {
     "name": "stderr",
     "output_type": "stream",
     "text": [
      "Train epoch: 79: 100%|██████████| 59/59 [01:09<00:00,  1.19s/it]\n",
      "Test epoch: 79: 100%|██████████| 34/34 [00:11<00:00,  2.87it/s]\n"
     ]
    },
    {
     "name": "stdout",
     "output_type": "stream",
     "text": [
      "Epoch 79/128 | Train Loss: 1.0242 | Test Loss: 0.5070 | Accuracy: 84.24% | GPU Memory (Alloc/Reserved): 0.07/1.830 GB\n"
     ]
    },
    {
     "name": "stderr",
     "output_type": "stream",
     "text": [
      "Train epoch: 80: 100%|██████████| 59/59 [01:08<00:00,  1.16s/it]\n",
      "Test epoch: 80: 100%|██████████| 34/34 [00:13<00:00,  2.53it/s]\n"
     ]
    },
    {
     "name": "stdout",
     "output_type": "stream",
     "text": [
      "Epoch 80/128 | Train Loss: 1.0332 | Test Loss: 0.5134 | Accuracy: 84.57% | GPU Memory (Alloc/Reserved): 0.07/1.830 GB\n"
     ]
    },
    {
     "name": "stderr",
     "output_type": "stream",
     "text": [
      "Train epoch: 81: 100%|██████████| 59/59 [01:10<00:00,  1.20s/it]\n",
      "Test epoch: 81: 100%|██████████| 34/34 [00:12<00:00,  2.81it/s]\n"
     ]
    },
    {
     "name": "stdout",
     "output_type": "stream",
     "text": [
      "Epoch 81/128 | Train Loss: 1.0221 | Test Loss: 0.5106 | Accuracy: 84.15% | GPU Memory (Alloc/Reserved): 0.07/1.830 GB\n"
     ]
    },
    {
     "name": "stderr",
     "output_type": "stream",
     "text": [
      "Train epoch: 82: 100%|██████████| 59/59 [01:08<00:00,  1.16s/it]\n",
      "Test epoch: 82: 100%|██████████| 34/34 [00:11<00:00,  3.05it/s]\n"
     ]
    },
    {
     "name": "stdout",
     "output_type": "stream",
     "text": [
      "Epoch 82/128 | Train Loss: 1.0313 | Test Loss: 0.5068 | Accuracy: 84.90% | GPU Memory (Alloc/Reserved): 0.07/1.830 GB\n"
     ]
    },
    {
     "name": "stderr",
     "output_type": "stream",
     "text": [
      "Train epoch: 83: 100%|██████████| 59/59 [01:07<00:00,  1.15s/it]\n",
      "Test epoch: 83: 100%|██████████| 34/34 [00:12<00:00,  2.63it/s]\n"
     ]
    },
    {
     "name": "stdout",
     "output_type": "stream",
     "text": [
      "Epoch 83/128 | Train Loss: 1.0316 | Test Loss: 0.5074 | Accuracy: 84.85% | GPU Memory (Alloc/Reserved): 0.07/1.830 GB\n"
     ]
    },
    {
     "name": "stderr",
     "output_type": "stream",
     "text": [
      "Train epoch: 84: 100%|██████████| 59/59 [01:13<00:00,  1.24s/it]\n",
      "Test epoch: 84: 100%|██████████| 34/34 [00:11<00:00,  2.88it/s]\n"
     ]
    },
    {
     "name": "stdout",
     "output_type": "stream",
     "text": [
      "Epoch 84/128 | Train Loss: 1.0381 | Test Loss: 0.5151 | Accuracy: 84.90% | GPU Memory (Alloc/Reserved): 0.07/1.830 GB\n"
     ]
    },
    {
     "name": "stderr",
     "output_type": "stream",
     "text": [
      "Train epoch: 85: 100%|██████████| 59/59 [01:04<00:00,  1.09s/it]\n",
      "Test epoch: 85: 100%|██████████| 34/34 [00:09<00:00,  3.54it/s]\n"
     ]
    },
    {
     "name": "stdout",
     "output_type": "stream",
     "text": [
      "Epoch 85/128 | Train Loss: 1.0257 | Test Loss: 0.5075 | Accuracy: 84.85% | GPU Memory (Alloc/Reserved): 0.07/1.830 GB\n"
     ]
    },
    {
     "name": "stderr",
     "output_type": "stream",
     "text": [
      "Train epoch: 86: 100%|██████████| 59/59 [01:04<00:00,  1.09s/it]\n",
      "Test epoch: 86: 100%|██████████| 34/34 [00:13<00:00,  2.61it/s]\n"
     ]
    },
    {
     "name": "stdout",
     "output_type": "stream",
     "text": [
      "Epoch 86/128 | Train Loss: 1.0248 | Test Loss: 0.5116 | Accuracy: 85.08% | GPU Memory (Alloc/Reserved): 0.07/1.830 GB\n"
     ]
    },
    {
     "name": "stderr",
     "output_type": "stream",
     "text": [
      "Train epoch: 87: 100%|██████████| 59/59 [01:13<00:00,  1.24s/it]\n",
      "Test epoch: 87: 100%|██████████| 34/34 [00:12<00:00,  2.79it/s]\n"
     ]
    },
    {
     "name": "stdout",
     "output_type": "stream",
     "text": [
      "Epoch 87/128 | Train Loss: 1.0293 | Test Loss: 0.5058 | Accuracy: 85.32% | GPU Memory (Alloc/Reserved): 0.07/1.830 GB\n"
     ]
    },
    {
     "name": "stderr",
     "output_type": "stream",
     "text": [
      "Train epoch: 88: 100%|██████████| 59/59 [01:10<00:00,  1.20s/it]\n",
      "Test epoch: 88: 100%|██████████| 34/34 [00:12<00:00,  2.80it/s]\n"
     ]
    },
    {
     "name": "stdout",
     "output_type": "stream",
     "text": [
      "Epoch 88/128 | Train Loss: 1.0355 | Test Loss: 0.5105 | Accuracy: 84.71% | GPU Memory (Alloc/Reserved): 0.07/1.830 GB\n"
     ]
    },
    {
     "name": "stderr",
     "output_type": "stream",
     "text": [
      "Train epoch: 89: 100%|██████████| 59/59 [00:58<00:00,  1.01it/s]\n",
      "Test epoch: 89: 100%|██████████| 34/34 [00:08<00:00,  4.15it/s]\n"
     ]
    },
    {
     "name": "stdout",
     "output_type": "stream",
     "text": [
      "Epoch 89/128 | Train Loss: 1.0269 | Test Loss: 0.5128 | Accuracy: 84.10% | GPU Memory (Alloc/Reserved): 0.07/1.830 GB\n"
     ]
    },
    {
     "name": "stderr",
     "output_type": "stream",
     "text": [
      "Train epoch: 90: 100%|██████████| 59/59 [01:03<00:00,  1.08s/it]\n",
      "Test epoch: 90: 100%|██████████| 34/34 [00:12<00:00,  2.76it/s]\n"
     ]
    },
    {
     "name": "stdout",
     "output_type": "stream",
     "text": [
      "Epoch 90/128 | Train Loss: 1.0226 | Test Loss: 0.5186 | Accuracy: 84.94% | GPU Memory (Alloc/Reserved): 0.07/1.830 GB\n"
     ]
    },
    {
     "name": "stderr",
     "output_type": "stream",
     "text": [
      "Train epoch: 91: 100%|██████████| 59/59 [01:10<00:00,  1.19s/it]\n",
      "Test epoch: 91: 100%|██████████| 34/34 [00:11<00:00,  3.00it/s]\n"
     ]
    },
    {
     "name": "stdout",
     "output_type": "stream",
     "text": [
      "Epoch 91/128 | Train Loss: 1.0167 | Test Loss: 0.5033 | Accuracy: 84.38% | GPU Memory (Alloc/Reserved): 0.07/1.830 GB\n"
     ]
    },
    {
     "name": "stderr",
     "output_type": "stream",
     "text": [
      "Train epoch: 92: 100%|██████████| 59/59 [01:04<00:00,  1.09s/it]\n",
      "Test epoch: 92: 100%|██████████| 34/34 [00:12<00:00,  2.70it/s]\n"
     ]
    },
    {
     "name": "stdout",
     "output_type": "stream",
     "text": [
      "Epoch 92/128 | Train Loss: 1.0159 | Test Loss: 0.5149 | Accuracy: 84.29% | GPU Memory (Alloc/Reserved): 0.07/1.830 GB\n"
     ]
    },
    {
     "name": "stderr",
     "output_type": "stream",
     "text": [
      "Train epoch: 93: 100%|██████████| 59/59 [01:13<00:00,  1.24s/it]\n",
      "Test epoch: 93: 100%|██████████| 34/34 [00:12<00:00,  2.83it/s]\n"
     ]
    },
    {
     "name": "stdout",
     "output_type": "stream",
     "text": [
      "Epoch 93/128 | Train Loss: 1.0232 | Test Loss: 0.5130 | Accuracy: 83.82% | GPU Memory (Alloc/Reserved): 0.07/1.830 GB\n"
     ]
    },
    {
     "name": "stderr",
     "output_type": "stream",
     "text": [
      "Train epoch: 94: 100%|██████████| 59/59 [01:10<00:00,  1.20s/it]\n",
      "Test epoch: 94: 100%|██████████| 34/34 [00:12<00:00,  2.83it/s]\n"
     ]
    },
    {
     "name": "stdout",
     "output_type": "stream",
     "text": [
      "Epoch 94/128 | Train Loss: 1.0296 | Test Loss: 0.5053 | Accuracy: 84.38% | GPU Memory (Alloc/Reserved): 0.07/1.830 GB\n"
     ]
    },
    {
     "name": "stderr",
     "output_type": "stream",
     "text": [
      "Train epoch: 95: 100%|██████████| 59/59 [01:06<00:00,  1.13s/it]\n",
      "Test epoch: 95: 100%|██████████| 34/34 [00:12<00:00,  2.67it/s]\n"
     ]
    },
    {
     "name": "stdout",
     "output_type": "stream",
     "text": [
      "Epoch 95/128 | Train Loss: 1.0355 | Test Loss: 0.5068 | Accuracy: 84.76% | GPU Memory (Alloc/Reserved): 0.07/1.830 GB\n"
     ]
    },
    {
     "name": "stderr",
     "output_type": "stream",
     "text": [
      "Train epoch: 96: 100%|██████████| 59/59 [01:08<00:00,  1.16s/it]\n",
      "Test epoch: 96: 100%|██████████| 34/34 [00:11<00:00,  2.92it/s]\n"
     ]
    },
    {
     "name": "stdout",
     "output_type": "stream",
     "text": [
      "Epoch 96/128 | Train Loss: 1.0568 | Test Loss: 0.5031 | Accuracy: 84.66% | GPU Memory (Alloc/Reserved): 0.07/1.830 GB\n"
     ]
    },
    {
     "name": "stderr",
     "output_type": "stream",
     "text": [
      "Train epoch: 97: 100%|██████████| 59/59 [00:49<00:00,  1.19it/s]\n",
      "Test epoch: 97: 100%|██████████| 34/34 [00:04<00:00,  7.21it/s]\n"
     ]
    },
    {
     "name": "stdout",
     "output_type": "stream",
     "text": [
      "Epoch 97/128 | Train Loss: 1.0250 | Test Loss: 0.5007 | Accuracy: 84.99% | GPU Memory (Alloc/Reserved): 0.07/1.830 GB\n"
     ]
    },
    {
     "name": "stderr",
     "output_type": "stream",
     "text": [
      "Train epoch: 98: 100%|██████████| 59/59 [00:54<00:00,  1.09it/s]\n",
      "Test epoch: 98: 100%|██████████| 34/34 [00:09<00:00,  3.51it/s]\n"
     ]
    },
    {
     "name": "stdout",
     "output_type": "stream",
     "text": [
      "Epoch 98/128 | Train Loss: 1.0146 | Test Loss: 0.5016 | Accuracy: 84.85% | GPU Memory (Alloc/Reserved): 0.07/1.830 GB\n"
     ]
    },
    {
     "name": "stderr",
     "output_type": "stream",
     "text": [
      "Train epoch: 99: 100%|██████████| 59/59 [01:06<00:00,  1.12s/it]\n",
      "Test epoch: 99: 100%|██████████| 34/34 [00:10<00:00,  3.14it/s]\n"
     ]
    },
    {
     "name": "stdout",
     "output_type": "stream",
     "text": [
      "Epoch 99/128 | Train Loss: 1.0182 | Test Loss: 0.5060 | Accuracy: 84.33% | GPU Memory (Alloc/Reserved): 0.07/1.830 GB\n"
     ]
    },
    {
     "name": "stderr",
     "output_type": "stream",
     "text": [
      "Train epoch: 100: 100%|██████████| 59/59 [01:02<00:00,  1.06s/it]\n",
      "Test epoch: 100: 100%|██████████| 34/34 [00:11<00:00,  2.88it/s]\n"
     ]
    },
    {
     "name": "stdout",
     "output_type": "stream",
     "text": [
      "Epoch 100/128 | Train Loss: 1.0334 | Test Loss: 0.5028 | Accuracy: 84.80% | GPU Memory (Alloc/Reserved): 0.07/1.830 GB\n"
     ]
    },
    {
     "name": "stderr",
     "output_type": "stream",
     "text": [
      "Train epoch: 101: 100%|██████████| 59/59 [01:08<00:00,  1.17s/it]\n",
      "Test epoch: 101: 100%|██████████| 34/34 [00:10<00:00,  3.33it/s]\n"
     ]
    },
    {
     "name": "stdout",
     "output_type": "stream",
     "text": [
      "Epoch 101/128 | Train Loss: 1.0335 | Test Loss: 0.5072 | Accuracy: 84.76% | GPU Memory (Alloc/Reserved): 0.07/1.830 GB\n"
     ]
    },
    {
     "name": "stderr",
     "output_type": "stream",
     "text": [
      "Train epoch: 102: 100%|██████████| 59/59 [01:07<00:00,  1.15s/it]\n",
      "Test epoch: 102: 100%|██████████| 34/34 [00:11<00:00,  2.84it/s]\n"
     ]
    },
    {
     "name": "stdout",
     "output_type": "stream",
     "text": [
      "Epoch 102/128 | Train Loss: 1.0318 | Test Loss: 0.4961 | Accuracy: 84.90% | GPU Memory (Alloc/Reserved): 0.07/1.830 GB\n"
     ]
    },
    {
     "name": "stderr",
     "output_type": "stream",
     "text": [
      "Train epoch: 103: 100%|██████████| 59/59 [01:02<00:00,  1.05s/it]\n",
      "Test epoch: 103: 100%|██████████| 34/34 [00:11<00:00,  3.02it/s]\n"
     ]
    },
    {
     "name": "stdout",
     "output_type": "stream",
     "text": [
      "Epoch 103/128 | Train Loss: 1.0331 | Test Loss: 0.5064 | Accuracy: 84.76% | GPU Memory (Alloc/Reserved): 0.07/1.830 GB\n"
     ]
    },
    {
     "name": "stderr",
     "output_type": "stream",
     "text": [
      "Train epoch: 104: 100%|██████████| 59/59 [01:07<00:00,  1.14s/it]\n",
      "Test epoch: 104: 100%|██████████| 34/34 [00:10<00:00,  3.16it/s]\n"
     ]
    },
    {
     "name": "stdout",
     "output_type": "stream",
     "text": [
      "Epoch 104/128 | Train Loss: 1.0288 | Test Loss: 0.5084 | Accuracy: 84.85% | GPU Memory (Alloc/Reserved): 0.07/1.830 GB\n"
     ]
    },
    {
     "name": "stderr",
     "output_type": "stream",
     "text": [
      "Train epoch: 105: 100%|██████████| 59/59 [01:07<00:00,  1.14s/it]\n",
      "Test epoch: 105: 100%|██████████| 34/34 [00:12<00:00,  2.80it/s]\n"
     ]
    },
    {
     "name": "stdout",
     "output_type": "stream",
     "text": [
      "Epoch 105/128 | Train Loss: 1.0209 | Test Loss: 0.5060 | Accuracy: 85.04% | GPU Memory (Alloc/Reserved): 0.07/1.830 GB\n"
     ]
    },
    {
     "name": "stderr",
     "output_type": "stream",
     "text": [
      "Train epoch: 106: 100%|██████████| 59/59 [01:06<00:00,  1.13s/it]\n",
      "Test epoch: 106: 100%|██████████| 34/34 [00:12<00:00,  2.83it/s]\n"
     ]
    },
    {
     "name": "stdout",
     "output_type": "stream",
     "text": [
      "Epoch 106/128 | Train Loss: 1.0239 | Test Loss: 0.5160 | Accuracy: 84.38% | GPU Memory (Alloc/Reserved): 0.07/1.830 GB\n"
     ]
    },
    {
     "name": "stderr",
     "output_type": "stream",
     "text": [
      "Train epoch: 107: 100%|██████████| 59/59 [01:12<00:00,  1.22s/it]\n",
      "Test epoch: 107: 100%|██████████| 34/34 [00:12<00:00,  2.72it/s]\n"
     ]
    },
    {
     "name": "stdout",
     "output_type": "stream",
     "text": [
      "Epoch 107/128 | Train Loss: 1.0438 | Test Loss: 0.5102 | Accuracy: 84.43% | GPU Memory (Alloc/Reserved): 0.07/1.830 GB\n"
     ]
    },
    {
     "name": "stderr",
     "output_type": "stream",
     "text": [
      "Train epoch: 108: 100%|██████████| 59/59 [01:07<00:00,  1.14s/it]\n",
      "Test epoch: 108: 100%|██████████| 34/34 [00:11<00:00,  3.04it/s]\n"
     ]
    },
    {
     "name": "stdout",
     "output_type": "stream",
     "text": [
      "Epoch 108/128 | Train Loss: 1.0407 | Test Loss: 0.5202 | Accuracy: 84.05% | GPU Memory (Alloc/Reserved): 0.07/1.830 GB\n"
     ]
    },
    {
     "name": "stderr",
     "output_type": "stream",
     "text": [
      "Train epoch: 109: 100%|██████████| 59/59 [01:09<00:00,  1.18s/it]\n",
      "Test epoch: 109: 100%|██████████| 34/34 [00:11<00:00,  3.02it/s]\n"
     ]
    },
    {
     "name": "stdout",
     "output_type": "stream",
     "text": [
      "Epoch 109/128 | Train Loss: 1.0349 | Test Loss: 0.5088 | Accuracy: 84.10% | GPU Memory (Alloc/Reserved): 0.07/1.830 GB\n"
     ]
    },
    {
     "name": "stderr",
     "output_type": "stream",
     "text": [
      "Train epoch: 110: 100%|██████████| 59/59 [00:54<00:00,  1.09it/s]\n",
      "Test epoch: 110: 100%|██████████| 34/34 [00:04<00:00,  7.44it/s]\n"
     ]
    },
    {
     "name": "stdout",
     "output_type": "stream",
     "text": [
      "Epoch 110/128 | Train Loss: 1.0029 | Test Loss: 0.5050 | Accuracy: 84.57% | GPU Memory (Alloc/Reserved): 0.07/1.830 GB\n"
     ]
    },
    {
     "name": "stderr",
     "output_type": "stream",
     "text": [
      "Train epoch: 111: 100%|██████████| 59/59 [00:26<00:00,  2.21it/s]\n",
      "Test epoch: 111: 100%|██████████| 34/34 [00:04<00:00,  7.15it/s]\n"
     ]
    },
    {
     "name": "stdout",
     "output_type": "stream",
     "text": [
      "Epoch 111/128 | Train Loss: 1.0311 | Test Loss: 0.5004 | Accuracy: 84.85% | GPU Memory (Alloc/Reserved): 0.07/1.830 GB\n"
     ]
    },
    {
     "name": "stderr",
     "output_type": "stream",
     "text": [
      "Train epoch: 112: 100%|██████████| 59/59 [00:25<00:00,  2.36it/s]\n",
      "Test epoch: 112: 100%|██████████| 34/34 [00:04<00:00,  7.45it/s]\n"
     ]
    },
    {
     "name": "stdout",
     "output_type": "stream",
     "text": [
      "Epoch 112/128 | Train Loss: 1.0204 | Test Loss: 0.5043 | Accuracy: 84.29% | GPU Memory (Alloc/Reserved): 0.07/1.830 GB\n"
     ]
    },
    {
     "name": "stderr",
     "output_type": "stream",
     "text": [
      "Train epoch: 113: 100%|██████████| 59/59 [00:25<00:00,  2.33it/s]\n",
      "Test epoch: 113: 100%|██████████| 34/34 [00:04<00:00,  7.31it/s]\n"
     ]
    },
    {
     "name": "stdout",
     "output_type": "stream",
     "text": [
      "Epoch 113/128 | Train Loss: 1.0359 | Test Loss: 0.5013 | Accuracy: 84.76% | GPU Memory (Alloc/Reserved): 0.07/1.830 GB\n"
     ]
    },
    {
     "name": "stderr",
     "output_type": "stream",
     "text": [
      "Train epoch: 114: 100%|██████████| 59/59 [00:25<00:00,  2.35it/s]\n",
      "Test epoch: 114: 100%|██████████| 34/34 [00:04<00:00,  7.28it/s]\n"
     ]
    },
    {
     "name": "stdout",
     "output_type": "stream",
     "text": [
      "Epoch 114/128 | Train Loss: 1.0393 | Test Loss: 0.5126 | Accuracy: 84.33% | GPU Memory (Alloc/Reserved): 0.07/1.830 GB\n"
     ]
    },
    {
     "name": "stderr",
     "output_type": "stream",
     "text": [
      "Train epoch: 115: 100%|██████████| 59/59 [00:24<00:00,  2.36it/s]\n",
      "Test epoch: 115: 100%|██████████| 34/34 [00:04<00:00,  7.42it/s]\n"
     ]
    },
    {
     "name": "stdout",
     "output_type": "stream",
     "text": [
      "Epoch 115/128 | Train Loss: 1.0266 | Test Loss: 0.4982 | Accuracy: 84.29% | GPU Memory (Alloc/Reserved): 0.07/1.830 GB\n"
     ]
    },
    {
     "name": "stderr",
     "output_type": "stream",
     "text": [
      "Train epoch: 116: 100%|██████████| 59/59 [00:24<00:00,  2.37it/s]\n",
      "Test epoch: 116: 100%|██████████| 34/34 [00:04<00:00,  7.45it/s]\n"
     ]
    },
    {
     "name": "stdout",
     "output_type": "stream",
     "text": [
      "Epoch 116/128 | Train Loss: 1.0248 | Test Loss: 0.4998 | Accuracy: 84.80% | GPU Memory (Alloc/Reserved): 0.07/1.830 GB\n"
     ]
    },
    {
     "name": "stderr",
     "output_type": "stream",
     "text": [
      "Train epoch: 117: 100%|██████████| 59/59 [00:25<00:00,  2.35it/s]\n",
      "Test epoch: 117: 100%|██████████| 34/34 [00:04<00:00,  7.35it/s]\n"
     ]
    },
    {
     "name": "stdout",
     "output_type": "stream",
     "text": [
      "Epoch 117/128 | Train Loss: 1.0433 | Test Loss: 0.5056 | Accuracy: 84.71% | GPU Memory (Alloc/Reserved): 0.07/1.830 GB\n"
     ]
    },
    {
     "name": "stderr",
     "output_type": "stream",
     "text": [
      "Train epoch: 118: 100%|██████████| 59/59 [00:25<00:00,  2.35it/s]\n",
      "Test epoch: 118: 100%|██████████| 34/34 [00:04<00:00,  7.50it/s]\n"
     ]
    },
    {
     "name": "stdout",
     "output_type": "stream",
     "text": [
      "Epoch 118/128 | Train Loss: 1.0272 | Test Loss: 0.5136 | Accuracy: 84.85% | GPU Memory (Alloc/Reserved): 0.07/1.830 GB\n"
     ]
    },
    {
     "name": "stderr",
     "output_type": "stream",
     "text": [
      "Train epoch: 119: 100%|██████████| 59/59 [00:24<00:00,  2.36it/s]\n",
      "Test epoch: 119: 100%|██████████| 34/34 [00:04<00:00,  7.44it/s]\n"
     ]
    },
    {
     "name": "stdout",
     "output_type": "stream",
     "text": [
      "Epoch 119/128 | Train Loss: 1.0336 | Test Loss: 0.5055 | Accuracy: 84.47% | GPU Memory (Alloc/Reserved): 0.07/1.830 GB\n"
     ]
    },
    {
     "name": "stderr",
     "output_type": "stream",
     "text": [
      "Train epoch: 120: 100%|██████████| 59/59 [00:25<00:00,  2.28it/s]\n",
      "Test epoch: 120: 100%|██████████| 34/34 [00:04<00:00,  7.13it/s]\n"
     ]
    },
    {
     "name": "stdout",
     "output_type": "stream",
     "text": [
      "Epoch 120/128 | Train Loss: 1.0169 | Test Loss: 0.5081 | Accuracy: 85.18% | GPU Memory (Alloc/Reserved): 0.07/1.830 GB\n"
     ]
    },
    {
     "name": "stderr",
     "output_type": "stream",
     "text": [
      "Train epoch: 121: 100%|██████████| 59/59 [00:26<00:00,  2.25it/s]\n",
      "Test epoch: 121: 100%|██████████| 34/34 [00:04<00:00,  7.05it/s]\n"
     ]
    },
    {
     "name": "stdout",
     "output_type": "stream",
     "text": [
      "Epoch 121/128 | Train Loss: 1.0277 | Test Loss: 0.5127 | Accuracy: 84.57% | GPU Memory (Alloc/Reserved): 0.07/1.830 GB\n"
     ]
    },
    {
     "name": "stderr",
     "output_type": "stream",
     "text": [
      "Train epoch: 122: 100%|██████████| 59/59 [00:26<00:00,  2.22it/s]\n",
      "Test epoch: 122: 100%|██████████| 34/34 [00:04<00:00,  7.01it/s]\n"
     ]
    },
    {
     "name": "stdout",
     "output_type": "stream",
     "text": [
      "Epoch 122/128 | Train Loss: 1.0350 | Test Loss: 0.5090 | Accuracy: 84.38% | GPU Memory (Alloc/Reserved): 0.07/1.830 GB\n"
     ]
    },
    {
     "name": "stderr",
     "output_type": "stream",
     "text": [
      "Train epoch: 123: 100%|██████████| 59/59 [00:25<00:00,  2.33it/s]\n",
      "Test epoch: 123: 100%|██████████| 34/34 [00:04<00:00,  7.38it/s]\n"
     ]
    },
    {
     "name": "stdout",
     "output_type": "stream",
     "text": [
      "Epoch 123/128 | Train Loss: 1.0328 | Test Loss: 0.5011 | Accuracy: 84.33% | GPU Memory (Alloc/Reserved): 0.07/1.830 GB\n"
     ]
    },
    {
     "name": "stderr",
     "output_type": "stream",
     "text": [
      "Train epoch: 124: 100%|██████████| 59/59 [00:24<00:00,  2.36it/s]\n",
      "Test epoch: 124: 100%|██████████| 34/34 [00:04<00:00,  7.39it/s]\n"
     ]
    },
    {
     "name": "stdout",
     "output_type": "stream",
     "text": [
      "Epoch 124/128 | Train Loss: 1.0156 | Test Loss: 0.5092 | Accuracy: 84.62% | GPU Memory (Alloc/Reserved): 0.07/1.830 GB\n"
     ]
    },
    {
     "name": "stderr",
     "output_type": "stream",
     "text": [
      "Train epoch: 125: 100%|██████████| 59/59 [00:25<00:00,  2.36it/s]\n",
      "Test epoch: 125: 100%|██████████| 34/34 [00:04<00:00,  7.46it/s]\n"
     ]
    },
    {
     "name": "stdout",
     "output_type": "stream",
     "text": [
      "Epoch 125/128 | Train Loss: 1.0427 | Test Loss: 0.5091 | Accuracy: 84.94% | GPU Memory (Alloc/Reserved): 0.07/1.830 GB\n"
     ]
    },
    {
     "name": "stderr",
     "output_type": "stream",
     "text": [
      "Train epoch: 126: 100%|██████████| 59/59 [00:24<00:00,  2.37it/s]\n",
      "Test epoch: 126: 100%|██████████| 34/34 [00:04<00:00,  7.44it/s]\n"
     ]
    },
    {
     "name": "stdout",
     "output_type": "stream",
     "text": [
      "Epoch 126/128 | Train Loss: 1.0150 | Test Loss: 0.5158 | Accuracy: 83.72% | GPU Memory (Alloc/Reserved): 0.07/1.830 GB\n"
     ]
    },
    {
     "name": "stderr",
     "output_type": "stream",
     "text": [
      "Train epoch: 127: 100%|██████████| 59/59 [00:25<00:00,  2.36it/s]\n",
      "Test epoch: 127: 100%|██████████| 34/34 [00:04<00:00,  7.49it/s]\n"
     ]
    },
    {
     "name": "stdout",
     "output_type": "stream",
     "text": [
      "Epoch 127/128 | Train Loss: 1.0227 | Test Loss: 0.4989 | Accuracy: 84.38% | GPU Memory (Alloc/Reserved): 0.07/1.830 GB\n"
     ]
    },
    {
     "name": "stderr",
     "output_type": "stream",
     "text": [
      "Train epoch: 128: 100%|██████████| 59/59 [00:25<00:00,  2.34it/s]\n",
      "Test epoch: 128: 100%|██████████| 34/34 [00:04<00:00,  7.42it/s]\n"
     ]
    },
    {
     "name": "stdout",
     "output_type": "stream",
     "text": [
      "Epoch 128/128 | Train Loss: 1.0174 | Test Loss: 0.5101 | Accuracy: 84.38% | GPU Memory (Alloc/Reserved): 0.07/1.830 GB\n",
      "Phase done!\n"
     ]
    },
    {
     "data": {
      "text/plain": [
       "<Figure size 1000x600 with 1 Axes>"
      ],
      "image/png": "[encoded data removed]"
     },
     "metadata": {},
     "output_type": "display_data"
    },
    {
     "data": {
      "text/plain": [
       "<Figure size 1000x600 with 1 Axes>"
      ],
      "image/png": "[encoded data removed]"
     },
     "metadata": {},
     "output_type": "display_data"
    },
    {
     "name": "stdout",
     "output_type": "stream",
     "text": [
      "Historical data saved successfully!\n"
     ]
    }
   ],
   "execution_count": 12
  },
  {
   "metadata": {},
   "cell_type": "code",
   "source": [
    "import torch.optim as optim\n",
    "\n",
    "hardware = torch.device('cuda' if   torch.cuda.is_available() else 'cpu')\n",
    "classes = 6\n",
    "learning_rate = 1e-3\n",
    "weight_decay = 1e-2\n",
    "num_epochs = 64\n",
    "criterion = nn.CrossEntropyLoss()\n",
    "\n",
    "model = PestClassifierMobileNetV2(num_classes=classes).to(hardware)\n",
    "model.load_state_dict(torch.load('models/SMobileNetV2_rice_pest_classificationV3.pth'))\n",
    "\n",
    "\n",
    "optimizer = optim.AdamW(filter(lambda p: p.requires_grad, model.parameters()), lr=learning_rate, weight_decay=weight_decay)\n",
    "\n",
    "model.unfreeze_final_invert_residual()\n",
    "\n",
    "print(\"\\nPhase 3 Training continuation\\n\")\n",
    "\n",
    "result_3, accuracies_3 = train_and_test(model=model, optimizer=optimizer, criterion=criterion,train_dataloader=train_loader, test_dataloader=test_loader, num_epoch=64, device=hardware)\n",
    "\n",
    "plot_training_result(result_3)\n",
    "plot_accuracy(result_3)\n"
   ],
   "id": "168c5f1b7fae689c",
   "outputs": [],
   "execution_count": null
  },
  {
   "metadata": {},
   "cell_type": "code",
   "source": "print( 1e-4)",
   "id": "1467cef09840c64b",
   "outputs": [],
   "execution_count": null
  },
  {
   "metadata": {
    "ExecuteTime": {
     "end_time": "2025-08-10T02:42:10.590110Z",
     "start_time": "2025-08-10T02:42:10.582746Z"
    }
   },
   "cell_type": "code",
   "source": [
    "from PIL import Image\n",
    "import torch.nn.functional as F\n",
    "\n",
    "def predict_single_image(model, image_path, classes, transform, device):\n",
    "\n",
    "    model.to(device)\n",
    "\n",
    "    model.eval()\n",
    "\n",
    "    image = Image.open(image_path).convert('RGB')\n",
    "\n",
    "    image_np = np.array(image)\n",
    "\n",
    "    augmented = transform(image=image_np)\n",
    "\n",
    "    image_tensor = augmented['image'].unsqueeze(0).to(device)\n",
    "\n",
    "    with torch.no_grad():\n",
    "\n",
    "        result = model(image_tensor)\n",
    "\n",
    "        probability = F.softmax(result, dim=1)\n",
    "\n",
    "        confidence, predicted = torch.max(probability, 1)\n",
    "\n",
    "        predicted_class = classes[predicted.item()]\n",
    "        confidence_score = confidence.item()\n",
    "\n",
    "    return predicted_class, confidence_score\n"
   ],
   "id": "340b828c2f1ea908",
   "outputs": [],
   "execution_count": 10
  },
  {
   "metadata": {
    "ExecuteTime": {
     "end_time": "2025-08-10T02:42:15.467254Z",
     "start_time": "2025-08-10T02:42:14.503231Z"
    }
   },
   "cell_type": "code",
   "source": [
    "import torchvision.models as models\n",
    "\n",
    "classes_names = train_set.classes\n",
    "hardware = torch.device('cuda' if   torch.cuda.is_available() else 'cpu')\n",
    "model_inference = PestClassifierMobileNetV2(num_classes=len(classes_names))\n",
    "model_inference.load_state_dict(torch.load('models/SMobileNetV2_rice_pest_classificationV5.pth', map_location=hardware))\n",
    "image_path = 'sample4.jpg'\n",
    "\n",
    "pest, confidence_score = predict_single_image(model=model_inference, image_path=image_path, classes=classes_names, transform=validation_pipeline, device=hardware)\n",
    "\n",
    "print(f\"The predicted pest is: {pest}\")\n",
    "print(f\"Confidence: {confidence_score * 100:.2f}%\")"
   ],
   "id": "affbac0d0a0851c8",
   "outputs": [
    {
     "name": "stdout",
     "output_type": "stream",
     "text": [
      "The predicted pest is: rice-leaf-folder\n",
      "Confidence: 34.02%\n"
     ]
    }
   ],
   "execution_count": 11
  }
 ],
 "metadata": {
  "kernelspec": {
   "display_name": "Python 3",
   "language": "python",
   "name": "python3"
  },
  "language_info": {
   "codemirror_mode": {
    "name": "ipython",
    "version": 2
   },
   "file_extension": ".py",
   "mimetype": "text/x-python",
   "name": "python",
   "nbconvert_exporter": "python",
   "pygments_lexer": "ipython2",
   "version": "2.7.6"
  }
 },
 "nbformat": 4,
 "nbformat_minor": 5
}
