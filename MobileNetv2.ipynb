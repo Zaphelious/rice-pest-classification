{
 "cells": [
  {
   "cell_type": "code",
   "id": "initial_id",
   "metadata": {
    "collapsed": true,
    "ExecuteTime": {
     "end_time": "2025-09-10T03:42:48.188819Z",
     "start_time": "2025-09-10T03:42:46.168334Z"
    }
   },
   "source": [
    "import torch\n",
    "\n",
    "print(torch.version.cuda)\n",
    "print(torch.cuda.get_device_name(0))"
   ],
   "outputs": [
    {
     "name": "stdout",
     "output_type": "stream",
     "text": [
      "12.8\n",
      "NVIDIA GeForce RTX 4060 Laptop GPU\n"
     ]
    }
   ],
   "execution_count": 1
  },
  {
   "metadata": {
    "ExecuteTime": {
     "end_time": "2025-09-10T03:42:48.809838Z",
     "start_time": "2025-09-10T03:42:48.805516Z"
    }
   },
   "cell_type": "code",
   "source": [
    "allocated_bytes = torch.cuda.memory_allocated('cuda')\n",
    "allocated_mb = allocated_bytes / (1024 * 1024)\n",
    "\n",
    "reserved_bytes = torch.cuda.memory_reserved('cuda')\n",
    "reserved_mb = reserved_bytes / (1024 * 1024)\n",
    "\n",
    "print(\"\\n--- VRAM USAGE REPORT ---\")\n",
    "print(f\"Memory Allocated: {allocated_mb:.2f} MB\")\n",
    "print(f\"Memory Reserved:  {reserved_mb:.2f} MB\")\n",
    "print(\"-------------------------\\n\")"
   ],
   "id": "67c943da802f3366",
   "outputs": [
    {
     "name": "stdout",
     "output_type": "stream",
     "text": [
      "\n",
      "--- VRAM USAGE REPORT ---\n",
      "Memory Allocated: 0.00 MB\n",
      "Memory Reserved:  0.00 MB\n",
      "-------------------------\n",
      "\n"
     ]
    }
   ],
   "execution_count": 2
  },
  {
   "metadata": {
    "ExecuteTime": {
     "end_time": "2025-09-10T03:42:50.920483Z",
     "start_time": "2025-09-10T03:42:50.371890Z"
    }
   },
   "cell_type": "code",
   "source": [
    "import albumentations as A\n",
    "from albumentations.pytorch import ToTensorV2\n",
    "\n",
    "validation_pipeline = A.Compose([\n",
    "    A.Resize(height=224, width=224),\n",
    "    A.Normalize(mean=(0.485, 0.456, 0.406), std=(0.229, 0.224, 0.225)),\n",
    "    ToTensorV2()\n",
    "])\n",
    "\n",
    "basic_pipeline = A.Compose([\n",
    "    # Resize the image first\n",
    "    A.Resize(height=224, width=224),\n",
    "    A.RandomCrop(height=180, width=180, p=0.7),\n",
    "    A.Resize(height=224, width=224),\n",
    "    A.HorizontalFlip(p=0.6),\n",
    "    A.VerticalFlip(p=0.6),\n",
    "    A.Rotate(limit=(-45,45), p=0.7),\n",
    "    A.Normalize(mean=(0.485, 0.456, 0.406), std=(0.229, 0.224, 0.225)),\n",
    "    ToTensorV2()\n",
    "])"
   ],
   "id": "6e6fca57e1d09951",
   "outputs": [],
   "execution_count": 3
  },
  {
   "metadata": {
    "ExecuteTime": {
     "end_time": "2025-09-10T03:42:53.759354Z",
     "start_time": "2025-09-10T03:42:52.348620Z"
    }
   },
   "cell_type": "code",
   "source": [
    "import torch.nn as nn\n",
    "from torchvision import models\n",
    "\n",
    "class PestClassifierResNet50(nn.Module):\n",
    "\n",
    "    def __init__(self, num_classes):\n",
    "\n",
    "        super(PestClassifierResNet50,self).__init__()\n",
    "\n",
    "        self.base_model = models.resnet50(weights=None)\n",
    "\n",
    "        features = self.base_model.fc.in_features\n",
    "\n",
    "        self.base_model.fc = nn.Sequential(\n",
    "            nn.Dropout(p=0.3, inplace=False),\n",
    "            nn.Linear(features, num_classes),\n",
    "        )\n",
    "\n",
    "    def forward(self, x):\n",
    "\n",
    "        return self.base_model(x)"
   ],
   "id": "286f91b7e7faf653",
   "outputs": [],
   "execution_count": 4
  },
  {
   "metadata": {
    "ExecuteTime": {
     "end_time": "2025-09-10T03:42:55.228515Z",
     "start_time": "2025-09-10T03:42:55.221514Z"
    }
   },
   "cell_type": "code",
   "source": [
    "import torch\n",
    "from tqdm import tqdm\n",
    "import time\n",
    "\n",
    "def train_and_validate(model, optimizer, criterion, train_dataloader, validation_dataloader, num_epoch, device):\n",
    "\n",
    "    total_time = 0.0\n",
    "    train_losses = []\n",
    "    validation_losses = []\n",
    "    accuracies = []\n",
    "    best_validation_loss=float('inf')\n",
    "\n",
    "    start_time = time.time()\n",
    "\n",
    "    for epoch in range(num_epoch):\n",
    "        model.train()\n",
    "        running_train_loss = 0.0\n",
    "        train_pbar = tqdm(train_dataloader, desc=f\"Train epoch: {epoch+1}\")\n",
    "        for data, labels in train_pbar:\n",
    "            data, labels = data.to(device), labels.to(device)\n",
    "            optimizer.zero_grad()\n",
    "            output = model(data)\n",
    "            loss = criterion(output, labels)\n",
    "            loss.backward()\n",
    "            optimizer.step()\n",
    "            running_train_loss += loss.item()\n",
    "        training_loss = running_train_loss / len(train_dataloader)\n",
    "        train_losses.append(training_loss)\n",
    "\n",
    "        model.eval()\n",
    "        running_eval_loss = 0.0\n",
    "        correct_predictions = 0\n",
    "        total_samples = 0\n",
    "\n",
    "        with torch.no_grad():\n",
    "            for inputs, labels in tqdm(validation_dataloader, desc=f\"Validate Epoch {epoch+1}\"):\n",
    "                inputs, labels = inputs.to(device), labels.to(device)\n",
    "\n",
    "                logits = model(inputs)\n",
    "                loss = criterion(logits, labels)\n",
    "                running_eval_loss += loss.item()\n",
    "                _, predicted = torch.max(logits.data, 1)\n",
    "                total_samples += labels.size(0)\n",
    "                correct_predictions += (predicted == labels).sum().item()\n",
    "\n",
    "        validation_loss = running_eval_loss / len(validation_dataloader)\n",
    "        validation_losses.append(validation_loss)\n",
    "        accuracy = 100 * correct_predictions / total_samples\n",
    "        accuracies.append(accuracy)\n",
    "\n",
    "        epoch_summary = f'Epoch {epoch+1}/{num_epoch} | Train Loss: {training_loss:.4f} | Evaluate Loss: {validation_loss:.4f} | Accuracy: {accuracy:.2f}%'\n",
    "\n",
    "        if device.type == 'cuda':\n",
    "            allocated_gb = torch.cuda.memory_allocated() / (1024 ** 3)\n",
    "            reserved_gb = torch.cuda.memory_reserved() / (1024 ** 3)\n",
    "            epoch_summary += f' | GPU Memory (Alloc/Reserved): {allocated_gb:.2f}/{reserved_gb:.2f} GB'\n",
    "\n",
    "        if validation_loss < best_validation_loss - 0.001:\n",
    "\n",
    "            best_validation_loss = validation_loss\n",
    "            torch.save(model.state_dict(), 'MobileNetv2_result/models/model1.pt')\n",
    "\n",
    "        tqdm.write(epoch_summary)\n",
    "\n",
    "        end_time = time.time()\n",
    "        total_time = end_time - start_time\n",
    "\n",
    "    return  {'train_loss': train_losses, 'validation_loss': validation_losses, 'accuracy': accuracies}, total_time"
   ],
   "id": "cc35e779d9c2a40b",
   "outputs": [],
   "execution_count": 7
  },
  {
   "metadata": {
    "ExecuteTime": {
     "end_time": "2025-09-10T03:42:56.557884Z",
     "start_time": "2025-09-10T03:42:56.466336Z"
    }
   },
   "cell_type": "code",
   "source": [
    "from torch.utils.data import DataLoader\n",
    "from helpers import CustomDataset, plot_training_result, plot_accuracy, save_historical_data\n",
    "\n",
    "train_set = CustomDataset(root='datasets/train', transform=basic_pipeline)\n",
    "train_loader = DataLoader(train_set, batch_size=32, shuffle=True)\n",
    "validation_set = CustomDataset(root='datasets/val', transform=validation_pipeline)\n",
    "validation_loader = DataLoader(validation_set, batch_size=16, shuffle=True)\n",
    "test_set = CustomDataset(root='datasets/test', transform=validation_pipeline)\n",
    "test_loader = DataLoader(test_set, batch_size=16, shuffle=True)\n",
    "\n",
    "classes = train_set.classes"
   ],
   "id": "74fad95d0afbe791",
   "outputs": [],
   "execution_count": 8
  },
  {
   "metadata": {},
   "cell_type": "markdown",
   "source": "<h2> Hyper parameter tuning</h2>",
   "id": "5c2b0b5006c0ef0b"
  },
  {
   "metadata": {
    "ExecuteTime": {
     "end_time": "2025-09-10T04:05:46.140289Z",
     "start_time": "2025-09-10T03:42:57.966126Z"
    }
   },
   "cell_type": "code",
   "source": [
    "from torch.optim import Adam\n",
    "\n",
    "hardware = torch.device('cuda' if  torch.cuda.is_available() else 'cpu')\n",
    "classes = 6\n",
    "criterion = nn.CrossEntropyLoss()\n",
    "model = PestClassifierResNet50(num_classes=classes).to(hardware)\n",
    "optimizer = Adam(model.parameters(),lr=1e-4)\n",
    "\n",
    "result, training_time = train_and_validate(model, optimizer, criterion, train_loader, validation_loader, num_epoch=16, device=hardware)\n",
    "\n",
    "print(f\"Training time: { training_time / 60:.2f} minutes\")\n",
    "\n",
    "plot_training_result(result['train_loss'], result['validation_loss'])\n",
    "plot_accuracy(result['accuracy'])\n",
    "save_historical_data(result)\n"
   ],
   "id": "722bfc77df014ed2",
   "outputs": [
    {
     "name": "stderr",
     "output_type": "stream",
     "text": [
      "Train epoch: 1: 100%|██████████| 296/296 [01:20<00:00,  3.66it/s]\n",
      "Validate Epoch 1: 100%|██████████| 169/169 [00:11<00:00, 14.99it/s]\n"
     ]
    },
    {
     "name": "stdout",
     "output_type": "stream",
     "text": [
      "Epoch 1/16 | Train Loss: 1.5955 | Evaluate Loss: 1.5360 | Accuracy: 40.42% | GPU Memory (Alloc/Reserved): 0.40/3.38 GB\n"
     ]
    },
    {
     "name": "stderr",
     "output_type": "stream",
     "text": [
      "Train epoch: 2: 100%|██████████| 296/296 [01:14<00:00,  4.00it/s]\n",
      "Validate Epoch 2: 100%|██████████| 169/169 [00:09<00:00, 17.87it/s]\n"
     ]
    },
    {
     "name": "stdout",
     "output_type": "stream",
     "text": [
      "Epoch 2/16 | Train Loss: 1.4612 | Evaluate Loss: 1.3726 | Accuracy: 45.60% | GPU Memory (Alloc/Reserved): 0.40/3.38 GB\n"
     ]
    },
    {
     "name": "stderr",
     "output_type": "stream",
     "text": [
      "Train epoch: 3: 100%|██████████| 296/296 [01:12<00:00,  4.10it/s]\n",
      "Validate Epoch 3: 100%|██████████| 169/169 [00:09<00:00, 17.99it/s]\n"
     ]
    },
    {
     "name": "stdout",
     "output_type": "stream",
     "text": [
      "Epoch 3/16 | Train Loss: 1.3601 | Evaluate Loss: 1.2715 | Accuracy: 49.59% | GPU Memory (Alloc/Reserved): 0.40/3.38 GB\n"
     ]
    },
    {
     "name": "stderr",
     "output_type": "stream",
     "text": [
      "Train epoch: 4: 100%|██████████| 296/296 [01:21<00:00,  3.65it/s]\n",
      "Validate Epoch 4: 100%|██████████| 169/169 [00:19<00:00,  8.62it/s]\n"
     ]
    },
    {
     "name": "stdout",
     "output_type": "stream",
     "text": [
      "Epoch 4/16 | Train Loss: 1.2863 | Evaluate Loss: 1.1904 | Accuracy: 55.84% | GPU Memory (Alloc/Reserved): 0.40/3.38 GB\n"
     ]
    },
    {
     "name": "stderr",
     "output_type": "stream",
     "text": [
      "Train epoch: 5: 100%|██████████| 296/296 [01:41<00:00,  2.92it/s]\n",
      "Validate Epoch 5: 100%|██████████| 169/169 [00:09<00:00, 17.98it/s]\n"
     ]
    },
    {
     "name": "stdout",
     "output_type": "stream",
     "text": [
      "Epoch 5/16 | Train Loss: 1.2151 | Evaluate Loss: 1.1528 | Accuracy: 55.51% | GPU Memory (Alloc/Reserved): 0.40/3.38 GB\n"
     ]
    },
    {
     "name": "stderr",
     "output_type": "stream",
     "text": [
      "Train epoch: 6: 100%|██████████| 296/296 [01:12<00:00,  4.10it/s]\n",
      "Validate Epoch 6: 100%|██████████| 169/169 [00:09<00:00, 17.85it/s]\n"
     ]
    },
    {
     "name": "stdout",
     "output_type": "stream",
     "text": [
      "Epoch 6/16 | Train Loss: 1.1452 | Evaluate Loss: 1.0618 | Accuracy: 59.73% | GPU Memory (Alloc/Reserved): 0.40/3.38 GB\n"
     ]
    },
    {
     "name": "stderr",
     "output_type": "stream",
     "text": [
      "Train epoch: 7: 100%|██████████| 296/296 [01:11<00:00,  4.11it/s]\n",
      "Validate Epoch 7: 100%|██████████| 169/169 [00:09<00:00, 17.94it/s]\n"
     ]
    },
    {
     "name": "stdout",
     "output_type": "stream",
     "text": [
      "Epoch 7/16 | Train Loss: 1.0987 | Evaluate Loss: 1.0334 | Accuracy: 61.35% | GPU Memory (Alloc/Reserved): 0.40/3.38 GB\n"
     ]
    },
    {
     "name": "stderr",
     "output_type": "stream",
     "text": [
      "Train epoch: 8: 100%|██████████| 296/296 [01:12<00:00,  4.11it/s]\n",
      "Validate Epoch 8: 100%|██████████| 169/169 [00:09<00:00, 17.62it/s]\n"
     ]
    },
    {
     "name": "stdout",
     "output_type": "stream",
     "text": [
      "Epoch 8/16 | Train Loss: 1.0525 | Evaluate Loss: 1.0000 | Accuracy: 63.54% | GPU Memory (Alloc/Reserved): 0.40/3.38 GB\n"
     ]
    },
    {
     "name": "stderr",
     "output_type": "stream",
     "text": [
      "Train epoch: 9: 100%|██████████| 296/296 [01:12<00:00,  4.07it/s]\n",
      "Validate Epoch 9: 100%|██████████| 169/169 [00:09<00:00, 17.93it/s]\n"
     ]
    },
    {
     "name": "stdout",
     "output_type": "stream",
     "text": [
      "Epoch 9/16 | Train Loss: 0.9912 | Evaluate Loss: 0.9619 | Accuracy: 66.09% | GPU Memory (Alloc/Reserved): 0.40/3.38 GB\n"
     ]
    },
    {
     "name": "stderr",
     "output_type": "stream",
     "text": [
      "Train epoch: 10: 100%|██████████| 296/296 [01:12<00:00,  4.11it/s]\n",
      "Validate Epoch 10: 100%|██████████| 169/169 [00:09<00:00, 17.90it/s]\n"
     ]
    },
    {
     "name": "stdout",
     "output_type": "stream",
     "text": [
      "Epoch 10/16 | Train Loss: 0.9507 | Evaluate Loss: 0.9326 | Accuracy: 67.09% | GPU Memory (Alloc/Reserved): 0.40/3.38 GB\n"
     ]
    },
    {
     "name": "stderr",
     "output_type": "stream",
     "text": [
      "Train epoch: 11: 100%|██████████| 296/296 [01:11<00:00,  4.11it/s]\n",
      "Validate Epoch 11: 100%|██████████| 169/169 [00:09<00:00, 18.06it/s]\n"
     ]
    },
    {
     "name": "stdout",
     "output_type": "stream",
     "text": [
      "Epoch 11/16 | Train Loss: 0.9041 | Evaluate Loss: 0.8421 | Accuracy: 70.97% | GPU Memory (Alloc/Reserved): 0.40/3.38 GB\n"
     ]
    },
    {
     "name": "stderr",
     "output_type": "stream",
     "text": [
      "Train epoch: 12: 100%|██████████| 296/296 [01:11<00:00,  4.11it/s]\n",
      "Validate Epoch 12: 100%|██████████| 169/169 [00:09<00:00, 17.77it/s]\n"
     ]
    },
    {
     "name": "stdout",
     "output_type": "stream",
     "text": [
      "Epoch 12/16 | Train Loss: 0.8862 | Evaluate Loss: 0.8656 | Accuracy: 68.08% | GPU Memory (Alloc/Reserved): 0.40/3.38 GB\n"
     ]
    },
    {
     "name": "stderr",
     "output_type": "stream",
     "text": [
      "Train epoch: 13: 100%|██████████| 296/296 [01:12<00:00,  4.10it/s]\n",
      "Validate Epoch 13: 100%|██████████| 169/169 [00:09<00:00, 17.97it/s]\n"
     ]
    },
    {
     "name": "stdout",
     "output_type": "stream",
     "text": [
      "Epoch 13/16 | Train Loss: 0.8397 | Evaluate Loss: 0.8011 | Accuracy: 72.63% | GPU Memory (Alloc/Reserved): 0.40/3.38 GB\n"
     ]
    },
    {
     "name": "stderr",
     "output_type": "stream",
     "text": [
      "Train epoch: 14: 100%|██████████| 296/296 [01:12<00:00,  4.11it/s]\n",
      "Validate Epoch 14: 100%|██████████| 169/169 [00:09<00:00, 17.78it/s]\n"
     ]
    },
    {
     "name": "stdout",
     "output_type": "stream",
     "text": [
      "Epoch 14/16 | Train Loss: 0.7899 | Evaluate Loss: 0.8206 | Accuracy: 71.52% | GPU Memory (Alloc/Reserved): 0.40/3.38 GB\n"
     ]
    },
    {
     "name": "stderr",
     "output_type": "stream",
     "text": [
      "Train epoch: 15: 100%|██████████| 296/296 [01:11<00:00,  4.12it/s]\n",
      "Validate Epoch 15: 100%|██████████| 169/169 [00:09<00:00, 17.97it/s]\n"
     ]
    },
    {
     "name": "stdout",
     "output_type": "stream",
     "text": [
      "Epoch 15/16 | Train Loss: 0.7579 | Evaluate Loss: 0.7986 | Accuracy: 71.45% | GPU Memory (Alloc/Reserved): 0.40/3.38 GB\n"
     ]
    },
    {
     "name": "stderr",
     "output_type": "stream",
     "text": [
      "Train epoch: 16: 100%|██████████| 296/296 [01:11<00:00,  4.12it/s]\n",
      "Validate Epoch 16: 100%|██████████| 169/169 [00:09<00:00, 17.98it/s]\n"
     ]
    },
    {
     "name": "stdout",
     "output_type": "stream",
     "text": [
      "Epoch 16/16 | Train Loss: 0.7526 | Evaluate Loss: 0.7084 | Accuracy: 75.89% | GPU Memory (Alloc/Reserved): 0.40/3.38 GB\n",
      "Training time: 22.79 minutes\n"
     ]
    },
    {
     "ename": "AttributeError",
     "evalue": "'list' object has no attribute 'get'",
     "output_type": "error",
     "traceback": [
      "\u001B[31m---------------------------------------------------------------------------\u001B[39m",
      "\u001B[31mAttributeError\u001B[39m                            Traceback (most recent call last)",
      "\u001B[36mCell\u001B[39m\u001B[36m \u001B[39m\u001B[32mIn[9]\u001B[39m\u001B[32m, line 13\u001B[39m\n\u001B[32m      9\u001B[39m result, training_time = train_and_validate(model, optimizer, criterion, train_loader, validation_loader, num_epoch=\u001B[32m16\u001B[39m, device=hardware)\n\u001B[32m     11\u001B[39m \u001B[38;5;28mprint\u001B[39m(\u001B[33mf\u001B[39m\u001B[33m\"\u001B[39m\u001B[33mTraining time: \u001B[39m\u001B[38;5;132;01m{\u001B[39;00m\u001B[38;5;250m \u001B[39mtraining_time\u001B[38;5;250m \u001B[39m/\u001B[38;5;250m \u001B[39m\u001B[32m60\u001B[39m\u001B[38;5;132;01m:\u001B[39;00m\u001B[33m.2f\u001B[39m\u001B[38;5;132;01m}\u001B[39;00m\u001B[33m minutes\u001B[39m\u001B[33m\"\u001B[39m)\n\u001B[32m---> \u001B[39m\u001B[32m13\u001B[39m \u001B[43mplot_training_result\u001B[49m\u001B[43m(\u001B[49m\u001B[43mresult\u001B[49m\u001B[43m[\u001B[49m\u001B[33;43m'\u001B[39;49m\u001B[33;43mtrain_loss\u001B[39;49m\u001B[33;43m'\u001B[39;49m\u001B[43m]\u001B[49m\u001B[43m,\u001B[49m\u001B[43m \u001B[49m\u001B[43mresult\u001B[49m\u001B[43m[\u001B[49m\u001B[33;43m'\u001B[39;49m\u001B[33;43mvalidation_loss\u001B[39;49m\u001B[33;43m'\u001B[39;49m\u001B[43m]\u001B[49m\u001B[43m)\u001B[49m\n\u001B[32m     14\u001B[39m plot_accuracy(result[\u001B[33m'\u001B[39m\u001B[33maccuracy\u001B[39m\u001B[33m'\u001B[39m])\n\u001B[32m     15\u001B[39m save_historical_data(result)\n",
      "\u001B[36mFile \u001B[39m\u001B[32m~\\OneDrive\\Desktop\\rice_pest\\helpers.py:12\u001B[39m, in \u001B[36mplot_training_result\u001B[39m\u001B[34m(*results)\u001B[39m\n\u001B[32m      9\u001B[39m full_validation_loss = []\n\u001B[32m     11\u001B[39m \u001B[38;5;28;01mfor\u001B[39;00m result \u001B[38;5;129;01min\u001B[39;00m results:\n\u001B[32m---> \u001B[39m\u001B[32m12\u001B[39m     full_training_loss.extend(\u001B[43mresult\u001B[49m\u001B[43m.\u001B[49m\u001B[43mget\u001B[49m(\u001B[33m'\u001B[39m\u001B[33mtrain_loss\u001B[39m\u001B[33m'\u001B[39m, []))\n\u001B[32m     13\u001B[39m     full_validation_loss.extend(result.get(\u001B[33m'\u001B[39m\u001B[33mvalidation_loss\u001B[39m\u001B[33m'\u001B[39m, []))\n\u001B[32m     15\u001B[39m total_epochs = \u001B[38;5;28mlen\u001B[39m(full_training_loss)\n",
      "\u001B[31mAttributeError\u001B[39m: 'list' object has no attribute 'get'"
     ]
    }
   ],
   "execution_count": 9
  }
 ],
 "metadata": {
  "kernelspec": {
   "display_name": "Python 3",
   "language": "python",
   "name": "python3"
  },
  "language_info": {
   "codemirror_mode": {
    "name": "ipython",
    "version": 2
   },
   "file_extension": ".py",
   "mimetype": "text/x-python",
   "name": "python",
   "nbconvert_exporter": "python",
   "pygments_lexer": "ipython2",
   "version": "2.7.6"
  }
 },
 "nbformat": 4,
 "nbformat_minor": 5
}
