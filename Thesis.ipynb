{
 "cells": [
  {
   "metadata": {},
   "cell_type": "markdown",
   "source": "<h1> Cuda verification </h1>",
   "id": "59300a61728d2dd1"
  },
  {
   "metadata": {
    "collapsed": true,
    "ExecuteTime": {
     "end_time": "2025-08-13T06:40:27.927288Z",
     "start_time": "2025-08-13T06:40:27.922316Z"
    }
   },
   "cell_type": "code",
   "source": [
    "import torch\n",
    "\n",
    "print(torch.version.cuda)\n",
    "print(torch.cuda.get_device_name(0))"
   ],
   "id": "initial_id",
   "outputs": [
    {
     "name": "stdout",
     "output_type": "stream",
     "text": [
      "12.8\n",
      "NVIDIA GeForce RTX 4060 Laptop GPU\n"
     ]
    }
   ],
   "execution_count": 19
  },
  {
   "metadata": {},
   "cell_type": "markdown",
   "source": "<h1>Augmentation pipeline </h1>",
   "id": "f4338befb71eb1a1"
  },
  {
   "metadata": {
    "ExecuteTime": {
     "end_time": "2025-08-13T06:40:29.798912Z",
     "start_time": "2025-08-13T06:40:29.765617Z"
    }
   },
   "cell_type": "code",
   "source": [
    "import albumentations as A\n",
    "from albumentations.pytorch import ToTensorV2\n",
    "\n",
    "training_pipeline = A.Compose([\n",
    "\n",
    "    A.Resize(height=224, width=224),\n",
    "    A.RandomCrop(height=180, width=180, p=1.0),\n",
    "    A.Resize(height=224, width=224),\n",
    "    A.HorizontalFlip(p=0.5),\n",
    "    A.VerticalFlip(p=0.5),\n",
    "    A.Rotate(limit=45, p=0.4),\n",
    "\n",
    "    A.RandomBrightnessContrast(brightness_limit=(-0.3, 0.3), contrast_limit=(-0.2, 0.2), p=0.3),\n",
    "    A.ColorJitter(brightness=0.2, contrast=0.2, saturation=0.2, hue=0.2, p=0.3),\n",
    "\n",
    "    A.OneOf([\n",
    "        A.GaussNoise(std_range=(0.1, 0.2), per_channel=True, p=0.3),\n",
    "        A.RandomRain(slant_range=(-15, 15), drop_length=15, drop_width=1, rain_type=\"default\", blur_value=7, p=0.3),\n",
    "        A.CoarseDropout(num_holes_range=(1, 3), hole_height_range=(0.1, 0.25), hole_width_range=(0.1, 0.25), fill=0, p=0.3)\n",
    "    ], p=0.5),\n",
    "\n",
    "    A.Normalize(mean=(0.485, 0.456, 0.406), std=(0.229, 0.224, 0.225)),\n",
    "    ToTensorV2()\n",
    "])\n",
    "\n",
    "validation_pipeline = A.Compose([\n",
    "    A.Resize(height=224, width=224),\n",
    "    A.Normalize(mean=(0.485, 0.456, 0.406), std=(0.229, 0.224, 0.225)),\n",
    "    ToTensorV2()\n",
    "])\n",
    "\n",
    "basic_pipeline = A.Compose([\n",
    "    A.Resize(height=224, width=224),\n",
    "    A.HorizontalFlip(p=0.6),\n",
    "    A.VerticalFlip(p=0.6),\n",
    "    A.Rotate(limit=(-45,45), p=0.7),\n",
    "    A.Normalize(mean=(0.485, 0.456, 0.406), std=(0.229, 0.224, 0.225)),\n",
    "    ToTensorV2()\n",
    "])"
   ],
   "id": "c5c5dfd54b31be52",
   "outputs": [],
   "execution_count": 20
  },
  {
   "metadata": {},
   "cell_type": "markdown",
   "source": "<h2>Data preparation</h2>",
   "id": "8c508484763306ef"
  },
  {
   "metadata": {
    "ExecuteTime": {
     "end_time": "2025-08-13T06:40:32.271534Z",
     "start_time": "2025-08-13T06:40:32.264455Z"
    }
   },
   "cell_type": "code",
   "source": [
    "import random\n",
    "import shutil\n",
    "from tqdm import tqdm\n",
    "from pathlib import Path\n",
    "\n",
    "def prepare_image_datasets(source_dir, base_dir, split_ratios=(0.7, 0.2, 0.1)):\n",
    "\n",
    "     if not (0.999 < sum(split_ratios) < 1.001):\n",
    "             raise ValueError('split_ratios must sum to 1')\n",
    "\n",
    "     source_path = Path(source_dir)\n",
    "     base_path = Path(base_dir)\n",
    "\n",
    "     if not source_path.is_dir():\n",
    "         print(f'Source directory {source_path.name} does not exist')\n",
    "         return\n",
    "\n",
    "     train_path = base_path / 'train'\n",
    "     test_path = base_path / 'test'\n",
    "     val_path = base_path / 'val'\n",
    "\n",
    "     class_names = [d.name for d in source_path.iterdir() if d.is_dir()]\n",
    "\n",
    "     if not class_names:\n",
    "         print(f'Source directory {source_path.name} does not contain any class names')\n",
    "         return\n",
    "\n",
    "     for directory in [train_path, test_path, val_path]:\n",
    "         for class_name in class_names:\n",
    "             (directory / class_name).mkdir(parents=True, exist_ok=True)\n",
    "\n",
    "     for class_name in class_names:\n",
    "\n",
    "         class_source_path = source_path / class_name\n",
    "\n",
    "         files = [f for f in class_source_path.iterdir() if f.is_file()]\n",
    "\n",
    "         random.shuffle(files)\n",
    "\n",
    "         total_files = len(files)\n",
    "         train_end = int(total_files * split_ratios[0])\n",
    "         test_end = train_end + int(total_files * split_ratios[1])\n",
    "\n",
    "         split_data = {\n",
    "             'train': (files[:train_end], train_path),\n",
    "             'test': (files[train_end:test_end], test_path),\n",
    "             'val': (files[test_end:], val_path)\n",
    "         }\n",
    "\n",
    "         print(f\"Copying {class_name} to {base_path}\")\n",
    "\n",
    "         for split_name, (file_list, destination_path) in split_data.items():\n",
    "\n",
    "             dest_class_path = destination_path / class_name\n",
    "\n",
    "             for file_path in tqdm(file_list, desc=f'Copying {split_name} files'):\n",
    "\n",
    "                 shutil.copy2(file_path, dest_class_path / file_path.name)\n",
    "\n",
    "         print(f'Copying {class_name} finished!')\n",
    "\n",
    "     print(\"Data splitting successful!\")\n"
   ],
   "id": "3f61bebddba66303",
   "outputs": [],
   "execution_count": 21
  },
  {
   "metadata": {
    "ExecuteTime": {
     "end_time": "2025-08-13T06:40:34.576426Z",
     "start_time": "2025-08-13T06:40:34.572078Z"
    }
   },
   "cell_type": "code",
   "source": [
    "import cv2\n",
    "from torchvision import datasets\n",
    "\n",
    "class CustomDataset(datasets.ImageFolder):\n",
    "\n",
    "    def __getitem__(self, index):\n",
    "\n",
    "        path, target = self.samples[index]\n",
    "\n",
    "        image = cv2.imread(path)\n",
    "        image = cv2.cvtColor(image, cv2.COLOR_BGR2RGB)\n",
    "\n",
    "        if self.transform:\n",
    "            augmented = self.transform(image=image)\n",
    "            image = augmented['image']\n",
    "\n",
    "        return image, target\n",
    "\n",
    "    def __len__(self):\n",
    "        return len(self.samples)\n",
    "\n",
    "# data = CustomDataset(root='dataset', transform=training_pipeline)\n",
    "\n",
    "# image, path = data[0]\n",
    "#\n",
    "# print(path)\n",
    "#\n",
    "# image = image.permute(1,2,0).numpy()\n",
    "#\n",
    "# image = (image * np\n",
    "#          .array([0.229, 0.224, 0.225]) + np.array([0.485, 0.456, 0.406]))\n",
    "# image = np.clip(image, 0, 1)\n",
    "# image = (image * 255).astype(np.uint8)\n",
    "#\n",
    "# plt.imshow(image)\n",
    "# plt.show()"
   ],
   "id": "4165f31c2a079958",
   "outputs": [],
   "execution_count": 22
  },
  {
   "metadata": {},
   "cell_type": "markdown",
   "source": "<h2> Data splitting </h2>",
   "id": "638f3a60c11f293c"
  },
  {
   "metadata": {
    "ExecuteTime": {
     "end_time": "2025-08-11T18:05:36.812346Z",
     "start_time": "2025-08-11T18:05:26.338394Z"
    }
   },
   "cell_type": "code",
   "source": [
    "source_data_dir = r'C:\\Users\\LANCE\\OneDrive\\Desktop\\rice_pest\\Finalized_datasets'\n",
    "base_data_dir = r'C:\\Users\\LANCE\\OneDrive\\Desktop\\rice_pest\\datasets'\n",
    "\n",
    "if not source_data_dir or not base_data_dir:\n",
    "    raise ValueError('Source and base data directory not found')\n",
    "\n",
    "prepare_image_datasets(source_data_dir, base_data_dir, split_ratios=(0.7, 0.2, 0.1))\n"
   ],
   "id": "407974787d3ba3a2",
   "outputs": [
    {
     "name": "stdout",
     "output_type": "stream",
     "text": [
      "Copying brown-planthopper to C:\\Users\\LANCE\\OneDrive\\Desktop\\rice_pest\\datasets\n"
     ]
    },
    {
     "name": "stderr",
     "output_type": "stream",
     "text": [
      "Copying train files: 100%|██████████| 1712/1712 [00:01<00:00, 1211.35it/s]\n",
      "Copying test files: 100%|██████████| 489/489 [00:00<00:00, 1183.07it/s]\n",
      "Copying val files: 100%|██████████| 246/246 [00:00<00:00, 1087.34it/s]\n"
     ]
    },
    {
     "name": "stdout",
     "output_type": "stream",
     "text": [
      "Copying brown-planthopper finished!\n",
      "Copying green-leafhopper to C:\\Users\\LANCE\\OneDrive\\Desktop\\rice_pest\\datasets\n"
     ]
    },
    {
     "name": "stderr",
     "output_type": "stream",
     "text": [
      "Copying train files: 100%|██████████| 1493/1493 [00:01<00:00, 1151.86it/s]\n",
      "Copying test files: 100%|██████████| 426/426 [00:00<00:00, 1132.68it/s]\n",
      "Copying val files: 100%|██████████| 215/215 [00:00<00:00, 1213.62it/s]\n"
     ]
    },
    {
     "name": "stdout",
     "output_type": "stream",
     "text": [
      "Copying green-leafhopper finished!\n",
      "Copying rice-black-bug to C:\\Users\\LANCE\\OneDrive\\Desktop\\rice_pest\\datasets\n"
     ]
    },
    {
     "name": "stderr",
     "output_type": "stream",
     "text": [
      "Copying train files: 100%|██████████| 106/106 [00:00<00:00, 1061.74it/s]\n",
      "Copying test files: 100%|██████████| 30/30 [00:00<00:00, 1153.78it/s]\n",
      "Copying val files: 100%|██████████| 16/16 [00:00<00:00, 913.85it/s]\n"
     ]
    },
    {
     "name": "stdout",
     "output_type": "stream",
     "text": [
      "Copying rice-black-bug finished!\n",
      "Copying rice-leaf-folder to C:\\Users\\LANCE\\OneDrive\\Desktop\\rice_pest\\datasets\n"
     ]
    },
    {
     "name": "stderr",
     "output_type": "stream",
     "text": [
      "Copying train files: 100%|██████████| 1917/1917 [00:01<00:00, 989.16it/s] \n",
      "Copying test files: 100%|██████████| 548/548 [00:00<00:00, 1008.04it/s]\n",
      "Copying val files: 100%|██████████| 275/275 [00:00<00:00, 1070.15it/s]\n"
     ]
    },
    {
     "name": "stdout",
     "output_type": "stream",
     "text": [
      "Copying rice-leaf-folder finished!\n",
      "Copying stem-borer to C:\\Users\\LANCE\\OneDrive\\Desktop\\rice_pest\\datasets\n"
     ]
    },
    {
     "name": "stderr",
     "output_type": "stream",
     "text": [
      "Copying train files: 100%|██████████| 1371/1371 [00:01<00:00, 1062.97it/s]\n",
      "Copying test files: 100%|██████████| 391/391 [00:00<00:00, 1075.92it/s]\n",
      "Copying val files: 100%|██████████| 197/197 [00:00<00:00, 923.07it/s] \n"
     ]
    },
    {
     "name": "stdout",
     "output_type": "stream",
     "text": [
      "Copying stem-borer finished!\n",
      "Copying whorl-maggot to C:\\Users\\LANCE\\OneDrive\\Desktop\\rice_pest\\datasets\n"
     ]
    },
    {
     "name": "stderr",
     "output_type": "stream",
     "text": [
      "Copying train files: 100%|██████████| 870/870 [00:00<00:00, 1096.18it/s]\n",
      "Copying test files: 100%|██████████| 248/248 [00:00<00:00, 1116.87it/s]\n",
      "Copying val files: 100%|██████████| 125/125 [00:00<00:00, 1097.27it/s]"
     ]
    },
    {
     "name": "stdout",
     "output_type": "stream",
     "text": [
      "Copying whorl-maggot finished!\n",
      "Data splitting successful!\n"
     ]
    },
    {
     "name": "stderr",
     "output_type": "stream",
     "text": [
      "\n"
     ]
    }
   ],
   "execution_count": 6
  },
  {
   "metadata": {},
   "cell_type": "markdown",
   "source": "<h2> Training functions and hyperparameters</h2>",
   "id": "dba860140f2d1e9d"
  },
  {
   "metadata": {
    "ExecuteTime": {
     "end_time": "2025-08-13T06:40:40.023825Z",
     "start_time": "2025-08-13T06:40:40.016969Z"
    }
   },
   "cell_type": "code",
   "source": [
    "import torch\n",
    "import torch.nn as nn\n",
    "import torch.nn.functional as F\n",
    "import math\n",
    "\n",
    "class LSoftmax(nn.Module):\n",
    "\n",
    "    def __init__(self, input_features, number_of_classes, m=4):\n",
    "        super(LSoftmax, self).__init__()\n",
    "        self.input_features = input_features\n",
    "        self.number_of_classes = number_of_classes\n",
    "        self.m = m\n",
    "\n",
    "        if m <= 1:\n",
    "            raise ValueError('m must be greater than 1')\n",
    "\n",
    "        # Initialization of weights through xavier uniform.\n",
    "        self.weight = nn.Parameter(torch.FloatTensor(number_of_classes,  input_features))\n",
    "        nn.init.xavier_uniform_(self.weight)\n",
    "\n",
    "    # Forward propagation\n",
    "    def forward(self, x, labels=None):\n",
    "\n",
    "        # normalization of weights and input vector features.\n",
    "        normalize_weight = F.normalize(self.weight, p=2, dim=1)\n",
    "        normalize_x = F.normalize(x, p=2, dim=1)\n",
    "\n",
    "        # Cosine similarity: perform DOT product multiplication between weights and input vectors.\n",
    "        # cos_theta = F.linear(normalize_x, normalize_weight.t())\n",
    "\n",
    "        cos_theta = F.linear(normalize_x, normalize_weight)\n",
    "\n",
    "        if labels is None:\n",
    "            return cos_theta\n",
    "\n",
    "        cos_theta = cos_theta.clamp(-1,1)\n",
    "\n",
    "        # Convert cosine similarity into actual angles.\n",
    "        theta = torch.acos(cos_theta)\n",
    "\n",
    "        # Gathered the correct classes as one vector and reshape it in to a 2d with one column.\n",
    "        target_theta = theta.gather(1, labels.view(-1,1))\n",
    "\n",
    "        # applies the margin to the correct classes\n",
    "        m_theta = self.m * target_theta\n",
    "        k = (m_theta / math.pi).floor()\n",
    "\n",
    "        # Compute the angular margin to get a new hard target score for prediction\n",
    "        psi_theta = ((-1)**k) * torch.cos(m_theta) - (2*k)\n",
    "\n",
    "        # Scattered the new values got from psi_theta to its corresponding classes\n",
    "        final_logits = cos_theta.scatter(1, labels.view(-1,1), psi_theta)\n",
    "\n",
    "        return final_logits\n"
   ],
   "id": "31a9a78b6df933f4",
   "outputs": [],
   "execution_count": 23
  },
  {
   "metadata": {
    "ExecuteTime": {
     "end_time": "2025-08-13T06:40:43.097023Z",
     "start_time": "2025-08-13T06:40:43.090072Z"
    }
   },
   "cell_type": "code",
   "source": [
    "import torchvision.models as models\n",
    "\n",
    "class PestClassifierMobileNetV2(nn.Module):\n",
    "\n",
    "    def __init__(self, num_classes, margin):\n",
    "        super(PestClassifierMobileNetV2, self).__init__()\n",
    "\n",
    "        # get model\n",
    "        self.base_model = models.mobilenet_v2(weights='MobileNet_V2_Weights.IMAGENET1K_V2')\n",
    "\n",
    "        # Froze feature extraction layer to retain weights.\n",
    "        for params in self.base_model.parameters():\n",
    "            params.requires_grad = False\n",
    "\n",
    "        # get number of features\n",
    "        num_filters = self.base_model.classifier[1].in_features\n",
    "\n",
    "        # Hyperparameter tuning: Instantiate LSoftmax as new customized final layer.\n",
    "        self.base_model.classifier[1] = LSoftmax(\n",
    "            input_features=num_filters,\n",
    "            number_of_classes=num_classes,\n",
    "            m=margin\n",
    "        )\n",
    "\n",
    "    # Forward propagation\n",
    "    def forward(self, x, labels=None):\n",
    "\n",
    "        # Passed the features in feature extraction layer.\n",
    "        features = self.base_model.features(x)\n",
    "\n",
    "        # Adaptive average pooling: returns a 2d scaled vector features.\n",
    "        features = F.adaptive_avg_pool2d(features, (1,1)).reshape(features.shape[0], -1)\n",
    "\n",
    "        # Implementation of the LSoftmax through passing the feature vectors and class for classification.\n",
    "        logits = self.base_model.classifier[1](features, labels)\n",
    "\n",
    "        # return the result logits\n",
    "        return logits\n",
    "\n",
    "    def unfreeze_last_block(self):\n",
    "        print(\"\\nUnfreezing the last convolutional block for fine-tuning...\")\n",
    "\n",
    "        for param in self.base_model.features[-1].parameters():\n",
    "            param.requires_grad = True\n",
    "\n",
    "    def unfreeze_before_last_block(self):\n",
    "        print(\"\\nUnfreezing the before last convolutional block for fine-tuning...\")\n",
    "\n",
    "        for param in self.base_model.features[-2].parameters():\n",
    "            param.requires_grad = True\n",
    "\n",
    "    def unfreeze_third_last_inverse_residual(self):\n",
    "        print(\"\\nUnfreezing the third last convolutional block for fine-tuning...\")\n",
    "\n",
    "        for param in self.base_model.features[-3].parameters():\n",
    "            param.requires_grad = True\n",
    "\n",
    "    def unfreeze_fourth_last_inverse_residual(self):\n",
    "        print(\"\\nUnfreezing the fourth last convolutional block for fine-tuning...\")\n",
    "\n",
    "        for param in self.base_model.features[-4].parameters():\n",
    "            param.requires_grad = True\n",
    "\n",
    "    def unfreeze_fifth_inverse_residual(self):\n",
    "\n",
    "        print(\"\\nUnfreezing the fifth last convolutional block for fine-tuning...\")\n",
    "        for param in self.base_model.features[-5].parameters():\n",
    "            param.requires_grad = True\n",
    "\n",
    "    def unfreezing_sixth_inverse_residual(self):\n",
    "        print(\"\\nUnfreezing the sixth last convolutional block for fine-tuning...\")\n",
    "        for param in self.base_model.features[-6].parameters():\n",
    "            param.requires_grad = True\n"
   ],
   "id": "ec3d396b8b938549",
   "outputs": [],
   "execution_count": 24
  },
  {
   "metadata": {
    "ExecuteTime": {
     "end_time": "2025-08-13T06:40:46.512753Z",
     "start_time": "2025-08-13T06:40:46.503882Z"
    }
   },
   "cell_type": "code",
   "source": [
    "import torch\n",
    "from tqdm import tqdm\n",
    "\n",
    "def train_and_test(model, optimizer, criterion, train_dataloader, test_dataloader, num_epoch, device):\n",
    "    train_losses = []\n",
    "    test_losses = []\n",
    "    accuracies = []\n",
    "    best_accuracy = 0.0\n",
    "\n",
    "    for epoch in range(num_epoch):\n",
    "        model.train()\n",
    "        running_train_loss = 0.0\n",
    "        train_pbar = tqdm(train_dataloader, desc=f\"Train epoch: {epoch+1}\")\n",
    "        for data, labels in train_pbar:\n",
    "            data, labels = data.to(device), labels.to(device)\n",
    "            optimizer.zero_grad()\n",
    "            output = model(data, labels)\n",
    "            loss = criterion(output, labels)\n",
    "            loss.backward()\n",
    "            optimizer.step()\n",
    "            running_train_loss += loss.item()\n",
    "        training_loss = running_train_loss / len(train_dataloader)\n",
    "        train_losses.append(training_loss)\n",
    "\n",
    "        model.eval()\n",
    "        running_test_loss = 0.0\n",
    "        correct_predictions = 0\n",
    "        total_samples = 0\n",
    "\n",
    "        with torch.no_grad():\n",
    "            for inputs, labels in tqdm(test_dataloader, desc=f\"Test epoch: {epoch+1}\"):\n",
    "                inputs, labels = inputs.to(device), labels.to(device)\n",
    "\n",
    "                output_loss = model(inputs, labels)\n",
    "                loss = criterion(output_loss, labels)\n",
    "                running_test_loss += loss.item()\n",
    "\n",
    "                output_predictions = model(inputs, labels=None)\n",
    "                _, predicted = torch.max(output_predictions.data, 1)\n",
    "                total_samples += labels.size(0)\n",
    "                correct_predictions += (predicted == labels).sum().item()\n",
    "\n",
    "        testing_loss = running_test_loss / len(test_dataloader)\n",
    "        test_losses.append(testing_loss)\n",
    "        accuracy = 100 * correct_predictions / total_samples\n",
    "        accuracies.append(accuracy)\n",
    "\n",
    "        epoch_summary = f'Epoch {epoch+1}/{num_epoch} | Train Loss: {training_loss:.4f} | Test Loss: {testing_loss:.4f} | Accuracy: {accuracy:.2f}%'\n",
    "\n",
    "        if device.type == 'cuda':\n",
    "            allocated_gb = torch.cuda.memory_allocated() / (1024 ** 3)\n",
    "            reserved_gb = torch.cuda.memory_reserved() / (1024 ** 3)\n",
    "            epoch_summary += f' | GPU Memory (Alloc/Reserved): {allocated_gb:.2f}/{reserved_gb:.2f} GB'\n",
    "\n",
    "        tqdm.write(epoch_summary)\n",
    "\n",
    "        if accuracy > best_accuracy:\n",
    "            best_accuracy = accuracy\n",
    "            torch.save(model.state_dict(), 'models/v2/Advance/MobileNetV2_rice_pest_classificationV7.pt')\n",
    "\n",
    "    tqdm.write('Phase done!')\n",
    "\n",
    "    return {'train_loss': train_losses, 'test_loss': test_losses, 'accuracy': accuracies}, best_accuracy"
   ],
   "id": "ce2d84aa93514e4e",
   "outputs": [],
   "execution_count": 25
  },
  {
   "metadata": {},
   "cell_type": "markdown",
   "source": "<h3> Data loader </h3>",
   "id": "dacf376c70e73e20"
  },
  {
   "metadata": {
    "ExecuteTime": {
     "end_time": "2025-08-13T06:40:48.635440Z",
     "start_time": "2025-08-13T06:40:48.596575Z"
    }
   },
   "cell_type": "code",
   "source": [
    "from torch.utils.data import DataLoader\n",
    "\n",
    "train_set = CustomDataset(root='datasets/train', transform=training_pipeline)\n",
    "train_loader = DataLoader(train_set, batch_size=128, shuffle=True)\n",
    "test_set = CustomDataset(root='datasets/test', transform=validation_pipeline)\n",
    "test_loader = DataLoader(test_set, batch_size=64, shuffle=True)\n",
    "validation_set = CustomDataset(root='datasets/val', transform=validation_pipeline)\n",
    "validation_loader = DataLoader(validation_set, batch_size=32, shuffle=True)\n",
    "\n",
    "classes = train_set.classes"
   ],
   "id": "a1a36a79cb8fa3c8",
   "outputs": [],
   "execution_count": 26
  },
  {
   "metadata": {
    "ExecuteTime": {
     "end_time": "2025-08-13T06:40:50.555600Z",
     "start_time": "2025-08-13T06:40:50.545599Z"
    }
   },
   "cell_type": "code",
   "source": [
    "import seaborn as sns\n",
    "import matplotlib.pyplot as plt\n",
    "import pandas as pd\n",
    "import numpy as np\n",
    "import os\n",
    "\n",
    "def plot_training_result(*results):\n",
    "\n",
    "    full_train_loss = []\n",
    "    full_test_loss = []\n",
    "\n",
    "    for res in results:\n",
    "        full_train_loss.extend(res.get('train_loss', []))\n",
    "        full_test_loss.extend(res.get('test_loss', []))\n",
    "\n",
    "    total_epochs = len(full_train_loss)\n",
    "    if total_epochs == 0:\n",
    "        print(\"No data to plot.\")\n",
    "        return\n",
    "\n",
    "    epochs = range(1, total_epochs + 1)\n",
    "\n",
    "    data = {\n",
    "        'Epoch': epochs,\n",
    "        'Training Loss': full_train_loss,\n",
    "        'Testing Loss': full_test_loss,\n",
    "    }\n",
    "\n",
    "    df = pd.DataFrame(data)\n",
    "\n",
    "    df_long = df.melt(id_vars=['Epoch'], var_name='Loss Type', value_name='Loss')\n",
    "\n",
    "    plt.figure(figsize=(10, 6))\n",
    "    sns.lineplot(data=df_long, x='Epoch', y='Loss', hue='Loss Type', marker='o')\n",
    "\n",
    "    plt.title('Training and Testing Loss Comparison')\n",
    "    plt.xlabel('Epoch')\n",
    "    plt.ylabel('Loss')\n",
    "    plt.legend()\n",
    "    plt.grid(True)\n",
    "    plt.show()\n",
    "\n",
    "def plot_accuracy(*results):\n",
    "\n",
    "    full_accuracy = []\n",
    "\n",
    "    for result in results:\n",
    "        accuracy = result.get('accuracy', [])\n",
    "        full_accuracy.extend(accuracy)\n",
    "\n",
    "    total_epochs = len(full_accuracy)\n",
    "    if total_epochs == 0:\n",
    "        print(\"No accuracy data to plot.\")\n",
    "        return\n",
    "\n",
    "    epochs = range(1, total_epochs + 1)\n",
    "\n",
    "    plt.figure(figsize=(10, 6))\n",
    "    plt.plot(epochs, full_accuracy, label='Accuracy', marker='o', color='g')\n",
    "\n",
    "    plt.title('Accuracy Evaluation')\n",
    "    plt.xlabel('Epoch')\n",
    "    plt.ylabel('Accuracy (%)')\n",
    "    plt.legend()\n",
    "    plt.grid(True)\n",
    "    plt.show()\n",
    "\n",
    "def save_historical_data(*histories, filename='training_results/v2/MobileNetV2_rice_pest_classificationV7.csv'):\n",
    "\n",
    "    full_train_loss = []\n",
    "    full_test_loss = []\n",
    "    full_accuracy = []\n",
    "\n",
    "    for history in histories:\n",
    "\n",
    "        full_train_loss.extend(history.get('train_loss', []))\n",
    "        full_test_loss.extend(history.get('test_loss', []))\n",
    "        full_accuracy.extend(history.get('accuracy', []))\n",
    "\n",
    "    data_dict = pd.DataFrame({\n",
    "        'train_loss': full_train_loss,\n",
    "        'test_loss': full_test_loss,\n",
    "        'accuracy': full_accuracy,\n",
    "    })\n",
    "\n",
    "    if os.path.exists(filename):\n",
    "        print(\"Existing historical data exists! Appending new data.\")\n",
    "\n",
    "        old_data = pd.read_csv(filename)\n",
    "        combined_data = pd.concat([old_data, data_dict], ignore_index=True)\n",
    "\n",
    "    else:\n",
    "        print(\"Creating new historical data...\")\n",
    "        combined_data = data_dict\n",
    "\n",
    "    combined_data['epoch'] = range(1, len(combined_data) + 1)\n",
    "\n",
    "    combined_data = combined_data[['epoch', 'train_loss', 'test_loss', 'accuracy']]\n",
    "\n",
    "    combined_data.to_csv(filename, index=False)\n",
    "\n",
    "    print(\"Historical data saved successfully!\")"
   ],
   "id": "8445a4aad32e78ca",
   "outputs": [],
   "execution_count": 27
  },
  {
   "metadata": {
    "ExecuteTime": {
     "end_time": "2025-08-07T19:25:48.710628Z",
     "start_time": "2025-08-07T18:33:29.306156Z"
    }
   },
   "cell_type": "code",
   "source": [
    "# import torch.optim as optim\n",
    "#\n",
    "# hardware = torch.device('cuda' if torch.cuda.is_available() else 'cpu')\n",
    "# classes = 6\n",
    "# weight_decay = 1e-2\n",
    "# num_margin = 3\n",
    "#\n",
    "# model = PestClassifierMobileNetV2(num_classes=classes, margin=num_margin).to(hardware)\n",
    "# criterion = nn.CrossEntropyLoss()\n",
    "#\n",
    "# optimizer_p1 = optim.AdamW(filter(lambda p: p.requires_grad, model.parameters()), lr=1e-3, weight_decay=weight_decay)\n",
    "# model.unfreeze_last_block()\n",
    "# model.unfreeze_before_last_block()\n",
    "#\n",
    "# result_1, accuracy_p1 = train_and_test(model=model, optimizer=optimizer_p1, criterion=criterion,train_dataloader=train_loader, test_dataloader=test_loader, num_epoch=15, device=hardware)\n",
    "#\n",
    "# save_historical_data(result_1)"
   ],
   "id": "8b86d7544f98ce59",
   "outputs": [
    {
     "name": "stdout",
     "output_type": "stream",
     "text": [
      "Phase 1\n"
     ]
    },
    {
     "name": "stderr",
     "output_type": "stream",
     "text": [
      "Train epoch: 1: 100%|██████████| 59/59 [00:40<00:00,  1.45it/s]\n",
      "Test epoch: 1: 100%|██████████| 34/34 [00:07<00:00,  4.74it/s]\n"
     ]
    },
    {
     "name": "stdout",
     "output_type": "stream",
     "text": [
      "Epoch 1/15 | Train Loss: 3.1965 | Test Loss: 3.0356 | Accuracy: 39.35% | GPU Memory (Alloc/Reserved): 0.14/1.830 GB\n"
     ]
    },
    {
     "name": "stderr",
     "output_type": "stream",
     "text": [
      "Train epoch: 2: 100%|██████████| 59/59 [00:29<00:00,  2.02it/s]\n",
      "Test epoch: 2: 100%|██████████| 34/34 [00:05<00:00,  5.73it/s]\n"
     ]
    },
    {
     "name": "stdout",
     "output_type": "stream",
     "text": [
      "Epoch 2/15 | Train Loss: 3.0200 | Test Loss: 3.0007 | Accuracy: 50.33% | GPU Memory (Alloc/Reserved): 0.14/1.830 GB\n"
     ]
    },
    {
     "name": "stderr",
     "output_type": "stream",
     "text": [
      "Train epoch: 3: 100%|██████████| 59/59 [00:26<00:00,  2.23it/s]\n",
      "Test epoch: 3: 100%|██████████| 34/34 [00:05<00:00,  5.76it/s]\n"
     ]
    },
    {
     "name": "stdout",
     "output_type": "stream",
     "text": [
      "Epoch 3/15 | Train Loss: 3.0033 | Test Loss: 2.9876 | Accuracy: 58.68% | GPU Memory (Alloc/Reserved): 0.14/1.830 GB\n"
     ]
    },
    {
     "name": "stderr",
     "output_type": "stream",
     "text": [
      "Train epoch: 4: 100%|██████████| 59/59 [00:26<00:00,  2.23it/s]\n",
      "Test epoch: 4: 100%|██████████| 34/34 [00:05<00:00,  5.74it/s]\n"
     ]
    },
    {
     "name": "stdout",
     "output_type": "stream",
     "text": [
      "Epoch 4/15 | Train Loss: 2.9959 | Test Loss: 2.9729 | Accuracy: 63.09% | GPU Memory (Alloc/Reserved): 0.14/1.830 GB\n"
     ]
    },
    {
     "name": "stderr",
     "output_type": "stream",
     "text": [
      "Train epoch: 5: 100%|██████████| 59/59 [00:26<00:00,  2.24it/s]\n",
      "Test epoch: 5: 100%|██████████| 34/34 [00:05<00:00,  5.73it/s]\n"
     ]
    },
    {
     "name": "stdout",
     "output_type": "stream",
     "text": [
      "Epoch 5/15 | Train Loss: 2.9906 | Test Loss: 2.9662 | Accuracy: 64.26% | GPU Memory (Alloc/Reserved): 0.14/1.830 GB\n"
     ]
    },
    {
     "name": "stderr",
     "output_type": "stream",
     "text": [
      "Train epoch: 6: 100%|██████████| 59/59 [00:26<00:00,  2.23it/s]\n",
      "Test epoch: 6: 100%|██████████| 34/34 [00:05<00:00,  5.74it/s]\n"
     ]
    },
    {
     "name": "stdout",
     "output_type": "stream",
     "text": [
      "Epoch 6/15 | Train Loss: 2.9874 | Test Loss: 2.9590 | Accuracy: 65.48% | GPU Memory (Alloc/Reserved): 0.14/1.830 GB\n"
     ]
    },
    {
     "name": "stderr",
     "output_type": "stream",
     "text": [
      "Train epoch: 7: 100%|██████████| 59/59 [00:26<00:00,  2.22it/s]\n",
      "Test epoch: 7: 100%|██████████| 34/34 [00:05<00:00,  5.75it/s]\n"
     ]
    },
    {
     "name": "stdout",
     "output_type": "stream",
     "text": [
      "Epoch 7/15 | Train Loss: 2.9845 | Test Loss: 2.9570 | Accuracy: 65.24% | GPU Memory (Alloc/Reserved): 0.14/1.830 GB\n"
     ]
    },
    {
     "name": "stderr",
     "output_type": "stream",
     "text": [
      "Train epoch: 8: 100%|██████████| 59/59 [00:26<00:00,  2.19it/s]\n",
      "Test epoch: 8: 100%|██████████| 34/34 [00:06<00:00,  5.62it/s]\n"
     ]
    },
    {
     "name": "stdout",
     "output_type": "stream",
     "text": [
      "Epoch 8/15 | Train Loss: 2.9845 | Test Loss: 2.9530 | Accuracy: 66.84% | GPU Memory (Alloc/Reserved): 0.14/1.830 GB\n"
     ]
    },
    {
     "name": "stderr",
     "output_type": "stream",
     "text": [
      "Train epoch: 9: 100%|██████████| 59/59 [00:26<00:00,  2.20it/s]\n",
      "Test epoch: 9: 100%|██████████| 34/34 [00:06<00:00,  5.57it/s]\n"
     ]
    },
    {
     "name": "stdout",
     "output_type": "stream",
     "text": [
      "Epoch 9/15 | Train Loss: 2.9827 | Test Loss: 2.9556 | Accuracy: 65.99% | GPU Memory (Alloc/Reserved): 0.14/1.830 GB\n"
     ]
    },
    {
     "name": "stderr",
     "output_type": "stream",
     "text": [
      "Train epoch: 10: 100%|██████████| 59/59 [00:33<00:00,  1.76it/s]\n",
      "Test epoch: 10: 100%|██████████| 34/34 [00:05<00:00,  5.76it/s]\n"
     ]
    },
    {
     "name": "stdout",
     "output_type": "stream",
     "text": [
      "Epoch 10/15 | Train Loss: 2.9831 | Test Loss: 2.9491 | Accuracy: 67.68% | GPU Memory (Alloc/Reserved): 0.14/1.830 GB\n"
     ]
    },
    {
     "name": "stderr",
     "output_type": "stream",
     "text": [
      "Train epoch: 11: 100%|██████████| 59/59 [00:26<00:00,  2.23it/s]\n",
      "Test epoch: 11: 100%|██████████| 34/34 [00:05<00:00,  5.75it/s]\n"
     ]
    },
    {
     "name": "stdout",
     "output_type": "stream",
     "text": [
      "Epoch 11/15 | Train Loss: 2.9816 | Test Loss: 2.9521 | Accuracy: 65.99% | GPU Memory (Alloc/Reserved): 0.14/1.830 GB\n"
     ]
    },
    {
     "name": "stderr",
     "output_type": "stream",
     "text": [
      "Train epoch: 12: 100%|██████████| 59/59 [00:26<00:00,  2.23it/s]\n",
      "Test epoch: 12: 100%|██████████| 34/34 [00:05<00:00,  5.69it/s]\n"
     ]
    },
    {
     "name": "stdout",
     "output_type": "stream",
     "text": [
      "Epoch 12/15 | Train Loss: 2.9806 | Test Loss: 2.9490 | Accuracy: 69.61% | GPU Memory (Alloc/Reserved): 0.14/1.830 GB\n"
     ]
    },
    {
     "name": "stderr",
     "output_type": "stream",
     "text": [
      "Train epoch: 13: 100%|██████████| 59/59 [00:28<00:00,  2.08it/s]\n",
      "Test epoch: 13: 100%|██████████| 34/34 [00:06<00:00,  5.27it/s]\n"
     ]
    },
    {
     "name": "stdout",
     "output_type": "stream",
     "text": [
      "Epoch 13/15 | Train Loss: 2.9813 | Test Loss: 2.9501 | Accuracy: 69.89% | GPU Memory (Alloc/Reserved): 0.14/1.830 GB\n"
     ]
    },
    {
     "name": "stderr",
     "output_type": "stream",
     "text": [
      "Train epoch: 14: 100%|██████████| 59/59 [00:29<00:00,  1.97it/s]\n",
      "Test epoch: 14: 100%|██████████| 34/34 [00:05<00:00,  5.71it/s]\n"
     ]
    },
    {
     "name": "stdout",
     "output_type": "stream",
     "text": [
      "Epoch 14/15 | Train Loss: 2.9812 | Test Loss: 2.9489 | Accuracy: 67.26% | GPU Memory (Alloc/Reserved): 0.14/1.830 GB\n"
     ]
    },
    {
     "name": "stderr",
     "output_type": "stream",
     "text": [
      "Train epoch: 15: 100%|██████████| 59/59 [00:26<00:00,  2.25it/s]\n",
      "Test epoch: 15: 100%|██████████| 34/34 [00:05<00:00,  5.77it/s]\n"
     ]
    },
    {
     "name": "stdout",
     "output_type": "stream",
     "text": [
      "Epoch 15/15 | Train Loss: 2.9803 | Test Loss: 2.9480 | Accuracy: 66.51% | GPU Memory (Alloc/Reserved): 0.14/1.830 GB\n",
      "Training done!\n",
      "Phase 2\n",
      "\n",
      "Unfreezing the last convolutional block for fine-tuning...\n"
     ]
    },
    {
     "name": "stderr",
     "output_type": "stream",
     "text": [
      "Train epoch: 1: 100%|██████████| 59/59 [00:26<00:00,  2.24it/s]\n",
      "Test epoch: 1: 100%|██████████| 34/34 [00:05<00:00,  5.72it/s]\n"
     ]
    },
    {
     "name": "stdout",
     "output_type": "stream",
     "text": [
      "Epoch 1/30 | Train Loss: 2.9773 | Test Loss: 2.9368 | Accuracy: 69.37% | GPU Memory (Alloc/Reserved): 0.15/1.832 GB\n"
     ]
    },
    {
     "name": "stderr",
     "output_type": "stream",
     "text": [
      "Train epoch: 2: 100%|██████████| 59/59 [00:26<00:00,  2.24it/s]\n",
      "Test epoch: 2: 100%|██████████| 34/34 [00:05<00:00,  5.80it/s]\n"
     ]
    },
    {
     "name": "stdout",
     "output_type": "stream",
     "text": [
      "Epoch 2/30 | Train Loss: 2.9729 | Test Loss: 2.9264 | Accuracy: 71.06% | GPU Memory (Alloc/Reserved): 0.15/1.832 GB\n"
     ]
    },
    {
     "name": "stderr",
     "output_type": "stream",
     "text": [
      "Train epoch: 3: 100%|██████████| 59/59 [00:26<00:00,  2.25it/s]\n",
      "Test epoch: 3: 100%|██████████| 34/34 [00:05<00:00,  5.74it/s]\n"
     ]
    },
    {
     "name": "stdout",
     "output_type": "stream",
     "text": [
      "Epoch 3/30 | Train Loss: 2.9674 | Test Loss: 2.9175 | Accuracy: 72.80% | GPU Memory (Alloc/Reserved): 0.15/1.832 GB\n"
     ]
    },
    {
     "name": "stderr",
     "output_type": "stream",
     "text": [
      "Train epoch: 4: 100%|██████████| 59/59 [00:26<00:00,  2.25it/s]\n",
      "Test epoch: 4: 100%|██████████| 34/34 [00:05<00:00,  5.78it/s]\n"
     ]
    },
    {
     "name": "stdout",
     "output_type": "stream",
     "text": [
      "Epoch 4/30 | Train Loss: 2.9626 | Test Loss: 2.9077 | Accuracy: 73.22% | GPU Memory (Alloc/Reserved): 0.15/1.832 GB\n"
     ]
    },
    {
     "name": "stderr",
     "output_type": "stream",
     "text": [
      "Train epoch: 5: 100%|██████████| 59/59 [00:26<00:00,  2.26it/s]\n",
      "Test epoch: 5: 100%|██████████| 34/34 [00:05<00:00,  5.79it/s]\n"
     ]
    },
    {
     "name": "stdout",
     "output_type": "stream",
     "text": [
      "Epoch 5/30 | Train Loss: 2.9576 | Test Loss: 2.8955 | Accuracy: 73.50% | GPU Memory (Alloc/Reserved): 0.15/1.832 GB\n"
     ]
    },
    {
     "name": "stderr",
     "output_type": "stream",
     "text": [
      "Train epoch: 6: 100%|██████████| 59/59 [00:26<00:00,  2.26it/s]\n",
      "Test epoch: 6: 100%|██████████| 34/34 [00:05<00:00,  5.78it/s]\n"
     ]
    },
    {
     "name": "stdout",
     "output_type": "stream",
     "text": [
      "Epoch 6/30 | Train Loss: 2.9527 | Test Loss: 2.8862 | Accuracy: 74.25% | GPU Memory (Alloc/Reserved): 0.15/1.832 GB\n"
     ]
    },
    {
     "name": "stderr",
     "output_type": "stream",
     "text": [
      "Train epoch: 7: 100%|██████████| 59/59 [00:26<00:00,  2.27it/s]\n",
      "Test epoch: 7: 100%|██████████| 34/34 [00:05<00:00,  5.76it/s]\n"
     ]
    },
    {
     "name": "stdout",
     "output_type": "stream",
     "text": [
      "Epoch 7/30 | Train Loss: 2.9489 | Test Loss: 2.8784 | Accuracy: 74.39% | GPU Memory (Alloc/Reserved): 0.15/1.832 GB\n"
     ]
    },
    {
     "name": "stderr",
     "output_type": "stream",
     "text": [
      "Train epoch: 8: 100%|██████████| 59/59 [00:27<00:00,  2.18it/s]\n",
      "Test epoch: 8: 100%|██████████| 34/34 [00:05<00:00,  5.78it/s]\n"
     ]
    },
    {
     "name": "stdout",
     "output_type": "stream",
     "text": [
      "Epoch 8/30 | Train Loss: 2.9440 | Test Loss: 2.8653 | Accuracy: 74.77% | GPU Memory (Alloc/Reserved): 0.15/1.832 GB\n"
     ]
    },
    {
     "name": "stderr",
     "output_type": "stream",
     "text": [
      "Train epoch: 9: 100%|██████████| 59/59 [00:26<00:00,  2.24it/s]\n",
      "Test epoch: 9: 100%|██████████| 34/34 [00:05<00:00,  5.81it/s]\n"
     ]
    },
    {
     "name": "stdout",
     "output_type": "stream",
     "text": [
      "Epoch 9/30 | Train Loss: 2.9374 | Test Loss: 2.8565 | Accuracy: 74.67% | GPU Memory (Alloc/Reserved): 0.15/1.832 GB\n"
     ]
    },
    {
     "name": "stderr",
     "output_type": "stream",
     "text": [
      "Train epoch: 10: 100%|██████████| 59/59 [00:26<00:00,  2.22it/s]\n",
      "Test epoch: 10: 100%|██████████| 34/34 [00:05<00:00,  5.77it/s]\n"
     ]
    },
    {
     "name": "stdout",
     "output_type": "stream",
     "text": [
      "Epoch 10/30 | Train Loss: 2.9309 | Test Loss: 2.8393 | Accuracy: 73.64% | GPU Memory (Alloc/Reserved): 0.15/1.832 GB\n"
     ]
    },
    {
     "name": "stderr",
     "output_type": "stream",
     "text": [
      "Train epoch: 11: 100%|██████████| 59/59 [00:26<00:00,  2.25it/s]\n",
      "Test epoch: 11: 100%|██████████| 34/34 [00:05<00:00,  5.81it/s]\n"
     ]
    },
    {
     "name": "stdout",
     "output_type": "stream",
     "text": [
      "Epoch 11/30 | Train Loss: 2.9280 | Test Loss: 2.8213 | Accuracy: 72.75% | GPU Memory (Alloc/Reserved): 0.15/1.832 GB\n"
     ]
    },
    {
     "name": "stderr",
     "output_type": "stream",
     "text": [
      "Train epoch: 12: 100%|██████████| 59/59 [00:26<00:00,  2.20it/s]\n",
      "Test epoch: 12: 100%|██████████| 34/34 [00:05<00:00,  5.70it/s]\n"
     ]
    },
    {
     "name": "stdout",
     "output_type": "stream",
     "text": [
      "Epoch 12/30 | Train Loss: 2.9164 | Test Loss: 2.7966 | Accuracy: 72.14% | GPU Memory (Alloc/Reserved): 0.15/1.832 GB\n"
     ]
    },
    {
     "name": "stderr",
     "output_type": "stream",
     "text": [
      "Train epoch: 13: 100%|██████████| 59/59 [00:27<00:00,  2.15it/s]\n",
      "Test epoch: 13: 100%|██████████| 34/34 [00:05<00:00,  5.73it/s]\n"
     ]
    },
    {
     "name": "stdout",
     "output_type": "stream",
     "text": [
      "Epoch 13/30 | Train Loss: 2.9075 | Test Loss: 2.7723 | Accuracy: 71.81% | GPU Memory (Alloc/Reserved): 0.15/1.832 GB\n"
     ]
    },
    {
     "name": "stderr",
     "output_type": "stream",
     "text": [
      "Train epoch: 14: 100%|██████████| 59/59 [00:26<00:00,  2.24it/s]\n",
      "Test epoch: 14: 100%|██████████| 34/34 [00:06<00:00,  5.58it/s]\n"
     ]
    },
    {
     "name": "stdout",
     "output_type": "stream",
     "text": [
      "Epoch 14/30 | Train Loss: 2.8926 | Test Loss: 2.7412 | Accuracy: 70.64% | GPU Memory (Alloc/Reserved): 0.15/1.832 GB\n"
     ]
    },
    {
     "name": "stderr",
     "output_type": "stream",
     "text": [
      "Train epoch: 15: 100%|██████████| 59/59 [00:26<00:00,  2.21it/s]\n",
      "Test epoch: 15: 100%|██████████| 34/34 [00:05<00:00,  5.74it/s]\n"
     ]
    },
    {
     "name": "stdout",
     "output_type": "stream",
     "text": [
      "Epoch 15/30 | Train Loss: 2.8841 | Test Loss: 2.7116 | Accuracy: 69.23% | GPU Memory (Alloc/Reserved): 0.15/1.832 GB\n"
     ]
    },
    {
     "name": "stderr",
     "output_type": "stream",
     "text": [
      "Train epoch: 16: 100%|██████████| 59/59 [00:27<00:00,  2.16it/s]\n",
      "Test epoch: 16: 100%|██████████| 34/34 [00:06<00:00,  5.44it/s]\n"
     ]
    },
    {
     "name": "stdout",
     "output_type": "stream",
     "text": [
      "Epoch 16/30 | Train Loss: 2.8703 | Test Loss: 2.6805 | Accuracy: 70.22% | GPU Memory (Alloc/Reserved): 0.15/1.832 GB\n"
     ]
    },
    {
     "name": "stderr",
     "output_type": "stream",
     "text": [
      "Train epoch: 17: 100%|██████████| 59/59 [00:28<00:00,  2.09it/s]\n",
      "Test epoch: 17: 100%|██████████| 34/34 [00:05<00:00,  5.68it/s]\n"
     ]
    },
    {
     "name": "stdout",
     "output_type": "stream",
     "text": [
      "Epoch 17/30 | Train Loss: 2.8568 | Test Loss: 2.6478 | Accuracy: 68.71% | GPU Memory (Alloc/Reserved): 0.15/1.832 GB\n"
     ]
    },
    {
     "name": "stderr",
     "output_type": "stream",
     "text": [
      "Train epoch: 18: 100%|██████████| 59/59 [00:35<00:00,  1.65it/s]\n",
      "Test epoch: 18: 100%|██████████| 34/34 [00:08<00:00,  4.14it/s]\n"
     ]
    },
    {
     "name": "stdout",
     "output_type": "stream",
     "text": [
      "Epoch 18/30 | Train Loss: 2.8443 | Test Loss: 2.6116 | Accuracy: 69.18% | GPU Memory (Alloc/Reserved): 0.15/1.832 GB\n"
     ]
    },
    {
     "name": "stderr",
     "output_type": "stream",
     "text": [
      "Train epoch: 19: 100%|██████████| 59/59 [00:30<00:00,  1.95it/s]\n",
      "Test epoch: 19: 100%|██████████| 34/34 [00:06<00:00,  5.55it/s]\n"
     ]
    },
    {
     "name": "stdout",
     "output_type": "stream",
     "text": [
      "Epoch 19/30 | Train Loss: 2.8289 | Test Loss: 2.5813 | Accuracy: 68.86% | GPU Memory (Alloc/Reserved): 0.15/1.832 GB\n"
     ]
    },
    {
     "name": "stderr",
     "output_type": "stream",
     "text": [
      "Train epoch: 20: 100%|██████████| 59/59 [00:26<00:00,  2.19it/s]\n",
      "Test epoch: 20: 100%|██████████| 34/34 [00:05<00:00,  5.73it/s]\n"
     ]
    },
    {
     "name": "stdout",
     "output_type": "stream",
     "text": [
      "Epoch 20/30 | Train Loss: 2.8152 | Test Loss: 2.5441 | Accuracy: 68.95% | GPU Memory (Alloc/Reserved): 0.15/1.832 GB\n"
     ]
    },
    {
     "name": "stderr",
     "output_type": "stream",
     "text": [
      "Train epoch: 21: 100%|██████████| 59/59 [00:27<00:00,  2.11it/s]\n",
      "Test epoch: 21: 100%|██████████| 34/34 [00:06<00:00,  5.66it/s]\n"
     ]
    },
    {
     "name": "stdout",
     "output_type": "stream",
     "text": [
      "Epoch 21/30 | Train Loss: 2.8003 | Test Loss: 2.5018 | Accuracy: 69.18% | GPU Memory (Alloc/Reserved): 0.15/1.832 GB\n"
     ]
    },
    {
     "name": "stderr",
     "output_type": "stream",
     "text": [
      "Train epoch: 22: 100%|██████████| 59/59 [00:27<00:00,  2.11it/s]\n",
      "Test epoch: 22: 100%|██████████| 34/34 [00:05<00:00,  5.69it/s]\n"
     ]
    },
    {
     "name": "stdout",
     "output_type": "stream",
     "text": [
      "Epoch 22/30 | Train Loss: 2.7798 | Test Loss: 2.4603 | Accuracy: 69.47% | GPU Memory (Alloc/Reserved): 0.15/1.832 GB\n"
     ]
    },
    {
     "name": "stderr",
     "output_type": "stream",
     "text": [
      "Train epoch: 23: 100%|██████████| 59/59 [00:28<00:00,  2.06it/s]\n",
      "Test epoch: 23: 100%|██████████| 34/34 [00:06<00:00,  5.57it/s]\n"
     ]
    },
    {
     "name": "stdout",
     "output_type": "stream",
     "text": [
      "Epoch 23/30 | Train Loss: 2.7595 | Test Loss: 2.4284 | Accuracy: 69.65% | GPU Memory (Alloc/Reserved): 0.15/1.832 GB\n"
     ]
    },
    {
     "name": "stderr",
     "output_type": "stream",
     "text": [
      "Train epoch: 24: 100%|██████████| 59/59 [00:37<00:00,  1.57it/s]\n",
      "Test epoch: 24: 100%|██████████| 34/34 [00:10<00:00,  3.15it/s]\n"
     ]
    },
    {
     "name": "stdout",
     "output_type": "stream",
     "text": [
      "Epoch 24/30 | Train Loss: 2.7457 | Test Loss: 2.3764 | Accuracy: 70.31% | GPU Memory (Alloc/Reserved): 0.15/1.832 GB\n"
     ]
    },
    {
     "name": "stderr",
     "output_type": "stream",
     "text": [
      "Train epoch: 25: 100%|██████████| 59/59 [00:30<00:00,  1.92it/s]\n",
      "Test epoch: 25: 100%|██████████| 34/34 [00:06<00:00,  5.65it/s]\n"
     ]
    },
    {
     "name": "stdout",
     "output_type": "stream",
     "text": [
      "Epoch 25/30 | Train Loss: 2.7192 | Test Loss: 2.3437 | Accuracy: 71.15% | GPU Memory (Alloc/Reserved): 0.15/1.832 GB\n"
     ]
    },
    {
     "name": "stderr",
     "output_type": "stream",
     "text": [
      "Train epoch: 26: 100%|██████████| 59/59 [00:26<00:00,  2.19it/s]\n",
      "Test epoch: 26: 100%|██████████| 34/34 [00:05<00:00,  5.71it/s]\n"
     ]
    },
    {
     "name": "stdout",
     "output_type": "stream",
     "text": [
      "Epoch 26/30 | Train Loss: 2.6975 | Test Loss: 2.3125 | Accuracy: 70.97% | GPU Memory (Alloc/Reserved): 0.15/1.832 GB\n"
     ]
    },
    {
     "name": "stderr",
     "output_type": "stream",
     "text": [
      "Train epoch: 27: 100%|██████████| 59/59 [00:27<00:00,  2.16it/s]\n",
      "Test epoch: 27: 100%|██████████| 34/34 [00:06<00:00,  5.62it/s]\n"
     ]
    },
    {
     "name": "stdout",
     "output_type": "stream",
     "text": [
      "Epoch 27/30 | Train Loss: 2.6874 | Test Loss: 2.2825 | Accuracy: 70.92% | GPU Memory (Alloc/Reserved): 0.15/1.832 GB\n"
     ]
    },
    {
     "name": "stderr",
     "output_type": "stream",
     "text": [
      "Train epoch: 28: 100%|██████████| 59/59 [00:29<00:00,  1.99it/s]\n",
      "Test epoch: 28: 100%|██████████| 34/34 [00:06<00:00,  5.53it/s]\n"
     ]
    },
    {
     "name": "stdout",
     "output_type": "stream",
     "text": [
      "Epoch 28/30 | Train Loss: 2.6706 | Test Loss: 2.2525 | Accuracy: 70.97% | GPU Memory (Alloc/Reserved): 0.15/1.832 GB\n"
     ]
    },
    {
     "name": "stderr",
     "output_type": "stream",
     "text": [
      "Train epoch: 29: 100%|██████████| 59/59 [00:28<00:00,  2.06it/s]\n",
      "Test epoch: 29: 100%|██████████| 34/34 [00:06<00:00,  5.54it/s]\n"
     ]
    },
    {
     "name": "stdout",
     "output_type": "stream",
     "text": [
      "Epoch 29/30 | Train Loss: 2.6527 | Test Loss: 2.2320 | Accuracy: 70.83% | GPU Memory (Alloc/Reserved): 0.15/1.832 GB\n"
     ]
    },
    {
     "name": "stderr",
     "output_type": "stream",
     "text": [
      "Train epoch: 30: 100%|██████████| 59/59 [00:28<00:00,  2.06it/s]\n",
      "Test epoch: 30: 100%|██████████| 34/34 [00:06<00:00,  5.53it/s]\n"
     ]
    },
    {
     "name": "stdout",
     "output_type": "stream",
     "text": [
      "Epoch 30/30 | Train Loss: 2.6292 | Test Loss: 2.2074 | Accuracy: 71.11% | GPU Memory (Alloc/Reserved): 0.15/1.832 GB\n",
      "Training done!\n",
      "Phase 3\n",
      "\n",
      "Unfreezing the before last convolutional block for fine-tuning...\n"
     ]
    },
    {
     "name": "stderr",
     "output_type": "stream",
     "text": [
      "Train epoch: 1: 100%|██████████| 59/59 [00:29<00:00,  2.01it/s]\n",
      "Test epoch: 1: 100%|██████████| 34/34 [00:06<00:00,  5.52it/s]\n"
     ]
    },
    {
     "name": "stdout",
     "output_type": "stream",
     "text": [
      "Epoch 1/45 | Train Loss: 2.5817 | Test Loss: 2.1385 | Accuracy: 71.34% | GPU Memory (Alloc/Reserved): 0.16/1.834 GB\n"
     ]
    },
    {
     "name": "stderr",
     "output_type": "stream",
     "text": [
      "Train epoch: 2: 100%|██████████| 59/59 [00:28<00:00,  2.05it/s]\n",
      "Test epoch: 2: 100%|██████████| 34/34 [00:06<00:00,  5.38it/s]\n"
     ]
    },
    {
     "name": "stdout",
     "output_type": "stream",
     "text": [
      "Epoch 2/45 | Train Loss: 2.5154 | Test Loss: 2.0587 | Accuracy: 72.80% | GPU Memory (Alloc/Reserved): 0.16/1.834 GB\n"
     ]
    },
    {
     "name": "stderr",
     "output_type": "stream",
     "text": [
      "Train epoch: 3: 100%|██████████| 59/59 [00:28<00:00,  2.05it/s]\n",
      "Test epoch: 3: 100%|██████████| 34/34 [00:06<00:00,  5.54it/s]\n"
     ]
    },
    {
     "name": "stdout",
     "output_type": "stream",
     "text": [
      "Epoch 3/45 | Train Loss: 2.4439 | Test Loss: 1.9947 | Accuracy: 74.16% | GPU Memory (Alloc/Reserved): 0.16/1.834 GB\n"
     ]
    },
    {
     "name": "stderr",
     "output_type": "stream",
     "text": [
      "Train epoch: 4: 100%|██████████| 59/59 [00:29<00:00,  2.00it/s]\n",
      "Test epoch: 4: 100%|██████████| 34/34 [00:06<00:00,  5.30it/s]\n"
     ]
    },
    {
     "name": "stdout",
     "output_type": "stream",
     "text": [
      "Epoch 4/45 | Train Loss: 2.4089 | Test Loss: 1.9541 | Accuracy: 74.67% | GPU Memory (Alloc/Reserved): 0.16/1.834 GB\n"
     ]
    },
    {
     "name": "stderr",
     "output_type": "stream",
     "text": [
      "Train epoch: 5: 100%|██████████| 59/59 [00:31<00:00,  1.86it/s]\n",
      "Test epoch: 5: 100%|██████████| 34/34 [00:06<00:00,  5.51it/s]\n"
     ]
    },
    {
     "name": "stdout",
     "output_type": "stream",
     "text": [
      "Epoch 5/45 | Train Loss: 2.3701 | Test Loss: 1.9163 | Accuracy: 75.52% | GPU Memory (Alloc/Reserved): 0.16/1.834 GB\n"
     ]
    },
    {
     "name": "stderr",
     "output_type": "stream",
     "text": [
      "Train epoch: 6: 100%|██████████| 59/59 [00:29<00:00,  2.02it/s]\n",
      "Test epoch: 6: 100%|██████████| 34/34 [00:06<00:00,  5.43it/s]\n"
     ]
    },
    {
     "name": "stdout",
     "output_type": "stream",
     "text": [
      "Epoch 6/45 | Train Loss: 2.3469 | Test Loss: 1.8799 | Accuracy: 75.52% | GPU Memory (Alloc/Reserved): 0.16/1.834 GB\n"
     ]
    },
    {
     "name": "stderr",
     "output_type": "stream",
     "text": [
      "Train epoch: 7: 100%|██████████| 59/59 [00:29<00:00,  1.99it/s]\n",
      "Test epoch: 7: 100%|██████████| 34/34 [00:06<00:00,  5.54it/s]\n"
     ]
    },
    {
     "name": "stdout",
     "output_type": "stream",
     "text": [
      "Epoch 7/45 | Train Loss: 2.3042 | Test Loss: 1.8586 | Accuracy: 75.47% | GPU Memory (Alloc/Reserved): 0.16/1.834 GB\n"
     ]
    },
    {
     "name": "stderr",
     "output_type": "stream",
     "text": [
      "Train epoch: 8: 100%|██████████| 59/59 [00:28<00:00,  2.05it/s]\n",
      "Test epoch: 8: 100%|██████████| 34/34 [00:06<00:00,  5.46it/s]\n"
     ]
    },
    {
     "name": "stdout",
     "output_type": "stream",
     "text": [
      "Epoch 8/45 | Train Loss: 2.2861 | Test Loss: 1.8393 | Accuracy: 76.17% | GPU Memory (Alloc/Reserved): 0.16/1.834 GB\n"
     ]
    },
    {
     "name": "stderr",
     "output_type": "stream",
     "text": [
      "Train epoch: 9: 100%|██████████| 59/59 [00:28<00:00,  2.05it/s]\n",
      "Test epoch: 9: 100%|██████████| 34/34 [00:06<00:00,  5.52it/s]\n"
     ]
    },
    {
     "name": "stdout",
     "output_type": "stream",
     "text": [
      "Epoch 9/45 | Train Loss: 2.2615 | Test Loss: 1.8153 | Accuracy: 77.30% | GPU Memory (Alloc/Reserved): 0.16/1.834 GB\n"
     ]
    },
    {
     "name": "stderr",
     "output_type": "stream",
     "text": [
      "Train epoch: 10: 100%|██████████| 59/59 [00:28<00:00,  2.05it/s]\n",
      "Test epoch: 10: 100%|██████████| 34/34 [00:06<00:00,  5.53it/s]\n"
     ]
    },
    {
     "name": "stdout",
     "output_type": "stream",
     "text": [
      "Epoch 10/45 | Train Loss: 2.2557 | Test Loss: 1.8018 | Accuracy: 78.24% | GPU Memory (Alloc/Reserved): 0.16/1.834 GB\n"
     ]
    },
    {
     "name": "stderr",
     "output_type": "stream",
     "text": [
      "Train epoch: 11: 100%|██████████| 59/59 [00:28<00:00,  2.05it/s]\n",
      "Test epoch: 11: 100%|██████████| 34/34 [00:06<00:00,  5.52it/s]\n"
     ]
    },
    {
     "name": "stdout",
     "output_type": "stream",
     "text": [
      "Epoch 11/45 | Train Loss: 2.2289 | Test Loss: 1.7830 | Accuracy: 78.10% | GPU Memory (Alloc/Reserved): 0.16/1.834 GB\n"
     ]
    },
    {
     "name": "stderr",
     "output_type": "stream",
     "text": [
      "Train epoch: 12: 100%|██████████| 59/59 [00:28<00:00,  2.04it/s]\n",
      "Test epoch: 12: 100%|██████████| 34/34 [00:06<00:00,  5.52it/s]\n"
     ]
    },
    {
     "name": "stdout",
     "output_type": "stream",
     "text": [
      "Epoch 12/45 | Train Loss: 2.2186 | Test Loss: 1.7713 | Accuracy: 78.56% | GPU Memory (Alloc/Reserved): 0.16/1.834 GB\n"
     ]
    },
    {
     "name": "stderr",
     "output_type": "stream",
     "text": [
      "Train epoch: 13: 100%|██████████| 59/59 [00:28<00:00,  2.04it/s]\n",
      "Test epoch: 13: 100%|██████████| 34/34 [00:06<00:00,  5.55it/s]\n"
     ]
    },
    {
     "name": "stdout",
     "output_type": "stream",
     "text": [
      "Epoch 13/45 | Train Loss: 2.1957 | Test Loss: 1.7611 | Accuracy: 79.22% | GPU Memory (Alloc/Reserved): 0.16/1.834 GB\n"
     ]
    },
    {
     "name": "stderr",
     "output_type": "stream",
     "text": [
      "Train epoch: 14: 100%|██████████| 59/59 [00:28<00:00,  2.04it/s]\n",
      "Test epoch: 14: 100%|██████████| 34/34 [00:06<00:00,  5.50it/s]\n"
     ]
    },
    {
     "name": "stdout",
     "output_type": "stream",
     "text": [
      "Epoch 14/45 | Train Loss: 2.1887 | Test Loss: 1.7566 | Accuracy: 79.08% | GPU Memory (Alloc/Reserved): 0.16/1.834 GB\n"
     ]
    },
    {
     "name": "stderr",
     "output_type": "stream",
     "text": [
      "Train epoch: 15: 100%|██████████| 59/59 [00:29<00:00,  2.03it/s]\n",
      "Test epoch: 15: 100%|██████████| 34/34 [00:06<00:00,  5.42it/s]\n"
     ]
    },
    {
     "name": "stdout",
     "output_type": "stream",
     "text": [
      "Epoch 15/45 | Train Loss: 2.1715 | Test Loss: 1.7314 | Accuracy: 79.55% | GPU Memory (Alloc/Reserved): 0.16/1.834 GB\n"
     ]
    },
    {
     "name": "stderr",
     "output_type": "stream",
     "text": [
      "Train epoch: 16: 100%|██████████| 59/59 [00:28<00:00,  2.04it/s]\n",
      "Test epoch: 16: 100%|██████████| 34/34 [00:06<00:00,  5.46it/s]\n"
     ]
    },
    {
     "name": "stdout",
     "output_type": "stream",
     "text": [
      "Epoch 16/45 | Train Loss: 2.1653 | Test Loss: 1.7184 | Accuracy: 80.21% | GPU Memory (Alloc/Reserved): 0.16/1.834 GB\n"
     ]
    },
    {
     "name": "stderr",
     "output_type": "stream",
     "text": [
      "Train epoch: 17: 100%|██████████| 59/59 [00:28<00:00,  2.05it/s]\n",
      "Test epoch: 17: 100%|██████████| 34/34 [00:06<00:00,  5.54it/s]\n"
     ]
    },
    {
     "name": "stdout",
     "output_type": "stream",
     "text": [
      "Epoch 17/45 | Train Loss: 2.1523 | Test Loss: 1.7067 | Accuracy: 80.82% | GPU Memory (Alloc/Reserved): 0.16/1.834 GB\n"
     ]
    },
    {
     "name": "stderr",
     "output_type": "stream",
     "text": [
      "Train epoch: 18: 100%|██████████| 59/59 [00:29<00:00,  2.03it/s]\n",
      "Test epoch: 18: 100%|██████████| 34/34 [00:06<00:00,  5.57it/s]\n"
     ]
    },
    {
     "name": "stdout",
     "output_type": "stream",
     "text": [
      "Epoch 18/45 | Train Loss: 2.1517 | Test Loss: 1.6960 | Accuracy: 81.33% | GPU Memory (Alloc/Reserved): 0.16/1.834 GB\n"
     ]
    },
    {
     "name": "stderr",
     "output_type": "stream",
     "text": [
      "Train epoch: 19: 100%|██████████| 59/59 [00:28<00:00,  2.05it/s]\n",
      "Test epoch: 19: 100%|██████████| 34/34 [00:06<00:00,  5.52it/s]\n"
     ]
    },
    {
     "name": "stdout",
     "output_type": "stream",
     "text": [
      "Epoch 19/45 | Train Loss: 2.1384 | Test Loss: 1.6866 | Accuracy: 81.71% | GPU Memory (Alloc/Reserved): 0.16/1.834 GB\n"
     ]
    },
    {
     "name": "stderr",
     "output_type": "stream",
     "text": [
      "Train epoch: 20: 100%|██████████| 59/59 [00:28<00:00,  2.05it/s]\n",
      "Test epoch: 20: 100%|██████████| 34/34 [00:06<00:00,  5.54it/s]\n"
     ]
    },
    {
     "name": "stdout",
     "output_type": "stream",
     "text": [
      "Epoch 20/45 | Train Loss: 2.1081 | Test Loss: 1.6606 | Accuracy: 82.55% | GPU Memory (Alloc/Reserved): 0.16/1.834 GB\n"
     ]
    },
    {
     "name": "stderr",
     "output_type": "stream",
     "text": [
      "Train epoch: 21: 100%|██████████| 59/59 [00:28<00:00,  2.05it/s]\n",
      "Test epoch: 21: 100%|██████████| 34/34 [00:06<00:00,  5.54it/s]\n"
     ]
    },
    {
     "name": "stdout",
     "output_type": "stream",
     "text": [
      "Epoch 21/45 | Train Loss: 2.1171 | Test Loss: 1.6606 | Accuracy: 82.27% | GPU Memory (Alloc/Reserved): 0.16/1.834 GB\n"
     ]
    },
    {
     "name": "stderr",
     "output_type": "stream",
     "text": [
      "Train epoch: 22: 100%|██████████| 59/59 [00:28<00:00,  2.04it/s]\n",
      "Test epoch: 22: 100%|██████████| 34/34 [00:06<00:00,  5.54it/s]\n"
     ]
    },
    {
     "name": "stdout",
     "output_type": "stream",
     "text": [
      "Epoch 22/45 | Train Loss: 2.1009 | Test Loss: 1.6404 | Accuracy: 83.35% | GPU Memory (Alloc/Reserved): 0.16/1.834 GB\n"
     ]
    },
    {
     "name": "stderr",
     "output_type": "stream",
     "text": [
      "Train epoch: 23: 100%|██████████| 59/59 [00:29<00:00,  2.02it/s]\n",
      "Test epoch: 23: 100%|██████████| 34/34 [00:06<00:00,  5.52it/s]\n"
     ]
    },
    {
     "name": "stdout",
     "output_type": "stream",
     "text": [
      "Epoch 23/45 | Train Loss: 2.0870 | Test Loss: 1.6344 | Accuracy: 83.16% | GPU Memory (Alloc/Reserved): 0.16/1.834 GB\n"
     ]
    },
    {
     "name": "stderr",
     "output_type": "stream",
     "text": [
      "Train epoch: 24: 100%|██████████| 59/59 [00:28<00:00,  2.05it/s]\n",
      "Test epoch: 24: 100%|██████████| 34/34 [00:06<00:00,  5.55it/s]\n"
     ]
    },
    {
     "name": "stdout",
     "output_type": "stream",
     "text": [
      "Epoch 24/45 | Train Loss: 2.0840 | Test Loss: 1.6195 | Accuracy: 83.44% | GPU Memory (Alloc/Reserved): 0.16/1.834 GB\n"
     ]
    },
    {
     "name": "stderr",
     "output_type": "stream",
     "text": [
      "Train epoch: 25: 100%|██████████| 59/59 [00:28<00:00,  2.06it/s]\n",
      "Test epoch: 25: 100%|██████████| 34/34 [00:06<00:00,  5.52it/s]\n"
     ]
    },
    {
     "name": "stdout",
     "output_type": "stream",
     "text": [
      "Epoch 25/45 | Train Loss: 2.0824 | Test Loss: 1.6075 | Accuracy: 83.82% | GPU Memory (Alloc/Reserved): 0.16/1.834 GB\n"
     ]
    },
    {
     "name": "stderr",
     "output_type": "stream",
     "text": [
      "Train epoch: 26: 100%|██████████| 59/59 [00:29<00:00,  2.01it/s]\n",
      "Test epoch: 26: 100%|██████████| 34/34 [00:06<00:00,  5.48it/s]\n"
     ]
    },
    {
     "name": "stdout",
     "output_type": "stream",
     "text": [
      "Epoch 26/45 | Train Loss: 2.0750 | Test Loss: 1.5972 | Accuracy: 83.96% | GPU Memory (Alloc/Reserved): 0.16/1.834 GB\n"
     ]
    },
    {
     "name": "stderr",
     "output_type": "stream",
     "text": [
      "Train epoch: 27: 100%|██████████| 59/59 [00:29<00:00,  1.99it/s]\n",
      "Test epoch: 27: 100%|██████████| 34/34 [00:06<00:00,  5.56it/s]\n"
     ]
    },
    {
     "name": "stdout",
     "output_type": "stream",
     "text": [
      "Epoch 27/45 | Train Loss: 2.0677 | Test Loss: 1.5824 | Accuracy: 84.15% | GPU Memory (Alloc/Reserved): 0.16/1.834 GB\n"
     ]
    },
    {
     "name": "stderr",
     "output_type": "stream",
     "text": [
      "Train epoch: 28: 100%|██████████| 59/59 [00:29<00:00,  2.03it/s]\n",
      "Test epoch: 28: 100%|██████████| 34/34 [00:06<00:00,  5.53it/s]\n"
     ]
    },
    {
     "name": "stdout",
     "output_type": "stream",
     "text": [
      "Epoch 28/45 | Train Loss: 2.0635 | Test Loss: 1.5867 | Accuracy: 84.43% | GPU Memory (Alloc/Reserved): 0.16/1.834 GB\n"
     ]
    },
    {
     "name": "stderr",
     "output_type": "stream",
     "text": [
      "Train epoch: 29: 100%|██████████| 59/59 [00:29<00:00,  2.03it/s]\n",
      "Test epoch: 29: 100%|██████████| 34/34 [00:06<00:00,  5.54it/s]\n"
     ]
    },
    {
     "name": "stdout",
     "output_type": "stream",
     "text": [
      "Epoch 29/45 | Train Loss: 2.0307 | Test Loss: 1.5759 | Accuracy: 84.29% | GPU Memory (Alloc/Reserved): 0.16/1.834 GB\n"
     ]
    },
    {
     "name": "stderr",
     "output_type": "stream",
     "text": [
      "Train epoch: 30: 100%|██████████| 59/59 [00:28<00:00,  2.05it/s]\n",
      "Test epoch: 30: 100%|██████████| 34/34 [00:06<00:00,  5.52it/s]\n"
     ]
    },
    {
     "name": "stdout",
     "output_type": "stream",
     "text": [
      "Epoch 30/45 | Train Loss: 2.0414 | Test Loss: 1.5640 | Accuracy: 84.38% | GPU Memory (Alloc/Reserved): 0.16/1.834 GB\n"
     ]
    },
    {
     "name": "stderr",
     "output_type": "stream",
     "text": [
      "Train epoch: 31: 100%|██████████| 59/59 [00:29<00:00,  1.97it/s]\n",
      "Test epoch: 31: 100%|██████████| 34/34 [00:06<00:00,  5.37it/s]\n"
     ]
    },
    {
     "name": "stdout",
     "output_type": "stream",
     "text": [
      "Epoch 31/45 | Train Loss: 2.0414 | Test Loss: 1.5601 | Accuracy: 84.99% | GPU Memory (Alloc/Reserved): 0.16/1.834 GB\n"
     ]
    },
    {
     "name": "stderr",
     "output_type": "stream",
     "text": [
      "Train epoch: 32: 100%|██████████| 59/59 [00:30<00:00,  1.94it/s]\n",
      "Test epoch: 32: 100%|██████████| 34/34 [00:06<00:00,  5.36it/s]\n"
     ]
    },
    {
     "name": "stdout",
     "output_type": "stream",
     "text": [
      "Epoch 32/45 | Train Loss: 2.0426 | Test Loss: 1.5528 | Accuracy: 84.76% | GPU Memory (Alloc/Reserved): 0.16/1.834 GB\n"
     ]
    },
    {
     "name": "stderr",
     "output_type": "stream",
     "text": [
      "Train epoch: 33: 100%|██████████| 59/59 [00:29<00:00,  2.01it/s]\n",
      "Test epoch: 33: 100%|██████████| 34/34 [00:06<00:00,  5.51it/s]\n"
     ]
    },
    {
     "name": "stdout",
     "output_type": "stream",
     "text": [
      "Epoch 33/45 | Train Loss: 2.0295 | Test Loss: 1.5451 | Accuracy: 84.99% | GPU Memory (Alloc/Reserved): 0.16/1.834 GB\n"
     ]
    },
    {
     "name": "stderr",
     "output_type": "stream",
     "text": [
      "Train epoch: 34: 100%|██████████| 59/59 [00:28<00:00,  2.05it/s]\n",
      "Test epoch: 34: 100%|██████████| 34/34 [00:06<00:00,  5.54it/s]\n"
     ]
    },
    {
     "name": "stdout",
     "output_type": "stream",
     "text": [
      "Epoch 34/45 | Train Loss: 2.0143 | Test Loss: 1.5386 | Accuracy: 85.13% | GPU Memory (Alloc/Reserved): 0.16/1.834 GB\n"
     ]
    },
    {
     "name": "stderr",
     "output_type": "stream",
     "text": [
      "Train epoch: 35: 100%|██████████| 59/59 [00:28<00:00,  2.04it/s]\n",
      "Test epoch: 35: 100%|██████████| 34/34 [00:06<00:00,  5.54it/s]\n"
     ]
    },
    {
     "name": "stdout",
     "output_type": "stream",
     "text": [
      "Epoch 35/45 | Train Loss: 2.0048 | Test Loss: 1.5272 | Accuracy: 85.65% | GPU Memory (Alloc/Reserved): 0.16/1.834 GB\n"
     ]
    },
    {
     "name": "stderr",
     "output_type": "stream",
     "text": [
      "Train epoch: 36: 100%|██████████| 59/59 [00:28<00:00,  2.04it/s]\n",
      "Test epoch: 36: 100%|██████████| 34/34 [00:06<00:00,  5.52it/s]\n"
     ]
    },
    {
     "name": "stdout",
     "output_type": "stream",
     "text": [
      "Epoch 36/45 | Train Loss: 2.0030 | Test Loss: 1.5286 | Accuracy: 85.23% | GPU Memory (Alloc/Reserved): 0.16/1.834 GB\n"
     ]
    },
    {
     "name": "stderr",
     "output_type": "stream",
     "text": [
      "Train epoch: 37: 100%|██████████| 59/59 [00:29<00:00,  2.03it/s]\n",
      "Test epoch: 37: 100%|██████████| 34/34 [00:06<00:00,  5.39it/s]\n"
     ]
    },
    {
     "name": "stdout",
     "output_type": "stream",
     "text": [
      "Epoch 37/45 | Train Loss: 1.9899 | Test Loss: 1.5162 | Accuracy: 85.88% | GPU Memory (Alloc/Reserved): 0.16/1.834 GB\n"
     ]
    },
    {
     "name": "stderr",
     "output_type": "stream",
     "text": [
      "Train epoch: 38: 100%|██████████| 59/59 [00:28<00:00,  2.04it/s]\n",
      "Test epoch: 38: 100%|██████████| 34/34 [00:06<00:00,  5.52it/s]\n"
     ]
    },
    {
     "name": "stdout",
     "output_type": "stream",
     "text": [
      "Epoch 38/45 | Train Loss: 1.9878 | Test Loss: 1.5035 | Accuracy: 85.55% | GPU Memory (Alloc/Reserved): 0.16/1.834 GB\n"
     ]
    },
    {
     "name": "stderr",
     "output_type": "stream",
     "text": [
      "Train epoch: 39: 100%|██████████| 59/59 [00:29<00:00,  2.03it/s]\n",
      "Test epoch: 39: 100%|██████████| 34/34 [00:06<00:00,  5.55it/s]\n"
     ]
    },
    {
     "name": "stdout",
     "output_type": "stream",
     "text": [
      "Epoch 39/45 | Train Loss: 1.9849 | Test Loss: 1.5101 | Accuracy: 85.65% | GPU Memory (Alloc/Reserved): 0.16/1.834 GB\n"
     ]
    },
    {
     "name": "stderr",
     "output_type": "stream",
     "text": [
      "Train epoch: 40: 100%|██████████| 59/59 [00:31<00:00,  1.86it/s]\n",
      "Test epoch: 40: 100%|██████████| 34/34 [00:06<00:00,  4.96it/s]\n"
     ]
    },
    {
     "name": "stdout",
     "output_type": "stream",
     "text": [
      "Epoch 40/45 | Train Loss: 1.9902 | Test Loss: 1.5024 | Accuracy: 85.74% | GPU Memory (Alloc/Reserved): 0.16/1.834 GB\n"
     ]
    },
    {
     "name": "stderr",
     "output_type": "stream",
     "text": [
      "Train epoch: 41: 100%|██████████| 59/59 [00:29<00:00,  2.01it/s]\n",
      "Test epoch: 41: 100%|██████████| 34/34 [00:06<00:00,  5.59it/s]\n"
     ]
    },
    {
     "name": "stdout",
     "output_type": "stream",
     "text": [
      "Epoch 41/45 | Train Loss: 1.9901 | Test Loss: 1.4996 | Accuracy: 85.93% | GPU Memory (Alloc/Reserved): 0.16/1.834 GB\n"
     ]
    },
    {
     "name": "stderr",
     "output_type": "stream",
     "text": [
      "Train epoch: 42: 100%|██████████| 59/59 [00:29<00:00,  2.03it/s]\n",
      "Test epoch: 42: 100%|██████████| 34/34 [00:06<00:00,  5.27it/s]\n"
     ]
    },
    {
     "name": "stdout",
     "output_type": "stream",
     "text": [
      "Epoch 42/45 | Train Loss: 1.9852 | Test Loss: 1.5017 | Accuracy: 85.46% | GPU Memory (Alloc/Reserved): 0.16/1.834 GB\n"
     ]
    },
    {
     "name": "stderr",
     "output_type": "stream",
     "text": [
      "Train epoch: 43: 100%|██████████| 59/59 [00:30<00:00,  1.94it/s]\n",
      "Test epoch: 43: 100%|██████████| 34/34 [00:06<00:00,  5.34it/s]\n"
     ]
    },
    {
     "name": "stdout",
     "output_type": "stream",
     "text": [
      "Epoch 43/45 | Train Loss: 1.9817 | Test Loss: 1.4941 | Accuracy: 85.74% | GPU Memory (Alloc/Reserved): 0.16/1.834 GB\n"
     ]
    },
    {
     "name": "stderr",
     "output_type": "stream",
     "text": [
      "Train epoch: 44: 100%|██████████| 59/59 [00:28<00:00,  2.04it/s]\n",
      "Test epoch: 44: 100%|██████████| 34/34 [00:06<00:00,  5.45it/s]\n"
     ]
    },
    {
     "name": "stdout",
     "output_type": "stream",
     "text": [
      "Epoch 44/45 | Train Loss: 1.9656 | Test Loss: 1.4950 | Accuracy: 85.88% | GPU Memory (Alloc/Reserved): 0.16/1.834 GB\n"
     ]
    },
    {
     "name": "stderr",
     "output_type": "stream",
     "text": [
      "Train epoch: 45: 100%|██████████| 59/59 [00:28<00:00,  2.04it/s]\n",
      "Test epoch: 45: 100%|██████████| 34/34 [00:06<00:00,  5.48it/s]\n"
     ]
    },
    {
     "name": "stdout",
     "output_type": "stream",
     "text": [
      "Epoch 45/45 | Train Loss: 1.9857 | Test Loss: 1.4845 | Accuracy: 86.16% | GPU Memory (Alloc/Reserved): 0.16/1.834 GB\n",
      "Training done!\n"
     ]
    },
    {
     "data": {
      "text/plain": [
       "<Figure size 1200x500 with 2 Axes>"
      ],
      "image/png": "[encoded data removed]"
     },
     "metadata": {},
     "output_type": "display_data"
    },
    {
     "name": "stdout",
     "output_type": "stream",
     "text": [
      "Data saved!\n"
     ]
    }
   ],
   "execution_count": 13
  },
  {
   "metadata": {
    "ExecuteTime": {
     "end_time": "2025-08-13T06:40:56.237307Z",
     "start_time": "2025-08-13T06:40:56.233180Z"
    }
   },
   "cell_type": "code",
   "source": [
    "import torch\n",
    "\n",
    "allocated_bytes = torch.cuda.memory_allocated('cuda')\n",
    "allocated_mb = allocated_bytes / (1024 * 1024)\n",
    "\n",
    "reserved_bytes = torch.cuda.memory_reserved('cuda')\n",
    "reserved_mb = reserved_bytes / (1024 * 1024)\n",
    "\n",
    "print(\"\\n--- VRAM USAGE REPORT ---\")\n",
    "print(f\"Memory Allocated: {allocated_mb:.2f} MB\")\n",
    "print(f\"Memory Reserved:  {reserved_mb:.2f} MB\")\n",
    "print(\"-------------------------\\n\")\n"
   ],
   "id": "3fd4c48f66f26cdb",
   "outputs": [
    {
     "name": "stdout",
     "output_type": "stream",
     "text": [
      "\n",
      "--- VRAM USAGE REPORT ---\n",
      "Memory Allocated: 0.00 MB\n",
      "Memory Reserved:  0.00 MB\n",
      "-------------------------\n",
      "\n"
     ]
    }
   ],
   "execution_count": 28
  },
  {
   "metadata": {},
   "cell_type": "markdown",
   "source": "<h2> V6 experimenation </h2>",
   "id": "2086b8f962c0fae1"
  },
  {
   "metadata": {
    "ExecuteTime": {
     "end_time": "2025-08-13T05:14:10.465434Z",
     "start_time": "2025-08-13T04:02:42.340998Z"
    }
   },
   "cell_type": "code",
   "outputs": [
    {
     "name": "stdout",
     "output_type": "stream",
     "text": [
      "\n",
      "Unfreezing the last convolutional block for fine-tuning...\n",
      "\n",
      "Unfreezing the before last convolutional block for fine-tuning...\n",
      "\n",
      "Unfreezing the third last convolutional block for fine-tuning...\n"
     ]
    },
    {
     "name": "stderr",
     "output_type": "stream",
     "text": [
      "Train epoch: 1: 100%|██████████| 59/59 [00:29<00:00,  2.00it/s]\n",
      "Test epoch: 1: 100%|██████████| 34/34 [00:05<00:00,  5.88it/s]\n"
     ]
    },
    {
     "name": "stdout",
     "output_type": "stream",
     "text": [
      "Epoch 1/20 | Train Loss: 1.7617 | Test Loss: 1.5541 | Accuracy: 83.30% | GPU Memory (Alloc/Reserved): 0.08/2.22 GB\n"
     ]
    },
    {
     "name": "stderr",
     "output_type": "stream",
     "text": [
      "Train epoch: 2: 100%|██████████| 59/59 [00:22<00:00,  2.64it/s]\n",
      "Test epoch: 2: 100%|██████████| 34/34 [00:05<00:00,  5.91it/s]\n"
     ]
    },
    {
     "name": "stdout",
     "output_type": "stream",
     "text": [
      "Epoch 2/20 | Train Loss: 1.7279 | Test Loss: 1.5232 | Accuracy: 83.54% | GPU Memory (Alloc/Reserved): 0.08/2.22 GB\n"
     ]
    },
    {
     "name": "stderr",
     "output_type": "stream",
     "text": [
      "Train epoch: 3: 100%|██████████| 59/59 [00:27<00:00,  2.15it/s]\n",
      "Test epoch: 3: 100%|██████████| 34/34 [00:06<00:00,  5.12it/s]\n"
     ]
    },
    {
     "name": "stdout",
     "output_type": "stream",
     "text": [
      "Epoch 3/20 | Train Loss: 1.7032 | Test Loss: 1.4917 | Accuracy: 84.99% | GPU Memory (Alloc/Reserved): 0.08/2.22 GB\n"
     ]
    },
    {
     "name": "stderr",
     "output_type": "stream",
     "text": [
      "Train epoch: 4: 100%|██████████| 59/59 [00:28<00:00,  2.10it/s]\n",
      "Test epoch: 4: 100%|██████████| 34/34 [00:06<00:00,  5.48it/s]\n"
     ]
    },
    {
     "name": "stdout",
     "output_type": "stream",
     "text": [
      "Epoch 4/20 | Train Loss: 1.6836 | Test Loss: 1.4651 | Accuracy: 85.41% | GPU Memory (Alloc/Reserved): 0.08/2.22 GB\n"
     ]
    },
    {
     "name": "stderr",
     "output_type": "stream",
     "text": [
      "Train epoch: 5: 100%|██████████| 59/59 [00:27<00:00,  2.11it/s]\n",
      "Test epoch: 5: 100%|██████████| 34/34 [00:06<00:00,  5.42it/s]\n"
     ]
    },
    {
     "name": "stdout",
     "output_type": "stream",
     "text": [
      "Epoch 5/20 | Train Loss: 1.6431 | Test Loss: 1.4496 | Accuracy: 85.74% | GPU Memory (Alloc/Reserved): 0.08/2.22 GB\n"
     ]
    },
    {
     "name": "stderr",
     "output_type": "stream",
     "text": [
      "Train epoch: 6: 100%|██████████| 59/59 [00:27<00:00,  2.11it/s]\n",
      "Test epoch: 6: 100%|██████████| 34/34 [00:06<00:00,  5.50it/s]\n"
     ]
    },
    {
     "name": "stdout",
     "output_type": "stream",
     "text": [
      "Epoch 6/20 | Train Loss: 1.6227 | Test Loss: 1.4234 | Accuracy: 86.59% | GPU Memory (Alloc/Reserved): 0.08/2.22 GB\n"
     ]
    },
    {
     "name": "stderr",
     "output_type": "stream",
     "text": [
      "Train epoch: 7: 100%|██████████| 59/59 [00:24<00:00,  2.42it/s]\n",
      "Test epoch: 7: 100%|██████████| 34/34 [00:06<00:00,  5.64it/s]\n"
     ]
    },
    {
     "name": "stdout",
     "output_type": "stream",
     "text": [
      "Epoch 7/20 | Train Loss: 1.6146 | Test Loss: 1.4089 | Accuracy: 86.54% | GPU Memory (Alloc/Reserved): 0.08/2.22 GB\n"
     ]
    },
    {
     "name": "stderr",
     "output_type": "stream",
     "text": [
      "Train epoch: 8: 100%|██████████| 59/59 [00:24<00:00,  2.42it/s]\n",
      "Test epoch: 8: 100%|██████████| 34/34 [00:06<00:00,  5.61it/s]\n"
     ]
    },
    {
     "name": "stdout",
     "output_type": "stream",
     "text": [
      "Epoch 8/20 | Train Loss: 1.6007 | Test Loss: 1.4169 | Accuracy: 87.20% | GPU Memory (Alloc/Reserved): 0.08/2.22 GB\n"
     ]
    },
    {
     "name": "stderr",
     "output_type": "stream",
     "text": [
      "Train epoch: 9: 100%|██████████| 59/59 [00:24<00:00,  2.41it/s]\n",
      "Test epoch: 9: 100%|██████████| 34/34 [00:06<00:00,  5.62it/s]\n"
     ]
    },
    {
     "name": "stdout",
     "output_type": "stream",
     "text": [
      "Epoch 9/20 | Train Loss: 1.5834 | Test Loss: 1.3864 | Accuracy: 87.85% | GPU Memory (Alloc/Reserved): 0.08/2.22 GB\n"
     ]
    },
    {
     "name": "stderr",
     "output_type": "stream",
     "text": [
      "Train epoch: 10: 100%|██████████| 59/59 [00:24<00:00,  2.42it/s]\n",
      "Test epoch: 10: 100%|██████████| 34/34 [00:06<00:00,  5.61it/s]\n"
     ]
    },
    {
     "name": "stdout",
     "output_type": "stream",
     "text": [
      "Epoch 10/20 | Train Loss: 1.5724 | Test Loss: 1.3764 | Accuracy: 88.32% | GPU Memory (Alloc/Reserved): 0.08/2.22 GB\n"
     ]
    },
    {
     "name": "stderr",
     "output_type": "stream",
     "text": [
      "Train epoch: 11: 100%|██████████| 59/59 [00:24<00:00,  2.43it/s]\n",
      "Test epoch: 11: 100%|██████████| 34/34 [00:06<00:00,  5.64it/s]\n"
     ]
    },
    {
     "name": "stdout",
     "output_type": "stream",
     "text": [
      "Epoch 11/20 | Train Loss: 1.5450 | Test Loss: 1.3810 | Accuracy: 88.56% | GPU Memory (Alloc/Reserved): 0.08/2.22 GB\n"
     ]
    },
    {
     "name": "stderr",
     "output_type": "stream",
     "text": [
      "Train epoch: 12: 100%|██████████| 59/59 [00:39<00:00,  1.49it/s]\n",
      "Test epoch: 12: 100%|██████████| 34/34 [00:13<00:00,  2.49it/s]\n"
     ]
    },
    {
     "name": "stdout",
     "output_type": "stream",
     "text": [
      "Epoch 12/20 | Train Loss: 1.5419 | Test Loss: 1.3761 | Accuracy: 87.95% | GPU Memory (Alloc/Reserved): 0.08/2.22 GB\n"
     ]
    },
    {
     "name": "stderr",
     "output_type": "stream",
     "text": [
      "Train epoch: 13: 100%|██████████| 59/59 [00:24<00:00,  2.40it/s]\n",
      "Test epoch: 13: 100%|██████████| 34/34 [00:06<00:00,  5.63it/s]\n"
     ]
    },
    {
     "name": "stdout",
     "output_type": "stream",
     "text": [
      "Epoch 13/20 | Train Loss: 1.5447 | Test Loss: 1.3667 | Accuracy: 88.46% | GPU Memory (Alloc/Reserved): 0.08/2.22 GB\n"
     ]
    },
    {
     "name": "stderr",
     "output_type": "stream",
     "text": [
      "Train epoch: 14: 100%|██████████| 59/59 [00:24<00:00,  2.43it/s]\n",
      "Test epoch: 14: 100%|██████████| 34/34 [00:06<00:00,  5.63it/s]\n"
     ]
    },
    {
     "name": "stdout",
     "output_type": "stream",
     "text": [
      "Epoch 14/20 | Train Loss: 1.5338 | Test Loss: 1.3551 | Accuracy: 89.40% | GPU Memory (Alloc/Reserved): 0.08/2.22 GB\n"
     ]
    },
    {
     "name": "stderr",
     "output_type": "stream",
     "text": [
      "Train epoch: 15: 100%|██████████| 59/59 [00:24<00:00,  2.43it/s]\n",
      "Test epoch: 15: 100%|██████████| 34/34 [00:06<00:00,  5.64it/s]\n"
     ]
    },
    {
     "name": "stdout",
     "output_type": "stream",
     "text": [
      "Epoch 15/20 | Train Loss: 1.5086 | Test Loss: 1.3445 | Accuracy: 89.02% | GPU Memory (Alloc/Reserved): 0.08/2.22 GB\n"
     ]
    },
    {
     "name": "stderr",
     "output_type": "stream",
     "text": [
      "Train epoch: 16: 100%|██████████| 59/59 [00:24<00:00,  2.41it/s]\n",
      "Test epoch: 16: 100%|██████████| 34/34 [00:06<00:00,  5.63it/s]\n"
     ]
    },
    {
     "name": "stdout",
     "output_type": "stream",
     "text": [
      "Epoch 16/20 | Train Loss: 1.4951 | Test Loss: 1.3429 | Accuracy: 89.54% | GPU Memory (Alloc/Reserved): 0.08/2.22 GB\n"
     ]
    },
    {
     "name": "stderr",
     "output_type": "stream",
     "text": [
      "Train epoch: 17: 100%|██████████| 59/59 [00:24<00:00,  2.40it/s]\n",
      "Test epoch: 17: 100%|██████████| 34/34 [00:06<00:00,  5.56it/s]\n"
     ]
    },
    {
     "name": "stdout",
     "output_type": "stream",
     "text": [
      "Epoch 17/20 | Train Loss: 1.5030 | Test Loss: 1.3372 | Accuracy: 89.77% | GPU Memory (Alloc/Reserved): 0.08/2.22 GB\n"
     ]
    },
    {
     "name": "stderr",
     "output_type": "stream",
     "text": [
      "Train epoch: 18: 100%|██████████| 59/59 [00:24<00:00,  2.39it/s]\n",
      "Test epoch: 18: 100%|██████████| 34/34 [00:06<00:00,  5.65it/s]\n"
     ]
    },
    {
     "name": "stdout",
     "output_type": "stream",
     "text": [
      "Epoch 18/20 | Train Loss: 1.5056 | Test Loss: 1.3229 | Accuracy: 90.29% | GPU Memory (Alloc/Reserved): 0.08/2.22 GB\n"
     ]
    },
    {
     "name": "stderr",
     "output_type": "stream",
     "text": [
      "Train epoch: 19: 100%|██████████| 59/59 [00:24<00:00,  2.41it/s]\n",
      "Test epoch: 19: 100%|██████████| 34/34 [00:06<00:00,  5.58it/s]\n"
     ]
    },
    {
     "name": "stdout",
     "output_type": "stream",
     "text": [
      "Epoch 19/20 | Train Loss: 1.4920 | Test Loss: 1.3300 | Accuracy: 89.77% | GPU Memory (Alloc/Reserved): 0.08/2.22 GB\n"
     ]
    },
    {
     "name": "stderr",
     "output_type": "stream",
     "text": [
      "Train epoch: 20: 100%|██████████| 59/59 [00:24<00:00,  2.42it/s]\n",
      "Test epoch: 20: 100%|██████████| 34/34 [00:06<00:00,  5.65it/s]\n"
     ]
    },
    {
     "name": "stdout",
     "output_type": "stream",
     "text": [
      "Epoch 20/20 | Train Loss: 1.4813 | Test Loss: 1.3326 | Accuracy: 89.96% | GPU Memory (Alloc/Reserved): 0.08/2.22 GB\n",
      "Phase done!\n",
      "\n",
      "Unfreezing the fourth last convolutional block for fine-tuning...\n"
     ]
    },
    {
     "name": "stderr",
     "output_type": "stream",
     "text": [
      "Train epoch: 1: 100%|██████████| 59/59 [00:24<00:00,  2.39it/s]\n",
      "Test epoch: 1: 100%|██████████| 34/34 [00:06<00:00,  5.62it/s]\n"
     ]
    },
    {
     "name": "stdout",
     "output_type": "stream",
     "text": [
      "Epoch 1/30 | Train Loss: 1.4858 | Test Loss: 1.3139 | Accuracy: 90.67% | GPU Memory (Alloc/Reserved): 0.09/2.22 GB\n"
     ]
    },
    {
     "name": "stderr",
     "output_type": "stream",
     "text": [
      "Train epoch: 2: 100%|██████████| 59/59 [00:24<00:00,  2.39it/s]\n",
      "Test epoch: 2: 100%|██████████| 34/34 [00:06<00:00,  5.62it/s]\n"
     ]
    },
    {
     "name": "stdout",
     "output_type": "stream",
     "text": [
      "Epoch 2/30 | Train Loss: 1.4634 | Test Loss: 1.3114 | Accuracy: 90.24% | GPU Memory (Alloc/Reserved): 0.08/2.22 GB\n"
     ]
    },
    {
     "name": "stderr",
     "output_type": "stream",
     "text": [
      "Train epoch: 3: 100%|██████████| 59/59 [00:24<00:00,  2.41it/s]\n",
      "Test epoch: 3: 100%|██████████| 34/34 [00:06<00:00,  5.62it/s]\n"
     ]
    },
    {
     "name": "stdout",
     "output_type": "stream",
     "text": [
      "Epoch 3/30 | Train Loss: 1.4692 | Test Loss: 1.3164 | Accuracy: 90.43% | GPU Memory (Alloc/Reserved): 0.08/2.22 GB\n"
     ]
    },
    {
     "name": "stderr",
     "output_type": "stream",
     "text": [
      "Train epoch: 4: 100%|██████████| 59/59 [00:24<00:00,  2.40it/s]\n",
      "Test epoch: 4: 100%|██████████| 34/34 [00:06<00:00,  5.63it/s]\n"
     ]
    },
    {
     "name": "stdout",
     "output_type": "stream",
     "text": [
      "Epoch 4/30 | Train Loss: 1.4588 | Test Loss: 1.3079 | Accuracy: 90.34% | GPU Memory (Alloc/Reserved): 0.08/2.22 GB\n"
     ]
    },
    {
     "name": "stderr",
     "output_type": "stream",
     "text": [
      "Train epoch: 5: 100%|██████████| 59/59 [00:24<00:00,  2.40it/s]\n",
      "Test epoch: 5: 100%|██████████| 34/34 [00:06<00:00,  5.64it/s]\n"
     ]
    },
    {
     "name": "stdout",
     "output_type": "stream",
     "text": [
      "Epoch 5/30 | Train Loss: 1.4605 | Test Loss: 1.3288 | Accuracy: 89.77% | GPU Memory (Alloc/Reserved): 0.08/2.22 GB\n"
     ]
    },
    {
     "name": "stderr",
     "output_type": "stream",
     "text": [
      "Train epoch: 6: 100%|██████████| 59/59 [00:24<00:00,  2.39it/s]\n",
      "Test epoch: 6: 100%|██████████| 34/34 [00:06<00:00,  5.61it/s]\n"
     ]
    },
    {
     "name": "stdout",
     "output_type": "stream",
     "text": [
      "Epoch 6/30 | Train Loss: 1.4550 | Test Loss: 1.2955 | Accuracy: 90.95% | GPU Memory (Alloc/Reserved): 0.08/2.22 GB\n"
     ]
    },
    {
     "name": "stderr",
     "output_type": "stream",
     "text": [
      "Train epoch: 7: 100%|██████████| 59/59 [00:24<00:00,  2.37it/s]\n",
      "Test epoch: 7: 100%|██████████| 34/34 [00:06<00:00,  5.57it/s]\n"
     ]
    },
    {
     "name": "stdout",
     "output_type": "stream",
     "text": [
      "Epoch 7/30 | Train Loss: 1.4459 | Test Loss: 1.2859 | Accuracy: 91.04% | GPU Memory (Alloc/Reserved): 0.08/2.22 GB\n"
     ]
    },
    {
     "name": "stderr",
     "output_type": "stream",
     "text": [
      "Train epoch: 8: 100%|██████████| 59/59 [00:26<00:00,  2.26it/s]\n",
      "Test epoch: 8: 100%|██████████| 34/34 [00:06<00:00,  5.35it/s]\n"
     ]
    },
    {
     "name": "stdout",
     "output_type": "stream",
     "text": [
      "Epoch 8/30 | Train Loss: 1.4474 | Test Loss: 1.2835 | Accuracy: 91.28% | GPU Memory (Alloc/Reserved): 0.08/2.22 GB\n"
     ]
    },
    {
     "name": "stderr",
     "output_type": "stream",
     "text": [
      "Train epoch: 9: 100%|██████████| 59/59 [00:26<00:00,  2.26it/s]\n",
      "Test epoch: 9: 100%|██████████| 34/34 [00:06<00:00,  5.43it/s]\n"
     ]
    },
    {
     "name": "stdout",
     "output_type": "stream",
     "text": [
      "Epoch 9/30 | Train Loss: 1.4357 | Test Loss: 1.2797 | Accuracy: 91.32% | GPU Memory (Alloc/Reserved): 0.08/2.22 GB\n"
     ]
    },
    {
     "name": "stderr",
     "output_type": "stream",
     "text": [
      "Train epoch: 10: 100%|██████████| 59/59 [00:26<00:00,  2.23it/s]\n",
      "Test epoch: 10: 100%|██████████| 34/34 [00:06<00:00,  5.37it/s]\n"
     ]
    },
    {
     "name": "stdout",
     "output_type": "stream",
     "text": [
      "Epoch 10/30 | Train Loss: 1.4194 | Test Loss: 1.2842 | Accuracy: 91.65% | GPU Memory (Alloc/Reserved): 0.08/2.22 GB\n"
     ]
    },
    {
     "name": "stderr",
     "output_type": "stream",
     "text": [
      "Train epoch: 11: 100%|██████████| 59/59 [00:25<00:00,  2.27it/s]\n",
      "Test epoch: 11: 100%|██████████| 34/34 [00:06<00:00,  5.51it/s]\n"
     ]
    },
    {
     "name": "stdout",
     "output_type": "stream",
     "text": [
      "Epoch 11/30 | Train Loss: 1.4228 | Test Loss: 1.2809 | Accuracy: 91.42% | GPU Memory (Alloc/Reserved): 0.08/2.22 GB\n"
     ]
    },
    {
     "name": "stderr",
     "output_type": "stream",
     "text": [
      "Train epoch: 12: 100%|██████████| 59/59 [00:26<00:00,  2.22it/s]\n",
      "Test epoch: 12: 100%|██████████| 34/34 [00:06<00:00,  5.28it/s]\n"
     ]
    },
    {
     "name": "stdout",
     "output_type": "stream",
     "text": [
      "Epoch 12/30 | Train Loss: 1.4304 | Test Loss: 1.2689 | Accuracy: 91.28% | GPU Memory (Alloc/Reserved): 0.08/2.22 GB\n"
     ]
    },
    {
     "name": "stderr",
     "output_type": "stream",
     "text": [
      "Train epoch: 13: 100%|██████████| 59/59 [00:25<00:00,  2.29it/s]\n",
      "Test epoch: 13: 100%|██████████| 34/34 [00:06<00:00,  5.42it/s]\n"
     ]
    },
    {
     "name": "stdout",
     "output_type": "stream",
     "text": [
      "Epoch 13/30 | Train Loss: 1.4121 | Test Loss: 1.2796 | Accuracy: 91.09% | GPU Memory (Alloc/Reserved): 0.08/2.22 GB\n"
     ]
    },
    {
     "name": "stderr",
     "output_type": "stream",
     "text": [
      "Train epoch: 14: 100%|██████████| 59/59 [00:25<00:00,  2.28it/s]\n",
      "Test epoch: 14: 100%|██████████| 34/34 [00:06<00:00,  5.45it/s]\n"
     ]
    },
    {
     "name": "stdout",
     "output_type": "stream",
     "text": [
      "Epoch 14/30 | Train Loss: 1.4243 | Test Loss: 1.2765 | Accuracy: 91.51% | GPU Memory (Alloc/Reserved): 0.08/2.22 GB\n"
     ]
    },
    {
     "name": "stderr",
     "output_type": "stream",
     "text": [
      "Train epoch: 15: 100%|██████████| 59/59 [00:24<00:00,  2.37it/s]\n",
      "Test epoch: 15: 100%|██████████| 34/34 [00:06<00:00,  5.56it/s]\n"
     ]
    },
    {
     "name": "stdout",
     "output_type": "stream",
     "text": [
      "Epoch 15/30 | Train Loss: 1.4124 | Test Loss: 1.2723 | Accuracy: 91.32% | GPU Memory (Alloc/Reserved): 0.08/2.22 GB\n"
     ]
    },
    {
     "name": "stderr",
     "output_type": "stream",
     "text": [
      "Train epoch: 16: 100%|██████████| 59/59 [00:24<00:00,  2.37it/s]\n",
      "Test epoch: 16: 100%|██████████| 34/34 [00:06<00:00,  5.57it/s]\n"
     ]
    },
    {
     "name": "stdout",
     "output_type": "stream",
     "text": [
      "Epoch 16/30 | Train Loss: 1.4095 | Test Loss: 1.2651 | Accuracy: 91.89% | GPU Memory (Alloc/Reserved): 0.08/2.22 GB\n"
     ]
    },
    {
     "name": "stderr",
     "output_type": "stream",
     "text": [
      "Train epoch: 17: 100%|██████████| 59/59 [00:24<00:00,  2.37it/s]\n",
      "Test epoch: 17: 100%|██████████| 34/34 [00:06<00:00,  5.58it/s]\n"
     ]
    },
    {
     "name": "stdout",
     "output_type": "stream",
     "text": [
      "Epoch 17/30 | Train Loss: 1.4177 | Test Loss: 1.2729 | Accuracy: 91.37% | GPU Memory (Alloc/Reserved): 0.08/2.22 GB\n"
     ]
    },
    {
     "name": "stderr",
     "output_type": "stream",
     "text": [
      "Train epoch: 18: 100%|██████████| 59/59 [00:24<00:00,  2.37it/s]\n",
      "Test epoch: 18: 100%|██████████| 34/34 [00:06<00:00,  5.57it/s]\n"
     ]
    },
    {
     "name": "stdout",
     "output_type": "stream",
     "text": [
      "Epoch 18/30 | Train Loss: 1.3981 | Test Loss: 1.2545 | Accuracy: 91.60% | GPU Memory (Alloc/Reserved): 0.08/2.22 GB\n"
     ]
    },
    {
     "name": "stderr",
     "output_type": "stream",
     "text": [
      "Train epoch: 19: 100%|██████████| 59/59 [00:24<00:00,  2.36it/s]\n",
      "Test epoch: 19: 100%|██████████| 34/34 [00:06<00:00,  5.53it/s]\n"
     ]
    },
    {
     "name": "stdout",
     "output_type": "stream",
     "text": [
      "Epoch 19/30 | Train Loss: 1.3948 | Test Loss: 1.2664 | Accuracy: 91.56% | GPU Memory (Alloc/Reserved): 0.08/2.22 GB\n"
     ]
    },
    {
     "name": "stderr",
     "output_type": "stream",
     "text": [
      "Train epoch: 20: 100%|██████████| 59/59 [00:25<00:00,  2.36it/s]\n",
      "Test epoch: 20: 100%|██████████| 34/34 [00:06<00:00,  5.56it/s]\n"
     ]
    },
    {
     "name": "stdout",
     "output_type": "stream",
     "text": [
      "Epoch 20/30 | Train Loss: 1.3900 | Test Loss: 1.2467 | Accuracy: 92.12% | GPU Memory (Alloc/Reserved): 0.08/2.22 GB\n"
     ]
    },
    {
     "name": "stderr",
     "output_type": "stream",
     "text": [
      "Train epoch: 21: 100%|██████████| 59/59 [00:24<00:00,  2.38it/s]\n",
      "Test epoch: 21: 100%|██████████| 34/34 [00:06<00:00,  5.53it/s]\n"
     ]
    },
    {
     "name": "stdout",
     "output_type": "stream",
     "text": [
      "Epoch 21/30 | Train Loss: 1.3971 | Test Loss: 1.2526 | Accuracy: 91.89% | GPU Memory (Alloc/Reserved): 0.08/2.22 GB\n"
     ]
    },
    {
     "name": "stderr",
     "output_type": "stream",
     "text": [
      "Train epoch: 22: 100%|██████████| 59/59 [00:24<00:00,  2.37it/s]\n",
      "Test epoch: 22: 100%|██████████| 34/34 [00:06<00:00,  5.53it/s]\n"
     ]
    },
    {
     "name": "stdout",
     "output_type": "stream",
     "text": [
      "Epoch 22/30 | Train Loss: 1.3984 | Test Loss: 1.2514 | Accuracy: 91.98% | GPU Memory (Alloc/Reserved): 0.08/2.22 GB\n"
     ]
    },
    {
     "name": "stderr",
     "output_type": "stream",
     "text": [
      "Train epoch: 23: 100%|██████████| 59/59 [00:25<00:00,  2.35it/s]\n",
      "Test epoch: 23: 100%|██████████| 34/34 [00:06<00:00,  5.63it/s]\n"
     ]
    },
    {
     "name": "stdout",
     "output_type": "stream",
     "text": [
      "Epoch 23/30 | Train Loss: 1.3810 | Test Loss: 1.2549 | Accuracy: 92.03% | GPU Memory (Alloc/Reserved): 0.08/2.22 GB\n"
     ]
    },
    {
     "name": "stderr",
     "output_type": "stream",
     "text": [
      "Train epoch: 24: 100%|██████████| 59/59 [00:25<00:00,  2.35it/s]\n",
      "Test epoch: 24: 100%|██████████| 34/34 [00:06<00:00,  5.60it/s]\n"
     ]
    },
    {
     "name": "stdout",
     "output_type": "stream",
     "text": [
      "Epoch 24/30 | Train Loss: 1.3907 | Test Loss: 1.2626 | Accuracy: 92.03% | GPU Memory (Alloc/Reserved): 0.08/2.22 GB\n"
     ]
    },
    {
     "name": "stderr",
     "output_type": "stream",
     "text": [
      "Train epoch: 25: 100%|██████████| 59/59 [00:25<00:00,  2.31it/s]\n",
      "Test epoch: 25: 100%|██████████| 34/34 [00:06<00:00,  5.62it/s]\n"
     ]
    },
    {
     "name": "stdout",
     "output_type": "stream",
     "text": [
      "Epoch 25/30 | Train Loss: 1.3796 | Test Loss: 1.2431 | Accuracy: 92.03% | GPU Memory (Alloc/Reserved): 0.08/2.22 GB\n"
     ]
    },
    {
     "name": "stderr",
     "output_type": "stream",
     "text": [
      "Train epoch: 26: 100%|██████████| 59/59 [00:24<00:00,  2.39it/s]\n",
      "Test epoch: 26: 100%|██████████| 34/34 [00:06<00:00,  5.60it/s]\n"
     ]
    },
    {
     "name": "stdout",
     "output_type": "stream",
     "text": [
      "Epoch 26/30 | Train Loss: 1.3939 | Test Loss: 1.2493 | Accuracy: 92.45% | GPU Memory (Alloc/Reserved): 0.08/2.22 GB\n"
     ]
    },
    {
     "name": "stderr",
     "output_type": "stream",
     "text": [
      "Train epoch: 27: 100%|██████████| 59/59 [00:24<00:00,  2.39it/s]\n",
      "Test epoch: 27: 100%|██████████| 34/34 [00:06<00:00,  5.64it/s]\n"
     ]
    },
    {
     "name": "stdout",
     "output_type": "stream",
     "text": [
      "Epoch 27/30 | Train Loss: 1.3809 | Test Loss: 1.2524 | Accuracy: 92.12% | GPU Memory (Alloc/Reserved): 0.08/2.22 GB\n"
     ]
    },
    {
     "name": "stderr",
     "output_type": "stream",
     "text": [
      "Train epoch: 28: 100%|██████████| 59/59 [00:24<00:00,  2.41it/s]\n",
      "Test epoch: 28: 100%|██████████| 34/34 [00:06<00:00,  5.62it/s]\n"
     ]
    },
    {
     "name": "stdout",
     "output_type": "stream",
     "text": [
      "Epoch 28/30 | Train Loss: 1.3692 | Test Loss: 1.2563 | Accuracy: 92.03% | GPU Memory (Alloc/Reserved): 0.08/2.22 GB\n"
     ]
    },
    {
     "name": "stderr",
     "output_type": "stream",
     "text": [
      "Train epoch: 29: 100%|██████████| 59/59 [00:24<00:00,  2.39it/s]\n",
      "Test epoch: 29: 100%|██████████| 34/34 [00:06<00:00,  5.62it/s]\n"
     ]
    },
    {
     "name": "stdout",
     "output_type": "stream",
     "text": [
      "Epoch 29/30 | Train Loss: 1.3725 | Test Loss: 1.2412 | Accuracy: 92.17% | GPU Memory (Alloc/Reserved): 0.08/2.22 GB\n"
     ]
    },
    {
     "name": "stderr",
     "output_type": "stream",
     "text": [
      "Train epoch: 30: 100%|██████████| 59/59 [00:25<00:00,  2.35it/s]\n",
      "Test epoch: 30: 100%|██████████| 34/34 [00:06<00:00,  5.58it/s]\n"
     ]
    },
    {
     "name": "stdout",
     "output_type": "stream",
     "text": [
      "Epoch 30/30 | Train Loss: 1.3669 | Test Loss: 1.2511 | Accuracy: 92.50% | GPU Memory (Alloc/Reserved): 0.08/2.22 GB\n",
      "Phase done!\n",
      "\n",
      "Unfreezing the fifth last convolutional block for fine-tuning...\n"
     ]
    },
    {
     "name": "stderr",
     "output_type": "stream",
     "text": [
      "Train epoch: 1: 100%|██████████| 59/59 [00:25<00:00,  2.36it/s]\n",
      "Test epoch: 1: 100%|██████████| 34/34 [00:06<00:00,  5.60it/s]\n"
     ]
    },
    {
     "name": "stdout",
     "output_type": "stream",
     "text": [
      "Epoch 1/40 | Train Loss: 1.3795 | Test Loss: 1.2425 | Accuracy: 92.17% | GPU Memory (Alloc/Reserved): 0.09/2.22 GB\n"
     ]
    },
    {
     "name": "stderr",
     "output_type": "stream",
     "text": [
      "Train epoch: 2: 100%|██████████| 59/59 [00:24<00:00,  2.39it/s]\n",
      "Test epoch: 2: 100%|██████████| 34/34 [00:06<00:00,  5.60it/s]\n"
     ]
    },
    {
     "name": "stdout",
     "output_type": "stream",
     "text": [
      "Epoch 2/40 | Train Loss: 1.3734 | Test Loss: 1.2547 | Accuracy: 92.12% | GPU Memory (Alloc/Reserved): 0.09/2.22 GB\n"
     ]
    },
    {
     "name": "stderr",
     "output_type": "stream",
     "text": [
      "Train epoch: 3: 100%|██████████| 59/59 [00:24<00:00,  2.36it/s]\n",
      "Test epoch: 3: 100%|██████████| 34/34 [00:06<00:00,  5.61it/s]\n"
     ]
    },
    {
     "name": "stdout",
     "output_type": "stream",
     "text": [
      "Epoch 3/40 | Train Loss: 1.3776 | Test Loss: 1.2557 | Accuracy: 92.03% | GPU Memory (Alloc/Reserved): 0.09/2.22 GB\n"
     ]
    },
    {
     "name": "stderr",
     "output_type": "stream",
     "text": [
      "Train epoch: 4: 100%|██████████| 59/59 [00:24<00:00,  2.37it/s]\n",
      "Test epoch: 4: 100%|██████████| 34/34 [00:06<00:00,  5.61it/s]\n"
     ]
    },
    {
     "name": "stdout",
     "output_type": "stream",
     "text": [
      "Epoch 4/40 | Train Loss: 1.3597 | Test Loss: 1.2531 | Accuracy: 92.31% | GPU Memory (Alloc/Reserved): 0.09/2.22 GB\n"
     ]
    },
    {
     "name": "stderr",
     "output_type": "stream",
     "text": [
      "Train epoch: 5: 100%|██████████| 59/59 [00:24<00:00,  2.37it/s]\n",
      "Test epoch: 5: 100%|██████████| 34/34 [00:06<00:00,  5.64it/s]\n"
     ]
    },
    {
     "name": "stdout",
     "output_type": "stream",
     "text": [
      "Epoch 5/40 | Train Loss: 1.3589 | Test Loss: 1.2402 | Accuracy: 92.54% | GPU Memory (Alloc/Reserved): 0.09/2.22 GB\n"
     ]
    },
    {
     "name": "stderr",
     "output_type": "stream",
     "text": [
      "Train epoch: 6: 100%|██████████| 59/59 [00:24<00:00,  2.36it/s]\n",
      "Test epoch: 6: 100%|██████████| 34/34 [00:06<00:00,  5.66it/s]\n"
     ]
    },
    {
     "name": "stdout",
     "output_type": "stream",
     "text": [
      "Epoch 6/40 | Train Loss: 1.3644 | Test Loss: 1.2481 | Accuracy: 92.35% | GPU Memory (Alloc/Reserved): 0.09/2.22 GB\n"
     ]
    },
    {
     "name": "stderr",
     "output_type": "stream",
     "text": [
      "Train epoch: 7: 100%|██████████| 59/59 [00:24<00:00,  2.38it/s]\n",
      "Test epoch: 7: 100%|██████████| 34/34 [00:06<00:00,  5.64it/s]\n"
     ]
    },
    {
     "name": "stdout",
     "output_type": "stream",
     "text": [
      "Epoch 7/40 | Train Loss: 1.3615 | Test Loss: 1.2407 | Accuracy: 92.64% | GPU Memory (Alloc/Reserved): 0.09/2.22 GB\n"
     ]
    },
    {
     "name": "stderr",
     "output_type": "stream",
     "text": [
      "Train epoch: 8: 100%|██████████| 59/59 [00:24<00:00,  2.36it/s]\n",
      "Test epoch: 8: 100%|██████████| 34/34 [00:06<00:00,  5.62it/s]\n"
     ]
    },
    {
     "name": "stdout",
     "output_type": "stream",
     "text": [
      "Epoch 8/40 | Train Loss: 1.3615 | Test Loss: 1.2325 | Accuracy: 92.64% | GPU Memory (Alloc/Reserved): 0.09/2.22 GB\n"
     ]
    },
    {
     "name": "stderr",
     "output_type": "stream",
     "text": [
      "Train epoch: 9: 100%|██████████| 59/59 [00:25<00:00,  2.36it/s]\n",
      "Test epoch: 9: 100%|██████████| 34/34 [00:06<00:00,  5.53it/s]\n"
     ]
    },
    {
     "name": "stdout",
     "output_type": "stream",
     "text": [
      "Epoch 9/40 | Train Loss: 1.3538 | Test Loss: 1.2369 | Accuracy: 92.78% | GPU Memory (Alloc/Reserved): 0.09/2.22 GB\n"
     ]
    },
    {
     "name": "stderr",
     "output_type": "stream",
     "text": [
      "Train epoch: 10: 100%|██████████| 59/59 [00:25<00:00,  2.30it/s]\n",
      "Test epoch: 10: 100%|██████████| 34/34 [00:06<00:00,  5.59it/s]\n"
     ]
    },
    {
     "name": "stdout",
     "output_type": "stream",
     "text": [
      "Epoch 10/40 | Train Loss: 1.3489 | Test Loss: 1.2327 | Accuracy: 92.64% | GPU Memory (Alloc/Reserved): 0.09/2.22 GB\n"
     ]
    },
    {
     "name": "stderr",
     "output_type": "stream",
     "text": [
      "Train epoch: 11: 100%|██████████| 59/59 [00:24<00:00,  2.37it/s]\n",
      "Test epoch: 11: 100%|██████████| 34/34 [00:06<00:00,  5.62it/s]\n"
     ]
    },
    {
     "name": "stdout",
     "output_type": "stream",
     "text": [
      "Epoch 11/40 | Train Loss: 1.3449 | Test Loss: 1.2387 | Accuracy: 92.78% | GPU Memory (Alloc/Reserved): 0.09/2.22 GB\n"
     ]
    },
    {
     "name": "stderr",
     "output_type": "stream",
     "text": [
      "Train epoch: 12: 100%|██████████| 59/59 [00:24<00:00,  2.37it/s]\n",
      "Test epoch: 12: 100%|██████████| 34/34 [00:06<00:00,  5.59it/s]\n"
     ]
    },
    {
     "name": "stdout",
     "output_type": "stream",
     "text": [
      "Epoch 12/40 | Train Loss: 1.3432 | Test Loss: 1.2324 | Accuracy: 92.64% | GPU Memory (Alloc/Reserved): 0.09/2.22 GB\n"
     ]
    },
    {
     "name": "stderr",
     "output_type": "stream",
     "text": [
      "Train epoch: 13: 100%|██████████| 59/59 [00:24<00:00,  2.37it/s]\n",
      "Test epoch: 13: 100%|██████████| 34/34 [00:06<00:00,  5.57it/s]\n"
     ]
    },
    {
     "name": "stdout",
     "output_type": "stream",
     "text": [
      "Epoch 13/40 | Train Loss: 1.3409 | Test Loss: 1.2282 | Accuracy: 92.96% | GPU Memory (Alloc/Reserved): 0.09/2.22 GB\n"
     ]
    },
    {
     "name": "stderr",
     "output_type": "stream",
     "text": [
      "Train epoch: 14: 100%|██████████| 59/59 [00:24<00:00,  2.37it/s]\n",
      "Test epoch: 14: 100%|██████████| 34/34 [00:06<00:00,  5.62it/s]\n"
     ]
    },
    {
     "name": "stdout",
     "output_type": "stream",
     "text": [
      "Epoch 14/40 | Train Loss: 1.3359 | Test Loss: 1.2351 | Accuracy: 93.01% | GPU Memory (Alloc/Reserved): 0.09/2.22 GB\n"
     ]
    },
    {
     "name": "stderr",
     "output_type": "stream",
     "text": [
      "Train epoch: 15: 100%|██████████| 59/59 [00:24<00:00,  2.37it/s]\n",
      "Test epoch: 15: 100%|██████████| 34/34 [00:06<00:00,  5.61it/s]\n"
     ]
    },
    {
     "name": "stdout",
     "output_type": "stream",
     "text": [
      "Epoch 15/40 | Train Loss: 1.3407 | Test Loss: 1.2266 | Accuracy: 92.82% | GPU Memory (Alloc/Reserved): 0.09/2.22 GB\n"
     ]
    },
    {
     "name": "stderr",
     "output_type": "stream",
     "text": [
      "Train epoch: 16: 100%|██████████| 59/59 [00:24<00:00,  2.37it/s]\n",
      "Test epoch: 16: 100%|██████████| 34/34 [00:06<00:00,  5.60it/s]\n"
     ]
    },
    {
     "name": "stdout",
     "output_type": "stream",
     "text": [
      "Epoch 16/40 | Train Loss: 1.3336 | Test Loss: 1.2310 | Accuracy: 92.82% | GPU Memory (Alloc/Reserved): 0.09/2.22 GB\n"
     ]
    },
    {
     "name": "stderr",
     "output_type": "stream",
     "text": [
      "Train epoch: 17: 100%|██████████| 59/59 [00:25<00:00,  2.35it/s]\n",
      "Test epoch: 17: 100%|██████████| 34/34 [00:06<00:00,  5.66it/s]\n"
     ]
    },
    {
     "name": "stdout",
     "output_type": "stream",
     "text": [
      "Epoch 17/40 | Train Loss: 1.3402 | Test Loss: 1.2412 | Accuracy: 92.82% | GPU Memory (Alloc/Reserved): 0.09/2.22 GB\n"
     ]
    },
    {
     "name": "stderr",
     "output_type": "stream",
     "text": [
      "Train epoch: 18: 100%|██████████| 59/59 [00:24<00:00,  2.36it/s]\n",
      "Test epoch: 18: 100%|██████████| 34/34 [00:06<00:00,  5.62it/s]\n"
     ]
    },
    {
     "name": "stdout",
     "output_type": "stream",
     "text": [
      "Epoch 18/40 | Train Loss: 1.3306 | Test Loss: 1.2427 | Accuracy: 92.68% | GPU Memory (Alloc/Reserved): 0.09/2.22 GB\n"
     ]
    },
    {
     "name": "stderr",
     "output_type": "stream",
     "text": [
      "Train epoch: 19: 100%|██████████| 59/59 [00:25<00:00,  2.36it/s]\n",
      "Test epoch: 19: 100%|██████████| 34/34 [00:06<00:00,  5.53it/s]\n"
     ]
    },
    {
     "name": "stdout",
     "output_type": "stream",
     "text": [
      "Epoch 19/40 | Train Loss: 1.3319 | Test Loss: 1.2356 | Accuracy: 92.82% | GPU Memory (Alloc/Reserved): 0.09/2.22 GB\n"
     ]
    },
    {
     "name": "stderr",
     "output_type": "stream",
     "text": [
      "Train epoch: 20: 100%|██████████| 59/59 [00:25<00:00,  2.36it/s]\n",
      "Test epoch: 20: 100%|██████████| 34/34 [00:06<00:00,  5.63it/s]\n"
     ]
    },
    {
     "name": "stdout",
     "output_type": "stream",
     "text": [
      "Epoch 20/40 | Train Loss: 1.3436 | Test Loss: 1.2314 | Accuracy: 92.87% | GPU Memory (Alloc/Reserved): 0.09/2.22 GB\n"
     ]
    },
    {
     "name": "stderr",
     "output_type": "stream",
     "text": [
      "Train epoch: 21: 100%|██████████| 59/59 [00:24<00:00,  2.38it/s]\n",
      "Test epoch: 21: 100%|██████████| 34/34 [00:06<00:00,  5.58it/s]\n"
     ]
    },
    {
     "name": "stdout",
     "output_type": "stream",
     "text": [
      "Epoch 21/40 | Train Loss: 1.3240 | Test Loss: 1.2367 | Accuracy: 92.64% | GPU Memory (Alloc/Reserved): 0.09/2.22 GB\n"
     ]
    },
    {
     "name": "stderr",
     "output_type": "stream",
     "text": [
      "Train epoch: 22: 100%|██████████| 59/59 [00:24<00:00,  2.38it/s]\n",
      "Test epoch: 22: 100%|██████████| 34/34 [00:06<00:00,  5.58it/s]\n"
     ]
    },
    {
     "name": "stdout",
     "output_type": "stream",
     "text": [
      "Epoch 22/40 | Train Loss: 1.3361 | Test Loss: 1.2337 | Accuracy: 92.59% | GPU Memory (Alloc/Reserved): 0.09/2.22 GB\n"
     ]
    },
    {
     "name": "stderr",
     "output_type": "stream",
     "text": [
      "Train epoch: 23: 100%|██████████| 59/59 [00:25<00:00,  2.35it/s]\n",
      "Test epoch: 23: 100%|██████████| 34/34 [00:06<00:00,  5.61it/s]\n"
     ]
    },
    {
     "name": "stdout",
     "output_type": "stream",
     "text": [
      "Epoch 23/40 | Train Loss: 1.3381 | Test Loss: 1.2238 | Accuracy: 93.11% | GPU Memory (Alloc/Reserved): 0.09/2.22 GB\n"
     ]
    },
    {
     "name": "stderr",
     "output_type": "stream",
     "text": [
      "Train epoch: 24: 100%|██████████| 59/59 [00:24<00:00,  2.37it/s]\n",
      "Test epoch: 24: 100%|██████████| 34/34 [00:06<00:00,  5.58it/s]\n"
     ]
    },
    {
     "name": "stdout",
     "output_type": "stream",
     "text": [
      "Epoch 24/40 | Train Loss: 1.3255 | Test Loss: 1.2162 | Accuracy: 93.25% | GPU Memory (Alloc/Reserved): 0.09/2.22 GB\n"
     ]
    },
    {
     "name": "stderr",
     "output_type": "stream",
     "text": [
      "Train epoch: 25: 100%|██████████| 59/59 [00:25<00:00,  2.33it/s]\n",
      "Test epoch: 25: 100%|██████████| 34/34 [00:06<00:00,  5.59it/s]\n"
     ]
    },
    {
     "name": "stdout",
     "output_type": "stream",
     "text": [
      "Epoch 25/40 | Train Loss: 1.3309 | Test Loss: 1.2209 | Accuracy: 92.87% | GPU Memory (Alloc/Reserved): 0.09/2.22 GB\n"
     ]
    },
    {
     "name": "stderr",
     "output_type": "stream",
     "text": [
      "Train epoch: 26: 100%|██████████| 59/59 [00:25<00:00,  2.32it/s]\n",
      "Test epoch: 26: 100%|██████████| 34/34 [00:06<00:00,  5.53it/s]\n"
     ]
    },
    {
     "name": "stdout",
     "output_type": "stream",
     "text": [
      "Epoch 26/40 | Train Loss: 1.3293 | Test Loss: 1.2221 | Accuracy: 93.06% | GPU Memory (Alloc/Reserved): 0.09/2.22 GB\n"
     ]
    },
    {
     "name": "stderr",
     "output_type": "stream",
     "text": [
      "Train epoch: 27: 100%|██████████| 59/59 [00:25<00:00,  2.33it/s]\n",
      "Test epoch: 27: 100%|██████████| 34/34 [00:06<00:00,  5.57it/s]\n"
     ]
    },
    {
     "name": "stdout",
     "output_type": "stream",
     "text": [
      "Epoch 27/40 | Train Loss: 1.3219 | Test Loss: 1.2180 | Accuracy: 93.11% | GPU Memory (Alloc/Reserved): 0.09/2.22 GB\n"
     ]
    },
    {
     "name": "stderr",
     "output_type": "stream",
     "text": [
      "Train epoch: 28: 100%|██████████| 59/59 [00:25<00:00,  2.33it/s]\n",
      "Test epoch: 28: 100%|██████████| 34/34 [00:06<00:00,  5.55it/s]\n"
     ]
    },
    {
     "name": "stdout",
     "output_type": "stream",
     "text": [
      "Epoch 28/40 | Train Loss: 1.3271 | Test Loss: 1.2210 | Accuracy: 93.11% | GPU Memory (Alloc/Reserved): 0.09/2.22 GB\n"
     ]
    },
    {
     "name": "stderr",
     "output_type": "stream",
     "text": [
      "Train epoch: 29: 100%|██████████| 59/59 [00:25<00:00,  2.31it/s]\n",
      "Test epoch: 29: 100%|██████████| 34/34 [00:06<00:00,  5.55it/s]\n"
     ]
    },
    {
     "name": "stdout",
     "output_type": "stream",
     "text": [
      "Epoch 29/40 | Train Loss: 1.3318 | Test Loss: 1.2197 | Accuracy: 93.01% | GPU Memory (Alloc/Reserved): 0.09/2.22 GB\n"
     ]
    },
    {
     "name": "stderr",
     "output_type": "stream",
     "text": [
      "Train epoch: 30: 100%|██████████| 59/59 [00:25<00:00,  2.33it/s]\n",
      "Test epoch: 30: 100%|██████████| 34/34 [00:06<00:00,  5.47it/s]\n"
     ]
    },
    {
     "name": "stdout",
     "output_type": "stream",
     "text": [
      "Epoch 30/40 | Train Loss: 1.3281 | Test Loss: 1.2280 | Accuracy: 92.64% | GPU Memory (Alloc/Reserved): 0.09/2.22 GB\n"
     ]
    },
    {
     "name": "stderr",
     "output_type": "stream",
     "text": [
      "Train epoch: 31: 100%|██████████| 59/59 [00:25<00:00,  2.34it/s]\n",
      "Test epoch: 31: 100%|██████████| 34/34 [00:06<00:00,  5.58it/s]\n"
     ]
    },
    {
     "name": "stdout",
     "output_type": "stream",
     "text": [
      "Epoch 31/40 | Train Loss: 1.3238 | Test Loss: 1.2233 | Accuracy: 92.92% | GPU Memory (Alloc/Reserved): 0.09/2.22 GB\n"
     ]
    },
    {
     "name": "stderr",
     "output_type": "stream",
     "text": [
      "Train epoch: 32: 100%|██████████| 59/59 [00:25<00:00,  2.30it/s]\n",
      "Test epoch: 32: 100%|██████████| 34/34 [00:06<00:00,  5.55it/s]\n"
     ]
    },
    {
     "name": "stdout",
     "output_type": "stream",
     "text": [
      "Epoch 32/40 | Train Loss: 1.3163 | Test Loss: 1.2218 | Accuracy: 93.11% | GPU Memory (Alloc/Reserved): 0.09/2.22 GB\n"
     ]
    },
    {
     "name": "stderr",
     "output_type": "stream",
     "text": [
      "Train epoch: 33: 100%|██████████| 59/59 [00:25<00:00,  2.34it/s]\n",
      "Test epoch: 33: 100%|██████████| 34/34 [00:06<00:00,  5.45it/s]\n"
     ]
    },
    {
     "name": "stdout",
     "output_type": "stream",
     "text": [
      "Epoch 33/40 | Train Loss: 1.3307 | Test Loss: 1.2176 | Accuracy: 93.11% | GPU Memory (Alloc/Reserved): 0.09/2.22 GB\n"
     ]
    },
    {
     "name": "stderr",
     "output_type": "stream",
     "text": [
      "Train epoch: 34: 100%|██████████| 59/59 [00:25<00:00,  2.34it/s]\n",
      "Test epoch: 34: 100%|██████████| 34/34 [00:06<00:00,  5.56it/s]\n"
     ]
    },
    {
     "name": "stdout",
     "output_type": "stream",
     "text": [
      "Epoch 34/40 | Train Loss: 1.3242 | Test Loss: 1.2280 | Accuracy: 93.01% | GPU Memory (Alloc/Reserved): 0.09/2.22 GB\n"
     ]
    },
    {
     "name": "stderr",
     "output_type": "stream",
     "text": [
      "Train epoch: 35: 100%|██████████| 59/59 [00:37<00:00,  1.59it/s]\n",
      "Test epoch: 35: 100%|██████████| 34/34 [00:05<00:00,  5.98it/s]\n"
     ]
    },
    {
     "name": "stdout",
     "output_type": "stream",
     "text": [
      "Epoch 35/40 | Train Loss: 1.3144 | Test Loss: 1.2184 | Accuracy: 93.15% | GPU Memory (Alloc/Reserved): 0.09/2.22 GB\n"
     ]
    },
    {
     "name": "stderr",
     "output_type": "stream",
     "text": [
      "Train epoch: 36: 100%|██████████| 59/59 [00:22<00:00,  2.59it/s]\n",
      "Test epoch: 36: 100%|██████████| 34/34 [00:05<00:00,  5.95it/s]\n"
     ]
    },
    {
     "name": "stdout",
     "output_type": "stream",
     "text": [
      "Epoch 36/40 | Train Loss: 1.3247 | Test Loss: 1.2203 | Accuracy: 93.15% | GPU Memory (Alloc/Reserved): 0.09/2.22 GB\n"
     ]
    },
    {
     "name": "stderr",
     "output_type": "stream",
     "text": [
      "Train epoch: 37: 100%|██████████| 59/59 [00:22<00:00,  2.59it/s]\n",
      "Test epoch: 37: 100%|██████████| 34/34 [00:05<00:00,  5.99it/s]\n"
     ]
    },
    {
     "name": "stdout",
     "output_type": "stream",
     "text": [
      "Epoch 37/40 | Train Loss: 1.3179 | Test Loss: 1.2227 | Accuracy: 93.11% | GPU Memory (Alloc/Reserved): 0.09/2.22 GB\n"
     ]
    },
    {
     "name": "stderr",
     "output_type": "stream",
     "text": [
      "Train epoch: 38: 100%|██████████| 59/59 [00:22<00:00,  2.58it/s]\n",
      "Test epoch: 38: 100%|██████████| 34/34 [00:05<00:00,  5.94it/s]\n"
     ]
    },
    {
     "name": "stdout",
     "output_type": "stream",
     "text": [
      "Epoch 38/40 | Train Loss: 1.3147 | Test Loss: 1.2189 | Accuracy: 93.20% | GPU Memory (Alloc/Reserved): 0.09/2.22 GB\n"
     ]
    },
    {
     "name": "stderr",
     "output_type": "stream",
     "text": [
      "Train epoch: 39: 100%|██████████| 59/59 [00:22<00:00,  2.59it/s]\n",
      "Test epoch: 39: 100%|██████████| 34/34 [00:05<00:00,  5.96it/s]\n"
     ]
    },
    {
     "name": "stdout",
     "output_type": "stream",
     "text": [
      "Epoch 39/40 | Train Loss: 1.3128 | Test Loss: 1.2239 | Accuracy: 93.34% | GPU Memory (Alloc/Reserved): 0.09/2.22 GB\n"
     ]
    },
    {
     "name": "stderr",
     "output_type": "stream",
     "text": [
      "Train epoch: 40: 100%|██████████| 59/59 [00:22<00:00,  2.59it/s]\n",
      "Test epoch: 40: 100%|██████████| 34/34 [00:05<00:00,  5.96it/s]\n"
     ]
    },
    {
     "name": "stdout",
     "output_type": "stream",
     "text": [
      "Epoch 40/40 | Train Loss: 1.3096 | Test Loss: 1.2200 | Accuracy: 93.11% | GPU Memory (Alloc/Reserved): 0.09/2.22 GB\n",
      "Phase done!\n",
      "\n",
      "Unfreezing the sixth last convolutional block for fine-tuning...\n"
     ]
    },
    {
     "name": "stderr",
     "output_type": "stream",
     "text": [
      "Train epoch: 1: 100%|██████████| 59/59 [00:23<00:00,  2.54it/s]\n",
      "Test epoch: 1: 100%|██████████| 34/34 [00:05<00:00,  5.96it/s]\n"
     ]
    },
    {
     "name": "stdout",
     "output_type": "stream",
     "text": [
      "Epoch 1/50 | Train Loss: 1.2988 | Test Loss: 1.2149 | Accuracy: 93.53% | GPU Memory (Alloc/Reserved): 0.09/2.22 GB\n"
     ]
    },
    {
     "name": "stderr",
     "output_type": "stream",
     "text": [
      "Train epoch: 2: 100%|██████████| 59/59 [00:23<00:00,  2.55it/s]\n",
      "Test epoch: 2: 100%|██████████| 34/34 [00:05<00:00,  5.97it/s]\n"
     ]
    },
    {
     "name": "stdout",
     "output_type": "stream",
     "text": [
      "Epoch 2/50 | Train Loss: 1.3062 | Test Loss: 1.2162 | Accuracy: 93.15% | GPU Memory (Alloc/Reserved): 0.09/2.22 GB\n"
     ]
    },
    {
     "name": "stderr",
     "output_type": "stream",
     "text": [
      "Train epoch: 3: 100%|██████████| 59/59 [00:23<00:00,  2.54it/s]\n",
      "Test epoch: 3: 100%|██████████| 34/34 [00:05<00:00,  5.93it/s]\n"
     ]
    },
    {
     "name": "stdout",
     "output_type": "stream",
     "text": [
      "Epoch 3/50 | Train Loss: 1.3025 | Test Loss: 1.2181 | Accuracy: 93.25% | GPU Memory (Alloc/Reserved): 0.09/2.22 GB\n"
     ]
    },
    {
     "name": "stderr",
     "output_type": "stream",
     "text": [
      "Train epoch: 4: 100%|██████████| 59/59 [00:23<00:00,  2.52it/s]\n",
      "Test epoch: 4: 100%|██████████| 34/34 [00:05<00:00,  5.93it/s]\n"
     ]
    },
    {
     "name": "stdout",
     "output_type": "stream",
     "text": [
      "Epoch 4/50 | Train Loss: 1.3056 | Test Loss: 1.2238 | Accuracy: 92.96% | GPU Memory (Alloc/Reserved): 0.09/2.22 GB\n"
     ]
    },
    {
     "name": "stderr",
     "output_type": "stream",
     "text": [
      "Train epoch: 5: 100%|██████████| 59/59 [00:23<00:00,  2.52it/s]\n",
      "Test epoch: 5: 100%|██████████| 34/34 [00:05<00:00,  5.93it/s]\n"
     ]
    },
    {
     "name": "stdout",
     "output_type": "stream",
     "text": [
      "Epoch 5/50 | Train Loss: 1.3048 | Test Loss: 1.2190 | Accuracy: 93.06% | GPU Memory (Alloc/Reserved): 0.09/2.22 GB\n"
     ]
    },
    {
     "name": "stderr",
     "output_type": "stream",
     "text": [
      "Train epoch: 6: 100%|██████████| 59/59 [00:23<00:00,  2.52it/s]\n",
      "Test epoch: 6: 100%|██████████| 34/34 [00:05<00:00,  5.93it/s]\n"
     ]
    },
    {
     "name": "stdout",
     "output_type": "stream",
     "text": [
      "Epoch 6/50 | Train Loss: 1.2927 | Test Loss: 1.2096 | Accuracy: 93.48% | GPU Memory (Alloc/Reserved): 0.09/2.22 GB\n"
     ]
    },
    {
     "name": "stderr",
     "output_type": "stream",
     "text": [
      "Train epoch: 7: 100%|██████████| 59/59 [00:23<00:00,  2.51it/s]\n",
      "Test epoch: 7: 100%|██████████| 34/34 [00:05<00:00,  5.88it/s]\n"
     ]
    },
    {
     "name": "stdout",
     "output_type": "stream",
     "text": [
      "Epoch 7/50 | Train Loss: 1.3091 | Test Loss: 1.2104 | Accuracy: 93.53% | GPU Memory (Alloc/Reserved): 0.09/2.22 GB\n"
     ]
    },
    {
     "name": "stderr",
     "output_type": "stream",
     "text": [
      "Train epoch: 8: 100%|██████████| 59/59 [00:23<00:00,  2.52it/s]\n",
      "Test epoch: 8: 100%|██████████| 34/34 [00:05<00:00,  5.96it/s]\n"
     ]
    },
    {
     "name": "stdout",
     "output_type": "stream",
     "text": [
      "Epoch 8/50 | Train Loss: 1.3002 | Test Loss: 1.2123 | Accuracy: 93.48% | GPU Memory (Alloc/Reserved): 0.09/2.22 GB\n"
     ]
    },
    {
     "name": "stderr",
     "output_type": "stream",
     "text": [
      "Train epoch: 9: 100%|██████████| 59/59 [00:23<00:00,  2.51it/s]\n",
      "Test epoch: 9: 100%|██████████| 34/34 [00:05<00:00,  5.93it/s]\n"
     ]
    },
    {
     "name": "stdout",
     "output_type": "stream",
     "text": [
      "Epoch 9/50 | Train Loss: 1.3045 | Test Loss: 1.2096 | Accuracy: 93.48% | GPU Memory (Alloc/Reserved): 0.09/2.22 GB\n"
     ]
    },
    {
     "name": "stderr",
     "output_type": "stream",
     "text": [
      "Train epoch: 10: 100%|██████████| 59/59 [00:23<00:00,  2.53it/s]\n",
      "Test epoch: 10: 100%|██████████| 34/34 [00:05<00:00,  5.93it/s]\n"
     ]
    },
    {
     "name": "stdout",
     "output_type": "stream",
     "text": [
      "Epoch 10/50 | Train Loss: 1.2972 | Test Loss: 1.2112 | Accuracy: 93.57% | GPU Memory (Alloc/Reserved): 0.09/2.22 GB\n"
     ]
    },
    {
     "name": "stderr",
     "output_type": "stream",
     "text": [
      "Train epoch: 11: 100%|██████████| 59/59 [00:23<00:00,  2.52it/s]\n",
      "Test epoch: 11: 100%|██████████| 34/34 [00:05<00:00,  5.93it/s]\n"
     ]
    },
    {
     "name": "stdout",
     "output_type": "stream",
     "text": [
      "Epoch 11/50 | Train Loss: 1.2950 | Test Loss: 1.2089 | Accuracy: 93.57% | GPU Memory (Alloc/Reserved): 0.09/2.22 GB\n"
     ]
    },
    {
     "name": "stderr",
     "output_type": "stream",
     "text": [
      "Train epoch: 12: 100%|██████████| 59/59 [00:23<00:00,  2.52it/s]\n",
      "Test epoch: 12: 100%|██████████| 34/34 [00:05<00:00,  5.94it/s]\n"
     ]
    },
    {
     "name": "stdout",
     "output_type": "stream",
     "text": [
      "Epoch 12/50 | Train Loss: 1.3020 | Test Loss: 1.2148 | Accuracy: 93.34% | GPU Memory (Alloc/Reserved): 0.09/2.22 GB\n"
     ]
    },
    {
     "name": "stderr",
     "output_type": "stream",
     "text": [
      "Train epoch: 13: 100%|██████████| 59/59 [00:23<00:00,  2.53it/s]\n",
      "Test epoch: 13: 100%|██████████| 34/34 [00:05<00:00,  5.91it/s]\n"
     ]
    },
    {
     "name": "stdout",
     "output_type": "stream",
     "text": [
      "Epoch 13/50 | Train Loss: 1.2974 | Test Loss: 1.2167 | Accuracy: 93.34% | GPU Memory (Alloc/Reserved): 0.09/2.22 GB\n"
     ]
    },
    {
     "name": "stderr",
     "output_type": "stream",
     "text": [
      "Train epoch: 14: 100%|██████████| 59/59 [00:23<00:00,  2.52it/s]\n",
      "Test epoch: 14: 100%|██████████| 34/34 [00:05<00:00,  5.92it/s]\n"
     ]
    },
    {
     "name": "stdout",
     "output_type": "stream",
     "text": [
      "Epoch 14/50 | Train Loss: 1.2914 | Test Loss: 1.2198 | Accuracy: 93.06% | GPU Memory (Alloc/Reserved): 0.09/2.22 GB\n"
     ]
    },
    {
     "name": "stderr",
     "output_type": "stream",
     "text": [
      "Train epoch: 15: 100%|██████████| 59/59 [00:23<00:00,  2.53it/s]\n",
      "Test epoch: 15: 100%|██████████| 34/34 [00:05<00:00,  5.89it/s]\n"
     ]
    },
    {
     "name": "stdout",
     "output_type": "stream",
     "text": [
      "Epoch 15/50 | Train Loss: 1.3053 | Test Loss: 1.2152 | Accuracy: 93.15% | GPU Memory (Alloc/Reserved): 0.09/2.22 GB\n"
     ]
    },
    {
     "name": "stderr",
     "output_type": "stream",
     "text": [
      "Train epoch: 16: 100%|██████████| 59/59 [00:23<00:00,  2.53it/s]\n",
      "Test epoch: 16: 100%|██████████| 34/34 [00:05<00:00,  5.90it/s]\n"
     ]
    },
    {
     "name": "stdout",
     "output_type": "stream",
     "text": [
      "Epoch 16/50 | Train Loss: 1.2972 | Test Loss: 1.2213 | Accuracy: 93.15% | GPU Memory (Alloc/Reserved): 0.09/2.22 GB\n"
     ]
    },
    {
     "name": "stderr",
     "output_type": "stream",
     "text": [
      "Train epoch: 17: 100%|██████████| 59/59 [00:23<00:00,  2.54it/s]\n",
      "Test epoch: 17: 100%|██████████| 34/34 [00:05<00:00,  5.91it/s]\n"
     ]
    },
    {
     "name": "stdout",
     "output_type": "stream",
     "text": [
      "Epoch 17/50 | Train Loss: 1.3025 | Test Loss: 1.2148 | Accuracy: 93.43% | GPU Memory (Alloc/Reserved): 0.09/2.22 GB\n"
     ]
    },
    {
     "name": "stderr",
     "output_type": "stream",
     "text": [
      "Train epoch: 18: 100%|██████████| 59/59 [00:23<00:00,  2.52it/s]\n",
      "Test epoch: 18: 100%|██████████| 34/34 [00:05<00:00,  5.93it/s]\n"
     ]
    },
    {
     "name": "stdout",
     "output_type": "stream",
     "text": [
      "Epoch 18/50 | Train Loss: 1.2908 | Test Loss: 1.2113 | Accuracy: 93.53% | GPU Memory (Alloc/Reserved): 0.09/2.22 GB\n"
     ]
    },
    {
     "name": "stderr",
     "output_type": "stream",
     "text": [
      "Train epoch: 19: 100%|██████████| 59/59 [00:23<00:00,  2.52it/s]\n",
      "Test epoch: 19: 100%|██████████| 34/34 [00:05<00:00,  5.92it/s]\n"
     ]
    },
    {
     "name": "stdout",
     "output_type": "stream",
     "text": [
      "Epoch 19/50 | Train Loss: 1.2978 | Test Loss: 1.2097 | Accuracy: 93.71% | GPU Memory (Alloc/Reserved): 0.09/2.22 GB\n"
     ]
    },
    {
     "name": "stderr",
     "output_type": "stream",
     "text": [
      "Train epoch: 20: 100%|██████████| 59/59 [00:23<00:00,  2.53it/s]\n",
      "Test epoch: 20: 100%|██████████| 34/34 [00:05<00:00,  5.96it/s]\n"
     ]
    },
    {
     "name": "stdout",
     "output_type": "stream",
     "text": [
      "Epoch 20/50 | Train Loss: 1.2947 | Test Loss: 1.2123 | Accuracy: 93.39% | GPU Memory (Alloc/Reserved): 0.09/2.22 GB\n"
     ]
    },
    {
     "name": "stderr",
     "output_type": "stream",
     "text": [
      "Train epoch: 21: 100%|██████████| 59/59 [00:23<00:00,  2.53it/s]\n",
      "Test epoch: 21: 100%|██████████| 34/34 [00:05<00:00,  5.96it/s]\n"
     ]
    },
    {
     "name": "stdout",
     "output_type": "stream",
     "text": [
      "Epoch 21/50 | Train Loss: 1.2761 | Test Loss: 1.2071 | Accuracy: 93.53% | GPU Memory (Alloc/Reserved): 0.09/2.22 GB\n"
     ]
    },
    {
     "name": "stderr",
     "output_type": "stream",
     "text": [
      "Train epoch: 22: 100%|██████████| 59/59 [00:23<00:00,  2.53it/s]\n",
      "Test epoch: 22: 100%|██████████| 34/34 [00:05<00:00,  5.93it/s]\n"
     ]
    },
    {
     "name": "stdout",
     "output_type": "stream",
     "text": [
      "Epoch 22/50 | Train Loss: 1.2802 | Test Loss: 1.2060 | Accuracy: 93.67% | GPU Memory (Alloc/Reserved): 0.09/2.22 GB\n"
     ]
    },
    {
     "name": "stderr",
     "output_type": "stream",
     "text": [
      "Train epoch: 23: 100%|██████████| 59/59 [00:23<00:00,  2.52it/s]\n",
      "Test epoch: 23: 100%|██████████| 34/34 [00:05<00:00,  5.92it/s]\n"
     ]
    },
    {
     "name": "stdout",
     "output_type": "stream",
     "text": [
      "Epoch 23/50 | Train Loss: 1.2939 | Test Loss: 1.2159 | Accuracy: 93.39% | GPU Memory (Alloc/Reserved): 0.09/2.22 GB\n"
     ]
    },
    {
     "name": "stderr",
     "output_type": "stream",
     "text": [
      "Train epoch: 24: 100%|██████████| 59/59 [00:23<00:00,  2.53it/s]\n",
      "Test epoch: 24: 100%|██████████| 34/34 [00:05<00:00,  5.87it/s]\n"
     ]
    },
    {
     "name": "stdout",
     "output_type": "stream",
     "text": [
      "Epoch 24/50 | Train Loss: 1.2823 | Test Loss: 1.2088 | Accuracy: 93.53% | GPU Memory (Alloc/Reserved): 0.09/2.22 GB\n"
     ]
    },
    {
     "name": "stderr",
     "output_type": "stream",
     "text": [
      "Train epoch: 25: 100%|██████████| 59/59 [00:23<00:00,  2.53it/s]\n",
      "Test epoch: 25: 100%|██████████| 34/34 [00:05<00:00,  5.88it/s]\n"
     ]
    },
    {
     "name": "stdout",
     "output_type": "stream",
     "text": [
      "Epoch 25/50 | Train Loss: 1.2911 | Test Loss: 1.1977 | Accuracy: 94.09% | GPU Memory (Alloc/Reserved): 0.09/2.22 GB\n"
     ]
    },
    {
     "name": "stderr",
     "output_type": "stream",
     "text": [
      "Train epoch: 26: 100%|██████████| 59/59 [00:23<00:00,  2.54it/s]\n",
      "Test epoch: 26: 100%|██████████| 34/34 [00:05<00:00,  5.92it/s]\n"
     ]
    },
    {
     "name": "stdout",
     "output_type": "stream",
     "text": [
      "Epoch 26/50 | Train Loss: 1.2877 | Test Loss: 1.2081 | Accuracy: 93.43% | GPU Memory (Alloc/Reserved): 0.09/2.22 GB\n"
     ]
    },
    {
     "name": "stderr",
     "output_type": "stream",
     "text": [
      "Train epoch: 27: 100%|██████████| 59/59 [00:23<00:00,  2.52it/s]\n",
      "Test epoch: 27: 100%|██████████| 34/34 [00:05<00:00,  5.92it/s]\n"
     ]
    },
    {
     "name": "stdout",
     "output_type": "stream",
     "text": [
      "Epoch 27/50 | Train Loss: 1.2860 | Test Loss: 1.2116 | Accuracy: 93.39% | GPU Memory (Alloc/Reserved): 0.09/2.22 GB\n"
     ]
    },
    {
     "name": "stderr",
     "output_type": "stream",
     "text": [
      "Train epoch: 28: 100%|██████████| 59/59 [00:23<00:00,  2.53it/s]\n",
      "Test epoch: 28: 100%|██████████| 34/34 [00:05<00:00,  5.92it/s]\n"
     ]
    },
    {
     "name": "stdout",
     "output_type": "stream",
     "text": [
      "Epoch 28/50 | Train Loss: 1.2939 | Test Loss: 1.2106 | Accuracy: 93.71% | GPU Memory (Alloc/Reserved): 0.09/2.22 GB\n"
     ]
    },
    {
     "name": "stderr",
     "output_type": "stream",
     "text": [
      "Train epoch: 29: 100%|██████████| 59/59 [00:23<00:00,  2.53it/s]\n",
      "Test epoch: 29: 100%|██████████| 34/34 [00:05<00:00,  5.95it/s]\n"
     ]
    },
    {
     "name": "stdout",
     "output_type": "stream",
     "text": [
      "Epoch 29/50 | Train Loss: 1.2824 | Test Loss: 1.2070 | Accuracy: 93.62% | GPU Memory (Alloc/Reserved): 0.09/2.22 GB\n"
     ]
    },
    {
     "name": "stderr",
     "output_type": "stream",
     "text": [
      "Train epoch: 30: 100%|██████████| 59/59 [00:23<00:00,  2.53it/s]\n",
      "Test epoch: 30: 100%|██████████| 34/34 [00:05<00:00,  5.92it/s]\n"
     ]
    },
    {
     "name": "stdout",
     "output_type": "stream",
     "text": [
      "Epoch 30/50 | Train Loss: 1.2726 | Test Loss: 1.2044 | Accuracy: 93.86% | GPU Memory (Alloc/Reserved): 0.09/2.22 GB\n"
     ]
    },
    {
     "name": "stderr",
     "output_type": "stream",
     "text": [
      "Train epoch: 31: 100%|██████████| 59/59 [00:23<00:00,  2.54it/s]\n",
      "Test epoch: 31: 100%|██████████| 34/34 [00:05<00:00,  5.94it/s]\n"
     ]
    },
    {
     "name": "stdout",
     "output_type": "stream",
     "text": [
      "Epoch 31/50 | Train Loss: 1.2918 | Test Loss: 1.1996 | Accuracy: 93.86% | GPU Memory (Alloc/Reserved): 0.09/2.22 GB\n"
     ]
    },
    {
     "name": "stderr",
     "output_type": "stream",
     "text": [
      "Train epoch: 32: 100%|██████████| 59/59 [00:23<00:00,  2.53it/s]\n",
      "Test epoch: 32: 100%|██████████| 34/34 [00:05<00:00,  5.88it/s]\n"
     ]
    },
    {
     "name": "stdout",
     "output_type": "stream",
     "text": [
      "Epoch 32/50 | Train Loss: 1.2810 | Test Loss: 1.2027 | Accuracy: 93.81% | GPU Memory (Alloc/Reserved): 0.09/2.22 GB\n"
     ]
    },
    {
     "name": "stderr",
     "output_type": "stream",
     "text": [
      "Train epoch: 33: 100%|██████████| 59/59 [00:23<00:00,  2.51it/s]\n",
      "Test epoch: 33: 100%|██████████| 34/34 [00:05<00:00,  5.97it/s]\n"
     ]
    },
    {
     "name": "stdout",
     "output_type": "stream",
     "text": [
      "Epoch 33/50 | Train Loss: 1.2844 | Test Loss: 1.2038 | Accuracy: 93.76% | GPU Memory (Alloc/Reserved): 0.09/2.22 GB\n"
     ]
    },
    {
     "name": "stderr",
     "output_type": "stream",
     "text": [
      "Train epoch: 34: 100%|██████████| 59/59 [00:23<00:00,  2.55it/s]\n",
      "Test epoch: 34: 100%|██████████| 34/34 [00:05<00:00,  5.99it/s]\n"
     ]
    },
    {
     "name": "stdout",
     "output_type": "stream",
     "text": [
      "Epoch 34/50 | Train Loss: 1.2740 | Test Loss: 1.2064 | Accuracy: 93.53% | GPU Memory (Alloc/Reserved): 0.09/2.22 GB\n"
     ]
    },
    {
     "name": "stderr",
     "output_type": "stream",
     "text": [
      "Train epoch: 35: 100%|██████████| 59/59 [00:23<00:00,  2.53it/s]\n",
      "Test epoch: 35: 100%|██████████| 34/34 [00:05<00:00,  5.88it/s]\n"
     ]
    },
    {
     "name": "stdout",
     "output_type": "stream",
     "text": [
      "Epoch 35/50 | Train Loss: 1.2822 | Test Loss: 1.2059 | Accuracy: 93.95% | GPU Memory (Alloc/Reserved): 0.09/2.22 GB\n"
     ]
    },
    {
     "name": "stderr",
     "output_type": "stream",
     "text": [
      "Train epoch: 36: 100%|██████████| 59/59 [00:23<00:00,  2.52it/s]\n",
      "Test epoch: 36: 100%|██████████| 34/34 [00:05<00:00,  5.83it/s]\n"
     ]
    },
    {
     "name": "stdout",
     "output_type": "stream",
     "text": [
      "Epoch 36/50 | Train Loss: 1.2859 | Test Loss: 1.2060 | Accuracy: 93.67% | GPU Memory (Alloc/Reserved): 0.09/2.22 GB\n"
     ]
    },
    {
     "name": "stderr",
     "output_type": "stream",
     "text": [
      "Train epoch: 37: 100%|██████████| 59/59 [00:23<00:00,  2.55it/s]\n",
      "Test epoch: 37: 100%|██████████| 34/34 [00:05<00:00,  5.95it/s]\n"
     ]
    },
    {
     "name": "stdout",
     "output_type": "stream",
     "text": [
      "Epoch 37/50 | Train Loss: 1.2677 | Test Loss: 1.2009 | Accuracy: 93.62% | GPU Memory (Alloc/Reserved): 0.09/2.22 GB\n"
     ]
    },
    {
     "name": "stderr",
     "output_type": "stream",
     "text": [
      "Train epoch: 38: 100%|██████████| 59/59 [00:23<00:00,  2.55it/s]\n",
      "Test epoch: 38: 100%|██████████| 34/34 [00:05<00:00,  5.98it/s]\n"
     ]
    },
    {
     "name": "stdout",
     "output_type": "stream",
     "text": [
      "Epoch 38/50 | Train Loss: 1.2727 | Test Loss: 1.2129 | Accuracy: 93.39% | GPU Memory (Alloc/Reserved): 0.09/2.22 GB\n"
     ]
    },
    {
     "name": "stderr",
     "output_type": "stream",
     "text": [
      "Train epoch: 39: 100%|██████████| 59/59 [00:23<00:00,  2.54it/s]\n",
      "Test epoch: 39: 100%|██████████| 34/34 [00:05<00:00,  5.97it/s]\n"
     ]
    },
    {
     "name": "stdout",
     "output_type": "stream",
     "text": [
      "Epoch 39/50 | Train Loss: 1.2739 | Test Loss: 1.2004 | Accuracy: 93.67% | GPU Memory (Alloc/Reserved): 0.09/2.22 GB\n"
     ]
    },
    {
     "name": "stderr",
     "output_type": "stream",
     "text": [
      "Train epoch: 40: 100%|██████████| 59/59 [00:23<00:00,  2.54it/s]\n",
      "Test epoch: 40: 100%|██████████| 34/34 [00:05<00:00,  5.96it/s]\n"
     ]
    },
    {
     "name": "stdout",
     "output_type": "stream",
     "text": [
      "Epoch 40/50 | Train Loss: 1.2709 | Test Loss: 1.1983 | Accuracy: 93.67% | GPU Memory (Alloc/Reserved): 0.09/2.22 GB\n"
     ]
    },
    {
     "name": "stderr",
     "output_type": "stream",
     "text": [
      "Train epoch: 41: 100%|██████████| 59/59 [00:23<00:00,  2.54it/s]\n",
      "Test epoch: 41: 100%|██████████| 34/34 [00:05<00:00,  5.97it/s]\n"
     ]
    },
    {
     "name": "stdout",
     "output_type": "stream",
     "text": [
      "Epoch 41/50 | Train Loss: 1.2772 | Test Loss: 1.1894 | Accuracy: 94.09% | GPU Memory (Alloc/Reserved): 0.09/2.22 GB\n"
     ]
    },
    {
     "name": "stderr",
     "output_type": "stream",
     "text": [
      "Train epoch: 42: 100%|██████████| 59/59 [00:23<00:00,  2.55it/s]\n",
      "Test epoch: 42: 100%|██████████| 34/34 [00:05<00:00,  5.97it/s]\n"
     ]
    },
    {
     "name": "stdout",
     "output_type": "stream",
     "text": [
      "Epoch 42/50 | Train Loss: 1.2660 | Test Loss: 1.1996 | Accuracy: 94.00% | GPU Memory (Alloc/Reserved): 0.09/2.22 GB\n"
     ]
    },
    {
     "name": "stderr",
     "output_type": "stream",
     "text": [
      "Train epoch: 43: 100%|██████████| 59/59 [00:23<00:00,  2.55it/s]\n",
      "Test epoch: 43: 100%|██████████| 34/34 [00:05<00:00,  5.97it/s]\n"
     ]
    },
    {
     "name": "stdout",
     "output_type": "stream",
     "text": [
      "Epoch 43/50 | Train Loss: 1.2648 | Test Loss: 1.2046 | Accuracy: 93.81% | GPU Memory (Alloc/Reserved): 0.09/2.22 GB\n"
     ]
    },
    {
     "name": "stderr",
     "output_type": "stream",
     "text": [
      "Train epoch: 44: 100%|██████████| 59/59 [00:23<00:00,  2.53it/s]\n",
      "Test epoch: 44: 100%|██████████| 34/34 [00:05<00:00,  5.97it/s]\n"
     ]
    },
    {
     "name": "stdout",
     "output_type": "stream",
     "text": [
      "Epoch 44/50 | Train Loss: 1.2636 | Test Loss: 1.1993 | Accuracy: 93.67% | GPU Memory (Alloc/Reserved): 0.09/2.22 GB\n"
     ]
    },
    {
     "name": "stderr",
     "output_type": "stream",
     "text": [
      "Train epoch: 45: 100%|██████████| 59/59 [00:23<00:00,  2.52it/s]\n",
      "Test epoch: 45: 100%|██████████| 34/34 [00:05<00:00,  5.92it/s]\n"
     ]
    },
    {
     "name": "stdout",
     "output_type": "stream",
     "text": [
      "Epoch 45/50 | Train Loss: 1.2799 | Test Loss: 1.2095 | Accuracy: 93.62% | GPU Memory (Alloc/Reserved): 0.09/2.22 GB\n"
     ]
    },
    {
     "name": "stderr",
     "output_type": "stream",
     "text": [
      "Train epoch: 46: 100%|██████████| 59/59 [00:23<00:00,  2.51it/s]\n",
      "Test epoch: 46: 100%|██████████| 34/34 [00:05<00:00,  5.83it/s]\n"
     ]
    },
    {
     "name": "stdout",
     "output_type": "stream",
     "text": [
      "Epoch 46/50 | Train Loss: 1.2668 | Test Loss: 1.2078 | Accuracy: 93.71% | GPU Memory (Alloc/Reserved): 0.09/2.22 GB\n"
     ]
    },
    {
     "name": "stderr",
     "output_type": "stream",
     "text": [
      "Train epoch: 47: 100%|██████████| 59/59 [00:23<00:00,  2.52it/s]\n",
      "Test epoch: 47: 100%|██████████| 34/34 [00:05<00:00,  5.92it/s]\n"
     ]
    },
    {
     "name": "stdout",
     "output_type": "stream",
     "text": [
      "Epoch 47/50 | Train Loss: 1.2603 | Test Loss: 1.1997 | Accuracy: 93.76% | GPU Memory (Alloc/Reserved): 0.09/2.22 GB\n"
     ]
    },
    {
     "name": "stderr",
     "output_type": "stream",
     "text": [
      "Train epoch: 48: 100%|██████████| 59/59 [00:23<00:00,  2.52it/s]\n",
      "Test epoch: 48: 100%|██████████| 34/34 [00:05<00:00,  5.89it/s]\n"
     ]
    },
    {
     "name": "stdout",
     "output_type": "stream",
     "text": [
      "Epoch 48/50 | Train Loss: 1.2681 | Test Loss: 1.2055 | Accuracy: 93.57% | GPU Memory (Alloc/Reserved): 0.09/2.22 GB\n"
     ]
    },
    {
     "name": "stderr",
     "output_type": "stream",
     "text": [
      "Train epoch: 49: 100%|██████████| 59/59 [00:23<00:00,  2.52it/s]\n",
      "Test epoch: 49: 100%|██████████| 34/34 [00:05<00:00,  5.94it/s]\n"
     ]
    },
    {
     "name": "stdout",
     "output_type": "stream",
     "text": [
      "Epoch 49/50 | Train Loss: 1.2700 | Test Loss: 1.2040 | Accuracy: 93.95% | GPU Memory (Alloc/Reserved): 0.09/2.22 GB\n"
     ]
    },
    {
     "name": "stderr",
     "output_type": "stream",
     "text": [
      "Train epoch: 50: 100%|██████████| 59/59 [00:23<00:00,  2.53it/s]\n",
      "Test epoch: 50: 100%|██████████| 34/34 [00:05<00:00,  5.93it/s]"
     ]
    },
    {
     "name": "stdout",
     "output_type": "stream",
     "text": [
      "Epoch 50/50 | Train Loss: 1.2595 | Test Loss: 1.2030 | Accuracy: 94.00% | GPU Memory (Alloc/Reserved): 0.09/2.22 GB\n",
      "Phase done!\n"
     ]
    },
    {
     "name": "stderr",
     "output_type": "stream",
     "text": [
      "\n"
     ]
    },
    {
     "data": {
      "text/plain": [
       "<Figure size 1000x600 with 1 Axes>"
      ],
      "image/png": "[encoded data removed]"
     },
     "metadata": {},
     "output_type": "display_data"
    },
    {
     "data": {
      "text/plain": [
       "<Figure size 1000x600 with 1 Axes>"
      ],
      "image/png": "[encoded data removed]"
     },
     "metadata": {},
     "output_type": "display_data"
    },
    {
     "name": "stdout",
     "output_type": "stream",
     "text": [
      "Creating new historical data...\n",
      "Historical data saved successfully!\n"
     ]
    }
   ],
   "execution_count": 46,
   "source": [
    "import torch.optim as optim\n",
    "\n",
    "hardware = torch.device('cuda' if torch.cuda.is_available() else 'cpu')\n",
    "classes = 6\n",
    "weight_decay = 1e-2\n",
    "learning_rate = 1e-4\n",
    "num_margin = 3\n",
    "criterion = nn.CrossEntropyLoss()\n",
    "\n",
    "model = PestClassifierMobileNetV2(num_classes=classes, margin=num_margin).to(hardware)\n",
    "model.load_state_dict(torch.load('models/v2/Advance/MobileNetV2_rice_pest_classificationV7.pt', map_location=hardware))\n",
    "model.unfreeze_last_block()\n",
    "model.unfreeze_before_last_block()\n",
    "model.unfreeze_third_last_inverse_residual()\n",
    "\n",
    "optimizer = optim.AdamW(filter(lambda p: p.requires_grad, model.parameters()),lr=learning_rate , weight_decay=weight_decay)\n",
    "\n",
    "result_1, accuracy_1 = train_and_test(model=model, optimizer=optimizer, criterion=criterion, train_dataloader=train_loader, test_dataloader=test_loader, num_epoch=20, device=hardware)\n",
    "\n",
    "model.unfreeze_fourth_last_inverse_residual()\n",
    "\n",
    "result_2, accuracy_2 = train_and_test(model=model, optimizer=optimizer, criterion=criterion, train_dataloader=train_loader, test_dataloader=test_loader, num_epoch=30, device=hardware)\n",
    "\n",
    "model.unfreeze_fifth_inverse_residual()\n",
    "\n",
    "result_3, accuracy_3 = train_and_test(model=model, optimizer=optimizer, criterion=criterion, train_dataloader=train_loader, test_dataloader=test_loader, num_epoch=40, device=hardware)\n",
    "\n",
    "model.unfreezing_sixth_inverse_residual()\n",
    "\n",
    "result_4, accuracy_4 = train_and_test(model=model, optimizer=optimizer, criterion=criterion, train_dataloader=train_loader, test_dataloader=test_loader, num_epoch=50, device=hardware)\n",
    "\n",
    "plot_accuracy(result_1, result_2,result_3,result_4)\n",
    "plot_training_result(result_1, result_2,result_3,result_4)\n",
    "save_historical_data(result_1, result_2, result_3, result_4)\n"
   ],
   "id": "45684ad2fd8ceb39"
  },
  {
   "metadata": {
    "ExecuteTime": {
     "end_time": "2025-08-13T06:41:01.155823Z",
     "start_time": "2025-08-13T06:41:01.150683Z"
    }
   },
   "cell_type": "code",
   "source": [
    "from PIL import Image\n",
    "import torch.nn.functional as F\n",
    "\n",
    "def predict_single_image(model, image_path, classes, transform, device):\n",
    "\n",
    "    model.to(device)\n",
    "    model.eval()\n",
    "\n",
    "    image = Image.open(image_path).convert('RGB')\n",
    "    image_np = np.array(image)\n",
    "    augmented = transform(image=image_np)\n",
    "    image_tensor = augmented['image'].unsqueeze(0).to(device)\n",
    "\n",
    "    with torch.no_grad():\n",
    "        result = model(image_tensor, labels=None)\n",
    "\n",
    "        probabilities = F.softmax(result, dim=1)\n",
    "\n",
    "        confidence, predicted_index = torch.max(probabilities, 1)\n",
    "        predicted_class = classes[predicted_index.item()]\n",
    "        confidence_score = confidence.item()\n",
    "\n",
    "    return predicted_class, confidence_score, probabilities.squeeze().cpu().numpy()\n"
   ],
   "id": "dee7cd10e5d47d68",
   "outputs": [],
   "execution_count": 29
  },
  {
   "metadata": {},
   "cell_type": "markdown",
   "source": "<h2> V7 training </h2>",
   "id": "c0cbd8935888f0fb"
  },
  {
   "metadata": {
    "ExecuteTime": {
     "end_time": "2025-08-13T08:03:09.787998Z",
     "start_time": "2025-08-13T07:28:21.962991Z"
    }
   },
   "cell_type": "code",
   "source": [
    "import torch.optim as optim\n",
    "\n",
    "hardware = torch.device('cuda' if torch.cuda.is_available() else 'cpu')\n",
    "classes = 6\n",
    "weight_decay = 1e-2\n",
    "num_margin = 4\n",
    "\n",
    "model = PestClassifierMobileNetV2(num_classes=classes, margin=num_margin).to(hardware)\n",
    "criterion = nn.CrossEntropyLoss()\n",
    "\n",
    "optimizer_1 = optim.AdamW(filter(lambda p: p.requires_grad, model.parameters()), lr=1e-4, weight_decay=weight_decay)\n",
    "\n",
    "result_1, accuracy_p1 = train_and_test(model=model, optimizer=optimizer_1, criterion=criterion,train_dataloader=train_loader, test_dataloader=test_loader, num_epoch=15, device=hardware)\n",
    "\n",
    "model.unfreeze_last_block()\n",
    "\n",
    "result_2, accuracy_p2 = train_and_test(model=model, optimizer=optimizer_1, criterion=criterion,train_dataloader=train_loader, test_dataloader=test_loader, num_epoch=30, device=hardware)\n",
    "\n",
    "model.unfreeze_before_last_block()\n",
    "\n",
    "result_3, accuracy_p3 = train_and_test(model=model, optimizer=optimizer_1, criterion=criterion,train_dataloader=train_loader, test_dataloader=test_loader, num_epoch=45, device=hardware)\n",
    "#\n",
    "# model.unfreeze_third_last_inverse_residual()\n",
    "#\n",
    "# result_4, accuracy_p4 = train_and_test(model=model, optimizer=optimizer_1, criterion=criterion,train_dataloader=train_loader, test_dataloader=test_loader, num_epoch=45, device=hardware)\n",
    "#\n",
    "# model.unfreeze_fourth_last_inverse_residual()\n",
    "#\n",
    "# result_5, accuracy_p5 = train_and_test(model=model, optimizer=optimizer_1, criterion=criterion,train_dataloader=train_loader, test_dataloader=test_loader, num_epoch=55, device=hardware)\n",
    "#\n",
    "# model.unfreeze_fifth_inverse_residual()\n",
    "#\n",
    "# result_6, accuracy_p6 = train_and_test(model=model, optimizer=optimizer_1, criterion=criterion,train_dataloader=train_loader, test_dataloader=test_loader, num_epoch=65, device=hardware)\n",
    "#\n",
    "# model.unfreeze_sixth_inverse_residual()\n",
    "#\n",
    "# result_7, accuracy_p7 = train_and_test(model=model, optimizer=optimizer_1, criterion=criterion,train_dataloader=train_loader, test_dataloader=test_loader, num_epoch=75, device=hardware)\n",
    "\n",
    "plot_training_result(result_1, result_2, result_3)\n",
    "plot_accuracy(result_1, result_2, result_3)\n",
    "save_historical_data(result_1, result_2, result_3)"
   ],
   "id": "71e751a0015a7c56",
   "outputs": [
    {
     "name": "stderr",
     "output_type": "stream",
     "text": [
      "Train epoch: 1: 100%|██████████| 59/59 [00:22<00:00,  2.59it/s]\n",
      "Test epoch: 1: 100%|██████████| 34/34 [00:05<00:00,  5.77it/s]\n"
     ]
    },
    {
     "name": "stdout",
     "output_type": "stream",
     "text": [
      "Epoch 1/15 | Train Loss: 4.5981 | Test Loss: 4.5851 | Accuracy: 25.33% | GPU Memory (Alloc/Reserved): 0.33/1.84 GB\n"
     ]
    },
    {
     "name": "stderr",
     "output_type": "stream",
     "text": [
      "Train epoch: 2: 100%|██████████| 59/59 [00:22<00:00,  2.67it/s]\n",
      "Test epoch: 2: 100%|██████████| 34/34 [00:06<00:00,  5.63it/s]\n"
     ]
    },
    {
     "name": "stdout",
     "output_type": "stream",
     "text": [
      "Epoch 2/15 | Train Loss: 4.5749 | Test Loss: 4.5665 | Accuracy: 36.73% | GPU Memory (Alloc/Reserved): 0.33/1.84 GB\n"
     ]
    },
    {
     "name": "stderr",
     "output_type": "stream",
     "text": [
      "Train epoch: 3: 100%|██████████| 59/59 [00:22<00:00,  2.67it/s]\n",
      "Test epoch: 3: 100%|██████████| 34/34 [00:05<00:00,  5.82it/s]\n"
     ]
    },
    {
     "name": "stdout",
     "output_type": "stream",
     "text": [
      "Epoch 3/15 | Train Loss: 4.5609 | Test Loss: 4.5521 | Accuracy: 46.81% | GPU Memory (Alloc/Reserved): 0.33/1.84 GB\n"
     ]
    },
    {
     "name": "stderr",
     "output_type": "stream",
     "text": [
      "Train epoch: 4: 100%|██████████| 59/59 [00:35<00:00,  1.65it/s]\n",
      "Test epoch: 4: 100%|██████████| 34/34 [00:13<00:00,  2.60it/s]\n"
     ]
    },
    {
     "name": "stdout",
     "output_type": "stream",
     "text": [
      "Epoch 4/15 | Train Loss: 4.5484 | Test Loss: 4.5402 | Accuracy: 53.89% | GPU Memory (Alloc/Reserved): 0.33/1.84 GB\n"
     ]
    },
    {
     "name": "stderr",
     "output_type": "stream",
     "text": [
      "Train epoch: 5: 100%|██████████| 59/59 [00:57<00:00,  1.03it/s]\n",
      "Test epoch: 5: 100%|██████████| 34/34 [00:05<00:00,  5.85it/s]\n"
     ]
    },
    {
     "name": "stdout",
     "output_type": "stream",
     "text": [
      "Epoch 5/15 | Train Loss: 4.5391 | Test Loss: 4.5298 | Accuracy: 59.05% | GPU Memory (Alloc/Reserved): 0.33/1.84 GB\n"
     ]
    },
    {
     "name": "stderr",
     "output_type": "stream",
     "text": [
      "Train epoch: 6: 100%|██████████| 59/59 [00:26<00:00,  2.23it/s]\n",
      "Test epoch: 6: 100%|██████████| 34/34 [00:06<00:00,  5.33it/s]\n"
     ]
    },
    {
     "name": "stdout",
     "output_type": "stream",
     "text": [
      "Epoch 6/15 | Train Loss: 4.5309 | Test Loss: 4.5217 | Accuracy: 62.43% | GPU Memory (Alloc/Reserved): 0.33/1.84 GB\n"
     ]
    },
    {
     "name": "stderr",
     "output_type": "stream",
     "text": [
      "Train epoch: 7: 100%|██████████| 59/59 [00:25<00:00,  2.30it/s]\n",
      "Test epoch: 7: 100%|██████████| 34/34 [00:05<00:00,  5.75it/s]\n"
     ]
    },
    {
     "name": "stdout",
     "output_type": "stream",
     "text": [
      "Epoch 7/15 | Train Loss: 4.5230 | Test Loss: 4.5129 | Accuracy: 64.35% | GPU Memory (Alloc/Reserved): 0.33/1.84 GB\n"
     ]
    },
    {
     "name": "stderr",
     "output_type": "stream",
     "text": [
      "Train epoch: 8: 100%|██████████| 59/59 [00:25<00:00,  2.34it/s]\n",
      "Test epoch: 8: 100%|██████████| 34/34 [00:06<00:00,  5.61it/s]\n"
     ]
    },
    {
     "name": "stdout",
     "output_type": "stream",
     "text": [
      "Epoch 8/15 | Train Loss: 4.5173 | Test Loss: 4.5064 | Accuracy: 65.15% | GPU Memory (Alloc/Reserved): 0.33/1.84 GB\n"
     ]
    },
    {
     "name": "stderr",
     "output_type": "stream",
     "text": [
      "Train epoch: 9: 100%|██████████| 59/59 [00:23<00:00,  2.52it/s]\n",
      "Test epoch: 9: 100%|██████████| 34/34 [00:05<00:00,  5.94it/s]\n"
     ]
    },
    {
     "name": "stdout",
     "output_type": "stream",
     "text": [
      "Epoch 9/15 | Train Loss: 4.5123 | Test Loss: 4.4994 | Accuracy: 66.60% | GPU Memory (Alloc/Reserved): 0.33/1.84 GB\n"
     ]
    },
    {
     "name": "stderr",
     "output_type": "stream",
     "text": [
      "Train epoch: 10: 100%|██████████| 59/59 [00:24<00:00,  2.43it/s]\n",
      "Test epoch: 10: 100%|██████████| 34/34 [00:06<00:00,  5.55it/s]\n"
     ]
    },
    {
     "name": "stdout",
     "output_type": "stream",
     "text": [
      "Epoch 10/15 | Train Loss: 4.5067 | Test Loss: 4.4945 | Accuracy: 67.40% | GPU Memory (Alloc/Reserved): 0.33/1.84 GB\n"
     ]
    },
    {
     "name": "stderr",
     "output_type": "stream",
     "text": [
      "Train epoch: 11: 100%|██████████| 59/59 [00:25<00:00,  2.33it/s]\n",
      "Test epoch: 11: 100%|██████████| 34/34 [00:06<00:00,  5.51it/s]\n"
     ]
    },
    {
     "name": "stdout",
     "output_type": "stream",
     "text": [
      "Epoch 11/15 | Train Loss: 4.5025 | Test Loss: 4.4892 | Accuracy: 67.87% | GPU Memory (Alloc/Reserved): 0.33/1.84 GB\n"
     ]
    },
    {
     "name": "stderr",
     "output_type": "stream",
     "text": [
      "Train epoch: 12: 100%|██████████| 59/59 [00:28<00:00,  2.10it/s]\n",
      "Test epoch: 12: 100%|██████████| 34/34 [00:06<00:00,  5.12it/s]\n"
     ]
    },
    {
     "name": "stdout",
     "output_type": "stream",
     "text": [
      "Epoch 12/15 | Train Loss: 4.4968 | Test Loss: 4.4833 | Accuracy: 68.86% | GPU Memory (Alloc/Reserved): 0.33/1.84 GB\n"
     ]
    },
    {
     "name": "stderr",
     "output_type": "stream",
     "text": [
      "Train epoch: 13: 100%|██████████| 59/59 [00:25<00:00,  2.28it/s]\n",
      "Test epoch: 13: 100%|██████████| 34/34 [00:05<00:00,  5.84it/s]\n"
     ]
    },
    {
     "name": "stdout",
     "output_type": "stream",
     "text": [
      "Epoch 13/15 | Train Loss: 4.4935 | Test Loss: 4.4797 | Accuracy: 69.75% | GPU Memory (Alloc/Reserved): 0.33/1.84 GB\n"
     ]
    },
    {
     "name": "stderr",
     "output_type": "stream",
     "text": [
      "Train epoch: 14: 100%|██████████| 59/59 [00:23<00:00,  2.52it/s]\n",
      "Test epoch: 14: 100%|██████████| 34/34 [00:05<00:00,  5.94it/s]\n"
     ]
    },
    {
     "name": "stdout",
     "output_type": "stream",
     "text": [
      "Epoch 14/15 | Train Loss: 4.4892 | Test Loss: 4.4741 | Accuracy: 69.70% | GPU Memory (Alloc/Reserved): 0.33/1.84 GB\n"
     ]
    },
    {
     "name": "stderr",
     "output_type": "stream",
     "text": [
      "Train epoch: 15: 100%|██████████| 59/59 [00:24<00:00,  2.46it/s]\n",
      "Test epoch: 15: 100%|██████████| 34/34 [00:05<00:00,  5.69it/s]\n"
     ]
    },
    {
     "name": "stdout",
     "output_type": "stream",
     "text": [
      "Epoch 15/15 | Train Loss: 4.4870 | Test Loss: 4.4697 | Accuracy: 69.84% | GPU Memory (Alloc/Reserved): 0.33/1.84 GB\n",
      "Phase done!\n",
      "\n",
      "Unfreezing the last convolutional block for fine-tuning...\n"
     ]
    },
    {
     "name": "stderr",
     "output_type": "stream",
     "text": [
      "Train epoch: 1: 100%|██████████| 59/59 [00:26<00:00,  2.22it/s]\n",
      "Test epoch: 1: 100%|██████████| 34/34 [00:05<00:00,  5.79it/s]\n"
     ]
    },
    {
     "name": "stdout",
     "output_type": "stream",
     "text": [
      "Epoch 1/30 | Train Loss: 4.4841 | Test Loss: 4.4672 | Accuracy: 70.03% | GPU Memory (Alloc/Reserved): 0.33/1.85 GB\n"
     ]
    },
    {
     "name": "stderr",
     "output_type": "stream",
     "text": [
      "Train epoch: 2: 100%|██████████| 59/59 [00:24<00:00,  2.41it/s]\n",
      "Test epoch: 2: 100%|██████████| 34/34 [00:05<00:00,  5.69it/s]\n"
     ]
    },
    {
     "name": "stdout",
     "output_type": "stream",
     "text": [
      "Epoch 2/30 | Train Loss: 4.4802 | Test Loss: 4.4641 | Accuracy: 69.56% | GPU Memory (Alloc/Reserved): 0.33/1.85 GB\n"
     ]
    },
    {
     "name": "stderr",
     "output_type": "stream",
     "text": [
      "Train epoch: 3: 100%|██████████| 59/59 [00:26<00:00,  2.21it/s]\n",
      "Test epoch: 3: 100%|██████████| 34/34 [00:05<00:00,  5.75it/s]\n"
     ]
    },
    {
     "name": "stdout",
     "output_type": "stream",
     "text": [
      "Epoch 3/30 | Train Loss: 4.4782 | Test Loss: 4.4594 | Accuracy: 69.79% | GPU Memory (Alloc/Reserved): 0.33/1.85 GB\n"
     ]
    },
    {
     "name": "stderr",
     "output_type": "stream",
     "text": [
      "Train epoch: 4: 100%|██████████| 59/59 [00:25<00:00,  2.34it/s]\n",
      "Test epoch: 4: 100%|██████████| 34/34 [00:05<00:00,  5.83it/s]\n"
     ]
    },
    {
     "name": "stdout",
     "output_type": "stream",
     "text": [
      "Epoch 4/30 | Train Loss: 4.4745 | Test Loss: 4.4544 | Accuracy: 68.95% | GPU Memory (Alloc/Reserved): 0.33/1.85 GB\n"
     ]
    },
    {
     "name": "stderr",
     "output_type": "stream",
     "text": [
      "Train epoch: 5: 100%|██████████| 59/59 [00:23<00:00,  2.52it/s]\n",
      "Test epoch: 5: 100%|██████████| 34/34 [00:05<00:00,  5.91it/s]\n"
     ]
    },
    {
     "name": "stdout",
     "output_type": "stream",
     "text": [
      "Epoch 5/30 | Train Loss: 4.4718 | Test Loss: 4.4464 | Accuracy: 66.14% | GPU Memory (Alloc/Reserved): 0.33/1.85 GB\n"
     ]
    },
    {
     "name": "stderr",
     "output_type": "stream",
     "text": [
      "Train epoch: 6: 100%|██████████| 59/59 [00:23<00:00,  2.51it/s]\n",
      "Test epoch: 6: 100%|██████████| 34/34 [00:05<00:00,  5.82it/s]\n"
     ]
    },
    {
     "name": "stdout",
     "output_type": "stream",
     "text": [
      "Epoch 6/30 | Train Loss: 4.4590 | Test Loss: 4.4000 | Accuracy: 46.86% | GPU Memory (Alloc/Reserved): 0.33/1.85 GB\n"
     ]
    },
    {
     "name": "stderr",
     "output_type": "stream",
     "text": [
      "Train epoch: 7: 100%|██████████| 59/59 [00:25<00:00,  2.34it/s]\n",
      "Test epoch: 7: 100%|██████████| 34/34 [00:06<00:00,  5.44it/s]\n"
     ]
    },
    {
     "name": "stdout",
     "output_type": "stream",
     "text": [
      "Epoch 7/30 | Train Loss: 4.3620 | Test Loss: 4.2416 | Accuracy: 28.47% | GPU Memory (Alloc/Reserved): 0.33/1.85 GB\n"
     ]
    },
    {
     "name": "stderr",
     "output_type": "stream",
     "text": [
      "Train epoch: 8: 100%|██████████| 59/59 [00:25<00:00,  2.29it/s]\n",
      "Test epoch: 8: 100%|██████████| 34/34 [00:06<00:00,  4.89it/s]\n"
     ]
    },
    {
     "name": "stdout",
     "output_type": "stream",
     "text": [
      "Epoch 8/30 | Train Loss: 4.2164 | Test Loss: 4.0941 | Accuracy: 34.62% | GPU Memory (Alloc/Reserved): 0.33/1.85 GB\n"
     ]
    },
    {
     "name": "stderr",
     "output_type": "stream",
     "text": [
      "Train epoch: 9: 100%|██████████| 59/59 [00:23<00:00,  2.48it/s]\n",
      "Test epoch: 9: 100%|██████████| 34/34 [00:05<00:00,  5.84it/s]\n"
     ]
    },
    {
     "name": "stdout",
     "output_type": "stream",
     "text": [
      "Epoch 9/30 | Train Loss: 4.0672 | Test Loss: 3.9851 | Accuracy: 39.26% | GPU Memory (Alloc/Reserved): 0.33/1.85 GB\n"
     ]
    },
    {
     "name": "stderr",
     "output_type": "stream",
     "text": [
      "Train epoch: 10: 100%|██████████| 59/59 [00:22<00:00,  2.63it/s]\n",
      "Test epoch: 10: 100%|██████████| 34/34 [00:05<00:00,  5.88it/s]\n"
     ]
    },
    {
     "name": "stdout",
     "output_type": "stream",
     "text": [
      "Epoch 10/30 | Train Loss: 3.9782 | Test Loss: 3.8901 | Accuracy: 40.76% | GPU Memory (Alloc/Reserved): 0.33/1.85 GB\n"
     ]
    },
    {
     "name": "stderr",
     "output_type": "stream",
     "text": [
      "Train epoch: 11: 100%|██████████| 59/59 [00:21<00:00,  2.69it/s]\n",
      "Test epoch: 11: 100%|██████████| 34/34 [00:05<00:00,  5.91it/s]\n"
     ]
    },
    {
     "name": "stdout",
     "output_type": "stream",
     "text": [
      "Epoch 11/30 | Train Loss: 3.8756 | Test Loss: 3.7994 | Accuracy: 47.09% | GPU Memory (Alloc/Reserved): 0.33/1.85 GB\n"
     ]
    },
    {
     "name": "stderr",
     "output_type": "stream",
     "text": [
      "Train epoch: 12: 100%|██████████| 59/59 [00:21<00:00,  2.70it/s]\n",
      "Test epoch: 12: 100%|██████████| 34/34 [00:05<00:00,  5.92it/s]\n"
     ]
    },
    {
     "name": "stdout",
     "output_type": "stream",
     "text": [
      "Epoch 12/30 | Train Loss: 3.8073 | Test Loss: 3.7285 | Accuracy: 51.13% | GPU Memory (Alloc/Reserved): 0.33/1.85 GB\n"
     ]
    },
    {
     "name": "stderr",
     "output_type": "stream",
     "text": [
      "Train epoch: 13: 100%|██████████| 59/59 [00:21<00:00,  2.69it/s]\n",
      "Test epoch: 13: 100%|██████████| 34/34 [00:05<00:00,  5.93it/s]\n"
     ]
    },
    {
     "name": "stdout",
     "output_type": "stream",
     "text": [
      "Epoch 13/30 | Train Loss: 3.7073 | Test Loss: 3.6029 | Accuracy: 55.02% | GPU Memory (Alloc/Reserved): 0.33/1.85 GB\n"
     ]
    },
    {
     "name": "stderr",
     "output_type": "stream",
     "text": [
      "Train epoch: 14: 100%|██████████| 59/59 [00:21<00:00,  2.70it/s]\n",
      "Test epoch: 14: 100%|██████████| 34/34 [00:05<00:00,  5.89it/s]\n"
     ]
    },
    {
     "name": "stdout",
     "output_type": "stream",
     "text": [
      "Epoch 14/30 | Train Loss: 3.6084 | Test Loss: 3.5485 | Accuracy: 61.91% | GPU Memory (Alloc/Reserved): 0.33/1.85 GB\n"
     ]
    },
    {
     "name": "stderr",
     "output_type": "stream",
     "text": [
      "Train epoch: 15: 100%|██████████| 59/59 [00:21<00:00,  2.69it/s]\n",
      "Test epoch: 15: 100%|██████████| 34/34 [00:05<00:00,  5.93it/s]\n"
     ]
    },
    {
     "name": "stdout",
     "output_type": "stream",
     "text": [
      "Epoch 15/30 | Train Loss: 3.5658 | Test Loss: 3.5303 | Accuracy: 65.20% | GPU Memory (Alloc/Reserved): 0.33/1.85 GB\n"
     ]
    },
    {
     "name": "stderr",
     "output_type": "stream",
     "text": [
      "Train epoch: 16: 100%|██████████| 59/59 [00:21<00:00,  2.70it/s]\n",
      "Test epoch: 16: 100%|██████████| 34/34 [00:05<00:00,  5.92it/s]\n"
     ]
    },
    {
     "name": "stdout",
     "output_type": "stream",
     "text": [
      "Epoch 16/30 | Train Loss: 3.5459 | Test Loss: 3.5217 | Accuracy: 66.04% | GPU Memory (Alloc/Reserved): 0.33/1.85 GB\n"
     ]
    },
    {
     "name": "stderr",
     "output_type": "stream",
     "text": [
      "Train epoch: 17: 100%|██████████| 59/59 [00:21<00:00,  2.70it/s]\n",
      "Test epoch: 17: 100%|██████████| 34/34 [00:05<00:00,  5.93it/s]\n"
     ]
    },
    {
     "name": "stdout",
     "output_type": "stream",
     "text": [
      "Epoch 17/30 | Train Loss: 3.5395 | Test Loss: 3.5258 | Accuracy: 65.85% | GPU Memory (Alloc/Reserved): 0.33/1.85 GB\n"
     ]
    },
    {
     "name": "stderr",
     "output_type": "stream",
     "text": [
      "Train epoch: 18: 100%|██████████| 59/59 [00:50<00:00,  1.16it/s]\n",
      "Test epoch: 18: 100%|██████████| 34/34 [00:12<00:00,  2.70it/s]\n"
     ]
    },
    {
     "name": "stdout",
     "output_type": "stream",
     "text": [
      "Epoch 18/30 | Train Loss: 3.5347 | Test Loss: 3.5264 | Accuracy: 65.71% | GPU Memory (Alloc/Reserved): 0.33/1.85 GB\n"
     ]
    },
    {
     "name": "stderr",
     "output_type": "stream",
     "text": [
      "Train epoch: 19: 100%|██████████| 59/59 [01:01<00:00,  1.04s/it]\n",
      "Test epoch: 19: 100%|██████████| 34/34 [00:12<00:00,  2.62it/s]\n"
     ]
    },
    {
     "name": "stdout",
     "output_type": "stream",
     "text": [
      "Epoch 19/30 | Train Loss: 3.5276 | Test Loss: 3.5182 | Accuracy: 65.81% | GPU Memory (Alloc/Reserved): 0.33/1.85 GB\n"
     ]
    },
    {
     "name": "stderr",
     "output_type": "stream",
     "text": [
      "Train epoch: 20: 100%|██████████| 59/59 [00:58<00:00,  1.01it/s]\n",
      "Test epoch: 20: 100%|██████████| 34/34 [00:13<00:00,  2.44it/s]\n"
     ]
    },
    {
     "name": "stdout",
     "output_type": "stream",
     "text": [
      "Epoch 20/30 | Train Loss: 3.5296 | Test Loss: 3.5187 | Accuracy: 65.48% | GPU Memory (Alloc/Reserved): 0.33/1.85 GB\n"
     ]
    },
    {
     "name": "stderr",
     "output_type": "stream",
     "text": [
      "Train epoch: 21: 100%|██████████| 59/59 [01:04<00:00,  1.09s/it]\n",
      "Test epoch: 21: 100%|██████████| 34/34 [00:12<00:00,  2.65it/s]\n"
     ]
    },
    {
     "name": "stdout",
     "output_type": "stream",
     "text": [
      "Epoch 21/30 | Train Loss: 3.5263 | Test Loss: 3.5129 | Accuracy: 65.57% | GPU Memory (Alloc/Reserved): 0.33/1.85 GB\n"
     ]
    },
    {
     "name": "stderr",
     "output_type": "stream",
     "text": [
      "Train epoch: 22: 100%|██████████| 59/59 [01:07<00:00,  1.14s/it]\n",
      "Test epoch: 22: 100%|██████████| 34/34 [00:12<00:00,  2.78it/s]\n"
     ]
    },
    {
     "name": "stdout",
     "output_type": "stream",
     "text": [
      "Epoch 22/30 | Train Loss: 3.5247 | Test Loss: 3.5116 | Accuracy: 65.01% | GPU Memory (Alloc/Reserved): 0.33/1.85 GB\n"
     ]
    },
    {
     "name": "stderr",
     "output_type": "stream",
     "text": [
      "Train epoch: 23: 100%|██████████| 59/59 [00:34<00:00,  1.69it/s]\n",
      "Test epoch: 23: 100%|██████████| 34/34 [00:06<00:00,  5.60it/s]\n"
     ]
    },
    {
     "name": "stdout",
     "output_type": "stream",
     "text": [
      "Epoch 23/30 | Train Loss: 3.5270 | Test Loss: 3.5120 | Accuracy: 64.82% | GPU Memory (Alloc/Reserved): 0.33/1.85 GB\n"
     ]
    },
    {
     "name": "stderr",
     "output_type": "stream",
     "text": [
      "Train epoch: 24: 100%|██████████| 59/59 [00:48<00:00,  1.23it/s]\n",
      "Test epoch: 24: 100%|██████████| 34/34 [00:11<00:00,  2.99it/s]\n"
     ]
    },
    {
     "name": "stdout",
     "output_type": "stream",
     "text": [
      "Epoch 24/30 | Train Loss: 3.5225 | Test Loss: 3.5146 | Accuracy: 65.29% | GPU Memory (Alloc/Reserved): 0.33/1.85 GB\n"
     ]
    },
    {
     "name": "stderr",
     "output_type": "stream",
     "text": [
      "Train epoch: 25: 100%|██████████| 59/59 [01:02<00:00,  1.05s/it]\n",
      "Test epoch: 25: 100%|██████████| 34/34 [00:18<00:00,  1.83it/s]\n"
     ]
    },
    {
     "name": "stdout",
     "output_type": "stream",
     "text": [
      "Epoch 25/30 | Train Loss: 3.5255 | Test Loss: 3.5223 | Accuracy: 65.29% | GPU Memory (Alloc/Reserved): 0.33/1.85 GB\n"
     ]
    },
    {
     "name": "stderr",
     "output_type": "stream",
     "text": [
      "Train epoch: 26: 100%|██████████| 59/59 [01:01<00:00,  1.05s/it]\n",
      "Test epoch: 26: 100%|██████████| 34/34 [00:12<00:00,  2.82it/s]\n"
     ]
    },
    {
     "name": "stdout",
     "output_type": "stream",
     "text": [
      "Epoch 26/30 | Train Loss: 3.5260 | Test Loss: 3.5104 | Accuracy: 65.06% | GPU Memory (Alloc/Reserved): 0.33/1.85 GB\n"
     ]
    },
    {
     "name": "stderr",
     "output_type": "stream",
     "text": [
      "Train epoch: 27: 100%|██████████| 59/59 [00:57<00:00,  1.03it/s]\n",
      "Test epoch: 27: 100%|██████████| 34/34 [00:10<00:00,  3.13it/s]\n"
     ]
    },
    {
     "name": "stdout",
     "output_type": "stream",
     "text": [
      "Epoch 27/30 | Train Loss: 3.5238 | Test Loss: 3.5128 | Accuracy: 64.92% | GPU Memory (Alloc/Reserved): 0.33/1.85 GB\n"
     ]
    },
    {
     "name": "stderr",
     "output_type": "stream",
     "text": [
      "Train epoch: 28: 100%|██████████| 59/59 [01:05<00:00,  1.11s/it]\n",
      "Test epoch: 28: 100%|██████████| 34/34 [00:13<00:00,  2.56it/s]\n"
     ]
    },
    {
     "name": "stdout",
     "output_type": "stream",
     "text": [
      "Epoch 28/30 | Train Loss: 3.5267 | Test Loss: 3.5183 | Accuracy: 64.96% | GPU Memory (Alloc/Reserved): 0.33/1.85 GB\n"
     ]
    },
    {
     "name": "stderr",
     "output_type": "stream",
     "text": [
      "Train epoch: 29: 100%|██████████| 59/59 [00:34<00:00,  1.69it/s]\n",
      "Test epoch: 29: 100%|██████████| 34/34 [00:05<00:00,  5.68it/s]\n"
     ]
    },
    {
     "name": "stdout",
     "output_type": "stream",
     "text": [
      "Epoch 29/30 | Train Loss: 3.5262 | Test Loss: 3.5102 | Accuracy: 65.20% | GPU Memory (Alloc/Reserved): 0.33/1.85 GB\n"
     ]
    },
    {
     "name": "stderr",
     "output_type": "stream",
     "text": [
      "Train epoch: 30: 100%|██████████| 59/59 [00:23<00:00,  2.55it/s]\n",
      "Test epoch: 30: 100%|██████████| 34/34 [00:05<00:00,  5.76it/s]\n"
     ]
    },
    {
     "name": "stdout",
     "output_type": "stream",
     "text": [
      "Epoch 30/30 | Train Loss: 3.5230 | Test Loss: 3.5130 | Accuracy: 65.10% | GPU Memory (Alloc/Reserved): 0.33/1.85 GB\n",
      "Phase done!\n",
      "\n",
      "Unfreezing the before last convolutional block for fine-tuning...\n"
     ]
    },
    {
     "name": "stderr",
     "output_type": "stream",
     "text": [
      "Train epoch: 1: 100%|██████████| 59/59 [00:24<00:00,  2.44it/s]\n",
      "Test epoch: 1: 100%|██████████| 34/34 [00:06<00:00,  5.33it/s]\n"
     ]
    },
    {
     "name": "stdout",
     "output_type": "stream",
     "text": [
      "Epoch 1/45 | Train Loss: 3.5226 | Test Loss: 3.5098 | Accuracy: 64.73% | GPU Memory (Alloc/Reserved): 0.33/1.85 GB\n"
     ]
    },
    {
     "name": "stderr",
     "output_type": "stream",
     "text": [
      "Train epoch: 2: 100%|██████████| 59/59 [00:26<00:00,  2.23it/s]\n",
      "Test epoch: 2: 100%|██████████| 34/34 [00:06<00:00,  5.64it/s]\n"
     ]
    },
    {
     "name": "stdout",
     "output_type": "stream",
     "text": [
      "Epoch 2/45 | Train Loss: 3.5265 | Test Loss: 3.5100 | Accuracy: 64.82% | GPU Memory (Alloc/Reserved): 0.33/1.85 GB\n"
     ]
    },
    {
     "name": "stderr",
     "output_type": "stream",
     "text": [
      "Train epoch: 3: 100%|██████████| 59/59 [00:26<00:00,  2.23it/s]\n",
      "Test epoch: 3: 100%|██████████| 34/34 [00:05<00:00,  5.78it/s]\n"
     ]
    },
    {
     "name": "stdout",
     "output_type": "stream",
     "text": [
      "Epoch 3/45 | Train Loss: 3.5232 | Test Loss: 3.5190 | Accuracy: 64.68% | GPU Memory (Alloc/Reserved): 0.33/1.85 GB\n"
     ]
    },
    {
     "name": "stderr",
     "output_type": "stream",
     "text": [
      "Train epoch: 4: 100%|██████████| 59/59 [00:24<00:00,  2.42it/s]\n",
      "Test epoch: 4: 100%|██████████| 34/34 [00:05<00:00,  5.73it/s]\n"
     ]
    },
    {
     "name": "stdout",
     "output_type": "stream",
     "text": [
      "Epoch 4/45 | Train Loss: 3.5197 | Test Loss: 3.5149 | Accuracy: 64.92% | GPU Memory (Alloc/Reserved): 0.33/1.85 GB\n"
     ]
    },
    {
     "name": "stderr",
     "output_type": "stream",
     "text": [
      "Train epoch: 5: 100%|██████████| 59/59 [00:24<00:00,  2.40it/s]\n",
      "Test epoch: 5: 100%|██████████| 34/34 [00:05<00:00,  5.69it/s]\n"
     ]
    },
    {
     "name": "stdout",
     "output_type": "stream",
     "text": [
      "Epoch 5/45 | Train Loss: 3.5251 | Test Loss: 3.5139 | Accuracy: 65.01% | GPU Memory (Alloc/Reserved): 0.33/1.85 GB\n"
     ]
    },
    {
     "name": "stderr",
     "output_type": "stream",
     "text": [
      "Train epoch: 6: 100%|██████████| 59/59 [00:25<00:00,  2.32it/s]\n",
      "Test epoch: 6: 100%|██████████| 34/34 [00:05<00:00,  5.69it/s]\n"
     ]
    },
    {
     "name": "stdout",
     "output_type": "stream",
     "text": [
      "Epoch 6/45 | Train Loss: 3.5260 | Test Loss: 3.5132 | Accuracy: 64.73% | GPU Memory (Alloc/Reserved): 0.33/1.85 GB\n"
     ]
    },
    {
     "name": "stderr",
     "output_type": "stream",
     "text": [
      "Train epoch: 7: 100%|██████████| 59/59 [00:25<00:00,  2.31it/s]\n",
      "Test epoch: 7: 100%|██████████| 34/34 [00:05<00:00,  5.71it/s]\n"
     ]
    },
    {
     "name": "stdout",
     "output_type": "stream",
     "text": [
      "Epoch 7/45 | Train Loss: 3.5224 | Test Loss: 3.5201 | Accuracy: 64.68% | GPU Memory (Alloc/Reserved): 0.33/1.85 GB\n"
     ]
    },
    {
     "name": "stderr",
     "output_type": "stream",
     "text": [
      "Train epoch: 8:  69%|██████▉   | 41/59 [00:19<00:08,  2.11it/s]\n"
     ]
    },
    {
     "ename": "KeyboardInterrupt",
     "evalue": "",
     "output_type": "error",
     "traceback": [
      "\u001B[31m---------------------------------------------------------------------------\u001B[39m",
      "\u001B[31mKeyboardInterrupt\u001B[39m                         Traceback (most recent call last)",
      "\u001B[36mCell\u001B[39m\u001B[36m \u001B[39m\u001B[32mIn[33]\u001B[39m\u001B[32m, line 21\u001B[39m\n\u001B[32m     17\u001B[39m result_2, accuracy_p2 = train_and_test(model=model, optimizer=optimizer_1, criterion=criterion,train_dataloader=train_loader, test_dataloader=test_loader, num_epoch=\u001B[32m30\u001B[39m, device=hardware)\n\u001B[32m     19\u001B[39m model.unfreeze_before_last_block()\n\u001B[32m---> \u001B[39m\u001B[32m21\u001B[39m result_3, accuracy_p3 = \u001B[43mtrain_and_test\u001B[49m\u001B[43m(\u001B[49m\u001B[43mmodel\u001B[49m\u001B[43m=\u001B[49m\u001B[43mmodel\u001B[49m\u001B[43m,\u001B[49m\u001B[43m \u001B[49m\u001B[43moptimizer\u001B[49m\u001B[43m=\u001B[49m\u001B[43moptimizer_1\u001B[49m\u001B[43m,\u001B[49m\u001B[43m \u001B[49m\u001B[43mcriterion\u001B[49m\u001B[43m=\u001B[49m\u001B[43mcriterion\u001B[49m\u001B[43m,\u001B[49m\u001B[43mtrain_dataloader\u001B[49m\u001B[43m=\u001B[49m\u001B[43mtrain_loader\u001B[49m\u001B[43m,\u001B[49m\u001B[43m \u001B[49m\u001B[43mtest_dataloader\u001B[49m\u001B[43m=\u001B[49m\u001B[43mtest_loader\u001B[49m\u001B[43m,\u001B[49m\u001B[43m \u001B[49m\u001B[43mnum_epoch\u001B[49m\u001B[43m=\u001B[49m\u001B[32;43m45\u001B[39;49m\u001B[43m,\u001B[49m\u001B[43m \u001B[49m\u001B[43mdevice\u001B[49m\u001B[43m=\u001B[49m\u001B[43mhardware\u001B[49m\u001B[43m)\u001B[49m\n\u001B[32m     22\u001B[39m \u001B[38;5;66;03m# \u001B[39;00m\n\u001B[32m     23\u001B[39m \u001B[38;5;66;03m# model.unfreeze_third_last_inverse_residual()\u001B[39;00m\n\u001B[32m     24\u001B[39m \u001B[38;5;66;03m# \u001B[39;00m\n\u001B[32m   (...)\u001B[39m\u001B[32m     36\u001B[39m \u001B[38;5;66;03m# \u001B[39;00m\n\u001B[32m     37\u001B[39m \u001B[38;5;66;03m# result_7, accuracy_p7 = train_and_test(model=model, optimizer=optimizer_1, criterion=criterion,train_dataloader=train_loader, test_dataloader=test_loader, num_epoch=75, device=hardware)\u001B[39;00m\n\u001B[32m     39\u001B[39m plot_training_result(result_1, result_2, result_3)\n",
      "\u001B[36mCell\u001B[39m\u001B[36m \u001B[39m\u001B[32mIn[25]\u001B[39m\u001B[32m, line 21\u001B[39m, in \u001B[36mtrain_and_test\u001B[39m\u001B[34m(model, optimizer, criterion, train_dataloader, test_dataloader, num_epoch, device)\u001B[39m\n\u001B[32m     19\u001B[39m     loss.backward()\n\u001B[32m     20\u001B[39m     optimizer.step()\n\u001B[32m---> \u001B[39m\u001B[32m21\u001B[39m     running_train_loss += \u001B[43mloss\u001B[49m\u001B[43m.\u001B[49m\u001B[43mitem\u001B[49m\u001B[43m(\u001B[49m\u001B[43m)\u001B[49m\n\u001B[32m     22\u001B[39m training_loss = running_train_loss / \u001B[38;5;28mlen\u001B[39m(train_dataloader)\n\u001B[32m     23\u001B[39m train_losses.append(training_loss)\n",
      "\u001B[31mKeyboardInterrupt\u001B[39m: "
     ]
    }
   ],
   "execution_count": 33
  },
  {
   "metadata": {
    "ExecuteTime": {
     "end_time": "2025-08-13T06:36:07.317893Z",
     "start_time": "2025-08-13T06:36:07.011542Z"
    }
   },
   "cell_type": "code",
   "source": [
    "from sklearn.metrics import classification_report, confusion_matrix, accuracy_score\n",
    "\n",
    "def eval_metrics(model, testLoader, classes_names, device):\n",
    "\n",
    "    model.to(device)\n",
    "    model.eval()\n",
    "\n",
    "    total_predictions = []\n",
    "    true_labels = []\n",
    "\n",
    "    with torch.no_grad():\n",
    "\n",
    "        for input, labels in tqdm(testLoader):\n",
    "            input, labels = input.to(device), labels.to(device)\n",
    "\n",
    "            output = model(input, labels=None)\n",
    "            _, predicted = torch.max(output, 1)\n",
    "\n",
    "            total_predictions.extend(predicted.cpu().numpy())\n",
    "            true_labels.extend(labels.cpu().numpy())\n",
    "\n",
    "\n",
    "    y_true = np.array(true_labels)\n",
    "    y_pred = np.array(total_predictions)\n",
    "\n",
    "    print('Classification Report')\n",
    "    report = classification_report(y_true, y_pred, target_names=classes_names)\n",
    "\n",
    "    print(f\"\\nAccuracy: {accuracy_score(y_true, y_pred)*100:.2f}%\\n\")\n",
    "\n",
    "    print('Confusion Matrix')\n",
    "\n",
    "    matrix = confusion_matrix(y_true, y_pred)\n",
    "\n",
    "    cm_df = pd.DataFrame(matrix, index=classes_names, columns=classes_names)\n",
    "\n",
    "    plt.figure(figsize=(10, 8))\n",
    "    sns.heatmap(cm_df, annot=True, fmt='g', cmap='Blues')\n",
    "    plt.title('Confusion Matrix')\n",
    "    plt.ylabel('Actual pests')\n",
    "    plt.xlabel('Predicted pests')\n",
    "    plt.show()\n",
    "\n",
    "    return y_true, y_pred\n",
    "\n",
    "def save_evalution_result(total_predictions, true_labels):\n",
    "\n",
    "    data = pd.DataFrame({\n",
    "        'True Labels': true_labels,\n",
    "        'Predicted Labels': total_predictions\n",
    "    })\n",
    "\n",
    "    data.to_csv('evalution_result.csv', index=False)\n"
   ],
   "id": "893ae8139aab8631",
   "outputs": [],
   "execution_count": 14
  },
  {
   "metadata": {
    "ExecuteTime": {
     "end_time": "2025-08-12T11:56:43.354087Z",
     "start_time": "2025-08-12T11:56:43.346590Z"
    }
   },
   "cell_type": "code",
   "source": [
    "y_true = [0, 1, 2, 2, 2]\n",
    "y_pred = [0, 0, 2, 2, 1]\n",
    "target_names = ['class 0', 'class 1', 'class 2']\n",
    "print(classification_report(y_true, y_pred, target_names=target_names))"
   ],
   "id": "5456aec392bac068",
   "outputs": [
    {
     "name": "stdout",
     "output_type": "stream",
     "text": [
      "              precision    recall  f1-score   support\n",
      "\n",
      "     class 0       0.50      1.00      0.67         1\n",
      "     class 1       0.00      0.00      0.00         1\n",
      "     class 2       1.00      0.67      0.80         3\n",
      "\n",
      "    accuracy                           0.60         5\n",
      "   macro avg       0.50      0.56      0.49         5\n",
      "weighted avg       0.70      0.60      0.61         5\n",
      "\n"
     ]
    }
   ],
   "execution_count": 22
  },
  {
   "metadata": {},
   "cell_type": "markdown",
   "source": "<h2> Prediction comparison </h2>",
   "id": "82bc87a5ce8f9a1d"
  },
  {
   "metadata": {
    "ExecuteTime": {
     "end_time": "2025-08-13T03:44:54.977233Z",
     "start_time": "2025-08-13T03:44:51.855246Z"
    }
   },
   "cell_type": "code",
   "source": [
    "import torchvision.models as models\n",
    "\n",
    "classes_names = train_set.classes\n",
    "hardware = torch.device('cuda' if torch.cuda.is_available() else 'cpu')\n",
    "model_inference = PestClassifierMobileNetV2(num_classes=len(classes_names), margin=4)\n",
    "model_inference.load_state_dict(torch.load('models/v2/Advance/MobileNetV2_rice_pest_classificationV5.pt', map_location=hardware))\n",
    "image_path =  'unrelated_data/505539566_1652348148735403_5558773441732726122_n.jpg'\n",
    "\n",
    "pest, confidence_score, all_scores = predict_single_image(model=model_inference, image_path=image_path, classes=classes_names, transform=validation_pipeline, device=hardware)\n",
    "\n",
    "print(f\"The predicted pest is: {pest}\")\n",
    "print(f\"Confidence: {confidence_score * 100:.2f}%\")\n",
    "print(f\"Confidence scores: {all_scores}\")\n",
    "\n",
    "\n",
    "true, pred = eval_metrics(model_inference, validation_loader, classes_names, hardware)\n",
    "#\n",
    "# save_evalution_result(true, pred)"
   ],
   "id": "70fc048993a81d19",
   "outputs": [
    {
     "name": "stdout",
     "output_type": "stream",
     "text": [
      "The predicted pest is: brown-planthopper\n",
      "Confidence: 33.28%\n",
      "Confidence scores: [0.33277857 0.14075886 0.07072055 0.1849998  0.1341339  0.13660832]\n"
     ]
    },
    {
     "name": "stderr",
     "output_type": "stream",
     "text": [
      "100%|██████████| 34/34 [00:02<00:00, 13.01it/s]\n"
     ]
    },
    {
     "name": "stdout",
     "output_type": "stream",
     "text": [
      "Classification Report\n",
      "\n",
      "Accuracy: 82.59%\n",
      "\n",
      "Confusion Matrix\n"
     ]
    },
    {
     "data": {
      "text/plain": [
       "<Figure size 1000x800 with 2 Axes>"
      ],
      "image/png": "[encoded data removed]"
     },
     "metadata": {},
     "output_type": "display_data"
    }
   ],
   "execution_count": 18
  },
  {
   "metadata": {
    "ExecuteTime": {
     "end_time": "2025-08-13T03:54:01.759883Z",
     "start_time": "2025-08-13T03:53:58.625473Z"
    }
   },
   "cell_type": "code",
   "source": [
    "import torchvision.models as models\n",
    "\n",
    "classes_names = train_set.classes\n",
    "hardware = torch.device('cuda' if torch.cuda.is_available() else 'cpu')\n",
    "model_inference = PestClassifierMobileNetV2(num_classes=len(classes_names), margin=3)\n",
    "model_inference.load_state_dict(torch.load('experiment_models/MobileNetV2_rice_pest_classificationV6.pt', map_location=hardware))\n",
    "image_unrelated =  'unrelated_data/dog.jpg'\n",
    "image_path = 'datasets/val/green-leafhopper/GREEN-LEAFHOPPERS_original_69541-jpg_fc970f6c-e295-4540-9507-bdf1e9114fc5_jpg.rf.66c68101b214608da1a9ac1c9e5a0b1b.jpg'\n",
    "\n",
    "pest, confidence_score, all_scores = predict_single_image(model=model_inference, image_path=image_path, classes=classes_names, transform=validation_pipeline, device=hardware)\n",
    "\n",
    "print(f\"The predicted pest is: {pest}\")\n",
    "print(f\"Confidence: {confidence_score * 100:.2f}%\")\n",
    "print(f\"Confidence scores: {all_scores}\")\n",
    "\n",
    "true, pred = eval_metrics(model_inference, validation_loader, classes_names, hardware)\n"
   ],
   "id": "6e0a8777e5ce74c5",
   "outputs": [
    {
     "name": "stdout",
     "output_type": "stream",
     "text": [
      "The predicted pest is: green-leafhopper\n",
      "Confidence: 35.89%\n",
      "Confidence scores: [0.14066115 0.3589308  0.0852148  0.13840777 0.13983408 0.1369514 ]\n"
     ]
    },
    {
     "name": "stderr",
     "output_type": "stream",
     "text": [
      "100%|██████████| 34/34 [00:02<00:00, 13.23it/s]"
     ]
    },
    {
     "name": "stdout",
     "output_type": "stream",
     "text": [
      "Classification Report\n",
      "\n",
      "Accuracy: 82.87%\n",
      "\n",
      "Confusion Matrix\n"
     ]
    },
    {
     "name": "stderr",
     "output_type": "stream",
     "text": [
      "\n"
     ]
    },
    {
     "data": {
      "text/plain": [
       "<Figure size 1000x800 with 2 Axes>"
      ],
      "image/png": "[encoded data removed]"
     },
     "metadata": {},
     "output_type": "display_data"
    }
   ],
   "execution_count": 34
  },
  {
   "metadata": {
    "ExecuteTime": {
     "end_time": "2025-08-13T08:08:17.353532Z",
     "start_time": "2025-08-13T08:08:16.911617Z"
    }
   },
   "cell_type": "code",
   "source": [
    "import torchvision.models as models\n",
    "\n",
    "classes_names = train_set.classes\n",
    "hardware = torch.device('cuda' if torch.cuda.is_available() else 'cpu')\n",
    "model_inference = PestClassifierMobileNetV2(num_classes=len(classes_names), margin=3)\n",
    "model_inference.load_state_dict(torch.load('experiment_models/MobileNetV2_rice_pest_classificationV6.pt', map_location=hardware))\n",
    "image_unrelated =  'unrelated_data/522195740_1082374587297150_2426477586868291111_n.jpg'\n",
    "image_path = 'datasets/val/stem-borer/STEM-BORER_original_sborer--5--jpg_0f6ca551-ff03-4c1c-869a-33da425cbdcc_jpg.rf.86c6fe525ae28a8cea5ac4ab4fc5ac44.jpg'\n",
    "\n",
    "pest, confidence_score, all_scores = predict_single_image(model=model_inference, image_path=image_path, classes=classes_names, transform=validation_pipeline, device=hardware)\n",
    "\n",
    "print(f\"The predicted pest is: {pest}\")\n",
    "print(f\"Confidence: {confidence_score * 100:.2f}%\")\n",
    "print(f\"Confidence scores: {all_scores}\")\n",
    "\n",
    "# true, pred = eval_metrics(model_inference, validation_loader, classes_names, hardware)\n"
   ],
   "id": "1b5249d021b2e1ea",
   "outputs": [
    {
     "name": "stdout",
     "output_type": "stream",
     "text": [
      "The predicted pest is: stem-borer\n",
      "Confidence: 36.94%\n",
      "Confidence scores: [0.13525617 0.13535187 0.09212206 0.13523363 0.3693708  0.13266547]\n"
     ]
    }
   ],
   "execution_count": 44
  },
  {
   "metadata": {},
   "cell_type": "code",
   "source": "print(model.features[0])",
   "id": "addb634cef4616cb",
   "outputs": [],
   "execution_count": null
  },
  {
   "metadata": {
    "ExecuteTime": {
     "end_time": "2025-08-07T18:14:58.759161Z",
     "start_time": "2025-08-07T18:14:58.703241Z"
    }
   },
   "cell_type": "code",
   "source": [
    "model = models.mobilenet_v2(weights='MobileNet_V2_Weights.IMAGENET1K_V2')\n",
    "\n",
    "# print(model.classifier[1])\n",
    "print(model.features[-1])\n",
    "print(\"qweqwe\")\n",
    "print(model.features[-2])\n",
    "print(\"asdasd\")\n",
    "\n",
    "print(model.parameters)"
   ],
   "id": "27a5d55f61892fa",
   "outputs": [
    {
     "name": "stdout",
     "output_type": "stream",
     "text": [
      "Conv2dNormActivation(\n",
      "  (0): Conv2d(320, 1280, kernel_size=(1, 1), stride=(1, 1), bias=False)\n",
      "  (1): BatchNorm2d(1280, eps=1e-05, momentum=0.1, affine=True, track_running_stats=True)\n",
      "  (2): ReLU6(inplace=True)\n",
      ")\n",
      "qweqwe\n",
      "InvertedResidual(\n",
      "  (conv): Sequential(\n",
      "    (0): Conv2dNormActivation(\n",
      "      (0): Conv2d(160, 960, kernel_size=(1, 1), stride=(1, 1), bias=False)\n",
      "      (1): BatchNorm2d(960, eps=1e-05, momentum=0.1, affine=True, track_running_stats=True)\n",
      "      (2): ReLU6(inplace=True)\n",
      "    )\n",
      "    (1): Conv2dNormActivation(\n",
      "      (0): Conv2d(960, 960, kernel_size=(3, 3), stride=(1, 1), padding=(1, 1), groups=960, bias=False)\n",
      "      (1): BatchNorm2d(960, eps=1e-05, momentum=0.1, affine=True, track_running_stats=True)\n",
      "      (2): ReLU6(inplace=True)\n",
      "    )\n",
      "    (2): Conv2d(960, 320, kernel_size=(1, 1), stride=(1, 1), bias=False)\n",
      "    (3): BatchNorm2d(320, eps=1e-05, momentum=0.1, affine=True, track_running_stats=True)\n",
      "  )\n",
      ")\n",
      "asdasd\n",
      "<bound method Module.parameters of MobileNetV2(\n",
      "  (features): Sequential(\n",
      "    (0): Conv2dNormActivation(\n",
      "      (0): Conv2d(3, 32, kernel_size=(3, 3), stride=(2, 2), padding=(1, 1), bias=False)\n",
      "      (1): BatchNorm2d(32, eps=1e-05, momentum=0.1, affine=True, track_running_stats=True)\n",
      "      (2): ReLU6(inplace=True)\n",
      "    )\n",
      "    (1): InvertedResidual(\n",
      "      (conv): Sequential(\n",
      "        (0): Conv2dNormActivation(\n",
      "          (0): Conv2d(32, 32, kernel_size=(3, 3), stride=(1, 1), padding=(1, 1), groups=32, bias=False)\n",
      "          (1): BatchNorm2d(32, eps=1e-05, momentum=0.1, affine=True, track_running_stats=True)\n",
      "          (2): ReLU6(inplace=True)\n",
      "        )\n",
      "        (1): Conv2d(32, 16, kernel_size=(1, 1), stride=(1, 1), bias=False)\n",
      "        (2): BatchNorm2d(16, eps=1e-05, momentum=0.1, affine=True, track_running_stats=True)\n",
      "      )\n",
      "    )\n",
      "    (2): InvertedResidual(\n",
      "      (conv): Sequential(\n",
      "        (0): Conv2dNormActivation(\n",
      "          (0): Conv2d(16, 96, kernel_size=(1, 1), stride=(1, 1), bias=False)\n",
      "          (1): BatchNorm2d(96, eps=1e-05, momentum=0.1, affine=True, track_running_stats=True)\n",
      "          (2): ReLU6(inplace=True)\n",
      "        )\n",
      "        (1): Conv2dNormActivation(\n",
      "          (0): Conv2d(96, 96, kernel_size=(3, 3), stride=(2, 2), padding=(1, 1), groups=96, bias=False)\n",
      "          (1): BatchNorm2d(96, eps=1e-05, momentum=0.1, affine=True, track_running_stats=True)\n",
      "          (2): ReLU6(inplace=True)\n",
      "        )\n",
      "        (2): Conv2d(96, 24, kernel_size=(1, 1), stride=(1, 1), bias=False)\n",
      "        (3): BatchNorm2d(24, eps=1e-05, momentum=0.1, affine=True, track_running_stats=True)\n",
      "      )\n",
      "    )\n",
      "    (3): InvertedResidual(\n",
      "      (conv): Sequential(\n",
      "        (0): Conv2dNormActivation(\n",
      "          (0): Conv2d(24, 144, kernel_size=(1, 1), stride=(1, 1), bias=False)\n",
      "          (1): BatchNorm2d(144, eps=1e-05, momentum=0.1, affine=True, track_running_stats=True)\n",
      "          (2): ReLU6(inplace=True)\n",
      "        )\n",
      "        (1): Conv2dNormActivation(\n",
      "          (0): Conv2d(144, 144, kernel_size=(3, 3), stride=(1, 1), padding=(1, 1), groups=144, bias=False)\n",
      "          (1): BatchNorm2d(144, eps=1e-05, momentum=0.1, affine=True, track_running_stats=True)\n",
      "          (2): ReLU6(inplace=True)\n",
      "        )\n",
      "        (2): Conv2d(144, 24, kernel_size=(1, 1), stride=(1, 1), bias=False)\n",
      "        (3): BatchNorm2d(24, eps=1e-05, momentum=0.1, affine=True, track_running_stats=True)\n",
      "      )\n",
      "    )\n",
      "    (4): InvertedResidual(\n",
      "      (conv): Sequential(\n",
      "        (0): Conv2dNormActivation(\n",
      "          (0): Conv2d(24, 144, kernel_size=(1, 1), stride=(1, 1), bias=False)\n",
      "          (1): BatchNorm2d(144, eps=1e-05, momentum=0.1, affine=True, track_running_stats=True)\n",
      "          (2): ReLU6(inplace=True)\n",
      "        )\n",
      "        (1): Conv2dNormActivation(\n",
      "          (0): Conv2d(144, 144, kernel_size=(3, 3), stride=(2, 2), padding=(1, 1), groups=144, bias=False)\n",
      "          (1): BatchNorm2d(144, eps=1e-05, momentum=0.1, affine=True, track_running_stats=True)\n",
      "          (2): ReLU6(inplace=True)\n",
      "        )\n",
      "        (2): Conv2d(144, 32, kernel_size=(1, 1), stride=(1, 1), bias=False)\n",
      "        (3): BatchNorm2d(32, eps=1e-05, momentum=0.1, affine=True, track_running_stats=True)\n",
      "      )\n",
      "    )\n",
      "    (5): InvertedResidual(\n",
      "      (conv): Sequential(\n",
      "        (0): Conv2dNormActivation(\n",
      "          (0): Conv2d(32, 192, kernel_size=(1, 1), stride=(1, 1), bias=False)\n",
      "          (1): BatchNorm2d(192, eps=1e-05, momentum=0.1, affine=True, track_running_stats=True)\n",
      "          (2): ReLU6(inplace=True)\n",
      "        )\n",
      "        (1): Conv2dNormActivation(\n",
      "          (0): Conv2d(192, 192, kernel_size=(3, 3), stride=(1, 1), padding=(1, 1), groups=192, bias=False)\n",
      "          (1): BatchNorm2d(192, eps=1e-05, momentum=0.1, affine=True, track_running_stats=True)\n",
      "          (2): ReLU6(inplace=True)\n",
      "        )\n",
      "        (2): Conv2d(192, 32, kernel_size=(1, 1), stride=(1, 1), bias=False)\n",
      "        (3): BatchNorm2d(32, eps=1e-05, momentum=0.1, affine=True, track_running_stats=True)\n",
      "      )\n",
      "    )\n",
      "    (6): InvertedResidual(\n",
      "      (conv): Sequential(\n",
      "        (0): Conv2dNormActivation(\n",
      "          (0): Conv2d(32, 192, kernel_size=(1, 1), stride=(1, 1), bias=False)\n",
      "          (1): BatchNorm2d(192, eps=1e-05, momentum=0.1, affine=True, track_running_stats=True)\n",
      "          (2): ReLU6(inplace=True)\n",
      "        )\n",
      "        (1): Conv2dNormActivation(\n",
      "          (0): Conv2d(192, 192, kernel_size=(3, 3), stride=(1, 1), padding=(1, 1), groups=192, bias=False)\n",
      "          (1): BatchNorm2d(192, eps=1e-05, momentum=0.1, affine=True, track_running_stats=True)\n",
      "          (2): ReLU6(inplace=True)\n",
      "        )\n",
      "        (2): Conv2d(192, 32, kernel_size=(1, 1), stride=(1, 1), bias=False)\n",
      "        (3): BatchNorm2d(32, eps=1e-05, momentum=0.1, affine=True, track_running_stats=True)\n",
      "      )\n",
      "    )\n",
      "    (7): InvertedResidual(\n",
      "      (conv): Sequential(\n",
      "        (0): Conv2dNormActivation(\n",
      "          (0): Conv2d(32, 192, kernel_size=(1, 1), stride=(1, 1), bias=False)\n",
      "          (1): BatchNorm2d(192, eps=1e-05, momentum=0.1, affine=True, track_running_stats=True)\n",
      "          (2): ReLU6(inplace=True)\n",
      "        )\n",
      "        (1): Conv2dNormActivation(\n",
      "          (0): Conv2d(192, 192, kernel_size=(3, 3), stride=(2, 2), padding=(1, 1), groups=192, bias=False)\n",
      "          (1): BatchNorm2d(192, eps=1e-05, momentum=0.1, affine=True, track_running_stats=True)\n",
      "          (2): ReLU6(inplace=True)\n",
      "        )\n",
      "        (2): Conv2d(192, 64, kernel_size=(1, 1), stride=(1, 1), bias=False)\n",
      "        (3): BatchNorm2d(64, eps=1e-05, momentum=0.1, affine=True, track_running_stats=True)\n",
      "      )\n",
      "    )\n",
      "    (8): InvertedResidual(\n",
      "      (conv): Sequential(\n",
      "        (0): Conv2dNormActivation(\n",
      "          (0): Conv2d(64, 384, kernel_size=(1, 1), stride=(1, 1), bias=False)\n",
      "          (1): BatchNorm2d(384, eps=1e-05, momentum=0.1, affine=True, track_running_stats=True)\n",
      "          (2): ReLU6(inplace=True)\n",
      "        )\n",
      "        (1): Conv2dNormActivation(\n",
      "          (0): Conv2d(384, 384, kernel_size=(3, 3), stride=(1, 1), padding=(1, 1), groups=384, bias=False)\n",
      "          (1): BatchNorm2d(384, eps=1e-05, momentum=0.1, affine=True, track_running_stats=True)\n",
      "          (2): ReLU6(inplace=True)\n",
      "        )\n",
      "        (2): Conv2d(384, 64, kernel_size=(1, 1), stride=(1, 1), bias=False)\n",
      "        (3): BatchNorm2d(64, eps=1e-05, momentum=0.1, affine=True, track_running_stats=True)\n",
      "      )\n",
      "    )\n",
      "    (9): InvertedResidual(\n",
      "      (conv): Sequential(\n",
      "        (0): Conv2dNormActivation(\n",
      "          (0): Conv2d(64, 384, kernel_size=(1, 1), stride=(1, 1), bias=False)\n",
      "          (1): BatchNorm2d(384, eps=1e-05, momentum=0.1, affine=True, track_running_stats=True)\n",
      "          (2): ReLU6(inplace=True)\n",
      "        )\n",
      "        (1): Conv2dNormActivation(\n",
      "          (0): Conv2d(384, 384, kernel_size=(3, 3), stride=(1, 1), padding=(1, 1), groups=384, bias=False)\n",
      "          (1): BatchNorm2d(384, eps=1e-05, momentum=0.1, affine=True, track_running_stats=True)\n",
      "          (2): ReLU6(inplace=True)\n",
      "        )\n",
      "        (2): Conv2d(384, 64, kernel_size=(1, 1), stride=(1, 1), bias=False)\n",
      "        (3): BatchNorm2d(64, eps=1e-05, momentum=0.1, affine=True, track_running_stats=True)\n",
      "      )\n",
      "    )\n",
      "    (10): InvertedResidual(\n",
      "      (conv): Sequential(\n",
      "        (0): Conv2dNormActivation(\n",
      "          (0): Conv2d(64, 384, kernel_size=(1, 1), stride=(1, 1), bias=False)\n",
      "          (1): BatchNorm2d(384, eps=1e-05, momentum=0.1, affine=True, track_running_stats=True)\n",
      "          (2): ReLU6(inplace=True)\n",
      "        )\n",
      "        (1): Conv2dNormActivation(\n",
      "          (0): Conv2d(384, 384, kernel_size=(3, 3), stride=(1, 1), padding=(1, 1), groups=384, bias=False)\n",
      "          (1): BatchNorm2d(384, eps=1e-05, momentum=0.1, affine=True, track_running_stats=True)\n",
      "          (2): ReLU6(inplace=True)\n",
      "        )\n",
      "        (2): Conv2d(384, 64, kernel_size=(1, 1), stride=(1, 1), bias=False)\n",
      "        (3): BatchNorm2d(64, eps=1e-05, momentum=0.1, affine=True, track_running_stats=True)\n",
      "      )\n",
      "    )\n",
      "    (11): InvertedResidual(\n",
      "      (conv): Sequential(\n",
      "        (0): Conv2dNormActivation(\n",
      "          (0): Conv2d(64, 384, kernel_size=(1, 1), stride=(1, 1), bias=False)\n",
      "          (1): BatchNorm2d(384, eps=1e-05, momentum=0.1, affine=True, track_running_stats=True)\n",
      "          (2): ReLU6(inplace=True)\n",
      "        )\n",
      "        (1): Conv2dNormActivation(\n",
      "          (0): Conv2d(384, 384, kernel_size=(3, 3), stride=(1, 1), padding=(1, 1), groups=384, bias=False)\n",
      "          (1): BatchNorm2d(384, eps=1e-05, momentum=0.1, affine=True, track_running_stats=True)\n",
      "          (2): ReLU6(inplace=True)\n",
      "        )\n",
      "        (2): Conv2d(384, 96, kernel_size=(1, 1), stride=(1, 1), bias=False)\n",
      "        (3): BatchNorm2d(96, eps=1e-05, momentum=0.1, affine=True, track_running_stats=True)\n",
      "      )\n",
      "    )\n",
      "    (12): InvertedResidual(\n",
      "      (conv): Sequential(\n",
      "        (0): Conv2dNormActivation(\n",
      "          (0): Conv2d(96, 576, kernel_size=(1, 1), stride=(1, 1), bias=False)\n",
      "          (1): BatchNorm2d(576, eps=1e-05, momentum=0.1, affine=True, track_running_stats=True)\n",
      "          (2): ReLU6(inplace=True)\n",
      "        )\n",
      "        (1): Conv2dNormActivation(\n",
      "          (0): Conv2d(576, 576, kernel_size=(3, 3), stride=(1, 1), padding=(1, 1), groups=576, bias=False)\n",
      "          (1): BatchNorm2d(576, eps=1e-05, momentum=0.1, affine=True, track_running_stats=True)\n",
      "          (2): ReLU6(inplace=True)\n",
      "        )\n",
      "        (2): Conv2d(576, 96, kernel_size=(1, 1), stride=(1, 1), bias=False)\n",
      "        (3): BatchNorm2d(96, eps=1e-05, momentum=0.1, affine=True, track_running_stats=True)\n",
      "      )\n",
      "    )\n",
      "    (13): InvertedResidual(\n",
      "      (conv): Sequential(\n",
      "        (0): Conv2dNormActivation(\n",
      "          (0): Conv2d(96, 576, kernel_size=(1, 1), stride=(1, 1), bias=False)\n",
      "          (1): BatchNorm2d(576, eps=1e-05, momentum=0.1, affine=True, track_running_stats=True)\n",
      "          (2): ReLU6(inplace=True)\n",
      "        )\n",
      "        (1): Conv2dNormActivation(\n",
      "          (0): Conv2d(576, 576, kernel_size=(3, 3), stride=(1, 1), padding=(1, 1), groups=576, bias=False)\n",
      "          (1): BatchNorm2d(576, eps=1e-05, momentum=0.1, affine=True, track_running_stats=True)\n",
      "          (2): ReLU6(inplace=True)\n",
      "        )\n",
      "        (2): Conv2d(576, 96, kernel_size=(1, 1), stride=(1, 1), bias=False)\n",
      "        (3): BatchNorm2d(96, eps=1e-05, momentum=0.1, affine=True, track_running_stats=True)\n",
      "      )\n",
      "    )\n",
      "    (14): InvertedResidual(\n",
      "      (conv): Sequential(\n",
      "        (0): Conv2dNormActivation(\n",
      "          (0): Conv2d(96, 576, kernel_size=(1, 1), stride=(1, 1), bias=False)\n",
      "          (1): BatchNorm2d(576, eps=1e-05, momentum=0.1, affine=True, track_running_stats=True)\n",
      "          (2): ReLU6(inplace=True)\n",
      "        )\n",
      "        (1): Conv2dNormActivation(\n",
      "          (0): Conv2d(576, 576, kernel_size=(3, 3), stride=(2, 2), padding=(1, 1), groups=576, bias=False)\n",
      "          (1): BatchNorm2d(576, eps=1e-05, momentum=0.1, affine=True, track_running_stats=True)\n",
      "          (2): ReLU6(inplace=True)\n",
      "        )\n",
      "        (2): Conv2d(576, 160, kernel_size=(1, 1), stride=(1, 1), bias=False)\n",
      "        (3): BatchNorm2d(160, eps=1e-05, momentum=0.1, affine=True, track_running_stats=True)\n",
      "      )\n",
      "    )\n",
      "    (15): InvertedResidual(\n",
      "      (conv): Sequential(\n",
      "        (0): Conv2dNormActivation(\n",
      "          (0): Conv2d(160, 960, kernel_size=(1, 1), stride=(1, 1), bias=False)\n",
      "          (1): BatchNorm2d(960, eps=1e-05, momentum=0.1, affine=True, track_running_stats=True)\n",
      "          (2): ReLU6(inplace=True)\n",
      "        )\n",
      "        (1): Conv2dNormActivation(\n",
      "          (0): Conv2d(960, 960, kernel_size=(3, 3), stride=(1, 1), padding=(1, 1), groups=960, bias=False)\n",
      "          (1): BatchNorm2d(960, eps=1e-05, momentum=0.1, affine=True, track_running_stats=True)\n",
      "          (2): ReLU6(inplace=True)\n",
      "        )\n",
      "        (2): Conv2d(960, 160, kernel_size=(1, 1), stride=(1, 1), bias=False)\n",
      "        (3): BatchNorm2d(160, eps=1e-05, momentum=0.1, affine=True, track_running_stats=True)\n",
      "      )\n",
      "    )\n",
      "    (16): InvertedResidual(\n",
      "      (conv): Sequential(\n",
      "        (0): Conv2dNormActivation(\n",
      "          (0): Conv2d(160, 960, kernel_size=(1, 1), stride=(1, 1), bias=False)\n",
      "          (1): BatchNorm2d(960, eps=1e-05, momentum=0.1, affine=True, track_running_stats=True)\n",
      "          (2): ReLU6(inplace=True)\n",
      "        )\n",
      "        (1): Conv2dNormActivation(\n",
      "          (0): Conv2d(960, 960, kernel_size=(3, 3), stride=(1, 1), padding=(1, 1), groups=960, bias=False)\n",
      "          (1): BatchNorm2d(960, eps=1e-05, momentum=0.1, affine=True, track_running_stats=True)\n",
      "          (2): ReLU6(inplace=True)\n",
      "        )\n",
      "        (2): Conv2d(960, 160, kernel_size=(1, 1), stride=(1, 1), bias=False)\n",
      "        (3): BatchNorm2d(160, eps=1e-05, momentum=0.1, affine=True, track_running_stats=True)\n",
      "      )\n",
      "    )\n",
      "    (17): InvertedResidual(\n",
      "      (conv): Sequential(\n",
      "        (0): Conv2dNormActivation(\n",
      "          (0): Conv2d(160, 960, kernel_size=(1, 1), stride=(1, 1), bias=False)\n",
      "          (1): BatchNorm2d(960, eps=1e-05, momentum=0.1, affine=True, track_running_stats=True)\n",
      "          (2): ReLU6(inplace=True)\n",
      "        )\n",
      "        (1): Conv2dNormActivation(\n",
      "          (0): Conv2d(960, 960, kernel_size=(3, 3), stride=(1, 1), padding=(1, 1), groups=960, bias=False)\n",
      "          (1): BatchNorm2d(960, eps=1e-05, momentum=0.1, affine=True, track_running_stats=True)\n",
      "          (2): ReLU6(inplace=True)\n",
      "        )\n",
      "        (2): Conv2d(960, 320, kernel_size=(1, 1), stride=(1, 1), bias=False)\n",
      "        (3): BatchNorm2d(320, eps=1e-05, momentum=0.1, affine=True, track_running_stats=True)\n",
      "      )\n",
      "    )\n",
      "    (18): Conv2dNormActivation(\n",
      "      (0): Conv2d(320, 1280, kernel_size=(1, 1), stride=(1, 1), bias=False)\n",
      "      (1): BatchNorm2d(1280, eps=1e-05, momentum=0.1, affine=True, track_running_stats=True)\n",
      "      (2): ReLU6(inplace=True)\n",
      "    )\n",
      "  )\n",
      "  (classifier): Sequential(\n",
      "    (0): Dropout(p=0.2, inplace=False)\n",
      "    (1): Linear(in_features=1280, out_features=1000, bias=True)\n",
      "  )\n",
      ")>\n"
     ]
    }
   ],
   "execution_count": 94
  },
  {
   "metadata": {},
   "cell_type": "markdown",
   "source": "",
   "id": "a7a868f46341306f"
  }
 ],
 "metadata": {
  "kernelspec": {
   "display_name": "Python 3",
   "language": "python",
   "name": "python3"
  },
  "language_info": {
   "codemirror_mode": {
    "name": "ipython",
    "version": 2
   },
   "file_extension": ".py",
   "mimetype": "text/x-python",
   "name": "python",
   "nbconvert_exporter": "python",
   "pygments_lexer": "ipython2",
   "version": "2.7.6"
  }
 },
 "nbformat": 4,
 "nbformat_minor": 5
}
